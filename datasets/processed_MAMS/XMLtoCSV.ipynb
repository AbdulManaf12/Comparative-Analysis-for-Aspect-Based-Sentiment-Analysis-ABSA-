{
 "cells": [
  {
   "cell_type": "code",
   "execution_count": 8,
   "metadata": {},
   "outputs": [],
   "source": [
    "import xml.etree.ElementTree as ET\n",
    "import csv\n"
   ]
  },
  {
   "cell_type": "markdown",
   "metadata": {},
   "source": [
    "\n",
    "# Function to parse the XML and extract data"
   ]
  },
  {
   "cell_type": "code",
   "execution_count": 9,
   "metadata": {},
   "outputs": [],
   "source": [
    "\n",
    "def parse_xml(xml_file):\n",
    "    tree = ET.parse(xml_file)\n",
    "    root = tree.getroot()\n",
    "    data = []\n",
    "    for sentence in root.findall('sentence'):\n",
    "        text = sentence.find('text').text.strip()\n",
    "        for aspectCategory in sentence.findall('aspectCategories/aspectCategory'):\n",
    "            category = aspectCategory.get('category')\n",
    "            polarity = aspectCategory.get('polarity')\n",
    "            data.append([text, category, polarity])\n",
    "    return data\n",
    "\n",
    "# Path to your XML file\n",
    "xml_file_path = \"C:/Users/Nimra/OneDrive/ABSA work/Datasets/MAMS-for-ABSA-master/data/MAMS-ACSA/raw/val.xml\"\n",
    "\n",
    "# Parse the XML data from the file\n",
    "parsed_data = parse_xml(xml_file_path)\n"
   ]
  },
  {
   "cell_type": "markdown",
   "metadata": {},
   "source": [
    "# Save data to CSV"
   ]
  },
  {
   "cell_type": "code",
   "execution_count": 10,
   "metadata": {},
   "outputs": [
    {
     "name": "stdout",
     "output_type": "stream",
     "text": [
      "CSV file saved successfully.\n"
     ]
    }
   ],
   "source": [
    "path = \"processed_MAMS/\"\n",
    "csv_file=path+\"ACSA_val.csv\"\n",
    "with open(csv_file, 'w', newline='', encoding='utf-8') as file:\n",
    "    writer = csv.writer(file)\n",
    "    writer.writerow(['sentence', 'aspect_category', 'polarity'])\n",
    "    writer.writerows(parsed_data)\n",
    "\n",
    "print(\"CSV file saved successfully.\")\n"
   ]
  },
  {
   "cell_type": "code",
   "execution_count": null,
   "metadata": {},
   "outputs": [],
   "source": []
  }
 ],
 "metadata": {
  "kernelspec": {
   "display_name": "Python 3",
   "language": "python",
   "name": "python3"
  },
  "language_info": {
   "codemirror_mode": {
    "name": "ipython",
    "version": 3
   },
   "file_extension": ".py",
   "mimetype": "text/x-python",
   "name": "python",
   "nbconvert_exporter": "python",
   "pygments_lexer": "ipython3",
   "version": "3.9.13"
  },
  "orig_nbformat": 4
 },
 "nbformat": 4,
 "nbformat_minor": 2
}
