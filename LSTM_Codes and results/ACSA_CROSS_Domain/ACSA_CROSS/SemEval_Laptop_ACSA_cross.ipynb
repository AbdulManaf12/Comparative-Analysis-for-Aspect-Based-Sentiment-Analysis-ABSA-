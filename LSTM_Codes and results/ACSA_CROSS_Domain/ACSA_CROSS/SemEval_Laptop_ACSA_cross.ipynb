{
  "nbformat": 4,
  "nbformat_minor": 0,
  "metadata": {
    "colab": {
      "provenance": [],
      "toc_visible": true,
      "gpuType": "T4"
    },
    "kernelspec": {
      "name": "python3",
      "display_name": "Python 3"
    },
    "language_info": {
      "name": "python"
    },
    "accelerator": "GPU"
  },
  "cells": [
    {
      "cell_type": "code",
      "execution_count": 301,
      "metadata": {
        "colab": {
          "base_uri": "https://localhost:8080/"
        },
        "id": "ee91os0yg7KB",
        "outputId": "ad364208-415a-47aa-cfbf-171b490b1ad8"
      },
      "outputs": [
        {
          "output_type": "stream",
          "name": "stdout",
          "text": [
            "Drive already mounted at /content/drive; to attempt to forcibly remount, call drive.mount(\"/content/drive\", force_remount=True).\n"
          ]
        }
      ],
      "source": [
        "from google.colab import drive\n",
        "drive.mount('/content/drive')"
      ]
    },
    {
      "cell_type": "markdown",
      "source": [
        "## import the required Libraries\n",
        "\n",
        "\n"
      ],
      "metadata": {
        "id": "rN6833U2hbib"
      }
    },
    {
      "cell_type": "code",
      "source": [
        "import os\n",
        "import numpy as np\n",
        "from sklearn.model_selection import train_test_split\n",
        "\n",
        "\n",
        "from keras.models import Model\n",
        "from keras.layers import Input, Embedding, SpatialDropout1D, Dropout, Conv1D, MaxPool1D, Flatten, concatenate, Dense, \\\n",
        "    LSTM, Bidirectional, Activation, MaxPooling1D, Add, GRU, GlobalAveragePooling1D, GlobalMaxPooling1D, RepeatVector, \\\n",
        "    TimeDistributed, Permute, multiply, Lambda, add, Masking, BatchNormalization, Softmax, Reshape, ReLU, \\\n",
        "    ZeroPadding1D, subtract\n",
        "from tensorflow.keras.preprocessing.sequence import pad_sequences\n",
        "from tensorflow.keras.utils import to_categorical\n",
        "from tensorflow.keras.callbacks import Callback, ModelCheckpoint, EarlyStopping\n",
        "import tensorflow.keras.backend as K\n",
        "import tensorflow as tf\n",
        "from keras import backend as K, initializers, regularizers, constraints\n",
        "\n",
        "\n",
        "# Import our dependencies\n",
        "import tensorflow as tf\n",
        "import pandas as pd\n",
        "import tensorflow_hub as hub\n",
        "import os\n",
        "import re\n",
        "from keras import backend as K\n",
        "import keras.layers as layers\n",
        "from keras.models import Model, load_model\n",
        "from tensorflow.keras.layers import Layer, InputSpec\n",
        "import numpy as np\n",
        "\n",
        "from statistics import mode\n",
        "\n",
        "import numpy as np # linear algebra\n",
        "import pandas as pd # data processing, CSV file I/O (e.g. pd.read_csv)\n",
        "import matplotlib\n",
        "import matplotlib.pyplot as plt\n",
        "import nltk\n",
        "import seaborn as sns\n",
        "from nltk.tokenize import word_tokenize\n",
        "from nltk.corpus import stopwords\n",
        "%matplotlib inline\n",
        "import tensorflow as tf\n",
        "\n",
        "\n",
        "# Then what you need from tensorflow.keras\n",
        "from tensorflow.keras.layers import Input, Dropout, Dense, GlobalAveragePooling1D\n",
        "from tensorflow.keras.callbacks import ReduceLROnPlateau\n",
        "from tensorflow.keras.models import Model\n",
        "from tensorflow.keras.optimizers import Adam\n",
        "from tensorflow.keras.callbacks import EarlyStopping\n",
        "from tensorflow.keras.initializers import TruncatedNormal\n",
        "from tensorflow.keras.losses import CategoricalCrossentropy\n",
        "from tensorflow.keras.metrics import CategoricalAccuracy\n",
        "from tensorflow.keras.utils import to_categorical\n",
        "from sklearn.model_selection import train_test_split\n",
        "\n",
        "from tensorflow.python.keras import backend as K\n",
        "from tensorflow.python.keras.metrics import Metric\n",
        "from tensorflow.python.keras.utils import metrics_utils\n",
        "from tensorflow.python.ops import init_ops\n",
        "from tensorflow.python.ops import math_ops\n",
        "from tensorflow.python.keras.utils.generic_utils import to_list\n",
        "import tensorflow_hub as hub\n",
        "\n",
        "\n",
        "\n",
        "import re\n",
        "import nltk\n",
        "from nltk.corpus import stopwords\n",
        "\n",
        "# neural\n",
        "from keras.preprocessing.text import Tokenizer\n",
        "from keras.utils import pad_sequences\n",
        "from keras.layers import Dense, LSTM, Embedding, Dropout\n",
        "from keras.layers import Bidirectional, GlobalMaxPool1D\n",
        "from keras.models import Model, Sequential\n",
        "\n",
        "#Metrics\n",
        "from sklearn.metrics import balanced_accuracy_score\n",
        "\n",
        "from sklearn.feature_extraction.text import TfidfVectorizer\n",
        "from mlxtend.plotting import plot_confusion_matrix\n",
        "from sklearn.tree import DecisionTreeClassifier\n",
        "from sklearn.metrics import classification_report,confusion_matrix,accuracy_score\n",
        "from sklearn.linear_model import LogisticRegression,SGDClassifier\n",
        "from sklearn.naive_bayes import MultinomialNB\n",
        "from sklearn.ensemble import RandomForestClassifier,GradientBoostingClassifier,AdaBoostClassifier,ExtraTreesClassifier"
      ],
      "metadata": {
        "id": "VJwPUlA7hck3"
      },
      "execution_count": 302,
      "outputs": []
    },
    {
      "cell_type": "markdown",
      "source": [
        "##LOAD THE SEMEVAL LAPTOP DATASET\n"
      ],
      "metadata": {
        "id": "uOcr2YZVhsQA"
      }
    },
    {
      "cell_type": "code",
      "source": [
        "df_train = pd.read_csv(\"/content/drive/MyDrive/ABSA work/codes/processed_SemEval2016/laptops_train_single.csv\", encoding='utf8')"
      ],
      "metadata": {
        "id": "2XqJufHPhhFi"
      },
      "execution_count": 303,
      "outputs": []
    },
    {
      "cell_type": "code",
      "source": [
        "df2_train, df2_val = train_test_split(df_train, test_size=0.2, random_state=42)\n"
      ],
      "metadata": {
        "id": "34ZIQXa5hRSY"
      },
      "execution_count": 304,
      "outputs": []
    },
    {
      "cell_type": "code",
      "source": [
        "df2_test = pd.read_csv(\"/content/drive/MyDrive/ABSA work/codes/processed_SemEval2016/laptops_test_single.csv\", encoding='utf8')"
      ],
      "metadata": {
        "id": "t96fErRfhjxf"
      },
      "execution_count": 305,
      "outputs": []
    },
    {
      "cell_type": "code",
      "source": [
        "#df2_val = pd.read_csv(\"/content/drive/MyDrive/ABSA work/codes/processed_Sentihood/sentihood_dev_single.csv\", encoding='utf8')"
      ],
      "metadata": {
        "id": "U7eJXnovhmFK"
      },
      "execution_count": 306,
      "outputs": []
    },
    {
      "cell_type": "markdown",
      "source": [
        "##PREPROCESSING"
      ],
      "metadata": {
        "id": "0sUiVXCLhu02"
      }
    },
    {
      "cell_type": "code",
      "source": [
        "df2_test['aspect_category'] = df2_test['aspect_category'].str.replace('#', ' ')\n",
        "df2_train['aspect_category'] = df2_train['aspect_category'].str.replace('#', ' ')\n",
        "df2_val['aspect_category'] = df2_val['aspect_category'].str.replace('#', ' ')"
      ],
      "metadata": {
        "id": "mBChMnOwlZYf"
      },
      "execution_count": 307,
      "outputs": []
    },
    {
      "cell_type": "code",
      "source": [
        "## change the labels to integers for the training phase\n",
        "df2_train['polarity'][df2_train[\"polarity\"] == 'negative'] = 0\n",
        "df2_train['polarity'][df2_train[\"polarity\"] == 'positive'] = 1\n",
        "df2_train['polarity'][df2_train[\"polarity\"] == 'neutral'] = 2\n",
        "\n"
      ],
      "metadata": {
        "id": "Pwb14dYBh7xx"
      },
      "execution_count": 308,
      "outputs": []
    },
    {
      "cell_type": "code",
      "source": [
        "df2_test['polarity'][df2_test[\"polarity\"] == 'negative'] = 0\n",
        "df2_test['polarity'][df2_test[\"polarity\"] == 'positive'] = 1\n",
        "df2_test['polarity'][df2_test[\"polarity\"] == 'neutral'] = 2\n"
      ],
      "metadata": {
        "id": "l2p3fSyJh8zJ"
      },
      "execution_count": 309,
      "outputs": []
    },
    {
      "cell_type": "code",
      "source": [
        "df2_val['polarity'][df2_val[\"polarity\"] == 'negative'] = 0\n",
        "df2_val['polarity'][df2_val[\"polarity\"] == 'positive'] = 1\n",
        "df2_val['polarity'][df2_val[\"polarity\"] == 'neutral'] = 2"
      ],
      "metadata": {
        "id": "xURgPZRiiAdW"
      },
      "execution_count": 310,
      "outputs": []
    },
    {
      "cell_type": "code",
      "source": [
        "train_df = df2_train"
      ],
      "metadata": {
        "id": "0NZq0uMGlsnH"
      },
      "execution_count": 311,
      "outputs": []
    },
    {
      "cell_type": "code",
      "source": [
        "## Convert polarity Values to Integers\n",
        "train_df[\"polarity\"] = pd.to_numeric(train_df[\"polarity\"],errors='coerce')\n"
      ],
      "metadata": {
        "id": "Wk41xykgiHC4"
      },
      "execution_count": 312,
      "outputs": []
    },
    {
      "cell_type": "code",
      "source": [
        "## Split the Dataset into Training and Testing Datasets\n",
        "#X_train, y_train= train_test_split(train_df,train_df['polarity'],stratify=train_df['polarity'])\n",
        "\n",
        "X_train  = train_df\n",
        "y_train = train_df['polarity']"
      ],
      "metadata": {
        "id": "L9sTomgiiMSk"
      },
      "execution_count": 313,
      "outputs": []
    },
    {
      "cell_type": "code",
      "source": [
        "X_test = df2_test"
      ],
      "metadata": {
        "id": "VxmgXbsqicw-"
      },
      "execution_count": 314,
      "outputs": []
    },
    {
      "cell_type": "code",
      "source": [
        "## Convert polarity Values to Integers\n",
        "X_test[\"polarity\"] = pd.to_numeric(X_test[\"polarity\"],errors='coerce')\n"
      ],
      "metadata": {
        "id": "vWXa0l9ViOwI"
      },
      "execution_count": 315,
      "outputs": []
    },
    {
      "cell_type": "code",
      "source": [
        "y_test = X_test[\"polarity\"]"
      ],
      "metadata": {
        "id": "bZyvg_eTijus"
      },
      "execution_count": 316,
      "outputs": []
    },
    {
      "cell_type": "code",
      "source": [
        "X_val = df2_val"
      ],
      "metadata": {
        "id": "n_0SODhjilnO"
      },
      "execution_count": 317,
      "outputs": []
    },
    {
      "cell_type": "code",
      "source": [
        "## Convert polarity Values to Integers\n",
        "X_val[\"polarity\"] = pd.to_numeric(X_val[\"polarity\"],errors='coerce')\n"
      ],
      "metadata": {
        "id": "cETKyJsoimfD"
      },
      "execution_count": 318,
      "outputs": []
    },
    {
      "cell_type": "code",
      "source": [
        "y_val = X_val[\"polarity\"]"
      ],
      "metadata": {
        "id": "hJBkUrx_iqNX"
      },
      "execution_count": 319,
      "outputs": []
    },
    {
      "cell_type": "code",
      "source": [
        "NUM_WORDS = 100000 ## MAx of words to keep, based on word frequency.\n",
        "EMBEDDING_SIZE = 128 ## the length of the Vector the will"
      ],
      "metadata": {
        "id": "OL8gWe4Ni5Ml"
      },
      "execution_count": 320,
      "outputs": []
    },
    {
      "cell_type": "markdown",
      "source": [
        "## Embedding code\n"
      ],
      "metadata": {
        "id": "g5coWjxui8n5"
      }
    },
    {
      "cell_type": "code",
      "source": [
        "tokenizer = Tokenizer(num_words=NUM_WORDS,\n",
        "                      filters='!\"#$%&()*+,-./:;<=>?@[\\\\]^_`{|}~\\t\\n',\n",
        "                      lower=True, )\n",
        "## Fit_on_texts : Updates internal vocabulary based on a list of texts.\n",
        "tokenizer.fit_on_texts(list(X_train.sentence))\n",
        "text_X_train_tokenized = tokenizer.texts_to_sequences(X_train.sentence) # list of tokenized sentences\n",
        "Aspect_X_train_tokenized = tokenizer.texts_to_sequences(X_train['aspect_category']) # list of tokenized sentences\n",
        "text_X_test_tokenized = tokenizer.texts_to_sequences(X_test.sentence) # list of tokenized sentences\n",
        "Aspect_X_test_tokenized = tokenizer.texts_to_sequences(X_test['aspect_category']) # list of tokenized sentences\n",
        "text_X_val_tokenized = tokenizer.texts_to_sequences(X_val.sentence) # list of tokenized sentences\n",
        "Aspect_X_val_tokenized = tokenizer.texts_to_sequences(X_val['aspect_category']) # list of tokenized sentences"
      ],
      "metadata": {
        "id": "kHoNEPohi-J3"
      },
      "execution_count": 321,
      "outputs": []
    },
    {
      "cell_type": "code",
      "source": [
        "##Maximum length of sentences\n",
        "Max_Len =  max([len(one_title) for one_title in text_X_train_tokenized])\n",
        "Max_Len"
      ],
      "metadata": {
        "colab": {
          "base_uri": "https://localhost:8080/"
        },
        "id": "ZhbCyLlmjBvk",
        "outputId": "2698e92c-95dc-44b3-95fb-952b5fb5739b"
      },
      "execution_count": 322,
      "outputs": [
        {
          "output_type": "execute_result",
          "data": {
            "text/plain": [
              "73"
            ]
          },
          "metadata": {},
          "execution_count": 322
        }
      ]
    },
    {
      "cell_type": "code",
      "source": [
        "## Pads sequences(or sentences) to the same length.\n",
        "\n",
        "\n",
        "text_X_train_padded = pad_sequences(text_X_train_tokenized, maxlen=Max_Len)\n",
        "aspect_X_train_padded = pad_sequences(Aspect_X_train_tokenized, maxlen=1)\n",
        "\n",
        "text_X_test_padded = pad_sequences(text_X_test_tokenized, maxlen=Max_Len)\n",
        "aspect_X_test_padded = pad_sequences(Aspect_X_test_tokenized, maxlen=1)\n",
        "\n",
        "text_X_val_padded = pad_sequences(text_X_val_tokenized, maxlen=Max_Len)\n",
        "aspect_X_val_padded = pad_sequences(Aspect_X_val_tokenized, maxlen=1)\n"
      ],
      "metadata": {
        "id": "VLGQM2BrjDc2"
      },
      "execution_count": 323,
      "outputs": []
    },
    {
      "cell_type": "code",
      "source": [
        "## Concatenate the Embedding presentation of the sentences and aspects to Create training and testing dataset\n",
        "train_data =  [text_X_train_padded,aspect_X_train_padded]\n",
        "test_data =   [text_X_test_padded,aspect_X_test_padded]\n",
        "val_data = [text_X_val_padded,aspect_X_val_padded]"
      ],
      "metadata": {
        "id": "g4ixZb-QjFu5"
      },
      "execution_count": 324,
      "outputs": []
    },
    {
      "cell_type": "code",
      "source": [
        "\n",
        "# modified based on `https://gist.github.com/cbaziotis/7ef97ccf71cbc14366835198c09809d2`\n",
        "class Attention(Layer):\n",
        "    \"\"\"\n",
        "    Attention operation, with a context/query vector, for temporal data.\n",
        "    Supports Masking.\n",
        "    Follows the work of Yang et al. [https://www.cs.cmu.edu/~diyiy/docs/naacl16.pdf]\n",
        "    \"Hierarchical Attention Networks for Document Classification\"\n",
        "    by using a context vector to assist the attention\n",
        "    # Input shape\n",
        "        3D tensor with shape: `(samples, steps, features)`.\n",
        "    # Output shape\n",
        "        2D tensor with shape: `(samples, features)`.\n",
        "    How to use:\n",
        "    Just put it on top of an RNN Layer (GRU/LSTM/SimpleRNN) with return_sequences=True.\n",
        "    The dimensions are inferred based on the output shape of the RNN.\n",
        " e: The layer has been tested with Keras 2.0.6\n",
        "    Example:\n",
        "        model.add(LSTM(64, return_sequences=True))\n",
        "        model.add(AttentionWithContext())\n",
        "        # next add a Dense layer (for classification/regression) or whatever...\n",
        "    \"\"\"\n",
        "\n",
        "    def __init__(self, W_regularizer=None, u_regularizer=None, b_regularizer=None, W_constraint=None,\n",
        "                 u_constraint=None, b_constraint=None, use_W=True, use_bias=False, return_self_attend=False,\n",
        "                 return_attend_weight=True, **kwargs):\n",
        "        self.supports_masking = True\n",
        "\n",
        "        self.init = initializers.get('glorot_uniform')\n",
        "\n",
        "        self.W_regularizer = regularizers.get(W_regularizer)\n",
        "        self.u_regularizer = regularizers.get(u_regularizer)\n",
        "        self.b_regularizer = regularizers.get(b_regularizer)\n",
        "\n",
        "        self.W_constraint = constraints.get(W_constraint)\n",
        "        self.u_constraint = constraints.get(u_constraint)\n",
        "        self.b_constraint = constraints.get(b_constraint)\n",
        "\n",
        "        self.use_W = use_W\n",
        "        self.use_bias = use_bias\n",
        "        self.return_self_attend = return_self_attend    # whether perform self attention and return it\n",
        "        self.return_attend_weight = return_attend_weight    # whether return attention weight\n",
        "        super(Attention, self).__init__(**kwargs)\n",
        "\n",
        "    def build(self, input_shape):\n",
        "        assert len(input_shape) == 3\n",
        "\n",
        "        if self.use_W:\n",
        "            self.W = self.add_weight(shape=(input_shape[-1], input_shape[-1],),  initializer=self.init,\n",
        "                                     name='{}_W'.format(self.name), regularizer=self.W_regularizer,\n",
        "                                     constraint=self.W_constraint)\n",
        "        if self.use_bias:\n",
        "            self.b = self.add_weight(shape=(input_shape[1],), initializer='zero', name='{}_b'.format(self.name),\n",
        "                                     regularizer=self.b_regularizer, constraint=self.b_constraint)\n",
        "\n",
        "        self.u = self.add_weight(shape=(input_shape[-1],), initializer=self.init, name='{}_u'.format(self.name),\n",
        "                                 regularizer=self.u_regularizer, constraint=self.u_constraint)\n",
        "\n",
        "        super(Attention, self).build(input_shape)\n",
        "\n",
        "    def compute_mask(self, input, input_mask=None):\n",
        "        # do not pass the mask to the next layers\n",
        "        return None\n",
        "\n",
        "    def call(self, x, mask=None):\n",
        "        if self.use_W:\n",
        "            x = K.tanh(K.dot(x, self.W))\n",
        "\n",
        "        ait = Attention.dot_product(x, self.u)\n",
        "        if self.use_bias:\n",
        "            ait += self.b\n",
        "\n",
        "        a = K.exp(ait)\n",
        "\n",
        "        # apply mask after the exp. will be re-normalized next\n",
        "        if mask is not None:\n",
        "            # Cast the mask to floatX to avoid float64 upcasting in theano\n",
        "            a *= K.cast(mask, K.floatx())\n",
        "\n",
        "        # in some cases especially in the early stages of training the sum may be almost zero\n",
        "        # and this results in NaN's. A workaround is to add a very small positive number ε to the sum.\n",
        "        # a /= K.cast(K.sum(a, axis=1, keepdims=True), K.floatx())\n",
        "        a /= K.cast(K.sum(a, axis=1, keepdims=True) + K.epsilon(), K.floatx())\n",
        "\n",
        "        if self.return_self_attend:\n",
        "            attend_output = K.sum(x * K.expand_dims(a), axis=1)\n",
        "            if self.return_attend_weight:\n",
        "                return [attend_output, a]\n",
        "            else:\n",
        "                return attend_output\n",
        "        else:\n",
        "            return a\n",
        "\n",
        "    def compute_output_shape(self, input_shape):\n",
        "        if self.return_self_attend:\n",
        "            if self.return_attend_weight:\n",
        "                return [(input_shape[0], input_shape[-1]), (input_shape[0], input_shape[1])]\n",
        "            else:\n",
        "                return input_shape[0], input_shape[-1]\n",
        "        else:\n",
        "            return input_shape[0], input_shape[1]\n",
        "\n",
        "    @staticmethod\n",
        "    def dot_product(x, kernel):\n",
        "        \"\"\"\n",
        "        Wrapper for dot product operation, in order to be compatible with both\n",
        "        Theano and Tensorflow\n",
        "        Args:\n",
        "            x (): input\n",
        "            kernel (): weights\n",
        "        Returns:\n",
        "        \"\"\"\n",
        "        if K.backend() == 'tensorflow':\n",
        "            return K.squeeze(K.dot(x, K.expand_dims(kernel)), axis=-1)\n",
        "        else:\n",
        "            return K.dot(x, kernel)"
      ],
      "metadata": {
        "id": "s_PsNnTujH58"
      },
      "execution_count": 325,
      "outputs": []
    },
    {
      "cell_type": "code",
      "source": [
        "# attention-based lstm with aspect embedding\n",
        "def atae_lstm(lstm_units = 128):\n",
        "    input_text = Input(shape=(Max_Len,))\n",
        "    input_aspect = Input(shape=(1,),)\n",
        "\n",
        "    word_embedding = Embedding(NUM_WORDS, EMBEDDING_SIZE, input_length=Max_Len)\n",
        "    text_embed = SpatialDropout1D(0.2)(word_embedding(input_text))\n",
        "\n",
        "    asp_embedding = Embedding(NUM_WORDS, EMBEDDING_SIZE, input_length=Max_Len)\n",
        "\n",
        "    aspect_embed = asp_embedding(input_aspect)\n",
        "    aspect_embed = Flatten()(aspect_embed)  # reshape to 2d\n",
        "    repeat_aspect = RepeatVector(Max_Len)(aspect_embed)  # repeat aspect for every word in sequence\n",
        "\n",
        "    input_concat = concatenate([text_embed, repeat_aspect], axis=-1)\n",
        "    print(input_concat.shape)\n",
        "    hidden_vecs, state_h, _ = LSTM(lstm_units, return_sequences=True, return_state=True)(input_concat)\n",
        "    concat = concatenate([hidden_vecs, repeat_aspect], axis=-1)\n",
        "\n",
        "    # apply attention mechanism\n",
        "    attend_weight = Attention()(concat)\n",
        "    attend_weight_expand = Lambda(lambda x: K.expand_dims(x))(attend_weight)\n",
        "    attend_hidden = multiply([hidden_vecs, attend_weight_expand])\n",
        "    attend_hidden = Lambda(lambda x: K.sum(x, axis=1))(attend_hidden)\n",
        "\n",
        "    attend_hidden_dense = Dense(lstm_units)(attend_hidden)\n",
        "    last_hidden_dense = Dense(lstm_units)(state_h)\n",
        "    final_output = Activation('tanh')(add([attend_hidden_dense, last_hidden_dense]))\n",
        "    output = Dense(3, activation='softmax')(final_output)\n",
        "    return Model([input_text, input_aspect], output)"
      ],
      "metadata": {
        "id": "Qx1bTEW8jN5Q"
      },
      "execution_count": 326,
      "outputs": []
    },
    {
      "cell_type": "code",
      "source": [
        "atae_lstm_model =  atae_lstm()\n",
        "atae_lstm_model.summary()"
      ],
      "metadata": {
        "colab": {
          "base_uri": "https://localhost:8080/"
        },
        "id": "rhg-X7dKjPmN",
        "outputId": "0fec0742-6295-43f9-cbdd-fbdbb70385d8"
      },
      "execution_count": 327,
      "outputs": [
        {
          "output_type": "stream",
          "name": "stdout",
          "text": [
            "(None, 73, 256)\n",
            "Model: \"model_5\"\n",
            "__________________________________________________________________________________________________\n",
            " Layer (type)                   Output Shape         Param #     Connected to                     \n",
            "==================================================================================================\n",
            " input_12 (InputLayer)          [(None, 1)]          0           []                               \n",
            "                                                                                                  \n",
            " input_11 (InputLayer)          [(None, 73)]         0           []                               \n",
            "                                                                                                  \n",
            " embedding_11 (Embedding)       (None, 1, 128)       12800000    ['input_12[0][0]']               \n",
            "                                                                                                  \n",
            " embedding_10 (Embedding)       (None, 73, 128)      12800000    ['input_11[0][0]']               \n",
            "                                                                                                  \n",
            " flatten_5 (Flatten)            (None, 128)          0           ['embedding_11[0][0]']           \n",
            "                                                                                                  \n",
            " spatial_dropout1d_5 (SpatialDr  (None, 73, 128)     0           ['embedding_10[0][0]']           \n",
            " opout1D)                                                                                         \n",
            "                                                                                                  \n",
            " repeat_vector_5 (RepeatVector)  (None, 73, 128)     0           ['flatten_5[0][0]']              \n",
            "                                                                                                  \n",
            " concatenate_10 (Concatenate)   (None, 73, 256)      0           ['spatial_dropout1d_5[0][0]',    \n",
            "                                                                  'repeat_vector_5[0][0]']        \n",
            "                                                                                                  \n",
            " lstm_5 (LSTM)                  [(None, 73, 128),    197120      ['concatenate_10[0][0]']         \n",
            "                                 (None, 128),                                                     \n",
            "                                 (None, 128)]                                                     \n",
            "                                                                                                  \n",
            " concatenate_11 (Concatenate)   (None, 73, 256)      0           ['lstm_5[0][0]',                 \n",
            "                                                                  'repeat_vector_5[0][0]']        \n",
            "                                                                                                  \n",
            " attention_5 (Attention)        (None, 73)           65792       ['concatenate_11[0][0]']         \n",
            "                                                                                                  \n",
            " lambda_10 (Lambda)             (None, 73, 1)        0           ['attention_5[0][0]']            \n",
            "                                                                                                  \n",
            " multiply_5 (Multiply)          (None, 73, 128)      0           ['lstm_5[0][0]',                 \n",
            "                                                                  'lambda_10[0][0]']              \n",
            "                                                                                                  \n",
            " lambda_11 (Lambda)             (None, 128)          0           ['multiply_5[0][0]']             \n",
            "                                                                                                  \n",
            " dense_15 (Dense)               (None, 128)          16512       ['lambda_11[0][0]']              \n",
            "                                                                                                  \n",
            " dense_16 (Dense)               (None, 128)          16512       ['lstm_5[0][1]']                 \n",
            "                                                                                                  \n",
            " add_5 (Add)                    (None, 128)          0           ['dense_15[0][0]',               \n",
            "                                                                  'dense_16[0][0]']               \n",
            "                                                                                                  \n",
            " activation_5 (Activation)      (None, 128)          0           ['add_5[0][0]']                  \n",
            "                                                                                                  \n",
            " dense_17 (Dense)               (None, 3)            387         ['activation_5[0][0]']           \n",
            "                                                                                                  \n",
            "==================================================================================================\n",
            "Total params: 25,896,323\n",
            "Trainable params: 25,896,323\n",
            "Non-trainable params: 0\n",
            "__________________________________________________________________________________________________\n"
          ]
        },
        {
          "output_type": "stream",
          "name": "stderr",
          "text": [
            "/usr/local/lib/python3.10/dist-packages/keras/initializers/initializers.py:120: UserWarning: The initializer GlorotUniform is unseeded and being called multiple times, which will return identical values each time (even if the initializer is unseeded). Please update your code to provide a seed to the initializer, or avoid using the same initalizer instance more than once.\n",
            "  warnings.warn(\n"
          ]
        }
      ]
    },
    {
      "cell_type": "code",
      "source": [
        "\n",
        "learning_rate_reduction = ReduceLROnPlateau(monitor='val_accuracy',\n",
        "                                                    patience = 2,\n",
        "                                                    verbose=1,\n",
        "                                                    factor=0.1,\n",
        "                                                    min_lr=0.000001)\n",
        "\n",
        "atae_lstm_model.compile(loss='sparse_categorical_crossentropy', metrics=['accuracy'], optimizer='adam')\n",
        "atae_lstm_model.fit(x = train_data, y = y_train, validation_data = (val_data, y_val), batch_size=16, epochs=10, callbacks = [learning_rate_reduction])"
      ],
      "metadata": {
        "colab": {
          "base_uri": "https://localhost:8080/"
        },
        "id": "fHCpDR42jRtK",
        "outputId": "02c375a9-187a-4758-ad0c-d7f453730195"
      },
      "execution_count": 328,
      "outputs": [
        {
          "output_type": "stream",
          "name": "stdout",
          "text": [
            "Epoch 1/10\n",
            "146/146 [==============================] - 17s 90ms/step - loss: 0.7073 - accuracy: 0.6798 - val_loss: 0.6980 - val_accuracy: 0.7474 - lr: 0.0010\n",
            "Epoch 2/10\n",
            "146/146 [==============================] - 5s 33ms/step - loss: 0.4440 - accuracy: 0.8328 - val_loss: 0.6088 - val_accuracy: 0.7749 - lr: 0.0010\n",
            "Epoch 3/10\n",
            "146/146 [==============================] - 5s 31ms/step - loss: 0.2904 - accuracy: 0.8956 - val_loss: 0.6007 - val_accuracy: 0.7869 - lr: 0.0010\n",
            "Epoch 4/10\n",
            "146/146 [==============================] - 3s 21ms/step - loss: 0.2080 - accuracy: 0.9248 - val_loss: 0.7221 - val_accuracy: 0.7869 - lr: 0.0010\n",
            "Epoch 5/10\n",
            "146/146 [==============================] - ETA: 0s - loss: 0.1680 - accuracy: 0.9373\n",
            "Epoch 5: ReduceLROnPlateau reducing learning rate to 0.00010000000474974513.\n",
            "146/146 [==============================] - 3s 19ms/step - loss: 0.1680 - accuracy: 0.9373 - val_loss: 0.7414 - val_accuracy: 0.7852 - lr: 0.0010\n",
            "Epoch 6/10\n",
            "146/146 [==============================] - 3s 21ms/step - loss: 0.1031 - accuracy: 0.9656 - val_loss: 0.7960 - val_accuracy: 0.7887 - lr: 1.0000e-04\n",
            "Epoch 7/10\n",
            "146/146 [==============================] - 3s 19ms/step - loss: 0.0873 - accuracy: 0.9703 - val_loss: 0.8465 - val_accuracy: 0.7921 - lr: 1.0000e-04\n",
            "Epoch 8/10\n",
            "146/146 [==============================] - 3s 22ms/step - loss: 0.0763 - accuracy: 0.9742 - val_loss: 0.8887 - val_accuracy: 0.7835 - lr: 1.0000e-04\n",
            "Epoch 9/10\n",
            "146/146 [==============================] - ETA: 0s - loss: 0.0715 - accuracy: 0.9751\n",
            "Epoch 9: ReduceLROnPlateau reducing learning rate to 1.0000000474974514e-05.\n",
            "146/146 [==============================] - 2s 16ms/step - loss: 0.0715 - accuracy: 0.9751 - val_loss: 0.9241 - val_accuracy: 0.7818 - lr: 1.0000e-04\n",
            "Epoch 10/10\n",
            "146/146 [==============================] - 2s 16ms/step - loss: 0.0633 - accuracy: 0.9772 - val_loss: 0.9293 - val_accuracy: 0.7835 - lr: 1.0000e-05\n"
          ]
        },
        {
          "output_type": "execute_result",
          "data": {
            "text/plain": [
              "<keras.callbacks.History at 0x7ad46d5f04c0>"
            ]
          },
          "metadata": {},
          "execution_count": 328
        }
      ]
    },
    {
      "cell_type": "code",
      "source": [
        "print(\"Evaluate on test data\")\n",
        "results = atae_lstm_model.evaluate(x = test_data , y = y_test )\n",
        "print(\"test loss, test acc:\", results)\n",
        "print(\"Accuracy of the model is - \" , results[1]*100 , \"%\")"
      ],
      "metadata": {
        "colab": {
          "base_uri": "https://localhost:8080/"
        },
        "id": "OuQVmXxzjTwO",
        "outputId": "2dc74f68-3415-4997-85ff-f32abfa9c2af"
      },
      "execution_count": 329,
      "outputs": [
        {
          "output_type": "stream",
          "name": "stdout",
          "text": [
            "Evaluate on test data\n",
            "26/26 [==============================] - 0s 5ms/step - loss: 1.2799 - accuracy: 0.6829\n",
            "test loss, test acc: [1.279923439025879, 0.6828963756561279]\n",
            "Accuracy of the model is -  68.2896375656128 %\n"
          ]
        }
      ]
    },
    {
      "cell_type": "markdown",
      "source": [
        "##CROSS VALIDATION"
      ],
      "metadata": {
        "id": "-xnOQtu2mg5X"
      }
    },
    {
      "cell_type": "markdown",
      "source": [
        "##CROSS VALIDATE ON SENTIHOOD"
      ],
      "metadata": {
        "id": "n_K15xRRmkpx"
      }
    },
    {
      "cell_type": "code",
      "source": [
        "df2_test = pd.read_csv(\"/content/drive/MyDrive/ABSA work/codes/processed_Sentihood/sentihood_test_single.csv\", encoding='utf8')"
      ],
      "metadata": {
        "id": "AAcy7WMFmf-a"
      },
      "execution_count": 330,
      "outputs": []
    },
    {
      "cell_type": "code",
      "source": [
        "df2_test.drop(columns=['to' , 'from'], inplace=True)"
      ],
      "metadata": {
        "id": "0Mmtrk7ZzOYu"
      },
      "execution_count": 331,
      "outputs": []
    },
    {
      "cell_type": "code",
      "source": [],
      "metadata": {
        "id": "g2ghx0ySzUh3"
      },
      "execution_count": 331,
      "outputs": []
    },
    {
      "cell_type": "code",
      "source": [
        "## change the labels to integers for the training phase\n",
        "df2_test['polarity'][df2_test[\"polarity\"] == 'negative'] = 0\n",
        "df2_test['polarity'][df2_test[\"polarity\"] == 'positive'] = 1\n",
        "\n"
      ],
      "metadata": {
        "id": "BFDj_BjqmXCz",
        "colab": {
          "base_uri": "https://localhost:8080/"
        },
        "outputId": "f1ff362a-98ef-42e4-b3cf-db30b5cb253a"
      },
      "execution_count": 332,
      "outputs": [
        {
          "output_type": "stream",
          "name": "stderr",
          "text": [
            "<ipython-input-332-d7e862dbc869>:2: SettingWithCopyWarning: \n",
            "A value is trying to be set on a copy of a slice from a DataFrame\n",
            "\n",
            "See the caveats in the documentation: https://pandas.pydata.org/pandas-docs/stable/user_guide/indexing.html#returning-a-view-versus-a-copy\n",
            "  df2_test['polarity'][df2_test[\"polarity\"] == 'negative'] = 0\n",
            "<ipython-input-332-d7e862dbc869>:3: SettingWithCopyWarning: \n",
            "A value is trying to be set on a copy of a slice from a DataFrame\n",
            "\n",
            "See the caveats in the documentation: https://pandas.pydata.org/pandas-docs/stable/user_guide/indexing.html#returning-a-view-versus-a-copy\n",
            "  df2_test['polarity'][df2_test[\"polarity\"] == 'positive'] = 1\n"
          ]
        }
      ]
    },
    {
      "cell_type": "code",
      "source": [
        "X_test = df2_test"
      ],
      "metadata": {
        "id": "buoJjXnhzfJb"
      },
      "execution_count": 333,
      "outputs": []
    },
    {
      "cell_type": "code",
      "source": [
        "## Convert polarity Values to Integers\n",
        "X_test[\"polarity\"] = pd.to_numeric(X_test[\"polarity\"],errors='coerce')\n"
      ],
      "metadata": {
        "id": "wO8lVqI4zhV8"
      },
      "execution_count": 334,
      "outputs": []
    },
    {
      "cell_type": "code",
      "source": [
        "y_test = X_test[\"polarity\"]"
      ],
      "metadata": {
        "id": "k32uN8z9zj6j"
      },
      "execution_count": 335,
      "outputs": []
    },
    {
      "cell_type": "code",
      "source": [
        "tokenizer = Tokenizer(num_words=NUM_WORDS,\n",
        "                      filters='!\"#$%&()*+,-./:;<=>?@[\\\\]^_`{|}~\\t\\n',\n",
        "                      lower=True, )\n",
        "## Fit_on_texts : Updates internal vocabulary based on a list of texts.\n",
        "tokenizer.fit_on_texts(list(X_train.sentence))\n",
        "text_X_test_tokenized = tokenizer.texts_to_sequences(X_test.sentence) # list of tokenized sentences\n",
        "Aspect_X_test_tokenized = tokenizer.texts_to_sequences(X_test['aspect_category']) # list of tokenized sentences\n"
      ],
      "metadata": {
        "id": "7c0m8YLXzogI"
      },
      "execution_count": 336,
      "outputs": []
    },
    {
      "cell_type": "code",
      "source": [],
      "metadata": {
        "id": "BoYPyaxUzw8W"
      },
      "execution_count": 336,
      "outputs": []
    },
    {
      "cell_type": "code",
      "source": [
        "## Pads sequences(or sentences) to the same length.\n",
        "\n",
        "\n",
        "\n",
        "text_X_test_padded = pad_sequences(text_X_test_tokenized, maxlen=Max_Len)\n",
        "aspect_X_test_padded = pad_sequences(Aspect_X_test_tokenized, maxlen=1)\n"
      ],
      "metadata": {
        "id": "ZSem8DQqzxvw"
      },
      "execution_count": 337,
      "outputs": []
    },
    {
      "cell_type": "code",
      "source": [
        "test_data =   [text_X_test_padded,aspect_X_test_padded]\n"
      ],
      "metadata": {
        "id": "k44-buJ80G6S"
      },
      "execution_count": 338,
      "outputs": []
    },
    {
      "cell_type": "code",
      "source": [
        "print(\"Evaluate on test data\")\n",
        "results = atae_lstm_model.evaluate(x = test_data , y = y_test )\n",
        "print(\"test loss, test acc:\", results)\n",
        "print(\"Accuracy of the model is - \" , results[1]*100 , \"%\")"
      ],
      "metadata": {
        "colab": {
          "base_uri": "https://localhost:8080/"
        },
        "id": "s7J_ht6v0KwB",
        "outputId": "a3fce49c-2af8-4e64-fb61-45779aac59b7"
      },
      "execution_count": 339,
      "outputs": [
        {
          "output_type": "stream",
          "name": "stdout",
          "text": [
            "Evaluate on test data\n",
            "53/53 [==============================] - 0s 5ms/step - loss: 1.6138 - accuracy: 0.5878\n",
            "test loss, test acc: [1.613752841949463, 0.5878499150276184]\n",
            "Accuracy of the model is -  58.78499150276184 %\n"
          ]
        }
      ]
    },
    {
      "cell_type": "markdown",
      "source": [
        "##CROSS VALIDATE ON SEMEVAL Restaurant"
      ],
      "metadata": {
        "id": "baajsffE2Fgl"
      }
    },
    {
      "cell_type": "code",
      "source": [
        "df2_test = pd.read_csv(\"/content/drive/MyDrive/ABSA work/codes/processed_SemEval2016/restaurants_test_single.csv\", encoding='utf8')"
      ],
      "metadata": {
        "id": "JlARt3OT1pwL"
      },
      "execution_count": 342,
      "outputs": []
    },
    {
      "cell_type": "code",
      "source": [
        "df2_test.drop(columns=['from' , 'to', 'aspect_term'], inplace=True)\n",
        "\n"
      ],
      "metadata": {
        "id": "AXHthnZwmzwk"
      },
      "execution_count": 346,
      "outputs": []
    },
    {
      "cell_type": "code",
      "source": [
        "df2_test"
      ],
      "metadata": {
        "colab": {
          "base_uri": "https://localhost:8080/",
          "height": 424
        },
        "id": "zYL1zcKK5s5t",
        "outputId": "0b064915-9d7e-4931-eb3d-e142683b2ee0"
      },
      "execution_count": 347,
      "outputs": [
        {
          "output_type": "execute_result",
          "data": {
            "text/plain": [
              "                        sentence Id  \\\n",
              "0    en_BlueRibbonSushi_478218171:0   \n",
              "1    en_BlueRibbonSushi_478218171:1   \n",
              "2    en_BlueRibbonSushi_478218171:2   \n",
              "3    en_BlueRibbonSushi_478218171:3   \n",
              "4    en_BlueRibbonSushi_478218171:4   \n",
              "..                              ...   \n",
              "854  en_Ray'sBoathouse_477775918:13   \n",
              "855  en_Ray'sBoathouse_477775918:14   \n",
              "856  en_Ray'sBoathouse_477775918:14   \n",
              "857  en_Ray'sBoathouse_477775918:14   \n",
              "858  en_Ray'sBoathouse_477775918:15   \n",
              "\n",
              "                                              sentence  \\\n",
              "0                                                 Yum!   \n",
              "1                            Serves really good sushi.   \n",
              "2               Not the biggest portions but adequate.   \n",
              "3                    Green Tea creme brulee is a must!   \n",
              "4               Don't leave the restaurant without it.   \n",
              "..                                                 ...   \n",
              "854  All considered, I have to say that Ray's Boath...   \n",
              "855  While I could have done without the youth who ...   \n",
              "856  While I could have done without the youth who ...   \n",
              "857  While I could have done without the youth who ...   \n",
              "858                  Oh yeah...the view was good, too.   \n",
              "\n",
              "              aspect_category  polarity  \n",
              "0                FOOD QUALITY  positive  \n",
              "1                FOOD QUALITY  positive  \n",
              "2          FOOD STYLE_OPTIONS   neutral  \n",
              "3                FOOD QUALITY  positive  \n",
              "4                FOOD QUALITY  positive  \n",
              "..                        ...       ...  \n",
              "854        RESTAURANT GENERAL  positive  \n",
              "855           SERVICE GENERAL  positive  \n",
              "856              FOOD QUALITY  positive  \n",
              "857  RESTAURANT MISCELLANEOUS  negative  \n",
              "858          LOCATION GENERAL  positive  \n",
              "\n",
              "[859 rows x 4 columns]"
            ],
            "text/html": [
              "\n",
              "  <div id=\"df-70ab0775-a57f-4769-9f84-896e038b73bc\" class=\"colab-df-container\">\n",
              "    <div>\n",
              "<style scoped>\n",
              "    .dataframe tbody tr th:only-of-type {\n",
              "        vertical-align: middle;\n",
              "    }\n",
              "\n",
              "    .dataframe tbody tr th {\n",
              "        vertical-align: top;\n",
              "    }\n",
              "\n",
              "    .dataframe thead th {\n",
              "        text-align: right;\n",
              "    }\n",
              "</style>\n",
              "<table border=\"1\" class=\"dataframe\">\n",
              "  <thead>\n",
              "    <tr style=\"text-align: right;\">\n",
              "      <th></th>\n",
              "      <th>sentence Id</th>\n",
              "      <th>sentence</th>\n",
              "      <th>aspect_category</th>\n",
              "      <th>polarity</th>\n",
              "    </tr>\n",
              "  </thead>\n",
              "  <tbody>\n",
              "    <tr>\n",
              "      <th>0</th>\n",
              "      <td>en_BlueRibbonSushi_478218171:0</td>\n",
              "      <td>Yum!</td>\n",
              "      <td>FOOD QUALITY</td>\n",
              "      <td>positive</td>\n",
              "    </tr>\n",
              "    <tr>\n",
              "      <th>1</th>\n",
              "      <td>en_BlueRibbonSushi_478218171:1</td>\n",
              "      <td>Serves really good sushi.</td>\n",
              "      <td>FOOD QUALITY</td>\n",
              "      <td>positive</td>\n",
              "    </tr>\n",
              "    <tr>\n",
              "      <th>2</th>\n",
              "      <td>en_BlueRibbonSushi_478218171:2</td>\n",
              "      <td>Not the biggest portions but adequate.</td>\n",
              "      <td>FOOD STYLE_OPTIONS</td>\n",
              "      <td>neutral</td>\n",
              "    </tr>\n",
              "    <tr>\n",
              "      <th>3</th>\n",
              "      <td>en_BlueRibbonSushi_478218171:3</td>\n",
              "      <td>Green Tea creme brulee is a must!</td>\n",
              "      <td>FOOD QUALITY</td>\n",
              "      <td>positive</td>\n",
              "    </tr>\n",
              "    <tr>\n",
              "      <th>4</th>\n",
              "      <td>en_BlueRibbonSushi_478218171:4</td>\n",
              "      <td>Don't leave the restaurant without it.</td>\n",
              "      <td>FOOD QUALITY</td>\n",
              "      <td>positive</td>\n",
              "    </tr>\n",
              "    <tr>\n",
              "      <th>...</th>\n",
              "      <td>...</td>\n",
              "      <td>...</td>\n",
              "      <td>...</td>\n",
              "      <td>...</td>\n",
              "    </tr>\n",
              "    <tr>\n",
              "      <th>854</th>\n",
              "      <td>en_Ray'sBoathouse_477775918:13</td>\n",
              "      <td>All considered, I have to say that Ray's Boath...</td>\n",
              "      <td>RESTAURANT GENERAL</td>\n",
              "      <td>positive</td>\n",
              "    </tr>\n",
              "    <tr>\n",
              "      <th>855</th>\n",
              "      <td>en_Ray'sBoathouse_477775918:14</td>\n",
              "      <td>While I could have done without the youth who ...</td>\n",
              "      <td>SERVICE GENERAL</td>\n",
              "      <td>positive</td>\n",
              "    </tr>\n",
              "    <tr>\n",
              "      <th>856</th>\n",
              "      <td>en_Ray'sBoathouse_477775918:14</td>\n",
              "      <td>While I could have done without the youth who ...</td>\n",
              "      <td>FOOD QUALITY</td>\n",
              "      <td>positive</td>\n",
              "    </tr>\n",
              "    <tr>\n",
              "      <th>857</th>\n",
              "      <td>en_Ray'sBoathouse_477775918:14</td>\n",
              "      <td>While I could have done without the youth who ...</td>\n",
              "      <td>RESTAURANT MISCELLANEOUS</td>\n",
              "      <td>negative</td>\n",
              "    </tr>\n",
              "    <tr>\n",
              "      <th>858</th>\n",
              "      <td>en_Ray'sBoathouse_477775918:15</td>\n",
              "      <td>Oh yeah...the view was good, too.</td>\n",
              "      <td>LOCATION GENERAL</td>\n",
              "      <td>positive</td>\n",
              "    </tr>\n",
              "  </tbody>\n",
              "</table>\n",
              "<p>859 rows × 4 columns</p>\n",
              "</div>\n",
              "    <div class=\"colab-df-buttons\">\n",
              "\n",
              "  <div class=\"colab-df-container\">\n",
              "    <button class=\"colab-df-convert\" onclick=\"convertToInteractive('df-70ab0775-a57f-4769-9f84-896e038b73bc')\"\n",
              "            title=\"Convert this dataframe to an interactive table.\"\n",
              "            style=\"display:none;\">\n",
              "\n",
              "  <svg xmlns=\"http://www.w3.org/2000/svg\" height=\"24px\" viewBox=\"0 -960 960 960\">\n",
              "    <path d=\"M120-120v-720h720v720H120Zm60-500h600v-160H180v160Zm220 220h160v-160H400v160Zm0 220h160v-160H400v160ZM180-400h160v-160H180v160Zm440 0h160v-160H620v160ZM180-180h160v-160H180v160Zm440 0h160v-160H620v160Z\"/>\n",
              "  </svg>\n",
              "    </button>\n",
              "\n",
              "  <style>\n",
              "    .colab-df-container {\n",
              "      display:flex;\n",
              "      gap: 12px;\n",
              "    }\n",
              "\n",
              "    .colab-df-convert {\n",
              "      background-color: #E8F0FE;\n",
              "      border: none;\n",
              "      border-radius: 50%;\n",
              "      cursor: pointer;\n",
              "      display: none;\n",
              "      fill: #1967D2;\n",
              "      height: 32px;\n",
              "      padding: 0 0 0 0;\n",
              "      width: 32px;\n",
              "    }\n",
              "\n",
              "    .colab-df-convert:hover {\n",
              "      background-color: #E2EBFA;\n",
              "      box-shadow: 0px 1px 2px rgba(60, 64, 67, 0.3), 0px 1px 3px 1px rgba(60, 64, 67, 0.15);\n",
              "      fill: #174EA6;\n",
              "    }\n",
              "\n",
              "    .colab-df-buttons div {\n",
              "      margin-bottom: 4px;\n",
              "    }\n",
              "\n",
              "    [theme=dark] .colab-df-convert {\n",
              "      background-color: #3B4455;\n",
              "      fill: #D2E3FC;\n",
              "    }\n",
              "\n",
              "    [theme=dark] .colab-df-convert:hover {\n",
              "      background-color: #434B5C;\n",
              "      box-shadow: 0px 1px 3px 1px rgba(0, 0, 0, 0.15);\n",
              "      filter: drop-shadow(0px 1px 2px rgba(0, 0, 0, 0.3));\n",
              "      fill: #FFFFFF;\n",
              "    }\n",
              "  </style>\n",
              "\n",
              "    <script>\n",
              "      const buttonEl =\n",
              "        document.querySelector('#df-70ab0775-a57f-4769-9f84-896e038b73bc button.colab-df-convert');\n",
              "      buttonEl.style.display =\n",
              "        google.colab.kernel.accessAllowed ? 'block' : 'none';\n",
              "\n",
              "      async function convertToInteractive(key) {\n",
              "        const element = document.querySelector('#df-70ab0775-a57f-4769-9f84-896e038b73bc');\n",
              "        const dataTable =\n",
              "          await google.colab.kernel.invokeFunction('convertToInteractive',\n",
              "                                                    [key], {});\n",
              "        if (!dataTable) return;\n",
              "\n",
              "        const docLinkHtml = 'Like what you see? Visit the ' +\n",
              "          '<a target=\"_blank\" href=https://colab.research.google.com/notebooks/data_table.ipynb>data table notebook</a>'\n",
              "          + ' to learn more about interactive tables.';\n",
              "        element.innerHTML = '';\n",
              "        dataTable['output_type'] = 'display_data';\n",
              "        await google.colab.output.renderOutput(dataTable, element);\n",
              "        const docLink = document.createElement('div');\n",
              "        docLink.innerHTML = docLinkHtml;\n",
              "        element.appendChild(docLink);\n",
              "      }\n",
              "    </script>\n",
              "  </div>\n",
              "\n",
              "\n",
              "<div id=\"df-d3037672-f48b-41e5-bde7-65fa354800ac\">\n",
              "  <button class=\"colab-df-quickchart\" onclick=\"quickchart('df-d3037672-f48b-41e5-bde7-65fa354800ac')\"\n",
              "            title=\"Suggest charts.\"\n",
              "            style=\"display:none;\">\n",
              "\n",
              "<svg xmlns=\"http://www.w3.org/2000/svg\" height=\"24px\"viewBox=\"0 0 24 24\"\n",
              "     width=\"24px\">\n",
              "    <g>\n",
              "        <path d=\"M19 3H5c-1.1 0-2 .9-2 2v14c0 1.1.9 2 2 2h14c1.1 0 2-.9 2-2V5c0-1.1-.9-2-2-2zM9 17H7v-7h2v7zm4 0h-2V7h2v10zm4 0h-2v-4h2v4z\"/>\n",
              "    </g>\n",
              "</svg>\n",
              "  </button>\n",
              "\n",
              "<style>\n",
              "  .colab-df-quickchart {\n",
              "      --bg-color: #E8F0FE;\n",
              "      --fill-color: #1967D2;\n",
              "      --hover-bg-color: #E2EBFA;\n",
              "      --hover-fill-color: #174EA6;\n",
              "      --disabled-fill-color: #AAA;\n",
              "      --disabled-bg-color: #DDD;\n",
              "  }\n",
              "\n",
              "  [theme=dark] .colab-df-quickchart {\n",
              "      --bg-color: #3B4455;\n",
              "      --fill-color: #D2E3FC;\n",
              "      --hover-bg-color: #434B5C;\n",
              "      --hover-fill-color: #FFFFFF;\n",
              "      --disabled-bg-color: #3B4455;\n",
              "      --disabled-fill-color: #666;\n",
              "  }\n",
              "\n",
              "  .colab-df-quickchart {\n",
              "    background-color: var(--bg-color);\n",
              "    border: none;\n",
              "    border-radius: 50%;\n",
              "    cursor: pointer;\n",
              "    display: none;\n",
              "    fill: var(--fill-color);\n",
              "    height: 32px;\n",
              "    padding: 0;\n",
              "    width: 32px;\n",
              "  }\n",
              "\n",
              "  .colab-df-quickchart:hover {\n",
              "    background-color: var(--hover-bg-color);\n",
              "    box-shadow: 0 1px 2px rgba(60, 64, 67, 0.3), 0 1px 3px 1px rgba(60, 64, 67, 0.15);\n",
              "    fill: var(--button-hover-fill-color);\n",
              "  }\n",
              "\n",
              "  .colab-df-quickchart-complete:disabled,\n",
              "  .colab-df-quickchart-complete:disabled:hover {\n",
              "    background-color: var(--disabled-bg-color);\n",
              "    fill: var(--disabled-fill-color);\n",
              "    box-shadow: none;\n",
              "  }\n",
              "\n",
              "  .colab-df-spinner {\n",
              "    border: 2px solid var(--fill-color);\n",
              "    border-color: transparent;\n",
              "    border-bottom-color: var(--fill-color);\n",
              "    animation:\n",
              "      spin 1s steps(1) infinite;\n",
              "  }\n",
              "\n",
              "  @keyframes spin {\n",
              "    0% {\n",
              "      border-color: transparent;\n",
              "      border-bottom-color: var(--fill-color);\n",
              "      border-left-color: var(--fill-color);\n",
              "    }\n",
              "    20% {\n",
              "      border-color: transparent;\n",
              "      border-left-color: var(--fill-color);\n",
              "      border-top-color: var(--fill-color);\n",
              "    }\n",
              "    30% {\n",
              "      border-color: transparent;\n",
              "      border-left-color: var(--fill-color);\n",
              "      border-top-color: var(--fill-color);\n",
              "      border-right-color: var(--fill-color);\n",
              "    }\n",
              "    40% {\n",
              "      border-color: transparent;\n",
              "      border-right-color: var(--fill-color);\n",
              "      border-top-color: var(--fill-color);\n",
              "    }\n",
              "    60% {\n",
              "      border-color: transparent;\n",
              "      border-right-color: var(--fill-color);\n",
              "    }\n",
              "    80% {\n",
              "      border-color: transparent;\n",
              "      border-right-color: var(--fill-color);\n",
              "      border-bottom-color: var(--fill-color);\n",
              "    }\n",
              "    90% {\n",
              "      border-color: transparent;\n",
              "      border-bottom-color: var(--fill-color);\n",
              "    }\n",
              "  }\n",
              "</style>\n",
              "\n",
              "  <script>\n",
              "    async function quickchart(key) {\n",
              "      const quickchartButtonEl =\n",
              "        document.querySelector('#' + key + ' button');\n",
              "      quickchartButtonEl.disabled = true;  // To prevent multiple clicks.\n",
              "      quickchartButtonEl.classList.add('colab-df-spinner');\n",
              "      try {\n",
              "        const charts = await google.colab.kernel.invokeFunction(\n",
              "            'suggestCharts', [key], {});\n",
              "      } catch (error) {\n",
              "        console.error('Error during call to suggestCharts:', error);\n",
              "      }\n",
              "      quickchartButtonEl.classList.remove('colab-df-spinner');\n",
              "      quickchartButtonEl.classList.add('colab-df-quickchart-complete');\n",
              "    }\n",
              "    (() => {\n",
              "      let quickchartButtonEl =\n",
              "        document.querySelector('#df-d3037672-f48b-41e5-bde7-65fa354800ac button');\n",
              "      quickchartButtonEl.style.display =\n",
              "        google.colab.kernel.accessAllowed ? 'block' : 'none';\n",
              "    })();\n",
              "  </script>\n",
              "</div>\n",
              "    </div>\n",
              "  </div>\n"
            ]
          },
          "metadata": {},
          "execution_count": 347
        }
      ]
    },
    {
      "cell_type": "code",
      "source": [
        "df2_test['aspect_category'] = df2_test['aspect_category'].str.replace('#', ' ')"
      ],
      "metadata": {
        "id": "oka9ehJe38UD"
      },
      "execution_count": 348,
      "outputs": []
    },
    {
      "cell_type": "code",
      "source": [
        "df2_test"
      ],
      "metadata": {
        "colab": {
          "base_uri": "https://localhost:8080/",
          "height": 424
        },
        "id": "xB9LM9m84EBy",
        "outputId": "7e145359-2421-4309-833d-274a9c1a3f68"
      },
      "execution_count": 349,
      "outputs": [
        {
          "output_type": "execute_result",
          "data": {
            "text/plain": [
              "                        sentence Id  \\\n",
              "0    en_BlueRibbonSushi_478218171:0   \n",
              "1    en_BlueRibbonSushi_478218171:1   \n",
              "2    en_BlueRibbonSushi_478218171:2   \n",
              "3    en_BlueRibbonSushi_478218171:3   \n",
              "4    en_BlueRibbonSushi_478218171:4   \n",
              "..                              ...   \n",
              "854  en_Ray'sBoathouse_477775918:13   \n",
              "855  en_Ray'sBoathouse_477775918:14   \n",
              "856  en_Ray'sBoathouse_477775918:14   \n",
              "857  en_Ray'sBoathouse_477775918:14   \n",
              "858  en_Ray'sBoathouse_477775918:15   \n",
              "\n",
              "                                              sentence  \\\n",
              "0                                                 Yum!   \n",
              "1                            Serves really good sushi.   \n",
              "2               Not the biggest portions but adequate.   \n",
              "3                    Green Tea creme brulee is a must!   \n",
              "4               Don't leave the restaurant without it.   \n",
              "..                                                 ...   \n",
              "854  All considered, I have to say that Ray's Boath...   \n",
              "855  While I could have done without the youth who ...   \n",
              "856  While I could have done without the youth who ...   \n",
              "857  While I could have done without the youth who ...   \n",
              "858                  Oh yeah...the view was good, too.   \n",
              "\n",
              "              aspect_category  polarity  \n",
              "0                FOOD QUALITY  positive  \n",
              "1                FOOD QUALITY  positive  \n",
              "2          FOOD STYLE_OPTIONS   neutral  \n",
              "3                FOOD QUALITY  positive  \n",
              "4                FOOD QUALITY  positive  \n",
              "..                        ...       ...  \n",
              "854        RESTAURANT GENERAL  positive  \n",
              "855           SERVICE GENERAL  positive  \n",
              "856              FOOD QUALITY  positive  \n",
              "857  RESTAURANT MISCELLANEOUS  negative  \n",
              "858          LOCATION GENERAL  positive  \n",
              "\n",
              "[859 rows x 4 columns]"
            ],
            "text/html": [
              "\n",
              "  <div id=\"df-2b979c88-b4c0-41cd-82dc-e331b3d175c5\" class=\"colab-df-container\">\n",
              "    <div>\n",
              "<style scoped>\n",
              "    .dataframe tbody tr th:only-of-type {\n",
              "        vertical-align: middle;\n",
              "    }\n",
              "\n",
              "    .dataframe tbody tr th {\n",
              "        vertical-align: top;\n",
              "    }\n",
              "\n",
              "    .dataframe thead th {\n",
              "        text-align: right;\n",
              "    }\n",
              "</style>\n",
              "<table border=\"1\" class=\"dataframe\">\n",
              "  <thead>\n",
              "    <tr style=\"text-align: right;\">\n",
              "      <th></th>\n",
              "      <th>sentence Id</th>\n",
              "      <th>sentence</th>\n",
              "      <th>aspect_category</th>\n",
              "      <th>polarity</th>\n",
              "    </tr>\n",
              "  </thead>\n",
              "  <tbody>\n",
              "    <tr>\n",
              "      <th>0</th>\n",
              "      <td>en_BlueRibbonSushi_478218171:0</td>\n",
              "      <td>Yum!</td>\n",
              "      <td>FOOD QUALITY</td>\n",
              "      <td>positive</td>\n",
              "    </tr>\n",
              "    <tr>\n",
              "      <th>1</th>\n",
              "      <td>en_BlueRibbonSushi_478218171:1</td>\n",
              "      <td>Serves really good sushi.</td>\n",
              "      <td>FOOD QUALITY</td>\n",
              "      <td>positive</td>\n",
              "    </tr>\n",
              "    <tr>\n",
              "      <th>2</th>\n",
              "      <td>en_BlueRibbonSushi_478218171:2</td>\n",
              "      <td>Not the biggest portions but adequate.</td>\n",
              "      <td>FOOD STYLE_OPTIONS</td>\n",
              "      <td>neutral</td>\n",
              "    </tr>\n",
              "    <tr>\n",
              "      <th>3</th>\n",
              "      <td>en_BlueRibbonSushi_478218171:3</td>\n",
              "      <td>Green Tea creme brulee is a must!</td>\n",
              "      <td>FOOD QUALITY</td>\n",
              "      <td>positive</td>\n",
              "    </tr>\n",
              "    <tr>\n",
              "      <th>4</th>\n",
              "      <td>en_BlueRibbonSushi_478218171:4</td>\n",
              "      <td>Don't leave the restaurant without it.</td>\n",
              "      <td>FOOD QUALITY</td>\n",
              "      <td>positive</td>\n",
              "    </tr>\n",
              "    <tr>\n",
              "      <th>...</th>\n",
              "      <td>...</td>\n",
              "      <td>...</td>\n",
              "      <td>...</td>\n",
              "      <td>...</td>\n",
              "    </tr>\n",
              "    <tr>\n",
              "      <th>854</th>\n",
              "      <td>en_Ray'sBoathouse_477775918:13</td>\n",
              "      <td>All considered, I have to say that Ray's Boath...</td>\n",
              "      <td>RESTAURANT GENERAL</td>\n",
              "      <td>positive</td>\n",
              "    </tr>\n",
              "    <tr>\n",
              "      <th>855</th>\n",
              "      <td>en_Ray'sBoathouse_477775918:14</td>\n",
              "      <td>While I could have done without the youth who ...</td>\n",
              "      <td>SERVICE GENERAL</td>\n",
              "      <td>positive</td>\n",
              "    </tr>\n",
              "    <tr>\n",
              "      <th>856</th>\n",
              "      <td>en_Ray'sBoathouse_477775918:14</td>\n",
              "      <td>While I could have done without the youth who ...</td>\n",
              "      <td>FOOD QUALITY</td>\n",
              "      <td>positive</td>\n",
              "    </tr>\n",
              "    <tr>\n",
              "      <th>857</th>\n",
              "      <td>en_Ray'sBoathouse_477775918:14</td>\n",
              "      <td>While I could have done without the youth who ...</td>\n",
              "      <td>RESTAURANT MISCELLANEOUS</td>\n",
              "      <td>negative</td>\n",
              "    </tr>\n",
              "    <tr>\n",
              "      <th>858</th>\n",
              "      <td>en_Ray'sBoathouse_477775918:15</td>\n",
              "      <td>Oh yeah...the view was good, too.</td>\n",
              "      <td>LOCATION GENERAL</td>\n",
              "      <td>positive</td>\n",
              "    </tr>\n",
              "  </tbody>\n",
              "</table>\n",
              "<p>859 rows × 4 columns</p>\n",
              "</div>\n",
              "    <div class=\"colab-df-buttons\">\n",
              "\n",
              "  <div class=\"colab-df-container\">\n",
              "    <button class=\"colab-df-convert\" onclick=\"convertToInteractive('df-2b979c88-b4c0-41cd-82dc-e331b3d175c5')\"\n",
              "            title=\"Convert this dataframe to an interactive table.\"\n",
              "            style=\"display:none;\">\n",
              "\n",
              "  <svg xmlns=\"http://www.w3.org/2000/svg\" height=\"24px\" viewBox=\"0 -960 960 960\">\n",
              "    <path d=\"M120-120v-720h720v720H120Zm60-500h600v-160H180v160Zm220 220h160v-160H400v160Zm0 220h160v-160H400v160ZM180-400h160v-160H180v160Zm440 0h160v-160H620v160ZM180-180h160v-160H180v160Zm440 0h160v-160H620v160Z\"/>\n",
              "  </svg>\n",
              "    </button>\n",
              "\n",
              "  <style>\n",
              "    .colab-df-container {\n",
              "      display:flex;\n",
              "      gap: 12px;\n",
              "    }\n",
              "\n",
              "    .colab-df-convert {\n",
              "      background-color: #E8F0FE;\n",
              "      border: none;\n",
              "      border-radius: 50%;\n",
              "      cursor: pointer;\n",
              "      display: none;\n",
              "      fill: #1967D2;\n",
              "      height: 32px;\n",
              "      padding: 0 0 0 0;\n",
              "      width: 32px;\n",
              "    }\n",
              "\n",
              "    .colab-df-convert:hover {\n",
              "      background-color: #E2EBFA;\n",
              "      box-shadow: 0px 1px 2px rgba(60, 64, 67, 0.3), 0px 1px 3px 1px rgba(60, 64, 67, 0.15);\n",
              "      fill: #174EA6;\n",
              "    }\n",
              "\n",
              "    .colab-df-buttons div {\n",
              "      margin-bottom: 4px;\n",
              "    }\n",
              "\n",
              "    [theme=dark] .colab-df-convert {\n",
              "      background-color: #3B4455;\n",
              "      fill: #D2E3FC;\n",
              "    }\n",
              "\n",
              "    [theme=dark] .colab-df-convert:hover {\n",
              "      background-color: #434B5C;\n",
              "      box-shadow: 0px 1px 3px 1px rgba(0, 0, 0, 0.15);\n",
              "      filter: drop-shadow(0px 1px 2px rgba(0, 0, 0, 0.3));\n",
              "      fill: #FFFFFF;\n",
              "    }\n",
              "  </style>\n",
              "\n",
              "    <script>\n",
              "      const buttonEl =\n",
              "        document.querySelector('#df-2b979c88-b4c0-41cd-82dc-e331b3d175c5 button.colab-df-convert');\n",
              "      buttonEl.style.display =\n",
              "        google.colab.kernel.accessAllowed ? 'block' : 'none';\n",
              "\n",
              "      async function convertToInteractive(key) {\n",
              "        const element = document.querySelector('#df-2b979c88-b4c0-41cd-82dc-e331b3d175c5');\n",
              "        const dataTable =\n",
              "          await google.colab.kernel.invokeFunction('convertToInteractive',\n",
              "                                                    [key], {});\n",
              "        if (!dataTable) return;\n",
              "\n",
              "        const docLinkHtml = 'Like what you see? Visit the ' +\n",
              "          '<a target=\"_blank\" href=https://colab.research.google.com/notebooks/data_table.ipynb>data table notebook</a>'\n",
              "          + ' to learn more about interactive tables.';\n",
              "        element.innerHTML = '';\n",
              "        dataTable['output_type'] = 'display_data';\n",
              "        await google.colab.output.renderOutput(dataTable, element);\n",
              "        const docLink = document.createElement('div');\n",
              "        docLink.innerHTML = docLinkHtml;\n",
              "        element.appendChild(docLink);\n",
              "      }\n",
              "    </script>\n",
              "  </div>\n",
              "\n",
              "\n",
              "<div id=\"df-d73ae748-1ddb-4e62-b9de-c7502ec998a4\">\n",
              "  <button class=\"colab-df-quickchart\" onclick=\"quickchart('df-d73ae748-1ddb-4e62-b9de-c7502ec998a4')\"\n",
              "            title=\"Suggest charts.\"\n",
              "            style=\"display:none;\">\n",
              "\n",
              "<svg xmlns=\"http://www.w3.org/2000/svg\" height=\"24px\"viewBox=\"0 0 24 24\"\n",
              "     width=\"24px\">\n",
              "    <g>\n",
              "        <path d=\"M19 3H5c-1.1 0-2 .9-2 2v14c0 1.1.9 2 2 2h14c1.1 0 2-.9 2-2V5c0-1.1-.9-2-2-2zM9 17H7v-7h2v7zm4 0h-2V7h2v10zm4 0h-2v-4h2v4z\"/>\n",
              "    </g>\n",
              "</svg>\n",
              "  </button>\n",
              "\n",
              "<style>\n",
              "  .colab-df-quickchart {\n",
              "      --bg-color: #E8F0FE;\n",
              "      --fill-color: #1967D2;\n",
              "      --hover-bg-color: #E2EBFA;\n",
              "      --hover-fill-color: #174EA6;\n",
              "      --disabled-fill-color: #AAA;\n",
              "      --disabled-bg-color: #DDD;\n",
              "  }\n",
              "\n",
              "  [theme=dark] .colab-df-quickchart {\n",
              "      --bg-color: #3B4455;\n",
              "      --fill-color: #D2E3FC;\n",
              "      --hover-bg-color: #434B5C;\n",
              "      --hover-fill-color: #FFFFFF;\n",
              "      --disabled-bg-color: #3B4455;\n",
              "      --disabled-fill-color: #666;\n",
              "  }\n",
              "\n",
              "  .colab-df-quickchart {\n",
              "    background-color: var(--bg-color);\n",
              "    border: none;\n",
              "    border-radius: 50%;\n",
              "    cursor: pointer;\n",
              "    display: none;\n",
              "    fill: var(--fill-color);\n",
              "    height: 32px;\n",
              "    padding: 0;\n",
              "    width: 32px;\n",
              "  }\n",
              "\n",
              "  .colab-df-quickchart:hover {\n",
              "    background-color: var(--hover-bg-color);\n",
              "    box-shadow: 0 1px 2px rgba(60, 64, 67, 0.3), 0 1px 3px 1px rgba(60, 64, 67, 0.15);\n",
              "    fill: var(--button-hover-fill-color);\n",
              "  }\n",
              "\n",
              "  .colab-df-quickchart-complete:disabled,\n",
              "  .colab-df-quickchart-complete:disabled:hover {\n",
              "    background-color: var(--disabled-bg-color);\n",
              "    fill: var(--disabled-fill-color);\n",
              "    box-shadow: none;\n",
              "  }\n",
              "\n",
              "  .colab-df-spinner {\n",
              "    border: 2px solid var(--fill-color);\n",
              "    border-color: transparent;\n",
              "    border-bottom-color: var(--fill-color);\n",
              "    animation:\n",
              "      spin 1s steps(1) infinite;\n",
              "  }\n",
              "\n",
              "  @keyframes spin {\n",
              "    0% {\n",
              "      border-color: transparent;\n",
              "      border-bottom-color: var(--fill-color);\n",
              "      border-left-color: var(--fill-color);\n",
              "    }\n",
              "    20% {\n",
              "      border-color: transparent;\n",
              "      border-left-color: var(--fill-color);\n",
              "      border-top-color: var(--fill-color);\n",
              "    }\n",
              "    30% {\n",
              "      border-color: transparent;\n",
              "      border-left-color: var(--fill-color);\n",
              "      border-top-color: var(--fill-color);\n",
              "      border-right-color: var(--fill-color);\n",
              "    }\n",
              "    40% {\n",
              "      border-color: transparent;\n",
              "      border-right-color: var(--fill-color);\n",
              "      border-top-color: var(--fill-color);\n",
              "    }\n",
              "    60% {\n",
              "      border-color: transparent;\n",
              "      border-right-color: var(--fill-color);\n",
              "    }\n",
              "    80% {\n",
              "      border-color: transparent;\n",
              "      border-right-color: var(--fill-color);\n",
              "      border-bottom-color: var(--fill-color);\n",
              "    }\n",
              "    90% {\n",
              "      border-color: transparent;\n",
              "      border-bottom-color: var(--fill-color);\n",
              "    }\n",
              "  }\n",
              "</style>\n",
              "\n",
              "  <script>\n",
              "    async function quickchart(key) {\n",
              "      const quickchartButtonEl =\n",
              "        document.querySelector('#' + key + ' button');\n",
              "      quickchartButtonEl.disabled = true;  // To prevent multiple clicks.\n",
              "      quickchartButtonEl.classList.add('colab-df-spinner');\n",
              "      try {\n",
              "        const charts = await google.colab.kernel.invokeFunction(\n",
              "            'suggestCharts', [key], {});\n",
              "      } catch (error) {\n",
              "        console.error('Error during call to suggestCharts:', error);\n",
              "      }\n",
              "      quickchartButtonEl.classList.remove('colab-df-spinner');\n",
              "      quickchartButtonEl.classList.add('colab-df-quickchart-complete');\n",
              "    }\n",
              "    (() => {\n",
              "      let quickchartButtonEl =\n",
              "        document.querySelector('#df-d73ae748-1ddb-4e62-b9de-c7502ec998a4 button');\n",
              "      quickchartButtonEl.style.display =\n",
              "        google.colab.kernel.accessAllowed ? 'block' : 'none';\n",
              "    })();\n",
              "  </script>\n",
              "</div>\n",
              "    </div>\n",
              "  </div>\n"
            ]
          },
          "metadata": {},
          "execution_count": 349
        }
      ]
    },
    {
      "cell_type": "code",
      "source": [
        "df2_test['polarity'][df2_test[\"polarity\"] == 'negative'] = 0\n",
        "df2_test['polarity'][df2_test[\"polarity\"] == 'positive'] = 1\n",
        "df2_test['polarity'][df2_test[\"polarity\"] == 'neutral'] = 2\n"
      ],
      "metadata": {
        "id": "85h1lXLo3K5C"
      },
      "execution_count": 350,
      "outputs": []
    },
    {
      "cell_type": "code",
      "source": [],
      "metadata": {
        "id": "YdZQuZP-36d7"
      },
      "execution_count": 350,
      "outputs": []
    },
    {
      "cell_type": "code",
      "source": [
        "X_test = df2_test"
      ],
      "metadata": {
        "id": "Yzl2Sy2K3M7o"
      },
      "execution_count": 351,
      "outputs": []
    },
    {
      "cell_type": "code",
      "source": [
        "## Convert polarity Values to Integers\n",
        "X_test[\"polarity\"] = pd.to_numeric(X_test[\"polarity\"],errors='coerce')\n"
      ],
      "metadata": {
        "id": "TcHDvrOW3Ot7"
      },
      "execution_count": 352,
      "outputs": []
    },
    {
      "cell_type": "code",
      "source": [
        "y_test = X_test[\"polarity\"]"
      ],
      "metadata": {
        "id": "fHYeWtPz3XV0"
      },
      "execution_count": 353,
      "outputs": []
    },
    {
      "cell_type": "code",
      "source": [
        "tokenizer = Tokenizer(num_words=NUM_WORDS,\n",
        "                      filters='!\"#$%&()*+,-./:;<=>?@[\\\\]^_`{|}~\\t\\n',\n",
        "                      lower=True, )\n",
        "## Fit_on_texts : Updates internal vocabulary based on a list of texts.\n",
        "tokenizer.fit_on_texts(list(X_train.sentence))\n",
        "text_X_test_tokenized = tokenizer.texts_to_sequences(X_test.sentence) # list of tokenized sentences\n",
        "Aspect_X_test_tokenized = tokenizer.texts_to_sequences(X_test['aspect_category']) # list of tokenized sentences\n"
      ],
      "metadata": {
        "id": "D8W2GVUP56h4"
      },
      "execution_count": 354,
      "outputs": []
    },
    {
      "cell_type": "code",
      "source": [
        "## Pads sequences(or sentences) to the same length.\n",
        "\n",
        "\n",
        "\n",
        "text_X_test_padded = pad_sequences(text_X_test_tokenized, maxlen=Max_Len)\n",
        "aspect_X_test_padded = pad_sequences(Aspect_X_test_tokenized, maxlen=1)\n"
      ],
      "metadata": {
        "id": "yqtRoPFO3bhT"
      },
      "execution_count": 355,
      "outputs": []
    },
    {
      "cell_type": "code",
      "source": [
        "test_data =   [text_X_test_padded,aspect_X_test_padded]\n"
      ],
      "metadata": {
        "id": "XzBfpeO-6AZG"
      },
      "execution_count": 356,
      "outputs": []
    },
    {
      "cell_type": "code",
      "source": [
        "print(\"Evaluate on test data\")\n",
        "results = atae_lstm_model.evaluate(x = test_data , y = y_test )\n",
        "print(\"test loss, test acc:\", results)\n",
        "print(\"Accuracy of the model is - \" , results[1]*100 , \"%\")"
      ],
      "metadata": {
        "colab": {
          "base_uri": "https://localhost:8080/"
        },
        "id": "mN2to2Lg3c5J",
        "outputId": "c7b562db-b6b5-44e9-e87c-fcbf603975fb"
      },
      "execution_count": 357,
      "outputs": [
        {
          "output_type": "stream",
          "name": "stdout",
          "text": [
            "Evaluate on test data\n",
            "27/27 [==============================] - 0s 5ms/step - loss: 1.2919 - accuracy: 0.6764\n",
            "test loss, test acc: [1.2918760776519775, 0.6763678789138794]\n",
            "Accuracy of the model is -  67.63678789138794 %\n"
          ]
        }
      ]
    },
    {
      "cell_type": "markdown",
      "source": [
        "##CROSS VALIDATE ON MAMS"
      ],
      "metadata": {
        "id": "lwg5Z52M7dbY"
      }
    },
    {
      "cell_type": "code",
      "source": [
        "df2_test = pd.read_csv(\"/content/drive/MyDrive/ABSA work/codes/processed_MAMS/ACSA_test_single.csv\", encoding='utf8')"
      ],
      "metadata": {
        "id": "iIz_VsQW5Lhf"
      },
      "execution_count": 358,
      "outputs": []
    },
    {
      "cell_type": "code",
      "source": [
        "df2_test['polarity'][df2_test[\"polarity\"] == 'negative'] = 0\n",
        "df2_test['polarity'][df2_test[\"polarity\"] == 'positive'] = 1\n",
        "df2_test['polarity'][df2_test[\"polarity\"] == 'neutral'] = 2"
      ],
      "metadata": {
        "id": "Iv4LiJ418a0t"
      },
      "execution_count": 359,
      "outputs": []
    },
    {
      "cell_type": "code",
      "source": [
        "X_test = df2_test"
      ],
      "metadata": {
        "id": "boVio6S-8iy2"
      },
      "execution_count": 360,
      "outputs": []
    },
    {
      "cell_type": "code",
      "source": [
        "## Convert polarity Values to Integers\n",
        "X_test[\"polarity\"] = pd.to_numeric(X_test[\"polarity\"],errors='coerce')\n"
      ],
      "metadata": {
        "id": "d6RSATyt8kiB"
      },
      "execution_count": 361,
      "outputs": []
    },
    {
      "cell_type": "code",
      "source": [
        "y_test = X_test[\"polarity\"]"
      ],
      "metadata": {
        "id": "KfuGN3py8mUW"
      },
      "execution_count": 362,
      "outputs": []
    },
    {
      "cell_type": "code",
      "source": [
        "tokenizer = Tokenizer(num_words=NUM_WORDS,\n",
        "                      filters='!\"#$%&()*+,-./:;<=>?@[\\\\]^_`{|}~\\t\\n',\n",
        "                      lower=True, )\n",
        "## Fit_on_texts : Updates internal vocabulary based on a list of texts.\n",
        "tokenizer.fit_on_texts(list(X_train.sentence))\n",
        "text_X_test_tokenized = tokenizer.texts_to_sequences(X_test.sentence) # list of tokenized sentences\n",
        "Aspect_X_test_tokenized = tokenizer.texts_to_sequences(X_test['aspect_category']) # list of tokenized sentences\n"
      ],
      "metadata": {
        "id": "vdCtE8mj8okA"
      },
      "execution_count": 363,
      "outputs": []
    },
    {
      "cell_type": "code",
      "source": [
        "## Pads sequences(or sentences) to the same length.\n",
        "\n",
        "\n",
        "\n",
        "text_X_test_padded = pad_sequences(text_X_test_tokenized, maxlen=Max_Len)\n",
        "aspect_X_test_padded = pad_sequences(Aspect_X_test_tokenized, maxlen=1)\n"
      ],
      "metadata": {
        "id": "9h_B9TmH8qhu"
      },
      "execution_count": 364,
      "outputs": []
    },
    {
      "cell_type": "code",
      "source": [
        "test_data =   [text_X_test_padded,aspect_X_test_padded]\n"
      ],
      "metadata": {
        "id": "wdl3X1oJ8sKz"
      },
      "execution_count": 365,
      "outputs": []
    },
    {
      "cell_type": "code",
      "source": [
        "print(\"Evaluate on test data\")\n",
        "results = atae_lstm_model.evaluate(x = test_data , y = y_test )\n",
        "print(\"test loss, test acc:\", results)\n",
        "print(\"Accuracy of the model is - \" , results[1]*100 , \"%\")"
      ],
      "metadata": {
        "colab": {
          "base_uri": "https://localhost:8080/"
        },
        "id": "ROXWnfDR8uIb",
        "outputId": "34f4b870-8ef5-4d54-bfbc-7040e7ab5507"
      },
      "execution_count": 366,
      "outputs": [
        {
          "output_type": "stream",
          "name": "stdout",
          "text": [
            "Evaluate on test data\n",
            "29/29 [==============================] - 0s 7ms/step - loss: 3.5275 - accuracy: 0.3219\n",
            "test loss, test acc: [3.527467966079712, 0.32186460494995117]\n",
            "Accuracy of the model is -  32.18646049499512 %\n"
          ]
        }
      ]
    },
    {
      "cell_type": "code",
      "source": [],
      "metadata": {
        "id": "wTf_O6818y05"
      },
      "execution_count": 366,
      "outputs": []
    }
  ]
}