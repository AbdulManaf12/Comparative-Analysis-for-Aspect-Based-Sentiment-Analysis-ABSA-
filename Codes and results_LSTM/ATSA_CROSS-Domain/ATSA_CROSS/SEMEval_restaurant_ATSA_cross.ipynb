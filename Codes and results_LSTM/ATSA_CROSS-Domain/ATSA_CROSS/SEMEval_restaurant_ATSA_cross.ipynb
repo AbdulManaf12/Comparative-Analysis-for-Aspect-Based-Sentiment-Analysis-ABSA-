{
  "nbformat": 4,
  "nbformat_minor": 0,
  "metadata": {
    "colab": {
      "provenance": [],
      "toc_visible": true,
      "gpuType": "T4"
    },
    "kernelspec": {
      "name": "python3",
      "display_name": "Python 3"
    },
    "language_info": {
      "name": "python"
    },
    "accelerator": "GPU"
  },
  "cells": [
    {
      "cell_type": "code",
      "execution_count": 1,
      "metadata": {
        "colab": {
          "base_uri": "https://localhost:8080/"
        },
        "id": "ee91os0yg7KB",
        "outputId": "ab987d26-597e-4a33-edbd-168043d7f8ec"
      },
      "outputs": [
        {
          "output_type": "stream",
          "name": "stdout",
          "text": [
            "Mounted at /content/drive\n"
          ]
        }
      ],
      "source": [
        "from google.colab import drive\n",
        "drive.mount('/content/drive')"
      ]
    },
    {
      "cell_type": "markdown",
      "source": [
        "## import the required Libraries\n",
        "\n",
        "\n"
      ],
      "metadata": {
        "id": "rN6833U2hbib"
      }
    },
    {
      "cell_type": "code",
      "source": [
        "import os\n",
        "import numpy as np\n",
        "from sklearn.model_selection import train_test_split\n",
        "\n",
        "\n",
        "from keras.models import Model\n",
        "from keras.layers import Input, Embedding, SpatialDropout1D, Dropout, Conv1D, MaxPool1D, Flatten, concatenate, Dense, \\\n",
        "    LSTM, Bidirectional, Activation, MaxPooling1D, Add, GRU, GlobalAveragePooling1D, GlobalMaxPooling1D, RepeatVector, \\\n",
        "    TimeDistributed, Permute, multiply, Lambda, add, Masking, BatchNormalization, Softmax, Reshape, ReLU, \\\n",
        "    ZeroPadding1D, subtract\n",
        "from tensorflow.keras.preprocessing.sequence import pad_sequences\n",
        "from tensorflow.keras.utils import to_categorical\n",
        "from tensorflow.keras.callbacks import Callback, ModelCheckpoint, EarlyStopping\n",
        "import tensorflow.keras.backend as K\n",
        "import tensorflow as tf\n",
        "from keras import backend as K, initializers, regularizers, constraints\n",
        "\n",
        "\n",
        "# Import our dependencies\n",
        "import tensorflow as tf\n",
        "import pandas as pd\n",
        "import tensorflow_hub as hub\n",
        "import os\n",
        "import re\n",
        "from keras import backend as K\n",
        "import keras.layers as layers\n",
        "from keras.models import Model, load_model\n",
        "from tensorflow.keras.layers import Layer, InputSpec\n",
        "import numpy as np\n",
        "\n",
        "from statistics import mode\n",
        "\n",
        "import numpy as np # linear algebra\n",
        "import pandas as pd # data processing, CSV file I/O (e.g. pd.read_csv)\n",
        "import matplotlib\n",
        "import matplotlib.pyplot as plt\n",
        "import nltk\n",
        "import seaborn as sns\n",
        "from nltk.tokenize import word_tokenize\n",
        "from nltk.corpus import stopwords\n",
        "%matplotlib inline\n",
        "import tensorflow as tf\n",
        "\n",
        "\n",
        "# Then what you need from tensorflow.keras\n",
        "from tensorflow.keras.layers import Input, Dropout, Dense, GlobalAveragePooling1D\n",
        "from tensorflow.keras.callbacks import ReduceLROnPlateau\n",
        "from tensorflow.keras.models import Model\n",
        "from tensorflow.keras.optimizers import Adam\n",
        "from tensorflow.keras.callbacks import EarlyStopping\n",
        "from tensorflow.keras.initializers import TruncatedNormal\n",
        "from tensorflow.keras.losses import CategoricalCrossentropy\n",
        "from tensorflow.keras.metrics import CategoricalAccuracy\n",
        "from tensorflow.keras.utils import to_categorical\n",
        "from sklearn.model_selection import train_test_split\n",
        "\n",
        "from tensorflow.python.keras import backend as K\n",
        "from tensorflow.python.keras.metrics import Metric\n",
        "from tensorflow.python.keras.utils import metrics_utils\n",
        "from tensorflow.python.ops import init_ops\n",
        "from tensorflow.python.ops import math_ops\n",
        "from tensorflow.python.keras.utils.generic_utils import to_list\n",
        "import tensorflow_hub as hub\n",
        "\n",
        "\n",
        "\n",
        "import re\n",
        "import nltk\n",
        "from nltk.corpus import stopwords\n",
        "\n",
        "# neural\n",
        "from keras.preprocessing.text import Tokenizer\n",
        "from keras.utils import pad_sequences\n",
        "from keras.layers import Dense, LSTM, Embedding, Dropout\n",
        "from keras.layers import Bidirectional, GlobalMaxPool1D\n",
        "from keras.models import Model, Sequential\n",
        "\n",
        "#Metrics\n",
        "from sklearn.metrics import balanced_accuracy_score\n",
        "\n",
        "from sklearn.feature_extraction.text import TfidfVectorizer\n",
        "from mlxtend.plotting import plot_confusion_matrix\n",
        "from sklearn.tree import DecisionTreeClassifier\n",
        "from sklearn.metrics import classification_report,confusion_matrix,accuracy_score\n",
        "from sklearn.linear_model import LogisticRegression,SGDClassifier\n",
        "from sklearn.naive_bayes import MultinomialNB\n",
        "from sklearn.ensemble import RandomForestClassifier,GradientBoostingClassifier,AdaBoostClassifier,ExtraTreesClassifier"
      ],
      "metadata": {
        "id": "VJwPUlA7hck3"
      },
      "execution_count": 2,
      "outputs": []
    },
    {
      "cell_type": "markdown",
      "source": [
        "##LOAD THE SEMEVAL Restaurant DATASET\n"
      ],
      "metadata": {
        "id": "uOcr2YZVhsQA"
      }
    },
    {
      "cell_type": "code",
      "source": [
        "df_train = pd.read_csv(\"/content/drive/MyDrive/ABSA work/codes/processed_SemEval2016/restaurants_train_single.csv\", encoding='utf8')\n"
      ],
      "metadata": {
        "id": "2XqJufHPhhFi"
      },
      "execution_count": 5,
      "outputs": []
    },
    {
      "cell_type": "code",
      "source": [
        "df2_train, df2_val = train_test_split(df_train, test_size=0.2, random_state=42)\n"
      ],
      "metadata": {
        "id": "rtGOovoDZ6Zz"
      },
      "execution_count": 6,
      "outputs": []
    },
    {
      "cell_type": "code",
      "source": [
        "df2_test = pd.read_csv(\"/content/drive/MyDrive/ABSA work/codes/processed_SemEval2016/restaurants_test_single.csv\", encoding='utf8')\n"
      ],
      "metadata": {
        "id": "t96fErRfhjxf"
      },
      "execution_count": 7,
      "outputs": []
    },
    {
      "cell_type": "code",
      "source": [
        "#df2_val = pd.read_csv(\"/content/drive/MyDrive/ABSA work/codes/processed_Sentihood/sentihood_dev_single.csv\", encoding='utf8')"
      ],
      "metadata": {
        "id": "U7eJXnovhmFK"
      },
      "execution_count": 8,
      "outputs": []
    },
    {
      "cell_type": "code",
      "source": [
        "df2_train=df2_train.dropna(axis=0)\n",
        "df2_val=df2_val.dropna(axis=0)\n",
        "df2_test=df2_test.dropna(axis=0)"
      ],
      "metadata": {
        "id": "AS1HuMfdcFWd"
      },
      "execution_count": 9,
      "outputs": []
    },
    {
      "cell_type": "code",
      "source": [
        "df2_train"
      ],
      "metadata": {
        "colab": {
          "base_uri": "https://localhost:8080/",
          "height": 424
        },
        "id": "ZypK8kgLbsgn",
        "outputId": "6b79eaf3-8c89-42d0-f017-31dc57eb8845"
      },
      "execution_count": 10,
      "outputs": [
        {
          "output_type": "execute_result",
          "data": {
            "text/plain": [
              "     sentence Id                                           sentence  \\\n",
              "497    1387314:1  This is my first time writing a review for a r...   \n",
              "342    1287538:3  The food is a diamond in rough -- the food is ...   \n",
              "1775       Y#5:0     overpriced japanese food with mediocre service   \n",
              "1752      PP#9:2  Had no flavor and the staff is rude and not at...   \n",
              "1468    630914:0                      The food was actually aweful.   \n",
              "...          ...                                                ...   \n",
              "1638    929329:3  Interesting selection, good wines, service fin...   \n",
              "1095    430342:6                          Great neighborhood joint.   \n",
              "1130    447697:3                         Try sushimi cucumber roll.   \n",
              "1294    512294:0           Great food, great prices, great service.   \n",
              "860    1655504:4  Wine list is extensive without being over-priced.   \n",
              "\n",
              "           aspect_category                    aspect_term  from   to  polarity  \n",
              "497        SERVICE#GENERAL                        service    77   84  positive  \n",
              "342           FOOD#QUALITY  balance of herbs and tomatoes    86  115  positive  \n",
              "1775           FOOD#PRICES                  japanese food    11   24  negative  \n",
              "1752       SERVICE#GENERAL                          staff    22   27  negative  \n",
              "1468          FOOD#QUALITY                           food     4    8  negative  \n",
              "...                    ...                            ...   ...  ...       ...  \n",
              "1638       SERVICE#GENERAL                        service    35   42  positive  \n",
              "1095    RESTAURANT#GENERAL                          joint    19   24  positive  \n",
              "1130          FOOD#QUALITY          sushimi cucumber roll     4   25  positive  \n",
              "1294          FOOD#QUALITY                           food     6   10  positive  \n",
              "860   DRINKS#STYLE_OPTIONS                      Wine list     0    9  positive  \n",
              "\n",
              "[1491 rows x 7 columns]"
            ],
            "text/html": [
              "\n",
              "  <div id=\"df-d69ccf41-3d38-456d-b459-45d61f3b9b1c\" class=\"colab-df-container\">\n",
              "    <div>\n",
              "<style scoped>\n",
              "    .dataframe tbody tr th:only-of-type {\n",
              "        vertical-align: middle;\n",
              "    }\n",
              "\n",
              "    .dataframe tbody tr th {\n",
              "        vertical-align: top;\n",
              "    }\n",
              "\n",
              "    .dataframe thead th {\n",
              "        text-align: right;\n",
              "    }\n",
              "</style>\n",
              "<table border=\"1\" class=\"dataframe\">\n",
              "  <thead>\n",
              "    <tr style=\"text-align: right;\">\n",
              "      <th></th>\n",
              "      <th>sentence Id</th>\n",
              "      <th>sentence</th>\n",
              "      <th>aspect_category</th>\n",
              "      <th>aspect_term</th>\n",
              "      <th>from</th>\n",
              "      <th>to</th>\n",
              "      <th>polarity</th>\n",
              "    </tr>\n",
              "  </thead>\n",
              "  <tbody>\n",
              "    <tr>\n",
              "      <th>497</th>\n",
              "      <td>1387314:1</td>\n",
              "      <td>This is my first time writing a review for a r...</td>\n",
              "      <td>SERVICE#GENERAL</td>\n",
              "      <td>service</td>\n",
              "      <td>77</td>\n",
              "      <td>84</td>\n",
              "      <td>positive</td>\n",
              "    </tr>\n",
              "    <tr>\n",
              "      <th>342</th>\n",
              "      <td>1287538:3</td>\n",
              "      <td>The food is a diamond in rough -- the food is ...</td>\n",
              "      <td>FOOD#QUALITY</td>\n",
              "      <td>balance of herbs and tomatoes</td>\n",
              "      <td>86</td>\n",
              "      <td>115</td>\n",
              "      <td>positive</td>\n",
              "    </tr>\n",
              "    <tr>\n",
              "      <th>1775</th>\n",
              "      <td>Y#5:0</td>\n",
              "      <td>overpriced japanese food with mediocre service</td>\n",
              "      <td>FOOD#PRICES</td>\n",
              "      <td>japanese food</td>\n",
              "      <td>11</td>\n",
              "      <td>24</td>\n",
              "      <td>negative</td>\n",
              "    </tr>\n",
              "    <tr>\n",
              "      <th>1752</th>\n",
              "      <td>PP#9:2</td>\n",
              "      <td>Had no flavor and the staff is rude and not at...</td>\n",
              "      <td>SERVICE#GENERAL</td>\n",
              "      <td>staff</td>\n",
              "      <td>22</td>\n",
              "      <td>27</td>\n",
              "      <td>negative</td>\n",
              "    </tr>\n",
              "    <tr>\n",
              "      <th>1468</th>\n",
              "      <td>630914:0</td>\n",
              "      <td>The food was actually aweful.</td>\n",
              "      <td>FOOD#QUALITY</td>\n",
              "      <td>food</td>\n",
              "      <td>4</td>\n",
              "      <td>8</td>\n",
              "      <td>negative</td>\n",
              "    </tr>\n",
              "    <tr>\n",
              "      <th>...</th>\n",
              "      <td>...</td>\n",
              "      <td>...</td>\n",
              "      <td>...</td>\n",
              "      <td>...</td>\n",
              "      <td>...</td>\n",
              "      <td>...</td>\n",
              "      <td>...</td>\n",
              "    </tr>\n",
              "    <tr>\n",
              "      <th>1638</th>\n",
              "      <td>929329:3</td>\n",
              "      <td>Interesting selection, good wines, service fin...</td>\n",
              "      <td>SERVICE#GENERAL</td>\n",
              "      <td>service</td>\n",
              "      <td>35</td>\n",
              "      <td>42</td>\n",
              "      <td>positive</td>\n",
              "    </tr>\n",
              "    <tr>\n",
              "      <th>1095</th>\n",
              "      <td>430342:6</td>\n",
              "      <td>Great neighborhood joint.</td>\n",
              "      <td>RESTAURANT#GENERAL</td>\n",
              "      <td>joint</td>\n",
              "      <td>19</td>\n",
              "      <td>24</td>\n",
              "      <td>positive</td>\n",
              "    </tr>\n",
              "    <tr>\n",
              "      <th>1130</th>\n",
              "      <td>447697:3</td>\n",
              "      <td>Try sushimi cucumber roll.</td>\n",
              "      <td>FOOD#QUALITY</td>\n",
              "      <td>sushimi cucumber roll</td>\n",
              "      <td>4</td>\n",
              "      <td>25</td>\n",
              "      <td>positive</td>\n",
              "    </tr>\n",
              "    <tr>\n",
              "      <th>1294</th>\n",
              "      <td>512294:0</td>\n",
              "      <td>Great food, great prices, great service.</td>\n",
              "      <td>FOOD#QUALITY</td>\n",
              "      <td>food</td>\n",
              "      <td>6</td>\n",
              "      <td>10</td>\n",
              "      <td>positive</td>\n",
              "    </tr>\n",
              "    <tr>\n",
              "      <th>860</th>\n",
              "      <td>1655504:4</td>\n",
              "      <td>Wine list is extensive without being over-priced.</td>\n",
              "      <td>DRINKS#STYLE_OPTIONS</td>\n",
              "      <td>Wine list</td>\n",
              "      <td>0</td>\n",
              "      <td>9</td>\n",
              "      <td>positive</td>\n",
              "    </tr>\n",
              "  </tbody>\n",
              "</table>\n",
              "<p>1491 rows × 7 columns</p>\n",
              "</div>\n",
              "    <div class=\"colab-df-buttons\">\n",
              "\n",
              "  <div class=\"colab-df-container\">\n",
              "    <button class=\"colab-df-convert\" onclick=\"convertToInteractive('df-d69ccf41-3d38-456d-b459-45d61f3b9b1c')\"\n",
              "            title=\"Convert this dataframe to an interactive table.\"\n",
              "            style=\"display:none;\">\n",
              "\n",
              "  <svg xmlns=\"http://www.w3.org/2000/svg\" height=\"24px\" viewBox=\"0 -960 960 960\">\n",
              "    <path d=\"M120-120v-720h720v720H120Zm60-500h600v-160H180v160Zm220 220h160v-160H400v160Zm0 220h160v-160H400v160ZM180-400h160v-160H180v160Zm440 0h160v-160H620v160ZM180-180h160v-160H180v160Zm440 0h160v-160H620v160Z\"/>\n",
              "  </svg>\n",
              "    </button>\n",
              "\n",
              "  <style>\n",
              "    .colab-df-container {\n",
              "      display:flex;\n",
              "      gap: 12px;\n",
              "    }\n",
              "\n",
              "    .colab-df-convert {\n",
              "      background-color: #E8F0FE;\n",
              "      border: none;\n",
              "      border-radius: 50%;\n",
              "      cursor: pointer;\n",
              "      display: none;\n",
              "      fill: #1967D2;\n",
              "      height: 32px;\n",
              "      padding: 0 0 0 0;\n",
              "      width: 32px;\n",
              "    }\n",
              "\n",
              "    .colab-df-convert:hover {\n",
              "      background-color: #E2EBFA;\n",
              "      box-shadow: 0px 1px 2px rgba(60, 64, 67, 0.3), 0px 1px 3px 1px rgba(60, 64, 67, 0.15);\n",
              "      fill: #174EA6;\n",
              "    }\n",
              "\n",
              "    .colab-df-buttons div {\n",
              "      margin-bottom: 4px;\n",
              "    }\n",
              "\n",
              "    [theme=dark] .colab-df-convert {\n",
              "      background-color: #3B4455;\n",
              "      fill: #D2E3FC;\n",
              "    }\n",
              "\n",
              "    [theme=dark] .colab-df-convert:hover {\n",
              "      background-color: #434B5C;\n",
              "      box-shadow: 0px 1px 3px 1px rgba(0, 0, 0, 0.15);\n",
              "      filter: drop-shadow(0px 1px 2px rgba(0, 0, 0, 0.3));\n",
              "      fill: #FFFFFF;\n",
              "    }\n",
              "  </style>\n",
              "\n",
              "    <script>\n",
              "      const buttonEl =\n",
              "        document.querySelector('#df-d69ccf41-3d38-456d-b459-45d61f3b9b1c button.colab-df-convert');\n",
              "      buttonEl.style.display =\n",
              "        google.colab.kernel.accessAllowed ? 'block' : 'none';\n",
              "\n",
              "      async function convertToInteractive(key) {\n",
              "        const element = document.querySelector('#df-d69ccf41-3d38-456d-b459-45d61f3b9b1c');\n",
              "        const dataTable =\n",
              "          await google.colab.kernel.invokeFunction('convertToInteractive',\n",
              "                                                    [key], {});\n",
              "        if (!dataTable) return;\n",
              "\n",
              "        const docLinkHtml = 'Like what you see? Visit the ' +\n",
              "          '<a target=\"_blank\" href=https://colab.research.google.com/notebooks/data_table.ipynb>data table notebook</a>'\n",
              "          + ' to learn more about interactive tables.';\n",
              "        element.innerHTML = '';\n",
              "        dataTable['output_type'] = 'display_data';\n",
              "        await google.colab.output.renderOutput(dataTable, element);\n",
              "        const docLink = document.createElement('div');\n",
              "        docLink.innerHTML = docLinkHtml;\n",
              "        element.appendChild(docLink);\n",
              "      }\n",
              "    </script>\n",
              "  </div>\n",
              "\n",
              "\n",
              "<div id=\"df-db388a94-74e9-4926-a0c4-f91c303b3fef\">\n",
              "  <button class=\"colab-df-quickchart\" onclick=\"quickchart('df-db388a94-74e9-4926-a0c4-f91c303b3fef')\"\n",
              "            title=\"Suggest charts.\"\n",
              "            style=\"display:none;\">\n",
              "\n",
              "<svg xmlns=\"http://www.w3.org/2000/svg\" height=\"24px\"viewBox=\"0 0 24 24\"\n",
              "     width=\"24px\">\n",
              "    <g>\n",
              "        <path d=\"M19 3H5c-1.1 0-2 .9-2 2v14c0 1.1.9 2 2 2h14c1.1 0 2-.9 2-2V5c0-1.1-.9-2-2-2zM9 17H7v-7h2v7zm4 0h-2V7h2v10zm4 0h-2v-4h2v4z\"/>\n",
              "    </g>\n",
              "</svg>\n",
              "  </button>\n",
              "\n",
              "<style>\n",
              "  .colab-df-quickchart {\n",
              "      --bg-color: #E8F0FE;\n",
              "      --fill-color: #1967D2;\n",
              "      --hover-bg-color: #E2EBFA;\n",
              "      --hover-fill-color: #174EA6;\n",
              "      --disabled-fill-color: #AAA;\n",
              "      --disabled-bg-color: #DDD;\n",
              "  }\n",
              "\n",
              "  [theme=dark] .colab-df-quickchart {\n",
              "      --bg-color: #3B4455;\n",
              "      --fill-color: #D2E3FC;\n",
              "      --hover-bg-color: #434B5C;\n",
              "      --hover-fill-color: #FFFFFF;\n",
              "      --disabled-bg-color: #3B4455;\n",
              "      --disabled-fill-color: #666;\n",
              "  }\n",
              "\n",
              "  .colab-df-quickchart {\n",
              "    background-color: var(--bg-color);\n",
              "    border: none;\n",
              "    border-radius: 50%;\n",
              "    cursor: pointer;\n",
              "    display: none;\n",
              "    fill: var(--fill-color);\n",
              "    height: 32px;\n",
              "    padding: 0;\n",
              "    width: 32px;\n",
              "  }\n",
              "\n",
              "  .colab-df-quickchart:hover {\n",
              "    background-color: var(--hover-bg-color);\n",
              "    box-shadow: 0 1px 2px rgba(60, 64, 67, 0.3), 0 1px 3px 1px rgba(60, 64, 67, 0.15);\n",
              "    fill: var(--button-hover-fill-color);\n",
              "  }\n",
              "\n",
              "  .colab-df-quickchart-complete:disabled,\n",
              "  .colab-df-quickchart-complete:disabled:hover {\n",
              "    background-color: var(--disabled-bg-color);\n",
              "    fill: var(--disabled-fill-color);\n",
              "    box-shadow: none;\n",
              "  }\n",
              "\n",
              "  .colab-df-spinner {\n",
              "    border: 2px solid var(--fill-color);\n",
              "    border-color: transparent;\n",
              "    border-bottom-color: var(--fill-color);\n",
              "    animation:\n",
              "      spin 1s steps(1) infinite;\n",
              "  }\n",
              "\n",
              "  @keyframes spin {\n",
              "    0% {\n",
              "      border-color: transparent;\n",
              "      border-bottom-color: var(--fill-color);\n",
              "      border-left-color: var(--fill-color);\n",
              "    }\n",
              "    20% {\n",
              "      border-color: transparent;\n",
              "      border-left-color: var(--fill-color);\n",
              "      border-top-color: var(--fill-color);\n",
              "    }\n",
              "    30% {\n",
              "      border-color: transparent;\n",
              "      border-left-color: var(--fill-color);\n",
              "      border-top-color: var(--fill-color);\n",
              "      border-right-color: var(--fill-color);\n",
              "    }\n",
              "    40% {\n",
              "      border-color: transparent;\n",
              "      border-right-color: var(--fill-color);\n",
              "      border-top-color: var(--fill-color);\n",
              "    }\n",
              "    60% {\n",
              "      border-color: transparent;\n",
              "      border-right-color: var(--fill-color);\n",
              "    }\n",
              "    80% {\n",
              "      border-color: transparent;\n",
              "      border-right-color: var(--fill-color);\n",
              "      border-bottom-color: var(--fill-color);\n",
              "    }\n",
              "    90% {\n",
              "      border-color: transparent;\n",
              "      border-bottom-color: var(--fill-color);\n",
              "    }\n",
              "  }\n",
              "</style>\n",
              "\n",
              "  <script>\n",
              "    async function quickchart(key) {\n",
              "      const quickchartButtonEl =\n",
              "        document.querySelector('#' + key + ' button');\n",
              "      quickchartButtonEl.disabled = true;  // To prevent multiple clicks.\n",
              "      quickchartButtonEl.classList.add('colab-df-spinner');\n",
              "      try {\n",
              "        const charts = await google.colab.kernel.invokeFunction(\n",
              "            'suggestCharts', [key], {});\n",
              "      } catch (error) {\n",
              "        console.error('Error during call to suggestCharts:', error);\n",
              "      }\n",
              "      quickchartButtonEl.classList.remove('colab-df-spinner');\n",
              "      quickchartButtonEl.classList.add('colab-df-quickchart-complete');\n",
              "    }\n",
              "    (() => {\n",
              "      let quickchartButtonEl =\n",
              "        document.querySelector('#df-db388a94-74e9-4926-a0c4-f91c303b3fef button');\n",
              "      quickchartButtonEl.style.display =\n",
              "        google.colab.kernel.accessAllowed ? 'block' : 'none';\n",
              "    })();\n",
              "  </script>\n",
              "</div>\n",
              "    </div>\n",
              "  </div>\n"
            ]
          },
          "metadata": {},
          "execution_count": 10
        }
      ]
    },
    {
      "cell_type": "markdown",
      "source": [
        "##PREPROCESSING"
      ],
      "metadata": {
        "id": "0sUiVXCLhu02"
      }
    },
    {
      "cell_type": "code",
      "source": [
        "df2_train.drop(columns=['from' , 'to', 'aspect_category'], inplace=True)\n",
        "df2_test.drop(columns=['from' , 'to', 'aspect_category'], inplace=True)\n",
        "df2_val.drop(columns=['from' , 'to', 'aspect_category'], inplace=True)\n"
      ],
      "metadata": {
        "id": "ISUBPYAUaTqM"
      },
      "execution_count": 11,
      "outputs": []
    },
    {
      "cell_type": "code",
      "source": [
        "## change the labels to integers for the training phase\n",
        "df2_train['polarity'][df2_train[\"polarity\"] == 'negative'] = 0\n",
        "df2_train['polarity'][df2_train[\"polarity\"] == 'positive'] = 1\n",
        "df2_train['polarity'][df2_train[\"polarity\"] == 'neutral'] = 2\n",
        "\n"
      ],
      "metadata": {
        "id": "Pwb14dYBh7xx"
      },
      "execution_count": 12,
      "outputs": []
    },
    {
      "cell_type": "code",
      "source": [
        "df2_test['polarity'][df2_test[\"polarity\"] == 'negative'] = 0\n",
        "df2_test['polarity'][df2_test[\"polarity\"] == 'positive'] = 1\n",
        "df2_test['polarity'][df2_test[\"polarity\"] == 'neutral'] = 2\n"
      ],
      "metadata": {
        "id": "l2p3fSyJh8zJ"
      },
      "execution_count": 13,
      "outputs": []
    },
    {
      "cell_type": "code",
      "source": [
        "df2_val['polarity'][df2_val[\"polarity\"] == 'negative'] = 0\n",
        "df2_val['polarity'][df2_val[\"polarity\"] == 'positive'] = 1\n",
        "df2_val['polarity'][df2_val[\"polarity\"] == 'neutral'] = 2\n"
      ],
      "metadata": {
        "id": "xURgPZRiiAdW"
      },
      "execution_count": 14,
      "outputs": []
    },
    {
      "cell_type": "code",
      "source": [
        "train_df = df2_train"
      ],
      "metadata": {
        "id": "0NZq0uMGlsnH"
      },
      "execution_count": 15,
      "outputs": []
    },
    {
      "cell_type": "code",
      "source": [
        "## Convert polarity Values to Integers\n",
        "train_df[\"polarity\"] = pd.to_numeric(train_df[\"polarity\"],errors='coerce')\n"
      ],
      "metadata": {
        "id": "Wk41xykgiHC4"
      },
      "execution_count": 16,
      "outputs": []
    },
    {
      "cell_type": "code",
      "source": [
        "## Split the Dataset into Training and Testing Datasets\n",
        "#X_train, y_train= train_test_split(train_df,train_df['polarity'],stratify=train_df['polarity'])\n",
        "\n",
        "X_train  = train_df\n",
        "y_train = train_df['polarity']"
      ],
      "metadata": {
        "id": "L9sTomgiiMSk"
      },
      "execution_count": 17,
      "outputs": []
    },
    {
      "cell_type": "code",
      "source": [
        "X_test = df2_test"
      ],
      "metadata": {
        "id": "VxmgXbsqicw-"
      },
      "execution_count": 18,
      "outputs": []
    },
    {
      "cell_type": "code",
      "source": [
        "## Convert polarity Values to Integers\n",
        "X_test[\"polarity\"] = pd.to_numeric(X_test[\"polarity\"],errors='coerce')\n"
      ],
      "metadata": {
        "id": "vWXa0l9ViOwI"
      },
      "execution_count": 19,
      "outputs": []
    },
    {
      "cell_type": "code",
      "source": [
        "y_test = X_test[\"polarity\"]"
      ],
      "metadata": {
        "id": "bZyvg_eTijus"
      },
      "execution_count": 20,
      "outputs": []
    },
    {
      "cell_type": "code",
      "source": [
        "X_val = df2_val"
      ],
      "metadata": {
        "id": "n_0SODhjilnO"
      },
      "execution_count": 21,
      "outputs": []
    },
    {
      "cell_type": "code",
      "source": [
        "## Convert polarity Values to Integers\n",
        "X_val[\"polarity\"] = pd.to_numeric(X_val[\"polarity\"],errors='coerce')\n"
      ],
      "metadata": {
        "id": "cETKyJsoimfD"
      },
      "execution_count": 22,
      "outputs": []
    },
    {
      "cell_type": "code",
      "source": [
        "y_val = X_val[\"polarity\"]"
      ],
      "metadata": {
        "id": "hJBkUrx_iqNX"
      },
      "execution_count": 23,
      "outputs": []
    },
    {
      "cell_type": "code",
      "source": [
        "NUM_WORDS = 100000 ## MAx of words to keep, based on word frequency.\n",
        "EMBEDDING_SIZE = 128 ## the length of the Vector the will"
      ],
      "metadata": {
        "id": "OL8gWe4Ni5Ml"
      },
      "execution_count": 24,
      "outputs": []
    },
    {
      "cell_type": "markdown",
      "source": [
        "## Embedding code\n"
      ],
      "metadata": {
        "id": "g5coWjxui8n5"
      }
    },
    {
      "cell_type": "code",
      "source": [
        "tokenizer = Tokenizer(num_words=NUM_WORDS,\n",
        "                      filters='!\"#$%&()*+,-./:;<=>?@[\\\\]^_`{|}~\\t\\n',\n",
        "                      lower=True, )\n",
        "## Fit_on_texts : Updates internal vocabulary based on a list of texts.\n",
        "tokenizer.fit_on_texts(list(X_train.sentence))\n",
        "text_X_train_tokenized = tokenizer.texts_to_sequences(X_train.sentence) # list of tokenized sentences\n",
        "Aspect_X_train_tokenized = tokenizer.texts_to_sequences(X_train['aspect_term']) # list of tokenized sentences\n",
        "text_X_test_tokenized = tokenizer.texts_to_sequences(X_test.sentence) # list of tokenized sentences\n",
        "Aspect_X_test_tokenized = tokenizer.texts_to_sequences(X_test['aspect_term']) # list of tokenized sentences\n",
        "text_X_val_tokenized = tokenizer.texts_to_sequences(X_val.sentence) # list of tokenized sentences\n",
        "Aspect_X_val_tokenized = tokenizer.texts_to_sequences(X_val['aspect_term']) # list of tokenized sentences"
      ],
      "metadata": {
        "id": "kHoNEPohi-J3"
      },
      "execution_count": 25,
      "outputs": []
    },
    {
      "cell_type": "code",
      "source": [
        "##Maximum length of sentences\n",
        "Max_Len =  max([len(one_title) for one_title in text_X_train_tokenized])\n",
        "Max_Len"
      ],
      "metadata": {
        "colab": {
          "base_uri": "https://localhost:8080/"
        },
        "id": "ZhbCyLlmjBvk",
        "outputId": "a0f51a2f-2d44-415e-f7b8-59ff5bac0169"
      },
      "execution_count": 26,
      "outputs": [
        {
          "output_type": "execute_result",
          "data": {
            "text/plain": [
              "59"
            ]
          },
          "metadata": {},
          "execution_count": 26
        }
      ]
    },
    {
      "cell_type": "code",
      "source": [
        "## Pads sequences(or sentences) to the same length.\n",
        "\n",
        "\n",
        "text_X_train_padded = pad_sequences(text_X_train_tokenized, maxlen=Max_Len)\n",
        "aspect_X_train_padded = pad_sequences(Aspect_X_train_tokenized, maxlen=1)\n",
        "\n",
        "text_X_test_padded = pad_sequences(text_X_test_tokenized, maxlen=Max_Len)\n",
        "aspect_X_test_padded = pad_sequences(Aspect_X_test_tokenized, maxlen=1)\n",
        "\n",
        "text_X_val_padded = pad_sequences(text_X_val_tokenized, maxlen=Max_Len)\n",
        "aspect_X_val_padded = pad_sequences(Aspect_X_val_tokenized, maxlen=1)\n"
      ],
      "metadata": {
        "id": "VLGQM2BrjDc2"
      },
      "execution_count": 27,
      "outputs": []
    },
    {
      "cell_type": "code",
      "source": [
        "## Concatenate the Embedding presentation of the sentences and aspects to Create training and testing dataset\n",
        "train_data =  [text_X_train_padded,aspect_X_train_padded]\n",
        "test_data =   [text_X_test_padded,aspect_X_test_padded]\n",
        "val_data = [text_X_val_padded,aspect_X_val_padded]"
      ],
      "metadata": {
        "id": "g4ixZb-QjFu5"
      },
      "execution_count": 28,
      "outputs": []
    },
    {
      "cell_type": "code",
      "source": [
        "\n",
        "# modified based on `https://gist.github.com/cbaziotis/7ef97ccf71cbc14366835198c09809d2`\n",
        "class Attention(Layer):\n",
        "    \"\"\"\n",
        "    Attention operation, with a context/query vector, for temporal data.\n",
        "    Supports Masking.\n",
        "    Follows the work of Yang et al. [https://www.cs.cmu.edu/~diyiy/docs/naacl16.pdf]\n",
        "    \"Hierarchical Attention Networks for Document Classification\"\n",
        "    by using a context vector to assist the attention\n",
        "    # Input shape\n",
        "        3D tensor with shape: `(samples, steps, features)`.\n",
        "    # Output shape\n",
        "        2D tensor with shape: `(samples, features)`.\n",
        "    How to use:\n",
        "    Just put it on top of an RNN Layer (GRU/LSTM/SimpleRNN) with return_sequences=True.\n",
        "    The dimensions are inferred based on the output shape of the RNN.\n",
        " e: The layer has been tested with Keras 2.0.6\n",
        "    Example:\n",
        "        model.add(LSTM(64, return_sequences=True))\n",
        "        model.add(AttentionWithContext())\n",
        "        # next add a Dense layer (for classification/regression) or whatever...\n",
        "    \"\"\"\n",
        "\n",
        "    def __init__(self, W_regularizer=None, u_regularizer=None, b_regularizer=None, W_constraint=None,\n",
        "                 u_constraint=None, b_constraint=None, use_W=True, use_bias=False, return_self_attend=False,\n",
        "                 return_attend_weight=True, **kwargs):\n",
        "        self.supports_masking = True\n",
        "\n",
        "        self.init = initializers.get('glorot_uniform')\n",
        "\n",
        "        self.W_regularizer = regularizers.get(W_regularizer)\n",
        "        self.u_regularizer = regularizers.get(u_regularizer)\n",
        "        self.b_regularizer = regularizers.get(b_regularizer)\n",
        "\n",
        "        self.W_constraint = constraints.get(W_constraint)\n",
        "        self.u_constraint = constraints.get(u_constraint)\n",
        "        self.b_constraint = constraints.get(b_constraint)\n",
        "\n",
        "        self.use_W = use_W\n",
        "        self.use_bias = use_bias\n",
        "        self.return_self_attend = return_self_attend    # whether perform self attention and return it\n",
        "        self.return_attend_weight = return_attend_weight    # whether return attention weight\n",
        "        super(Attention, self).__init__(**kwargs)\n",
        "\n",
        "    def build(self, input_shape):\n",
        "        assert len(input_shape) == 3\n",
        "\n",
        "        if self.use_W:\n",
        "            self.W = self.add_weight(shape=(input_shape[-1], input_shape[-1],),  initializer=self.init,\n",
        "                                     name='{}_W'.format(self.name), regularizer=self.W_regularizer,\n",
        "                                     constraint=self.W_constraint)\n",
        "        if self.use_bias:\n",
        "            self.b = self.add_weight(shape=(input_shape[1],), initializer='zero', name='{}_b'.format(self.name),\n",
        "                                     regularizer=self.b_regularizer, constraint=self.b_constraint)\n",
        "\n",
        "        self.u = self.add_weight(shape=(input_shape[-1],), initializer=self.init, name='{}_u'.format(self.name),\n",
        "                                 regularizer=self.u_regularizer, constraint=self.u_constraint)\n",
        "\n",
        "        super(Attention, self).build(input_shape)\n",
        "\n",
        "    def compute_mask(self, input, input_mask=None):\n",
        "        # do not pass the mask to the next layers\n",
        "        return None\n",
        "\n",
        "    def call(self, x, mask=None):\n",
        "        if self.use_W:\n",
        "            x = K.tanh(K.dot(x, self.W))\n",
        "\n",
        "        ait = Attention.dot_product(x, self.u)\n",
        "        if self.use_bias:\n",
        "            ait += self.b\n",
        "\n",
        "        a = K.exp(ait)\n",
        "\n",
        "        # apply mask after the exp. will be re-normalized next\n",
        "        if mask is not None:\n",
        "            # Cast the mask to floatX to avoid float64 upcasting in theano\n",
        "            a *= K.cast(mask, K.floatx())\n",
        "\n",
        "        # in some cases especially in the early stages of training the sum may be almost zero\n",
        "        # and this results in NaN's. A workaround is to add a very small positive number ε to the sum.\n",
        "        # a /= K.cast(K.sum(a, axis=1, keepdims=True), K.floatx())\n",
        "        a /= K.cast(K.sum(a, axis=1, keepdims=True) + K.epsilon(), K.floatx())\n",
        "\n",
        "        if self.return_self_attend:\n",
        "            attend_output = K.sum(x * K.expand_dims(a), axis=1)\n",
        "            if self.return_attend_weight:\n",
        "                return [attend_output, a]\n",
        "            else:\n",
        "                return attend_output\n",
        "        else:\n",
        "            return a\n",
        "\n",
        "    def compute_output_shape(self, input_shape):\n",
        "        if self.return_self_attend:\n",
        "            if self.return_attend_weight:\n",
        "                return [(input_shape[0], input_shape[-1]), (input_shape[0], input_shape[1])]\n",
        "            else:\n",
        "                return input_shape[0], input_shape[-1]\n",
        "        else:\n",
        "            return input_shape[0], input_shape[1]\n",
        "\n",
        "    @staticmethod\n",
        "    def dot_product(x, kernel):\n",
        "        \"\"\"\n",
        "        Wrapper for dot product operation, in order to be compatible with both\n",
        "        Theano and Tensorflow\n",
        "        Args:\n",
        "            x (): input\n",
        "            kernel (): weights\n",
        "        Returns:\n",
        "        \"\"\"\n",
        "        if K.backend() == 'tensorflow':\n",
        "            return K.squeeze(K.dot(x, K.expand_dims(kernel)), axis=-1)\n",
        "        else:\n",
        "            return K.dot(x, kernel)"
      ],
      "metadata": {
        "id": "s_PsNnTujH58"
      },
      "execution_count": 29,
      "outputs": []
    },
    {
      "cell_type": "code",
      "source": [
        "# attention-based lstm with aspect embedding\n",
        "def atae_lstm(lstm_units = 128):\n",
        "    input_text = Input(shape=(Max_Len,))\n",
        "    input_aspect = Input(shape=(1,),)\n",
        "\n",
        "    word_embedding = Embedding(NUM_WORDS, EMBEDDING_SIZE, input_length=Max_Len)\n",
        "    text_embed = SpatialDropout1D(0.2)(word_embedding(input_text))\n",
        "\n",
        "    asp_embedding = Embedding(NUM_WORDS, EMBEDDING_SIZE, input_length=Max_Len)\n",
        "\n",
        "    aspect_embed = asp_embedding(input_aspect)\n",
        "    aspect_embed = Flatten()(aspect_embed)  # reshape to 2d\n",
        "    repeat_aspect = RepeatVector(Max_Len)(aspect_embed)  # repeat aspect for every word in sequence\n",
        "\n",
        "    input_concat = concatenate([text_embed, repeat_aspect], axis=-1)\n",
        "    print(input_concat.shape)\n",
        "    hidden_vecs, state_h, _ = LSTM(lstm_units, return_sequences=True, return_state=True)(input_concat)\n",
        "    concat = concatenate([hidden_vecs, repeat_aspect], axis=-1)\n",
        "\n",
        "    # apply attention mechanism\n",
        "    attend_weight = Attention()(concat)\n",
        "    attend_weight_expand = Lambda(lambda x: K.expand_dims(x))(attend_weight)\n",
        "    attend_hidden = multiply([hidden_vecs, attend_weight_expand])\n",
        "    attend_hidden = Lambda(lambda x: K.sum(x, axis=1))(attend_hidden)\n",
        "\n",
        "    attend_hidden_dense = Dense(lstm_units)(attend_hidden)\n",
        "    last_hidden_dense = Dense(lstm_units)(state_h)\n",
        "    final_output = Activation('tanh')(add([attend_hidden_dense, last_hidden_dense]))\n",
        "    output = Dense(3, activation='softmax')(final_output)\n",
        "    return Model([input_text, input_aspect], output)"
      ],
      "metadata": {
        "id": "Qx1bTEW8jN5Q"
      },
      "execution_count": 30,
      "outputs": []
    },
    {
      "cell_type": "code",
      "source": [
        "\n",
        "atae_lstm_model =  atae_lstm()\n",
        "atae_lstm_model.summary()"
      ],
      "metadata": {
        "colab": {
          "base_uri": "https://localhost:8080/"
        },
        "id": "rhg-X7dKjPmN",
        "outputId": "55e74045-afe9-4c7e-8adf-9722fe9faced"
      },
      "execution_count": 31,
      "outputs": [
        {
          "output_type": "stream",
          "name": "stdout",
          "text": [
            "(None, 59, 256)\n"
          ]
        },
        {
          "output_type": "stream",
          "name": "stderr",
          "text": [
            "/usr/local/lib/python3.10/dist-packages/keras/initializers/initializers.py:120: UserWarning: The initializer GlorotUniform is unseeded and being called multiple times, which will return identical values each time (even if the initializer is unseeded). Please update your code to provide a seed to the initializer, or avoid using the same initalizer instance more than once.\n",
            "  warnings.warn(\n"
          ]
        },
        {
          "output_type": "stream",
          "name": "stdout",
          "text": [
            "Model: \"model\"\n",
            "__________________________________________________________________________________________________\n",
            " Layer (type)                   Output Shape         Param #     Connected to                     \n",
            "==================================================================================================\n",
            " input_2 (InputLayer)           [(None, 1)]          0           []                               \n",
            "                                                                                                  \n",
            " input_1 (InputLayer)           [(None, 59)]         0           []                               \n",
            "                                                                                                  \n",
            " embedding_1 (Embedding)        (None, 1, 128)       12800000    ['input_2[0][0]']                \n",
            "                                                                                                  \n",
            " embedding (Embedding)          (None, 59, 128)      12800000    ['input_1[0][0]']                \n",
            "                                                                                                  \n",
            " flatten (Flatten)              (None, 128)          0           ['embedding_1[0][0]']            \n",
            "                                                                                                  \n",
            " spatial_dropout1d (SpatialDrop  (None, 59, 128)     0           ['embedding[0][0]']              \n",
            " out1D)                                                                                           \n",
            "                                                                                                  \n",
            " repeat_vector (RepeatVector)   (None, 59, 128)      0           ['flatten[0][0]']                \n",
            "                                                                                                  \n",
            " concatenate (Concatenate)      (None, 59, 256)      0           ['spatial_dropout1d[0][0]',      \n",
            "                                                                  'repeat_vector[0][0]']          \n",
            "                                                                                                  \n",
            " lstm (LSTM)                    [(None, 59, 128),    197120      ['concatenate[0][0]']            \n",
            "                                 (None, 128),                                                     \n",
            "                                 (None, 128)]                                                     \n",
            "                                                                                                  \n",
            " concatenate_1 (Concatenate)    (None, 59, 256)      0           ['lstm[0][0]',                   \n",
            "                                                                  'repeat_vector[0][0]']          \n",
            "                                                                                                  \n",
            " attention (Attention)          (None, 59)           65792       ['concatenate_1[0][0]']          \n",
            "                                                                                                  \n",
            " lambda (Lambda)                (None, 59, 1)        0           ['attention[0][0]']              \n",
            "                                                                                                  \n",
            " multiply (Multiply)            (None, 59, 128)      0           ['lstm[0][0]',                   \n",
            "                                                                  'lambda[0][0]']                 \n",
            "                                                                                                  \n",
            " lambda_1 (Lambda)              (None, 128)          0           ['multiply[0][0]']               \n",
            "                                                                                                  \n",
            " dense (Dense)                  (None, 128)          16512       ['lambda_1[0][0]']               \n",
            "                                                                                                  \n",
            " dense_1 (Dense)                (None, 128)          16512       ['lstm[0][1]']                   \n",
            "                                                                                                  \n",
            " add (Add)                      (None, 128)          0           ['dense[0][0]',                  \n",
            "                                                                  'dense_1[0][0]']                \n",
            "                                                                                                  \n",
            " activation (Activation)        (None, 128)          0           ['add[0][0]']                    \n",
            "                                                                                                  \n",
            " dense_2 (Dense)                (None, 3)            387         ['activation[0][0]']             \n",
            "                                                                                                  \n",
            "==================================================================================================\n",
            "Total params: 25,896,323\n",
            "Trainable params: 25,896,323\n",
            "Non-trainable params: 0\n",
            "__________________________________________________________________________________________________\n"
          ]
        }
      ]
    },
    {
      "cell_type": "code",
      "source": [
        "\n",
        "learning_rate_reduction = ReduceLROnPlateau(monitor='val_accuracy',\n",
        "                                                    patience = 2,\n",
        "                                                    verbose=1,\n",
        "                                                    factor=0.1,\n",
        "                                                    min_lr=0.000001)\n",
        "\n",
        "atae_lstm_model.compile(loss='sparse_categorical_crossentropy', metrics=['accuracy'], optimizer='adam')\n",
        "atae_lstm_model.fit(x = train_data, y = y_train, validation_data = (val_data, y_val), batch_size=16, epochs=7, callbacks = [learning_rate_reduction])"
      ],
      "metadata": {
        "colab": {
          "base_uri": "https://localhost:8080/"
        },
        "id": "fHCpDR42jRtK",
        "outputId": "1ddb4798-7021-4bc5-fb60-87376de5040e"
      },
      "execution_count": 32,
      "outputs": [
        {
          "output_type": "stream",
          "name": "stdout",
          "text": [
            "Epoch 1/7\n",
            "94/94 [==============================] - 25s 165ms/step - loss: 0.7304 - accuracy: 0.7096 - val_loss: 0.5449 - val_accuracy: 0.7532 - lr: 0.0010\n",
            "Epoch 2/7\n",
            "94/94 [==============================] - 9s 92ms/step - loss: 0.4265 - accuracy: 0.8317 - val_loss: 0.5105 - val_accuracy: 0.8123 - lr: 0.0010\n",
            "Epoch 3/7\n",
            "94/94 [==============================] - 5s 50ms/step - loss: 0.2555 - accuracy: 0.9081 - val_loss: 0.5566 - val_accuracy: 0.8046 - lr: 0.0010\n",
            "Epoch 4/7\n",
            "94/94 [==============================] - ETA: 0s - loss: 0.1762 - accuracy: 0.9343\n",
            "Epoch 4: ReduceLROnPlateau reducing learning rate to 0.00010000000474974513.\n",
            "94/94 [==============================] - 3s 31ms/step - loss: 0.1762 - accuracy: 0.9343 - val_loss: 0.6805 - val_accuracy: 0.7763 - lr: 0.0010\n",
            "Epoch 5/7\n",
            "94/94 [==============================] - 2s 22ms/step - loss: 0.0984 - accuracy: 0.9577 - val_loss: 0.6859 - val_accuracy: 0.7892 - lr: 1.0000e-04\n",
            "Epoch 6/7\n",
            "94/94 [==============================] - ETA: 0s - loss: 0.0840 - accuracy: 0.9658\n",
            "Epoch 6: ReduceLROnPlateau reducing learning rate to 1.0000000474974514e-05.\n",
            "94/94 [==============================] - 3s 29ms/step - loss: 0.0840 - accuracy: 0.9658 - val_loss: 0.7138 - val_accuracy: 0.7918 - lr: 1.0000e-04\n",
            "Epoch 7/7\n",
            "94/94 [==============================] - 3s 29ms/step - loss: 0.0700 - accuracy: 0.9752 - val_loss: 0.7189 - val_accuracy: 0.7918 - lr: 1.0000e-05\n"
          ]
        },
        {
          "output_type": "execute_result",
          "data": {
            "text/plain": [
              "<keras.callbacks.History at 0x7ebea1764670>"
            ]
          },
          "metadata": {},
          "execution_count": 32
        }
      ]
    },
    {
      "cell_type": "code",
      "source": [
        "print(\"Evaluate on test data\")\n",
        "results = atae_lstm_model.evaluate(x = test_data , y = y_test )\n",
        "print(\"test loss, test acc:\", results)\n",
        "print(\"Accuracy of the model is - \" , results[1]*100 , \"%\")"
      ],
      "metadata": {
        "colab": {
          "base_uri": "https://localhost:8080/"
        },
        "id": "OuQVmXxzjTwO",
        "outputId": "ee017c4e-b0c1-4a76-fca2-5120c3942fe3"
      },
      "execution_count": 33,
      "outputs": [
        {
          "output_type": "stream",
          "name": "stdout",
          "text": [
            "Evaluate on test data\n",
            "21/21 [==============================] - 0s 5ms/step - loss: 0.6706 - accuracy: 0.8062\n",
            "test loss, test acc: [0.6706437468528748, 0.8061538338661194]\n",
            "Accuracy of the model is -  80.61538338661194 %\n"
          ]
        }
      ]
    },
    {
      "cell_type": "markdown",
      "source": [
        "##CROSS VALIDATION"
      ],
      "metadata": {
        "id": "-xnOQtu2mg5X"
      }
    },
    {
      "cell_type": "markdown",
      "source": [
        "##CROSS VALIDATE ON SEMEVAL RESTAURANT"
      ],
      "metadata": {
        "id": "n_K15xRRmkpx"
      }
    },
    {
      "cell_type": "code",
      "source": [
        "df2_test = pd.read_csv(\"/content/drive/MyDrive/ABSA work/codes/processed_SemEval2016/restaurants_test_single.csv\", encoding='utf8')"
      ],
      "metadata": {
        "id": "AAcy7WMFmf-a"
      },
      "execution_count": 34,
      "outputs": []
    },
    {
      "cell_type": "code",
      "source": [
        "df2_test"
      ],
      "metadata": {
        "colab": {
          "base_uri": "https://localhost:8080/",
          "height": 510
        },
        "id": "r4AkF7UxODLE",
        "outputId": "bb99b6de-7b2c-4707-a8e1-e63ffad5b781"
      },
      "execution_count": 35,
      "outputs": [
        {
          "output_type": "execute_result",
          "data": {
            "text/plain": [
              "                        sentence Id  \\\n",
              "0    en_BlueRibbonSushi_478218171:0   \n",
              "1    en_BlueRibbonSushi_478218171:1   \n",
              "2    en_BlueRibbonSushi_478218171:2   \n",
              "3    en_BlueRibbonSushi_478218171:3   \n",
              "4    en_BlueRibbonSushi_478218171:4   \n",
              "..                              ...   \n",
              "854  en_Ray'sBoathouse_477775918:13   \n",
              "855  en_Ray'sBoathouse_477775918:14   \n",
              "856  en_Ray'sBoathouse_477775918:14   \n",
              "857  en_Ray'sBoathouse_477775918:14   \n",
              "858  en_Ray'sBoathouse_477775918:15   \n",
              "\n",
              "                                              sentence  \\\n",
              "0                                                 Yum!   \n",
              "1                            Serves really good sushi.   \n",
              "2               Not the biggest portions but adequate.   \n",
              "3                    Green Tea creme brulee is a must!   \n",
              "4               Don't leave the restaurant without it.   \n",
              "..                                                 ...   \n",
              "854  All considered, I have to say that Ray's Boath...   \n",
              "855  While I could have done without the youth who ...   \n",
              "856  While I could have done without the youth who ...   \n",
              "857  While I could have done without the youth who ...   \n",
              "858                  Oh yeah...the view was good, too.   \n",
              "\n",
              "              aspect_category             aspect_term  from   to  polarity  \n",
              "0                FOOD#QUALITY                     NaN     0    0  positive  \n",
              "1                FOOD#QUALITY                   sushi    19   24  positive  \n",
              "2          FOOD#STYLE_OPTIONS                portions    16   24   neutral  \n",
              "3                FOOD#QUALITY  Green Tea creme brulee     0   22  positive  \n",
              "4                FOOD#QUALITY                     NaN     0    0  positive  \n",
              "..                        ...                     ...   ...  ...       ...  \n",
              "854        RESTAURANT#GENERAL         Ray's Boathouse    35   50  positive  \n",
              "855           SERVICE#GENERAL                  server    88   94  positive  \n",
              "856              FOOD#QUALITY                    food    99  103  positive  \n",
              "857  RESTAURANT#MISCELLANEOUS                     NaN     0    0  negative  \n",
              "858          LOCATION#GENERAL                    view    14   18  positive  \n",
              "\n",
              "[859 rows x 7 columns]"
            ],
            "text/html": [
              "\n",
              "  <div id=\"df-3949d3cf-8022-4280-ba02-700906c71848\" class=\"colab-df-container\">\n",
              "    <div>\n",
              "<style scoped>\n",
              "    .dataframe tbody tr th:only-of-type {\n",
              "        vertical-align: middle;\n",
              "    }\n",
              "\n",
              "    .dataframe tbody tr th {\n",
              "        vertical-align: top;\n",
              "    }\n",
              "\n",
              "    .dataframe thead th {\n",
              "        text-align: right;\n",
              "    }\n",
              "</style>\n",
              "<table border=\"1\" class=\"dataframe\">\n",
              "  <thead>\n",
              "    <tr style=\"text-align: right;\">\n",
              "      <th></th>\n",
              "      <th>sentence Id</th>\n",
              "      <th>sentence</th>\n",
              "      <th>aspect_category</th>\n",
              "      <th>aspect_term</th>\n",
              "      <th>from</th>\n",
              "      <th>to</th>\n",
              "      <th>polarity</th>\n",
              "    </tr>\n",
              "  </thead>\n",
              "  <tbody>\n",
              "    <tr>\n",
              "      <th>0</th>\n",
              "      <td>en_BlueRibbonSushi_478218171:0</td>\n",
              "      <td>Yum!</td>\n",
              "      <td>FOOD#QUALITY</td>\n",
              "      <td>NaN</td>\n",
              "      <td>0</td>\n",
              "      <td>0</td>\n",
              "      <td>positive</td>\n",
              "    </tr>\n",
              "    <tr>\n",
              "      <th>1</th>\n",
              "      <td>en_BlueRibbonSushi_478218171:1</td>\n",
              "      <td>Serves really good sushi.</td>\n",
              "      <td>FOOD#QUALITY</td>\n",
              "      <td>sushi</td>\n",
              "      <td>19</td>\n",
              "      <td>24</td>\n",
              "      <td>positive</td>\n",
              "    </tr>\n",
              "    <tr>\n",
              "      <th>2</th>\n",
              "      <td>en_BlueRibbonSushi_478218171:2</td>\n",
              "      <td>Not the biggest portions but adequate.</td>\n",
              "      <td>FOOD#STYLE_OPTIONS</td>\n",
              "      <td>portions</td>\n",
              "      <td>16</td>\n",
              "      <td>24</td>\n",
              "      <td>neutral</td>\n",
              "    </tr>\n",
              "    <tr>\n",
              "      <th>3</th>\n",
              "      <td>en_BlueRibbonSushi_478218171:3</td>\n",
              "      <td>Green Tea creme brulee is a must!</td>\n",
              "      <td>FOOD#QUALITY</td>\n",
              "      <td>Green Tea creme brulee</td>\n",
              "      <td>0</td>\n",
              "      <td>22</td>\n",
              "      <td>positive</td>\n",
              "    </tr>\n",
              "    <tr>\n",
              "      <th>4</th>\n",
              "      <td>en_BlueRibbonSushi_478218171:4</td>\n",
              "      <td>Don't leave the restaurant without it.</td>\n",
              "      <td>FOOD#QUALITY</td>\n",
              "      <td>NaN</td>\n",
              "      <td>0</td>\n",
              "      <td>0</td>\n",
              "      <td>positive</td>\n",
              "    </tr>\n",
              "    <tr>\n",
              "      <th>...</th>\n",
              "      <td>...</td>\n",
              "      <td>...</td>\n",
              "      <td>...</td>\n",
              "      <td>...</td>\n",
              "      <td>...</td>\n",
              "      <td>...</td>\n",
              "      <td>...</td>\n",
              "    </tr>\n",
              "    <tr>\n",
              "      <th>854</th>\n",
              "      <td>en_Ray'sBoathouse_477775918:13</td>\n",
              "      <td>All considered, I have to say that Ray's Boath...</td>\n",
              "      <td>RESTAURANT#GENERAL</td>\n",
              "      <td>Ray's Boathouse</td>\n",
              "      <td>35</td>\n",
              "      <td>50</td>\n",
              "      <td>positive</td>\n",
              "    </tr>\n",
              "    <tr>\n",
              "      <th>855</th>\n",
              "      <td>en_Ray'sBoathouse_477775918:14</td>\n",
              "      <td>While I could have done without the youth who ...</td>\n",
              "      <td>SERVICE#GENERAL</td>\n",
              "      <td>server</td>\n",
              "      <td>88</td>\n",
              "      <td>94</td>\n",
              "      <td>positive</td>\n",
              "    </tr>\n",
              "    <tr>\n",
              "      <th>856</th>\n",
              "      <td>en_Ray'sBoathouse_477775918:14</td>\n",
              "      <td>While I could have done without the youth who ...</td>\n",
              "      <td>FOOD#QUALITY</td>\n",
              "      <td>food</td>\n",
              "      <td>99</td>\n",
              "      <td>103</td>\n",
              "      <td>positive</td>\n",
              "    </tr>\n",
              "    <tr>\n",
              "      <th>857</th>\n",
              "      <td>en_Ray'sBoathouse_477775918:14</td>\n",
              "      <td>While I could have done without the youth who ...</td>\n",
              "      <td>RESTAURANT#MISCELLANEOUS</td>\n",
              "      <td>NaN</td>\n",
              "      <td>0</td>\n",
              "      <td>0</td>\n",
              "      <td>negative</td>\n",
              "    </tr>\n",
              "    <tr>\n",
              "      <th>858</th>\n",
              "      <td>en_Ray'sBoathouse_477775918:15</td>\n",
              "      <td>Oh yeah...the view was good, too.</td>\n",
              "      <td>LOCATION#GENERAL</td>\n",
              "      <td>view</td>\n",
              "      <td>14</td>\n",
              "      <td>18</td>\n",
              "      <td>positive</td>\n",
              "    </tr>\n",
              "  </tbody>\n",
              "</table>\n",
              "<p>859 rows × 7 columns</p>\n",
              "</div>\n",
              "    <div class=\"colab-df-buttons\">\n",
              "\n",
              "  <div class=\"colab-df-container\">\n",
              "    <button class=\"colab-df-convert\" onclick=\"convertToInteractive('df-3949d3cf-8022-4280-ba02-700906c71848')\"\n",
              "            title=\"Convert this dataframe to an interactive table.\"\n",
              "            style=\"display:none;\">\n",
              "\n",
              "  <svg xmlns=\"http://www.w3.org/2000/svg\" height=\"24px\" viewBox=\"0 -960 960 960\">\n",
              "    <path d=\"M120-120v-720h720v720H120Zm60-500h600v-160H180v160Zm220 220h160v-160H400v160Zm0 220h160v-160H400v160ZM180-400h160v-160H180v160Zm440 0h160v-160H620v160ZM180-180h160v-160H180v160Zm440 0h160v-160H620v160Z\"/>\n",
              "  </svg>\n",
              "    </button>\n",
              "\n",
              "  <style>\n",
              "    .colab-df-container {\n",
              "      display:flex;\n",
              "      gap: 12px;\n",
              "    }\n",
              "\n",
              "    .colab-df-convert {\n",
              "      background-color: #E8F0FE;\n",
              "      border: none;\n",
              "      border-radius: 50%;\n",
              "      cursor: pointer;\n",
              "      display: none;\n",
              "      fill: #1967D2;\n",
              "      height: 32px;\n",
              "      padding: 0 0 0 0;\n",
              "      width: 32px;\n",
              "    }\n",
              "\n",
              "    .colab-df-convert:hover {\n",
              "      background-color: #E2EBFA;\n",
              "      box-shadow: 0px 1px 2px rgba(60, 64, 67, 0.3), 0px 1px 3px 1px rgba(60, 64, 67, 0.15);\n",
              "      fill: #174EA6;\n",
              "    }\n",
              "\n",
              "    .colab-df-buttons div {\n",
              "      margin-bottom: 4px;\n",
              "    }\n",
              "\n",
              "    [theme=dark] .colab-df-convert {\n",
              "      background-color: #3B4455;\n",
              "      fill: #D2E3FC;\n",
              "    }\n",
              "\n",
              "    [theme=dark] .colab-df-convert:hover {\n",
              "      background-color: #434B5C;\n",
              "      box-shadow: 0px 1px 3px 1px rgba(0, 0, 0, 0.15);\n",
              "      filter: drop-shadow(0px 1px 2px rgba(0, 0, 0, 0.3));\n",
              "      fill: #FFFFFF;\n",
              "    }\n",
              "  </style>\n",
              "\n",
              "    <script>\n",
              "      const buttonEl =\n",
              "        document.querySelector('#df-3949d3cf-8022-4280-ba02-700906c71848 button.colab-df-convert');\n",
              "      buttonEl.style.display =\n",
              "        google.colab.kernel.accessAllowed ? 'block' : 'none';\n",
              "\n",
              "      async function convertToInteractive(key) {\n",
              "        const element = document.querySelector('#df-3949d3cf-8022-4280-ba02-700906c71848');\n",
              "        const dataTable =\n",
              "          await google.colab.kernel.invokeFunction('convertToInteractive',\n",
              "                                                    [key], {});\n",
              "        if (!dataTable) return;\n",
              "\n",
              "        const docLinkHtml = 'Like what you see? Visit the ' +\n",
              "          '<a target=\"_blank\" href=https://colab.research.google.com/notebooks/data_table.ipynb>data table notebook</a>'\n",
              "          + ' to learn more about interactive tables.';\n",
              "        element.innerHTML = '';\n",
              "        dataTable['output_type'] = 'display_data';\n",
              "        await google.colab.output.renderOutput(dataTable, element);\n",
              "        const docLink = document.createElement('div');\n",
              "        docLink.innerHTML = docLinkHtml;\n",
              "        element.appendChild(docLink);\n",
              "      }\n",
              "    </script>\n",
              "  </div>\n",
              "\n",
              "\n",
              "<div id=\"df-6ddcb4e4-36e5-48f1-8e49-08332838e576\">\n",
              "  <button class=\"colab-df-quickchart\" onclick=\"quickchart('df-6ddcb4e4-36e5-48f1-8e49-08332838e576')\"\n",
              "            title=\"Suggest charts.\"\n",
              "            style=\"display:none;\">\n",
              "\n",
              "<svg xmlns=\"http://www.w3.org/2000/svg\" height=\"24px\"viewBox=\"0 0 24 24\"\n",
              "     width=\"24px\">\n",
              "    <g>\n",
              "        <path d=\"M19 3H5c-1.1 0-2 .9-2 2v14c0 1.1.9 2 2 2h14c1.1 0 2-.9 2-2V5c0-1.1-.9-2-2-2zM9 17H7v-7h2v7zm4 0h-2V7h2v10zm4 0h-2v-4h2v4z\"/>\n",
              "    </g>\n",
              "</svg>\n",
              "  </button>\n",
              "\n",
              "<style>\n",
              "  .colab-df-quickchart {\n",
              "      --bg-color: #E8F0FE;\n",
              "      --fill-color: #1967D2;\n",
              "      --hover-bg-color: #E2EBFA;\n",
              "      --hover-fill-color: #174EA6;\n",
              "      --disabled-fill-color: #AAA;\n",
              "      --disabled-bg-color: #DDD;\n",
              "  }\n",
              "\n",
              "  [theme=dark] .colab-df-quickchart {\n",
              "      --bg-color: #3B4455;\n",
              "      --fill-color: #D2E3FC;\n",
              "      --hover-bg-color: #434B5C;\n",
              "      --hover-fill-color: #FFFFFF;\n",
              "      --disabled-bg-color: #3B4455;\n",
              "      --disabled-fill-color: #666;\n",
              "  }\n",
              "\n",
              "  .colab-df-quickchart {\n",
              "    background-color: var(--bg-color);\n",
              "    border: none;\n",
              "    border-radius: 50%;\n",
              "    cursor: pointer;\n",
              "    display: none;\n",
              "    fill: var(--fill-color);\n",
              "    height: 32px;\n",
              "    padding: 0;\n",
              "    width: 32px;\n",
              "  }\n",
              "\n",
              "  .colab-df-quickchart:hover {\n",
              "    background-color: var(--hover-bg-color);\n",
              "    box-shadow: 0 1px 2px rgba(60, 64, 67, 0.3), 0 1px 3px 1px rgba(60, 64, 67, 0.15);\n",
              "    fill: var(--button-hover-fill-color);\n",
              "  }\n",
              "\n",
              "  .colab-df-quickchart-complete:disabled,\n",
              "  .colab-df-quickchart-complete:disabled:hover {\n",
              "    background-color: var(--disabled-bg-color);\n",
              "    fill: var(--disabled-fill-color);\n",
              "    box-shadow: none;\n",
              "  }\n",
              "\n",
              "  .colab-df-spinner {\n",
              "    border: 2px solid var(--fill-color);\n",
              "    border-color: transparent;\n",
              "    border-bottom-color: var(--fill-color);\n",
              "    animation:\n",
              "      spin 1s steps(1) infinite;\n",
              "  }\n",
              "\n",
              "  @keyframes spin {\n",
              "    0% {\n",
              "      border-color: transparent;\n",
              "      border-bottom-color: var(--fill-color);\n",
              "      border-left-color: var(--fill-color);\n",
              "    }\n",
              "    20% {\n",
              "      border-color: transparent;\n",
              "      border-left-color: var(--fill-color);\n",
              "      border-top-color: var(--fill-color);\n",
              "    }\n",
              "    30% {\n",
              "      border-color: transparent;\n",
              "      border-left-color: var(--fill-color);\n",
              "      border-top-color: var(--fill-color);\n",
              "      border-right-color: var(--fill-color);\n",
              "    }\n",
              "    40% {\n",
              "      border-color: transparent;\n",
              "      border-right-color: var(--fill-color);\n",
              "      border-top-color: var(--fill-color);\n",
              "    }\n",
              "    60% {\n",
              "      border-color: transparent;\n",
              "      border-right-color: var(--fill-color);\n",
              "    }\n",
              "    80% {\n",
              "      border-color: transparent;\n",
              "      border-right-color: var(--fill-color);\n",
              "      border-bottom-color: var(--fill-color);\n",
              "    }\n",
              "    90% {\n",
              "      border-color: transparent;\n",
              "      border-bottom-color: var(--fill-color);\n",
              "    }\n",
              "  }\n",
              "</style>\n",
              "\n",
              "  <script>\n",
              "    async function quickchart(key) {\n",
              "      const quickchartButtonEl =\n",
              "        document.querySelector('#' + key + ' button');\n",
              "      quickchartButtonEl.disabled = true;  // To prevent multiple clicks.\n",
              "      quickchartButtonEl.classList.add('colab-df-spinner');\n",
              "      try {\n",
              "        const charts = await google.colab.kernel.invokeFunction(\n",
              "            'suggestCharts', [key], {});\n",
              "      } catch (error) {\n",
              "        console.error('Error during call to suggestCharts:', error);\n",
              "      }\n",
              "      quickchartButtonEl.classList.remove('colab-df-spinner');\n",
              "      quickchartButtonEl.classList.add('colab-df-quickchart-complete');\n",
              "    }\n",
              "    (() => {\n",
              "      let quickchartButtonEl =\n",
              "        document.querySelector('#df-6ddcb4e4-36e5-48f1-8e49-08332838e576 button');\n",
              "      quickchartButtonEl.style.display =\n",
              "        google.colab.kernel.accessAllowed ? 'block' : 'none';\n",
              "    })();\n",
              "  </script>\n",
              "</div>\n",
              "    </div>\n",
              "  </div>\n"
            ]
          },
          "metadata": {},
          "execution_count": 35
        }
      ]
    },
    {
      "cell_type": "code",
      "source": [
        "df2_test.drop(columns=['from' , 'to', 'aspect_category'], inplace=True)\n"
      ],
      "metadata": {
        "id": "0Mmtrk7ZzOYu"
      },
      "execution_count": 36,
      "outputs": []
    },
    {
      "cell_type": "code",
      "source": [
        "df2_test=df2_test.dropna(axis=0)\n"
      ],
      "metadata": {
        "id": "g2ghx0ySzUh3"
      },
      "execution_count": 37,
      "outputs": []
    },
    {
      "cell_type": "code",
      "source": [
        "df2_test"
      ],
      "metadata": {
        "colab": {
          "base_uri": "https://localhost:8080/",
          "height": 424
        },
        "id": "Lv2llNshOPWL",
        "outputId": "d0a60872-aeb1-4bdf-89b0-bc0d9db9f06c"
      },
      "execution_count": 38,
      "outputs": [
        {
          "output_type": "execute_result",
          "data": {
            "text/plain": [
              "                        sentence Id  \\\n",
              "1    en_BlueRibbonSushi_478218171:1   \n",
              "2    en_BlueRibbonSushi_478218171:2   \n",
              "3    en_BlueRibbonSushi_478218171:3   \n",
              "6    en_BlueRibbonSushi_478218345:1   \n",
              "7    en_BlueRibbonSushi_478218345:2   \n",
              "..                              ...   \n",
              "852  en_Ray'sBoathouse_477775918:10   \n",
              "854  en_Ray'sBoathouse_477775918:13   \n",
              "855  en_Ray'sBoathouse_477775918:14   \n",
              "856  en_Ray'sBoathouse_477775918:14   \n",
              "858  en_Ray'sBoathouse_477775918:15   \n",
              "\n",
              "                                              sentence  \\\n",
              "1                            Serves really good sushi.   \n",
              "2               Not the biggest portions but adequate.   \n",
              "3                    Green Tea creme brulee is a must!   \n",
              "6               – I can't say enough about this place.   \n",
              "7          It has great sushi and even better service.   \n",
              "..                                                 ...   \n",
              "852  Our server continued to be attentive throughou...   \n",
              "854  All considered, I have to say that Ray's Boath...   \n",
              "855  While I could have done without the youth who ...   \n",
              "856  While I could have done without the youth who ...   \n",
              "858                  Oh yeah...the view was good, too.   \n",
              "\n",
              "                aspect_term  polarity  \n",
              "1                     sushi  positive  \n",
              "2                  portions   neutral  \n",
              "3    Green Tea creme brulee  positive  \n",
              "6                     place  positive  \n",
              "7                     sushi  positive  \n",
              "..                      ...       ...  \n",
              "852                   Ray's   neutral  \n",
              "854         Ray's Boathouse  positive  \n",
              "855                  server  positive  \n",
              "856                    food  positive  \n",
              "858                    view  positive  \n",
              "\n",
              "[650 rows x 4 columns]"
            ],
            "text/html": [
              "\n",
              "  <div id=\"df-7c4c70d6-0396-4bcb-8d41-aeb874653307\" class=\"colab-df-container\">\n",
              "    <div>\n",
              "<style scoped>\n",
              "    .dataframe tbody tr th:only-of-type {\n",
              "        vertical-align: middle;\n",
              "    }\n",
              "\n",
              "    .dataframe tbody tr th {\n",
              "        vertical-align: top;\n",
              "    }\n",
              "\n",
              "    .dataframe thead th {\n",
              "        text-align: right;\n",
              "    }\n",
              "</style>\n",
              "<table border=\"1\" class=\"dataframe\">\n",
              "  <thead>\n",
              "    <tr style=\"text-align: right;\">\n",
              "      <th></th>\n",
              "      <th>sentence Id</th>\n",
              "      <th>sentence</th>\n",
              "      <th>aspect_term</th>\n",
              "      <th>polarity</th>\n",
              "    </tr>\n",
              "  </thead>\n",
              "  <tbody>\n",
              "    <tr>\n",
              "      <th>1</th>\n",
              "      <td>en_BlueRibbonSushi_478218171:1</td>\n",
              "      <td>Serves really good sushi.</td>\n",
              "      <td>sushi</td>\n",
              "      <td>positive</td>\n",
              "    </tr>\n",
              "    <tr>\n",
              "      <th>2</th>\n",
              "      <td>en_BlueRibbonSushi_478218171:2</td>\n",
              "      <td>Not the biggest portions but adequate.</td>\n",
              "      <td>portions</td>\n",
              "      <td>neutral</td>\n",
              "    </tr>\n",
              "    <tr>\n",
              "      <th>3</th>\n",
              "      <td>en_BlueRibbonSushi_478218171:3</td>\n",
              "      <td>Green Tea creme brulee is a must!</td>\n",
              "      <td>Green Tea creme brulee</td>\n",
              "      <td>positive</td>\n",
              "    </tr>\n",
              "    <tr>\n",
              "      <th>6</th>\n",
              "      <td>en_BlueRibbonSushi_478218345:1</td>\n",
              "      <td>– I can't say enough about this place.</td>\n",
              "      <td>place</td>\n",
              "      <td>positive</td>\n",
              "    </tr>\n",
              "    <tr>\n",
              "      <th>7</th>\n",
              "      <td>en_BlueRibbonSushi_478218345:2</td>\n",
              "      <td>It has great sushi and even better service.</td>\n",
              "      <td>sushi</td>\n",
              "      <td>positive</td>\n",
              "    </tr>\n",
              "    <tr>\n",
              "      <th>...</th>\n",
              "      <td>...</td>\n",
              "      <td>...</td>\n",
              "      <td>...</td>\n",
              "      <td>...</td>\n",
              "    </tr>\n",
              "    <tr>\n",
              "      <th>852</th>\n",
              "      <td>en_Ray'sBoathouse_477775918:10</td>\n",
              "      <td>Our server continued to be attentive throughou...</td>\n",
              "      <td>Ray's</td>\n",
              "      <td>neutral</td>\n",
              "    </tr>\n",
              "    <tr>\n",
              "      <th>854</th>\n",
              "      <td>en_Ray'sBoathouse_477775918:13</td>\n",
              "      <td>All considered, I have to say that Ray's Boath...</td>\n",
              "      <td>Ray's Boathouse</td>\n",
              "      <td>positive</td>\n",
              "    </tr>\n",
              "    <tr>\n",
              "      <th>855</th>\n",
              "      <td>en_Ray'sBoathouse_477775918:14</td>\n",
              "      <td>While I could have done without the youth who ...</td>\n",
              "      <td>server</td>\n",
              "      <td>positive</td>\n",
              "    </tr>\n",
              "    <tr>\n",
              "      <th>856</th>\n",
              "      <td>en_Ray'sBoathouse_477775918:14</td>\n",
              "      <td>While I could have done without the youth who ...</td>\n",
              "      <td>food</td>\n",
              "      <td>positive</td>\n",
              "    </tr>\n",
              "    <tr>\n",
              "      <th>858</th>\n",
              "      <td>en_Ray'sBoathouse_477775918:15</td>\n",
              "      <td>Oh yeah...the view was good, too.</td>\n",
              "      <td>view</td>\n",
              "      <td>positive</td>\n",
              "    </tr>\n",
              "  </tbody>\n",
              "</table>\n",
              "<p>650 rows × 4 columns</p>\n",
              "</div>\n",
              "    <div class=\"colab-df-buttons\">\n",
              "\n",
              "  <div class=\"colab-df-container\">\n",
              "    <button class=\"colab-df-convert\" onclick=\"convertToInteractive('df-7c4c70d6-0396-4bcb-8d41-aeb874653307')\"\n",
              "            title=\"Convert this dataframe to an interactive table.\"\n",
              "            style=\"display:none;\">\n",
              "\n",
              "  <svg xmlns=\"http://www.w3.org/2000/svg\" height=\"24px\" viewBox=\"0 -960 960 960\">\n",
              "    <path d=\"M120-120v-720h720v720H120Zm60-500h600v-160H180v160Zm220 220h160v-160H400v160Zm0 220h160v-160H400v160ZM180-400h160v-160H180v160Zm440 0h160v-160H620v160ZM180-180h160v-160H180v160Zm440 0h160v-160H620v160Z\"/>\n",
              "  </svg>\n",
              "    </button>\n",
              "\n",
              "  <style>\n",
              "    .colab-df-container {\n",
              "      display:flex;\n",
              "      gap: 12px;\n",
              "    }\n",
              "\n",
              "    .colab-df-convert {\n",
              "      background-color: #E8F0FE;\n",
              "      border: none;\n",
              "      border-radius: 50%;\n",
              "      cursor: pointer;\n",
              "      display: none;\n",
              "      fill: #1967D2;\n",
              "      height: 32px;\n",
              "      padding: 0 0 0 0;\n",
              "      width: 32px;\n",
              "    }\n",
              "\n",
              "    .colab-df-convert:hover {\n",
              "      background-color: #E2EBFA;\n",
              "      box-shadow: 0px 1px 2px rgba(60, 64, 67, 0.3), 0px 1px 3px 1px rgba(60, 64, 67, 0.15);\n",
              "      fill: #174EA6;\n",
              "    }\n",
              "\n",
              "    .colab-df-buttons div {\n",
              "      margin-bottom: 4px;\n",
              "    }\n",
              "\n",
              "    [theme=dark] .colab-df-convert {\n",
              "      background-color: #3B4455;\n",
              "      fill: #D2E3FC;\n",
              "    }\n",
              "\n",
              "    [theme=dark] .colab-df-convert:hover {\n",
              "      background-color: #434B5C;\n",
              "      box-shadow: 0px 1px 3px 1px rgba(0, 0, 0, 0.15);\n",
              "      filter: drop-shadow(0px 1px 2px rgba(0, 0, 0, 0.3));\n",
              "      fill: #FFFFFF;\n",
              "    }\n",
              "  </style>\n",
              "\n",
              "    <script>\n",
              "      const buttonEl =\n",
              "        document.querySelector('#df-7c4c70d6-0396-4bcb-8d41-aeb874653307 button.colab-df-convert');\n",
              "      buttonEl.style.display =\n",
              "        google.colab.kernel.accessAllowed ? 'block' : 'none';\n",
              "\n",
              "      async function convertToInteractive(key) {\n",
              "        const element = document.querySelector('#df-7c4c70d6-0396-4bcb-8d41-aeb874653307');\n",
              "        const dataTable =\n",
              "          await google.colab.kernel.invokeFunction('convertToInteractive',\n",
              "                                                    [key], {});\n",
              "        if (!dataTable) return;\n",
              "\n",
              "        const docLinkHtml = 'Like what you see? Visit the ' +\n",
              "          '<a target=\"_blank\" href=https://colab.research.google.com/notebooks/data_table.ipynb>data table notebook</a>'\n",
              "          + ' to learn more about interactive tables.';\n",
              "        element.innerHTML = '';\n",
              "        dataTable['output_type'] = 'display_data';\n",
              "        await google.colab.output.renderOutput(dataTable, element);\n",
              "        const docLink = document.createElement('div');\n",
              "        docLink.innerHTML = docLinkHtml;\n",
              "        element.appendChild(docLink);\n",
              "      }\n",
              "    </script>\n",
              "  </div>\n",
              "\n",
              "\n",
              "<div id=\"df-2098f112-9227-4986-80f1-d393f8ba6d61\">\n",
              "  <button class=\"colab-df-quickchart\" onclick=\"quickchart('df-2098f112-9227-4986-80f1-d393f8ba6d61')\"\n",
              "            title=\"Suggest charts.\"\n",
              "            style=\"display:none;\">\n",
              "\n",
              "<svg xmlns=\"http://www.w3.org/2000/svg\" height=\"24px\"viewBox=\"0 0 24 24\"\n",
              "     width=\"24px\">\n",
              "    <g>\n",
              "        <path d=\"M19 3H5c-1.1 0-2 .9-2 2v14c0 1.1.9 2 2 2h14c1.1 0 2-.9 2-2V5c0-1.1-.9-2-2-2zM9 17H7v-7h2v7zm4 0h-2V7h2v10zm4 0h-2v-4h2v4z\"/>\n",
              "    </g>\n",
              "</svg>\n",
              "  </button>\n",
              "\n",
              "<style>\n",
              "  .colab-df-quickchart {\n",
              "      --bg-color: #E8F0FE;\n",
              "      --fill-color: #1967D2;\n",
              "      --hover-bg-color: #E2EBFA;\n",
              "      --hover-fill-color: #174EA6;\n",
              "      --disabled-fill-color: #AAA;\n",
              "      --disabled-bg-color: #DDD;\n",
              "  }\n",
              "\n",
              "  [theme=dark] .colab-df-quickchart {\n",
              "      --bg-color: #3B4455;\n",
              "      --fill-color: #D2E3FC;\n",
              "      --hover-bg-color: #434B5C;\n",
              "      --hover-fill-color: #FFFFFF;\n",
              "      --disabled-bg-color: #3B4455;\n",
              "      --disabled-fill-color: #666;\n",
              "  }\n",
              "\n",
              "  .colab-df-quickchart {\n",
              "    background-color: var(--bg-color);\n",
              "    border: none;\n",
              "    border-radius: 50%;\n",
              "    cursor: pointer;\n",
              "    display: none;\n",
              "    fill: var(--fill-color);\n",
              "    height: 32px;\n",
              "    padding: 0;\n",
              "    width: 32px;\n",
              "  }\n",
              "\n",
              "  .colab-df-quickchart:hover {\n",
              "    background-color: var(--hover-bg-color);\n",
              "    box-shadow: 0 1px 2px rgba(60, 64, 67, 0.3), 0 1px 3px 1px rgba(60, 64, 67, 0.15);\n",
              "    fill: var(--button-hover-fill-color);\n",
              "  }\n",
              "\n",
              "  .colab-df-quickchart-complete:disabled,\n",
              "  .colab-df-quickchart-complete:disabled:hover {\n",
              "    background-color: var(--disabled-bg-color);\n",
              "    fill: var(--disabled-fill-color);\n",
              "    box-shadow: none;\n",
              "  }\n",
              "\n",
              "  .colab-df-spinner {\n",
              "    border: 2px solid var(--fill-color);\n",
              "    border-color: transparent;\n",
              "    border-bottom-color: var(--fill-color);\n",
              "    animation:\n",
              "      spin 1s steps(1) infinite;\n",
              "  }\n",
              "\n",
              "  @keyframes spin {\n",
              "    0% {\n",
              "      border-color: transparent;\n",
              "      border-bottom-color: var(--fill-color);\n",
              "      border-left-color: var(--fill-color);\n",
              "    }\n",
              "    20% {\n",
              "      border-color: transparent;\n",
              "      border-left-color: var(--fill-color);\n",
              "      border-top-color: var(--fill-color);\n",
              "    }\n",
              "    30% {\n",
              "      border-color: transparent;\n",
              "      border-left-color: var(--fill-color);\n",
              "      border-top-color: var(--fill-color);\n",
              "      border-right-color: var(--fill-color);\n",
              "    }\n",
              "    40% {\n",
              "      border-color: transparent;\n",
              "      border-right-color: var(--fill-color);\n",
              "      border-top-color: var(--fill-color);\n",
              "    }\n",
              "    60% {\n",
              "      border-color: transparent;\n",
              "      border-right-color: var(--fill-color);\n",
              "    }\n",
              "    80% {\n",
              "      border-color: transparent;\n",
              "      border-right-color: var(--fill-color);\n",
              "      border-bottom-color: var(--fill-color);\n",
              "    }\n",
              "    90% {\n",
              "      border-color: transparent;\n",
              "      border-bottom-color: var(--fill-color);\n",
              "    }\n",
              "  }\n",
              "</style>\n",
              "\n",
              "  <script>\n",
              "    async function quickchart(key) {\n",
              "      const quickchartButtonEl =\n",
              "        document.querySelector('#' + key + ' button');\n",
              "      quickchartButtonEl.disabled = true;  // To prevent multiple clicks.\n",
              "      quickchartButtonEl.classList.add('colab-df-spinner');\n",
              "      try {\n",
              "        const charts = await google.colab.kernel.invokeFunction(\n",
              "            'suggestCharts', [key], {});\n",
              "      } catch (error) {\n",
              "        console.error('Error during call to suggestCharts:', error);\n",
              "      }\n",
              "      quickchartButtonEl.classList.remove('colab-df-spinner');\n",
              "      quickchartButtonEl.classList.add('colab-df-quickchart-complete');\n",
              "    }\n",
              "    (() => {\n",
              "      let quickchartButtonEl =\n",
              "        document.querySelector('#df-2098f112-9227-4986-80f1-d393f8ba6d61 button');\n",
              "      quickchartButtonEl.style.display =\n",
              "        google.colab.kernel.accessAllowed ? 'block' : 'none';\n",
              "    })();\n",
              "  </script>\n",
              "</div>\n",
              "    </div>\n",
              "  </div>\n"
            ]
          },
          "metadata": {},
          "execution_count": 38
        }
      ]
    },
    {
      "cell_type": "code",
      "source": [
        "df2_test['polarity'][df2_test[\"polarity\"] == 'negative'] = 0\n",
        "df2_test['polarity'][df2_test[\"polarity\"] == 'positive'] = 1\n",
        "df2_test['polarity'][df2_test[\"polarity\"] == 'neutral'] = 2\n"
      ],
      "metadata": {
        "id": "BFDj_BjqmXCz",
        "colab": {
          "base_uri": "https://localhost:8080/"
        },
        "outputId": "0d31ebe5-048f-4d49-9891-dfdf2618910f"
      },
      "execution_count": 39,
      "outputs": [
        {
          "output_type": "stream",
          "name": "stderr",
          "text": [
            "<ipython-input-39-ee27ebe34892>:1: SettingWithCopyWarning: \n",
            "A value is trying to be set on a copy of a slice from a DataFrame\n",
            "\n",
            "See the caveats in the documentation: https://pandas.pydata.org/pandas-docs/stable/user_guide/indexing.html#returning-a-view-versus-a-copy\n",
            "  df2_test['polarity'][df2_test[\"polarity\"] == 'negative'] = 0\n",
            "<ipython-input-39-ee27ebe34892>:2: SettingWithCopyWarning: \n",
            "A value is trying to be set on a copy of a slice from a DataFrame\n",
            "\n",
            "See the caveats in the documentation: https://pandas.pydata.org/pandas-docs/stable/user_guide/indexing.html#returning-a-view-versus-a-copy\n",
            "  df2_test['polarity'][df2_test[\"polarity\"] == 'positive'] = 1\n",
            "<ipython-input-39-ee27ebe34892>:3: SettingWithCopyWarning: \n",
            "A value is trying to be set on a copy of a slice from a DataFrame\n",
            "\n",
            "See the caveats in the documentation: https://pandas.pydata.org/pandas-docs/stable/user_guide/indexing.html#returning-a-view-versus-a-copy\n",
            "  df2_test['polarity'][df2_test[\"polarity\"] == 'neutral'] = 2\n"
          ]
        }
      ]
    },
    {
      "cell_type": "code",
      "source": [
        "X_test = df2_test"
      ],
      "metadata": {
        "id": "buoJjXnhzfJb"
      },
      "execution_count": 40,
      "outputs": []
    },
    {
      "cell_type": "code",
      "source": [
        "\n",
        "## Convert polarity Values to Integers\n",
        "X_test[\"polarity\"] = pd.to_numeric(X_test[\"polarity\"],errors='coerce')\n"
      ],
      "metadata": {
        "id": "wO8lVqI4zhV8",
        "colab": {
          "base_uri": "https://localhost:8080/"
        },
        "outputId": "b237b17b-d375-45bd-feb6-1790061693aa"
      },
      "execution_count": 41,
      "outputs": [
        {
          "output_type": "stream",
          "name": "stderr",
          "text": [
            "<ipython-input-41-9dad12974081>:2: SettingWithCopyWarning: \n",
            "A value is trying to be set on a copy of a slice from a DataFrame.\n",
            "Try using .loc[row_indexer,col_indexer] = value instead\n",
            "\n",
            "See the caveats in the documentation: https://pandas.pydata.org/pandas-docs/stable/user_guide/indexing.html#returning-a-view-versus-a-copy\n",
            "  X_test[\"polarity\"] = pd.to_numeric(X_test[\"polarity\"],errors='coerce')\n"
          ]
        }
      ]
    },
    {
      "cell_type": "code",
      "source": [
        "y_test = X_test[\"polarity\"]"
      ],
      "metadata": {
        "id": "k32uN8z9zj6j"
      },
      "execution_count": 42,
      "outputs": []
    },
    {
      "cell_type": "code",
      "source": [
        "tokenizer = Tokenizer(num_words=NUM_WORDS,\n",
        "                      filters='!\"#$%&()*+,-./:;<=>?@[\\\\]^_`{|}~\\t\\n',\n",
        "                      lower=True, )\n",
        "## Fit_on_texts : Updates internal vocabulary based on a list of texts.\n",
        "tokenizer.fit_on_texts(list(X_train.sentence))\n",
        "text_X_test_tokenized = tokenizer.texts_to_sequences(X_test.sentence) # list of tokenized sentences\n",
        "Aspect_X_test_tokenized = tokenizer.texts_to_sequences(X_test['aspect_term']) # list of tokenized sentences\n"
      ],
      "metadata": {
        "id": "7c0m8YLXzogI"
      },
      "execution_count": 43,
      "outputs": []
    },
    {
      "cell_type": "code",
      "source": [],
      "metadata": {
        "id": "BoYPyaxUzw8W"
      },
      "execution_count": 43,
      "outputs": []
    },
    {
      "cell_type": "code",
      "source": [
        "## Pads sequences(or sentences) to the same length.\n",
        "\n",
        "\n",
        "\n",
        "text_X_test_padded = pad_sequences(text_X_test_tokenized, maxlen=Max_Len)\n",
        "aspect_X_test_padded = pad_sequences(Aspect_X_test_tokenized, maxlen=1)\n"
      ],
      "metadata": {
        "id": "ZSem8DQqzxvw"
      },
      "execution_count": 44,
      "outputs": []
    },
    {
      "cell_type": "code",
      "source": [
        "test_data =   [text_X_test_padded,aspect_X_test_padded]\n"
      ],
      "metadata": {
        "id": "k44-buJ80G6S"
      },
      "execution_count": 45,
      "outputs": []
    },
    {
      "cell_type": "code",
      "source": [
        "\"\"\"\n",
        "print(\"Evaluate on test data\")\n",
        "results = atae_lstm_model.evaluate(x = test_data , y = y_test )\n",
        "print(\"test loss, test acc:\", results)\n",
        "print(\"Accuracy of the model is - \" , results[1]*100 , \"%\")\n",
        "\"\"\""
      ],
      "metadata": {
        "colab": {
          "base_uri": "https://localhost:8080/",
          "height": 53
        },
        "id": "s7J_ht6v0KwB",
        "outputId": "38bfc7a1-480c-4622-c17e-4ca6afa7e840"
      },
      "execution_count": 46,
      "outputs": [
        {
          "output_type": "execute_result",
          "data": {
            "text/plain": [
              "'\\nprint(\"Evaluate on test data\")\\nresults = atae_lstm_model.evaluate(x = test_data , y = y_test )\\nprint(\"test loss, test acc:\", results)\\nprint(\"Accuracy of the model is - \" , results[1]*100 , \"%\")\\n'"
            ],
            "application/vnd.google.colaboratory.intrinsic+json": {
              "type": "string"
            }
          },
          "metadata": {},
          "execution_count": 46
        }
      ]
    },
    {
      "cell_type": "markdown",
      "source": [
        "##CROSS VALIDATE ON YASO"
      ],
      "metadata": {
        "id": "baajsffE2Fgl"
      }
    },
    {
      "cell_type": "code",
      "source": [
        "df2_test = pd.read_csv(\"/content/drive/MyDrive/ABSA work/codes/processed_YASO/TSA-MD_val_single.csv\")"
      ],
      "metadata": {
        "id": "JlARt3OT1pwL"
      },
      "execution_count": 47,
      "outputs": []
    },
    {
      "cell_type": "code",
      "source": [
        "def delete_rows_with_target_not_found(df):\n",
        "    return df.loc[df['aspect_term'] != 'Target Not Found']\n"
      ],
      "metadata": {
        "id": "q5kwD3xwGmPV"
      },
      "execution_count": 48,
      "outputs": []
    },
    {
      "cell_type": "code",
      "source": [
        "df2_test = delete_rows_with_target_not_found(df2_test)"
      ],
      "metadata": {
        "id": "Ndlx_Ic8GnQT"
      },
      "execution_count": 49,
      "outputs": []
    },
    {
      "cell_type": "code",
      "source": [
        "df2_test"
      ],
      "metadata": {
        "colab": {
          "base_uri": "https://localhost:8080/",
          "height": 424
        },
        "id": "zYL1zcKK5s5t",
        "outputId": "9b709fff-167d-4c09-d71d-20460b72bc6c"
      },
      "execution_count": 50,
      "outputs": [
        {
          "output_type": "execute_result",
          "data": {
            "text/plain": [
              "                                              sentence  \\\n",
              "0         \"Typical\" Italian food was far from typical.   \n",
              "1    After a few weeks the tablet started asking fo...   \n",
              "2    After a few weeks the tablet started asking fo...   \n",
              "3    After a few weeks the tablet started asking fo...   \n",
              "4    After a few weeks the tablet started asking fo...   \n",
              "..                                                 ...   \n",
              "306  yesterday, I ordered four chicken sandwiches b...   \n",
              "307  yesterday, I ordered four chicken sandwiches b...   \n",
              "308  yesterday, I ordered four chicken sandwiches b...   \n",
              "309             you can find there anything you want .   \n",
              "310  you can let your child  play in the kids area ...   \n",
              "\n",
              "                            aspect_term  begin  end  polarity  \n",
              "0                          Italian food     10   22  negative  \n",
              "1                                 sound    128  133  positive  \n",
              "2                                   buy    251  254  positive  \n",
              "3                   wireless headphones    202  221  positive  \n",
              "4    resolution of the camera is decent     88  122  positive  \n",
              "..                                  ...    ...  ...       ...  \n",
              "306                           delivered    105  114  negative  \n",
              "307                     quality of food     53   68  negative  \n",
              "308                  chicken sandwiches     26   44  negative  \n",
              "309                               there     13   18  positive  \n",
              "310                           kids area     36   45  positive  \n",
              "\n",
              "[311 rows x 5 columns]"
            ],
            "text/html": [
              "\n",
              "  <div id=\"df-c5b4d090-4195-4394-8052-d53f818cb22c\" class=\"colab-df-container\">\n",
              "    <div>\n",
              "<style scoped>\n",
              "    .dataframe tbody tr th:only-of-type {\n",
              "        vertical-align: middle;\n",
              "    }\n",
              "\n",
              "    .dataframe tbody tr th {\n",
              "        vertical-align: top;\n",
              "    }\n",
              "\n",
              "    .dataframe thead th {\n",
              "        text-align: right;\n",
              "    }\n",
              "</style>\n",
              "<table border=\"1\" class=\"dataframe\">\n",
              "  <thead>\n",
              "    <tr style=\"text-align: right;\">\n",
              "      <th></th>\n",
              "      <th>sentence</th>\n",
              "      <th>aspect_term</th>\n",
              "      <th>begin</th>\n",
              "      <th>end</th>\n",
              "      <th>polarity</th>\n",
              "    </tr>\n",
              "  </thead>\n",
              "  <tbody>\n",
              "    <tr>\n",
              "      <th>0</th>\n",
              "      <td>\"Typical\" Italian food was far from typical.</td>\n",
              "      <td>Italian food</td>\n",
              "      <td>10</td>\n",
              "      <td>22</td>\n",
              "      <td>negative</td>\n",
              "    </tr>\n",
              "    <tr>\n",
              "      <th>1</th>\n",
              "      <td>After a few weeks the tablet started asking fo...</td>\n",
              "      <td>sound</td>\n",
              "      <td>128</td>\n",
              "      <td>133</td>\n",
              "      <td>positive</td>\n",
              "    </tr>\n",
              "    <tr>\n",
              "      <th>2</th>\n",
              "      <td>After a few weeks the tablet started asking fo...</td>\n",
              "      <td>buy</td>\n",
              "      <td>251</td>\n",
              "      <td>254</td>\n",
              "      <td>positive</td>\n",
              "    </tr>\n",
              "    <tr>\n",
              "      <th>3</th>\n",
              "      <td>After a few weeks the tablet started asking fo...</td>\n",
              "      <td>wireless headphones</td>\n",
              "      <td>202</td>\n",
              "      <td>221</td>\n",
              "      <td>positive</td>\n",
              "    </tr>\n",
              "    <tr>\n",
              "      <th>4</th>\n",
              "      <td>After a few weeks the tablet started asking fo...</td>\n",
              "      <td>resolution of the camera is decent</td>\n",
              "      <td>88</td>\n",
              "      <td>122</td>\n",
              "      <td>positive</td>\n",
              "    </tr>\n",
              "    <tr>\n",
              "      <th>...</th>\n",
              "      <td>...</td>\n",
              "      <td>...</td>\n",
              "      <td>...</td>\n",
              "      <td>...</td>\n",
              "      <td>...</td>\n",
              "    </tr>\n",
              "    <tr>\n",
              "      <th>306</th>\n",
              "      <td>yesterday, I ordered four chicken sandwiches b...</td>\n",
              "      <td>delivered</td>\n",
              "      <td>105</td>\n",
              "      <td>114</td>\n",
              "      <td>negative</td>\n",
              "    </tr>\n",
              "    <tr>\n",
              "      <th>307</th>\n",
              "      <td>yesterday, I ordered four chicken sandwiches b...</td>\n",
              "      <td>quality of food</td>\n",
              "      <td>53</td>\n",
              "      <td>68</td>\n",
              "      <td>negative</td>\n",
              "    </tr>\n",
              "    <tr>\n",
              "      <th>308</th>\n",
              "      <td>yesterday, I ordered four chicken sandwiches b...</td>\n",
              "      <td>chicken sandwiches</td>\n",
              "      <td>26</td>\n",
              "      <td>44</td>\n",
              "      <td>negative</td>\n",
              "    </tr>\n",
              "    <tr>\n",
              "      <th>309</th>\n",
              "      <td>you can find there anything you want .</td>\n",
              "      <td>there</td>\n",
              "      <td>13</td>\n",
              "      <td>18</td>\n",
              "      <td>positive</td>\n",
              "    </tr>\n",
              "    <tr>\n",
              "      <th>310</th>\n",
              "      <td>you can let your child  play in the kids area ...</td>\n",
              "      <td>kids area</td>\n",
              "      <td>36</td>\n",
              "      <td>45</td>\n",
              "      <td>positive</td>\n",
              "    </tr>\n",
              "  </tbody>\n",
              "</table>\n",
              "<p>311 rows × 5 columns</p>\n",
              "</div>\n",
              "    <div class=\"colab-df-buttons\">\n",
              "\n",
              "  <div class=\"colab-df-container\">\n",
              "    <button class=\"colab-df-convert\" onclick=\"convertToInteractive('df-c5b4d090-4195-4394-8052-d53f818cb22c')\"\n",
              "            title=\"Convert this dataframe to an interactive table.\"\n",
              "            style=\"display:none;\">\n",
              "\n",
              "  <svg xmlns=\"http://www.w3.org/2000/svg\" height=\"24px\" viewBox=\"0 -960 960 960\">\n",
              "    <path d=\"M120-120v-720h720v720H120Zm60-500h600v-160H180v160Zm220 220h160v-160H400v160Zm0 220h160v-160H400v160ZM180-400h160v-160H180v160Zm440 0h160v-160H620v160ZM180-180h160v-160H180v160Zm440 0h160v-160H620v160Z\"/>\n",
              "  </svg>\n",
              "    </button>\n",
              "\n",
              "  <style>\n",
              "    .colab-df-container {\n",
              "      display:flex;\n",
              "      gap: 12px;\n",
              "    }\n",
              "\n",
              "    .colab-df-convert {\n",
              "      background-color: #E8F0FE;\n",
              "      border: none;\n",
              "      border-radius: 50%;\n",
              "      cursor: pointer;\n",
              "      display: none;\n",
              "      fill: #1967D2;\n",
              "      height: 32px;\n",
              "      padding: 0 0 0 0;\n",
              "      width: 32px;\n",
              "    }\n",
              "\n",
              "    .colab-df-convert:hover {\n",
              "      background-color: #E2EBFA;\n",
              "      box-shadow: 0px 1px 2px rgba(60, 64, 67, 0.3), 0px 1px 3px 1px rgba(60, 64, 67, 0.15);\n",
              "      fill: #174EA6;\n",
              "    }\n",
              "\n",
              "    .colab-df-buttons div {\n",
              "      margin-bottom: 4px;\n",
              "    }\n",
              "\n",
              "    [theme=dark] .colab-df-convert {\n",
              "      background-color: #3B4455;\n",
              "      fill: #D2E3FC;\n",
              "    }\n",
              "\n",
              "    [theme=dark] .colab-df-convert:hover {\n",
              "      background-color: #434B5C;\n",
              "      box-shadow: 0px 1px 3px 1px rgba(0, 0, 0, 0.15);\n",
              "      filter: drop-shadow(0px 1px 2px rgba(0, 0, 0, 0.3));\n",
              "      fill: #FFFFFF;\n",
              "    }\n",
              "  </style>\n",
              "\n",
              "    <script>\n",
              "      const buttonEl =\n",
              "        document.querySelector('#df-c5b4d090-4195-4394-8052-d53f818cb22c button.colab-df-convert');\n",
              "      buttonEl.style.display =\n",
              "        google.colab.kernel.accessAllowed ? 'block' : 'none';\n",
              "\n",
              "      async function convertToInteractive(key) {\n",
              "        const element = document.querySelector('#df-c5b4d090-4195-4394-8052-d53f818cb22c');\n",
              "        const dataTable =\n",
              "          await google.colab.kernel.invokeFunction('convertToInteractive',\n",
              "                                                    [key], {});\n",
              "        if (!dataTable) return;\n",
              "\n",
              "        const docLinkHtml = 'Like what you see? Visit the ' +\n",
              "          '<a target=\"_blank\" href=https://colab.research.google.com/notebooks/data_table.ipynb>data table notebook</a>'\n",
              "          + ' to learn more about interactive tables.';\n",
              "        element.innerHTML = '';\n",
              "        dataTable['output_type'] = 'display_data';\n",
              "        await google.colab.output.renderOutput(dataTable, element);\n",
              "        const docLink = document.createElement('div');\n",
              "        docLink.innerHTML = docLinkHtml;\n",
              "        element.appendChild(docLink);\n",
              "      }\n",
              "    </script>\n",
              "  </div>\n",
              "\n",
              "\n",
              "<div id=\"df-49e21381-008f-4037-89d1-fad5d8799a3c\">\n",
              "  <button class=\"colab-df-quickchart\" onclick=\"quickchart('df-49e21381-008f-4037-89d1-fad5d8799a3c')\"\n",
              "            title=\"Suggest charts.\"\n",
              "            style=\"display:none;\">\n",
              "\n",
              "<svg xmlns=\"http://www.w3.org/2000/svg\" height=\"24px\"viewBox=\"0 0 24 24\"\n",
              "     width=\"24px\">\n",
              "    <g>\n",
              "        <path d=\"M19 3H5c-1.1 0-2 .9-2 2v14c0 1.1.9 2 2 2h14c1.1 0 2-.9 2-2V5c0-1.1-.9-2-2-2zM9 17H7v-7h2v7zm4 0h-2V7h2v10zm4 0h-2v-4h2v4z\"/>\n",
              "    </g>\n",
              "</svg>\n",
              "  </button>\n",
              "\n",
              "<style>\n",
              "  .colab-df-quickchart {\n",
              "      --bg-color: #E8F0FE;\n",
              "      --fill-color: #1967D2;\n",
              "      --hover-bg-color: #E2EBFA;\n",
              "      --hover-fill-color: #174EA6;\n",
              "      --disabled-fill-color: #AAA;\n",
              "      --disabled-bg-color: #DDD;\n",
              "  }\n",
              "\n",
              "  [theme=dark] .colab-df-quickchart {\n",
              "      --bg-color: #3B4455;\n",
              "      --fill-color: #D2E3FC;\n",
              "      --hover-bg-color: #434B5C;\n",
              "      --hover-fill-color: #FFFFFF;\n",
              "      --disabled-bg-color: #3B4455;\n",
              "      --disabled-fill-color: #666;\n",
              "  }\n",
              "\n",
              "  .colab-df-quickchart {\n",
              "    background-color: var(--bg-color);\n",
              "    border: none;\n",
              "    border-radius: 50%;\n",
              "    cursor: pointer;\n",
              "    display: none;\n",
              "    fill: var(--fill-color);\n",
              "    height: 32px;\n",
              "    padding: 0;\n",
              "    width: 32px;\n",
              "  }\n",
              "\n",
              "  .colab-df-quickchart:hover {\n",
              "    background-color: var(--hover-bg-color);\n",
              "    box-shadow: 0 1px 2px rgba(60, 64, 67, 0.3), 0 1px 3px 1px rgba(60, 64, 67, 0.15);\n",
              "    fill: var(--button-hover-fill-color);\n",
              "  }\n",
              "\n",
              "  .colab-df-quickchart-complete:disabled,\n",
              "  .colab-df-quickchart-complete:disabled:hover {\n",
              "    background-color: var(--disabled-bg-color);\n",
              "    fill: var(--disabled-fill-color);\n",
              "    box-shadow: none;\n",
              "  }\n",
              "\n",
              "  .colab-df-spinner {\n",
              "    border: 2px solid var(--fill-color);\n",
              "    border-color: transparent;\n",
              "    border-bottom-color: var(--fill-color);\n",
              "    animation:\n",
              "      spin 1s steps(1) infinite;\n",
              "  }\n",
              "\n",
              "  @keyframes spin {\n",
              "    0% {\n",
              "      border-color: transparent;\n",
              "      border-bottom-color: var(--fill-color);\n",
              "      border-left-color: var(--fill-color);\n",
              "    }\n",
              "    20% {\n",
              "      border-color: transparent;\n",
              "      border-left-color: var(--fill-color);\n",
              "      border-top-color: var(--fill-color);\n",
              "    }\n",
              "    30% {\n",
              "      border-color: transparent;\n",
              "      border-left-color: var(--fill-color);\n",
              "      border-top-color: var(--fill-color);\n",
              "      border-right-color: var(--fill-color);\n",
              "    }\n",
              "    40% {\n",
              "      border-color: transparent;\n",
              "      border-right-color: var(--fill-color);\n",
              "      border-top-color: var(--fill-color);\n",
              "    }\n",
              "    60% {\n",
              "      border-color: transparent;\n",
              "      border-right-color: var(--fill-color);\n",
              "    }\n",
              "    80% {\n",
              "      border-color: transparent;\n",
              "      border-right-color: var(--fill-color);\n",
              "      border-bottom-color: var(--fill-color);\n",
              "    }\n",
              "    90% {\n",
              "      border-color: transparent;\n",
              "      border-bottom-color: var(--fill-color);\n",
              "    }\n",
              "  }\n",
              "</style>\n",
              "\n",
              "  <script>\n",
              "    async function quickchart(key) {\n",
              "      const quickchartButtonEl =\n",
              "        document.querySelector('#' + key + ' button');\n",
              "      quickchartButtonEl.disabled = true;  // To prevent multiple clicks.\n",
              "      quickchartButtonEl.classList.add('colab-df-spinner');\n",
              "      try {\n",
              "        const charts = await google.colab.kernel.invokeFunction(\n",
              "            'suggestCharts', [key], {});\n",
              "      } catch (error) {\n",
              "        console.error('Error during call to suggestCharts:', error);\n",
              "      }\n",
              "      quickchartButtonEl.classList.remove('colab-df-spinner');\n",
              "      quickchartButtonEl.classList.add('colab-df-quickchart-complete');\n",
              "    }\n",
              "    (() => {\n",
              "      let quickchartButtonEl =\n",
              "        document.querySelector('#df-49e21381-008f-4037-89d1-fad5d8799a3c button');\n",
              "      quickchartButtonEl.style.display =\n",
              "        google.colab.kernel.accessAllowed ? 'block' : 'none';\n",
              "    })();\n",
              "  </script>\n",
              "</div>\n",
              "    </div>\n",
              "  </div>\n"
            ]
          },
          "metadata": {},
          "execution_count": 50
        }
      ]
    },
    {
      "cell_type": "code",
      "source": [],
      "metadata": {
        "id": "oka9ehJe38UD"
      },
      "execution_count": 50,
      "outputs": []
    },
    {
      "cell_type": "code",
      "source": [
        "df2_test"
      ],
      "metadata": {
        "colab": {
          "base_uri": "https://localhost:8080/",
          "height": 424
        },
        "id": "xB9LM9m84EBy",
        "outputId": "3db0a480-0aa3-481d-ff4f-db976b27155f"
      },
      "execution_count": 51,
      "outputs": [
        {
          "output_type": "execute_result",
          "data": {
            "text/plain": [
              "                                              sentence  \\\n",
              "0         \"Typical\" Italian food was far from typical.   \n",
              "1    After a few weeks the tablet started asking fo...   \n",
              "2    After a few weeks the tablet started asking fo...   \n",
              "3    After a few weeks the tablet started asking fo...   \n",
              "4    After a few weeks the tablet started asking fo...   \n",
              "..                                                 ...   \n",
              "306  yesterday, I ordered four chicken sandwiches b...   \n",
              "307  yesterday, I ordered four chicken sandwiches b...   \n",
              "308  yesterday, I ordered four chicken sandwiches b...   \n",
              "309             you can find there anything you want .   \n",
              "310  you can let your child  play in the kids area ...   \n",
              "\n",
              "                            aspect_term  begin  end  polarity  \n",
              "0                          Italian food     10   22  negative  \n",
              "1                                 sound    128  133  positive  \n",
              "2                                   buy    251  254  positive  \n",
              "3                   wireless headphones    202  221  positive  \n",
              "4    resolution of the camera is decent     88  122  positive  \n",
              "..                                  ...    ...  ...       ...  \n",
              "306                           delivered    105  114  negative  \n",
              "307                     quality of food     53   68  negative  \n",
              "308                  chicken sandwiches     26   44  negative  \n",
              "309                               there     13   18  positive  \n",
              "310                           kids area     36   45  positive  \n",
              "\n",
              "[311 rows x 5 columns]"
            ],
            "text/html": [
              "\n",
              "  <div id=\"df-9424a155-0a45-4cea-a6fd-01bbf3d81506\" class=\"colab-df-container\">\n",
              "    <div>\n",
              "<style scoped>\n",
              "    .dataframe tbody tr th:only-of-type {\n",
              "        vertical-align: middle;\n",
              "    }\n",
              "\n",
              "    .dataframe tbody tr th {\n",
              "        vertical-align: top;\n",
              "    }\n",
              "\n",
              "    .dataframe thead th {\n",
              "        text-align: right;\n",
              "    }\n",
              "</style>\n",
              "<table border=\"1\" class=\"dataframe\">\n",
              "  <thead>\n",
              "    <tr style=\"text-align: right;\">\n",
              "      <th></th>\n",
              "      <th>sentence</th>\n",
              "      <th>aspect_term</th>\n",
              "      <th>begin</th>\n",
              "      <th>end</th>\n",
              "      <th>polarity</th>\n",
              "    </tr>\n",
              "  </thead>\n",
              "  <tbody>\n",
              "    <tr>\n",
              "      <th>0</th>\n",
              "      <td>\"Typical\" Italian food was far from typical.</td>\n",
              "      <td>Italian food</td>\n",
              "      <td>10</td>\n",
              "      <td>22</td>\n",
              "      <td>negative</td>\n",
              "    </tr>\n",
              "    <tr>\n",
              "      <th>1</th>\n",
              "      <td>After a few weeks the tablet started asking fo...</td>\n",
              "      <td>sound</td>\n",
              "      <td>128</td>\n",
              "      <td>133</td>\n",
              "      <td>positive</td>\n",
              "    </tr>\n",
              "    <tr>\n",
              "      <th>2</th>\n",
              "      <td>After a few weeks the tablet started asking fo...</td>\n",
              "      <td>buy</td>\n",
              "      <td>251</td>\n",
              "      <td>254</td>\n",
              "      <td>positive</td>\n",
              "    </tr>\n",
              "    <tr>\n",
              "      <th>3</th>\n",
              "      <td>After a few weeks the tablet started asking fo...</td>\n",
              "      <td>wireless headphones</td>\n",
              "      <td>202</td>\n",
              "      <td>221</td>\n",
              "      <td>positive</td>\n",
              "    </tr>\n",
              "    <tr>\n",
              "      <th>4</th>\n",
              "      <td>After a few weeks the tablet started asking fo...</td>\n",
              "      <td>resolution of the camera is decent</td>\n",
              "      <td>88</td>\n",
              "      <td>122</td>\n",
              "      <td>positive</td>\n",
              "    </tr>\n",
              "    <tr>\n",
              "      <th>...</th>\n",
              "      <td>...</td>\n",
              "      <td>...</td>\n",
              "      <td>...</td>\n",
              "      <td>...</td>\n",
              "      <td>...</td>\n",
              "    </tr>\n",
              "    <tr>\n",
              "      <th>306</th>\n",
              "      <td>yesterday, I ordered four chicken sandwiches b...</td>\n",
              "      <td>delivered</td>\n",
              "      <td>105</td>\n",
              "      <td>114</td>\n",
              "      <td>negative</td>\n",
              "    </tr>\n",
              "    <tr>\n",
              "      <th>307</th>\n",
              "      <td>yesterday, I ordered four chicken sandwiches b...</td>\n",
              "      <td>quality of food</td>\n",
              "      <td>53</td>\n",
              "      <td>68</td>\n",
              "      <td>negative</td>\n",
              "    </tr>\n",
              "    <tr>\n",
              "      <th>308</th>\n",
              "      <td>yesterday, I ordered four chicken sandwiches b...</td>\n",
              "      <td>chicken sandwiches</td>\n",
              "      <td>26</td>\n",
              "      <td>44</td>\n",
              "      <td>negative</td>\n",
              "    </tr>\n",
              "    <tr>\n",
              "      <th>309</th>\n",
              "      <td>you can find there anything you want .</td>\n",
              "      <td>there</td>\n",
              "      <td>13</td>\n",
              "      <td>18</td>\n",
              "      <td>positive</td>\n",
              "    </tr>\n",
              "    <tr>\n",
              "      <th>310</th>\n",
              "      <td>you can let your child  play in the kids area ...</td>\n",
              "      <td>kids area</td>\n",
              "      <td>36</td>\n",
              "      <td>45</td>\n",
              "      <td>positive</td>\n",
              "    </tr>\n",
              "  </tbody>\n",
              "</table>\n",
              "<p>311 rows × 5 columns</p>\n",
              "</div>\n",
              "    <div class=\"colab-df-buttons\">\n",
              "\n",
              "  <div class=\"colab-df-container\">\n",
              "    <button class=\"colab-df-convert\" onclick=\"convertToInteractive('df-9424a155-0a45-4cea-a6fd-01bbf3d81506')\"\n",
              "            title=\"Convert this dataframe to an interactive table.\"\n",
              "            style=\"display:none;\">\n",
              "\n",
              "  <svg xmlns=\"http://www.w3.org/2000/svg\" height=\"24px\" viewBox=\"0 -960 960 960\">\n",
              "    <path d=\"M120-120v-720h720v720H120Zm60-500h600v-160H180v160Zm220 220h160v-160H400v160Zm0 220h160v-160H400v160ZM180-400h160v-160H180v160Zm440 0h160v-160H620v160ZM180-180h160v-160H180v160Zm440 0h160v-160H620v160Z\"/>\n",
              "  </svg>\n",
              "    </button>\n",
              "\n",
              "  <style>\n",
              "    .colab-df-container {\n",
              "      display:flex;\n",
              "      gap: 12px;\n",
              "    }\n",
              "\n",
              "    .colab-df-convert {\n",
              "      background-color: #E8F0FE;\n",
              "      border: none;\n",
              "      border-radius: 50%;\n",
              "      cursor: pointer;\n",
              "      display: none;\n",
              "      fill: #1967D2;\n",
              "      height: 32px;\n",
              "      padding: 0 0 0 0;\n",
              "      width: 32px;\n",
              "    }\n",
              "\n",
              "    .colab-df-convert:hover {\n",
              "      background-color: #E2EBFA;\n",
              "      box-shadow: 0px 1px 2px rgba(60, 64, 67, 0.3), 0px 1px 3px 1px rgba(60, 64, 67, 0.15);\n",
              "      fill: #174EA6;\n",
              "    }\n",
              "\n",
              "    .colab-df-buttons div {\n",
              "      margin-bottom: 4px;\n",
              "    }\n",
              "\n",
              "    [theme=dark] .colab-df-convert {\n",
              "      background-color: #3B4455;\n",
              "      fill: #D2E3FC;\n",
              "    }\n",
              "\n",
              "    [theme=dark] .colab-df-convert:hover {\n",
              "      background-color: #434B5C;\n",
              "      box-shadow: 0px 1px 3px 1px rgba(0, 0, 0, 0.15);\n",
              "      filter: drop-shadow(0px 1px 2px rgba(0, 0, 0, 0.3));\n",
              "      fill: #FFFFFF;\n",
              "    }\n",
              "  </style>\n",
              "\n",
              "    <script>\n",
              "      const buttonEl =\n",
              "        document.querySelector('#df-9424a155-0a45-4cea-a6fd-01bbf3d81506 button.colab-df-convert');\n",
              "      buttonEl.style.display =\n",
              "        google.colab.kernel.accessAllowed ? 'block' : 'none';\n",
              "\n",
              "      async function convertToInteractive(key) {\n",
              "        const element = document.querySelector('#df-9424a155-0a45-4cea-a6fd-01bbf3d81506');\n",
              "        const dataTable =\n",
              "          await google.colab.kernel.invokeFunction('convertToInteractive',\n",
              "                                                    [key], {});\n",
              "        if (!dataTable) return;\n",
              "\n",
              "        const docLinkHtml = 'Like what you see? Visit the ' +\n",
              "          '<a target=\"_blank\" href=https://colab.research.google.com/notebooks/data_table.ipynb>data table notebook</a>'\n",
              "          + ' to learn more about interactive tables.';\n",
              "        element.innerHTML = '';\n",
              "        dataTable['output_type'] = 'display_data';\n",
              "        await google.colab.output.renderOutput(dataTable, element);\n",
              "        const docLink = document.createElement('div');\n",
              "        docLink.innerHTML = docLinkHtml;\n",
              "        element.appendChild(docLink);\n",
              "      }\n",
              "    </script>\n",
              "  </div>\n",
              "\n",
              "\n",
              "<div id=\"df-58d1e369-6964-4d37-97d2-cc3ba562a29d\">\n",
              "  <button class=\"colab-df-quickchart\" onclick=\"quickchart('df-58d1e369-6964-4d37-97d2-cc3ba562a29d')\"\n",
              "            title=\"Suggest charts.\"\n",
              "            style=\"display:none;\">\n",
              "\n",
              "<svg xmlns=\"http://www.w3.org/2000/svg\" height=\"24px\"viewBox=\"0 0 24 24\"\n",
              "     width=\"24px\">\n",
              "    <g>\n",
              "        <path d=\"M19 3H5c-1.1 0-2 .9-2 2v14c0 1.1.9 2 2 2h14c1.1 0 2-.9 2-2V5c0-1.1-.9-2-2-2zM9 17H7v-7h2v7zm4 0h-2V7h2v10zm4 0h-2v-4h2v4z\"/>\n",
              "    </g>\n",
              "</svg>\n",
              "  </button>\n",
              "\n",
              "<style>\n",
              "  .colab-df-quickchart {\n",
              "      --bg-color: #E8F0FE;\n",
              "      --fill-color: #1967D2;\n",
              "      --hover-bg-color: #E2EBFA;\n",
              "      --hover-fill-color: #174EA6;\n",
              "      --disabled-fill-color: #AAA;\n",
              "      --disabled-bg-color: #DDD;\n",
              "  }\n",
              "\n",
              "  [theme=dark] .colab-df-quickchart {\n",
              "      --bg-color: #3B4455;\n",
              "      --fill-color: #D2E3FC;\n",
              "      --hover-bg-color: #434B5C;\n",
              "      --hover-fill-color: #FFFFFF;\n",
              "      --disabled-bg-color: #3B4455;\n",
              "      --disabled-fill-color: #666;\n",
              "  }\n",
              "\n",
              "  .colab-df-quickchart {\n",
              "    background-color: var(--bg-color);\n",
              "    border: none;\n",
              "    border-radius: 50%;\n",
              "    cursor: pointer;\n",
              "    display: none;\n",
              "    fill: var(--fill-color);\n",
              "    height: 32px;\n",
              "    padding: 0;\n",
              "    width: 32px;\n",
              "  }\n",
              "\n",
              "  .colab-df-quickchart:hover {\n",
              "    background-color: var(--hover-bg-color);\n",
              "    box-shadow: 0 1px 2px rgba(60, 64, 67, 0.3), 0 1px 3px 1px rgba(60, 64, 67, 0.15);\n",
              "    fill: var(--button-hover-fill-color);\n",
              "  }\n",
              "\n",
              "  .colab-df-quickchart-complete:disabled,\n",
              "  .colab-df-quickchart-complete:disabled:hover {\n",
              "    background-color: var(--disabled-bg-color);\n",
              "    fill: var(--disabled-fill-color);\n",
              "    box-shadow: none;\n",
              "  }\n",
              "\n",
              "  .colab-df-spinner {\n",
              "    border: 2px solid var(--fill-color);\n",
              "    border-color: transparent;\n",
              "    border-bottom-color: var(--fill-color);\n",
              "    animation:\n",
              "      spin 1s steps(1) infinite;\n",
              "  }\n",
              "\n",
              "  @keyframes spin {\n",
              "    0% {\n",
              "      border-color: transparent;\n",
              "      border-bottom-color: var(--fill-color);\n",
              "      border-left-color: var(--fill-color);\n",
              "    }\n",
              "    20% {\n",
              "      border-color: transparent;\n",
              "      border-left-color: var(--fill-color);\n",
              "      border-top-color: var(--fill-color);\n",
              "    }\n",
              "    30% {\n",
              "      border-color: transparent;\n",
              "      border-left-color: var(--fill-color);\n",
              "      border-top-color: var(--fill-color);\n",
              "      border-right-color: var(--fill-color);\n",
              "    }\n",
              "    40% {\n",
              "      border-color: transparent;\n",
              "      border-right-color: var(--fill-color);\n",
              "      border-top-color: var(--fill-color);\n",
              "    }\n",
              "    60% {\n",
              "      border-color: transparent;\n",
              "      border-right-color: var(--fill-color);\n",
              "    }\n",
              "    80% {\n",
              "      border-color: transparent;\n",
              "      border-right-color: var(--fill-color);\n",
              "      border-bottom-color: var(--fill-color);\n",
              "    }\n",
              "    90% {\n",
              "      border-color: transparent;\n",
              "      border-bottom-color: var(--fill-color);\n",
              "    }\n",
              "  }\n",
              "</style>\n",
              "\n",
              "  <script>\n",
              "    async function quickchart(key) {\n",
              "      const quickchartButtonEl =\n",
              "        document.querySelector('#' + key + ' button');\n",
              "      quickchartButtonEl.disabled = true;  // To prevent multiple clicks.\n",
              "      quickchartButtonEl.classList.add('colab-df-spinner');\n",
              "      try {\n",
              "        const charts = await google.colab.kernel.invokeFunction(\n",
              "            'suggestCharts', [key], {});\n",
              "      } catch (error) {\n",
              "        console.error('Error during call to suggestCharts:', error);\n",
              "      }\n",
              "      quickchartButtonEl.classList.remove('colab-df-spinner');\n",
              "      quickchartButtonEl.classList.add('colab-df-quickchart-complete');\n",
              "    }\n",
              "    (() => {\n",
              "      let quickchartButtonEl =\n",
              "        document.querySelector('#df-58d1e369-6964-4d37-97d2-cc3ba562a29d button');\n",
              "      quickchartButtonEl.style.display =\n",
              "        google.colab.kernel.accessAllowed ? 'block' : 'none';\n",
              "    })();\n",
              "  </script>\n",
              "</div>\n",
              "    </div>\n",
              "  </div>\n"
            ]
          },
          "metadata": {},
          "execution_count": 51
        }
      ]
    },
    {
      "cell_type": "code",
      "source": [
        "df2_test['polarity'][df2_test[\"polarity\"] == 'negative'] = 0\n",
        "df2_test['polarity'][df2_test[\"polarity\"] == 'positive'] = 1\n",
        "\n"
      ],
      "metadata": {
        "id": "85h1lXLo3K5C",
        "colab": {
          "base_uri": "https://localhost:8080/"
        },
        "outputId": "8932cfce-2f0e-4824-9a06-330fff7b3c6a"
      },
      "execution_count": 52,
      "outputs": [
        {
          "output_type": "stream",
          "name": "stderr",
          "text": [
            "<ipython-input-52-5dfe2b17fbcd>:1: SettingWithCopyWarning: \n",
            "A value is trying to be set on a copy of a slice from a DataFrame\n",
            "\n",
            "See the caveats in the documentation: https://pandas.pydata.org/pandas-docs/stable/user_guide/indexing.html#returning-a-view-versus-a-copy\n",
            "  df2_test['polarity'][df2_test[\"polarity\"] == 'negative'] = 0\n",
            "<ipython-input-52-5dfe2b17fbcd>:1: SettingWithCopyWarning: \n",
            "A value is trying to be set on a copy of a slice from a DataFrame\n",
            "\n",
            "See the caveats in the documentation: https://pandas.pydata.org/pandas-docs/stable/user_guide/indexing.html#returning-a-view-versus-a-copy\n",
            "  df2_test['polarity'][df2_test[\"polarity\"] == 'negative'] = 0\n",
            "<ipython-input-52-5dfe2b17fbcd>:2: SettingWithCopyWarning: \n",
            "A value is trying to be set on a copy of a slice from a DataFrame\n",
            "\n",
            "See the caveats in the documentation: https://pandas.pydata.org/pandas-docs/stable/user_guide/indexing.html#returning-a-view-versus-a-copy\n",
            "  df2_test['polarity'][df2_test[\"polarity\"] == 'positive'] = 1\n",
            "<ipython-input-52-5dfe2b17fbcd>:2: SettingWithCopyWarning: \n",
            "A value is trying to be set on a copy of a slice from a DataFrame\n",
            "\n",
            "See the caveats in the documentation: https://pandas.pydata.org/pandas-docs/stable/user_guide/indexing.html#returning-a-view-versus-a-copy\n",
            "  df2_test['polarity'][df2_test[\"polarity\"] == 'positive'] = 1\n"
          ]
        }
      ]
    },
    {
      "cell_type": "code",
      "source": [],
      "metadata": {
        "id": "YdZQuZP-36d7"
      },
      "execution_count": 52,
      "outputs": []
    },
    {
      "cell_type": "code",
      "source": [
        "X_test = df2_test"
      ],
      "metadata": {
        "id": "Yzl2Sy2K3M7o"
      },
      "execution_count": 53,
      "outputs": []
    },
    {
      "cell_type": "code",
      "source": [
        "## Convert polarity Values to Integers\n",
        "X_test[\"polarity\"] = pd.to_numeric(X_test[\"polarity\"],errors='coerce')\n"
      ],
      "metadata": {
        "id": "TcHDvrOW3Ot7",
        "colab": {
          "base_uri": "https://localhost:8080/"
        },
        "outputId": "540e4741-78d2-4db1-8e30-3f4dc0c12c86"
      },
      "execution_count": 54,
      "outputs": [
        {
          "output_type": "stream",
          "name": "stderr",
          "text": [
            "<ipython-input-54-9dad12974081>:2: SettingWithCopyWarning: \n",
            "A value is trying to be set on a copy of a slice from a DataFrame.\n",
            "Try using .loc[row_indexer,col_indexer] = value instead\n",
            "\n",
            "See the caveats in the documentation: https://pandas.pydata.org/pandas-docs/stable/user_guide/indexing.html#returning-a-view-versus-a-copy\n",
            "  X_test[\"polarity\"] = pd.to_numeric(X_test[\"polarity\"],errors='coerce')\n"
          ]
        }
      ]
    },
    {
      "cell_type": "code",
      "source": [
        "y_test = X_test[\"polarity\"]"
      ],
      "metadata": {
        "id": "fHYeWtPz3XV0"
      },
      "execution_count": 55,
      "outputs": []
    },
    {
      "cell_type": "code",
      "source": [
        "tokenizer = Tokenizer(num_words=NUM_WORDS,\n",
        "                      filters='!\"#$%&()*+,-./:;<=>?@[\\\\]^_`{|}~\\t\\n',\n",
        "                      lower=True, )\n",
        "## Fit_on_texts : Updates internal vocabulary based on a list of texts.\n",
        "tokenizer.fit_on_texts(list(X_train.sentence))\n",
        "text_X_test_tokenized = tokenizer.texts_to_sequences(X_test.sentence) # list of tokenized sentences\n",
        "Aspect_X_test_tokenized = tokenizer.texts_to_sequences(X_test['aspect_term']) # list of tokenized sentences\n"
      ],
      "metadata": {
        "id": "D8W2GVUP56h4"
      },
      "execution_count": 56,
      "outputs": []
    },
    {
      "cell_type": "code",
      "source": [
        "## Pads sequences(or sentences) to the same length.\n",
        "\n",
        "\n",
        "\n",
        "text_X_test_padded = pad_sequences(text_X_test_tokenized, maxlen=Max_Len)\n",
        "aspect_X_test_padded = pad_sequences(Aspect_X_test_tokenized, maxlen=1)\n"
      ],
      "metadata": {
        "id": "yqtRoPFO3bhT"
      },
      "execution_count": 57,
      "outputs": []
    },
    {
      "cell_type": "code",
      "source": [
        "test_data =   [text_X_test_padded,aspect_X_test_padded]\n"
      ],
      "metadata": {
        "id": "XzBfpeO-6AZG"
      },
      "execution_count": 58,
      "outputs": []
    },
    {
      "cell_type": "code",
      "source": [
        "print(\"Evaluate on test data\")\n",
        "results = atae_lstm_model.evaluate(x = test_data , y = y_test )\n",
        "print(\"test loss, test acc:\", results)\n",
        "print(\"Accuracy of the model is - \" , results[1]*100 , \"%\")"
      ],
      "metadata": {
        "colab": {
          "base_uri": "https://localhost:8080/"
        },
        "id": "mN2to2Lg3c5J",
        "outputId": "5ab32e27-2385-4a34-e17f-c6f2316d91ea"
      },
      "execution_count": 59,
      "outputs": [
        {
          "output_type": "stream",
          "name": "stdout",
          "text": [
            "Evaluate on test data\n",
            "10/10 [==============================] - 0s 5ms/step - loss: 0.5462 - accuracy: 0.8199\n",
            "test loss, test acc: [0.5462450981140137, 0.81993567943573]\n",
            "Accuracy of the model is -  81.993567943573 %\n"
          ]
        }
      ]
    },
    {
      "cell_type": "markdown",
      "source": [
        "##CROSS VALIDATE ON MAMS"
      ],
      "metadata": {
        "id": "lwg5Z52M7dbY"
      }
    },
    {
      "cell_type": "code",
      "source": [
        "df2_test = pd.read_csv(\"/content/drive/MyDrive/ABSA work/codes/processed_MAMS/ATSA_test_single.csv\", encoding='utf8')"
      ],
      "metadata": {
        "id": "iIz_VsQW5Lhf"
      },
      "execution_count": 60,
      "outputs": []
    },
    {
      "cell_type": "code",
      "source": [
        "df2_test['polarity'][df2_test[\"polarity\"] == 'negative'] = 0\n",
        "df2_test['polarity'][df2_test[\"polarity\"] == 'positive'] = 1\n",
        "df2_test['polarity'][df2_test[\"polarity\"] == 'neutral'] = 2"
      ],
      "metadata": {
        "id": "Iv4LiJ418a0t"
      },
      "execution_count": 61,
      "outputs": []
    },
    {
      "cell_type": "code",
      "source": [
        "df2_test"
      ],
      "metadata": {
        "colab": {
          "base_uri": "https://localhost:8080/",
          "height": 424
        },
        "id": "AEbGKcBEQaT7",
        "outputId": "251be7e5-896c-4e89-f2ce-9aba9438353a"
      },
      "execution_count": 62,
      "outputs": [
        {
          "output_type": "execute_result",
          "data": {
            "text/plain": [
              "                                               sentence      aspect_terms  \\\n",
              "0     The food was served promptly but the meal wasn...              food   \n",
              "1     The food was served promptly but the meal wasn...            served   \n",
              "2     The food was served promptly but the meal wasn...        appetizers   \n",
              "3     When I got home, there was a message on the ma...             owner   \n",
              "4     When I got home, there was a message on the ma...          waitress   \n",
              "...                                                 ...               ...   \n",
              "1331  Pair you food with the excellent beers on tap ...  priced wine list   \n",
              "1332  They were out of Hennessy, Alize, Mojitos, Pin...           Mojitos   \n",
              "1333  They were out of Hennessy, Alize, Mojitos, Pin...             Pinot   \n",
              "1334  They were out of Hennessy, Alize, Mojitos, Pin...        drink list   \n",
              "1335  They were out of Hennessy, Alize, Mojitos, Pin...            drinks   \n",
              "\n",
              "     polarity  \n",
              "0           2  \n",
              "1           1  \n",
              "2           1  \n",
              "3           2  \n",
              "4           0  \n",
              "...       ...  \n",
              "1331        1  \n",
              "1332        2  \n",
              "1333        2  \n",
              "1334        0  \n",
              "1335        0  \n",
              "\n",
              "[1336 rows x 3 columns]"
            ],
            "text/html": [
              "\n",
              "  <div id=\"df-d73201ea-48ac-4348-85b3-05dd4d190b5a\" class=\"colab-df-container\">\n",
              "    <div>\n",
              "<style scoped>\n",
              "    .dataframe tbody tr th:only-of-type {\n",
              "        vertical-align: middle;\n",
              "    }\n",
              "\n",
              "    .dataframe tbody tr th {\n",
              "        vertical-align: top;\n",
              "    }\n",
              "\n",
              "    .dataframe thead th {\n",
              "        text-align: right;\n",
              "    }\n",
              "</style>\n",
              "<table border=\"1\" class=\"dataframe\">\n",
              "  <thead>\n",
              "    <tr style=\"text-align: right;\">\n",
              "      <th></th>\n",
              "      <th>sentence</th>\n",
              "      <th>aspect_terms</th>\n",
              "      <th>polarity</th>\n",
              "    </tr>\n",
              "  </thead>\n",
              "  <tbody>\n",
              "    <tr>\n",
              "      <th>0</th>\n",
              "      <td>The food was served promptly but the meal wasn...</td>\n",
              "      <td>food</td>\n",
              "      <td>2</td>\n",
              "    </tr>\n",
              "    <tr>\n",
              "      <th>1</th>\n",
              "      <td>The food was served promptly but the meal wasn...</td>\n",
              "      <td>served</td>\n",
              "      <td>1</td>\n",
              "    </tr>\n",
              "    <tr>\n",
              "      <th>2</th>\n",
              "      <td>The food was served promptly but the meal wasn...</td>\n",
              "      <td>appetizers</td>\n",
              "      <td>1</td>\n",
              "    </tr>\n",
              "    <tr>\n",
              "      <th>3</th>\n",
              "      <td>When I got home, there was a message on the ma...</td>\n",
              "      <td>owner</td>\n",
              "      <td>2</td>\n",
              "    </tr>\n",
              "    <tr>\n",
              "      <th>4</th>\n",
              "      <td>When I got home, there was a message on the ma...</td>\n",
              "      <td>waitress</td>\n",
              "      <td>0</td>\n",
              "    </tr>\n",
              "    <tr>\n",
              "      <th>...</th>\n",
              "      <td>...</td>\n",
              "      <td>...</td>\n",
              "      <td>...</td>\n",
              "    </tr>\n",
              "    <tr>\n",
              "      <th>1331</th>\n",
              "      <td>Pair you food with the excellent beers on tap ...</td>\n",
              "      <td>priced wine list</td>\n",
              "      <td>1</td>\n",
              "    </tr>\n",
              "    <tr>\n",
              "      <th>1332</th>\n",
              "      <td>They were out of Hennessy, Alize, Mojitos, Pin...</td>\n",
              "      <td>Mojitos</td>\n",
              "      <td>2</td>\n",
              "    </tr>\n",
              "    <tr>\n",
              "      <th>1333</th>\n",
              "      <td>They were out of Hennessy, Alize, Mojitos, Pin...</td>\n",
              "      <td>Pinot</td>\n",
              "      <td>2</td>\n",
              "    </tr>\n",
              "    <tr>\n",
              "      <th>1334</th>\n",
              "      <td>They were out of Hennessy, Alize, Mojitos, Pin...</td>\n",
              "      <td>drink list</td>\n",
              "      <td>0</td>\n",
              "    </tr>\n",
              "    <tr>\n",
              "      <th>1335</th>\n",
              "      <td>They were out of Hennessy, Alize, Mojitos, Pin...</td>\n",
              "      <td>drinks</td>\n",
              "      <td>0</td>\n",
              "    </tr>\n",
              "  </tbody>\n",
              "</table>\n",
              "<p>1336 rows × 3 columns</p>\n",
              "</div>\n",
              "    <div class=\"colab-df-buttons\">\n",
              "\n",
              "  <div class=\"colab-df-container\">\n",
              "    <button class=\"colab-df-convert\" onclick=\"convertToInteractive('df-d73201ea-48ac-4348-85b3-05dd4d190b5a')\"\n",
              "            title=\"Convert this dataframe to an interactive table.\"\n",
              "            style=\"display:none;\">\n",
              "\n",
              "  <svg xmlns=\"http://www.w3.org/2000/svg\" height=\"24px\" viewBox=\"0 -960 960 960\">\n",
              "    <path d=\"M120-120v-720h720v720H120Zm60-500h600v-160H180v160Zm220 220h160v-160H400v160Zm0 220h160v-160H400v160ZM180-400h160v-160H180v160Zm440 0h160v-160H620v160ZM180-180h160v-160H180v160Zm440 0h160v-160H620v160Z\"/>\n",
              "  </svg>\n",
              "    </button>\n",
              "\n",
              "  <style>\n",
              "    .colab-df-container {\n",
              "      display:flex;\n",
              "      gap: 12px;\n",
              "    }\n",
              "\n",
              "    .colab-df-convert {\n",
              "      background-color: #E8F0FE;\n",
              "      border: none;\n",
              "      border-radius: 50%;\n",
              "      cursor: pointer;\n",
              "      display: none;\n",
              "      fill: #1967D2;\n",
              "      height: 32px;\n",
              "      padding: 0 0 0 0;\n",
              "      width: 32px;\n",
              "    }\n",
              "\n",
              "    .colab-df-convert:hover {\n",
              "      background-color: #E2EBFA;\n",
              "      box-shadow: 0px 1px 2px rgba(60, 64, 67, 0.3), 0px 1px 3px 1px rgba(60, 64, 67, 0.15);\n",
              "      fill: #174EA6;\n",
              "    }\n",
              "\n",
              "    .colab-df-buttons div {\n",
              "      margin-bottom: 4px;\n",
              "    }\n",
              "\n",
              "    [theme=dark] .colab-df-convert {\n",
              "      background-color: #3B4455;\n",
              "      fill: #D2E3FC;\n",
              "    }\n",
              "\n",
              "    [theme=dark] .colab-df-convert:hover {\n",
              "      background-color: #434B5C;\n",
              "      box-shadow: 0px 1px 3px 1px rgba(0, 0, 0, 0.15);\n",
              "      filter: drop-shadow(0px 1px 2px rgba(0, 0, 0, 0.3));\n",
              "      fill: #FFFFFF;\n",
              "    }\n",
              "  </style>\n",
              "\n",
              "    <script>\n",
              "      const buttonEl =\n",
              "        document.querySelector('#df-d73201ea-48ac-4348-85b3-05dd4d190b5a button.colab-df-convert');\n",
              "      buttonEl.style.display =\n",
              "        google.colab.kernel.accessAllowed ? 'block' : 'none';\n",
              "\n",
              "      async function convertToInteractive(key) {\n",
              "        const element = document.querySelector('#df-d73201ea-48ac-4348-85b3-05dd4d190b5a');\n",
              "        const dataTable =\n",
              "          await google.colab.kernel.invokeFunction('convertToInteractive',\n",
              "                                                    [key], {});\n",
              "        if (!dataTable) return;\n",
              "\n",
              "        const docLinkHtml = 'Like what you see? Visit the ' +\n",
              "          '<a target=\"_blank\" href=https://colab.research.google.com/notebooks/data_table.ipynb>data table notebook</a>'\n",
              "          + ' to learn more about interactive tables.';\n",
              "        element.innerHTML = '';\n",
              "        dataTable['output_type'] = 'display_data';\n",
              "        await google.colab.output.renderOutput(dataTable, element);\n",
              "        const docLink = document.createElement('div');\n",
              "        docLink.innerHTML = docLinkHtml;\n",
              "        element.appendChild(docLink);\n",
              "      }\n",
              "    </script>\n",
              "  </div>\n",
              "\n",
              "\n",
              "<div id=\"df-43869b6f-8120-4a69-a7f2-f0b853e46467\">\n",
              "  <button class=\"colab-df-quickchart\" onclick=\"quickchart('df-43869b6f-8120-4a69-a7f2-f0b853e46467')\"\n",
              "            title=\"Suggest charts.\"\n",
              "            style=\"display:none;\">\n",
              "\n",
              "<svg xmlns=\"http://www.w3.org/2000/svg\" height=\"24px\"viewBox=\"0 0 24 24\"\n",
              "     width=\"24px\">\n",
              "    <g>\n",
              "        <path d=\"M19 3H5c-1.1 0-2 .9-2 2v14c0 1.1.9 2 2 2h14c1.1 0 2-.9 2-2V5c0-1.1-.9-2-2-2zM9 17H7v-7h2v7zm4 0h-2V7h2v10zm4 0h-2v-4h2v4z\"/>\n",
              "    </g>\n",
              "</svg>\n",
              "  </button>\n",
              "\n",
              "<style>\n",
              "  .colab-df-quickchart {\n",
              "      --bg-color: #E8F0FE;\n",
              "      --fill-color: #1967D2;\n",
              "      --hover-bg-color: #E2EBFA;\n",
              "      --hover-fill-color: #174EA6;\n",
              "      --disabled-fill-color: #AAA;\n",
              "      --disabled-bg-color: #DDD;\n",
              "  }\n",
              "\n",
              "  [theme=dark] .colab-df-quickchart {\n",
              "      --bg-color: #3B4455;\n",
              "      --fill-color: #D2E3FC;\n",
              "      --hover-bg-color: #434B5C;\n",
              "      --hover-fill-color: #FFFFFF;\n",
              "      --disabled-bg-color: #3B4455;\n",
              "      --disabled-fill-color: #666;\n",
              "  }\n",
              "\n",
              "  .colab-df-quickchart {\n",
              "    background-color: var(--bg-color);\n",
              "    border: none;\n",
              "    border-radius: 50%;\n",
              "    cursor: pointer;\n",
              "    display: none;\n",
              "    fill: var(--fill-color);\n",
              "    height: 32px;\n",
              "    padding: 0;\n",
              "    width: 32px;\n",
              "  }\n",
              "\n",
              "  .colab-df-quickchart:hover {\n",
              "    background-color: var(--hover-bg-color);\n",
              "    box-shadow: 0 1px 2px rgba(60, 64, 67, 0.3), 0 1px 3px 1px rgba(60, 64, 67, 0.15);\n",
              "    fill: var(--button-hover-fill-color);\n",
              "  }\n",
              "\n",
              "  .colab-df-quickchart-complete:disabled,\n",
              "  .colab-df-quickchart-complete:disabled:hover {\n",
              "    background-color: var(--disabled-bg-color);\n",
              "    fill: var(--disabled-fill-color);\n",
              "    box-shadow: none;\n",
              "  }\n",
              "\n",
              "  .colab-df-spinner {\n",
              "    border: 2px solid var(--fill-color);\n",
              "    border-color: transparent;\n",
              "    border-bottom-color: var(--fill-color);\n",
              "    animation:\n",
              "      spin 1s steps(1) infinite;\n",
              "  }\n",
              "\n",
              "  @keyframes spin {\n",
              "    0% {\n",
              "      border-color: transparent;\n",
              "      border-bottom-color: var(--fill-color);\n",
              "      border-left-color: var(--fill-color);\n",
              "    }\n",
              "    20% {\n",
              "      border-color: transparent;\n",
              "      border-left-color: var(--fill-color);\n",
              "      border-top-color: var(--fill-color);\n",
              "    }\n",
              "    30% {\n",
              "      border-color: transparent;\n",
              "      border-left-color: var(--fill-color);\n",
              "      border-top-color: var(--fill-color);\n",
              "      border-right-color: var(--fill-color);\n",
              "    }\n",
              "    40% {\n",
              "      border-color: transparent;\n",
              "      border-right-color: var(--fill-color);\n",
              "      border-top-color: var(--fill-color);\n",
              "    }\n",
              "    60% {\n",
              "      border-color: transparent;\n",
              "      border-right-color: var(--fill-color);\n",
              "    }\n",
              "    80% {\n",
              "      border-color: transparent;\n",
              "      border-right-color: var(--fill-color);\n",
              "      border-bottom-color: var(--fill-color);\n",
              "    }\n",
              "    90% {\n",
              "      border-color: transparent;\n",
              "      border-bottom-color: var(--fill-color);\n",
              "    }\n",
              "  }\n",
              "</style>\n",
              "\n",
              "  <script>\n",
              "    async function quickchart(key) {\n",
              "      const quickchartButtonEl =\n",
              "        document.querySelector('#' + key + ' button');\n",
              "      quickchartButtonEl.disabled = true;  // To prevent multiple clicks.\n",
              "      quickchartButtonEl.classList.add('colab-df-spinner');\n",
              "      try {\n",
              "        const charts = await google.colab.kernel.invokeFunction(\n",
              "            'suggestCharts', [key], {});\n",
              "      } catch (error) {\n",
              "        console.error('Error during call to suggestCharts:', error);\n",
              "      }\n",
              "      quickchartButtonEl.classList.remove('colab-df-spinner');\n",
              "      quickchartButtonEl.classList.add('colab-df-quickchart-complete');\n",
              "    }\n",
              "    (() => {\n",
              "      let quickchartButtonEl =\n",
              "        document.querySelector('#df-43869b6f-8120-4a69-a7f2-f0b853e46467 button');\n",
              "      quickchartButtonEl.style.display =\n",
              "        google.colab.kernel.accessAllowed ? 'block' : 'none';\n",
              "    })();\n",
              "  </script>\n",
              "</div>\n",
              "    </div>\n",
              "  </div>\n"
            ]
          },
          "metadata": {},
          "execution_count": 62
        }
      ]
    },
    {
      "cell_type": "code",
      "source": [
        "X_test = df2_test"
      ],
      "metadata": {
        "id": "boVio6S-8iy2"
      },
      "execution_count": 63,
      "outputs": []
    },
    {
      "cell_type": "code",
      "source": [
        "## Convert polarity Values to Integers\n",
        "X_test[\"polarity\"] = pd.to_numeric(X_test[\"polarity\"],errors='coerce')\n"
      ],
      "metadata": {
        "id": "d6RSATyt8kiB"
      },
      "execution_count": 64,
      "outputs": []
    },
    {
      "cell_type": "code",
      "source": [
        "y_test = X_test[\"polarity\"]"
      ],
      "metadata": {
        "id": "KfuGN3py8mUW"
      },
      "execution_count": 65,
      "outputs": []
    },
    {
      "cell_type": "code",
      "source": [
        "tokenizer = Tokenizer(num_words=NUM_WORDS,\n",
        "                      filters='!\"#$%&()*+,-./:;<=>?@[\\\\]^_`{|}~\\t\\n',\n",
        "                      lower=True, )\n",
        "## Fit_on_texts : Updates internal vocabulary based on a list of texts.\n",
        "tokenizer.fit_on_texts(list(X_train.sentence))\n",
        "text_X_test_tokenized = tokenizer.texts_to_sequences(X_test.sentence) # list of tokenized sentences\n",
        "Aspect_X_test_tokenized = tokenizer.texts_to_sequences(X_test['aspect_terms']) # list of tokenized sentences\n"
      ],
      "metadata": {
        "id": "vdCtE8mj8okA"
      },
      "execution_count": 66,
      "outputs": []
    },
    {
      "cell_type": "code",
      "source": [
        "## Pads sequences(or sentences) to the same length.\n",
        "\n",
        "\n",
        "\n",
        "text_X_test_padded = pad_sequences(text_X_test_tokenized, maxlen=Max_Len)\n",
        "aspect_X_test_padded = pad_sequences(Aspect_X_test_tokenized, maxlen=1)\n"
      ],
      "metadata": {
        "id": "9h_B9TmH8qhu"
      },
      "execution_count": 67,
      "outputs": []
    },
    {
      "cell_type": "code",
      "source": [
        "test_data =   [text_X_test_padded,aspect_X_test_padded]\n"
      ],
      "metadata": {
        "id": "wdl3X1oJ8sKz"
      },
      "execution_count": 68,
      "outputs": []
    },
    {
      "cell_type": "code",
      "source": [
        "print(\"Evaluate on test data\")\n",
        "results = atae_lstm_model.evaluate(x = test_data , y = y_test )\n",
        "print(\"test loss, test acc:\", results)\n",
        "print(\"Accuracy of the model is - \" , results[1]*100 , \"%\")"
      ],
      "metadata": {
        "colab": {
          "base_uri": "https://localhost:8080/"
        },
        "id": "ROXWnfDR8uIb",
        "outputId": "74c9eaac-b379-4762-82fd-d51168c517a9"
      },
      "execution_count": 69,
      "outputs": [
        {
          "output_type": "stream",
          "name": "stdout",
          "text": [
            "Evaluate on test data\n",
            "42/42 [==============================] - 0s 5ms/step - loss: 3.3051 - accuracy: 0.3675\n",
            "test loss, test acc: [3.305101156234741, 0.367514967918396]\n",
            "Accuracy of the model is -  36.7514967918396 %\n"
          ]
        }
      ]
    },
    {
      "cell_type": "code",
      "source": [],
      "metadata": {
        "id": "2ZbWsErYLPq5"
      },
      "execution_count": 69,
      "outputs": []
    },
    {
      "cell_type": "markdown",
      "source": [
        "##CROSS VALIDATE ON SENTIHOOD DATASET\n"
      ],
      "metadata": {
        "id": "y9FDvQeaLQYL"
      }
    },
    {
      "cell_type": "code",
      "source": [
        "df2_test = pd.read_csv(\"/content/drive/MyDrive/ABSA work/codes/processed_Sentihood/sentihood_test_single.csv\", encoding='utf8')"
      ],
      "metadata": {
        "id": "HuoJIastLQYN"
      },
      "execution_count": 70,
      "outputs": []
    },
    {
      "cell_type": "code",
      "source": [
        "\n",
        "df2_test.drop(columns=['to' , 'from'], inplace=True)"
      ],
      "metadata": {
        "id": "GQQ9qegaLQYN"
      },
      "execution_count": 71,
      "outputs": []
    },
    {
      "cell_type": "code",
      "source": [
        "df2_test['polarity'][df2_test[\"polarity\"] == 'negative'] = 0\n",
        "df2_test['polarity'][df2_test[\"polarity\"] == 'positive'] = 1\n"
      ],
      "metadata": {
        "colab": {
          "base_uri": "https://localhost:8080/"
        },
        "outputId": "8bb2cb68-1151-43d4-a7f2-af40dc7ce8c8",
        "id": "Eh6nJCdCLQYO"
      },
      "execution_count": 72,
      "outputs": [
        {
          "output_type": "stream",
          "name": "stderr",
          "text": [
            "<ipython-input-72-27e789cd0644>:1: SettingWithCopyWarning: \n",
            "A value is trying to be set on a copy of a slice from a DataFrame\n",
            "\n",
            "See the caveats in the documentation: https://pandas.pydata.org/pandas-docs/stable/user_guide/indexing.html#returning-a-view-versus-a-copy\n",
            "  df2_test['polarity'][df2_test[\"polarity\"] == 'negative'] = 0\n",
            "<ipython-input-72-27e789cd0644>:2: SettingWithCopyWarning: \n",
            "A value is trying to be set on a copy of a slice from a DataFrame\n",
            "\n",
            "See the caveats in the documentation: https://pandas.pydata.org/pandas-docs/stable/user_guide/indexing.html#returning-a-view-versus-a-copy\n",
            "  df2_test['polarity'][df2_test[\"polarity\"] == 'positive'] = 1\n"
          ]
        }
      ]
    },
    {
      "cell_type": "code",
      "source": [
        "X_test = df2_test"
      ],
      "metadata": {
        "id": "cYKvHpjULQYP"
      },
      "execution_count": 73,
      "outputs": []
    },
    {
      "cell_type": "code",
      "source": [
        "## Convert polarity Values to Integers\n",
        "X_test[\"polarity\"] = pd.to_numeric(X_test[\"polarity\"],errors='coerce')\n"
      ],
      "metadata": {
        "id": "IYiTk6pBLQYQ"
      },
      "execution_count": 74,
      "outputs": []
    },
    {
      "cell_type": "code",
      "source": [
        "y_test = X_test[\"polarity\"]"
      ],
      "metadata": {
        "id": "WZHkx6wmLQYR"
      },
      "execution_count": 75,
      "outputs": []
    },
    {
      "cell_type": "code",
      "source": [],
      "metadata": {
        "id": "9Ydov4__Lf39"
      },
      "execution_count": 75,
      "outputs": []
    },
    {
      "cell_type": "code",
      "source": [
        "tokenizer = Tokenizer(num_words=NUM_WORDS,\n",
        "                      filters='!\"#$%&()*+,-./:;<=>?@[\\\\]^_`{|}~\\t\\n',\n",
        "                      lower=True, )\n",
        "## Fit_on_texts : Updates internal vocabulary based on a list of texts.\n",
        "tokenizer.fit_on_texts(list(X_train.sentence))\n",
        "text_X_test_tokenized = tokenizer.texts_to_sequences(X_test.sentence) # list of tokenized sentences\n",
        "Aspect_X_test_tokenized = tokenizer.texts_to_sequences(X_test['aspect_term']) # list of tokenized sentences\n"
      ],
      "metadata": {
        "id": "o2uSonKJLgIV"
      },
      "execution_count": 76,
      "outputs": []
    },
    {
      "cell_type": "code",
      "source": [
        "## Pads sequences(or sentences) to the same length.\n",
        "\n",
        "\n",
        "\n",
        "text_X_test_padded = pad_sequences(text_X_test_tokenized, maxlen=Max_Len)\n",
        "aspect_X_test_padded = pad_sequences(Aspect_X_test_tokenized, maxlen=1)\n"
      ],
      "metadata": {
        "id": "oH7pdpGJLgIW"
      },
      "execution_count": 77,
      "outputs": []
    },
    {
      "cell_type": "code",
      "source": [
        "test_data =   [text_X_test_padded,aspect_X_test_padded]\n"
      ],
      "metadata": {
        "id": "WzoFFWSTLgIX"
      },
      "execution_count": 78,
      "outputs": []
    },
    {
      "cell_type": "code",
      "source": [
        "\n",
        "print(\"Evaluate on test data\")\n",
        "results = atae_lstm_model.evaluate(x = test_data , y = y_test )\n",
        "print(\"test loss, test acc:\", results)\n",
        "print(\"Accuracy of the model is - \" , results[1]*100 , \"%\")\n"
      ],
      "metadata": {
        "colab": {
          "base_uri": "https://localhost:8080/"
        },
        "outputId": "8ebecfb9-02ad-459a-dc1e-aaf13cdfd6b8",
        "id": "6JmCaOwoLgIX"
      },
      "execution_count": 79,
      "outputs": [
        {
          "output_type": "stream",
          "name": "stdout",
          "text": [
            "Evaluate on test data\n",
            "53/53 [==============================] - 0s 5ms/step - loss: 1.0030 - accuracy: 0.6754\n",
            "test loss, test acc: [1.0030466318130493, 0.675402045249939]\n",
            "Accuracy of the model is -  67.5402045249939 %\n"
          ]
        }
      ]
    },
    {
      "cell_type": "markdown",
      "source": [
        "##CROSS VALIDATE ON DOTSA BOOKS"
      ],
      "metadata": {
        "id": "tYlcx0nIHE0l"
      }
    },
    {
      "cell_type": "code",
      "source": [
        "df2_test = pd.read_csv(\"/content/drive/MyDrive/ABSA work/codes/processed_dotsa/new_Books_test.csv\", encoding='utf8')"
      ],
      "metadata": {
        "id": "ka1enDMNG8I7"
      },
      "execution_count": 80,
      "outputs": []
    },
    {
      "cell_type": "code",
      "source": [
        "train1 = []\n",
        "test1 = []\n",
        "val1 = []\n",
        "\n",
        "def dataset1(data , list1):\n",
        "  for text, aspects, sentiments in zip(data['Text'], data['Aspect'], data['Sentiment']):\n",
        "    aspect_list = aspects.split(', ')\n",
        "    sentiment_list = sentiments.split(', ')\n",
        "\n",
        "    for aspect, sentiment in zip(aspect_list, sentiment_list):\n",
        "      if \", \" in aspect:\n",
        "        sub_aspects = aspect.split(\", \")\n",
        "        for sub_aspect in sub_aspects:\n",
        "          list1.append({'Text': text, 'Aspect': sub_aspect, 'Sentiment': sentiment})\n",
        "      else:\n",
        "        list1.append({'Text': text, 'Aspect': aspect, 'Sentiment': sentiment})\n",
        "\n",
        "  return list1\n",
        "\n",
        "te1 = dataset1(df2_test , test1)\n",
        "\n",
        "# Create a new dataframe from the expanded data\n",
        "\n",
        "test_df = pd.DataFrame(te1)\n",
        "\n",
        "\n"
      ],
      "metadata": {
        "id": "wTf_O6818y05"
      },
      "execution_count": 81,
      "outputs": []
    },
    {
      "cell_type": "code",
      "source": [
        "## change the labels to integers for the training phase\n",
        "test_df['Sentiment'][test_df[\"Sentiment\"] == 'Negative'] = 0\n",
        "test_df['Sentiment'][test_df[\"Sentiment\"] == 'Positive'] = 1\n",
        "test_df['Sentiment'][test_df[\"Sentiment\"] == 'Mixed'] = 2\n",
        "\n"
      ],
      "metadata": {
        "id": "tFWPYx4WIPSB"
      },
      "execution_count": 82,
      "outputs": []
    },
    {
      "cell_type": "code",
      "source": [
        "test_df"
      ],
      "metadata": {
        "colab": {
          "base_uri": "https://localhost:8080/",
          "height": 424
        },
        "id": "da--W3MZRIEU",
        "outputId": "9fac300f-3053-42ea-db54-f94733a9fbd3"
      },
      "execution_count": 83,
      "outputs": [
        {
          "output_type": "execute_result",
          "data": {
            "text/plain": [
              "                                                  Text          Aspect  \\\n",
              "0    This story is one of too many heartbreaking st...           story   \n",
              "1    Good Faye Kellerman ! ! ! She manages to keep ...  Faye Kellerman   \n",
              "2    Good Faye Kellerman ! ! ! She manages to keep ...      characters   \n",
              "3    Good Faye Kellerman ! ! ! She manages to keep ...              it   \n",
              "4    Good book on cancer -- a little longer than I ...            book   \n",
              "..                                                 ...             ...   \n",
              "363  This was my first experience reading a Faye Ke...              it   \n",
              "364  This was my first experience reading a Faye Ke...       it--story   \n",
              "365  This was my first experience reading a Faye Ke...        it--plot   \n",
              "366  This was my first experience reading a Faye Ke...  it--characters   \n",
              "367  A must read for all medical professionals , an...            read   \n",
              "\n",
              "    Sentiment  \n",
              "0           2  \n",
              "1           1  \n",
              "2           1  \n",
              "3           1  \n",
              "4           1  \n",
              "..        ...  \n",
              "363         2  \n",
              "364         1  \n",
              "365         0  \n",
              "366         1  \n",
              "367         1  \n",
              "\n",
              "[368 rows x 3 columns]"
            ],
            "text/html": [
              "\n",
              "  <div id=\"df-04aa889b-55d6-42b9-b1a1-4aa71525ecad\" class=\"colab-df-container\">\n",
              "    <div>\n",
              "<style scoped>\n",
              "    .dataframe tbody tr th:only-of-type {\n",
              "        vertical-align: middle;\n",
              "    }\n",
              "\n",
              "    .dataframe tbody tr th {\n",
              "        vertical-align: top;\n",
              "    }\n",
              "\n",
              "    .dataframe thead th {\n",
              "        text-align: right;\n",
              "    }\n",
              "</style>\n",
              "<table border=\"1\" class=\"dataframe\">\n",
              "  <thead>\n",
              "    <tr style=\"text-align: right;\">\n",
              "      <th></th>\n",
              "      <th>Text</th>\n",
              "      <th>Aspect</th>\n",
              "      <th>Sentiment</th>\n",
              "    </tr>\n",
              "  </thead>\n",
              "  <tbody>\n",
              "    <tr>\n",
              "      <th>0</th>\n",
              "      <td>This story is one of too many heartbreaking st...</td>\n",
              "      <td>story</td>\n",
              "      <td>2</td>\n",
              "    </tr>\n",
              "    <tr>\n",
              "      <th>1</th>\n",
              "      <td>Good Faye Kellerman ! ! ! She manages to keep ...</td>\n",
              "      <td>Faye Kellerman</td>\n",
              "      <td>1</td>\n",
              "    </tr>\n",
              "    <tr>\n",
              "      <th>2</th>\n",
              "      <td>Good Faye Kellerman ! ! ! She manages to keep ...</td>\n",
              "      <td>characters</td>\n",
              "      <td>1</td>\n",
              "    </tr>\n",
              "    <tr>\n",
              "      <th>3</th>\n",
              "      <td>Good Faye Kellerman ! ! ! She manages to keep ...</td>\n",
              "      <td>it</td>\n",
              "      <td>1</td>\n",
              "    </tr>\n",
              "    <tr>\n",
              "      <th>4</th>\n",
              "      <td>Good book on cancer -- a little longer than I ...</td>\n",
              "      <td>book</td>\n",
              "      <td>1</td>\n",
              "    </tr>\n",
              "    <tr>\n",
              "      <th>...</th>\n",
              "      <td>...</td>\n",
              "      <td>...</td>\n",
              "      <td>...</td>\n",
              "    </tr>\n",
              "    <tr>\n",
              "      <th>363</th>\n",
              "      <td>This was my first experience reading a Faye Ke...</td>\n",
              "      <td>it</td>\n",
              "      <td>2</td>\n",
              "    </tr>\n",
              "    <tr>\n",
              "      <th>364</th>\n",
              "      <td>This was my first experience reading a Faye Ke...</td>\n",
              "      <td>it--story</td>\n",
              "      <td>1</td>\n",
              "    </tr>\n",
              "    <tr>\n",
              "      <th>365</th>\n",
              "      <td>This was my first experience reading a Faye Ke...</td>\n",
              "      <td>it--plot</td>\n",
              "      <td>0</td>\n",
              "    </tr>\n",
              "    <tr>\n",
              "      <th>366</th>\n",
              "      <td>This was my first experience reading a Faye Ke...</td>\n",
              "      <td>it--characters</td>\n",
              "      <td>1</td>\n",
              "    </tr>\n",
              "    <tr>\n",
              "      <th>367</th>\n",
              "      <td>A must read for all medical professionals , an...</td>\n",
              "      <td>read</td>\n",
              "      <td>1</td>\n",
              "    </tr>\n",
              "  </tbody>\n",
              "</table>\n",
              "<p>368 rows × 3 columns</p>\n",
              "</div>\n",
              "    <div class=\"colab-df-buttons\">\n",
              "\n",
              "  <div class=\"colab-df-container\">\n",
              "    <button class=\"colab-df-convert\" onclick=\"convertToInteractive('df-04aa889b-55d6-42b9-b1a1-4aa71525ecad')\"\n",
              "            title=\"Convert this dataframe to an interactive table.\"\n",
              "            style=\"display:none;\">\n",
              "\n",
              "  <svg xmlns=\"http://www.w3.org/2000/svg\" height=\"24px\" viewBox=\"0 -960 960 960\">\n",
              "    <path d=\"M120-120v-720h720v720H120Zm60-500h600v-160H180v160Zm220 220h160v-160H400v160Zm0 220h160v-160H400v160ZM180-400h160v-160H180v160Zm440 0h160v-160H620v160ZM180-180h160v-160H180v160Zm440 0h160v-160H620v160Z\"/>\n",
              "  </svg>\n",
              "    </button>\n",
              "\n",
              "  <style>\n",
              "    .colab-df-container {\n",
              "      display:flex;\n",
              "      gap: 12px;\n",
              "    }\n",
              "\n",
              "    .colab-df-convert {\n",
              "      background-color: #E8F0FE;\n",
              "      border: none;\n",
              "      border-radius: 50%;\n",
              "      cursor: pointer;\n",
              "      display: none;\n",
              "      fill: #1967D2;\n",
              "      height: 32px;\n",
              "      padding: 0 0 0 0;\n",
              "      width: 32px;\n",
              "    }\n",
              "\n",
              "    .colab-df-convert:hover {\n",
              "      background-color: #E2EBFA;\n",
              "      box-shadow: 0px 1px 2px rgba(60, 64, 67, 0.3), 0px 1px 3px 1px rgba(60, 64, 67, 0.15);\n",
              "      fill: #174EA6;\n",
              "    }\n",
              "\n",
              "    .colab-df-buttons div {\n",
              "      margin-bottom: 4px;\n",
              "    }\n",
              "\n",
              "    [theme=dark] .colab-df-convert {\n",
              "      background-color: #3B4455;\n",
              "      fill: #D2E3FC;\n",
              "    }\n",
              "\n",
              "    [theme=dark] .colab-df-convert:hover {\n",
              "      background-color: #434B5C;\n",
              "      box-shadow: 0px 1px 3px 1px rgba(0, 0, 0, 0.15);\n",
              "      filter: drop-shadow(0px 1px 2px rgba(0, 0, 0, 0.3));\n",
              "      fill: #FFFFFF;\n",
              "    }\n",
              "  </style>\n",
              "\n",
              "    <script>\n",
              "      const buttonEl =\n",
              "        document.querySelector('#df-04aa889b-55d6-42b9-b1a1-4aa71525ecad button.colab-df-convert');\n",
              "      buttonEl.style.display =\n",
              "        google.colab.kernel.accessAllowed ? 'block' : 'none';\n",
              "\n",
              "      async function convertToInteractive(key) {\n",
              "        const element = document.querySelector('#df-04aa889b-55d6-42b9-b1a1-4aa71525ecad');\n",
              "        const dataTable =\n",
              "          await google.colab.kernel.invokeFunction('convertToInteractive',\n",
              "                                                    [key], {});\n",
              "        if (!dataTable) return;\n",
              "\n",
              "        const docLinkHtml = 'Like what you see? Visit the ' +\n",
              "          '<a target=\"_blank\" href=https://colab.research.google.com/notebooks/data_table.ipynb>data table notebook</a>'\n",
              "          + ' to learn more about interactive tables.';\n",
              "        element.innerHTML = '';\n",
              "        dataTable['output_type'] = 'display_data';\n",
              "        await google.colab.output.renderOutput(dataTable, element);\n",
              "        const docLink = document.createElement('div');\n",
              "        docLink.innerHTML = docLinkHtml;\n",
              "        element.appendChild(docLink);\n",
              "      }\n",
              "    </script>\n",
              "  </div>\n",
              "\n",
              "\n",
              "<div id=\"df-36ea1d68-25c4-4e4d-85ed-ca7fb769f337\">\n",
              "  <button class=\"colab-df-quickchart\" onclick=\"quickchart('df-36ea1d68-25c4-4e4d-85ed-ca7fb769f337')\"\n",
              "            title=\"Suggest charts.\"\n",
              "            style=\"display:none;\">\n",
              "\n",
              "<svg xmlns=\"http://www.w3.org/2000/svg\" height=\"24px\"viewBox=\"0 0 24 24\"\n",
              "     width=\"24px\">\n",
              "    <g>\n",
              "        <path d=\"M19 3H5c-1.1 0-2 .9-2 2v14c0 1.1.9 2 2 2h14c1.1 0 2-.9 2-2V5c0-1.1-.9-2-2-2zM9 17H7v-7h2v7zm4 0h-2V7h2v10zm4 0h-2v-4h2v4z\"/>\n",
              "    </g>\n",
              "</svg>\n",
              "  </button>\n",
              "\n",
              "<style>\n",
              "  .colab-df-quickchart {\n",
              "      --bg-color: #E8F0FE;\n",
              "      --fill-color: #1967D2;\n",
              "      --hover-bg-color: #E2EBFA;\n",
              "      --hover-fill-color: #174EA6;\n",
              "      --disabled-fill-color: #AAA;\n",
              "      --disabled-bg-color: #DDD;\n",
              "  }\n",
              "\n",
              "  [theme=dark] .colab-df-quickchart {\n",
              "      --bg-color: #3B4455;\n",
              "      --fill-color: #D2E3FC;\n",
              "      --hover-bg-color: #434B5C;\n",
              "      --hover-fill-color: #FFFFFF;\n",
              "      --disabled-bg-color: #3B4455;\n",
              "      --disabled-fill-color: #666;\n",
              "  }\n",
              "\n",
              "  .colab-df-quickchart {\n",
              "    background-color: var(--bg-color);\n",
              "    border: none;\n",
              "    border-radius: 50%;\n",
              "    cursor: pointer;\n",
              "    display: none;\n",
              "    fill: var(--fill-color);\n",
              "    height: 32px;\n",
              "    padding: 0;\n",
              "    width: 32px;\n",
              "  }\n",
              "\n",
              "  .colab-df-quickchart:hover {\n",
              "    background-color: var(--hover-bg-color);\n",
              "    box-shadow: 0 1px 2px rgba(60, 64, 67, 0.3), 0 1px 3px 1px rgba(60, 64, 67, 0.15);\n",
              "    fill: var(--button-hover-fill-color);\n",
              "  }\n",
              "\n",
              "  .colab-df-quickchart-complete:disabled,\n",
              "  .colab-df-quickchart-complete:disabled:hover {\n",
              "    background-color: var(--disabled-bg-color);\n",
              "    fill: var(--disabled-fill-color);\n",
              "    box-shadow: none;\n",
              "  }\n",
              "\n",
              "  .colab-df-spinner {\n",
              "    border: 2px solid var(--fill-color);\n",
              "    border-color: transparent;\n",
              "    border-bottom-color: var(--fill-color);\n",
              "    animation:\n",
              "      spin 1s steps(1) infinite;\n",
              "  }\n",
              "\n",
              "  @keyframes spin {\n",
              "    0% {\n",
              "      border-color: transparent;\n",
              "      border-bottom-color: var(--fill-color);\n",
              "      border-left-color: var(--fill-color);\n",
              "    }\n",
              "    20% {\n",
              "      border-color: transparent;\n",
              "      border-left-color: var(--fill-color);\n",
              "      border-top-color: var(--fill-color);\n",
              "    }\n",
              "    30% {\n",
              "      border-color: transparent;\n",
              "      border-left-color: var(--fill-color);\n",
              "      border-top-color: var(--fill-color);\n",
              "      border-right-color: var(--fill-color);\n",
              "    }\n",
              "    40% {\n",
              "      border-color: transparent;\n",
              "      border-right-color: var(--fill-color);\n",
              "      border-top-color: var(--fill-color);\n",
              "    }\n",
              "    60% {\n",
              "      border-color: transparent;\n",
              "      border-right-color: var(--fill-color);\n",
              "    }\n",
              "    80% {\n",
              "      border-color: transparent;\n",
              "      border-right-color: var(--fill-color);\n",
              "      border-bottom-color: var(--fill-color);\n",
              "    }\n",
              "    90% {\n",
              "      border-color: transparent;\n",
              "      border-bottom-color: var(--fill-color);\n",
              "    }\n",
              "  }\n",
              "</style>\n",
              "\n",
              "  <script>\n",
              "    async function quickchart(key) {\n",
              "      const quickchartButtonEl =\n",
              "        document.querySelector('#' + key + ' button');\n",
              "      quickchartButtonEl.disabled = true;  // To prevent multiple clicks.\n",
              "      quickchartButtonEl.classList.add('colab-df-spinner');\n",
              "      try {\n",
              "        const charts = await google.colab.kernel.invokeFunction(\n",
              "            'suggestCharts', [key], {});\n",
              "      } catch (error) {\n",
              "        console.error('Error during call to suggestCharts:', error);\n",
              "      }\n",
              "      quickchartButtonEl.classList.remove('colab-df-spinner');\n",
              "      quickchartButtonEl.classList.add('colab-df-quickchart-complete');\n",
              "    }\n",
              "    (() => {\n",
              "      let quickchartButtonEl =\n",
              "        document.querySelector('#df-36ea1d68-25c4-4e4d-85ed-ca7fb769f337 button');\n",
              "      quickchartButtonEl.style.display =\n",
              "        google.colab.kernel.accessAllowed ? 'block' : 'none';\n",
              "    })();\n",
              "  </script>\n",
              "</div>\n",
              "    </div>\n",
              "  </div>\n"
            ]
          },
          "metadata": {},
          "execution_count": 83
        }
      ]
    },
    {
      "cell_type": "code",
      "source": [
        "X_test = test_df"
      ],
      "metadata": {
        "id": "4-IPm_UAIf6-"
      },
      "execution_count": 84,
      "outputs": []
    },
    {
      "cell_type": "code",
      "source": [
        "## Convert polarity Values to Integers\n",
        "X_test[\"Sentiment\"] = pd.to_numeric(X_test[\"Sentiment\"],errors='coerce')\n"
      ],
      "metadata": {
        "id": "SO4rDNZ6Igt4"
      },
      "execution_count": 85,
      "outputs": []
    },
    {
      "cell_type": "code",
      "source": [
        "y_test = X_test[\"Sentiment\"]"
      ],
      "metadata": {
        "id": "8WEPXgq0Ilmk"
      },
      "execution_count": 86,
      "outputs": []
    },
    {
      "cell_type": "code",
      "source": [
        "tokenizer = Tokenizer(num_words=NUM_WORDS,\n",
        "                      filters='!\"#$%&()*+,-./:;<=>?@[\\\\]^_`{|}~\\t\\n',\n",
        "                      lower=True, )\n",
        "## Fit_on_texts : Updates internal vocabulary based on a list of texts.\n",
        "tokenizer.fit_on_texts(list(X_train.sentence))\n",
        "text_X_test_tokenized = tokenizer.texts_to_sequences(X_test.Text) # list of tokenized sentences\n",
        "Aspect_X_test_tokenized = tokenizer.texts_to_sequences(X_test['Aspect']) # list of tokenized sentences\n"
      ],
      "metadata": {
        "id": "-9NwsyI0IrLU"
      },
      "execution_count": 87,
      "outputs": []
    },
    {
      "cell_type": "code",
      "source": [
        "## Pads sequences(or sentences) to the same length.\n",
        "\n",
        "\n",
        "\n",
        "text_X_test_padded = pad_sequences(text_X_test_tokenized, maxlen=Max_Len)\n",
        "aspect_X_test_padded = pad_sequences(Aspect_X_test_tokenized, maxlen=1)\n"
      ],
      "metadata": {
        "id": "gNy89I5EIvJi"
      },
      "execution_count": 88,
      "outputs": []
    },
    {
      "cell_type": "code",
      "source": [
        "test_data =   [text_X_test_padded,aspect_X_test_padded]\n"
      ],
      "metadata": {
        "id": "Bnzh2GcKIxJw"
      },
      "execution_count": 89,
      "outputs": []
    },
    {
      "cell_type": "code",
      "source": [
        "print(\"Evaluate on test data\")\n",
        "results = atae_lstm_model.evaluate(x = test_data , y = y_test )\n",
        "print(\"test loss, test acc:\", results)\n",
        "print(\"Accuracy of the model is - \" , results[1]*100 , \"%\")"
      ],
      "metadata": {
        "colab": {
          "base_uri": "https://localhost:8080/"
        },
        "id": "ZXLPu3-mI0PI",
        "outputId": "6b1b6df5-a9eb-4718-f23e-636e99b8e7ae"
      },
      "execution_count": 90,
      "outputs": [
        {
          "output_type": "stream",
          "name": "stdout",
          "text": [
            "Evaluate on test data\n",
            "12/12 [==============================] - 0s 5ms/step - loss: 1.5901 - accuracy: 0.5516\n",
            "test loss, test acc: [1.5900580883026123, 0.551630437374115]\n",
            "Accuracy of the model is -  55.1630437374115 %\n"
          ]
        }
      ]
    },
    {
      "cell_type": "markdown",
      "source": [
        "##CROSS VALIDATE ON DOTSA CLOTHING"
      ],
      "metadata": {
        "id": "Gxy1BWO6JyHa"
      }
    },
    {
      "cell_type": "code",
      "source": [
        "df2_test = pd.read_csv(\"/content/drive/MyDrive/ABSA work/codes/processed_dotsa/new_Clothing_test.csv\", encoding='utf8')"
      ],
      "metadata": {
        "id": "PccgJYx9JmlI"
      },
      "execution_count": 91,
      "outputs": []
    },
    {
      "cell_type": "code",
      "source": [
        "train1 = []\n",
        "test1 = []\n",
        "val1 = []\n",
        "\n",
        "def dataset1(data , list1):\n",
        "  for text, aspects, sentiments in zip(data['Text'], data['Aspect'], data['Sentiment']):\n",
        "    aspect_list = aspects.split(', ')\n",
        "    sentiment_list = sentiments.split(', ')\n",
        "\n",
        "    for aspect, sentiment in zip(aspect_list, sentiment_list):\n",
        "      if \", \" in aspect:\n",
        "        sub_aspects = aspect.split(\", \")\n",
        "        for sub_aspect in sub_aspects:\n",
        "          list1.append({'Text': text, 'Aspect': sub_aspect, 'Sentiment': sentiment})\n",
        "      else:\n",
        "        list1.append({'Text': text, 'Aspect': aspect, 'Sentiment': sentiment})\n",
        "\n",
        "  return list1\n",
        "\n",
        "te1 = dataset1(df2_test , test1)\n",
        "\n",
        "# Create a new dataframe from the expanded data\n",
        "\n",
        "test_df = pd.DataFrame(te1)\n",
        "\n",
        "\n"
      ],
      "metadata": {
        "id": "qe64qk7UJmlJ"
      },
      "execution_count": 92,
      "outputs": []
    },
    {
      "cell_type": "code",
      "source": [
        "## change the labels to integers for the training phase\n",
        "test_df['Sentiment'][test_df[\"Sentiment\"] == 'Negative'] = 0\n",
        "test_df['Sentiment'][test_df[\"Sentiment\"] == 'Positive'] = 1\n",
        "test_df['Sentiment'][test_df[\"Sentiment\"] == 'Mixed'] = 2\n",
        "\n"
      ],
      "metadata": {
        "id": "VcocPKDjJmlL"
      },
      "execution_count": 93,
      "outputs": []
    },
    {
      "cell_type": "code",
      "source": [
        "X_test = test_df"
      ],
      "metadata": {
        "id": "s6QsjVClJmlM"
      },
      "execution_count": 94,
      "outputs": []
    },
    {
      "cell_type": "code",
      "source": [
        "## Convert polarity Values to Integers\n",
        "X_test[\"Sentiment\"] = pd.to_numeric(X_test[\"Sentiment\"],errors='coerce')\n"
      ],
      "metadata": {
        "id": "fCdHFgfNJmlN"
      },
      "execution_count": 95,
      "outputs": []
    },
    {
      "cell_type": "code",
      "source": [
        "y_test = X_test[\"Sentiment\"]"
      ],
      "metadata": {
        "id": "lwrdSGCGJmlN"
      },
      "execution_count": 96,
      "outputs": []
    },
    {
      "cell_type": "code",
      "source": [
        "tokenizer = Tokenizer(num_words=NUM_WORDS,\n",
        "                      filters='!\"#$%&()*+,-./:;<=>?@[\\\\]^_`{|}~\\t\\n',\n",
        "                      lower=True, )\n",
        "## Fit_on_texts : Updates internal vocabulary based on a list of texts.\n",
        "tokenizer.fit_on_texts(list(X_train.sentence))\n",
        "text_X_test_tokenized = tokenizer.texts_to_sequences(X_test.Text) # list of tokenized sentences\n",
        "Aspect_X_test_tokenized = tokenizer.texts_to_sequences(X_test['Aspect']) # list of tokenized sentences\n"
      ],
      "metadata": {
        "id": "oSBws5deJmlO"
      },
      "execution_count": 97,
      "outputs": []
    },
    {
      "cell_type": "code",
      "source": [
        "## Pads sequences(or sentences) to the same length.\n",
        "\n",
        "\n",
        "\n",
        "text_X_test_padded = pad_sequences(text_X_test_tokenized, maxlen=Max_Len)\n",
        "aspect_X_test_padded = pad_sequences(Aspect_X_test_tokenized, maxlen=1)\n"
      ],
      "metadata": {
        "id": "ywMrWO-ZJmlP"
      },
      "execution_count": 98,
      "outputs": []
    },
    {
      "cell_type": "code",
      "source": [
        "test_data =   [text_X_test_padded,aspect_X_test_padded]\n"
      ],
      "metadata": {
        "id": "x2XMc_jnJmlP"
      },
      "execution_count": 99,
      "outputs": []
    },
    {
      "cell_type": "code",
      "source": [
        "print(\"Evaluate on test data\")\n",
        "results = atae_lstm_model.evaluate(x = test_data , y = y_test )\n",
        "print(\"test loss, test acc:\", results)\n",
        "print(\"Accuracy of the model is - \" , results[1]*100 , \"%\")"
      ],
      "metadata": {
        "colab": {
          "base_uri": "https://localhost:8080/"
        },
        "id": "c0H6tXS4JmlP",
        "outputId": "2ec100e6-9d5e-4aec-9f07-e7fdbf29f5a7"
      },
      "execution_count": 100,
      "outputs": [
        {
          "output_type": "stream",
          "name": "stdout",
          "text": [
            "Evaluate on test data\n",
            "7/7 [==============================] - 0s 5ms/step - loss: 1.7931 - accuracy: 0.5357\n",
            "test loss, test acc: [1.7930800914764404, 0.5357142686843872]\n",
            "Accuracy of the model is -  53.57142686843872 %\n"
          ]
        }
      ]
    },
    {
      "cell_type": "markdown",
      "source": [
        "##CROSS VALIDATE ON DOTSA HOTELS"
      ],
      "metadata": {
        "id": "_dvMyTcfKR9E"
      }
    },
    {
      "cell_type": "code",
      "source": [
        "df2_test = pd.read_csv(\"/content/drive/MyDrive/ABSA work/codes/processed_dotsa/new_Hotels_test.csv\", encoding='utf8')"
      ],
      "metadata": {
        "id": "gsgMgqHRKR9F"
      },
      "execution_count": 101,
      "outputs": []
    },
    {
      "cell_type": "code",
      "source": [
        "train1 = []\n",
        "test1 = []\n",
        "val1 = []\n",
        "\n",
        "def dataset1(data , list1):\n",
        "  for text, aspects, sentiments in zip(data['Text'], data['Aspect'], data['Sentiment']):\n",
        "    aspect_list = aspects.split(', ')\n",
        "    sentiment_list = sentiments.split(', ')\n",
        "\n",
        "    for aspect, sentiment in zip(aspect_list, sentiment_list):\n",
        "      if \", \" in aspect:\n",
        "        sub_aspects = aspect.split(\", \")\n",
        "        for sub_aspect in sub_aspects:\n",
        "          list1.append({'Text': text, 'Aspect': sub_aspect, 'Sentiment': sentiment})\n",
        "      else:\n",
        "        list1.append({'Text': text, 'Aspect': aspect, 'Sentiment': sentiment})\n",
        "\n",
        "  return list1\n",
        "\n",
        "te1 = dataset1(df2_test , test1)\n",
        "\n",
        "# Create a new dataframe from the expanded data\n",
        "\n",
        "test_df = pd.DataFrame(te1)\n",
        "\n",
        "\n"
      ],
      "metadata": {
        "id": "-3diC4rSKR9G"
      },
      "execution_count": 102,
      "outputs": []
    },
    {
      "cell_type": "code",
      "source": [
        "## change the labels to integers for the training phase\n",
        "test_df['Sentiment'][test_df[\"Sentiment\"] == 'Negative'] = 0\n",
        "test_df['Sentiment'][test_df[\"Sentiment\"] == 'Positive'] = 1\n",
        "test_df['Sentiment'][test_df[\"Sentiment\"] == 'Mixed'] = 2\n",
        "\n"
      ],
      "metadata": {
        "id": "Zr-pEhq4KR9H"
      },
      "execution_count": 103,
      "outputs": []
    },
    {
      "cell_type": "code",
      "source": [
        "X_test = test_df"
      ],
      "metadata": {
        "id": "zXNLeWONKR9H"
      },
      "execution_count": 104,
      "outputs": []
    },
    {
      "cell_type": "code",
      "source": [
        "## Convert polarity Values to Integers\n",
        "X_test[\"Sentiment\"] = pd.to_numeric(X_test[\"Sentiment\"],errors='coerce')\n"
      ],
      "metadata": {
        "id": "19KSOTUdKR9I"
      },
      "execution_count": 105,
      "outputs": []
    },
    {
      "cell_type": "code",
      "source": [
        "y_test = X_test[\"Sentiment\"]"
      ],
      "metadata": {
        "id": "Ak5e8TT0KR9I"
      },
      "execution_count": 106,
      "outputs": []
    },
    {
      "cell_type": "code",
      "source": [
        "tokenizer = Tokenizer(num_words=NUM_WORDS,\n",
        "                      filters='!\"#$%&()*+,-./:;<=>?@[\\\\]^_`{|}~\\t\\n',\n",
        "                      lower=True, )\n",
        "## Fit_on_texts : Updates internal vocabulary based on a list of texts.\n",
        "tokenizer.fit_on_texts(list(X_train.sentence))\n",
        "text_X_test_tokenized = tokenizer.texts_to_sequences(X_test.Text) # list of tokenized sentences\n",
        "Aspect_X_test_tokenized = tokenizer.texts_to_sequences(X_test['Aspect']) # list of tokenized sentences\n"
      ],
      "metadata": {
        "id": "kgKowMbgKR9J"
      },
      "execution_count": 107,
      "outputs": []
    },
    {
      "cell_type": "code",
      "source": [
        "## Pads sequences(or sentences) to the same length.\n",
        "\n",
        "\n",
        "\n",
        "text_X_test_padded = pad_sequences(text_X_test_tokenized, maxlen=Max_Len)\n",
        "aspect_X_test_padded = pad_sequences(Aspect_X_test_tokenized, maxlen=1)\n"
      ],
      "metadata": {
        "id": "z-0b9YZKKR9K"
      },
      "execution_count": 108,
      "outputs": []
    },
    {
      "cell_type": "code",
      "source": [
        "test_data =   [text_X_test_padded,aspect_X_test_padded]\n"
      ],
      "metadata": {
        "id": "4p7SggIiKR9K"
      },
      "execution_count": 109,
      "outputs": []
    },
    {
      "cell_type": "code",
      "source": [
        "print(\"Evaluate on test data\")\n",
        "results = atae_lstm_model.evaluate(x = test_data , y = y_test )\n",
        "print(\"test loss, test acc:\", results)\n",
        "print(\"Accuracy of the model is - \" , results[1]*100 , \"%\")"
      ],
      "metadata": {
        "colab": {
          "base_uri": "https://localhost:8080/"
        },
        "id": "cA7nOd4vKR9K",
        "outputId": "2f0b145a-fffb-44af-d267-8a6f9594e38c"
      },
      "execution_count": 110,
      "outputs": [
        {
          "output_type": "stream",
          "name": "stdout",
          "text": [
            "Evaluate on test data\n",
            "18/18 [==============================] - 0s 5ms/step - loss: 0.9266 - accuracy: 0.7559\n",
            "test loss, test acc: [0.9266372323036194, 0.755919873714447]\n",
            "Accuracy of the model is -  75.5919873714447 %\n"
          ]
        }
      ]
    },
    {
      "cell_type": "code",
      "source": [],
      "metadata": {
        "id": "UOTEtxF_Kdii"
      },
      "execution_count": 110,
      "outputs": []
    },
    {
      "cell_type": "markdown",
      "source": [
        "##CROSS VALIDATE ON DOTSA RESTAURANTS"
      ],
      "metadata": {
        "id": "5MMX0b8tKd7F"
      }
    },
    {
      "cell_type": "code",
      "source": [
        "df2_test = pd.read_csv(\"/content/drive/MyDrive/ABSA work/codes/processed_dotsa/new_Restaurant_test.csv\", encoding='utf8')"
      ],
      "metadata": {
        "id": "qF75fw6WKd7G"
      },
      "execution_count": 111,
      "outputs": []
    },
    {
      "cell_type": "code",
      "source": [
        "train1 = []\n",
        "test1 = []\n",
        "val1 = []\n",
        "\n",
        "def dataset1(data , list1):\n",
        "  for text, aspects, sentiments in zip(data['Text'], data['Aspect'], data['Sentiment']):\n",
        "    aspect_list = aspects.split(', ')\n",
        "    sentiment_list = sentiments.split(', ')\n",
        "\n",
        "    for aspect, sentiment in zip(aspect_list, sentiment_list):\n",
        "      if \", \" in aspect:\n",
        "        sub_aspects = aspect.split(\", \")\n",
        "        for sub_aspect in sub_aspects:\n",
        "          list1.append({'Text': text, 'Aspect': sub_aspect, 'Sentiment': sentiment})\n",
        "      else:\n",
        "        list1.append({'Text': text, 'Aspect': aspect, 'Sentiment': sentiment})\n",
        "\n",
        "  return list1\n",
        "\n",
        "te1 = dataset1(df2_test , test1)\n",
        "\n",
        "# Create a new dataframe from the expanded data\n",
        "\n",
        "test_df = pd.DataFrame(te1)\n",
        "\n",
        "\n"
      ],
      "metadata": {
        "id": "xZVLsHfJKd7H"
      },
      "execution_count": 112,
      "outputs": []
    },
    {
      "cell_type": "code",
      "source": [
        "## change the labels to integers for the training phase\n",
        "test_df['Sentiment'][test_df[\"Sentiment\"] == 'Negative'] = 0\n",
        "test_df['Sentiment'][test_df[\"Sentiment\"] == 'Positive'] = 1\n",
        "test_df['Sentiment'][test_df[\"Sentiment\"] == 'Mixed'] = 2\n",
        "\n"
      ],
      "metadata": {
        "id": "bHBq2AdqKd7I"
      },
      "execution_count": 113,
      "outputs": []
    },
    {
      "cell_type": "code",
      "source": [
        "X_test = test_df"
      ],
      "metadata": {
        "id": "fqrE-JIeKd7J"
      },
      "execution_count": 114,
      "outputs": []
    },
    {
      "cell_type": "code",
      "source": [
        "## Convert polarity Values to Integers\n",
        "X_test[\"Sentiment\"] = pd.to_numeric(X_test[\"Sentiment\"],errors='coerce')\n"
      ],
      "metadata": {
        "id": "eB_EbufwKd7J"
      },
      "execution_count": 115,
      "outputs": []
    },
    {
      "cell_type": "code",
      "source": [
        "y_test = X_test[\"Sentiment\"]"
      ],
      "metadata": {
        "id": "8mH0tBk6Kd7K"
      },
      "execution_count": 116,
      "outputs": []
    },
    {
      "cell_type": "code",
      "source": [
        "tokenizer = Tokenizer(num_words=NUM_WORDS,\n",
        "                      filters='!\"#$%&()*+,-./:;<=>?@[\\\\]^_`{|}~\\t\\n',\n",
        "                      lower=True, )\n",
        "## Fit_on_texts : Updates internal vocabulary based on a list of texts.\n",
        "tokenizer.fit_on_texts(list(X_train.sentence))\n",
        "text_X_test_tokenized = tokenizer.texts_to_sequences(X_test.Text) # list of tokenized sentences\n",
        "Aspect_X_test_tokenized = tokenizer.texts_to_sequences(X_test['Aspect']) # list of tokenized sentences\n"
      ],
      "metadata": {
        "id": "H6sQn1WPKd7K"
      },
      "execution_count": 117,
      "outputs": []
    },
    {
      "cell_type": "code",
      "source": [
        "## Pads sequences(or sentences) to the same length.\n",
        "\n",
        "\n",
        "\n",
        "text_X_test_padded = pad_sequences(text_X_test_tokenized, maxlen=Max_Len)\n",
        "aspect_X_test_padded = pad_sequences(Aspect_X_test_tokenized, maxlen=1)\n"
      ],
      "metadata": {
        "id": "E088egwsKd7K"
      },
      "execution_count": 118,
      "outputs": []
    },
    {
      "cell_type": "code",
      "source": [
        "test_data =   [text_X_test_padded,aspect_X_test_padded]\n"
      ],
      "metadata": {
        "id": "NeYWxEXEKd7L"
      },
      "execution_count": 119,
      "outputs": []
    },
    {
      "cell_type": "code",
      "source": [
        "print(\"Evaluate on test data\")\n",
        "results = atae_lstm_model.evaluate(x = test_data , y = y_test )\n",
        "print(\"test loss, test acc:\", results)\n",
        "print(\"Accuracy of the model is - \" , results[1]*100 , \"%\")"
      ],
      "metadata": {
        "colab": {
          "base_uri": "https://localhost:8080/"
        },
        "id": "min2V0b1Kd7L",
        "outputId": "255b6d8e-414e-449e-d7d8-209061630b49"
      },
      "execution_count": 120,
      "outputs": [
        {
          "output_type": "stream",
          "name": "stdout",
          "text": [
            "Evaluate on test data\n",
            "22/22 [==============================] - 0s 5ms/step - loss: 1.2833 - accuracy: 0.6276\n",
            "test loss, test acc: [1.283298134803772, 0.6275659799575806]\n",
            "Accuracy of the model is -  62.75659799575806 %\n"
          ]
        }
      ]
    },
    {
      "cell_type": "code",
      "source": [],
      "metadata": {
        "id": "M8YwK0rgSEUw"
      },
      "execution_count": 120,
      "outputs": []
    }
  ]
}