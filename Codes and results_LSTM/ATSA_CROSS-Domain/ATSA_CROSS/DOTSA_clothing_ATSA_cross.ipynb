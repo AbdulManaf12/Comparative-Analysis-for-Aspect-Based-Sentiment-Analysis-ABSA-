{
  "nbformat": 4,
  "nbformat_minor": 0,
  "metadata": {
    "colab": {
      "provenance": [],
      "toc_visible": true,
      "gpuType": "T4"
    },
    "kernelspec": {
      "name": "python3",
      "display_name": "Python 3"
    },
    "language_info": {
      "name": "python"
    },
    "accelerator": "GPU"
  },
  "cells": [
    {
      "cell_type": "code",
      "execution_count": 128,
      "metadata": {
        "colab": {
          "base_uri": "https://localhost:8080/"
        },
        "id": "ee91os0yg7KB",
        "outputId": "bd8018db-235b-42c8-d6bc-8bf2a69f4e9b"
      },
      "outputs": [
        {
          "output_type": "stream",
          "name": "stdout",
          "text": [
            "Drive already mounted at /content/drive; to attempt to forcibly remount, call drive.mount(\"/content/drive\", force_remount=True).\n"
          ]
        }
      ],
      "source": [
        "from google.colab import drive\n",
        "drive.mount('/content/drive')"
      ]
    },
    {
      "cell_type": "markdown",
      "source": [
        "## import the required Libraries\n",
        "\n",
        "\n"
      ],
      "metadata": {
        "id": "rN6833U2hbib"
      }
    },
    {
      "cell_type": "code",
      "source": [
        "import os\n",
        "import numpy as np\n",
        "from sklearn.model_selection import train_test_split\n",
        "\n",
        "\n",
        "from keras.models import Model\n",
        "from keras.layers import Input, Embedding, SpatialDropout1D, Dropout, Conv1D, MaxPool1D, Flatten, concatenate, Dense, \\\n",
        "    LSTM, Bidirectional, Activation, MaxPooling1D, Add, GRU, GlobalAveragePooling1D, GlobalMaxPooling1D, RepeatVector, \\\n",
        "    TimeDistributed, Permute, multiply, Lambda, add, Masking, BatchNormalization, Softmax, Reshape, ReLU, \\\n",
        "    ZeroPadding1D, subtract\n",
        "from tensorflow.keras.preprocessing.sequence import pad_sequences\n",
        "from tensorflow.keras.utils import to_categorical\n",
        "from tensorflow.keras.callbacks import Callback, ModelCheckpoint, EarlyStopping\n",
        "import tensorflow.keras.backend as K\n",
        "import tensorflow as tf\n",
        "from keras import backend as K, initializers, regularizers, constraints\n",
        "\n",
        "\n",
        "# Import our dependencies\n",
        "import tensorflow as tf\n",
        "import pandas as pd\n",
        "import tensorflow_hub as hub\n",
        "import os\n",
        "import re\n",
        "from keras import backend as K\n",
        "import keras.layers as layers\n",
        "from keras.models import Model, load_model\n",
        "from tensorflow.keras.layers import Layer, InputSpec\n",
        "import numpy as np\n",
        "\n",
        "from statistics import mode\n",
        "\n",
        "import numpy as np # linear algebra\n",
        "import pandas as pd # data processing, CSV file I/O (e.g. pd.read_csv)\n",
        "import matplotlib\n",
        "import matplotlib.pyplot as plt\n",
        "import nltk\n",
        "import seaborn as sns\n",
        "from nltk.tokenize import word_tokenize\n",
        "from nltk.corpus import stopwords\n",
        "%matplotlib inline\n",
        "import tensorflow as tf\n",
        "\n",
        "\n",
        "# Then what you need from tensorflow.keras\n",
        "from tensorflow.keras.layers import Input, Dropout, Dense, GlobalAveragePooling1D\n",
        "from tensorflow.keras.callbacks import ReduceLROnPlateau\n",
        "from tensorflow.keras.models import Model\n",
        "from tensorflow.keras.optimizers import Adam\n",
        "from tensorflow.keras.callbacks import EarlyStopping\n",
        "from tensorflow.keras.initializers import TruncatedNormal\n",
        "from tensorflow.keras.losses import CategoricalCrossentropy\n",
        "from tensorflow.keras.metrics import CategoricalAccuracy\n",
        "from tensorflow.keras.utils import to_categorical\n",
        "from sklearn.model_selection import train_test_split\n",
        "\n",
        "from tensorflow.python.keras import backend as K\n",
        "from tensorflow.python.keras.metrics import Metric\n",
        "from tensorflow.python.keras.utils import metrics_utils\n",
        "from tensorflow.python.ops import init_ops\n",
        "from tensorflow.python.ops import math_ops\n",
        "from tensorflow.python.keras.utils.generic_utils import to_list\n",
        "import tensorflow_hub as hub\n",
        "\n",
        "\n",
        "\n",
        "import re\n",
        "import nltk\n",
        "from nltk.corpus import stopwords\n",
        "\n",
        "# neural\n",
        "from keras.preprocessing.text import Tokenizer\n",
        "from keras.utils import pad_sequences\n",
        "from keras.layers import Dense, LSTM, Embedding, Dropout\n",
        "from keras.layers import Bidirectional, GlobalMaxPool1D\n",
        "from keras.models import Model, Sequential\n",
        "\n",
        "#Metrics\n",
        "from sklearn.metrics import balanced_accuracy_score\n",
        "\n",
        "from sklearn.feature_extraction.text import TfidfVectorizer\n",
        "from mlxtend.plotting import plot_confusion_matrix\n",
        "from sklearn.tree import DecisionTreeClassifier\n",
        "from sklearn.metrics import classification_report,confusion_matrix,accuracy_score\n",
        "from sklearn.linear_model import LogisticRegression,SGDClassifier\n",
        "from sklearn.naive_bayes import MultinomialNB\n",
        "from sklearn.ensemble import RandomForestClassifier,GradientBoostingClassifier,AdaBoostClassifier,ExtraTreesClassifier"
      ],
      "metadata": {
        "id": "VJwPUlA7hck3"
      },
      "execution_count": 129,
      "outputs": []
    },
    {
      "cell_type": "markdown",
      "source": [
        "##LOAD THE DOTSA CLOTHING DATASET\n"
      ],
      "metadata": {
        "id": "uOcr2YZVhsQA"
      }
    },
    {
      "cell_type": "code",
      "source": [
        "df2_train = pd.read_csv(\"/content/drive/MyDrive/ABSA work/codes/processed_dotsa/new_Clothing_train.csv\", encoding='utf8')"
      ],
      "metadata": {
        "id": "2XqJufHPhhFi"
      },
      "execution_count": 130,
      "outputs": []
    },
    {
      "cell_type": "code",
      "source": [
        "#df2_train, df2_val = train_test_split(df_train, test_size=0.2, random_state=42)\n"
      ],
      "metadata": {
        "id": "rtGOovoDZ6Zz"
      },
      "execution_count": 131,
      "outputs": []
    },
    {
      "cell_type": "code",
      "source": [
        "df2_test = pd.read_csv(\"/content/drive/MyDrive/ABSA work/codes/processed_dotsa/new_Clothing_test.csv\", encoding='utf8')"
      ],
      "metadata": {
        "id": "t96fErRfhjxf"
      },
      "execution_count": 132,
      "outputs": []
    },
    {
      "cell_type": "code",
      "source": [
        "df2_val = pd.read_csv(\"/content/drive/MyDrive/ABSA work/codes/processed_dotsa/new_Clothing_val.csv\", encoding='utf8')"
      ],
      "metadata": {
        "id": "U7eJXnovhmFK"
      },
      "execution_count": 133,
      "outputs": []
    },
    {
      "cell_type": "code",
      "source": [
        "train1 = []\n",
        "test1 = []\n",
        "val1 = []\n",
        "\n",
        "def dataset1(data , list1):\n",
        "  for text, aspects, sentiments in zip(data['Text'], data['Aspect'], data['Sentiment']):\n",
        "    aspect_list = aspects.split(', ')\n",
        "    sentiment_list = sentiments.split(', ')\n",
        "\n",
        "    for aspect, sentiment in zip(aspect_list, sentiment_list):\n",
        "      if \", \" in aspect:\n",
        "        sub_aspects = aspect.split(\", \")\n",
        "        for sub_aspect in sub_aspects:\n",
        "          list1.append({'Text': text, 'Aspect': sub_aspect, 'Sentiment': sentiment})\n",
        "      else:\n",
        "        list1.append({'Text': text, 'Aspect': aspect, 'Sentiment': sentiment})\n",
        "\n",
        "  return list1\n",
        "tr1 = dataset1(df2_train , train1)\n",
        "te1 = dataset1(df2_test , test1)\n",
        "va1 = dataset1(df2_val , val1)\n",
        "# Create a new dataframe from the expanded data\n",
        "df2_train = pd.DataFrame(tr1)\n",
        "df2_test = pd.DataFrame(te1)\n",
        "df2_val = pd.DataFrame(va1)\n",
        "\n"
      ],
      "metadata": {
        "id": "lqSUlGirF-Z5"
      },
      "execution_count": 134,
      "outputs": []
    },
    {
      "cell_type": "code",
      "source": [
        "df2_train"
      ],
      "metadata": {
        "colab": {
          "base_uri": "https://localhost:8080/",
          "height": 424
        },
        "id": "ZypK8kgLbsgn",
        "outputId": "9d7b5593-81c3-440b-ebc6-2e24c86f8537"
      },
      "execution_count": 135,
      "outputs": [
        {
          "output_type": "execute_result",
          "data": {
            "text/plain": [
              "                                                  Text              Aspect  \\\n",
              "0    waist band is better than Bloch . it feels sof...          waist band   \n",
              "1    waist band is better than Bloch . it feels sof...                  it   \n",
              "2    I am 5\\ ' 6 and weigh 130-135lbs ( size 6 pant...        dance tights   \n",
              "3    I am 5\\ ' 6 and weigh 130-135lbs ( size 6 pant...                   B   \n",
              "4    I bought these sandals for my Mom in two diffe...             sandals   \n",
              "..                                                 ...                 ...   \n",
              "937  LOOOOOOOVE these i can not live without them ....               these   \n",
              "938  I like the heel height and the style . I purch...        shoes--style   \n",
              "939  I like the heel height and the style . I purch...  shoes--heel height   \n",
              "940  I like the heel height and the style . I purch...               shoes   \n",
              "941  I love these tights . I bought them for everyd...              tights   \n",
              "\n",
              "    Sentiment  \n",
              "0    Positive  \n",
              "1    Positive  \n",
              "2       Mixed  \n",
              "3    Positive  \n",
              "4    Positive  \n",
              "..        ...  \n",
              "937  Positive  \n",
              "938  Positive  \n",
              "939  Positive  \n",
              "940     Mixed  \n",
              "941  Positive  \n",
              "\n",
              "[942 rows x 3 columns]"
            ],
            "text/html": [
              "\n",
              "  <div id=\"df-ee796692-781f-480b-9bd6-6577e6b39d8d\" class=\"colab-df-container\">\n",
              "    <div>\n",
              "<style scoped>\n",
              "    .dataframe tbody tr th:only-of-type {\n",
              "        vertical-align: middle;\n",
              "    }\n",
              "\n",
              "    .dataframe tbody tr th {\n",
              "        vertical-align: top;\n",
              "    }\n",
              "\n",
              "    .dataframe thead th {\n",
              "        text-align: right;\n",
              "    }\n",
              "</style>\n",
              "<table border=\"1\" class=\"dataframe\">\n",
              "  <thead>\n",
              "    <tr style=\"text-align: right;\">\n",
              "      <th></th>\n",
              "      <th>Text</th>\n",
              "      <th>Aspect</th>\n",
              "      <th>Sentiment</th>\n",
              "    </tr>\n",
              "  </thead>\n",
              "  <tbody>\n",
              "    <tr>\n",
              "      <th>0</th>\n",
              "      <td>waist band is better than Bloch . it feels sof...</td>\n",
              "      <td>waist band</td>\n",
              "      <td>Positive</td>\n",
              "    </tr>\n",
              "    <tr>\n",
              "      <th>1</th>\n",
              "      <td>waist band is better than Bloch . it feels sof...</td>\n",
              "      <td>it</td>\n",
              "      <td>Positive</td>\n",
              "    </tr>\n",
              "    <tr>\n",
              "      <th>2</th>\n",
              "      <td>I am 5\\ ' 6 and weigh 130-135lbs ( size 6 pant...</td>\n",
              "      <td>dance tights</td>\n",
              "      <td>Mixed</td>\n",
              "    </tr>\n",
              "    <tr>\n",
              "      <th>3</th>\n",
              "      <td>I am 5\\ ' 6 and weigh 130-135lbs ( size 6 pant...</td>\n",
              "      <td>B</td>\n",
              "      <td>Positive</td>\n",
              "    </tr>\n",
              "    <tr>\n",
              "      <th>4</th>\n",
              "      <td>I bought these sandals for my Mom in two diffe...</td>\n",
              "      <td>sandals</td>\n",
              "      <td>Positive</td>\n",
              "    </tr>\n",
              "    <tr>\n",
              "      <th>...</th>\n",
              "      <td>...</td>\n",
              "      <td>...</td>\n",
              "      <td>...</td>\n",
              "    </tr>\n",
              "    <tr>\n",
              "      <th>937</th>\n",
              "      <td>LOOOOOOOVE these i can not live without them ....</td>\n",
              "      <td>these</td>\n",
              "      <td>Positive</td>\n",
              "    </tr>\n",
              "    <tr>\n",
              "      <th>938</th>\n",
              "      <td>I like the heel height and the style . I purch...</td>\n",
              "      <td>shoes--style</td>\n",
              "      <td>Positive</td>\n",
              "    </tr>\n",
              "    <tr>\n",
              "      <th>939</th>\n",
              "      <td>I like the heel height and the style . I purch...</td>\n",
              "      <td>shoes--heel height</td>\n",
              "      <td>Positive</td>\n",
              "    </tr>\n",
              "    <tr>\n",
              "      <th>940</th>\n",
              "      <td>I like the heel height and the style . I purch...</td>\n",
              "      <td>shoes</td>\n",
              "      <td>Mixed</td>\n",
              "    </tr>\n",
              "    <tr>\n",
              "      <th>941</th>\n",
              "      <td>I love these tights . I bought them for everyd...</td>\n",
              "      <td>tights</td>\n",
              "      <td>Positive</td>\n",
              "    </tr>\n",
              "  </tbody>\n",
              "</table>\n",
              "<p>942 rows × 3 columns</p>\n",
              "</div>\n",
              "    <div class=\"colab-df-buttons\">\n",
              "\n",
              "  <div class=\"colab-df-container\">\n",
              "    <button class=\"colab-df-convert\" onclick=\"convertToInteractive('df-ee796692-781f-480b-9bd6-6577e6b39d8d')\"\n",
              "            title=\"Convert this dataframe to an interactive table.\"\n",
              "            style=\"display:none;\">\n",
              "\n",
              "  <svg xmlns=\"http://www.w3.org/2000/svg\" height=\"24px\" viewBox=\"0 -960 960 960\">\n",
              "    <path d=\"M120-120v-720h720v720H120Zm60-500h600v-160H180v160Zm220 220h160v-160H400v160Zm0 220h160v-160H400v160ZM180-400h160v-160H180v160Zm440 0h160v-160H620v160ZM180-180h160v-160H180v160Zm440 0h160v-160H620v160Z\"/>\n",
              "  </svg>\n",
              "    </button>\n",
              "\n",
              "  <style>\n",
              "    .colab-df-container {\n",
              "      display:flex;\n",
              "      gap: 12px;\n",
              "    }\n",
              "\n",
              "    .colab-df-convert {\n",
              "      background-color: #E8F0FE;\n",
              "      border: none;\n",
              "      border-radius: 50%;\n",
              "      cursor: pointer;\n",
              "      display: none;\n",
              "      fill: #1967D2;\n",
              "      height: 32px;\n",
              "      padding: 0 0 0 0;\n",
              "      width: 32px;\n",
              "    }\n",
              "\n",
              "    .colab-df-convert:hover {\n",
              "      background-color: #E2EBFA;\n",
              "      box-shadow: 0px 1px 2px rgba(60, 64, 67, 0.3), 0px 1px 3px 1px rgba(60, 64, 67, 0.15);\n",
              "      fill: #174EA6;\n",
              "    }\n",
              "\n",
              "    .colab-df-buttons div {\n",
              "      margin-bottom: 4px;\n",
              "    }\n",
              "\n",
              "    [theme=dark] .colab-df-convert {\n",
              "      background-color: #3B4455;\n",
              "      fill: #D2E3FC;\n",
              "    }\n",
              "\n",
              "    [theme=dark] .colab-df-convert:hover {\n",
              "      background-color: #434B5C;\n",
              "      box-shadow: 0px 1px 3px 1px rgba(0, 0, 0, 0.15);\n",
              "      filter: drop-shadow(0px 1px 2px rgba(0, 0, 0, 0.3));\n",
              "      fill: #FFFFFF;\n",
              "    }\n",
              "  </style>\n",
              "\n",
              "    <script>\n",
              "      const buttonEl =\n",
              "        document.querySelector('#df-ee796692-781f-480b-9bd6-6577e6b39d8d button.colab-df-convert');\n",
              "      buttonEl.style.display =\n",
              "        google.colab.kernel.accessAllowed ? 'block' : 'none';\n",
              "\n",
              "      async function convertToInteractive(key) {\n",
              "        const element = document.querySelector('#df-ee796692-781f-480b-9bd6-6577e6b39d8d');\n",
              "        const dataTable =\n",
              "          await google.colab.kernel.invokeFunction('convertToInteractive',\n",
              "                                                    [key], {});\n",
              "        if (!dataTable) return;\n",
              "\n",
              "        const docLinkHtml = 'Like what you see? Visit the ' +\n",
              "          '<a target=\"_blank\" href=https://colab.research.google.com/notebooks/data_table.ipynb>data table notebook</a>'\n",
              "          + ' to learn more about interactive tables.';\n",
              "        element.innerHTML = '';\n",
              "        dataTable['output_type'] = 'display_data';\n",
              "        await google.colab.output.renderOutput(dataTable, element);\n",
              "        const docLink = document.createElement('div');\n",
              "        docLink.innerHTML = docLinkHtml;\n",
              "        element.appendChild(docLink);\n",
              "      }\n",
              "    </script>\n",
              "  </div>\n",
              "\n",
              "\n",
              "<div id=\"df-c5274299-25cd-411a-9c6f-eb8794221085\">\n",
              "  <button class=\"colab-df-quickchart\" onclick=\"quickchart('df-c5274299-25cd-411a-9c6f-eb8794221085')\"\n",
              "            title=\"Suggest charts.\"\n",
              "            style=\"display:none;\">\n",
              "\n",
              "<svg xmlns=\"http://www.w3.org/2000/svg\" height=\"24px\"viewBox=\"0 0 24 24\"\n",
              "     width=\"24px\">\n",
              "    <g>\n",
              "        <path d=\"M19 3H5c-1.1 0-2 .9-2 2v14c0 1.1.9 2 2 2h14c1.1 0 2-.9 2-2V5c0-1.1-.9-2-2-2zM9 17H7v-7h2v7zm4 0h-2V7h2v10zm4 0h-2v-4h2v4z\"/>\n",
              "    </g>\n",
              "</svg>\n",
              "  </button>\n",
              "\n",
              "<style>\n",
              "  .colab-df-quickchart {\n",
              "      --bg-color: #E8F0FE;\n",
              "      --fill-color: #1967D2;\n",
              "      --hover-bg-color: #E2EBFA;\n",
              "      --hover-fill-color: #174EA6;\n",
              "      --disabled-fill-color: #AAA;\n",
              "      --disabled-bg-color: #DDD;\n",
              "  }\n",
              "\n",
              "  [theme=dark] .colab-df-quickchart {\n",
              "      --bg-color: #3B4455;\n",
              "      --fill-color: #D2E3FC;\n",
              "      --hover-bg-color: #434B5C;\n",
              "      --hover-fill-color: #FFFFFF;\n",
              "      --disabled-bg-color: #3B4455;\n",
              "      --disabled-fill-color: #666;\n",
              "  }\n",
              "\n",
              "  .colab-df-quickchart {\n",
              "    background-color: var(--bg-color);\n",
              "    border: none;\n",
              "    border-radius: 50%;\n",
              "    cursor: pointer;\n",
              "    display: none;\n",
              "    fill: var(--fill-color);\n",
              "    height: 32px;\n",
              "    padding: 0;\n",
              "    width: 32px;\n",
              "  }\n",
              "\n",
              "  .colab-df-quickchart:hover {\n",
              "    background-color: var(--hover-bg-color);\n",
              "    box-shadow: 0 1px 2px rgba(60, 64, 67, 0.3), 0 1px 3px 1px rgba(60, 64, 67, 0.15);\n",
              "    fill: var(--button-hover-fill-color);\n",
              "  }\n",
              "\n",
              "  .colab-df-quickchart-complete:disabled,\n",
              "  .colab-df-quickchart-complete:disabled:hover {\n",
              "    background-color: var(--disabled-bg-color);\n",
              "    fill: var(--disabled-fill-color);\n",
              "    box-shadow: none;\n",
              "  }\n",
              "\n",
              "  .colab-df-spinner {\n",
              "    border: 2px solid var(--fill-color);\n",
              "    border-color: transparent;\n",
              "    border-bottom-color: var(--fill-color);\n",
              "    animation:\n",
              "      spin 1s steps(1) infinite;\n",
              "  }\n",
              "\n",
              "  @keyframes spin {\n",
              "    0% {\n",
              "      border-color: transparent;\n",
              "      border-bottom-color: var(--fill-color);\n",
              "      border-left-color: var(--fill-color);\n",
              "    }\n",
              "    20% {\n",
              "      border-color: transparent;\n",
              "      border-left-color: var(--fill-color);\n",
              "      border-top-color: var(--fill-color);\n",
              "    }\n",
              "    30% {\n",
              "      border-color: transparent;\n",
              "      border-left-color: var(--fill-color);\n",
              "      border-top-color: var(--fill-color);\n",
              "      border-right-color: var(--fill-color);\n",
              "    }\n",
              "    40% {\n",
              "      border-color: transparent;\n",
              "      border-right-color: var(--fill-color);\n",
              "      border-top-color: var(--fill-color);\n",
              "    }\n",
              "    60% {\n",
              "      border-color: transparent;\n",
              "      border-right-color: var(--fill-color);\n",
              "    }\n",
              "    80% {\n",
              "      border-color: transparent;\n",
              "      border-right-color: var(--fill-color);\n",
              "      border-bottom-color: var(--fill-color);\n",
              "    }\n",
              "    90% {\n",
              "      border-color: transparent;\n",
              "      border-bottom-color: var(--fill-color);\n",
              "    }\n",
              "  }\n",
              "</style>\n",
              "\n",
              "  <script>\n",
              "    async function quickchart(key) {\n",
              "      const quickchartButtonEl =\n",
              "        document.querySelector('#' + key + ' button');\n",
              "      quickchartButtonEl.disabled = true;  // To prevent multiple clicks.\n",
              "      quickchartButtonEl.classList.add('colab-df-spinner');\n",
              "      try {\n",
              "        const charts = await google.colab.kernel.invokeFunction(\n",
              "            'suggestCharts', [key], {});\n",
              "      } catch (error) {\n",
              "        console.error('Error during call to suggestCharts:', error);\n",
              "      }\n",
              "      quickchartButtonEl.classList.remove('colab-df-spinner');\n",
              "      quickchartButtonEl.classList.add('colab-df-quickchart-complete');\n",
              "    }\n",
              "    (() => {\n",
              "      let quickchartButtonEl =\n",
              "        document.querySelector('#df-c5274299-25cd-411a-9c6f-eb8794221085 button');\n",
              "      quickchartButtonEl.style.display =\n",
              "        google.colab.kernel.accessAllowed ? 'block' : 'none';\n",
              "    })();\n",
              "  </script>\n",
              "</div>\n",
              "    </div>\n",
              "  </div>\n"
            ]
          },
          "metadata": {},
          "execution_count": 135
        }
      ]
    },
    {
      "cell_type": "markdown",
      "source": [
        "##PREPROCESSING"
      ],
      "metadata": {
        "id": "0sUiVXCLhu02"
      }
    },
    {
      "cell_type": "code",
      "source": [
        "## change the labels to integers for the training phase\n",
        "df2_train['Sentiment'][df2_train[\"Sentiment\"] == 'Negative'] = 0\n",
        "df2_train['Sentiment'][df2_train[\"Sentiment\"] == 'Positive'] = 1\n",
        "df2_train['Sentiment'][df2_train[\"Sentiment\"] == 'Mixed'] = 2\n",
        "\n"
      ],
      "metadata": {
        "id": "Pwb14dYBh7xx"
      },
      "execution_count": 136,
      "outputs": []
    },
    {
      "cell_type": "code",
      "source": [
        "## change the labels to integers for the training phase\n",
        "df2_test['Sentiment'][df2_test[\"Sentiment\"] == 'Negative'] = 0\n",
        "df2_test['Sentiment'][df2_test[\"Sentiment\"] == 'Positive'] = 1\n",
        "df2_test['Sentiment'][df2_test[\"Sentiment\"] == 'Mixed'] = 2\n",
        "\n"
      ],
      "metadata": {
        "id": "l2p3fSyJh8zJ"
      },
      "execution_count": 137,
      "outputs": []
    },
    {
      "cell_type": "code",
      "source": [
        "## change the labels to integers for the training phase\n",
        "df2_val['Sentiment'][df2_val[\"Sentiment\"] == 'Negative'] = 0\n",
        "df2_val['Sentiment'][df2_val[\"Sentiment\"] == 'Positive'] = 1\n",
        "df2_val['Sentiment'][df2_val[\"Sentiment\"] == 'Mixed'] = 2\n",
        "\n"
      ],
      "metadata": {
        "id": "xURgPZRiiAdW"
      },
      "execution_count": 138,
      "outputs": []
    },
    {
      "cell_type": "code",
      "source": [
        "train_df = df2_train"
      ],
      "metadata": {
        "id": "0NZq0uMGlsnH"
      },
      "execution_count": 139,
      "outputs": []
    },
    {
      "cell_type": "code",
      "source": [
        "## Convert polarity Values to Integers\n",
        "train_df[\"Sentiment\"] = pd.to_numeric(train_df[\"Sentiment\"],errors='coerce')\n"
      ],
      "metadata": {
        "id": "Wk41xykgiHC4"
      },
      "execution_count": 140,
      "outputs": []
    },
    {
      "cell_type": "code",
      "source": [
        "## Split the Dataset into Training and Testing Datasets\n",
        "#X_train, y_train= train_test_split(train_df,train_df['polarity'],stratify=train_df['polarity'])\n",
        "\n",
        "X_train  = train_df\n",
        "y_train = train_df['Sentiment']"
      ],
      "metadata": {
        "id": "L9sTomgiiMSk"
      },
      "execution_count": 141,
      "outputs": []
    },
    {
      "cell_type": "code",
      "source": [
        "X_test = df2_test"
      ],
      "metadata": {
        "id": "VxmgXbsqicw-"
      },
      "execution_count": 142,
      "outputs": []
    },
    {
      "cell_type": "code",
      "source": [
        "## Convert polarity Values to Integers\n",
        "X_test[\"Sentiment\"] = pd.to_numeric(X_test[\"Sentiment\"],errors='coerce')\n"
      ],
      "metadata": {
        "id": "vWXa0l9ViOwI"
      },
      "execution_count": 143,
      "outputs": []
    },
    {
      "cell_type": "code",
      "source": [
        "y_test = X_test[\"Sentiment\"]"
      ],
      "metadata": {
        "id": "bZyvg_eTijus"
      },
      "execution_count": 144,
      "outputs": []
    },
    {
      "cell_type": "code",
      "source": [
        "X_val = df2_val"
      ],
      "metadata": {
        "id": "n_0SODhjilnO"
      },
      "execution_count": 145,
      "outputs": []
    },
    {
      "cell_type": "code",
      "source": [
        "## Convert polarity Values to Integers\n",
        "X_val[\"Sentiment\"] = pd.to_numeric(X_val[\"Sentiment\"],errors='coerce')\n"
      ],
      "metadata": {
        "id": "cETKyJsoimfD"
      },
      "execution_count": 146,
      "outputs": []
    },
    {
      "cell_type": "code",
      "source": [
        "y_val = X_val[\"Sentiment\"]"
      ],
      "metadata": {
        "id": "hJBkUrx_iqNX"
      },
      "execution_count": 147,
      "outputs": []
    },
    {
      "cell_type": "code",
      "source": [
        "NUM_WORDS = 100000 ## MAx of words to keep, based on word frequency.\n",
        "EMBEDDING_SIZE = 128 ## the length of the Vector the will"
      ],
      "metadata": {
        "id": "OL8gWe4Ni5Ml"
      },
      "execution_count": 148,
      "outputs": []
    },
    {
      "cell_type": "markdown",
      "source": [
        "## Embedding code\n"
      ],
      "metadata": {
        "id": "g5coWjxui8n5"
      }
    },
    {
      "cell_type": "code",
      "source": [
        "tokenizer = Tokenizer(num_words=NUM_WORDS,\n",
        "                      filters='!\"#$%&()*+,-./:;<=>?@[\\\\]^_`{|}~\\t\\n',\n",
        "                      lower=True, )\n",
        "## Fit_on_texts : Updates internal vocabulary based on a list of texts.\n",
        "tokenizer.fit_on_texts(list(X_train.Text))\n",
        "text_X_train_tokenized = tokenizer.texts_to_sequences(X_train.Text) # list of tokenized sentences\n",
        "Aspect_X_train_tokenized = tokenizer.texts_to_sequences(X_train['Aspect']) # list of tokenized sentences\n",
        "text_X_test_tokenized = tokenizer.texts_to_sequences(X_test.Text) # list of tokenized sentences\n",
        "Aspect_X_test_tokenized = tokenizer.texts_to_sequences(X_test['Aspect']) # list of tokenized sentences\n",
        "text_X_val_tokenized = tokenizer.texts_to_sequences(X_val.Text) # list of tokenized sentences\n",
        "Aspect_X_val_tokenized = tokenizer.texts_to_sequences(X_val['Aspect']) # list of tokenized sentences"
      ],
      "metadata": {
        "id": "kHoNEPohi-J3"
      },
      "execution_count": 149,
      "outputs": []
    },
    {
      "cell_type": "code",
      "source": [
        "##Maximum length of sentences\n",
        "Max_Len =  max([len(one_title) for one_title in text_X_train_tokenized])\n",
        "Max_Len"
      ],
      "metadata": {
        "colab": {
          "base_uri": "https://localhost:8080/"
        },
        "id": "ZhbCyLlmjBvk",
        "outputId": "9176a5d2-4c17-46df-cc91-b92598f53918"
      },
      "execution_count": 150,
      "outputs": [
        {
          "output_type": "execute_result",
          "data": {
            "text/plain": [
              "486"
            ]
          },
          "metadata": {},
          "execution_count": 150
        }
      ]
    },
    {
      "cell_type": "code",
      "source": [
        "## Pads sequences(or sentences) to the same length.\n",
        "\n",
        "\n",
        "text_X_train_padded = pad_sequences(text_X_train_tokenized, maxlen=Max_Len)\n",
        "aspect_X_train_padded = pad_sequences(Aspect_X_train_tokenized, maxlen=1)\n",
        "\n",
        "text_X_test_padded = pad_sequences(text_X_test_tokenized, maxlen=Max_Len)\n",
        "aspect_X_test_padded = pad_sequences(Aspect_X_test_tokenized, maxlen=1)\n",
        "\n",
        "text_X_val_padded = pad_sequences(text_X_val_tokenized, maxlen=Max_Len)\n",
        "aspect_X_val_padded = pad_sequences(Aspect_X_val_tokenized, maxlen=1)\n"
      ],
      "metadata": {
        "id": "VLGQM2BrjDc2"
      },
      "execution_count": 151,
      "outputs": []
    },
    {
      "cell_type": "code",
      "source": [
        "## Concatenate the Embedding presentation of the sentences and aspects to Create training and testing dataset\n",
        "train_data =  [text_X_train_padded,aspect_X_train_padded]\n",
        "test_data =   [text_X_test_padded,aspect_X_test_padded]\n",
        "val_data = [text_X_val_padded,aspect_X_val_padded]"
      ],
      "metadata": {
        "id": "g4ixZb-QjFu5"
      },
      "execution_count": 152,
      "outputs": []
    },
    {
      "cell_type": "code",
      "source": [
        "\n",
        "# modified based on `https://gist.github.com/cbaziotis/7ef97ccf71cbc14366835198c09809d2`\n",
        "class Attention(Layer):\n",
        "    \"\"\"\n",
        "    Attention operation, with a context/query vector, for temporal data.\n",
        "    Supports Masking.\n",
        "    Follows the work of Yang et al. [https://www.cs.cmu.edu/~diyiy/docs/naacl16.pdf]\n",
        "    \"Hierarchical Attention Networks for Document Classification\"\n",
        "    by using a context vector to assist the attention\n",
        "    # Input shape\n",
        "        3D tensor with shape: `(samples, steps, features)`.\n",
        "    # Output shape\n",
        "        2D tensor with shape: `(samples, features)`.\n",
        "    How to use:\n",
        "    Just put it on top of an RNN Layer (GRU/LSTM/SimpleRNN) with return_sequences=True.\n",
        "    The dimensions are inferred based on the output shape of the RNN.\n",
        " e: The layer has been tested with Keras 2.0.6\n",
        "    Example:\n",
        "        model.add(LSTM(64, return_sequences=True))\n",
        "        model.add(AttentionWithContext())\n",
        "        # next add a Dense layer (for classification/regression) or whatever...\n",
        "    \"\"\"\n",
        "\n",
        "    def __init__(self, W_regularizer=None, u_regularizer=None, b_regularizer=None, W_constraint=None,\n",
        "                 u_constraint=None, b_constraint=None, use_W=True, use_bias=False, return_self_attend=False,\n",
        "                 return_attend_weight=True, **kwargs):\n",
        "        self.supports_masking = True\n",
        "\n",
        "        self.init = initializers.get('glorot_uniform')\n",
        "\n",
        "        self.W_regularizer = regularizers.get(W_regularizer)\n",
        "        self.u_regularizer = regularizers.get(u_regularizer)\n",
        "        self.b_regularizer = regularizers.get(b_regularizer)\n",
        "\n",
        "        self.W_constraint = constraints.get(W_constraint)\n",
        "        self.u_constraint = constraints.get(u_constraint)\n",
        "        self.b_constraint = constraints.get(b_constraint)\n",
        "\n",
        "        self.use_W = use_W\n",
        "        self.use_bias = use_bias\n",
        "        self.return_self_attend = return_self_attend    # whether perform self attention and return it\n",
        "        self.return_attend_weight = return_attend_weight    # whether return attention weight\n",
        "        super(Attention, self).__init__(**kwargs)\n",
        "\n",
        "    def build(self, input_shape):\n",
        "        assert len(input_shape) == 3\n",
        "\n",
        "        if self.use_W:\n",
        "            self.W = self.add_weight(shape=(input_shape[-1], input_shape[-1],),  initializer=self.init,\n",
        "                                     name='{}_W'.format(self.name), regularizer=self.W_regularizer,\n",
        "                                     constraint=self.W_constraint)\n",
        "        if self.use_bias:\n",
        "            self.b = self.add_weight(shape=(input_shape[1],), initializer='zero', name='{}_b'.format(self.name),\n",
        "                                     regularizer=self.b_regularizer, constraint=self.b_constraint)\n",
        "\n",
        "        self.u = self.add_weight(shape=(input_shape[-1],), initializer=self.init, name='{}_u'.format(self.name),\n",
        "                                 regularizer=self.u_regularizer, constraint=self.u_constraint)\n",
        "\n",
        "        super(Attention, self).build(input_shape)\n",
        "\n",
        "    def compute_mask(self, input, input_mask=None):\n",
        "        # do not pass the mask to the next layers\n",
        "        return None\n",
        "\n",
        "    def call(self, x, mask=None):\n",
        "        if self.use_W:\n",
        "            x = K.tanh(K.dot(x, self.W))\n",
        "\n",
        "        ait = Attention.dot_product(x, self.u)\n",
        "        if self.use_bias:\n",
        "            ait += self.b\n",
        "\n",
        "        a = K.exp(ait)\n",
        "\n",
        "        # apply mask after the exp. will be re-normalized next\n",
        "        if mask is not None:\n",
        "            # Cast the mask to floatX to avoid float64 upcasting in theano\n",
        "            a *= K.cast(mask, K.floatx())\n",
        "\n",
        "        # in some cases especially in the early stages of training the sum may be almost zero\n",
        "        # and this results in NaN's. A workaround is to add a very small positive number ε to the sum.\n",
        "        # a /= K.cast(K.sum(a, axis=1, keepdims=True), K.floatx())\n",
        "        a /= K.cast(K.sum(a, axis=1, keepdims=True) + K.epsilon(), K.floatx())\n",
        "\n",
        "        if self.return_self_attend:\n",
        "            attend_output = K.sum(x * K.expand_dims(a), axis=1)\n",
        "            if self.return_attend_weight:\n",
        "                return [attend_output, a]\n",
        "            else:\n",
        "                return attend_output\n",
        "        else:\n",
        "            return a\n",
        "\n",
        "    def compute_output_shape(self, input_shape):\n",
        "        if self.return_self_attend:\n",
        "            if self.return_attend_weight:\n",
        "                return [(input_shape[0], input_shape[-1]), (input_shape[0], input_shape[1])]\n",
        "            else:\n",
        "                return input_shape[0], input_shape[-1]\n",
        "        else:\n",
        "            return input_shape[0], input_shape[1]\n",
        "\n",
        "    @staticmethod\n",
        "    def dot_product(x, kernel):\n",
        "        \"\"\"\n",
        "        Wrapper for dot product operation, in order to be compatible with both\n",
        "        Theano and Tensorflow\n",
        "        Args:\n",
        "            x (): input\n",
        "            kernel (): weights\n",
        "        Returns:\n",
        "        \"\"\"\n",
        "        if K.backend() == 'tensorflow':\n",
        "            return K.squeeze(K.dot(x, K.expand_dims(kernel)), axis=-1)\n",
        "        else:\n",
        "            return K.dot(x, kernel)"
      ],
      "metadata": {
        "id": "s_PsNnTujH58"
      },
      "execution_count": 153,
      "outputs": []
    },
    {
      "cell_type": "code",
      "source": [
        "# attention-based lstm with aspect embedding\n",
        "def atae_lstm(lstm_units = 128):\n",
        "    input_text = Input(shape=(Max_Len,))\n",
        "    input_aspect = Input(shape=(1,),)\n",
        "\n",
        "    word_embedding = Embedding(NUM_WORDS, EMBEDDING_SIZE, input_length=Max_Len)\n",
        "    text_embed = SpatialDropout1D(0.2)(word_embedding(input_text))\n",
        "\n",
        "    asp_embedding = Embedding(NUM_WORDS, EMBEDDING_SIZE, input_length=Max_Len)\n",
        "\n",
        "    aspect_embed = asp_embedding(input_aspect)\n",
        "    aspect_embed = Flatten()(aspect_embed)  # reshape to 2d\n",
        "    repeat_aspect = RepeatVector(Max_Len)(aspect_embed)  # repeat aspect for every word in sequence\n",
        "\n",
        "    input_concat = concatenate([text_embed, repeat_aspect], axis=-1)\n",
        "    print(input_concat.shape)\n",
        "    hidden_vecs, state_h, _ = LSTM(lstm_units, return_sequences=True, return_state=True)(input_concat)\n",
        "    concat = concatenate([hidden_vecs, repeat_aspect], axis=-1)\n",
        "\n",
        "    # apply attention mechanism\n",
        "    attend_weight = Attention()(concat)\n",
        "    attend_weight_expand = Lambda(lambda x: K.expand_dims(x))(attend_weight)\n",
        "    attend_hidden = multiply([hidden_vecs, attend_weight_expand])\n",
        "    attend_hidden = Lambda(lambda x: K.sum(x, axis=1))(attend_hidden)\n",
        "\n",
        "    attend_hidden_dense = Dense(lstm_units)(attend_hidden)\n",
        "    last_hidden_dense = Dense(lstm_units)(state_h)\n",
        "    final_output = Activation('tanh')(add([attend_hidden_dense, last_hidden_dense]))\n",
        "    output = Dense(3, activation='softmax')(final_output)\n",
        "    return Model([input_text, input_aspect], output)"
      ],
      "metadata": {
        "id": "Qx1bTEW8jN5Q"
      },
      "execution_count": 154,
      "outputs": []
    },
    {
      "cell_type": "code",
      "source": [
        "\n",
        "atae_lstm_model =  atae_lstm()\n",
        "atae_lstm_model.summary()"
      ],
      "metadata": {
        "colab": {
          "base_uri": "https://localhost:8080/"
        },
        "id": "rhg-X7dKjPmN",
        "outputId": "a63daedd-f226-4640-aabd-d3c8de5f2994"
      },
      "execution_count": 155,
      "outputs": [
        {
          "output_type": "stream",
          "name": "stdout",
          "text": [
            "(None, 486, 256)\n",
            "Model: \"model_2\"\n",
            "__________________________________________________________________________________________________\n",
            " Layer (type)                   Output Shape         Param #     Connected to                     \n",
            "==================================================================================================\n",
            " input_6 (InputLayer)           [(None, 1)]          0           []                               \n",
            "                                                                                                  \n",
            " input_5 (InputLayer)           [(None, 486)]        0           []                               \n",
            "                                                                                                  \n",
            " embedding_5 (Embedding)        (None, 1, 128)       12800000    ['input_6[0][0]']                \n",
            "                                                                                                  \n",
            " embedding_4 (Embedding)        (None, 486, 128)     12800000    ['input_5[0][0]']                \n",
            "                                                                                                  \n",
            " flatten_2 (Flatten)            (None, 128)          0           ['embedding_5[0][0]']            \n",
            "                                                                                                  \n",
            " spatial_dropout1d_2 (SpatialDr  (None, 486, 128)    0           ['embedding_4[0][0]']            \n",
            " opout1D)                                                                                         \n",
            "                                                                                                  \n",
            " repeat_vector_2 (RepeatVector)  (None, 486, 128)    0           ['flatten_2[0][0]']              \n",
            "                                                                                                  \n",
            " concatenate_4 (Concatenate)    (None, 486, 256)     0           ['spatial_dropout1d_2[0][0]',    \n",
            "                                                                  'repeat_vector_2[0][0]']        \n",
            "                                                                                                  \n",
            " lstm_2 (LSTM)                  [(None, 486, 128),   197120      ['concatenate_4[0][0]']          \n",
            "                                 (None, 128),                                                     \n",
            "                                 (None, 128)]                                                     \n",
            "                                                                                                  \n",
            " concatenate_5 (Concatenate)    (None, 486, 256)     0           ['lstm_2[0][0]',                 \n",
            "                                                                  'repeat_vector_2[0][0]']        \n",
            "                                                                                                  \n",
            " attention_2 (Attention)        (None, 486)          65792       ['concatenate_5[0][0]']          \n",
            "                                                                                                  \n",
            " lambda_4 (Lambda)              (None, 486, 1)       0           ['attention_2[0][0]']            \n",
            "                                                                                                  \n",
            " multiply_2 (Multiply)          (None, 486, 128)     0           ['lstm_2[0][0]',                 \n",
            "                                                                  'lambda_4[0][0]']               \n",
            "                                                                                                  \n",
            " lambda_5 (Lambda)              (None, 128)          0           ['multiply_2[0][0]']             \n",
            "                                                                                                  \n",
            " dense_6 (Dense)                (None, 128)          16512       ['lambda_5[0][0]']               \n",
            "                                                                                                  \n",
            " dense_7 (Dense)                (None, 128)          16512       ['lstm_2[0][1]']                 \n",
            "                                                                                                  \n",
            " add_2 (Add)                    (None, 128)          0           ['dense_6[0][0]',                \n",
            "                                                                  'dense_7[0][0]']                \n",
            "                                                                                                  \n",
            " activation_2 (Activation)      (None, 128)          0           ['add_2[0][0]']                  \n",
            "                                                                                                  \n",
            " dense_8 (Dense)                (None, 3)            387         ['activation_2[0][0]']           \n",
            "                                                                                                  \n",
            "==================================================================================================\n",
            "Total params: 25,896,323\n",
            "Trainable params: 25,896,323\n",
            "Non-trainable params: 0\n",
            "__________________________________________________________________________________________________\n"
          ]
        },
        {
          "output_type": "stream",
          "name": "stderr",
          "text": [
            "/usr/local/lib/python3.10/dist-packages/keras/initializers/initializers.py:120: UserWarning: The initializer GlorotUniform is unseeded and being called multiple times, which will return identical values each time (even if the initializer is unseeded). Please update your code to provide a seed to the initializer, or avoid using the same initalizer instance more than once.\n",
            "  warnings.warn(\n"
          ]
        }
      ]
    },
    {
      "cell_type": "code",
      "source": [
        "\n",
        "learning_rate_reduction = ReduceLROnPlateau(monitor='val_accuracy',\n",
        "                                                    patience = 2,\n",
        "                                                    verbose=1,\n",
        "                                                    factor=0.1,\n",
        "                                                    min_lr=0.000001)\n",
        "\n",
        "atae_lstm_model.compile(loss='sparse_categorical_crossentropy', metrics=['accuracy'], optimizer='adam')\n",
        "atae_lstm_model.fit(x = train_data, y = y_train, validation_data = (val_data, y_val), batch_size=16, epochs=9, callbacks = [learning_rate_reduction])"
      ],
      "metadata": {
        "colab": {
          "base_uri": "https://localhost:8080/"
        },
        "id": "fHCpDR42jRtK",
        "outputId": "dfbf3da6-360e-4392-9972-91392909188d"
      },
      "execution_count": 156,
      "outputs": [
        {
          "output_type": "stream",
          "name": "stdout",
          "text": [
            "Epoch 1/9\n",
            "59/59 [==============================] - 18s 255ms/step - loss: 0.7654 - accuracy: 0.6826 - val_loss: 0.7548 - val_accuracy: 0.6667 - lr: 0.0010\n",
            "Epoch 2/9\n",
            "59/59 [==============================] - 12s 211ms/step - loss: 0.4949 - accuracy: 0.8025 - val_loss: 0.7865 - val_accuracy: 0.6328 - lr: 0.0010\n",
            "Epoch 3/9\n",
            "59/59 [==============================] - ETA: 0s - loss: 0.3459 - accuracy: 0.8631\n",
            "Epoch 3: ReduceLROnPlateau reducing learning rate to 0.00010000000474974513.\n",
            "59/59 [==============================] - 9s 163ms/step - loss: 0.3459 - accuracy: 0.8631 - val_loss: 0.8569 - val_accuracy: 0.6384 - lr: 0.0010\n",
            "Epoch 4/9\n",
            "59/59 [==============================] - 8s 143ms/step - loss: 0.2063 - accuracy: 0.9363 - val_loss: 0.9582 - val_accuracy: 0.6497 - lr: 1.0000e-04\n",
            "Epoch 5/9\n",
            "59/59 [==============================] - ETA: 0s - loss: 0.1711 - accuracy: 0.9437\n",
            "Epoch 5: ReduceLROnPlateau reducing learning rate to 1.0000000474974514e-05.\n",
            "59/59 [==============================] - 6s 107ms/step - loss: 0.1711 - accuracy: 0.9437 - val_loss: 1.0624 - val_accuracy: 0.6554 - lr: 1.0000e-04\n",
            "Epoch 6/9\n",
            "59/59 [==============================] - 5s 88ms/step - loss: 0.1498 - accuracy: 0.9480 - val_loss: 1.0741 - val_accuracy: 0.6554 - lr: 1.0000e-05\n",
            "Epoch 7/9\n",
            "59/59 [==============================] - 8s 130ms/step - loss: 0.1464 - accuracy: 0.9522 - val_loss: 1.0847 - val_accuracy: 0.6723 - lr: 1.0000e-05\n",
            "Epoch 8/9\n",
            "59/59 [==============================] - 4s 76ms/step - loss: 0.1472 - accuracy: 0.9459 - val_loss: 1.0967 - val_accuracy: 0.6723 - lr: 1.0000e-05\n",
            "Epoch 9/9\n",
            "59/59 [==============================] - 5s 79ms/step - loss: 0.1466 - accuracy: 0.9512 - val_loss: 1.1063 - val_accuracy: 0.6780 - lr: 1.0000e-05\n"
          ]
        },
        {
          "output_type": "execute_result",
          "data": {
            "text/plain": [
              "<keras.callbacks.History at 0x7af37c1caf50>"
            ]
          },
          "metadata": {},
          "execution_count": 156
        }
      ]
    },
    {
      "cell_type": "code",
      "source": [
        "print(\"Evaluate on test data\")\n",
        "results = atae_lstm_model.evaluate(x = test_data , y = y_test )\n",
        "print(\"test loss, test acc:\", results)\n",
        "print(\"Accuracy of the model is - \" , results[1]*100 , \"%\")"
      ],
      "metadata": {
        "colab": {
          "base_uri": "https://localhost:8080/"
        },
        "id": "OuQVmXxzjTwO",
        "outputId": "274abac7-3971-4578-a2b6-6772de7044bc"
      },
      "execution_count": 157,
      "outputs": [
        {
          "output_type": "stream",
          "name": "stdout",
          "text": [
            "Evaluate on test data\n",
            "7/7 [==============================] - 0s 20ms/step - loss: 1.0257 - accuracy: 0.6633\n",
            "test loss, test acc: [1.0256835222244263, 0.6632652878761292]\n",
            "Accuracy of the model is -  66.32652878761292 %\n"
          ]
        }
      ]
    },
    {
      "cell_type": "markdown",
      "source": [
        "##CROSS VALIDATION"
      ],
      "metadata": {
        "id": "-xnOQtu2mg5X"
      }
    },
    {
      "cell_type": "markdown",
      "source": [
        "##CROSS VALIDATE ON SEMEVAL RESTAURANT"
      ],
      "metadata": {
        "id": "n_K15xRRmkpx"
      }
    },
    {
      "cell_type": "code",
      "source": [
        "df2_test = pd.read_csv(\"/content/drive/MyDrive/ABSA work/codes/processed_SemEval2016/restaurants_test_single.csv\", encoding='utf8')"
      ],
      "metadata": {
        "id": "AAcy7WMFmf-a"
      },
      "execution_count": 158,
      "outputs": []
    },
    {
      "cell_type": "code",
      "source": [
        "df2_test"
      ],
      "metadata": {
        "colab": {
          "base_uri": "https://localhost:8080/",
          "height": 510
        },
        "id": "r4AkF7UxODLE",
        "outputId": "e1721ce0-b128-477a-cb77-05aef5071b30"
      },
      "execution_count": 159,
      "outputs": [
        {
          "output_type": "execute_result",
          "data": {
            "text/plain": [
              "                        sentence Id  \\\n",
              "0    en_BlueRibbonSushi_478218171:0   \n",
              "1    en_BlueRibbonSushi_478218171:1   \n",
              "2    en_BlueRibbonSushi_478218171:2   \n",
              "3    en_BlueRibbonSushi_478218171:3   \n",
              "4    en_BlueRibbonSushi_478218171:4   \n",
              "..                              ...   \n",
              "854  en_Ray'sBoathouse_477775918:13   \n",
              "855  en_Ray'sBoathouse_477775918:14   \n",
              "856  en_Ray'sBoathouse_477775918:14   \n",
              "857  en_Ray'sBoathouse_477775918:14   \n",
              "858  en_Ray'sBoathouse_477775918:15   \n",
              "\n",
              "                                              sentence  \\\n",
              "0                                                 Yum!   \n",
              "1                            Serves really good sushi.   \n",
              "2               Not the biggest portions but adequate.   \n",
              "3                    Green Tea creme brulee is a must!   \n",
              "4               Don't leave the restaurant without it.   \n",
              "..                                                 ...   \n",
              "854  All considered, I have to say that Ray's Boath...   \n",
              "855  While I could have done without the youth who ...   \n",
              "856  While I could have done without the youth who ...   \n",
              "857  While I could have done without the youth who ...   \n",
              "858                  Oh yeah...the view was good, too.   \n",
              "\n",
              "              aspect_category             aspect_term  from   to  polarity  \n",
              "0                FOOD#QUALITY                     NaN     0    0  positive  \n",
              "1                FOOD#QUALITY                   sushi    19   24  positive  \n",
              "2          FOOD#STYLE_OPTIONS                portions    16   24   neutral  \n",
              "3                FOOD#QUALITY  Green Tea creme brulee     0   22  positive  \n",
              "4                FOOD#QUALITY                     NaN     0    0  positive  \n",
              "..                        ...                     ...   ...  ...       ...  \n",
              "854        RESTAURANT#GENERAL         Ray's Boathouse    35   50  positive  \n",
              "855           SERVICE#GENERAL                  server    88   94  positive  \n",
              "856              FOOD#QUALITY                    food    99  103  positive  \n",
              "857  RESTAURANT#MISCELLANEOUS                     NaN     0    0  negative  \n",
              "858          LOCATION#GENERAL                    view    14   18  positive  \n",
              "\n",
              "[859 rows x 7 columns]"
            ],
            "text/html": [
              "\n",
              "  <div id=\"df-08b33853-9911-4f65-99f3-614f4a7275c4\" class=\"colab-df-container\">\n",
              "    <div>\n",
              "<style scoped>\n",
              "    .dataframe tbody tr th:only-of-type {\n",
              "        vertical-align: middle;\n",
              "    }\n",
              "\n",
              "    .dataframe tbody tr th {\n",
              "        vertical-align: top;\n",
              "    }\n",
              "\n",
              "    .dataframe thead th {\n",
              "        text-align: right;\n",
              "    }\n",
              "</style>\n",
              "<table border=\"1\" class=\"dataframe\">\n",
              "  <thead>\n",
              "    <tr style=\"text-align: right;\">\n",
              "      <th></th>\n",
              "      <th>sentence Id</th>\n",
              "      <th>sentence</th>\n",
              "      <th>aspect_category</th>\n",
              "      <th>aspect_term</th>\n",
              "      <th>from</th>\n",
              "      <th>to</th>\n",
              "      <th>polarity</th>\n",
              "    </tr>\n",
              "  </thead>\n",
              "  <tbody>\n",
              "    <tr>\n",
              "      <th>0</th>\n",
              "      <td>en_BlueRibbonSushi_478218171:0</td>\n",
              "      <td>Yum!</td>\n",
              "      <td>FOOD#QUALITY</td>\n",
              "      <td>NaN</td>\n",
              "      <td>0</td>\n",
              "      <td>0</td>\n",
              "      <td>positive</td>\n",
              "    </tr>\n",
              "    <tr>\n",
              "      <th>1</th>\n",
              "      <td>en_BlueRibbonSushi_478218171:1</td>\n",
              "      <td>Serves really good sushi.</td>\n",
              "      <td>FOOD#QUALITY</td>\n",
              "      <td>sushi</td>\n",
              "      <td>19</td>\n",
              "      <td>24</td>\n",
              "      <td>positive</td>\n",
              "    </tr>\n",
              "    <tr>\n",
              "      <th>2</th>\n",
              "      <td>en_BlueRibbonSushi_478218171:2</td>\n",
              "      <td>Not the biggest portions but adequate.</td>\n",
              "      <td>FOOD#STYLE_OPTIONS</td>\n",
              "      <td>portions</td>\n",
              "      <td>16</td>\n",
              "      <td>24</td>\n",
              "      <td>neutral</td>\n",
              "    </tr>\n",
              "    <tr>\n",
              "      <th>3</th>\n",
              "      <td>en_BlueRibbonSushi_478218171:3</td>\n",
              "      <td>Green Tea creme brulee is a must!</td>\n",
              "      <td>FOOD#QUALITY</td>\n",
              "      <td>Green Tea creme brulee</td>\n",
              "      <td>0</td>\n",
              "      <td>22</td>\n",
              "      <td>positive</td>\n",
              "    </tr>\n",
              "    <tr>\n",
              "      <th>4</th>\n",
              "      <td>en_BlueRibbonSushi_478218171:4</td>\n",
              "      <td>Don't leave the restaurant without it.</td>\n",
              "      <td>FOOD#QUALITY</td>\n",
              "      <td>NaN</td>\n",
              "      <td>0</td>\n",
              "      <td>0</td>\n",
              "      <td>positive</td>\n",
              "    </tr>\n",
              "    <tr>\n",
              "      <th>...</th>\n",
              "      <td>...</td>\n",
              "      <td>...</td>\n",
              "      <td>...</td>\n",
              "      <td>...</td>\n",
              "      <td>...</td>\n",
              "      <td>...</td>\n",
              "      <td>...</td>\n",
              "    </tr>\n",
              "    <tr>\n",
              "      <th>854</th>\n",
              "      <td>en_Ray'sBoathouse_477775918:13</td>\n",
              "      <td>All considered, I have to say that Ray's Boath...</td>\n",
              "      <td>RESTAURANT#GENERAL</td>\n",
              "      <td>Ray's Boathouse</td>\n",
              "      <td>35</td>\n",
              "      <td>50</td>\n",
              "      <td>positive</td>\n",
              "    </tr>\n",
              "    <tr>\n",
              "      <th>855</th>\n",
              "      <td>en_Ray'sBoathouse_477775918:14</td>\n",
              "      <td>While I could have done without the youth who ...</td>\n",
              "      <td>SERVICE#GENERAL</td>\n",
              "      <td>server</td>\n",
              "      <td>88</td>\n",
              "      <td>94</td>\n",
              "      <td>positive</td>\n",
              "    </tr>\n",
              "    <tr>\n",
              "      <th>856</th>\n",
              "      <td>en_Ray'sBoathouse_477775918:14</td>\n",
              "      <td>While I could have done without the youth who ...</td>\n",
              "      <td>FOOD#QUALITY</td>\n",
              "      <td>food</td>\n",
              "      <td>99</td>\n",
              "      <td>103</td>\n",
              "      <td>positive</td>\n",
              "    </tr>\n",
              "    <tr>\n",
              "      <th>857</th>\n",
              "      <td>en_Ray'sBoathouse_477775918:14</td>\n",
              "      <td>While I could have done without the youth who ...</td>\n",
              "      <td>RESTAURANT#MISCELLANEOUS</td>\n",
              "      <td>NaN</td>\n",
              "      <td>0</td>\n",
              "      <td>0</td>\n",
              "      <td>negative</td>\n",
              "    </tr>\n",
              "    <tr>\n",
              "      <th>858</th>\n",
              "      <td>en_Ray'sBoathouse_477775918:15</td>\n",
              "      <td>Oh yeah...the view was good, too.</td>\n",
              "      <td>LOCATION#GENERAL</td>\n",
              "      <td>view</td>\n",
              "      <td>14</td>\n",
              "      <td>18</td>\n",
              "      <td>positive</td>\n",
              "    </tr>\n",
              "  </tbody>\n",
              "</table>\n",
              "<p>859 rows × 7 columns</p>\n",
              "</div>\n",
              "    <div class=\"colab-df-buttons\">\n",
              "\n",
              "  <div class=\"colab-df-container\">\n",
              "    <button class=\"colab-df-convert\" onclick=\"convertToInteractive('df-08b33853-9911-4f65-99f3-614f4a7275c4')\"\n",
              "            title=\"Convert this dataframe to an interactive table.\"\n",
              "            style=\"display:none;\">\n",
              "\n",
              "  <svg xmlns=\"http://www.w3.org/2000/svg\" height=\"24px\" viewBox=\"0 -960 960 960\">\n",
              "    <path d=\"M120-120v-720h720v720H120Zm60-500h600v-160H180v160Zm220 220h160v-160H400v160Zm0 220h160v-160H400v160ZM180-400h160v-160H180v160Zm440 0h160v-160H620v160ZM180-180h160v-160H180v160Zm440 0h160v-160H620v160Z\"/>\n",
              "  </svg>\n",
              "    </button>\n",
              "\n",
              "  <style>\n",
              "    .colab-df-container {\n",
              "      display:flex;\n",
              "      gap: 12px;\n",
              "    }\n",
              "\n",
              "    .colab-df-convert {\n",
              "      background-color: #E8F0FE;\n",
              "      border: none;\n",
              "      border-radius: 50%;\n",
              "      cursor: pointer;\n",
              "      display: none;\n",
              "      fill: #1967D2;\n",
              "      height: 32px;\n",
              "      padding: 0 0 0 0;\n",
              "      width: 32px;\n",
              "    }\n",
              "\n",
              "    .colab-df-convert:hover {\n",
              "      background-color: #E2EBFA;\n",
              "      box-shadow: 0px 1px 2px rgba(60, 64, 67, 0.3), 0px 1px 3px 1px rgba(60, 64, 67, 0.15);\n",
              "      fill: #174EA6;\n",
              "    }\n",
              "\n",
              "    .colab-df-buttons div {\n",
              "      margin-bottom: 4px;\n",
              "    }\n",
              "\n",
              "    [theme=dark] .colab-df-convert {\n",
              "      background-color: #3B4455;\n",
              "      fill: #D2E3FC;\n",
              "    }\n",
              "\n",
              "    [theme=dark] .colab-df-convert:hover {\n",
              "      background-color: #434B5C;\n",
              "      box-shadow: 0px 1px 3px 1px rgba(0, 0, 0, 0.15);\n",
              "      filter: drop-shadow(0px 1px 2px rgba(0, 0, 0, 0.3));\n",
              "      fill: #FFFFFF;\n",
              "    }\n",
              "  </style>\n",
              "\n",
              "    <script>\n",
              "      const buttonEl =\n",
              "        document.querySelector('#df-08b33853-9911-4f65-99f3-614f4a7275c4 button.colab-df-convert');\n",
              "      buttonEl.style.display =\n",
              "        google.colab.kernel.accessAllowed ? 'block' : 'none';\n",
              "\n",
              "      async function convertToInteractive(key) {\n",
              "        const element = document.querySelector('#df-08b33853-9911-4f65-99f3-614f4a7275c4');\n",
              "        const dataTable =\n",
              "          await google.colab.kernel.invokeFunction('convertToInteractive',\n",
              "                                                    [key], {});\n",
              "        if (!dataTable) return;\n",
              "\n",
              "        const docLinkHtml = 'Like what you see? Visit the ' +\n",
              "          '<a target=\"_blank\" href=https://colab.research.google.com/notebooks/data_table.ipynb>data table notebook</a>'\n",
              "          + ' to learn more about interactive tables.';\n",
              "        element.innerHTML = '';\n",
              "        dataTable['output_type'] = 'display_data';\n",
              "        await google.colab.output.renderOutput(dataTable, element);\n",
              "        const docLink = document.createElement('div');\n",
              "        docLink.innerHTML = docLinkHtml;\n",
              "        element.appendChild(docLink);\n",
              "      }\n",
              "    </script>\n",
              "  </div>\n",
              "\n",
              "\n",
              "<div id=\"df-29ec2b1c-6ca6-4d4b-95dd-09372d0be253\">\n",
              "  <button class=\"colab-df-quickchart\" onclick=\"quickchart('df-29ec2b1c-6ca6-4d4b-95dd-09372d0be253')\"\n",
              "            title=\"Suggest charts.\"\n",
              "            style=\"display:none;\">\n",
              "\n",
              "<svg xmlns=\"http://www.w3.org/2000/svg\" height=\"24px\"viewBox=\"0 0 24 24\"\n",
              "     width=\"24px\">\n",
              "    <g>\n",
              "        <path d=\"M19 3H5c-1.1 0-2 .9-2 2v14c0 1.1.9 2 2 2h14c1.1 0 2-.9 2-2V5c0-1.1-.9-2-2-2zM9 17H7v-7h2v7zm4 0h-2V7h2v10zm4 0h-2v-4h2v4z\"/>\n",
              "    </g>\n",
              "</svg>\n",
              "  </button>\n",
              "\n",
              "<style>\n",
              "  .colab-df-quickchart {\n",
              "      --bg-color: #E8F0FE;\n",
              "      --fill-color: #1967D2;\n",
              "      --hover-bg-color: #E2EBFA;\n",
              "      --hover-fill-color: #174EA6;\n",
              "      --disabled-fill-color: #AAA;\n",
              "      --disabled-bg-color: #DDD;\n",
              "  }\n",
              "\n",
              "  [theme=dark] .colab-df-quickchart {\n",
              "      --bg-color: #3B4455;\n",
              "      --fill-color: #D2E3FC;\n",
              "      --hover-bg-color: #434B5C;\n",
              "      --hover-fill-color: #FFFFFF;\n",
              "      --disabled-bg-color: #3B4455;\n",
              "      --disabled-fill-color: #666;\n",
              "  }\n",
              "\n",
              "  .colab-df-quickchart {\n",
              "    background-color: var(--bg-color);\n",
              "    border: none;\n",
              "    border-radius: 50%;\n",
              "    cursor: pointer;\n",
              "    display: none;\n",
              "    fill: var(--fill-color);\n",
              "    height: 32px;\n",
              "    padding: 0;\n",
              "    width: 32px;\n",
              "  }\n",
              "\n",
              "  .colab-df-quickchart:hover {\n",
              "    background-color: var(--hover-bg-color);\n",
              "    box-shadow: 0 1px 2px rgba(60, 64, 67, 0.3), 0 1px 3px 1px rgba(60, 64, 67, 0.15);\n",
              "    fill: var(--button-hover-fill-color);\n",
              "  }\n",
              "\n",
              "  .colab-df-quickchart-complete:disabled,\n",
              "  .colab-df-quickchart-complete:disabled:hover {\n",
              "    background-color: var(--disabled-bg-color);\n",
              "    fill: var(--disabled-fill-color);\n",
              "    box-shadow: none;\n",
              "  }\n",
              "\n",
              "  .colab-df-spinner {\n",
              "    border: 2px solid var(--fill-color);\n",
              "    border-color: transparent;\n",
              "    border-bottom-color: var(--fill-color);\n",
              "    animation:\n",
              "      spin 1s steps(1) infinite;\n",
              "  }\n",
              "\n",
              "  @keyframes spin {\n",
              "    0% {\n",
              "      border-color: transparent;\n",
              "      border-bottom-color: var(--fill-color);\n",
              "      border-left-color: var(--fill-color);\n",
              "    }\n",
              "    20% {\n",
              "      border-color: transparent;\n",
              "      border-left-color: var(--fill-color);\n",
              "      border-top-color: var(--fill-color);\n",
              "    }\n",
              "    30% {\n",
              "      border-color: transparent;\n",
              "      border-left-color: var(--fill-color);\n",
              "      border-top-color: var(--fill-color);\n",
              "      border-right-color: var(--fill-color);\n",
              "    }\n",
              "    40% {\n",
              "      border-color: transparent;\n",
              "      border-right-color: var(--fill-color);\n",
              "      border-top-color: var(--fill-color);\n",
              "    }\n",
              "    60% {\n",
              "      border-color: transparent;\n",
              "      border-right-color: var(--fill-color);\n",
              "    }\n",
              "    80% {\n",
              "      border-color: transparent;\n",
              "      border-right-color: var(--fill-color);\n",
              "      border-bottom-color: var(--fill-color);\n",
              "    }\n",
              "    90% {\n",
              "      border-color: transparent;\n",
              "      border-bottom-color: var(--fill-color);\n",
              "    }\n",
              "  }\n",
              "</style>\n",
              "\n",
              "  <script>\n",
              "    async function quickchart(key) {\n",
              "      const quickchartButtonEl =\n",
              "        document.querySelector('#' + key + ' button');\n",
              "      quickchartButtonEl.disabled = true;  // To prevent multiple clicks.\n",
              "      quickchartButtonEl.classList.add('colab-df-spinner');\n",
              "      try {\n",
              "        const charts = await google.colab.kernel.invokeFunction(\n",
              "            'suggestCharts', [key], {});\n",
              "      } catch (error) {\n",
              "        console.error('Error during call to suggestCharts:', error);\n",
              "      }\n",
              "      quickchartButtonEl.classList.remove('colab-df-spinner');\n",
              "      quickchartButtonEl.classList.add('colab-df-quickchart-complete');\n",
              "    }\n",
              "    (() => {\n",
              "      let quickchartButtonEl =\n",
              "        document.querySelector('#df-29ec2b1c-6ca6-4d4b-95dd-09372d0be253 button');\n",
              "      quickchartButtonEl.style.display =\n",
              "        google.colab.kernel.accessAllowed ? 'block' : 'none';\n",
              "    })();\n",
              "  </script>\n",
              "</div>\n",
              "    </div>\n",
              "  </div>\n"
            ]
          },
          "metadata": {},
          "execution_count": 159
        }
      ]
    },
    {
      "cell_type": "code",
      "source": [
        "df2_test.drop(columns=['from' , 'to', 'aspect_category'], inplace=True)\n"
      ],
      "metadata": {
        "id": "0Mmtrk7ZzOYu"
      },
      "execution_count": 160,
      "outputs": []
    },
    {
      "cell_type": "code",
      "source": [
        "df2_test=df2_test.dropna(axis=0)\n"
      ],
      "metadata": {
        "id": "g2ghx0ySzUh3"
      },
      "execution_count": 161,
      "outputs": []
    },
    {
      "cell_type": "code",
      "source": [
        "df2_test"
      ],
      "metadata": {
        "colab": {
          "base_uri": "https://localhost:8080/",
          "height": 424
        },
        "id": "Lv2llNshOPWL",
        "outputId": "07c9dfb4-2bc2-44d5-cb78-9d82aa87b0fe"
      },
      "execution_count": 162,
      "outputs": [
        {
          "output_type": "execute_result",
          "data": {
            "text/plain": [
              "                        sentence Id  \\\n",
              "1    en_BlueRibbonSushi_478218171:1   \n",
              "2    en_BlueRibbonSushi_478218171:2   \n",
              "3    en_BlueRibbonSushi_478218171:3   \n",
              "6    en_BlueRibbonSushi_478218345:1   \n",
              "7    en_BlueRibbonSushi_478218345:2   \n",
              "..                              ...   \n",
              "852  en_Ray'sBoathouse_477775918:10   \n",
              "854  en_Ray'sBoathouse_477775918:13   \n",
              "855  en_Ray'sBoathouse_477775918:14   \n",
              "856  en_Ray'sBoathouse_477775918:14   \n",
              "858  en_Ray'sBoathouse_477775918:15   \n",
              "\n",
              "                                              sentence  \\\n",
              "1                            Serves really good sushi.   \n",
              "2               Not the biggest portions but adequate.   \n",
              "3                    Green Tea creme brulee is a must!   \n",
              "6               – I can't say enough about this place.   \n",
              "7          It has great sushi and even better service.   \n",
              "..                                                 ...   \n",
              "852  Our server continued to be attentive throughou...   \n",
              "854  All considered, I have to say that Ray's Boath...   \n",
              "855  While I could have done without the youth who ...   \n",
              "856  While I could have done without the youth who ...   \n",
              "858                  Oh yeah...the view was good, too.   \n",
              "\n",
              "                aspect_term  polarity  \n",
              "1                     sushi  positive  \n",
              "2                  portions   neutral  \n",
              "3    Green Tea creme brulee  positive  \n",
              "6                     place  positive  \n",
              "7                     sushi  positive  \n",
              "..                      ...       ...  \n",
              "852                   Ray's   neutral  \n",
              "854         Ray's Boathouse  positive  \n",
              "855                  server  positive  \n",
              "856                    food  positive  \n",
              "858                    view  positive  \n",
              "\n",
              "[650 rows x 4 columns]"
            ],
            "text/html": [
              "\n",
              "  <div id=\"df-2f96612b-5a7a-40ff-9d46-218654423fd2\" class=\"colab-df-container\">\n",
              "    <div>\n",
              "<style scoped>\n",
              "    .dataframe tbody tr th:only-of-type {\n",
              "        vertical-align: middle;\n",
              "    }\n",
              "\n",
              "    .dataframe tbody tr th {\n",
              "        vertical-align: top;\n",
              "    }\n",
              "\n",
              "    .dataframe thead th {\n",
              "        text-align: right;\n",
              "    }\n",
              "</style>\n",
              "<table border=\"1\" class=\"dataframe\">\n",
              "  <thead>\n",
              "    <tr style=\"text-align: right;\">\n",
              "      <th></th>\n",
              "      <th>sentence Id</th>\n",
              "      <th>sentence</th>\n",
              "      <th>aspect_term</th>\n",
              "      <th>polarity</th>\n",
              "    </tr>\n",
              "  </thead>\n",
              "  <tbody>\n",
              "    <tr>\n",
              "      <th>1</th>\n",
              "      <td>en_BlueRibbonSushi_478218171:1</td>\n",
              "      <td>Serves really good sushi.</td>\n",
              "      <td>sushi</td>\n",
              "      <td>positive</td>\n",
              "    </tr>\n",
              "    <tr>\n",
              "      <th>2</th>\n",
              "      <td>en_BlueRibbonSushi_478218171:2</td>\n",
              "      <td>Not the biggest portions but adequate.</td>\n",
              "      <td>portions</td>\n",
              "      <td>neutral</td>\n",
              "    </tr>\n",
              "    <tr>\n",
              "      <th>3</th>\n",
              "      <td>en_BlueRibbonSushi_478218171:3</td>\n",
              "      <td>Green Tea creme brulee is a must!</td>\n",
              "      <td>Green Tea creme brulee</td>\n",
              "      <td>positive</td>\n",
              "    </tr>\n",
              "    <tr>\n",
              "      <th>6</th>\n",
              "      <td>en_BlueRibbonSushi_478218345:1</td>\n",
              "      <td>– I can't say enough about this place.</td>\n",
              "      <td>place</td>\n",
              "      <td>positive</td>\n",
              "    </tr>\n",
              "    <tr>\n",
              "      <th>7</th>\n",
              "      <td>en_BlueRibbonSushi_478218345:2</td>\n",
              "      <td>It has great sushi and even better service.</td>\n",
              "      <td>sushi</td>\n",
              "      <td>positive</td>\n",
              "    </tr>\n",
              "    <tr>\n",
              "      <th>...</th>\n",
              "      <td>...</td>\n",
              "      <td>...</td>\n",
              "      <td>...</td>\n",
              "      <td>...</td>\n",
              "    </tr>\n",
              "    <tr>\n",
              "      <th>852</th>\n",
              "      <td>en_Ray'sBoathouse_477775918:10</td>\n",
              "      <td>Our server continued to be attentive throughou...</td>\n",
              "      <td>Ray's</td>\n",
              "      <td>neutral</td>\n",
              "    </tr>\n",
              "    <tr>\n",
              "      <th>854</th>\n",
              "      <td>en_Ray'sBoathouse_477775918:13</td>\n",
              "      <td>All considered, I have to say that Ray's Boath...</td>\n",
              "      <td>Ray's Boathouse</td>\n",
              "      <td>positive</td>\n",
              "    </tr>\n",
              "    <tr>\n",
              "      <th>855</th>\n",
              "      <td>en_Ray'sBoathouse_477775918:14</td>\n",
              "      <td>While I could have done without the youth who ...</td>\n",
              "      <td>server</td>\n",
              "      <td>positive</td>\n",
              "    </tr>\n",
              "    <tr>\n",
              "      <th>856</th>\n",
              "      <td>en_Ray'sBoathouse_477775918:14</td>\n",
              "      <td>While I could have done without the youth who ...</td>\n",
              "      <td>food</td>\n",
              "      <td>positive</td>\n",
              "    </tr>\n",
              "    <tr>\n",
              "      <th>858</th>\n",
              "      <td>en_Ray'sBoathouse_477775918:15</td>\n",
              "      <td>Oh yeah...the view was good, too.</td>\n",
              "      <td>view</td>\n",
              "      <td>positive</td>\n",
              "    </tr>\n",
              "  </tbody>\n",
              "</table>\n",
              "<p>650 rows × 4 columns</p>\n",
              "</div>\n",
              "    <div class=\"colab-df-buttons\">\n",
              "\n",
              "  <div class=\"colab-df-container\">\n",
              "    <button class=\"colab-df-convert\" onclick=\"convertToInteractive('df-2f96612b-5a7a-40ff-9d46-218654423fd2')\"\n",
              "            title=\"Convert this dataframe to an interactive table.\"\n",
              "            style=\"display:none;\">\n",
              "\n",
              "  <svg xmlns=\"http://www.w3.org/2000/svg\" height=\"24px\" viewBox=\"0 -960 960 960\">\n",
              "    <path d=\"M120-120v-720h720v720H120Zm60-500h600v-160H180v160Zm220 220h160v-160H400v160Zm0 220h160v-160H400v160ZM180-400h160v-160H180v160Zm440 0h160v-160H620v160ZM180-180h160v-160H180v160Zm440 0h160v-160H620v160Z\"/>\n",
              "  </svg>\n",
              "    </button>\n",
              "\n",
              "  <style>\n",
              "    .colab-df-container {\n",
              "      display:flex;\n",
              "      gap: 12px;\n",
              "    }\n",
              "\n",
              "    .colab-df-convert {\n",
              "      background-color: #E8F0FE;\n",
              "      border: none;\n",
              "      border-radius: 50%;\n",
              "      cursor: pointer;\n",
              "      display: none;\n",
              "      fill: #1967D2;\n",
              "      height: 32px;\n",
              "      padding: 0 0 0 0;\n",
              "      width: 32px;\n",
              "    }\n",
              "\n",
              "    .colab-df-convert:hover {\n",
              "      background-color: #E2EBFA;\n",
              "      box-shadow: 0px 1px 2px rgba(60, 64, 67, 0.3), 0px 1px 3px 1px rgba(60, 64, 67, 0.15);\n",
              "      fill: #174EA6;\n",
              "    }\n",
              "\n",
              "    .colab-df-buttons div {\n",
              "      margin-bottom: 4px;\n",
              "    }\n",
              "\n",
              "    [theme=dark] .colab-df-convert {\n",
              "      background-color: #3B4455;\n",
              "      fill: #D2E3FC;\n",
              "    }\n",
              "\n",
              "    [theme=dark] .colab-df-convert:hover {\n",
              "      background-color: #434B5C;\n",
              "      box-shadow: 0px 1px 3px 1px rgba(0, 0, 0, 0.15);\n",
              "      filter: drop-shadow(0px 1px 2px rgba(0, 0, 0, 0.3));\n",
              "      fill: #FFFFFF;\n",
              "    }\n",
              "  </style>\n",
              "\n",
              "    <script>\n",
              "      const buttonEl =\n",
              "        document.querySelector('#df-2f96612b-5a7a-40ff-9d46-218654423fd2 button.colab-df-convert');\n",
              "      buttonEl.style.display =\n",
              "        google.colab.kernel.accessAllowed ? 'block' : 'none';\n",
              "\n",
              "      async function convertToInteractive(key) {\n",
              "        const element = document.querySelector('#df-2f96612b-5a7a-40ff-9d46-218654423fd2');\n",
              "        const dataTable =\n",
              "          await google.colab.kernel.invokeFunction('convertToInteractive',\n",
              "                                                    [key], {});\n",
              "        if (!dataTable) return;\n",
              "\n",
              "        const docLinkHtml = 'Like what you see? Visit the ' +\n",
              "          '<a target=\"_blank\" href=https://colab.research.google.com/notebooks/data_table.ipynb>data table notebook</a>'\n",
              "          + ' to learn more about interactive tables.';\n",
              "        element.innerHTML = '';\n",
              "        dataTable['output_type'] = 'display_data';\n",
              "        await google.colab.output.renderOutput(dataTable, element);\n",
              "        const docLink = document.createElement('div');\n",
              "        docLink.innerHTML = docLinkHtml;\n",
              "        element.appendChild(docLink);\n",
              "      }\n",
              "    </script>\n",
              "  </div>\n",
              "\n",
              "\n",
              "<div id=\"df-c853509f-8023-4c7c-8576-ad8c9d9f5eb4\">\n",
              "  <button class=\"colab-df-quickchart\" onclick=\"quickchart('df-c853509f-8023-4c7c-8576-ad8c9d9f5eb4')\"\n",
              "            title=\"Suggest charts.\"\n",
              "            style=\"display:none;\">\n",
              "\n",
              "<svg xmlns=\"http://www.w3.org/2000/svg\" height=\"24px\"viewBox=\"0 0 24 24\"\n",
              "     width=\"24px\">\n",
              "    <g>\n",
              "        <path d=\"M19 3H5c-1.1 0-2 .9-2 2v14c0 1.1.9 2 2 2h14c1.1 0 2-.9 2-2V5c0-1.1-.9-2-2-2zM9 17H7v-7h2v7zm4 0h-2V7h2v10zm4 0h-2v-4h2v4z\"/>\n",
              "    </g>\n",
              "</svg>\n",
              "  </button>\n",
              "\n",
              "<style>\n",
              "  .colab-df-quickchart {\n",
              "      --bg-color: #E8F0FE;\n",
              "      --fill-color: #1967D2;\n",
              "      --hover-bg-color: #E2EBFA;\n",
              "      --hover-fill-color: #174EA6;\n",
              "      --disabled-fill-color: #AAA;\n",
              "      --disabled-bg-color: #DDD;\n",
              "  }\n",
              "\n",
              "  [theme=dark] .colab-df-quickchart {\n",
              "      --bg-color: #3B4455;\n",
              "      --fill-color: #D2E3FC;\n",
              "      --hover-bg-color: #434B5C;\n",
              "      --hover-fill-color: #FFFFFF;\n",
              "      --disabled-bg-color: #3B4455;\n",
              "      --disabled-fill-color: #666;\n",
              "  }\n",
              "\n",
              "  .colab-df-quickchart {\n",
              "    background-color: var(--bg-color);\n",
              "    border: none;\n",
              "    border-radius: 50%;\n",
              "    cursor: pointer;\n",
              "    display: none;\n",
              "    fill: var(--fill-color);\n",
              "    height: 32px;\n",
              "    padding: 0;\n",
              "    width: 32px;\n",
              "  }\n",
              "\n",
              "  .colab-df-quickchart:hover {\n",
              "    background-color: var(--hover-bg-color);\n",
              "    box-shadow: 0 1px 2px rgba(60, 64, 67, 0.3), 0 1px 3px 1px rgba(60, 64, 67, 0.15);\n",
              "    fill: var(--button-hover-fill-color);\n",
              "  }\n",
              "\n",
              "  .colab-df-quickchart-complete:disabled,\n",
              "  .colab-df-quickchart-complete:disabled:hover {\n",
              "    background-color: var(--disabled-bg-color);\n",
              "    fill: var(--disabled-fill-color);\n",
              "    box-shadow: none;\n",
              "  }\n",
              "\n",
              "  .colab-df-spinner {\n",
              "    border: 2px solid var(--fill-color);\n",
              "    border-color: transparent;\n",
              "    border-bottom-color: var(--fill-color);\n",
              "    animation:\n",
              "      spin 1s steps(1) infinite;\n",
              "  }\n",
              "\n",
              "  @keyframes spin {\n",
              "    0% {\n",
              "      border-color: transparent;\n",
              "      border-bottom-color: var(--fill-color);\n",
              "      border-left-color: var(--fill-color);\n",
              "    }\n",
              "    20% {\n",
              "      border-color: transparent;\n",
              "      border-left-color: var(--fill-color);\n",
              "      border-top-color: var(--fill-color);\n",
              "    }\n",
              "    30% {\n",
              "      border-color: transparent;\n",
              "      border-left-color: var(--fill-color);\n",
              "      border-top-color: var(--fill-color);\n",
              "      border-right-color: var(--fill-color);\n",
              "    }\n",
              "    40% {\n",
              "      border-color: transparent;\n",
              "      border-right-color: var(--fill-color);\n",
              "      border-top-color: var(--fill-color);\n",
              "    }\n",
              "    60% {\n",
              "      border-color: transparent;\n",
              "      border-right-color: var(--fill-color);\n",
              "    }\n",
              "    80% {\n",
              "      border-color: transparent;\n",
              "      border-right-color: var(--fill-color);\n",
              "      border-bottom-color: var(--fill-color);\n",
              "    }\n",
              "    90% {\n",
              "      border-color: transparent;\n",
              "      border-bottom-color: var(--fill-color);\n",
              "    }\n",
              "  }\n",
              "</style>\n",
              "\n",
              "  <script>\n",
              "    async function quickchart(key) {\n",
              "      const quickchartButtonEl =\n",
              "        document.querySelector('#' + key + ' button');\n",
              "      quickchartButtonEl.disabled = true;  // To prevent multiple clicks.\n",
              "      quickchartButtonEl.classList.add('colab-df-spinner');\n",
              "      try {\n",
              "        const charts = await google.colab.kernel.invokeFunction(\n",
              "            'suggestCharts', [key], {});\n",
              "      } catch (error) {\n",
              "        console.error('Error during call to suggestCharts:', error);\n",
              "      }\n",
              "      quickchartButtonEl.classList.remove('colab-df-spinner');\n",
              "      quickchartButtonEl.classList.add('colab-df-quickchart-complete');\n",
              "    }\n",
              "    (() => {\n",
              "      let quickchartButtonEl =\n",
              "        document.querySelector('#df-c853509f-8023-4c7c-8576-ad8c9d9f5eb4 button');\n",
              "      quickchartButtonEl.style.display =\n",
              "        google.colab.kernel.accessAllowed ? 'block' : 'none';\n",
              "    })();\n",
              "  </script>\n",
              "</div>\n",
              "    </div>\n",
              "  </div>\n"
            ]
          },
          "metadata": {},
          "execution_count": 162
        }
      ]
    },
    {
      "cell_type": "code",
      "source": [
        "df2_test['polarity'][df2_test[\"polarity\"] == 'negative'] = 0\n",
        "df2_test['polarity'][df2_test[\"polarity\"] == 'positive'] = 1\n",
        "df2_test['polarity'][df2_test[\"polarity\"] == 'neutral'] = 2\n"
      ],
      "metadata": {
        "id": "BFDj_BjqmXCz",
        "colab": {
          "base_uri": "https://localhost:8080/"
        },
        "outputId": "27329ae8-4c3a-45a1-b899-fbf2866d38fb"
      },
      "execution_count": 163,
      "outputs": [
        {
          "output_type": "stream",
          "name": "stderr",
          "text": [
            "<ipython-input-163-ee27ebe34892>:1: SettingWithCopyWarning: \n",
            "A value is trying to be set on a copy of a slice from a DataFrame\n",
            "\n",
            "See the caveats in the documentation: https://pandas.pydata.org/pandas-docs/stable/user_guide/indexing.html#returning-a-view-versus-a-copy\n",
            "  df2_test['polarity'][df2_test[\"polarity\"] == 'negative'] = 0\n",
            "<ipython-input-163-ee27ebe34892>:2: SettingWithCopyWarning: \n",
            "A value is trying to be set on a copy of a slice from a DataFrame\n",
            "\n",
            "See the caveats in the documentation: https://pandas.pydata.org/pandas-docs/stable/user_guide/indexing.html#returning-a-view-versus-a-copy\n",
            "  df2_test['polarity'][df2_test[\"polarity\"] == 'positive'] = 1\n",
            "<ipython-input-163-ee27ebe34892>:3: SettingWithCopyWarning: \n",
            "A value is trying to be set on a copy of a slice from a DataFrame\n",
            "\n",
            "See the caveats in the documentation: https://pandas.pydata.org/pandas-docs/stable/user_guide/indexing.html#returning-a-view-versus-a-copy\n",
            "  df2_test['polarity'][df2_test[\"polarity\"] == 'neutral'] = 2\n"
          ]
        }
      ]
    },
    {
      "cell_type": "code",
      "source": [
        "X_test = df2_test"
      ],
      "metadata": {
        "id": "buoJjXnhzfJb"
      },
      "execution_count": 164,
      "outputs": []
    },
    {
      "cell_type": "code",
      "source": [
        "\n",
        "## Convert polarity Values to Integers\n",
        "X_test[\"polarity\"] = pd.to_numeric(X_test[\"polarity\"],errors='coerce')\n"
      ],
      "metadata": {
        "id": "wO8lVqI4zhV8",
        "colab": {
          "base_uri": "https://localhost:8080/"
        },
        "outputId": "0df91ea2-5804-486f-92a7-8908de00aa90"
      },
      "execution_count": 165,
      "outputs": [
        {
          "output_type": "stream",
          "name": "stderr",
          "text": [
            "<ipython-input-165-9dad12974081>:2: SettingWithCopyWarning: \n",
            "A value is trying to be set on a copy of a slice from a DataFrame.\n",
            "Try using .loc[row_indexer,col_indexer] = value instead\n",
            "\n",
            "See the caveats in the documentation: https://pandas.pydata.org/pandas-docs/stable/user_guide/indexing.html#returning-a-view-versus-a-copy\n",
            "  X_test[\"polarity\"] = pd.to_numeric(X_test[\"polarity\"],errors='coerce')\n"
          ]
        }
      ]
    },
    {
      "cell_type": "code",
      "source": [
        "y_test = X_test[\"polarity\"]"
      ],
      "metadata": {
        "id": "k32uN8z9zj6j"
      },
      "execution_count": 166,
      "outputs": []
    },
    {
      "cell_type": "code",
      "source": [
        "tokenizer = Tokenizer(num_words=NUM_WORDS,\n",
        "                      filters='!\"#$%&()*+,-./:;<=>?@[\\\\]^_`{|}~\\t\\n',\n",
        "                      lower=True, )\n",
        "## Fit_on_texts : Updates internal vocabulary based on a list of texts.\n",
        "tokenizer.fit_on_texts(list(X_train.Text))\n",
        "text_X_test_tokenized = tokenizer.texts_to_sequences(X_test.sentence) # list of tokenized sentences\n",
        "Aspect_X_test_tokenized = tokenizer.texts_to_sequences(X_test['aspect_term']) # list of tokenized sentences\n"
      ],
      "metadata": {
        "id": "7c0m8YLXzogI"
      },
      "execution_count": 167,
      "outputs": []
    },
    {
      "cell_type": "code",
      "source": [],
      "metadata": {
        "id": "BoYPyaxUzw8W"
      },
      "execution_count": 167,
      "outputs": []
    },
    {
      "cell_type": "code",
      "source": [
        "## Pads sequences(or sentences) to the same length.\n",
        "\n",
        "\n",
        "\n",
        "text_X_test_padded = pad_sequences(text_X_test_tokenized, maxlen=Max_Len)\n",
        "aspect_X_test_padded = pad_sequences(Aspect_X_test_tokenized, maxlen=1)\n"
      ],
      "metadata": {
        "id": "ZSem8DQqzxvw"
      },
      "execution_count": 168,
      "outputs": []
    },
    {
      "cell_type": "code",
      "source": [
        "test_data =   [text_X_test_padded,aspect_X_test_padded]\n"
      ],
      "metadata": {
        "id": "k44-buJ80G6S"
      },
      "execution_count": 169,
      "outputs": []
    },
    {
      "cell_type": "code",
      "source": [
        "\n",
        "print(\"Evaluate on test data\")\n",
        "results = atae_lstm_model.evaluate(x = test_data , y = y_test )\n",
        "print(\"test loss, test acc:\", results)\n",
        "print(\"Accuracy of the model is - \" , results[1]*100 , \"%\")\n"
      ],
      "metadata": {
        "colab": {
          "base_uri": "https://localhost:8080/"
        },
        "id": "s7J_ht6v0KwB",
        "outputId": "ef72554c-97ae-4cf2-a85c-89c28dc2f5a2"
      },
      "execution_count": 170,
      "outputs": [
        {
          "output_type": "stream",
          "name": "stdout",
          "text": [
            "Evaluate on test data\n",
            "21/21 [==============================] - 0s 16ms/step - loss: 1.2461 - accuracy: 0.7477\n",
            "test loss, test acc: [1.2460598945617676, 0.7476922869682312]\n",
            "Accuracy of the model is -  74.76922869682312 %\n"
          ]
        }
      ]
    },
    {
      "cell_type": "markdown",
      "source": [
        "##CROSS VALIDATE ON YASO"
      ],
      "metadata": {
        "id": "baajsffE2Fgl"
      }
    },
    {
      "cell_type": "code",
      "source": [
        "df2_test = pd.read_csv(\"/content/drive/MyDrive/ABSA work/codes/processed_YASO/TSA-MD_val_single.csv\")"
      ],
      "metadata": {
        "id": "JlARt3OT1pwL"
      },
      "execution_count": 171,
      "outputs": []
    },
    {
      "cell_type": "code",
      "source": [
        "def delete_rows_with_target_not_found(df):\n",
        "    return df.loc[df['aspect_term'] != 'Target Not Found']\n"
      ],
      "metadata": {
        "id": "q5kwD3xwGmPV"
      },
      "execution_count": 172,
      "outputs": []
    },
    {
      "cell_type": "code",
      "source": [
        "df2_test = delete_rows_with_target_not_found(df2_test)"
      ],
      "metadata": {
        "id": "Ndlx_Ic8GnQT"
      },
      "execution_count": 173,
      "outputs": []
    },
    {
      "cell_type": "code",
      "source": [
        "df2_test"
      ],
      "metadata": {
        "colab": {
          "base_uri": "https://localhost:8080/",
          "height": 424
        },
        "id": "zYL1zcKK5s5t",
        "outputId": "20102e95-5fa3-46ba-8048-e4ce441bb15f"
      },
      "execution_count": 174,
      "outputs": [
        {
          "output_type": "execute_result",
          "data": {
            "text/plain": [
              "                                              sentence  \\\n",
              "0         \"Typical\" Italian food was far from typical.   \n",
              "1    After a few weeks the tablet started asking fo...   \n",
              "2    After a few weeks the tablet started asking fo...   \n",
              "3    After a few weeks the tablet started asking fo...   \n",
              "4    After a few weeks the tablet started asking fo...   \n",
              "..                                                 ...   \n",
              "306  yesterday, I ordered four chicken sandwiches b...   \n",
              "307  yesterday, I ordered four chicken sandwiches b...   \n",
              "308  yesterday, I ordered four chicken sandwiches b...   \n",
              "309             you can find there anything you want .   \n",
              "310  you can let your child  play in the kids area ...   \n",
              "\n",
              "                            aspect_term  begin  end  polarity  \n",
              "0                          Italian food     10   22  negative  \n",
              "1                                 sound    128  133  positive  \n",
              "2                                   buy    251  254  positive  \n",
              "3                   wireless headphones    202  221  positive  \n",
              "4    resolution of the camera is decent     88  122  positive  \n",
              "..                                  ...    ...  ...       ...  \n",
              "306                           delivered    105  114  negative  \n",
              "307                     quality of food     53   68  negative  \n",
              "308                  chicken sandwiches     26   44  negative  \n",
              "309                               there     13   18  positive  \n",
              "310                           kids area     36   45  positive  \n",
              "\n",
              "[311 rows x 5 columns]"
            ],
            "text/html": [
              "\n",
              "  <div id=\"df-a0197975-6cd2-4be1-aa50-16bbb9d76d11\" class=\"colab-df-container\">\n",
              "    <div>\n",
              "<style scoped>\n",
              "    .dataframe tbody tr th:only-of-type {\n",
              "        vertical-align: middle;\n",
              "    }\n",
              "\n",
              "    .dataframe tbody tr th {\n",
              "        vertical-align: top;\n",
              "    }\n",
              "\n",
              "    .dataframe thead th {\n",
              "        text-align: right;\n",
              "    }\n",
              "</style>\n",
              "<table border=\"1\" class=\"dataframe\">\n",
              "  <thead>\n",
              "    <tr style=\"text-align: right;\">\n",
              "      <th></th>\n",
              "      <th>sentence</th>\n",
              "      <th>aspect_term</th>\n",
              "      <th>begin</th>\n",
              "      <th>end</th>\n",
              "      <th>polarity</th>\n",
              "    </tr>\n",
              "  </thead>\n",
              "  <tbody>\n",
              "    <tr>\n",
              "      <th>0</th>\n",
              "      <td>\"Typical\" Italian food was far from typical.</td>\n",
              "      <td>Italian food</td>\n",
              "      <td>10</td>\n",
              "      <td>22</td>\n",
              "      <td>negative</td>\n",
              "    </tr>\n",
              "    <tr>\n",
              "      <th>1</th>\n",
              "      <td>After a few weeks the tablet started asking fo...</td>\n",
              "      <td>sound</td>\n",
              "      <td>128</td>\n",
              "      <td>133</td>\n",
              "      <td>positive</td>\n",
              "    </tr>\n",
              "    <tr>\n",
              "      <th>2</th>\n",
              "      <td>After a few weeks the tablet started asking fo...</td>\n",
              "      <td>buy</td>\n",
              "      <td>251</td>\n",
              "      <td>254</td>\n",
              "      <td>positive</td>\n",
              "    </tr>\n",
              "    <tr>\n",
              "      <th>3</th>\n",
              "      <td>After a few weeks the tablet started asking fo...</td>\n",
              "      <td>wireless headphones</td>\n",
              "      <td>202</td>\n",
              "      <td>221</td>\n",
              "      <td>positive</td>\n",
              "    </tr>\n",
              "    <tr>\n",
              "      <th>4</th>\n",
              "      <td>After a few weeks the tablet started asking fo...</td>\n",
              "      <td>resolution of the camera is decent</td>\n",
              "      <td>88</td>\n",
              "      <td>122</td>\n",
              "      <td>positive</td>\n",
              "    </tr>\n",
              "    <tr>\n",
              "      <th>...</th>\n",
              "      <td>...</td>\n",
              "      <td>...</td>\n",
              "      <td>...</td>\n",
              "      <td>...</td>\n",
              "      <td>...</td>\n",
              "    </tr>\n",
              "    <tr>\n",
              "      <th>306</th>\n",
              "      <td>yesterday, I ordered four chicken sandwiches b...</td>\n",
              "      <td>delivered</td>\n",
              "      <td>105</td>\n",
              "      <td>114</td>\n",
              "      <td>negative</td>\n",
              "    </tr>\n",
              "    <tr>\n",
              "      <th>307</th>\n",
              "      <td>yesterday, I ordered four chicken sandwiches b...</td>\n",
              "      <td>quality of food</td>\n",
              "      <td>53</td>\n",
              "      <td>68</td>\n",
              "      <td>negative</td>\n",
              "    </tr>\n",
              "    <tr>\n",
              "      <th>308</th>\n",
              "      <td>yesterday, I ordered four chicken sandwiches b...</td>\n",
              "      <td>chicken sandwiches</td>\n",
              "      <td>26</td>\n",
              "      <td>44</td>\n",
              "      <td>negative</td>\n",
              "    </tr>\n",
              "    <tr>\n",
              "      <th>309</th>\n",
              "      <td>you can find there anything you want .</td>\n",
              "      <td>there</td>\n",
              "      <td>13</td>\n",
              "      <td>18</td>\n",
              "      <td>positive</td>\n",
              "    </tr>\n",
              "    <tr>\n",
              "      <th>310</th>\n",
              "      <td>you can let your child  play in the kids area ...</td>\n",
              "      <td>kids area</td>\n",
              "      <td>36</td>\n",
              "      <td>45</td>\n",
              "      <td>positive</td>\n",
              "    </tr>\n",
              "  </tbody>\n",
              "</table>\n",
              "<p>311 rows × 5 columns</p>\n",
              "</div>\n",
              "    <div class=\"colab-df-buttons\">\n",
              "\n",
              "  <div class=\"colab-df-container\">\n",
              "    <button class=\"colab-df-convert\" onclick=\"convertToInteractive('df-a0197975-6cd2-4be1-aa50-16bbb9d76d11')\"\n",
              "            title=\"Convert this dataframe to an interactive table.\"\n",
              "            style=\"display:none;\">\n",
              "\n",
              "  <svg xmlns=\"http://www.w3.org/2000/svg\" height=\"24px\" viewBox=\"0 -960 960 960\">\n",
              "    <path d=\"M120-120v-720h720v720H120Zm60-500h600v-160H180v160Zm220 220h160v-160H400v160Zm0 220h160v-160H400v160ZM180-400h160v-160H180v160Zm440 0h160v-160H620v160ZM180-180h160v-160H180v160Zm440 0h160v-160H620v160Z\"/>\n",
              "  </svg>\n",
              "    </button>\n",
              "\n",
              "  <style>\n",
              "    .colab-df-container {\n",
              "      display:flex;\n",
              "      gap: 12px;\n",
              "    }\n",
              "\n",
              "    .colab-df-convert {\n",
              "      background-color: #E8F0FE;\n",
              "      border: none;\n",
              "      border-radius: 50%;\n",
              "      cursor: pointer;\n",
              "      display: none;\n",
              "      fill: #1967D2;\n",
              "      height: 32px;\n",
              "      padding: 0 0 0 0;\n",
              "      width: 32px;\n",
              "    }\n",
              "\n",
              "    .colab-df-convert:hover {\n",
              "      background-color: #E2EBFA;\n",
              "      box-shadow: 0px 1px 2px rgba(60, 64, 67, 0.3), 0px 1px 3px 1px rgba(60, 64, 67, 0.15);\n",
              "      fill: #174EA6;\n",
              "    }\n",
              "\n",
              "    .colab-df-buttons div {\n",
              "      margin-bottom: 4px;\n",
              "    }\n",
              "\n",
              "    [theme=dark] .colab-df-convert {\n",
              "      background-color: #3B4455;\n",
              "      fill: #D2E3FC;\n",
              "    }\n",
              "\n",
              "    [theme=dark] .colab-df-convert:hover {\n",
              "      background-color: #434B5C;\n",
              "      box-shadow: 0px 1px 3px 1px rgba(0, 0, 0, 0.15);\n",
              "      filter: drop-shadow(0px 1px 2px rgba(0, 0, 0, 0.3));\n",
              "      fill: #FFFFFF;\n",
              "    }\n",
              "  </style>\n",
              "\n",
              "    <script>\n",
              "      const buttonEl =\n",
              "        document.querySelector('#df-a0197975-6cd2-4be1-aa50-16bbb9d76d11 button.colab-df-convert');\n",
              "      buttonEl.style.display =\n",
              "        google.colab.kernel.accessAllowed ? 'block' : 'none';\n",
              "\n",
              "      async function convertToInteractive(key) {\n",
              "        const element = document.querySelector('#df-a0197975-6cd2-4be1-aa50-16bbb9d76d11');\n",
              "        const dataTable =\n",
              "          await google.colab.kernel.invokeFunction('convertToInteractive',\n",
              "                                                    [key], {});\n",
              "        if (!dataTable) return;\n",
              "\n",
              "        const docLinkHtml = 'Like what you see? Visit the ' +\n",
              "          '<a target=\"_blank\" href=https://colab.research.google.com/notebooks/data_table.ipynb>data table notebook</a>'\n",
              "          + ' to learn more about interactive tables.';\n",
              "        element.innerHTML = '';\n",
              "        dataTable['output_type'] = 'display_data';\n",
              "        await google.colab.output.renderOutput(dataTable, element);\n",
              "        const docLink = document.createElement('div');\n",
              "        docLink.innerHTML = docLinkHtml;\n",
              "        element.appendChild(docLink);\n",
              "      }\n",
              "    </script>\n",
              "  </div>\n",
              "\n",
              "\n",
              "<div id=\"df-420e4116-b396-412f-aee2-63ff3b6f55d5\">\n",
              "  <button class=\"colab-df-quickchart\" onclick=\"quickchart('df-420e4116-b396-412f-aee2-63ff3b6f55d5')\"\n",
              "            title=\"Suggest charts.\"\n",
              "            style=\"display:none;\">\n",
              "\n",
              "<svg xmlns=\"http://www.w3.org/2000/svg\" height=\"24px\"viewBox=\"0 0 24 24\"\n",
              "     width=\"24px\">\n",
              "    <g>\n",
              "        <path d=\"M19 3H5c-1.1 0-2 .9-2 2v14c0 1.1.9 2 2 2h14c1.1 0 2-.9 2-2V5c0-1.1-.9-2-2-2zM9 17H7v-7h2v7zm4 0h-2V7h2v10zm4 0h-2v-4h2v4z\"/>\n",
              "    </g>\n",
              "</svg>\n",
              "  </button>\n",
              "\n",
              "<style>\n",
              "  .colab-df-quickchart {\n",
              "      --bg-color: #E8F0FE;\n",
              "      --fill-color: #1967D2;\n",
              "      --hover-bg-color: #E2EBFA;\n",
              "      --hover-fill-color: #174EA6;\n",
              "      --disabled-fill-color: #AAA;\n",
              "      --disabled-bg-color: #DDD;\n",
              "  }\n",
              "\n",
              "  [theme=dark] .colab-df-quickchart {\n",
              "      --bg-color: #3B4455;\n",
              "      --fill-color: #D2E3FC;\n",
              "      --hover-bg-color: #434B5C;\n",
              "      --hover-fill-color: #FFFFFF;\n",
              "      --disabled-bg-color: #3B4455;\n",
              "      --disabled-fill-color: #666;\n",
              "  }\n",
              "\n",
              "  .colab-df-quickchart {\n",
              "    background-color: var(--bg-color);\n",
              "    border: none;\n",
              "    border-radius: 50%;\n",
              "    cursor: pointer;\n",
              "    display: none;\n",
              "    fill: var(--fill-color);\n",
              "    height: 32px;\n",
              "    padding: 0;\n",
              "    width: 32px;\n",
              "  }\n",
              "\n",
              "  .colab-df-quickchart:hover {\n",
              "    background-color: var(--hover-bg-color);\n",
              "    box-shadow: 0 1px 2px rgba(60, 64, 67, 0.3), 0 1px 3px 1px rgba(60, 64, 67, 0.15);\n",
              "    fill: var(--button-hover-fill-color);\n",
              "  }\n",
              "\n",
              "  .colab-df-quickchart-complete:disabled,\n",
              "  .colab-df-quickchart-complete:disabled:hover {\n",
              "    background-color: var(--disabled-bg-color);\n",
              "    fill: var(--disabled-fill-color);\n",
              "    box-shadow: none;\n",
              "  }\n",
              "\n",
              "  .colab-df-spinner {\n",
              "    border: 2px solid var(--fill-color);\n",
              "    border-color: transparent;\n",
              "    border-bottom-color: var(--fill-color);\n",
              "    animation:\n",
              "      spin 1s steps(1) infinite;\n",
              "  }\n",
              "\n",
              "  @keyframes spin {\n",
              "    0% {\n",
              "      border-color: transparent;\n",
              "      border-bottom-color: var(--fill-color);\n",
              "      border-left-color: var(--fill-color);\n",
              "    }\n",
              "    20% {\n",
              "      border-color: transparent;\n",
              "      border-left-color: var(--fill-color);\n",
              "      border-top-color: var(--fill-color);\n",
              "    }\n",
              "    30% {\n",
              "      border-color: transparent;\n",
              "      border-left-color: var(--fill-color);\n",
              "      border-top-color: var(--fill-color);\n",
              "      border-right-color: var(--fill-color);\n",
              "    }\n",
              "    40% {\n",
              "      border-color: transparent;\n",
              "      border-right-color: var(--fill-color);\n",
              "      border-top-color: var(--fill-color);\n",
              "    }\n",
              "    60% {\n",
              "      border-color: transparent;\n",
              "      border-right-color: var(--fill-color);\n",
              "    }\n",
              "    80% {\n",
              "      border-color: transparent;\n",
              "      border-right-color: var(--fill-color);\n",
              "      border-bottom-color: var(--fill-color);\n",
              "    }\n",
              "    90% {\n",
              "      border-color: transparent;\n",
              "      border-bottom-color: var(--fill-color);\n",
              "    }\n",
              "  }\n",
              "</style>\n",
              "\n",
              "  <script>\n",
              "    async function quickchart(key) {\n",
              "      const quickchartButtonEl =\n",
              "        document.querySelector('#' + key + ' button');\n",
              "      quickchartButtonEl.disabled = true;  // To prevent multiple clicks.\n",
              "      quickchartButtonEl.classList.add('colab-df-spinner');\n",
              "      try {\n",
              "        const charts = await google.colab.kernel.invokeFunction(\n",
              "            'suggestCharts', [key], {});\n",
              "      } catch (error) {\n",
              "        console.error('Error during call to suggestCharts:', error);\n",
              "      }\n",
              "      quickchartButtonEl.classList.remove('colab-df-spinner');\n",
              "      quickchartButtonEl.classList.add('colab-df-quickchart-complete');\n",
              "    }\n",
              "    (() => {\n",
              "      let quickchartButtonEl =\n",
              "        document.querySelector('#df-420e4116-b396-412f-aee2-63ff3b6f55d5 button');\n",
              "      quickchartButtonEl.style.display =\n",
              "        google.colab.kernel.accessAllowed ? 'block' : 'none';\n",
              "    })();\n",
              "  </script>\n",
              "</div>\n",
              "    </div>\n",
              "  </div>\n"
            ]
          },
          "metadata": {},
          "execution_count": 174
        }
      ]
    },
    {
      "cell_type": "code",
      "source": [],
      "metadata": {
        "id": "oka9ehJe38UD"
      },
      "execution_count": 174,
      "outputs": []
    },
    {
      "cell_type": "code",
      "source": [
        "df2_test"
      ],
      "metadata": {
        "colab": {
          "base_uri": "https://localhost:8080/",
          "height": 424
        },
        "id": "xB9LM9m84EBy",
        "outputId": "84a0d791-534f-444b-c14b-b14c312a172c"
      },
      "execution_count": 175,
      "outputs": [
        {
          "output_type": "execute_result",
          "data": {
            "text/plain": [
              "                                              sentence  \\\n",
              "0         \"Typical\" Italian food was far from typical.   \n",
              "1    After a few weeks the tablet started asking fo...   \n",
              "2    After a few weeks the tablet started asking fo...   \n",
              "3    After a few weeks the tablet started asking fo...   \n",
              "4    After a few weeks the tablet started asking fo...   \n",
              "..                                                 ...   \n",
              "306  yesterday, I ordered four chicken sandwiches b...   \n",
              "307  yesterday, I ordered four chicken sandwiches b...   \n",
              "308  yesterday, I ordered four chicken sandwiches b...   \n",
              "309             you can find there anything you want .   \n",
              "310  you can let your child  play in the kids area ...   \n",
              "\n",
              "                            aspect_term  begin  end  polarity  \n",
              "0                          Italian food     10   22  negative  \n",
              "1                                 sound    128  133  positive  \n",
              "2                                   buy    251  254  positive  \n",
              "3                   wireless headphones    202  221  positive  \n",
              "4    resolution of the camera is decent     88  122  positive  \n",
              "..                                  ...    ...  ...       ...  \n",
              "306                           delivered    105  114  negative  \n",
              "307                     quality of food     53   68  negative  \n",
              "308                  chicken sandwiches     26   44  negative  \n",
              "309                               there     13   18  positive  \n",
              "310                           kids area     36   45  positive  \n",
              "\n",
              "[311 rows x 5 columns]"
            ],
            "text/html": [
              "\n",
              "  <div id=\"df-e78b0eb7-1048-43a8-b14e-e960be9ad9ce\" class=\"colab-df-container\">\n",
              "    <div>\n",
              "<style scoped>\n",
              "    .dataframe tbody tr th:only-of-type {\n",
              "        vertical-align: middle;\n",
              "    }\n",
              "\n",
              "    .dataframe tbody tr th {\n",
              "        vertical-align: top;\n",
              "    }\n",
              "\n",
              "    .dataframe thead th {\n",
              "        text-align: right;\n",
              "    }\n",
              "</style>\n",
              "<table border=\"1\" class=\"dataframe\">\n",
              "  <thead>\n",
              "    <tr style=\"text-align: right;\">\n",
              "      <th></th>\n",
              "      <th>sentence</th>\n",
              "      <th>aspect_term</th>\n",
              "      <th>begin</th>\n",
              "      <th>end</th>\n",
              "      <th>polarity</th>\n",
              "    </tr>\n",
              "  </thead>\n",
              "  <tbody>\n",
              "    <tr>\n",
              "      <th>0</th>\n",
              "      <td>\"Typical\" Italian food was far from typical.</td>\n",
              "      <td>Italian food</td>\n",
              "      <td>10</td>\n",
              "      <td>22</td>\n",
              "      <td>negative</td>\n",
              "    </tr>\n",
              "    <tr>\n",
              "      <th>1</th>\n",
              "      <td>After a few weeks the tablet started asking fo...</td>\n",
              "      <td>sound</td>\n",
              "      <td>128</td>\n",
              "      <td>133</td>\n",
              "      <td>positive</td>\n",
              "    </tr>\n",
              "    <tr>\n",
              "      <th>2</th>\n",
              "      <td>After a few weeks the tablet started asking fo...</td>\n",
              "      <td>buy</td>\n",
              "      <td>251</td>\n",
              "      <td>254</td>\n",
              "      <td>positive</td>\n",
              "    </tr>\n",
              "    <tr>\n",
              "      <th>3</th>\n",
              "      <td>After a few weeks the tablet started asking fo...</td>\n",
              "      <td>wireless headphones</td>\n",
              "      <td>202</td>\n",
              "      <td>221</td>\n",
              "      <td>positive</td>\n",
              "    </tr>\n",
              "    <tr>\n",
              "      <th>4</th>\n",
              "      <td>After a few weeks the tablet started asking fo...</td>\n",
              "      <td>resolution of the camera is decent</td>\n",
              "      <td>88</td>\n",
              "      <td>122</td>\n",
              "      <td>positive</td>\n",
              "    </tr>\n",
              "    <tr>\n",
              "      <th>...</th>\n",
              "      <td>...</td>\n",
              "      <td>...</td>\n",
              "      <td>...</td>\n",
              "      <td>...</td>\n",
              "      <td>...</td>\n",
              "    </tr>\n",
              "    <tr>\n",
              "      <th>306</th>\n",
              "      <td>yesterday, I ordered four chicken sandwiches b...</td>\n",
              "      <td>delivered</td>\n",
              "      <td>105</td>\n",
              "      <td>114</td>\n",
              "      <td>negative</td>\n",
              "    </tr>\n",
              "    <tr>\n",
              "      <th>307</th>\n",
              "      <td>yesterday, I ordered four chicken sandwiches b...</td>\n",
              "      <td>quality of food</td>\n",
              "      <td>53</td>\n",
              "      <td>68</td>\n",
              "      <td>negative</td>\n",
              "    </tr>\n",
              "    <tr>\n",
              "      <th>308</th>\n",
              "      <td>yesterday, I ordered four chicken sandwiches b...</td>\n",
              "      <td>chicken sandwiches</td>\n",
              "      <td>26</td>\n",
              "      <td>44</td>\n",
              "      <td>negative</td>\n",
              "    </tr>\n",
              "    <tr>\n",
              "      <th>309</th>\n",
              "      <td>you can find there anything you want .</td>\n",
              "      <td>there</td>\n",
              "      <td>13</td>\n",
              "      <td>18</td>\n",
              "      <td>positive</td>\n",
              "    </tr>\n",
              "    <tr>\n",
              "      <th>310</th>\n",
              "      <td>you can let your child  play in the kids area ...</td>\n",
              "      <td>kids area</td>\n",
              "      <td>36</td>\n",
              "      <td>45</td>\n",
              "      <td>positive</td>\n",
              "    </tr>\n",
              "  </tbody>\n",
              "</table>\n",
              "<p>311 rows × 5 columns</p>\n",
              "</div>\n",
              "    <div class=\"colab-df-buttons\">\n",
              "\n",
              "  <div class=\"colab-df-container\">\n",
              "    <button class=\"colab-df-convert\" onclick=\"convertToInteractive('df-e78b0eb7-1048-43a8-b14e-e960be9ad9ce')\"\n",
              "            title=\"Convert this dataframe to an interactive table.\"\n",
              "            style=\"display:none;\">\n",
              "\n",
              "  <svg xmlns=\"http://www.w3.org/2000/svg\" height=\"24px\" viewBox=\"0 -960 960 960\">\n",
              "    <path d=\"M120-120v-720h720v720H120Zm60-500h600v-160H180v160Zm220 220h160v-160H400v160Zm0 220h160v-160H400v160ZM180-400h160v-160H180v160Zm440 0h160v-160H620v160ZM180-180h160v-160H180v160Zm440 0h160v-160H620v160Z\"/>\n",
              "  </svg>\n",
              "    </button>\n",
              "\n",
              "  <style>\n",
              "    .colab-df-container {\n",
              "      display:flex;\n",
              "      gap: 12px;\n",
              "    }\n",
              "\n",
              "    .colab-df-convert {\n",
              "      background-color: #E8F0FE;\n",
              "      border: none;\n",
              "      border-radius: 50%;\n",
              "      cursor: pointer;\n",
              "      display: none;\n",
              "      fill: #1967D2;\n",
              "      height: 32px;\n",
              "      padding: 0 0 0 0;\n",
              "      width: 32px;\n",
              "    }\n",
              "\n",
              "    .colab-df-convert:hover {\n",
              "      background-color: #E2EBFA;\n",
              "      box-shadow: 0px 1px 2px rgba(60, 64, 67, 0.3), 0px 1px 3px 1px rgba(60, 64, 67, 0.15);\n",
              "      fill: #174EA6;\n",
              "    }\n",
              "\n",
              "    .colab-df-buttons div {\n",
              "      margin-bottom: 4px;\n",
              "    }\n",
              "\n",
              "    [theme=dark] .colab-df-convert {\n",
              "      background-color: #3B4455;\n",
              "      fill: #D2E3FC;\n",
              "    }\n",
              "\n",
              "    [theme=dark] .colab-df-convert:hover {\n",
              "      background-color: #434B5C;\n",
              "      box-shadow: 0px 1px 3px 1px rgba(0, 0, 0, 0.15);\n",
              "      filter: drop-shadow(0px 1px 2px rgba(0, 0, 0, 0.3));\n",
              "      fill: #FFFFFF;\n",
              "    }\n",
              "  </style>\n",
              "\n",
              "    <script>\n",
              "      const buttonEl =\n",
              "        document.querySelector('#df-e78b0eb7-1048-43a8-b14e-e960be9ad9ce button.colab-df-convert');\n",
              "      buttonEl.style.display =\n",
              "        google.colab.kernel.accessAllowed ? 'block' : 'none';\n",
              "\n",
              "      async function convertToInteractive(key) {\n",
              "        const element = document.querySelector('#df-e78b0eb7-1048-43a8-b14e-e960be9ad9ce');\n",
              "        const dataTable =\n",
              "          await google.colab.kernel.invokeFunction('convertToInteractive',\n",
              "                                                    [key], {});\n",
              "        if (!dataTable) return;\n",
              "\n",
              "        const docLinkHtml = 'Like what you see? Visit the ' +\n",
              "          '<a target=\"_blank\" href=https://colab.research.google.com/notebooks/data_table.ipynb>data table notebook</a>'\n",
              "          + ' to learn more about interactive tables.';\n",
              "        element.innerHTML = '';\n",
              "        dataTable['output_type'] = 'display_data';\n",
              "        await google.colab.output.renderOutput(dataTable, element);\n",
              "        const docLink = document.createElement('div');\n",
              "        docLink.innerHTML = docLinkHtml;\n",
              "        element.appendChild(docLink);\n",
              "      }\n",
              "    </script>\n",
              "  </div>\n",
              "\n",
              "\n",
              "<div id=\"df-9a60a14f-6881-4d25-91ff-18931338bd13\">\n",
              "  <button class=\"colab-df-quickchart\" onclick=\"quickchart('df-9a60a14f-6881-4d25-91ff-18931338bd13')\"\n",
              "            title=\"Suggest charts.\"\n",
              "            style=\"display:none;\">\n",
              "\n",
              "<svg xmlns=\"http://www.w3.org/2000/svg\" height=\"24px\"viewBox=\"0 0 24 24\"\n",
              "     width=\"24px\">\n",
              "    <g>\n",
              "        <path d=\"M19 3H5c-1.1 0-2 .9-2 2v14c0 1.1.9 2 2 2h14c1.1 0 2-.9 2-2V5c0-1.1-.9-2-2-2zM9 17H7v-7h2v7zm4 0h-2V7h2v10zm4 0h-2v-4h2v4z\"/>\n",
              "    </g>\n",
              "</svg>\n",
              "  </button>\n",
              "\n",
              "<style>\n",
              "  .colab-df-quickchart {\n",
              "      --bg-color: #E8F0FE;\n",
              "      --fill-color: #1967D2;\n",
              "      --hover-bg-color: #E2EBFA;\n",
              "      --hover-fill-color: #174EA6;\n",
              "      --disabled-fill-color: #AAA;\n",
              "      --disabled-bg-color: #DDD;\n",
              "  }\n",
              "\n",
              "  [theme=dark] .colab-df-quickchart {\n",
              "      --bg-color: #3B4455;\n",
              "      --fill-color: #D2E3FC;\n",
              "      --hover-bg-color: #434B5C;\n",
              "      --hover-fill-color: #FFFFFF;\n",
              "      --disabled-bg-color: #3B4455;\n",
              "      --disabled-fill-color: #666;\n",
              "  }\n",
              "\n",
              "  .colab-df-quickchart {\n",
              "    background-color: var(--bg-color);\n",
              "    border: none;\n",
              "    border-radius: 50%;\n",
              "    cursor: pointer;\n",
              "    display: none;\n",
              "    fill: var(--fill-color);\n",
              "    height: 32px;\n",
              "    padding: 0;\n",
              "    width: 32px;\n",
              "  }\n",
              "\n",
              "  .colab-df-quickchart:hover {\n",
              "    background-color: var(--hover-bg-color);\n",
              "    box-shadow: 0 1px 2px rgba(60, 64, 67, 0.3), 0 1px 3px 1px rgba(60, 64, 67, 0.15);\n",
              "    fill: var(--button-hover-fill-color);\n",
              "  }\n",
              "\n",
              "  .colab-df-quickchart-complete:disabled,\n",
              "  .colab-df-quickchart-complete:disabled:hover {\n",
              "    background-color: var(--disabled-bg-color);\n",
              "    fill: var(--disabled-fill-color);\n",
              "    box-shadow: none;\n",
              "  }\n",
              "\n",
              "  .colab-df-spinner {\n",
              "    border: 2px solid var(--fill-color);\n",
              "    border-color: transparent;\n",
              "    border-bottom-color: var(--fill-color);\n",
              "    animation:\n",
              "      spin 1s steps(1) infinite;\n",
              "  }\n",
              "\n",
              "  @keyframes spin {\n",
              "    0% {\n",
              "      border-color: transparent;\n",
              "      border-bottom-color: var(--fill-color);\n",
              "      border-left-color: var(--fill-color);\n",
              "    }\n",
              "    20% {\n",
              "      border-color: transparent;\n",
              "      border-left-color: var(--fill-color);\n",
              "      border-top-color: var(--fill-color);\n",
              "    }\n",
              "    30% {\n",
              "      border-color: transparent;\n",
              "      border-left-color: var(--fill-color);\n",
              "      border-top-color: var(--fill-color);\n",
              "      border-right-color: var(--fill-color);\n",
              "    }\n",
              "    40% {\n",
              "      border-color: transparent;\n",
              "      border-right-color: var(--fill-color);\n",
              "      border-top-color: var(--fill-color);\n",
              "    }\n",
              "    60% {\n",
              "      border-color: transparent;\n",
              "      border-right-color: var(--fill-color);\n",
              "    }\n",
              "    80% {\n",
              "      border-color: transparent;\n",
              "      border-right-color: var(--fill-color);\n",
              "      border-bottom-color: var(--fill-color);\n",
              "    }\n",
              "    90% {\n",
              "      border-color: transparent;\n",
              "      border-bottom-color: var(--fill-color);\n",
              "    }\n",
              "  }\n",
              "</style>\n",
              "\n",
              "  <script>\n",
              "    async function quickchart(key) {\n",
              "      const quickchartButtonEl =\n",
              "        document.querySelector('#' + key + ' button');\n",
              "      quickchartButtonEl.disabled = true;  // To prevent multiple clicks.\n",
              "      quickchartButtonEl.classList.add('colab-df-spinner');\n",
              "      try {\n",
              "        const charts = await google.colab.kernel.invokeFunction(\n",
              "            'suggestCharts', [key], {});\n",
              "      } catch (error) {\n",
              "        console.error('Error during call to suggestCharts:', error);\n",
              "      }\n",
              "      quickchartButtonEl.classList.remove('colab-df-spinner');\n",
              "      quickchartButtonEl.classList.add('colab-df-quickchart-complete');\n",
              "    }\n",
              "    (() => {\n",
              "      let quickchartButtonEl =\n",
              "        document.querySelector('#df-9a60a14f-6881-4d25-91ff-18931338bd13 button');\n",
              "      quickchartButtonEl.style.display =\n",
              "        google.colab.kernel.accessAllowed ? 'block' : 'none';\n",
              "    })();\n",
              "  </script>\n",
              "</div>\n",
              "    </div>\n",
              "  </div>\n"
            ]
          },
          "metadata": {},
          "execution_count": 175
        }
      ]
    },
    {
      "cell_type": "code",
      "source": [
        "df2_test['polarity'][df2_test[\"polarity\"] == 'negative'] = 0\n",
        "df2_test['polarity'][df2_test[\"polarity\"] == 'positive'] = 1\n",
        "\n"
      ],
      "metadata": {
        "id": "85h1lXLo3K5C",
        "colab": {
          "base_uri": "https://localhost:8080/"
        },
        "outputId": "74577c78-0be3-4570-a734-9178c7cadef1"
      },
      "execution_count": 176,
      "outputs": [
        {
          "output_type": "stream",
          "name": "stderr",
          "text": [
            "<ipython-input-176-5dfe2b17fbcd>:2: SettingWithCopyWarning: \n",
            "A value is trying to be set on a copy of a slice from a DataFrame\n",
            "\n",
            "See the caveats in the documentation: https://pandas.pydata.org/pandas-docs/stable/user_guide/indexing.html#returning-a-view-versus-a-copy\n",
            "  df2_test['polarity'][df2_test[\"polarity\"] == 'positive'] = 1\n"
          ]
        }
      ]
    },
    {
      "cell_type": "code",
      "source": [],
      "metadata": {
        "id": "YdZQuZP-36d7"
      },
      "execution_count": 176,
      "outputs": []
    },
    {
      "cell_type": "code",
      "source": [
        "X_test = df2_test"
      ],
      "metadata": {
        "id": "Yzl2Sy2K3M7o"
      },
      "execution_count": 177,
      "outputs": []
    },
    {
      "cell_type": "code",
      "source": [
        "## Convert polarity Values to Integers\n",
        "X_test[\"polarity\"] = pd.to_numeric(X_test[\"polarity\"],errors='coerce')\n"
      ],
      "metadata": {
        "id": "TcHDvrOW3Ot7"
      },
      "execution_count": 178,
      "outputs": []
    },
    {
      "cell_type": "code",
      "source": [
        "y_test = X_test[\"polarity\"]"
      ],
      "metadata": {
        "id": "fHYeWtPz3XV0"
      },
      "execution_count": 179,
      "outputs": []
    },
    {
      "cell_type": "code",
      "source": [
        "tokenizer = Tokenizer(num_words=NUM_WORDS,\n",
        "                      filters='!\"#$%&()*+,-./:;<=>?@[\\\\]^_`{|}~\\t\\n',\n",
        "                      lower=True, )\n",
        "## Fit_on_texts : Updates internal vocabulary based on a list of texts.\n",
        "tokenizer.fit_on_texts(list(X_train.Text))\n",
        "text_X_test_tokenized = tokenizer.texts_to_sequences(X_test.sentence) # list of tokenized sentences\n",
        "Aspect_X_test_tokenized = tokenizer.texts_to_sequences(X_test['aspect_term']) # list of tokenized sentences\n"
      ],
      "metadata": {
        "id": "D8W2GVUP56h4"
      },
      "execution_count": 180,
      "outputs": []
    },
    {
      "cell_type": "code",
      "source": [
        "## Pads sequences(or sentences) to the same length.\n",
        "\n",
        "\n",
        "\n",
        "text_X_test_padded = pad_sequences(text_X_test_tokenized, maxlen=Max_Len)\n",
        "aspect_X_test_padded = pad_sequences(Aspect_X_test_tokenized, maxlen=1)\n"
      ],
      "metadata": {
        "id": "yqtRoPFO3bhT"
      },
      "execution_count": 181,
      "outputs": []
    },
    {
      "cell_type": "code",
      "source": [
        "test_data =   [text_X_test_padded,aspect_X_test_padded]\n"
      ],
      "metadata": {
        "id": "XzBfpeO-6AZG"
      },
      "execution_count": 182,
      "outputs": []
    },
    {
      "cell_type": "code",
      "source": [
        "print(\"Evaluate on test data\")\n",
        "results = atae_lstm_model.evaluate(x = test_data , y = y_test )\n",
        "print(\"test loss, test acc:\", results)\n",
        "print(\"Accuracy of the model is - \" , results[1]*100 , \"%\")"
      ],
      "metadata": {
        "colab": {
          "base_uri": "https://localhost:8080/"
        },
        "id": "mN2to2Lg3c5J",
        "outputId": "3fc88bcf-6b24-4791-f07e-2d439a076667"
      },
      "execution_count": 183,
      "outputs": [
        {
          "output_type": "stream",
          "name": "stdout",
          "text": [
            "Evaluate on test data\n",
            "10/10 [==============================] - 0s 12ms/step - loss: 0.9648 - accuracy: 0.7749\n",
            "test loss, test acc: [0.9648275375366211, 0.7749196290969849]\n",
            "Accuracy of the model is -  77.49196290969849 %\n"
          ]
        }
      ]
    },
    {
      "cell_type": "markdown",
      "source": [
        "##CROSS VALIDATE ON MAMS"
      ],
      "metadata": {
        "id": "lwg5Z52M7dbY"
      }
    },
    {
      "cell_type": "code",
      "source": [
        "df2_test = pd.read_csv(\"/content/drive/MyDrive/ABSA work/codes/processed_MAMS/ATSA_test_single.csv\", encoding='utf8')"
      ],
      "metadata": {
        "id": "iIz_VsQW5Lhf"
      },
      "execution_count": 184,
      "outputs": []
    },
    {
      "cell_type": "code",
      "source": [
        "df2_test['polarity'][df2_test[\"polarity\"] == 'negative'] = 0\n",
        "df2_test['polarity'][df2_test[\"polarity\"] == 'positive'] = 1\n",
        "df2_test['polarity'][df2_test[\"polarity\"] == 'neutral'] = 2"
      ],
      "metadata": {
        "id": "Iv4LiJ418a0t"
      },
      "execution_count": 185,
      "outputs": []
    },
    {
      "cell_type": "code",
      "source": [
        "df2_test"
      ],
      "metadata": {
        "colab": {
          "base_uri": "https://localhost:8080/",
          "height": 424
        },
        "id": "AEbGKcBEQaT7",
        "outputId": "c62c6259-a037-4ec5-ac77-eec22a1080ee"
      },
      "execution_count": 186,
      "outputs": [
        {
          "output_type": "execute_result",
          "data": {
            "text/plain": [
              "                                               sentence      aspect_terms  \\\n",
              "0     The food was served promptly but the meal wasn...              food   \n",
              "1     The food was served promptly but the meal wasn...            served   \n",
              "2     The food was served promptly but the meal wasn...        appetizers   \n",
              "3     When I got home, there was a message on the ma...             owner   \n",
              "4     When I got home, there was a message on the ma...          waitress   \n",
              "...                                                 ...               ...   \n",
              "1331  Pair you food with the excellent beers on tap ...  priced wine list   \n",
              "1332  They were out of Hennessy, Alize, Mojitos, Pin...           Mojitos   \n",
              "1333  They were out of Hennessy, Alize, Mojitos, Pin...             Pinot   \n",
              "1334  They were out of Hennessy, Alize, Mojitos, Pin...        drink list   \n",
              "1335  They were out of Hennessy, Alize, Mojitos, Pin...            drinks   \n",
              "\n",
              "     polarity  \n",
              "0           2  \n",
              "1           1  \n",
              "2           1  \n",
              "3           2  \n",
              "4           0  \n",
              "...       ...  \n",
              "1331        1  \n",
              "1332        2  \n",
              "1333        2  \n",
              "1334        0  \n",
              "1335        0  \n",
              "\n",
              "[1336 rows x 3 columns]"
            ],
            "text/html": [
              "\n",
              "  <div id=\"df-e6a439be-0487-4551-9fe1-e200b3c61477\" class=\"colab-df-container\">\n",
              "    <div>\n",
              "<style scoped>\n",
              "    .dataframe tbody tr th:only-of-type {\n",
              "        vertical-align: middle;\n",
              "    }\n",
              "\n",
              "    .dataframe tbody tr th {\n",
              "        vertical-align: top;\n",
              "    }\n",
              "\n",
              "    .dataframe thead th {\n",
              "        text-align: right;\n",
              "    }\n",
              "</style>\n",
              "<table border=\"1\" class=\"dataframe\">\n",
              "  <thead>\n",
              "    <tr style=\"text-align: right;\">\n",
              "      <th></th>\n",
              "      <th>sentence</th>\n",
              "      <th>aspect_terms</th>\n",
              "      <th>polarity</th>\n",
              "    </tr>\n",
              "  </thead>\n",
              "  <tbody>\n",
              "    <tr>\n",
              "      <th>0</th>\n",
              "      <td>The food was served promptly but the meal wasn...</td>\n",
              "      <td>food</td>\n",
              "      <td>2</td>\n",
              "    </tr>\n",
              "    <tr>\n",
              "      <th>1</th>\n",
              "      <td>The food was served promptly but the meal wasn...</td>\n",
              "      <td>served</td>\n",
              "      <td>1</td>\n",
              "    </tr>\n",
              "    <tr>\n",
              "      <th>2</th>\n",
              "      <td>The food was served promptly but the meal wasn...</td>\n",
              "      <td>appetizers</td>\n",
              "      <td>1</td>\n",
              "    </tr>\n",
              "    <tr>\n",
              "      <th>3</th>\n",
              "      <td>When I got home, there was a message on the ma...</td>\n",
              "      <td>owner</td>\n",
              "      <td>2</td>\n",
              "    </tr>\n",
              "    <tr>\n",
              "      <th>4</th>\n",
              "      <td>When I got home, there was a message on the ma...</td>\n",
              "      <td>waitress</td>\n",
              "      <td>0</td>\n",
              "    </tr>\n",
              "    <tr>\n",
              "      <th>...</th>\n",
              "      <td>...</td>\n",
              "      <td>...</td>\n",
              "      <td>...</td>\n",
              "    </tr>\n",
              "    <tr>\n",
              "      <th>1331</th>\n",
              "      <td>Pair you food with the excellent beers on tap ...</td>\n",
              "      <td>priced wine list</td>\n",
              "      <td>1</td>\n",
              "    </tr>\n",
              "    <tr>\n",
              "      <th>1332</th>\n",
              "      <td>They were out of Hennessy, Alize, Mojitos, Pin...</td>\n",
              "      <td>Mojitos</td>\n",
              "      <td>2</td>\n",
              "    </tr>\n",
              "    <tr>\n",
              "      <th>1333</th>\n",
              "      <td>They were out of Hennessy, Alize, Mojitos, Pin...</td>\n",
              "      <td>Pinot</td>\n",
              "      <td>2</td>\n",
              "    </tr>\n",
              "    <tr>\n",
              "      <th>1334</th>\n",
              "      <td>They were out of Hennessy, Alize, Mojitos, Pin...</td>\n",
              "      <td>drink list</td>\n",
              "      <td>0</td>\n",
              "    </tr>\n",
              "    <tr>\n",
              "      <th>1335</th>\n",
              "      <td>They were out of Hennessy, Alize, Mojitos, Pin...</td>\n",
              "      <td>drinks</td>\n",
              "      <td>0</td>\n",
              "    </tr>\n",
              "  </tbody>\n",
              "</table>\n",
              "<p>1336 rows × 3 columns</p>\n",
              "</div>\n",
              "    <div class=\"colab-df-buttons\">\n",
              "\n",
              "  <div class=\"colab-df-container\">\n",
              "    <button class=\"colab-df-convert\" onclick=\"convertToInteractive('df-e6a439be-0487-4551-9fe1-e200b3c61477')\"\n",
              "            title=\"Convert this dataframe to an interactive table.\"\n",
              "            style=\"display:none;\">\n",
              "\n",
              "  <svg xmlns=\"http://www.w3.org/2000/svg\" height=\"24px\" viewBox=\"0 -960 960 960\">\n",
              "    <path d=\"M120-120v-720h720v720H120Zm60-500h600v-160H180v160Zm220 220h160v-160H400v160Zm0 220h160v-160H400v160ZM180-400h160v-160H180v160Zm440 0h160v-160H620v160ZM180-180h160v-160H180v160Zm440 0h160v-160H620v160Z\"/>\n",
              "  </svg>\n",
              "    </button>\n",
              "\n",
              "  <style>\n",
              "    .colab-df-container {\n",
              "      display:flex;\n",
              "      gap: 12px;\n",
              "    }\n",
              "\n",
              "    .colab-df-convert {\n",
              "      background-color: #E8F0FE;\n",
              "      border: none;\n",
              "      border-radius: 50%;\n",
              "      cursor: pointer;\n",
              "      display: none;\n",
              "      fill: #1967D2;\n",
              "      height: 32px;\n",
              "      padding: 0 0 0 0;\n",
              "      width: 32px;\n",
              "    }\n",
              "\n",
              "    .colab-df-convert:hover {\n",
              "      background-color: #E2EBFA;\n",
              "      box-shadow: 0px 1px 2px rgba(60, 64, 67, 0.3), 0px 1px 3px 1px rgba(60, 64, 67, 0.15);\n",
              "      fill: #174EA6;\n",
              "    }\n",
              "\n",
              "    .colab-df-buttons div {\n",
              "      margin-bottom: 4px;\n",
              "    }\n",
              "\n",
              "    [theme=dark] .colab-df-convert {\n",
              "      background-color: #3B4455;\n",
              "      fill: #D2E3FC;\n",
              "    }\n",
              "\n",
              "    [theme=dark] .colab-df-convert:hover {\n",
              "      background-color: #434B5C;\n",
              "      box-shadow: 0px 1px 3px 1px rgba(0, 0, 0, 0.15);\n",
              "      filter: drop-shadow(0px 1px 2px rgba(0, 0, 0, 0.3));\n",
              "      fill: #FFFFFF;\n",
              "    }\n",
              "  </style>\n",
              "\n",
              "    <script>\n",
              "      const buttonEl =\n",
              "        document.querySelector('#df-e6a439be-0487-4551-9fe1-e200b3c61477 button.colab-df-convert');\n",
              "      buttonEl.style.display =\n",
              "        google.colab.kernel.accessAllowed ? 'block' : 'none';\n",
              "\n",
              "      async function convertToInteractive(key) {\n",
              "        const element = document.querySelector('#df-e6a439be-0487-4551-9fe1-e200b3c61477');\n",
              "        const dataTable =\n",
              "          await google.colab.kernel.invokeFunction('convertToInteractive',\n",
              "                                                    [key], {});\n",
              "        if (!dataTable) return;\n",
              "\n",
              "        const docLinkHtml = 'Like what you see? Visit the ' +\n",
              "          '<a target=\"_blank\" href=https://colab.research.google.com/notebooks/data_table.ipynb>data table notebook</a>'\n",
              "          + ' to learn more about interactive tables.';\n",
              "        element.innerHTML = '';\n",
              "        dataTable['output_type'] = 'display_data';\n",
              "        await google.colab.output.renderOutput(dataTable, element);\n",
              "        const docLink = document.createElement('div');\n",
              "        docLink.innerHTML = docLinkHtml;\n",
              "        element.appendChild(docLink);\n",
              "      }\n",
              "    </script>\n",
              "  </div>\n",
              "\n",
              "\n",
              "<div id=\"df-fc0e0e35-2eec-4839-a01e-428614e835e0\">\n",
              "  <button class=\"colab-df-quickchart\" onclick=\"quickchart('df-fc0e0e35-2eec-4839-a01e-428614e835e0')\"\n",
              "            title=\"Suggest charts.\"\n",
              "            style=\"display:none;\">\n",
              "\n",
              "<svg xmlns=\"http://www.w3.org/2000/svg\" height=\"24px\"viewBox=\"0 0 24 24\"\n",
              "     width=\"24px\">\n",
              "    <g>\n",
              "        <path d=\"M19 3H5c-1.1 0-2 .9-2 2v14c0 1.1.9 2 2 2h14c1.1 0 2-.9 2-2V5c0-1.1-.9-2-2-2zM9 17H7v-7h2v7zm4 0h-2V7h2v10zm4 0h-2v-4h2v4z\"/>\n",
              "    </g>\n",
              "</svg>\n",
              "  </button>\n",
              "\n",
              "<style>\n",
              "  .colab-df-quickchart {\n",
              "      --bg-color: #E8F0FE;\n",
              "      --fill-color: #1967D2;\n",
              "      --hover-bg-color: #E2EBFA;\n",
              "      --hover-fill-color: #174EA6;\n",
              "      --disabled-fill-color: #AAA;\n",
              "      --disabled-bg-color: #DDD;\n",
              "  }\n",
              "\n",
              "  [theme=dark] .colab-df-quickchart {\n",
              "      --bg-color: #3B4455;\n",
              "      --fill-color: #D2E3FC;\n",
              "      --hover-bg-color: #434B5C;\n",
              "      --hover-fill-color: #FFFFFF;\n",
              "      --disabled-bg-color: #3B4455;\n",
              "      --disabled-fill-color: #666;\n",
              "  }\n",
              "\n",
              "  .colab-df-quickchart {\n",
              "    background-color: var(--bg-color);\n",
              "    border: none;\n",
              "    border-radius: 50%;\n",
              "    cursor: pointer;\n",
              "    display: none;\n",
              "    fill: var(--fill-color);\n",
              "    height: 32px;\n",
              "    padding: 0;\n",
              "    width: 32px;\n",
              "  }\n",
              "\n",
              "  .colab-df-quickchart:hover {\n",
              "    background-color: var(--hover-bg-color);\n",
              "    box-shadow: 0 1px 2px rgba(60, 64, 67, 0.3), 0 1px 3px 1px rgba(60, 64, 67, 0.15);\n",
              "    fill: var(--button-hover-fill-color);\n",
              "  }\n",
              "\n",
              "  .colab-df-quickchart-complete:disabled,\n",
              "  .colab-df-quickchart-complete:disabled:hover {\n",
              "    background-color: var(--disabled-bg-color);\n",
              "    fill: var(--disabled-fill-color);\n",
              "    box-shadow: none;\n",
              "  }\n",
              "\n",
              "  .colab-df-spinner {\n",
              "    border: 2px solid var(--fill-color);\n",
              "    border-color: transparent;\n",
              "    border-bottom-color: var(--fill-color);\n",
              "    animation:\n",
              "      spin 1s steps(1) infinite;\n",
              "  }\n",
              "\n",
              "  @keyframes spin {\n",
              "    0% {\n",
              "      border-color: transparent;\n",
              "      border-bottom-color: var(--fill-color);\n",
              "      border-left-color: var(--fill-color);\n",
              "    }\n",
              "    20% {\n",
              "      border-color: transparent;\n",
              "      border-left-color: var(--fill-color);\n",
              "      border-top-color: var(--fill-color);\n",
              "    }\n",
              "    30% {\n",
              "      border-color: transparent;\n",
              "      border-left-color: var(--fill-color);\n",
              "      border-top-color: var(--fill-color);\n",
              "      border-right-color: var(--fill-color);\n",
              "    }\n",
              "    40% {\n",
              "      border-color: transparent;\n",
              "      border-right-color: var(--fill-color);\n",
              "      border-top-color: var(--fill-color);\n",
              "    }\n",
              "    60% {\n",
              "      border-color: transparent;\n",
              "      border-right-color: var(--fill-color);\n",
              "    }\n",
              "    80% {\n",
              "      border-color: transparent;\n",
              "      border-right-color: var(--fill-color);\n",
              "      border-bottom-color: var(--fill-color);\n",
              "    }\n",
              "    90% {\n",
              "      border-color: transparent;\n",
              "      border-bottom-color: var(--fill-color);\n",
              "    }\n",
              "  }\n",
              "</style>\n",
              "\n",
              "  <script>\n",
              "    async function quickchart(key) {\n",
              "      const quickchartButtonEl =\n",
              "        document.querySelector('#' + key + ' button');\n",
              "      quickchartButtonEl.disabled = true;  // To prevent multiple clicks.\n",
              "      quickchartButtonEl.classList.add('colab-df-spinner');\n",
              "      try {\n",
              "        const charts = await google.colab.kernel.invokeFunction(\n",
              "            'suggestCharts', [key], {});\n",
              "      } catch (error) {\n",
              "        console.error('Error during call to suggestCharts:', error);\n",
              "      }\n",
              "      quickchartButtonEl.classList.remove('colab-df-spinner');\n",
              "      quickchartButtonEl.classList.add('colab-df-quickchart-complete');\n",
              "    }\n",
              "    (() => {\n",
              "      let quickchartButtonEl =\n",
              "        document.querySelector('#df-fc0e0e35-2eec-4839-a01e-428614e835e0 button');\n",
              "      quickchartButtonEl.style.display =\n",
              "        google.colab.kernel.accessAllowed ? 'block' : 'none';\n",
              "    })();\n",
              "  </script>\n",
              "</div>\n",
              "    </div>\n",
              "  </div>\n"
            ]
          },
          "metadata": {},
          "execution_count": 186
        }
      ]
    },
    {
      "cell_type": "code",
      "source": [
        "X_test = df2_test"
      ],
      "metadata": {
        "id": "boVio6S-8iy2"
      },
      "execution_count": 187,
      "outputs": []
    },
    {
      "cell_type": "code",
      "source": [
        "## Convert polarity Values to Integers\n",
        "X_test[\"polarity\"] = pd.to_numeric(X_test[\"polarity\"],errors='coerce')\n"
      ],
      "metadata": {
        "id": "d6RSATyt8kiB"
      },
      "execution_count": 188,
      "outputs": []
    },
    {
      "cell_type": "code",
      "source": [
        "y_test = X_test[\"polarity\"]"
      ],
      "metadata": {
        "id": "KfuGN3py8mUW"
      },
      "execution_count": 189,
      "outputs": []
    },
    {
      "cell_type": "code",
      "source": [
        "tokenizer = Tokenizer(num_words=NUM_WORDS,\n",
        "                      filters='!\"#$%&()*+,-./:;<=>?@[\\\\]^_`{|}~\\t\\n',\n",
        "                      lower=True, )\n",
        "## Fit_on_texts : Updates internal vocabulary based on a list of texts.\n",
        "tokenizer.fit_on_texts(list(X_train.Text))\n",
        "text_X_test_tokenized = tokenizer.texts_to_sequences(X_test.sentence) # list of tokenized sentences\n",
        "Aspect_X_test_tokenized = tokenizer.texts_to_sequences(X_test['aspect_terms']) # list of tokenized sentences\n"
      ],
      "metadata": {
        "id": "vdCtE8mj8okA"
      },
      "execution_count": 190,
      "outputs": []
    },
    {
      "cell_type": "code",
      "source": [
        "## Pads sequences(or sentences) to the same length.\n",
        "\n",
        "\n",
        "\n",
        "text_X_test_padded = pad_sequences(text_X_test_tokenized, maxlen=Max_Len)\n",
        "aspect_X_test_padded = pad_sequences(Aspect_X_test_tokenized, maxlen=1)\n"
      ],
      "metadata": {
        "id": "9h_B9TmH8qhu"
      },
      "execution_count": 191,
      "outputs": []
    },
    {
      "cell_type": "code",
      "source": [
        "test_data =   [text_X_test_padded,aspect_X_test_padded]\n"
      ],
      "metadata": {
        "id": "wdl3X1oJ8sKz"
      },
      "execution_count": 192,
      "outputs": []
    },
    {
      "cell_type": "code",
      "source": [
        "print(\"Evaluate on test data\")\n",
        "results = atae_lstm_model.evaluate(x = test_data , y = y_test )\n",
        "print(\"test loss, test acc:\", results)\n",
        "print(\"Accuracy of the model is - \" , results[1]*100 , \"%\")"
      ],
      "metadata": {
        "colab": {
          "base_uri": "https://localhost:8080/"
        },
        "id": "ROXWnfDR8uIb",
        "outputId": "fc7fb294-3d11-4a8f-f52f-745dabbe89bc"
      },
      "execution_count": 193,
      "outputs": [
        {
          "output_type": "stream",
          "name": "stdout",
          "text": [
            "Evaluate on test data\n",
            "42/42 [==============================] - 0s 11ms/step - loss: 3.3415 - accuracy: 0.3076\n",
            "test loss, test acc: [3.3414506912231445, 0.30763474106788635]\n",
            "Accuracy of the model is -  30.763474106788635 %\n"
          ]
        }
      ]
    },
    {
      "cell_type": "code",
      "source": [],
      "metadata": {
        "id": "2ZbWsErYLPq5"
      },
      "execution_count": 193,
      "outputs": []
    },
    {
      "cell_type": "markdown",
      "source": [
        "##CROSS VALIDATE ON SENTIHOOD DATASET\n"
      ],
      "metadata": {
        "id": "y9FDvQeaLQYL"
      }
    },
    {
      "cell_type": "code",
      "source": [
        "df2_test = pd.read_csv(\"/content/drive/MyDrive/ABSA work/codes/processed_Sentihood/sentihood_test_single.csv\", encoding='utf8')"
      ],
      "metadata": {
        "id": "HuoJIastLQYN"
      },
      "execution_count": 194,
      "outputs": []
    },
    {
      "cell_type": "code",
      "source": [
        "\n",
        "df2_test.drop(columns=['to' , 'from'], inplace=True)"
      ],
      "metadata": {
        "id": "GQQ9qegaLQYN"
      },
      "execution_count": 195,
      "outputs": []
    },
    {
      "cell_type": "code",
      "source": [
        "df2_test['polarity'][df2_test[\"polarity\"] == 'negative'] = 0\n",
        "df2_test['polarity'][df2_test[\"polarity\"] == 'positive'] = 1\n"
      ],
      "metadata": {
        "colab": {
          "base_uri": "https://localhost:8080/"
        },
        "outputId": "500528c8-1485-4d26-b855-265cd3868870",
        "id": "Eh6nJCdCLQYO"
      },
      "execution_count": 196,
      "outputs": [
        {
          "output_type": "stream",
          "name": "stderr",
          "text": [
            "<ipython-input-196-27e789cd0644>:1: SettingWithCopyWarning: \n",
            "A value is trying to be set on a copy of a slice from a DataFrame\n",
            "\n",
            "See the caveats in the documentation: https://pandas.pydata.org/pandas-docs/stable/user_guide/indexing.html#returning-a-view-versus-a-copy\n",
            "  df2_test['polarity'][df2_test[\"polarity\"] == 'negative'] = 0\n",
            "<ipython-input-196-27e789cd0644>:2: SettingWithCopyWarning: \n",
            "A value is trying to be set on a copy of a slice from a DataFrame\n",
            "\n",
            "See the caveats in the documentation: https://pandas.pydata.org/pandas-docs/stable/user_guide/indexing.html#returning-a-view-versus-a-copy\n",
            "  df2_test['polarity'][df2_test[\"polarity\"] == 'positive'] = 1\n"
          ]
        }
      ]
    },
    {
      "cell_type": "code",
      "source": [
        "X_test = df2_test"
      ],
      "metadata": {
        "id": "cYKvHpjULQYP"
      },
      "execution_count": 197,
      "outputs": []
    },
    {
      "cell_type": "code",
      "source": [
        "## Convert polarity Values to Integers\n",
        "X_test[\"polarity\"] = pd.to_numeric(X_test[\"polarity\"],errors='coerce')\n"
      ],
      "metadata": {
        "id": "IYiTk6pBLQYQ"
      },
      "execution_count": 198,
      "outputs": []
    },
    {
      "cell_type": "code",
      "source": [
        "y_test = X_test[\"polarity\"]"
      ],
      "metadata": {
        "id": "WZHkx6wmLQYR"
      },
      "execution_count": 199,
      "outputs": []
    },
    {
      "cell_type": "code",
      "source": [],
      "metadata": {
        "id": "9Ydov4__Lf39"
      },
      "execution_count": 199,
      "outputs": []
    },
    {
      "cell_type": "code",
      "source": [
        "tokenizer = Tokenizer(num_words=NUM_WORDS,\n",
        "                      filters='!\"#$%&()*+,-./:;<=>?@[\\\\]^_`{|}~\\t\\n',\n",
        "                      lower=True, )\n",
        "## Fit_on_texts : Updates internal vocabulary based on a list of texts.\n",
        "tokenizer.fit_on_texts(list(X_train.Text))\n",
        "text_X_test_tokenized = tokenizer.texts_to_sequences(X_test.sentence) # list of tokenized sentences\n",
        "Aspect_X_test_tokenized = tokenizer.texts_to_sequences(X_test['aspect_term']) # list of tokenized sentences\n"
      ],
      "metadata": {
        "id": "o2uSonKJLgIV"
      },
      "execution_count": 200,
      "outputs": []
    },
    {
      "cell_type": "code",
      "source": [
        "## Pads sequences(or sentences) to the same length.\n",
        "\n",
        "\n",
        "\n",
        "text_X_test_padded = pad_sequences(text_X_test_tokenized, maxlen=Max_Len)\n",
        "aspect_X_test_padded = pad_sequences(Aspect_X_test_tokenized, maxlen=1)\n"
      ],
      "metadata": {
        "id": "oH7pdpGJLgIW"
      },
      "execution_count": 201,
      "outputs": []
    },
    {
      "cell_type": "code",
      "source": [
        "test_data =   [text_X_test_padded,aspect_X_test_padded]\n"
      ],
      "metadata": {
        "id": "WzoFFWSTLgIX"
      },
      "execution_count": 202,
      "outputs": []
    },
    {
      "cell_type": "code",
      "source": [
        "\n",
        "print(\"Evaluate on test data\")\n",
        "results = atae_lstm_model.evaluate(x = test_data , y = y_test )\n",
        "print(\"test loss, test acc:\", results)\n",
        "print(\"Accuracy of the model is - \" , results[1]*100 , \"%\")\n"
      ],
      "metadata": {
        "colab": {
          "base_uri": "https://localhost:8080/"
        },
        "outputId": "dd6ac5dc-f00f-4b94-c355-81a1749fe598",
        "id": "6JmCaOwoLgIX"
      },
      "execution_count": 203,
      "outputs": [
        {
          "output_type": "stream",
          "name": "stdout",
          "text": [
            "Evaluate on test data\n",
            "53/53 [==============================] - 1s 9ms/step - loss: 1.4650 - accuracy: 0.7242\n",
            "test loss, test acc: [1.4649771451950073, 0.7242406010627747]\n",
            "Accuracy of the model is -  72.42406010627747 %\n"
          ]
        }
      ]
    },
    {
      "cell_type": "markdown",
      "source": [
        "##CROSS VALIDATE ON DOTSA BOOKS"
      ],
      "metadata": {
        "id": "tYlcx0nIHE0l"
      }
    },
    {
      "cell_type": "code",
      "source": [
        "df2_test = pd.read_csv(\"/content/drive/MyDrive/ABSA work/codes/processed_dotsa/new_Books_test.csv\", encoding='utf8')"
      ],
      "metadata": {
        "id": "ka1enDMNG8I7"
      },
      "execution_count": 204,
      "outputs": []
    },
    {
      "cell_type": "code",
      "source": [
        "train1 = []\n",
        "test1 = []\n",
        "val1 = []\n",
        "\n",
        "def dataset1(data , list1):\n",
        "  for text, aspects, sentiments in zip(data['Text'], data['Aspect'], data['Sentiment']):\n",
        "    aspect_list = aspects.split(', ')\n",
        "    sentiment_list = sentiments.split(', ')\n",
        "\n",
        "    for aspect, sentiment in zip(aspect_list, sentiment_list):\n",
        "      if \", \" in aspect:\n",
        "        sub_aspects = aspect.split(\", \")\n",
        "        for sub_aspect in sub_aspects:\n",
        "          list1.append({'Text': text, 'Aspect': sub_aspect, 'Sentiment': sentiment})\n",
        "      else:\n",
        "        list1.append({'Text': text, 'Aspect': aspect, 'Sentiment': sentiment})\n",
        "\n",
        "  return list1\n",
        "\n",
        "te1 = dataset1(df2_test , test1)\n",
        "\n",
        "# Create a new dataframe from the expanded data\n",
        "\n",
        "test_df = pd.DataFrame(te1)\n",
        "\n",
        "\n"
      ],
      "metadata": {
        "id": "wTf_O6818y05"
      },
      "execution_count": 205,
      "outputs": []
    },
    {
      "cell_type": "code",
      "source": [
        "## change the labels to integers for the training phase\n",
        "test_df['Sentiment'][test_df[\"Sentiment\"] == 'Negative'] = 0\n",
        "test_df['Sentiment'][test_df[\"Sentiment\"] == 'Positive'] = 1\n",
        "test_df['Sentiment'][test_df[\"Sentiment\"] == 'Mixed'] = 2\n",
        "\n"
      ],
      "metadata": {
        "id": "tFWPYx4WIPSB"
      },
      "execution_count": 206,
      "outputs": []
    },
    {
      "cell_type": "code",
      "source": [
        "test_df"
      ],
      "metadata": {
        "colab": {
          "base_uri": "https://localhost:8080/",
          "height": 424
        },
        "id": "da--W3MZRIEU",
        "outputId": "380cdf2c-c9fb-4048-d90c-eeed33466e24"
      },
      "execution_count": 207,
      "outputs": [
        {
          "output_type": "execute_result",
          "data": {
            "text/plain": [
              "                                                  Text          Aspect  \\\n",
              "0    This story is one of too many heartbreaking st...           story   \n",
              "1    Good Faye Kellerman ! ! ! She manages to keep ...  Faye Kellerman   \n",
              "2    Good Faye Kellerman ! ! ! She manages to keep ...      characters   \n",
              "3    Good Faye Kellerman ! ! ! She manages to keep ...              it   \n",
              "4    Good book on cancer -- a little longer than I ...            book   \n",
              "..                                                 ...             ...   \n",
              "363  This was my first experience reading a Faye Ke...              it   \n",
              "364  This was my first experience reading a Faye Ke...       it--story   \n",
              "365  This was my first experience reading a Faye Ke...        it--plot   \n",
              "366  This was my first experience reading a Faye Ke...  it--characters   \n",
              "367  A must read for all medical professionals , an...            read   \n",
              "\n",
              "    Sentiment  \n",
              "0           2  \n",
              "1           1  \n",
              "2           1  \n",
              "3           1  \n",
              "4           1  \n",
              "..        ...  \n",
              "363         2  \n",
              "364         1  \n",
              "365         0  \n",
              "366         1  \n",
              "367         1  \n",
              "\n",
              "[368 rows x 3 columns]"
            ],
            "text/html": [
              "\n",
              "  <div id=\"df-b00b5d81-f2dc-4386-97cd-73a54765c707\" class=\"colab-df-container\">\n",
              "    <div>\n",
              "<style scoped>\n",
              "    .dataframe tbody tr th:only-of-type {\n",
              "        vertical-align: middle;\n",
              "    }\n",
              "\n",
              "    .dataframe tbody tr th {\n",
              "        vertical-align: top;\n",
              "    }\n",
              "\n",
              "    .dataframe thead th {\n",
              "        text-align: right;\n",
              "    }\n",
              "</style>\n",
              "<table border=\"1\" class=\"dataframe\">\n",
              "  <thead>\n",
              "    <tr style=\"text-align: right;\">\n",
              "      <th></th>\n",
              "      <th>Text</th>\n",
              "      <th>Aspect</th>\n",
              "      <th>Sentiment</th>\n",
              "    </tr>\n",
              "  </thead>\n",
              "  <tbody>\n",
              "    <tr>\n",
              "      <th>0</th>\n",
              "      <td>This story is one of too many heartbreaking st...</td>\n",
              "      <td>story</td>\n",
              "      <td>2</td>\n",
              "    </tr>\n",
              "    <tr>\n",
              "      <th>1</th>\n",
              "      <td>Good Faye Kellerman ! ! ! She manages to keep ...</td>\n",
              "      <td>Faye Kellerman</td>\n",
              "      <td>1</td>\n",
              "    </tr>\n",
              "    <tr>\n",
              "      <th>2</th>\n",
              "      <td>Good Faye Kellerman ! ! ! She manages to keep ...</td>\n",
              "      <td>characters</td>\n",
              "      <td>1</td>\n",
              "    </tr>\n",
              "    <tr>\n",
              "      <th>3</th>\n",
              "      <td>Good Faye Kellerman ! ! ! She manages to keep ...</td>\n",
              "      <td>it</td>\n",
              "      <td>1</td>\n",
              "    </tr>\n",
              "    <tr>\n",
              "      <th>4</th>\n",
              "      <td>Good book on cancer -- a little longer than I ...</td>\n",
              "      <td>book</td>\n",
              "      <td>1</td>\n",
              "    </tr>\n",
              "    <tr>\n",
              "      <th>...</th>\n",
              "      <td>...</td>\n",
              "      <td>...</td>\n",
              "      <td>...</td>\n",
              "    </tr>\n",
              "    <tr>\n",
              "      <th>363</th>\n",
              "      <td>This was my first experience reading a Faye Ke...</td>\n",
              "      <td>it</td>\n",
              "      <td>2</td>\n",
              "    </tr>\n",
              "    <tr>\n",
              "      <th>364</th>\n",
              "      <td>This was my first experience reading a Faye Ke...</td>\n",
              "      <td>it--story</td>\n",
              "      <td>1</td>\n",
              "    </tr>\n",
              "    <tr>\n",
              "      <th>365</th>\n",
              "      <td>This was my first experience reading a Faye Ke...</td>\n",
              "      <td>it--plot</td>\n",
              "      <td>0</td>\n",
              "    </tr>\n",
              "    <tr>\n",
              "      <th>366</th>\n",
              "      <td>This was my first experience reading a Faye Ke...</td>\n",
              "      <td>it--characters</td>\n",
              "      <td>1</td>\n",
              "    </tr>\n",
              "    <tr>\n",
              "      <th>367</th>\n",
              "      <td>A must read for all medical professionals , an...</td>\n",
              "      <td>read</td>\n",
              "      <td>1</td>\n",
              "    </tr>\n",
              "  </tbody>\n",
              "</table>\n",
              "<p>368 rows × 3 columns</p>\n",
              "</div>\n",
              "    <div class=\"colab-df-buttons\">\n",
              "\n",
              "  <div class=\"colab-df-container\">\n",
              "    <button class=\"colab-df-convert\" onclick=\"convertToInteractive('df-b00b5d81-f2dc-4386-97cd-73a54765c707')\"\n",
              "            title=\"Convert this dataframe to an interactive table.\"\n",
              "            style=\"display:none;\">\n",
              "\n",
              "  <svg xmlns=\"http://www.w3.org/2000/svg\" height=\"24px\" viewBox=\"0 -960 960 960\">\n",
              "    <path d=\"M120-120v-720h720v720H120Zm60-500h600v-160H180v160Zm220 220h160v-160H400v160Zm0 220h160v-160H400v160ZM180-400h160v-160H180v160Zm440 0h160v-160H620v160ZM180-180h160v-160H180v160Zm440 0h160v-160H620v160Z\"/>\n",
              "  </svg>\n",
              "    </button>\n",
              "\n",
              "  <style>\n",
              "    .colab-df-container {\n",
              "      display:flex;\n",
              "      gap: 12px;\n",
              "    }\n",
              "\n",
              "    .colab-df-convert {\n",
              "      background-color: #E8F0FE;\n",
              "      border: none;\n",
              "      border-radius: 50%;\n",
              "      cursor: pointer;\n",
              "      display: none;\n",
              "      fill: #1967D2;\n",
              "      height: 32px;\n",
              "      padding: 0 0 0 0;\n",
              "      width: 32px;\n",
              "    }\n",
              "\n",
              "    .colab-df-convert:hover {\n",
              "      background-color: #E2EBFA;\n",
              "      box-shadow: 0px 1px 2px rgba(60, 64, 67, 0.3), 0px 1px 3px 1px rgba(60, 64, 67, 0.15);\n",
              "      fill: #174EA6;\n",
              "    }\n",
              "\n",
              "    .colab-df-buttons div {\n",
              "      margin-bottom: 4px;\n",
              "    }\n",
              "\n",
              "    [theme=dark] .colab-df-convert {\n",
              "      background-color: #3B4455;\n",
              "      fill: #D2E3FC;\n",
              "    }\n",
              "\n",
              "    [theme=dark] .colab-df-convert:hover {\n",
              "      background-color: #434B5C;\n",
              "      box-shadow: 0px 1px 3px 1px rgba(0, 0, 0, 0.15);\n",
              "      filter: drop-shadow(0px 1px 2px rgba(0, 0, 0, 0.3));\n",
              "      fill: #FFFFFF;\n",
              "    }\n",
              "  </style>\n",
              "\n",
              "    <script>\n",
              "      const buttonEl =\n",
              "        document.querySelector('#df-b00b5d81-f2dc-4386-97cd-73a54765c707 button.colab-df-convert');\n",
              "      buttonEl.style.display =\n",
              "        google.colab.kernel.accessAllowed ? 'block' : 'none';\n",
              "\n",
              "      async function convertToInteractive(key) {\n",
              "        const element = document.querySelector('#df-b00b5d81-f2dc-4386-97cd-73a54765c707');\n",
              "        const dataTable =\n",
              "          await google.colab.kernel.invokeFunction('convertToInteractive',\n",
              "                                                    [key], {});\n",
              "        if (!dataTable) return;\n",
              "\n",
              "        const docLinkHtml = 'Like what you see? Visit the ' +\n",
              "          '<a target=\"_blank\" href=https://colab.research.google.com/notebooks/data_table.ipynb>data table notebook</a>'\n",
              "          + ' to learn more about interactive tables.';\n",
              "        element.innerHTML = '';\n",
              "        dataTable['output_type'] = 'display_data';\n",
              "        await google.colab.output.renderOutput(dataTable, element);\n",
              "        const docLink = document.createElement('div');\n",
              "        docLink.innerHTML = docLinkHtml;\n",
              "        element.appendChild(docLink);\n",
              "      }\n",
              "    </script>\n",
              "  </div>\n",
              "\n",
              "\n",
              "<div id=\"df-89867bff-3dfb-41fa-b590-5a0397d13b0d\">\n",
              "  <button class=\"colab-df-quickchart\" onclick=\"quickchart('df-89867bff-3dfb-41fa-b590-5a0397d13b0d')\"\n",
              "            title=\"Suggest charts.\"\n",
              "            style=\"display:none;\">\n",
              "\n",
              "<svg xmlns=\"http://www.w3.org/2000/svg\" height=\"24px\"viewBox=\"0 0 24 24\"\n",
              "     width=\"24px\">\n",
              "    <g>\n",
              "        <path d=\"M19 3H5c-1.1 0-2 .9-2 2v14c0 1.1.9 2 2 2h14c1.1 0 2-.9 2-2V5c0-1.1-.9-2-2-2zM9 17H7v-7h2v7zm4 0h-2V7h2v10zm4 0h-2v-4h2v4z\"/>\n",
              "    </g>\n",
              "</svg>\n",
              "  </button>\n",
              "\n",
              "<style>\n",
              "  .colab-df-quickchart {\n",
              "      --bg-color: #E8F0FE;\n",
              "      --fill-color: #1967D2;\n",
              "      --hover-bg-color: #E2EBFA;\n",
              "      --hover-fill-color: #174EA6;\n",
              "      --disabled-fill-color: #AAA;\n",
              "      --disabled-bg-color: #DDD;\n",
              "  }\n",
              "\n",
              "  [theme=dark] .colab-df-quickchart {\n",
              "      --bg-color: #3B4455;\n",
              "      --fill-color: #D2E3FC;\n",
              "      --hover-bg-color: #434B5C;\n",
              "      --hover-fill-color: #FFFFFF;\n",
              "      --disabled-bg-color: #3B4455;\n",
              "      --disabled-fill-color: #666;\n",
              "  }\n",
              "\n",
              "  .colab-df-quickchart {\n",
              "    background-color: var(--bg-color);\n",
              "    border: none;\n",
              "    border-radius: 50%;\n",
              "    cursor: pointer;\n",
              "    display: none;\n",
              "    fill: var(--fill-color);\n",
              "    height: 32px;\n",
              "    padding: 0;\n",
              "    width: 32px;\n",
              "  }\n",
              "\n",
              "  .colab-df-quickchart:hover {\n",
              "    background-color: var(--hover-bg-color);\n",
              "    box-shadow: 0 1px 2px rgba(60, 64, 67, 0.3), 0 1px 3px 1px rgba(60, 64, 67, 0.15);\n",
              "    fill: var(--button-hover-fill-color);\n",
              "  }\n",
              "\n",
              "  .colab-df-quickchart-complete:disabled,\n",
              "  .colab-df-quickchart-complete:disabled:hover {\n",
              "    background-color: var(--disabled-bg-color);\n",
              "    fill: var(--disabled-fill-color);\n",
              "    box-shadow: none;\n",
              "  }\n",
              "\n",
              "  .colab-df-spinner {\n",
              "    border: 2px solid var(--fill-color);\n",
              "    border-color: transparent;\n",
              "    border-bottom-color: var(--fill-color);\n",
              "    animation:\n",
              "      spin 1s steps(1) infinite;\n",
              "  }\n",
              "\n",
              "  @keyframes spin {\n",
              "    0% {\n",
              "      border-color: transparent;\n",
              "      border-bottom-color: var(--fill-color);\n",
              "      border-left-color: var(--fill-color);\n",
              "    }\n",
              "    20% {\n",
              "      border-color: transparent;\n",
              "      border-left-color: var(--fill-color);\n",
              "      border-top-color: var(--fill-color);\n",
              "    }\n",
              "    30% {\n",
              "      border-color: transparent;\n",
              "      border-left-color: var(--fill-color);\n",
              "      border-top-color: var(--fill-color);\n",
              "      border-right-color: var(--fill-color);\n",
              "    }\n",
              "    40% {\n",
              "      border-color: transparent;\n",
              "      border-right-color: var(--fill-color);\n",
              "      border-top-color: var(--fill-color);\n",
              "    }\n",
              "    60% {\n",
              "      border-color: transparent;\n",
              "      border-right-color: var(--fill-color);\n",
              "    }\n",
              "    80% {\n",
              "      border-color: transparent;\n",
              "      border-right-color: var(--fill-color);\n",
              "      border-bottom-color: var(--fill-color);\n",
              "    }\n",
              "    90% {\n",
              "      border-color: transparent;\n",
              "      border-bottom-color: var(--fill-color);\n",
              "    }\n",
              "  }\n",
              "</style>\n",
              "\n",
              "  <script>\n",
              "    async function quickchart(key) {\n",
              "      const quickchartButtonEl =\n",
              "        document.querySelector('#' + key + ' button');\n",
              "      quickchartButtonEl.disabled = true;  // To prevent multiple clicks.\n",
              "      quickchartButtonEl.classList.add('colab-df-spinner');\n",
              "      try {\n",
              "        const charts = await google.colab.kernel.invokeFunction(\n",
              "            'suggestCharts', [key], {});\n",
              "      } catch (error) {\n",
              "        console.error('Error during call to suggestCharts:', error);\n",
              "      }\n",
              "      quickchartButtonEl.classList.remove('colab-df-spinner');\n",
              "      quickchartButtonEl.classList.add('colab-df-quickchart-complete');\n",
              "    }\n",
              "    (() => {\n",
              "      let quickchartButtonEl =\n",
              "        document.querySelector('#df-89867bff-3dfb-41fa-b590-5a0397d13b0d button');\n",
              "      quickchartButtonEl.style.display =\n",
              "        google.colab.kernel.accessAllowed ? 'block' : 'none';\n",
              "    })();\n",
              "  </script>\n",
              "</div>\n",
              "    </div>\n",
              "  </div>\n"
            ]
          },
          "metadata": {},
          "execution_count": 207
        }
      ]
    },
    {
      "cell_type": "code",
      "source": [
        "X_test = test_df"
      ],
      "metadata": {
        "id": "4-IPm_UAIf6-"
      },
      "execution_count": 208,
      "outputs": []
    },
    {
      "cell_type": "code",
      "source": [
        "## Convert polarity Values to Integers\n",
        "X_test[\"Sentiment\"] = pd.to_numeric(X_test[\"Sentiment\"],errors='coerce')\n"
      ],
      "metadata": {
        "id": "SO4rDNZ6Igt4"
      },
      "execution_count": 209,
      "outputs": []
    },
    {
      "cell_type": "code",
      "source": [
        "y_test = X_test[\"Sentiment\"]"
      ],
      "metadata": {
        "id": "8WEPXgq0Ilmk"
      },
      "execution_count": 210,
      "outputs": []
    },
    {
      "cell_type": "code",
      "source": [
        "tokenizer = Tokenizer(num_words=NUM_WORDS,\n",
        "                      filters='!\"#$%&()*+,-./:;<=>?@[\\\\]^_`{|}~\\t\\n',\n",
        "                      lower=True, )\n",
        "## Fit_on_texts : Updates internal vocabulary based on a list of texts.\n",
        "tokenizer.fit_on_texts(list(X_train.Text))\n",
        "text_X_test_tokenized = tokenizer.texts_to_sequences(X_test.Text) # list of tokenized sentences\n",
        "Aspect_X_test_tokenized = tokenizer.texts_to_sequences(X_test['Aspect']) # list of tokenized sentences\n"
      ],
      "metadata": {
        "id": "-9NwsyI0IrLU"
      },
      "execution_count": 211,
      "outputs": []
    },
    {
      "cell_type": "code",
      "source": [
        "## Pads sequences(or sentences) to the same length.\n",
        "\n",
        "\n",
        "\n",
        "text_X_test_padded = pad_sequences(text_X_test_tokenized, maxlen=Max_Len)\n",
        "aspect_X_test_padded = pad_sequences(Aspect_X_test_tokenized, maxlen=1)\n"
      ],
      "metadata": {
        "id": "gNy89I5EIvJi"
      },
      "execution_count": 212,
      "outputs": []
    },
    {
      "cell_type": "code",
      "source": [
        "test_data =   [text_X_test_padded,aspect_X_test_padded]\n"
      ],
      "metadata": {
        "id": "Bnzh2GcKIxJw"
      },
      "execution_count": 213,
      "outputs": []
    },
    {
      "cell_type": "code",
      "source": [
        "\n",
        "print(\"Evaluate on test data\")\n",
        "results = atae_lstm_model.evaluate(x = test_data , y = y_test )\n",
        "print(\"test loss, test acc:\", results)\n",
        "print(\"Accuracy of the model is - \" , results[1]*100 , \"%\")\n"
      ],
      "metadata": {
        "colab": {
          "base_uri": "https://localhost:8080/"
        },
        "id": "ZXLPu3-mI0PI",
        "outputId": "a51d624c-5e0f-4fdd-b481-0c2852e8ade1"
      },
      "execution_count": 214,
      "outputs": [
        {
          "output_type": "stream",
          "name": "stdout",
          "text": [
            "Evaluate on test data\n",
            "12/12 [==============================] - 0s 10ms/step - loss: 1.3697 - accuracy: 0.6141\n",
            "test loss, test acc: [1.3697479963302612, 0.614130437374115]\n",
            "Accuracy of the model is -  61.4130437374115 %\n"
          ]
        }
      ]
    },
    {
      "cell_type": "markdown",
      "source": [
        "##CROSS VALIDATE ON DOTSA CLOTHING"
      ],
      "metadata": {
        "id": "Gxy1BWO6JyHa"
      }
    },
    {
      "cell_type": "code",
      "source": [
        "df2_test = pd.read_csv(\"/content/drive/MyDrive/ABSA work/codes/processed_dotsa/new_Clothing_test.csv\", encoding='utf8')"
      ],
      "metadata": {
        "id": "PccgJYx9JmlI"
      },
      "execution_count": 215,
      "outputs": []
    },
    {
      "cell_type": "code",
      "source": [
        "train1 = []\n",
        "test1 = []\n",
        "val1 = []\n",
        "\n",
        "def dataset1(data , list1):\n",
        "  for text, aspects, sentiments in zip(data['Text'], data['Aspect'], data['Sentiment']):\n",
        "    aspect_list = aspects.split(', ')\n",
        "    sentiment_list = sentiments.split(', ')\n",
        "\n",
        "    for aspect, sentiment in zip(aspect_list, sentiment_list):\n",
        "      if \", \" in aspect:\n",
        "        sub_aspects = aspect.split(\", \")\n",
        "        for sub_aspect in sub_aspects:\n",
        "          list1.append({'Text': text, 'Aspect': sub_aspect, 'Sentiment': sentiment})\n",
        "      else:\n",
        "        list1.append({'Text': text, 'Aspect': aspect, 'Sentiment': sentiment})\n",
        "\n",
        "  return list1\n",
        "\n",
        "te1 = dataset1(df2_test , test1)\n",
        "\n",
        "# Create a new dataframe from the expanded data\n",
        "\n",
        "test_df = pd.DataFrame(te1)\n",
        "\n",
        "\n"
      ],
      "metadata": {
        "id": "qe64qk7UJmlJ"
      },
      "execution_count": 216,
      "outputs": []
    },
    {
      "cell_type": "code",
      "source": [
        "## change the labels to integers for the training phase\n",
        "test_df['Sentiment'][test_df[\"Sentiment\"] == 'Negative'] = 0\n",
        "test_df['Sentiment'][test_df[\"Sentiment\"] == 'Positive'] = 1\n",
        "test_df['Sentiment'][test_df[\"Sentiment\"] == 'Mixed'] = 2\n",
        "\n"
      ],
      "metadata": {
        "id": "VcocPKDjJmlL"
      },
      "execution_count": 217,
      "outputs": []
    },
    {
      "cell_type": "code",
      "source": [
        "X_test = test_df"
      ],
      "metadata": {
        "id": "s6QsjVClJmlM"
      },
      "execution_count": 218,
      "outputs": []
    },
    {
      "cell_type": "code",
      "source": [
        "## Convert polarity Values to Integers\n",
        "X_test[\"Sentiment\"] = pd.to_numeric(X_test[\"Sentiment\"],errors='coerce')\n"
      ],
      "metadata": {
        "id": "fCdHFgfNJmlN"
      },
      "execution_count": 219,
      "outputs": []
    },
    {
      "cell_type": "code",
      "source": [
        "y_test = X_test[\"Sentiment\"]"
      ],
      "metadata": {
        "id": "lwrdSGCGJmlN"
      },
      "execution_count": 220,
      "outputs": []
    },
    {
      "cell_type": "code",
      "source": [
        "tokenizer = Tokenizer(num_words=NUM_WORDS,\n",
        "                      filters='!\"#$%&()*+,-./:;<=>?@[\\\\]^_`{|}~\\t\\n',\n",
        "                      lower=True, )\n",
        "## Fit_on_texts : Updates internal vocabulary based on a list of texts.\n",
        "tokenizer.fit_on_texts(list(X_train.Text))\n",
        "text_X_test_tokenized = tokenizer.texts_to_sequences(X_test.Text) # list of tokenized sentences\n",
        "Aspect_X_test_tokenized = tokenizer.texts_to_sequences(X_test['Aspect']) # list of tokenized sentences\n"
      ],
      "metadata": {
        "id": "oSBws5deJmlO"
      },
      "execution_count": 221,
      "outputs": []
    },
    {
      "cell_type": "code",
      "source": [
        "## Pads sequences(or sentences) to the same length.\n",
        "\n",
        "\n",
        "\n",
        "text_X_test_padded = pad_sequences(text_X_test_tokenized, maxlen=Max_Len)\n",
        "aspect_X_test_padded = pad_sequences(Aspect_X_test_tokenized, maxlen=1)\n"
      ],
      "metadata": {
        "id": "ywMrWO-ZJmlP"
      },
      "execution_count": 222,
      "outputs": []
    },
    {
      "cell_type": "code",
      "source": [
        "test_data =   [text_X_test_padded,aspect_X_test_padded]\n"
      ],
      "metadata": {
        "id": "x2XMc_jnJmlP"
      },
      "execution_count": 223,
      "outputs": []
    },
    {
      "cell_type": "code",
      "source": [
        "\"\"\"\n",
        "print(\"Evaluate on test data\")\n",
        "results = atae_lstm_model.evaluate(x = test_data , y = y_test )\n",
        "print(\"test loss, test acc:\", results)\n",
        "print(\"Accuracy of the model is - \" , results[1]*100 , \"%\")\n",
        "\"\"\""
      ],
      "metadata": {
        "colab": {
          "base_uri": "https://localhost:8080/",
          "height": 53
        },
        "id": "c0H6tXS4JmlP",
        "outputId": "5963e15a-8eff-4df3-da2f-dc53a1ab0caf"
      },
      "execution_count": 224,
      "outputs": [
        {
          "output_type": "execute_result",
          "data": {
            "text/plain": [
              "'\\nprint(\"Evaluate on test data\")\\nresults = atae_lstm_model.evaluate(x = test_data , y = y_test )\\nprint(\"test loss, test acc:\", results)\\nprint(\"Accuracy of the model is - \" , results[1]*100 , \"%\")\\n'"
            ],
            "application/vnd.google.colaboratory.intrinsic+json": {
              "type": "string"
            }
          },
          "metadata": {},
          "execution_count": 224
        }
      ]
    },
    {
      "cell_type": "markdown",
      "source": [
        "##CROSS VALIDATE ON DOTSA HOTELS"
      ],
      "metadata": {
        "id": "_dvMyTcfKR9E"
      }
    },
    {
      "cell_type": "code",
      "source": [
        "df2_test = pd.read_csv(\"/content/drive/MyDrive/ABSA work/codes/processed_dotsa/new_Hotels_test.csv\", encoding='utf8')"
      ],
      "metadata": {
        "id": "gsgMgqHRKR9F"
      },
      "execution_count": 225,
      "outputs": []
    },
    {
      "cell_type": "code",
      "source": [
        "train1 = []\n",
        "test1 = []\n",
        "val1 = []\n",
        "\n",
        "def dataset1(data , list1):\n",
        "  for text, aspects, sentiments in zip(data['Text'], data['Aspect'], data['Sentiment']):\n",
        "    aspect_list = aspects.split(', ')\n",
        "    sentiment_list = sentiments.split(', ')\n",
        "\n",
        "    for aspect, sentiment in zip(aspect_list, sentiment_list):\n",
        "      if \", \" in aspect:\n",
        "        sub_aspects = aspect.split(\", \")\n",
        "        for sub_aspect in sub_aspects:\n",
        "          list1.append({'Text': text, 'Aspect': sub_aspect, 'Sentiment': sentiment})\n",
        "      else:\n",
        "        list1.append({'Text': text, 'Aspect': aspect, 'Sentiment': sentiment})\n",
        "\n",
        "  return list1\n",
        "\n",
        "te1 = dataset1(df2_test , test1)\n",
        "\n",
        "# Create a new dataframe from the expanded data\n",
        "\n",
        "test_df = pd.DataFrame(te1)\n",
        "\n",
        "\n"
      ],
      "metadata": {
        "id": "-3diC4rSKR9G"
      },
      "execution_count": 226,
      "outputs": []
    },
    {
      "cell_type": "code",
      "source": [
        "## change the labels to integers for the training phase\n",
        "test_df['Sentiment'][test_df[\"Sentiment\"] == 'Negative'] = 0\n",
        "test_df['Sentiment'][test_df[\"Sentiment\"] == 'Positive'] = 1\n",
        "test_df['Sentiment'][test_df[\"Sentiment\"] == 'Mixed'] = 2\n",
        "\n"
      ],
      "metadata": {
        "id": "Zr-pEhq4KR9H"
      },
      "execution_count": 227,
      "outputs": []
    },
    {
      "cell_type": "code",
      "source": [
        "X_test = test_df"
      ],
      "metadata": {
        "id": "zXNLeWONKR9H"
      },
      "execution_count": 228,
      "outputs": []
    },
    {
      "cell_type": "code",
      "source": [
        "## Convert polarity Values to Integers\n",
        "X_test[\"Sentiment\"] = pd.to_numeric(X_test[\"Sentiment\"],errors='coerce')\n"
      ],
      "metadata": {
        "id": "19KSOTUdKR9I"
      },
      "execution_count": 229,
      "outputs": []
    },
    {
      "cell_type": "code",
      "source": [
        "y_test = X_test[\"Sentiment\"]"
      ],
      "metadata": {
        "id": "Ak5e8TT0KR9I"
      },
      "execution_count": 230,
      "outputs": []
    },
    {
      "cell_type": "code",
      "source": [
        "tokenizer = Tokenizer(num_words=NUM_WORDS,\n",
        "                      filters='!\"#$%&()*+,-./:;<=>?@[\\\\]^_`{|}~\\t\\n',\n",
        "                      lower=True, )\n",
        "## Fit_on_texts : Updates internal vocabulary based on a list of texts.\n",
        "tokenizer.fit_on_texts(list(X_train.Text))\n",
        "text_X_test_tokenized = tokenizer.texts_to_sequences(X_test.Text) # list of tokenized sentences\n",
        "Aspect_X_test_tokenized = tokenizer.texts_to_sequences(X_test['Aspect']) # list of tokenized sentences\n"
      ],
      "metadata": {
        "id": "kgKowMbgKR9J"
      },
      "execution_count": 231,
      "outputs": []
    },
    {
      "cell_type": "code",
      "source": [
        "## Pads sequences(or sentences) to the same length.\n",
        "\n",
        "\n",
        "\n",
        "text_X_test_padded = pad_sequences(text_X_test_tokenized, maxlen=Max_Len)\n",
        "aspect_X_test_padded = pad_sequences(Aspect_X_test_tokenized, maxlen=1)\n"
      ],
      "metadata": {
        "id": "z-0b9YZKKR9K"
      },
      "execution_count": 232,
      "outputs": []
    },
    {
      "cell_type": "code",
      "source": [
        "test_data =   [text_X_test_padded,aspect_X_test_padded]\n"
      ],
      "metadata": {
        "id": "4p7SggIiKR9K"
      },
      "execution_count": 233,
      "outputs": []
    },
    {
      "cell_type": "code",
      "source": [
        "print(\"Evaluate on test data\")\n",
        "results = atae_lstm_model.evaluate(x = test_data , y = y_test )\n",
        "print(\"test loss, test acc:\", results)\n",
        "print(\"Accuracy of the model is - \" , results[1]*100 , \"%\")"
      ],
      "metadata": {
        "colab": {
          "base_uri": "https://localhost:8080/"
        },
        "id": "cA7nOd4vKR9K",
        "outputId": "cd7088c8-e849-4eb6-c52f-1b184880a373"
      },
      "execution_count": 234,
      "outputs": [
        {
          "output_type": "stream",
          "name": "stdout",
          "text": [
            "Evaluate on test data\n",
            "18/18 [==============================] - 0s 12ms/step - loss: 0.5039 - accuracy: 0.8670\n",
            "test loss, test acc: [0.5038502812385559, 0.8670309782028198]\n",
            "Accuracy of the model is -  86.70309782028198 %\n"
          ]
        }
      ]
    },
    {
      "cell_type": "code",
      "source": [],
      "metadata": {
        "id": "UOTEtxF_Kdii"
      },
      "execution_count": 234,
      "outputs": []
    },
    {
      "cell_type": "markdown",
      "source": [
        "##CROSS VALIDATE ON DOTSA RESTAURANTS"
      ],
      "metadata": {
        "id": "5MMX0b8tKd7F"
      }
    },
    {
      "cell_type": "code",
      "source": [
        "df2_test = pd.read_csv(\"/content/drive/MyDrive/ABSA work/codes/processed_dotsa/new_Restaurant_test.csv\", encoding='utf8')"
      ],
      "metadata": {
        "id": "qF75fw6WKd7G"
      },
      "execution_count": 235,
      "outputs": []
    },
    {
      "cell_type": "code",
      "source": [
        "train1 = []\n",
        "test1 = []\n",
        "val1 = []\n",
        "\n",
        "def dataset1(data , list1):\n",
        "  for text, aspects, sentiments in zip(data['Text'], data['Aspect'], data['Sentiment']):\n",
        "    aspect_list = aspects.split(', ')\n",
        "    sentiment_list = sentiments.split(', ')\n",
        "\n",
        "    for aspect, sentiment in zip(aspect_list, sentiment_list):\n",
        "      if \", \" in aspect:\n",
        "        sub_aspects = aspect.split(\", \")\n",
        "        for sub_aspect in sub_aspects:\n",
        "          list1.append({'Text': text, 'Aspect': sub_aspect, 'Sentiment': sentiment})\n",
        "      else:\n",
        "        list1.append({'Text': text, 'Aspect': aspect, 'Sentiment': sentiment})\n",
        "\n",
        "  return list1\n",
        "\n",
        "te1 = dataset1(df2_test , test1)\n",
        "\n",
        "# Create a new dataframe from the expanded data\n",
        "\n",
        "test_df = pd.DataFrame(te1)\n",
        "\n",
        "\n"
      ],
      "metadata": {
        "id": "xZVLsHfJKd7H"
      },
      "execution_count": 236,
      "outputs": []
    },
    {
      "cell_type": "code",
      "source": [
        "## change the labels to integers for the training phase\n",
        "test_df['Sentiment'][test_df[\"Sentiment\"] == 'Negative'] = 0\n",
        "test_df['Sentiment'][test_df[\"Sentiment\"] == 'Positive'] = 1\n",
        "test_df['Sentiment'][test_df[\"Sentiment\"] == 'Mixed'] = 2\n",
        "\n"
      ],
      "metadata": {
        "id": "bHBq2AdqKd7I"
      },
      "execution_count": 237,
      "outputs": []
    },
    {
      "cell_type": "code",
      "source": [
        "X_test = test_df"
      ],
      "metadata": {
        "id": "fqrE-JIeKd7J"
      },
      "execution_count": 238,
      "outputs": []
    },
    {
      "cell_type": "code",
      "source": [
        "## Convert polarity Values to Integers\n",
        "X_test[\"Sentiment\"] = pd.to_numeric(X_test[\"Sentiment\"],errors='coerce')\n"
      ],
      "metadata": {
        "id": "eB_EbufwKd7J"
      },
      "execution_count": 239,
      "outputs": []
    },
    {
      "cell_type": "code",
      "source": [
        "y_test = X_test[\"Sentiment\"]"
      ],
      "metadata": {
        "id": "8mH0tBk6Kd7K"
      },
      "execution_count": 240,
      "outputs": []
    },
    {
      "cell_type": "code",
      "source": [
        "tokenizer = Tokenizer(num_words=NUM_WORDS,\n",
        "                      filters='!\"#$%&()*+,-./:;<=>?@[\\\\]^_`{|}~\\t\\n',\n",
        "                      lower=True, )\n",
        "## Fit_on_texts : Updates internal vocabulary based on a list of texts.\n",
        "tokenizer.fit_on_texts(list(X_train.Text))\n",
        "text_X_test_tokenized = tokenizer.texts_to_sequences(X_test.Text) # list of tokenized sentences\n",
        "Aspect_X_test_tokenized = tokenizer.texts_to_sequences(X_test['Aspect']) # list of tokenized sentences\n"
      ],
      "metadata": {
        "id": "H6sQn1WPKd7K"
      },
      "execution_count": 241,
      "outputs": []
    },
    {
      "cell_type": "code",
      "source": [
        "## Pads sequences(or sentences) to the same length.\n",
        "\n",
        "\n",
        "\n",
        "text_X_test_padded = pad_sequences(text_X_test_tokenized, maxlen=Max_Len)\n",
        "aspect_X_test_padded = pad_sequences(Aspect_X_test_tokenized, maxlen=1)\n"
      ],
      "metadata": {
        "id": "E088egwsKd7K"
      },
      "execution_count": 242,
      "outputs": []
    },
    {
      "cell_type": "code",
      "source": [
        "test_data =   [text_X_test_padded,aspect_X_test_padded]\n"
      ],
      "metadata": {
        "id": "NeYWxEXEKd7L"
      },
      "execution_count": 243,
      "outputs": []
    },
    {
      "cell_type": "code",
      "source": [
        "print(\"Evaluate on test data\")\n",
        "results = atae_lstm_model.evaluate(x = test_data , y = y_test )\n",
        "print(\"test loss, test acc:\", results)\n",
        "print(\"Accuracy of the model is - \" , results[1]*100 , \"%\")"
      ],
      "metadata": {
        "colab": {
          "base_uri": "https://localhost:8080/"
        },
        "id": "min2V0b1Kd7L",
        "outputId": "e118fff7-cc53-4bb0-f935-918aa58200b3"
      },
      "execution_count": 244,
      "outputs": [
        {
          "output_type": "stream",
          "name": "stdout",
          "text": [
            "Evaluate on test data\n",
            "22/22 [==============================] - 0s 11ms/step - loss: 1.0623 - accuracy: 0.6833\n",
            "test loss, test acc: [1.062304139137268, 0.6832844614982605]\n",
            "Accuracy of the model is -  68.32844614982605 %\n"
          ]
        }
      ]
    },
    {
      "cell_type": "code",
      "source": [],
      "metadata": {
        "id": "M8YwK0rgSEUw"
      },
      "execution_count": 244,
      "outputs": []
    }
  ]
}