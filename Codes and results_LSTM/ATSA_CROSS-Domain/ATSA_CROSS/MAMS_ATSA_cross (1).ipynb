{
  "nbformat": 4,
  "nbformat_minor": 0,
  "metadata": {
    "colab": {
      "provenance": [],
      "toc_visible": true,
      "gpuType": "T4"
    },
    "kernelspec": {
      "name": "python3",
      "display_name": "Python 3"
    },
    "language_info": {
      "name": "python"
    },
    "accelerator": "GPU"
  },
  "cells": [
    {
      "cell_type": "code",
      "execution_count": 467,
      "metadata": {
        "colab": {
          "base_uri": "https://localhost:8080/"
        },
        "id": "ee91os0yg7KB",
        "outputId": "555b8818-ca6c-4cb2-a1c6-e11cfb96eef6"
      },
      "outputs": [
        {
          "output_type": "stream",
          "name": "stdout",
          "text": [
            "Drive already mounted at /content/drive; to attempt to forcibly remount, call drive.mount(\"/content/drive\", force_remount=True).\n"
          ]
        }
      ],
      "source": [
        "from google.colab import drive\n",
        "drive.mount('/content/drive')"
      ]
    },
    {
      "cell_type": "markdown",
      "source": [
        "## import the required Libraries\n",
        "\n",
        "\n"
      ],
      "metadata": {
        "id": "rN6833U2hbib"
      }
    },
    {
      "cell_type": "code",
      "source": [
        "import os\n",
        "import numpy as np\n",
        "from sklearn.model_selection import train_test_split\n",
        "\n",
        "\n",
        "from keras.models import Model\n",
        "from keras.layers import Input, Embedding, SpatialDropout1D, Dropout, Conv1D, MaxPool1D, Flatten, concatenate, Dense, \\\n",
        "    LSTM, Bidirectional, Activation, MaxPooling1D, Add, GRU, GlobalAveragePooling1D, GlobalMaxPooling1D, RepeatVector, \\\n",
        "    TimeDistributed, Permute, multiply, Lambda, add, Masking, BatchNormalization, Softmax, Reshape, ReLU, \\\n",
        "    ZeroPadding1D, subtract\n",
        "from tensorflow.keras.preprocessing.sequence import pad_sequences\n",
        "from tensorflow.keras.utils import to_categorical\n",
        "from tensorflow.keras.callbacks import Callback, ModelCheckpoint, EarlyStopping\n",
        "import tensorflow.keras.backend as K\n",
        "import tensorflow as tf\n",
        "from keras import backend as K, initializers, regularizers, constraints\n",
        "\n",
        "\n",
        "# Import our dependencies\n",
        "import tensorflow as tf\n",
        "import pandas as pd\n",
        "import tensorflow_hub as hub\n",
        "import os\n",
        "import re\n",
        "from keras import backend as K\n",
        "import keras.layers as layers\n",
        "from keras.models import Model, load_model\n",
        "from tensorflow.keras.layers import Layer, InputSpec\n",
        "import numpy as np\n",
        "\n",
        "from statistics import mode\n",
        "\n",
        "import numpy as np # linear algebra\n",
        "import pandas as pd # data processing, CSV file I/O (e.g. pd.read_csv)\n",
        "import matplotlib\n",
        "import matplotlib.pyplot as plt\n",
        "import nltk\n",
        "import seaborn as sns\n",
        "from nltk.tokenize import word_tokenize\n",
        "from nltk.corpus import stopwords\n",
        "%matplotlib inline\n",
        "import tensorflow as tf\n",
        "\n",
        "\n",
        "# Then what you need from tensorflow.keras\n",
        "from tensorflow.keras.layers import Input, Dropout, Dense, GlobalAveragePooling1D\n",
        "from tensorflow.keras.callbacks import ReduceLROnPlateau\n",
        "from tensorflow.keras.models import Model\n",
        "from tensorflow.keras.optimizers import Adam\n",
        "from tensorflow.keras.callbacks import EarlyStopping\n",
        "from tensorflow.keras.initializers import TruncatedNormal\n",
        "from tensorflow.keras.losses import CategoricalCrossentropy\n",
        "from tensorflow.keras.metrics import CategoricalAccuracy\n",
        "from tensorflow.keras.utils import to_categorical\n",
        "from sklearn.model_selection import train_test_split\n",
        "\n",
        "from tensorflow.python.keras import backend as K\n",
        "from tensorflow.python.keras.metrics import Metric\n",
        "from tensorflow.python.keras.utils import metrics_utils\n",
        "from tensorflow.python.ops import init_ops\n",
        "from tensorflow.python.ops import math_ops\n",
        "from tensorflow.python.keras.utils.generic_utils import to_list\n",
        "import tensorflow_hub as hub\n",
        "\n",
        "\n",
        "\n",
        "import re\n",
        "import nltk\n",
        "from nltk.corpus import stopwords\n",
        "\n",
        "# neural\n",
        "from keras.preprocessing.text import Tokenizer\n",
        "from keras.utils import pad_sequences\n",
        "from keras.layers import Dense, LSTM, Embedding, Dropout\n",
        "from keras.layers import Bidirectional, GlobalMaxPool1D\n",
        "from keras.models import Model, Sequential\n",
        "\n",
        "#Metrics\n",
        "from sklearn.metrics import balanced_accuracy_score\n",
        "\n",
        "from sklearn.feature_extraction.text import TfidfVectorizer\n",
        "from mlxtend.plotting import plot_confusion_matrix\n",
        "from sklearn.tree import DecisionTreeClassifier\n",
        "from sklearn.metrics import classification_report,confusion_matrix,accuracy_score\n",
        "from sklearn.linear_model import LogisticRegression,SGDClassifier\n",
        "from sklearn.naive_bayes import MultinomialNB\n",
        "from sklearn.ensemble import RandomForestClassifier,GradientBoostingClassifier,AdaBoostClassifier,ExtraTreesClassifier"
      ],
      "metadata": {
        "id": "VJwPUlA7hck3"
      },
      "execution_count": 468,
      "outputs": []
    },
    {
      "cell_type": "markdown",
      "source": [
        "##LOAD THE MAMS DATASET\n"
      ],
      "metadata": {
        "id": "uOcr2YZVhsQA"
      }
    },
    {
      "cell_type": "code",
      "source": [
        "df2_train = pd.read_csv(\"/content/drive/MyDrive/ABSA work/codes/processed_MAMS/ATSA_train_single.csv\", encoding='utf8')"
      ],
      "metadata": {
        "id": "2XqJufHPhhFi"
      },
      "execution_count": 469,
      "outputs": []
    },
    {
      "cell_type": "code",
      "source": [
        "df2_test = pd.read_csv(\"/content/drive/MyDrive/ABSA work/codes/processed_MAMS/ATSA_test_single.csv\", encoding='utf8')"
      ],
      "metadata": {
        "id": "t96fErRfhjxf"
      },
      "execution_count": 470,
      "outputs": []
    },
    {
      "cell_type": "code",
      "source": [
        "df2_val = pd.read_csv(\"/content/drive/MyDrive/ABSA work/codes/processed_MAMS/ATSA_val_single.csv\", encoding='utf8')"
      ],
      "metadata": {
        "id": "U7eJXnovhmFK"
      },
      "execution_count": 471,
      "outputs": []
    },
    {
      "cell_type": "code",
      "source": [
        "df2_val"
      ],
      "metadata": {
        "colab": {
          "base_uri": "https://localhost:8080/",
          "height": 424
        },
        "id": "ZypK8kgLbsgn",
        "outputId": "e9017eaa-369c-4b79-8de3-3a20e7578e2a"
      },
      "execution_count": 472,
      "outputs": [
        {
          "output_type": "execute_result",
          "data": {
            "text/plain": [
              "                                               sentence  \\\n",
              "0     After a couple of drinks, the apps--I like the...   \n",
              "1     After a couple of drinks, the apps--I like the...   \n",
              "2     After a couple of drinks, the apps--I like the...   \n",
              "3     The basil pepper mojito was a little daunting ...   \n",
              "4     The basil pepper mojito was a little daunting ...   \n",
              "...                                                 ...   \n",
              "1327  The Food The menu is better suited to the snac...   \n",
              "1328  Another favorite is the hanger steak which is ...   \n",
              "1329  Another favorite is the hanger steak which is ...   \n",
              "1330  Another favorite is the hanger steak which is ...   \n",
              "1331  Another favorite is the hanger steak which is ...   \n",
              "\n",
              "                             aspect_terms  polarity  \n",
              "0                                  drinks   neutral  \n",
              "1                                    roll  positive  \n",
              "2                            cripsy squid  positive  \n",
              "3                     basil pepper mojito  negative  \n",
              "4                                  flavor  positive  \n",
              "...                                   ...       ...  \n",
              "1327                                  bar   neutral  \n",
              "1328                         hanger steak  positive  \n",
              "1329                    amount of arugula  positive  \n",
              "1330  a balsamic vinegar reduction served   neutral  \n",
              "1331                                sauce   neutral  \n",
              "\n",
              "[1332 rows x 3 columns]"
            ],
            "text/html": [
              "\n",
              "  <div id=\"df-a2447ef1-67a6-4634-9a6f-1ea01bcde55b\" class=\"colab-df-container\">\n",
              "    <div>\n",
              "<style scoped>\n",
              "    .dataframe tbody tr th:only-of-type {\n",
              "        vertical-align: middle;\n",
              "    }\n",
              "\n",
              "    .dataframe tbody tr th {\n",
              "        vertical-align: top;\n",
              "    }\n",
              "\n",
              "    .dataframe thead th {\n",
              "        text-align: right;\n",
              "    }\n",
              "</style>\n",
              "<table border=\"1\" class=\"dataframe\">\n",
              "  <thead>\n",
              "    <tr style=\"text-align: right;\">\n",
              "      <th></th>\n",
              "      <th>sentence</th>\n",
              "      <th>aspect_terms</th>\n",
              "      <th>polarity</th>\n",
              "    </tr>\n",
              "  </thead>\n",
              "  <tbody>\n",
              "    <tr>\n",
              "      <th>0</th>\n",
              "      <td>After a couple of drinks, the apps--I like the...</td>\n",
              "      <td>drinks</td>\n",
              "      <td>neutral</td>\n",
              "    </tr>\n",
              "    <tr>\n",
              "      <th>1</th>\n",
              "      <td>After a couple of drinks, the apps--I like the...</td>\n",
              "      <td>roll</td>\n",
              "      <td>positive</td>\n",
              "    </tr>\n",
              "    <tr>\n",
              "      <th>2</th>\n",
              "      <td>After a couple of drinks, the apps--I like the...</td>\n",
              "      <td>cripsy squid</td>\n",
              "      <td>positive</td>\n",
              "    </tr>\n",
              "    <tr>\n",
              "      <th>3</th>\n",
              "      <td>The basil pepper mojito was a little daunting ...</td>\n",
              "      <td>basil pepper mojito</td>\n",
              "      <td>negative</td>\n",
              "    </tr>\n",
              "    <tr>\n",
              "      <th>4</th>\n",
              "      <td>The basil pepper mojito was a little daunting ...</td>\n",
              "      <td>flavor</td>\n",
              "      <td>positive</td>\n",
              "    </tr>\n",
              "    <tr>\n",
              "      <th>...</th>\n",
              "      <td>...</td>\n",
              "      <td>...</td>\n",
              "      <td>...</td>\n",
              "    </tr>\n",
              "    <tr>\n",
              "      <th>1327</th>\n",
              "      <td>The Food The menu is better suited to the snac...</td>\n",
              "      <td>bar</td>\n",
              "      <td>neutral</td>\n",
              "    </tr>\n",
              "    <tr>\n",
              "      <th>1328</th>\n",
              "      <td>Another favorite is the hanger steak which is ...</td>\n",
              "      <td>hanger steak</td>\n",
              "      <td>positive</td>\n",
              "    </tr>\n",
              "    <tr>\n",
              "      <th>1329</th>\n",
              "      <td>Another favorite is the hanger steak which is ...</td>\n",
              "      <td>amount of arugula</td>\n",
              "      <td>positive</td>\n",
              "    </tr>\n",
              "    <tr>\n",
              "      <th>1330</th>\n",
              "      <td>Another favorite is the hanger steak which is ...</td>\n",
              "      <td>a balsamic vinegar reduction served</td>\n",
              "      <td>neutral</td>\n",
              "    </tr>\n",
              "    <tr>\n",
              "      <th>1331</th>\n",
              "      <td>Another favorite is the hanger steak which is ...</td>\n",
              "      <td>sauce</td>\n",
              "      <td>neutral</td>\n",
              "    </tr>\n",
              "  </tbody>\n",
              "</table>\n",
              "<p>1332 rows × 3 columns</p>\n",
              "</div>\n",
              "    <div class=\"colab-df-buttons\">\n",
              "\n",
              "  <div class=\"colab-df-container\">\n",
              "    <button class=\"colab-df-convert\" onclick=\"convertToInteractive('df-a2447ef1-67a6-4634-9a6f-1ea01bcde55b')\"\n",
              "            title=\"Convert this dataframe to an interactive table.\"\n",
              "            style=\"display:none;\">\n",
              "\n",
              "  <svg xmlns=\"http://www.w3.org/2000/svg\" height=\"24px\" viewBox=\"0 -960 960 960\">\n",
              "    <path d=\"M120-120v-720h720v720H120Zm60-500h600v-160H180v160Zm220 220h160v-160H400v160Zm0 220h160v-160H400v160ZM180-400h160v-160H180v160Zm440 0h160v-160H620v160ZM180-180h160v-160H180v160Zm440 0h160v-160H620v160Z\"/>\n",
              "  </svg>\n",
              "    </button>\n",
              "\n",
              "  <style>\n",
              "    .colab-df-container {\n",
              "      display:flex;\n",
              "      gap: 12px;\n",
              "    }\n",
              "\n",
              "    .colab-df-convert {\n",
              "      background-color: #E8F0FE;\n",
              "      border: none;\n",
              "      border-radius: 50%;\n",
              "      cursor: pointer;\n",
              "      display: none;\n",
              "      fill: #1967D2;\n",
              "      height: 32px;\n",
              "      padding: 0 0 0 0;\n",
              "      width: 32px;\n",
              "    }\n",
              "\n",
              "    .colab-df-convert:hover {\n",
              "      background-color: #E2EBFA;\n",
              "      box-shadow: 0px 1px 2px rgba(60, 64, 67, 0.3), 0px 1px 3px 1px rgba(60, 64, 67, 0.15);\n",
              "      fill: #174EA6;\n",
              "    }\n",
              "\n",
              "    .colab-df-buttons div {\n",
              "      margin-bottom: 4px;\n",
              "    }\n",
              "\n",
              "    [theme=dark] .colab-df-convert {\n",
              "      background-color: #3B4455;\n",
              "      fill: #D2E3FC;\n",
              "    }\n",
              "\n",
              "    [theme=dark] .colab-df-convert:hover {\n",
              "      background-color: #434B5C;\n",
              "      box-shadow: 0px 1px 3px 1px rgba(0, 0, 0, 0.15);\n",
              "      filter: drop-shadow(0px 1px 2px rgba(0, 0, 0, 0.3));\n",
              "      fill: #FFFFFF;\n",
              "    }\n",
              "  </style>\n",
              "\n",
              "    <script>\n",
              "      const buttonEl =\n",
              "        document.querySelector('#df-a2447ef1-67a6-4634-9a6f-1ea01bcde55b button.colab-df-convert');\n",
              "      buttonEl.style.display =\n",
              "        google.colab.kernel.accessAllowed ? 'block' : 'none';\n",
              "\n",
              "      async function convertToInteractive(key) {\n",
              "        const element = document.querySelector('#df-a2447ef1-67a6-4634-9a6f-1ea01bcde55b');\n",
              "        const dataTable =\n",
              "          await google.colab.kernel.invokeFunction('convertToInteractive',\n",
              "                                                    [key], {});\n",
              "        if (!dataTable) return;\n",
              "\n",
              "        const docLinkHtml = 'Like what you see? Visit the ' +\n",
              "          '<a target=\"_blank\" href=https://colab.research.google.com/notebooks/data_table.ipynb>data table notebook</a>'\n",
              "          + ' to learn more about interactive tables.';\n",
              "        element.innerHTML = '';\n",
              "        dataTable['output_type'] = 'display_data';\n",
              "        await google.colab.output.renderOutput(dataTable, element);\n",
              "        const docLink = document.createElement('div');\n",
              "        docLink.innerHTML = docLinkHtml;\n",
              "        element.appendChild(docLink);\n",
              "      }\n",
              "    </script>\n",
              "  </div>\n",
              "\n",
              "\n",
              "<div id=\"df-6e7d44bc-ac84-4137-a26c-d362f0669081\">\n",
              "  <button class=\"colab-df-quickchart\" onclick=\"quickchart('df-6e7d44bc-ac84-4137-a26c-d362f0669081')\"\n",
              "            title=\"Suggest charts.\"\n",
              "            style=\"display:none;\">\n",
              "\n",
              "<svg xmlns=\"http://www.w3.org/2000/svg\" height=\"24px\"viewBox=\"0 0 24 24\"\n",
              "     width=\"24px\">\n",
              "    <g>\n",
              "        <path d=\"M19 3H5c-1.1 0-2 .9-2 2v14c0 1.1.9 2 2 2h14c1.1 0 2-.9 2-2V5c0-1.1-.9-2-2-2zM9 17H7v-7h2v7zm4 0h-2V7h2v10zm4 0h-2v-4h2v4z\"/>\n",
              "    </g>\n",
              "</svg>\n",
              "  </button>\n",
              "\n",
              "<style>\n",
              "  .colab-df-quickchart {\n",
              "      --bg-color: #E8F0FE;\n",
              "      --fill-color: #1967D2;\n",
              "      --hover-bg-color: #E2EBFA;\n",
              "      --hover-fill-color: #174EA6;\n",
              "      --disabled-fill-color: #AAA;\n",
              "      --disabled-bg-color: #DDD;\n",
              "  }\n",
              "\n",
              "  [theme=dark] .colab-df-quickchart {\n",
              "      --bg-color: #3B4455;\n",
              "      --fill-color: #D2E3FC;\n",
              "      --hover-bg-color: #434B5C;\n",
              "      --hover-fill-color: #FFFFFF;\n",
              "      --disabled-bg-color: #3B4455;\n",
              "      --disabled-fill-color: #666;\n",
              "  }\n",
              "\n",
              "  .colab-df-quickchart {\n",
              "    background-color: var(--bg-color);\n",
              "    border: none;\n",
              "    border-radius: 50%;\n",
              "    cursor: pointer;\n",
              "    display: none;\n",
              "    fill: var(--fill-color);\n",
              "    height: 32px;\n",
              "    padding: 0;\n",
              "    width: 32px;\n",
              "  }\n",
              "\n",
              "  .colab-df-quickchart:hover {\n",
              "    background-color: var(--hover-bg-color);\n",
              "    box-shadow: 0 1px 2px rgba(60, 64, 67, 0.3), 0 1px 3px 1px rgba(60, 64, 67, 0.15);\n",
              "    fill: var(--button-hover-fill-color);\n",
              "  }\n",
              "\n",
              "  .colab-df-quickchart-complete:disabled,\n",
              "  .colab-df-quickchart-complete:disabled:hover {\n",
              "    background-color: var(--disabled-bg-color);\n",
              "    fill: var(--disabled-fill-color);\n",
              "    box-shadow: none;\n",
              "  }\n",
              "\n",
              "  .colab-df-spinner {\n",
              "    border: 2px solid var(--fill-color);\n",
              "    border-color: transparent;\n",
              "    border-bottom-color: var(--fill-color);\n",
              "    animation:\n",
              "      spin 1s steps(1) infinite;\n",
              "  }\n",
              "\n",
              "  @keyframes spin {\n",
              "    0% {\n",
              "      border-color: transparent;\n",
              "      border-bottom-color: var(--fill-color);\n",
              "      border-left-color: var(--fill-color);\n",
              "    }\n",
              "    20% {\n",
              "      border-color: transparent;\n",
              "      border-left-color: var(--fill-color);\n",
              "      border-top-color: var(--fill-color);\n",
              "    }\n",
              "    30% {\n",
              "      border-color: transparent;\n",
              "      border-left-color: var(--fill-color);\n",
              "      border-top-color: var(--fill-color);\n",
              "      border-right-color: var(--fill-color);\n",
              "    }\n",
              "    40% {\n",
              "      border-color: transparent;\n",
              "      border-right-color: var(--fill-color);\n",
              "      border-top-color: var(--fill-color);\n",
              "    }\n",
              "    60% {\n",
              "      border-color: transparent;\n",
              "      border-right-color: var(--fill-color);\n",
              "    }\n",
              "    80% {\n",
              "      border-color: transparent;\n",
              "      border-right-color: var(--fill-color);\n",
              "      border-bottom-color: var(--fill-color);\n",
              "    }\n",
              "    90% {\n",
              "      border-color: transparent;\n",
              "      border-bottom-color: var(--fill-color);\n",
              "    }\n",
              "  }\n",
              "</style>\n",
              "\n",
              "  <script>\n",
              "    async function quickchart(key) {\n",
              "      const quickchartButtonEl =\n",
              "        document.querySelector('#' + key + ' button');\n",
              "      quickchartButtonEl.disabled = true;  // To prevent multiple clicks.\n",
              "      quickchartButtonEl.classList.add('colab-df-spinner');\n",
              "      try {\n",
              "        const charts = await google.colab.kernel.invokeFunction(\n",
              "            'suggestCharts', [key], {});\n",
              "      } catch (error) {\n",
              "        console.error('Error during call to suggestCharts:', error);\n",
              "      }\n",
              "      quickchartButtonEl.classList.remove('colab-df-spinner');\n",
              "      quickchartButtonEl.classList.add('colab-df-quickchart-complete');\n",
              "    }\n",
              "    (() => {\n",
              "      let quickchartButtonEl =\n",
              "        document.querySelector('#df-6e7d44bc-ac84-4137-a26c-d362f0669081 button');\n",
              "      quickchartButtonEl.style.display =\n",
              "        google.colab.kernel.accessAllowed ? 'block' : 'none';\n",
              "    })();\n",
              "  </script>\n",
              "</div>\n",
              "    </div>\n",
              "  </div>\n"
            ]
          },
          "metadata": {},
          "execution_count": 472
        }
      ]
    },
    {
      "cell_type": "markdown",
      "source": [
        "##PREPROCESSING"
      ],
      "metadata": {
        "id": "0sUiVXCLhu02"
      }
    },
    {
      "cell_type": "code",
      "source": [],
      "metadata": {
        "id": "ISUBPYAUaTqM"
      },
      "execution_count": 472,
      "outputs": []
    },
    {
      "cell_type": "code",
      "source": [
        "## change the labels to integers for the training phase\n",
        "df2_train['polarity'][df2_train[\"polarity\"] == 'negative'] = 0\n",
        "df2_train['polarity'][df2_train[\"polarity\"] == 'positive'] = 1\n",
        "df2_train['polarity'][df2_train[\"polarity\"] == 'neutral'] = 2\n",
        "\n",
        "\n"
      ],
      "metadata": {
        "id": "Pwb14dYBh7xx"
      },
      "execution_count": 473,
      "outputs": []
    },
    {
      "cell_type": "code",
      "source": [
        "df2_test['polarity'][df2_test[\"polarity\"] == 'negative'] = 0\n",
        "df2_test['polarity'][df2_test[\"polarity\"] == 'positive'] = 1\n",
        "df2_test['polarity'][df2_test[\"polarity\"] == 'neutral'] = 2\n",
        "\n"
      ],
      "metadata": {
        "id": "l2p3fSyJh8zJ"
      },
      "execution_count": 474,
      "outputs": []
    },
    {
      "cell_type": "code",
      "source": [
        "df2_val['polarity'][df2_val[\"polarity\"] == 'negative'] = 0\n",
        "df2_val['polarity'][df2_val[\"polarity\"] == 'positive'] = 1\n",
        "df2_val['polarity'][df2_val[\"polarity\"] == 'neutral'] = 2\n"
      ],
      "metadata": {
        "id": "xURgPZRiiAdW"
      },
      "execution_count": 475,
      "outputs": []
    },
    {
      "cell_type": "code",
      "source": [
        "train_df = df2_train"
      ],
      "metadata": {
        "id": "0NZq0uMGlsnH"
      },
      "execution_count": 476,
      "outputs": []
    },
    {
      "cell_type": "code",
      "source": [
        "## Convert polarity Values to Integers\n",
        "train_df[\"polarity\"] = pd.to_numeric(train_df[\"polarity\"],errors='coerce')\n"
      ],
      "metadata": {
        "id": "Wk41xykgiHC4"
      },
      "execution_count": 477,
      "outputs": []
    },
    {
      "cell_type": "code",
      "source": [
        "## Split the Dataset into Training and Testing Datasets\n",
        "#X_train, y_train= train_test_split(train_df,train_df['polarity'],stratify=train_df['polarity'])\n",
        "\n",
        "X_train  = train_df\n",
        "y_train = train_df['polarity']"
      ],
      "metadata": {
        "id": "L9sTomgiiMSk"
      },
      "execution_count": 478,
      "outputs": []
    },
    {
      "cell_type": "code",
      "source": [
        "X_test = df2_test"
      ],
      "metadata": {
        "id": "VxmgXbsqicw-"
      },
      "execution_count": 479,
      "outputs": []
    },
    {
      "cell_type": "code",
      "source": [
        "## Convert polarity Values to Integers\n",
        "X_test[\"polarity\"] = pd.to_numeric(X_test[\"polarity\"],errors='coerce')\n"
      ],
      "metadata": {
        "id": "vWXa0l9ViOwI"
      },
      "execution_count": 480,
      "outputs": []
    },
    {
      "cell_type": "code",
      "source": [
        "y_test = X_test[\"polarity\"]"
      ],
      "metadata": {
        "id": "bZyvg_eTijus"
      },
      "execution_count": 481,
      "outputs": []
    },
    {
      "cell_type": "code",
      "source": [
        "X_val = df2_val"
      ],
      "metadata": {
        "id": "n_0SODhjilnO"
      },
      "execution_count": 482,
      "outputs": []
    },
    {
      "cell_type": "code",
      "source": [
        "## Convert polarity Values to Integers\n",
        "X_val[\"polarity\"] = pd.to_numeric(X_val[\"polarity\"],errors='coerce')\n"
      ],
      "metadata": {
        "id": "cETKyJsoimfD"
      },
      "execution_count": 483,
      "outputs": []
    },
    {
      "cell_type": "code",
      "source": [
        "y_val = X_val[\"polarity\"]"
      ],
      "metadata": {
        "id": "hJBkUrx_iqNX"
      },
      "execution_count": 484,
      "outputs": []
    },
    {
      "cell_type": "code",
      "source": [
        "NUM_WORDS = 100000 ## MAx of words to keep, based on word frequency.\n",
        "EMBEDDING_SIZE = 128 ## the length of the Vector the will"
      ],
      "metadata": {
        "id": "OL8gWe4Ni5Ml"
      },
      "execution_count": 485,
      "outputs": []
    },
    {
      "cell_type": "code",
      "source": [
        "df2_test.aspect_terms.dtype"
      ],
      "metadata": {
        "colab": {
          "base_uri": "https://localhost:8080/"
        },
        "id": "-4HzVNwnA7cj",
        "outputId": "c8813220-5c1d-461f-aa11-067a08b5e1d9"
      },
      "execution_count": 486,
      "outputs": [
        {
          "output_type": "execute_result",
          "data": {
            "text/plain": [
              "dtype('O')"
            ]
          },
          "metadata": {},
          "execution_count": 486
        }
      ]
    },
    {
      "cell_type": "markdown",
      "source": [
        "## Embedding code\n"
      ],
      "metadata": {
        "id": "g5coWjxui8n5"
      }
    },
    {
      "cell_type": "code",
      "source": [
        "tokenizer = Tokenizer(num_words=NUM_WORDS,\n",
        "                      filters='!\"#$%&()*+,-./:;<=>?@[\\\\]^_`{|}~\\t\\n',\n",
        "                      lower=True, )\n",
        "## Fit_on_texts : Updates internal vocabulary based on a list of texts.\n",
        "tokenizer.fit_on_texts(list(X_train.sentence))\n",
        "text_X_train_tokenized = tokenizer.texts_to_sequences(X_train.sentence) # list of tokenized sentences\n",
        "Aspect_X_train_tokenized = tokenizer.texts_to_sequences(X_train['aspect_terms'].astype(str)) # list of tokenized sentences\n",
        "text_X_test_tokenized = tokenizer.texts_to_sequences(X_test.sentence) # list of tokenized sentences\n",
        "Aspect_X_test_tokenized = tokenizer.texts_to_sequences(X_test['aspect_terms']) # list of tokenized sentences\n",
        "text_X_val_tokenized = tokenizer.texts_to_sequences(X_val.sentence) # list of tokenized sentences\n",
        "Aspect_X_val_tokenized = tokenizer.texts_to_sequences(X_val['aspect_terms'].astype(str)) # list of tokenized sentences\n",
        "\n"
      ],
      "metadata": {
        "id": "kHoNEPohi-J3"
      },
      "execution_count": 487,
      "outputs": []
    },
    {
      "cell_type": "code",
      "source": [
        "##Maximum length of sentences\n",
        "Max_Len =  max([len(one_title) for one_title in text_X_train_tokenized])\n",
        "Max_Len"
      ],
      "metadata": {
        "colab": {
          "base_uri": "https://localhost:8080/"
        },
        "id": "ZhbCyLlmjBvk",
        "outputId": "0045c4ea-42b9-44dd-f98b-44d89ff30e6f"
      },
      "execution_count": 488,
      "outputs": [
        {
          "output_type": "execute_result",
          "data": {
            "text/plain": [
              "67"
            ]
          },
          "metadata": {},
          "execution_count": 488
        }
      ]
    },
    {
      "cell_type": "code",
      "source": [
        "## Pads sequences(or sentences) to the same length.\n",
        "\n",
        "\n",
        "text_X_train_padded = pad_sequences(text_X_train_tokenized, maxlen=Max_Len)\n",
        "aspect_X_train_padded = pad_sequences(Aspect_X_train_tokenized, maxlen=1)\n",
        "\n",
        "text_X_test_padded = pad_sequences(text_X_test_tokenized, maxlen=Max_Len)\n",
        "aspect_X_test_padded = pad_sequences(Aspect_X_test_tokenized, maxlen=1)\n",
        "\n",
        "text_X_val_padded = pad_sequences(text_X_val_tokenized, maxlen=Max_Len)\n",
        "aspect_X_val_padded = pad_sequences(Aspect_X_val_tokenized, maxlen=1)\n"
      ],
      "metadata": {
        "id": "VLGQM2BrjDc2"
      },
      "execution_count": 489,
      "outputs": []
    },
    {
      "cell_type": "code",
      "source": [
        "## Concatenate the Embedding presentation of the sentences and aspects to Create training and testing dataset\n",
        "train_data =  [text_X_train_padded,aspect_X_train_padded]\n",
        "test_data =   [text_X_test_padded,aspect_X_test_padded]\n",
        "val_data = [text_X_val_padded,aspect_X_val_padded]"
      ],
      "metadata": {
        "id": "g4ixZb-QjFu5"
      },
      "execution_count": 490,
      "outputs": []
    },
    {
      "cell_type": "code",
      "source": [
        "\n",
        "# modified based on `https://gist.github.com/cbaziotis/7ef97ccf71cbc14366835198c09809d2`\n",
        "class Attention(Layer):\n",
        "    \"\"\"\n",
        "    Attention operation, with a context/query vector, for temporal data.\n",
        "    Supports Masking.\n",
        "    Follows the work of Yang et al. [https://www.cs.cmu.edu/~diyiy/docs/naacl16.pdf]\n",
        "    \"Hierarchical Attention Networks for Document Classification\"\n",
        "    by using a context vector to assist the attention\n",
        "    # Input shape\n",
        "        3D tensor with shape: `(samples, steps, features)`.\n",
        "    # Output shape\n",
        "        2D tensor with shape: `(samples, features)`.\n",
        "    How to use:\n",
        "    Just put it on top of an RNN Layer (GRU/LSTM/SimpleRNN) with return_sequences=True.\n",
        "    The dimensions are inferred based on the output shape of the RNN.\n",
        " e: The layer has been tested with Keras 2.0.6\n",
        "    Example:\n",
        "        model.add(LSTM(64, return_sequences=True))\n",
        "        model.add(AttentionWithContext())\n",
        "        # next add a Dense layer (for classification/regression) or whatever...\n",
        "    \"\"\"\n",
        "\n",
        "    def __init__(self, W_regularizer=None, u_regularizer=None, b_regularizer=None, W_constraint=None,\n",
        "                 u_constraint=None, b_constraint=None, use_W=True, use_bias=False, return_self_attend=False,\n",
        "                 return_attend_weight=True, **kwargs):\n",
        "        self.supports_masking = True\n",
        "\n",
        "        self.init = initializers.get('glorot_uniform')\n",
        "\n",
        "        self.W_regularizer = regularizers.get(W_regularizer)\n",
        "        self.u_regularizer = regularizers.get(u_regularizer)\n",
        "        self.b_regularizer = regularizers.get(b_regularizer)\n",
        "\n",
        "        self.W_constraint = constraints.get(W_constraint)\n",
        "        self.u_constraint = constraints.get(u_constraint)\n",
        "        self.b_constraint = constraints.get(b_constraint)\n",
        "\n",
        "        self.use_W = use_W\n",
        "        self.use_bias = use_bias\n",
        "        self.return_self_attend = return_self_attend    # whether perform self attention and return it\n",
        "        self.return_attend_weight = return_attend_weight    # whether return attention weight\n",
        "        super(Attention, self).__init__(**kwargs)\n",
        "\n",
        "    def build(self, input_shape):\n",
        "        assert len(input_shape) == 3\n",
        "\n",
        "        if self.use_W:\n",
        "            self.W = self.add_weight(shape=(input_shape[-1], input_shape[-1],),  initializer=self.init,\n",
        "                                     name='{}_W'.format(self.name), regularizer=self.W_regularizer,\n",
        "                                     constraint=self.W_constraint)\n",
        "        if self.use_bias:\n",
        "            self.b = self.add_weight(shape=(input_shape[1],), initializer='zero', name='{}_b'.format(self.name),\n",
        "                                     regularizer=self.b_regularizer, constraint=self.b_constraint)\n",
        "\n",
        "        self.u = self.add_weight(shape=(input_shape[-1],), initializer=self.init, name='{}_u'.format(self.name),\n",
        "                                 regularizer=self.u_regularizer, constraint=self.u_constraint)\n",
        "\n",
        "        super(Attention, self).build(input_shape)\n",
        "\n",
        "    def compute_mask(self, input, input_mask=None):\n",
        "        # do not pass the mask to the next layers\n",
        "        return None\n",
        "\n",
        "    def call(self, x, mask=None):\n",
        "        if self.use_W:\n",
        "            x = K.tanh(K.dot(x, self.W))\n",
        "\n",
        "        ait = Attention.dot_product(x, self.u)\n",
        "        if self.use_bias:\n",
        "            ait += self.b\n",
        "\n",
        "        a = K.exp(ait)\n",
        "\n",
        "        # apply mask after the exp. will be re-normalized next\n",
        "        if mask is not None:\n",
        "            # Cast the mask to floatX to avoid float64 upcasting in theano\n",
        "            a *= K.cast(mask, K.floatx())\n",
        "\n",
        "        # in some cases especially in the early stages of training the sum may be almost zero\n",
        "        # and this results in NaN's. A workaround is to add a very small positive number ε to the sum.\n",
        "        # a /= K.cast(K.sum(a, axis=1, keepdims=True), K.floatx())\n",
        "        a /= K.cast(K.sum(a, axis=1, keepdims=True) + K.epsilon(), K.floatx())\n",
        "\n",
        "        if self.return_self_attend:\n",
        "            attend_output = K.sum(x * K.expand_dims(a), axis=1)\n",
        "            if self.return_attend_weight:\n",
        "                return [attend_output, a]\n",
        "            else:\n",
        "                return attend_output\n",
        "        else:\n",
        "            return a\n",
        "\n",
        "    def compute_output_shape(self, input_shape):\n",
        "        if self.return_self_attend:\n",
        "            if self.return_attend_weight:\n",
        "                return [(input_shape[0], input_shape[-1]), (input_shape[0], input_shape[1])]\n",
        "            else:\n",
        "                return input_shape[0], input_shape[-1]\n",
        "        else:\n",
        "            return input_shape[0], input_shape[1]\n",
        "\n",
        "    @staticmethod\n",
        "    def dot_product(x, kernel):\n",
        "        \"\"\"\n",
        "        Wrapper for dot product operation, in order to be compatible with both\n",
        "        Theano and Tensorflow\n",
        "        Args:\n",
        "            x (): input\n",
        "            kernel (): weights\n",
        "        Returns:\n",
        "        \"\"\"\n",
        "        if K.backend() == 'tensorflow':\n",
        "            return K.squeeze(K.dot(x, K.expand_dims(kernel)), axis=-1)\n",
        "        else:\n",
        "            return K.dot(x, kernel)"
      ],
      "metadata": {
        "id": "s_PsNnTujH58"
      },
      "execution_count": 491,
      "outputs": []
    },
    {
      "cell_type": "code",
      "source": [
        "# attention-based lstm with aspect embedding\n",
        "def atae_lstm(lstm_units = 128):\n",
        "    input_text = Input(shape=(Max_Len,))\n",
        "    input_aspect = Input(shape=(1,),)\n",
        "\n",
        "    word_embedding = Embedding(NUM_WORDS, EMBEDDING_SIZE, input_length=Max_Len)\n",
        "    text_embed = SpatialDropout1D(0.2)(word_embedding(input_text))\n",
        "\n",
        "    asp_embedding = Embedding(NUM_WORDS, EMBEDDING_SIZE, input_length=Max_Len)\n",
        "\n",
        "    aspect_embed = asp_embedding(input_aspect)\n",
        "    aspect_embed = Flatten()(aspect_embed)  # reshape to 2d\n",
        "    repeat_aspect = RepeatVector(Max_Len)(aspect_embed)  # repeat aspect for every word in sequence\n",
        "\n",
        "    input_concat = concatenate([text_embed, repeat_aspect], axis=-1)\n",
        "    print(input_concat.shape)\n",
        "    hidden_vecs, state_h, _ = LSTM(lstm_units, return_sequences=True, return_state=True)(input_concat)\n",
        "    concat = concatenate([hidden_vecs, repeat_aspect], axis=-1)\n",
        "\n",
        "    # apply attention mechanism\n",
        "    attend_weight = Attention()(concat)\n",
        "    attend_weight_expand = Lambda(lambda x: K.expand_dims(x))(attend_weight)\n",
        "    attend_hidden = multiply([hidden_vecs, attend_weight_expand])\n",
        "    attend_hidden = Lambda(lambda x: K.sum(x, axis=1))(attend_hidden)\n",
        "\n",
        "    attend_hidden_dense = Dense(lstm_units)(attend_hidden)\n",
        "    last_hidden_dense = Dense(lstm_units)(state_h)\n",
        "    final_output = Activation('tanh')(add([attend_hidden_dense, last_hidden_dense]))\n",
        "    output = Dense(3, activation='softmax')(final_output)\n",
        "    return Model([input_text, input_aspect], output)"
      ],
      "metadata": {
        "id": "Qx1bTEW8jN5Q"
      },
      "execution_count": 492,
      "outputs": []
    },
    {
      "cell_type": "code",
      "source": [
        "\n",
        "atae_lstm_model =  atae_lstm()\n",
        "atae_lstm_model.summary()"
      ],
      "metadata": {
        "colab": {
          "base_uri": "https://localhost:8080/"
        },
        "id": "rhg-X7dKjPmN",
        "outputId": "77c9cb4e-02f6-4dfe-aa5e-8db74b0723ad"
      },
      "execution_count": 493,
      "outputs": [
        {
          "output_type": "stream",
          "name": "stdout",
          "text": [
            "(None, 67, 256)\n",
            "Model: \"model_5\"\n",
            "__________________________________________________________________________________________________\n",
            " Layer (type)                   Output Shape         Param #     Connected to                     \n",
            "==================================================================================================\n",
            " input_12 (InputLayer)          [(None, 1)]          0           []                               \n",
            "                                                                                                  \n",
            " input_11 (InputLayer)          [(None, 67)]         0           []                               \n",
            "                                                                                                  \n",
            " embedding_11 (Embedding)       (None, 1, 128)       12800000    ['input_12[0][0]']               \n",
            "                                                                                                  \n",
            " embedding_10 (Embedding)       (None, 67, 128)      12800000    ['input_11[0][0]']               \n",
            "                                                                                                  \n",
            " flatten_5 (Flatten)            (None, 128)          0           ['embedding_11[0][0]']           \n",
            "                                                                                                  \n",
            " spatial_dropout1d_5 (SpatialDr  (None, 67, 128)     0           ['embedding_10[0][0]']           \n",
            " opout1D)                                                                                         \n",
            "                                                                                                  \n",
            " repeat_vector_5 (RepeatVector)  (None, 67, 128)     0           ['flatten_5[0][0]']              \n",
            "                                                                                                  \n",
            " concatenate_10 (Concatenate)   (None, 67, 256)      0           ['spatial_dropout1d_5[0][0]',    \n",
            "                                                                  'repeat_vector_5[0][0]']        \n",
            "                                                                                                  \n",
            " lstm_5 (LSTM)                  [(None, 67, 128),    197120      ['concatenate_10[0][0]']         \n",
            "                                 (None, 128),                                                     \n",
            "                                 (None, 128)]                                                     \n",
            "                                                                                                  \n",
            " concatenate_11 (Concatenate)   (None, 67, 256)      0           ['lstm_5[0][0]',                 \n",
            "                                                                  'repeat_vector_5[0][0]']        \n",
            "                                                                                                  \n",
            " attention_5 (Attention)        (None, 67)           65792       ['concatenate_11[0][0]']         \n",
            "                                                                                                  \n",
            " lambda_10 (Lambda)             (None, 67, 1)        0           ['attention_5[0][0]']            \n",
            "                                                                                                  \n",
            " multiply_5 (Multiply)          (None, 67, 128)      0           ['lstm_5[0][0]',                 \n",
            "                                                                  'lambda_10[0][0]']              \n",
            "                                                                                                  \n",
            " lambda_11 (Lambda)             (None, 128)          0           ['multiply_5[0][0]']             \n",
            "                                                                                                  \n",
            " dense_15 (Dense)               (None, 128)          16512       ['lambda_11[0][0]']              \n",
            "                                                                                                  \n",
            " dense_16 (Dense)               (None, 128)          16512       ['lstm_5[0][1]']                 \n",
            "                                                                                                  \n",
            " add_5 (Add)                    (None, 128)          0           ['dense_15[0][0]',               \n",
            "                                                                  'dense_16[0][0]']               \n",
            "                                                                                                  \n",
            " activation_5 (Activation)      (None, 128)          0           ['add_5[0][0]']                  \n",
            "                                                                                                  \n",
            " dense_17 (Dense)               (None, 3)            387         ['activation_5[0][0]']           \n",
            "                                                                                                  \n",
            "==================================================================================================\n",
            "Total params: 25,896,323\n",
            "Trainable params: 25,896,323\n",
            "Non-trainable params: 0\n",
            "__________________________________________________________________________________________________\n"
          ]
        },
        {
          "output_type": "stream",
          "name": "stderr",
          "text": [
            "/usr/local/lib/python3.10/dist-packages/keras/initializers/initializers.py:120: UserWarning: The initializer GlorotUniform is unseeded and being called multiple times, which will return identical values each time (even if the initializer is unseeded). Please update your code to provide a seed to the initializer, or avoid using the same initalizer instance more than once.\n",
            "  warnings.warn(\n"
          ]
        }
      ]
    },
    {
      "cell_type": "code",
      "source": [
        "\n",
        "learning_rate_reduction = ReduceLROnPlateau(monitor='val_accuracy',\n",
        "                                                    patience = 2,\n",
        "                                                    verbose=1,\n",
        "                                                    factor=0.1,\n",
        "                                                    min_lr=0.000001)\n",
        "\n",
        "atae_lstm_model.compile(loss='sparse_categorical_crossentropy', metrics=['accuracy'], optimizer='adam')\n",
        "atae_lstm_model.fit(x = train_data, y = y_train, validation_data = (val_data, y_val), batch_size=16, epochs=7, callbacks = [learning_rate_reduction])"
      ],
      "metadata": {
        "colab": {
          "base_uri": "https://localhost:8080/"
        },
        "id": "fHCpDR42jRtK",
        "outputId": "8a4a923f-b973-490f-f1f7-dadc719ec4e1"
      },
      "execution_count": 494,
      "outputs": [
        {
          "output_type": "stream",
          "name": "stdout",
          "text": [
            "Epoch 1/7\n",
            "700/700 [==============================] - 35s 44ms/step - loss: 0.8706 - accuracy: 0.5898 - val_loss: 0.7827 - val_accuracy: 0.6269 - lr: 0.0010\n",
            "Epoch 2/7\n",
            "700/700 [==============================] - 11s 15ms/step - loss: 0.7187 - accuracy: 0.6810 - val_loss: 0.7965 - val_accuracy: 0.6276 - lr: 0.0010\n",
            "Epoch 3/7\n",
            "700/700 [==============================] - 11s 16ms/step - loss: 0.6289 - accuracy: 0.7231 - val_loss: 0.8356 - val_accuracy: 0.6291 - lr: 0.0010\n",
            "Epoch 4/7\n",
            "700/700 [==============================] - 11s 16ms/step - loss: 0.5567 - accuracy: 0.7511 - val_loss: 0.8454 - val_accuracy: 0.6434 - lr: 0.0010\n",
            "Epoch 5/7\n",
            "700/700 [==============================] - 11s 15ms/step - loss: 0.4877 - accuracy: 0.7795 - val_loss: 0.9116 - val_accuracy: 0.6246 - lr: 0.0010\n",
            "Epoch 6/7\n",
            "700/700 [==============================] - ETA: 0s - loss: 0.4180 - accuracy: 0.8086\n",
            "Epoch 6: ReduceLROnPlateau reducing learning rate to 0.00010000000474974513.\n",
            "700/700 [==============================] - 11s 15ms/step - loss: 0.4180 - accuracy: 0.8086 - val_loss: 1.0185 - val_accuracy: 0.6336 - lr: 0.0010\n",
            "Epoch 7/7\n",
            "700/700 [==============================] - 10s 15ms/step - loss: 0.2827 - accuracy: 0.8784 - val_loss: 1.1680 - val_accuracy: 0.6246 - lr: 1.0000e-04\n"
          ]
        },
        {
          "output_type": "execute_result",
          "data": {
            "text/plain": [
              "<keras.callbacks.History at 0x7f1af775eb00>"
            ]
          },
          "metadata": {},
          "execution_count": 494
        }
      ]
    },
    {
      "cell_type": "code",
      "source": [
        "print(\"Evaluate on test data\")\n",
        "results = atae_lstm_model.evaluate(x = test_data , y = y_test )\n",
        "print(\"test loss, test acc:\", results)\n",
        "print(\"Accuracy of the model is - \" , results[1]*100 , \"%\")"
      ],
      "metadata": {
        "colab": {
          "base_uri": "https://localhost:8080/"
        },
        "id": "OuQVmXxzjTwO",
        "outputId": "048da894-07ef-45bf-da79-759864c9c85f"
      },
      "execution_count": 495,
      "outputs": [
        {
          "output_type": "stream",
          "name": "stdout",
          "text": [
            "Evaluate on test data\n",
            "42/42 [==============================] - 0s 4ms/step - loss: 1.2057 - accuracy: 0.6377\n",
            "test loss, test acc: [1.205688714981079, 0.6377245783805847]\n",
            "Accuracy of the model is -  63.77245783805847 %\n"
          ]
        }
      ]
    },
    {
      "cell_type": "markdown",
      "source": [
        "##CROSS VALIDATION"
      ],
      "metadata": {
        "id": "-xnOQtu2mg5X"
      }
    },
    {
      "cell_type": "markdown",
      "source": [
        "##CROSS VALIDATE ON SEMEVAL RESTAURANT"
      ],
      "metadata": {
        "id": "n_K15xRRmkpx"
      }
    },
    {
      "cell_type": "code",
      "source": [
        "df2_test = pd.read_csv(\"/content/drive/MyDrive/ABSA work/codes/processed_SemEval2016/restaurants_test_single.csv\", encoding='utf8')"
      ],
      "metadata": {
        "id": "AAcy7WMFmf-a"
      },
      "execution_count": 496,
      "outputs": []
    },
    {
      "cell_type": "code",
      "source": [
        "df2_test"
      ],
      "metadata": {
        "colab": {
          "base_uri": "https://localhost:8080/",
          "height": 510
        },
        "id": "r4AkF7UxODLE",
        "outputId": "f7e84a7a-dc0e-49a9-e045-a5a814e1e980"
      },
      "execution_count": 497,
      "outputs": [
        {
          "output_type": "execute_result",
          "data": {
            "text/plain": [
              "                        sentence Id  \\\n",
              "0    en_BlueRibbonSushi_478218171:0   \n",
              "1    en_BlueRibbonSushi_478218171:1   \n",
              "2    en_BlueRibbonSushi_478218171:2   \n",
              "3    en_BlueRibbonSushi_478218171:3   \n",
              "4    en_BlueRibbonSushi_478218171:4   \n",
              "..                              ...   \n",
              "854  en_Ray'sBoathouse_477775918:13   \n",
              "855  en_Ray'sBoathouse_477775918:14   \n",
              "856  en_Ray'sBoathouse_477775918:14   \n",
              "857  en_Ray'sBoathouse_477775918:14   \n",
              "858  en_Ray'sBoathouse_477775918:15   \n",
              "\n",
              "                                              sentence  \\\n",
              "0                                                 Yum!   \n",
              "1                            Serves really good sushi.   \n",
              "2               Not the biggest portions but adequate.   \n",
              "3                    Green Tea creme brulee is a must!   \n",
              "4               Don't leave the restaurant without it.   \n",
              "..                                                 ...   \n",
              "854  All considered, I have to say that Ray's Boath...   \n",
              "855  While I could have done without the youth who ...   \n",
              "856  While I could have done without the youth who ...   \n",
              "857  While I could have done without the youth who ...   \n",
              "858                  Oh yeah...the view was good, too.   \n",
              "\n",
              "              aspect_category             aspect_term  from   to  polarity  \n",
              "0                FOOD#QUALITY                     NaN     0    0  positive  \n",
              "1                FOOD#QUALITY                   sushi    19   24  positive  \n",
              "2          FOOD#STYLE_OPTIONS                portions    16   24   neutral  \n",
              "3                FOOD#QUALITY  Green Tea creme brulee     0   22  positive  \n",
              "4                FOOD#QUALITY                     NaN     0    0  positive  \n",
              "..                        ...                     ...   ...  ...       ...  \n",
              "854        RESTAURANT#GENERAL         Ray's Boathouse    35   50  positive  \n",
              "855           SERVICE#GENERAL                  server    88   94  positive  \n",
              "856              FOOD#QUALITY                    food    99  103  positive  \n",
              "857  RESTAURANT#MISCELLANEOUS                     NaN     0    0  negative  \n",
              "858          LOCATION#GENERAL                    view    14   18  positive  \n",
              "\n",
              "[859 rows x 7 columns]"
            ],
            "text/html": [
              "\n",
              "  <div id=\"df-25b3d1e3-636b-427e-9309-8b684f1964cd\" class=\"colab-df-container\">\n",
              "    <div>\n",
              "<style scoped>\n",
              "    .dataframe tbody tr th:only-of-type {\n",
              "        vertical-align: middle;\n",
              "    }\n",
              "\n",
              "    .dataframe tbody tr th {\n",
              "        vertical-align: top;\n",
              "    }\n",
              "\n",
              "    .dataframe thead th {\n",
              "        text-align: right;\n",
              "    }\n",
              "</style>\n",
              "<table border=\"1\" class=\"dataframe\">\n",
              "  <thead>\n",
              "    <tr style=\"text-align: right;\">\n",
              "      <th></th>\n",
              "      <th>sentence Id</th>\n",
              "      <th>sentence</th>\n",
              "      <th>aspect_category</th>\n",
              "      <th>aspect_term</th>\n",
              "      <th>from</th>\n",
              "      <th>to</th>\n",
              "      <th>polarity</th>\n",
              "    </tr>\n",
              "  </thead>\n",
              "  <tbody>\n",
              "    <tr>\n",
              "      <th>0</th>\n",
              "      <td>en_BlueRibbonSushi_478218171:0</td>\n",
              "      <td>Yum!</td>\n",
              "      <td>FOOD#QUALITY</td>\n",
              "      <td>NaN</td>\n",
              "      <td>0</td>\n",
              "      <td>0</td>\n",
              "      <td>positive</td>\n",
              "    </tr>\n",
              "    <tr>\n",
              "      <th>1</th>\n",
              "      <td>en_BlueRibbonSushi_478218171:1</td>\n",
              "      <td>Serves really good sushi.</td>\n",
              "      <td>FOOD#QUALITY</td>\n",
              "      <td>sushi</td>\n",
              "      <td>19</td>\n",
              "      <td>24</td>\n",
              "      <td>positive</td>\n",
              "    </tr>\n",
              "    <tr>\n",
              "      <th>2</th>\n",
              "      <td>en_BlueRibbonSushi_478218171:2</td>\n",
              "      <td>Not the biggest portions but adequate.</td>\n",
              "      <td>FOOD#STYLE_OPTIONS</td>\n",
              "      <td>portions</td>\n",
              "      <td>16</td>\n",
              "      <td>24</td>\n",
              "      <td>neutral</td>\n",
              "    </tr>\n",
              "    <tr>\n",
              "      <th>3</th>\n",
              "      <td>en_BlueRibbonSushi_478218171:3</td>\n",
              "      <td>Green Tea creme brulee is a must!</td>\n",
              "      <td>FOOD#QUALITY</td>\n",
              "      <td>Green Tea creme brulee</td>\n",
              "      <td>0</td>\n",
              "      <td>22</td>\n",
              "      <td>positive</td>\n",
              "    </tr>\n",
              "    <tr>\n",
              "      <th>4</th>\n",
              "      <td>en_BlueRibbonSushi_478218171:4</td>\n",
              "      <td>Don't leave the restaurant without it.</td>\n",
              "      <td>FOOD#QUALITY</td>\n",
              "      <td>NaN</td>\n",
              "      <td>0</td>\n",
              "      <td>0</td>\n",
              "      <td>positive</td>\n",
              "    </tr>\n",
              "    <tr>\n",
              "      <th>...</th>\n",
              "      <td>...</td>\n",
              "      <td>...</td>\n",
              "      <td>...</td>\n",
              "      <td>...</td>\n",
              "      <td>...</td>\n",
              "      <td>...</td>\n",
              "      <td>...</td>\n",
              "    </tr>\n",
              "    <tr>\n",
              "      <th>854</th>\n",
              "      <td>en_Ray'sBoathouse_477775918:13</td>\n",
              "      <td>All considered, I have to say that Ray's Boath...</td>\n",
              "      <td>RESTAURANT#GENERAL</td>\n",
              "      <td>Ray's Boathouse</td>\n",
              "      <td>35</td>\n",
              "      <td>50</td>\n",
              "      <td>positive</td>\n",
              "    </tr>\n",
              "    <tr>\n",
              "      <th>855</th>\n",
              "      <td>en_Ray'sBoathouse_477775918:14</td>\n",
              "      <td>While I could have done without the youth who ...</td>\n",
              "      <td>SERVICE#GENERAL</td>\n",
              "      <td>server</td>\n",
              "      <td>88</td>\n",
              "      <td>94</td>\n",
              "      <td>positive</td>\n",
              "    </tr>\n",
              "    <tr>\n",
              "      <th>856</th>\n",
              "      <td>en_Ray'sBoathouse_477775918:14</td>\n",
              "      <td>While I could have done without the youth who ...</td>\n",
              "      <td>FOOD#QUALITY</td>\n",
              "      <td>food</td>\n",
              "      <td>99</td>\n",
              "      <td>103</td>\n",
              "      <td>positive</td>\n",
              "    </tr>\n",
              "    <tr>\n",
              "      <th>857</th>\n",
              "      <td>en_Ray'sBoathouse_477775918:14</td>\n",
              "      <td>While I could have done without the youth who ...</td>\n",
              "      <td>RESTAURANT#MISCELLANEOUS</td>\n",
              "      <td>NaN</td>\n",
              "      <td>0</td>\n",
              "      <td>0</td>\n",
              "      <td>negative</td>\n",
              "    </tr>\n",
              "    <tr>\n",
              "      <th>858</th>\n",
              "      <td>en_Ray'sBoathouse_477775918:15</td>\n",
              "      <td>Oh yeah...the view was good, too.</td>\n",
              "      <td>LOCATION#GENERAL</td>\n",
              "      <td>view</td>\n",
              "      <td>14</td>\n",
              "      <td>18</td>\n",
              "      <td>positive</td>\n",
              "    </tr>\n",
              "  </tbody>\n",
              "</table>\n",
              "<p>859 rows × 7 columns</p>\n",
              "</div>\n",
              "    <div class=\"colab-df-buttons\">\n",
              "\n",
              "  <div class=\"colab-df-container\">\n",
              "    <button class=\"colab-df-convert\" onclick=\"convertToInteractive('df-25b3d1e3-636b-427e-9309-8b684f1964cd')\"\n",
              "            title=\"Convert this dataframe to an interactive table.\"\n",
              "            style=\"display:none;\">\n",
              "\n",
              "  <svg xmlns=\"http://www.w3.org/2000/svg\" height=\"24px\" viewBox=\"0 -960 960 960\">\n",
              "    <path d=\"M120-120v-720h720v720H120Zm60-500h600v-160H180v160Zm220 220h160v-160H400v160Zm0 220h160v-160H400v160ZM180-400h160v-160H180v160Zm440 0h160v-160H620v160ZM180-180h160v-160H180v160Zm440 0h160v-160H620v160Z\"/>\n",
              "  </svg>\n",
              "    </button>\n",
              "\n",
              "  <style>\n",
              "    .colab-df-container {\n",
              "      display:flex;\n",
              "      gap: 12px;\n",
              "    }\n",
              "\n",
              "    .colab-df-convert {\n",
              "      background-color: #E8F0FE;\n",
              "      border: none;\n",
              "      border-radius: 50%;\n",
              "      cursor: pointer;\n",
              "      display: none;\n",
              "      fill: #1967D2;\n",
              "      height: 32px;\n",
              "      padding: 0 0 0 0;\n",
              "      width: 32px;\n",
              "    }\n",
              "\n",
              "    .colab-df-convert:hover {\n",
              "      background-color: #E2EBFA;\n",
              "      box-shadow: 0px 1px 2px rgba(60, 64, 67, 0.3), 0px 1px 3px 1px rgba(60, 64, 67, 0.15);\n",
              "      fill: #174EA6;\n",
              "    }\n",
              "\n",
              "    .colab-df-buttons div {\n",
              "      margin-bottom: 4px;\n",
              "    }\n",
              "\n",
              "    [theme=dark] .colab-df-convert {\n",
              "      background-color: #3B4455;\n",
              "      fill: #D2E3FC;\n",
              "    }\n",
              "\n",
              "    [theme=dark] .colab-df-convert:hover {\n",
              "      background-color: #434B5C;\n",
              "      box-shadow: 0px 1px 3px 1px rgba(0, 0, 0, 0.15);\n",
              "      filter: drop-shadow(0px 1px 2px rgba(0, 0, 0, 0.3));\n",
              "      fill: #FFFFFF;\n",
              "    }\n",
              "  </style>\n",
              "\n",
              "    <script>\n",
              "      const buttonEl =\n",
              "        document.querySelector('#df-25b3d1e3-636b-427e-9309-8b684f1964cd button.colab-df-convert');\n",
              "      buttonEl.style.display =\n",
              "        google.colab.kernel.accessAllowed ? 'block' : 'none';\n",
              "\n",
              "      async function convertToInteractive(key) {\n",
              "        const element = document.querySelector('#df-25b3d1e3-636b-427e-9309-8b684f1964cd');\n",
              "        const dataTable =\n",
              "          await google.colab.kernel.invokeFunction('convertToInteractive',\n",
              "                                                    [key], {});\n",
              "        if (!dataTable) return;\n",
              "\n",
              "        const docLinkHtml = 'Like what you see? Visit the ' +\n",
              "          '<a target=\"_blank\" href=https://colab.research.google.com/notebooks/data_table.ipynb>data table notebook</a>'\n",
              "          + ' to learn more about interactive tables.';\n",
              "        element.innerHTML = '';\n",
              "        dataTable['output_type'] = 'display_data';\n",
              "        await google.colab.output.renderOutput(dataTable, element);\n",
              "        const docLink = document.createElement('div');\n",
              "        docLink.innerHTML = docLinkHtml;\n",
              "        element.appendChild(docLink);\n",
              "      }\n",
              "    </script>\n",
              "  </div>\n",
              "\n",
              "\n",
              "<div id=\"df-677dab8e-c471-4c22-97fb-af2a8ed188b3\">\n",
              "  <button class=\"colab-df-quickchart\" onclick=\"quickchart('df-677dab8e-c471-4c22-97fb-af2a8ed188b3')\"\n",
              "            title=\"Suggest charts.\"\n",
              "            style=\"display:none;\">\n",
              "\n",
              "<svg xmlns=\"http://www.w3.org/2000/svg\" height=\"24px\"viewBox=\"0 0 24 24\"\n",
              "     width=\"24px\">\n",
              "    <g>\n",
              "        <path d=\"M19 3H5c-1.1 0-2 .9-2 2v14c0 1.1.9 2 2 2h14c1.1 0 2-.9 2-2V5c0-1.1-.9-2-2-2zM9 17H7v-7h2v7zm4 0h-2V7h2v10zm4 0h-2v-4h2v4z\"/>\n",
              "    </g>\n",
              "</svg>\n",
              "  </button>\n",
              "\n",
              "<style>\n",
              "  .colab-df-quickchart {\n",
              "      --bg-color: #E8F0FE;\n",
              "      --fill-color: #1967D2;\n",
              "      --hover-bg-color: #E2EBFA;\n",
              "      --hover-fill-color: #174EA6;\n",
              "      --disabled-fill-color: #AAA;\n",
              "      --disabled-bg-color: #DDD;\n",
              "  }\n",
              "\n",
              "  [theme=dark] .colab-df-quickchart {\n",
              "      --bg-color: #3B4455;\n",
              "      --fill-color: #D2E3FC;\n",
              "      --hover-bg-color: #434B5C;\n",
              "      --hover-fill-color: #FFFFFF;\n",
              "      --disabled-bg-color: #3B4455;\n",
              "      --disabled-fill-color: #666;\n",
              "  }\n",
              "\n",
              "  .colab-df-quickchart {\n",
              "    background-color: var(--bg-color);\n",
              "    border: none;\n",
              "    border-radius: 50%;\n",
              "    cursor: pointer;\n",
              "    display: none;\n",
              "    fill: var(--fill-color);\n",
              "    height: 32px;\n",
              "    padding: 0;\n",
              "    width: 32px;\n",
              "  }\n",
              "\n",
              "  .colab-df-quickchart:hover {\n",
              "    background-color: var(--hover-bg-color);\n",
              "    box-shadow: 0 1px 2px rgba(60, 64, 67, 0.3), 0 1px 3px 1px rgba(60, 64, 67, 0.15);\n",
              "    fill: var(--button-hover-fill-color);\n",
              "  }\n",
              "\n",
              "  .colab-df-quickchart-complete:disabled,\n",
              "  .colab-df-quickchart-complete:disabled:hover {\n",
              "    background-color: var(--disabled-bg-color);\n",
              "    fill: var(--disabled-fill-color);\n",
              "    box-shadow: none;\n",
              "  }\n",
              "\n",
              "  .colab-df-spinner {\n",
              "    border: 2px solid var(--fill-color);\n",
              "    border-color: transparent;\n",
              "    border-bottom-color: var(--fill-color);\n",
              "    animation:\n",
              "      spin 1s steps(1) infinite;\n",
              "  }\n",
              "\n",
              "  @keyframes spin {\n",
              "    0% {\n",
              "      border-color: transparent;\n",
              "      border-bottom-color: var(--fill-color);\n",
              "      border-left-color: var(--fill-color);\n",
              "    }\n",
              "    20% {\n",
              "      border-color: transparent;\n",
              "      border-left-color: var(--fill-color);\n",
              "      border-top-color: var(--fill-color);\n",
              "    }\n",
              "    30% {\n",
              "      border-color: transparent;\n",
              "      border-left-color: var(--fill-color);\n",
              "      border-top-color: var(--fill-color);\n",
              "      border-right-color: var(--fill-color);\n",
              "    }\n",
              "    40% {\n",
              "      border-color: transparent;\n",
              "      border-right-color: var(--fill-color);\n",
              "      border-top-color: var(--fill-color);\n",
              "    }\n",
              "    60% {\n",
              "      border-color: transparent;\n",
              "      border-right-color: var(--fill-color);\n",
              "    }\n",
              "    80% {\n",
              "      border-color: transparent;\n",
              "      border-right-color: var(--fill-color);\n",
              "      border-bottom-color: var(--fill-color);\n",
              "    }\n",
              "    90% {\n",
              "      border-color: transparent;\n",
              "      border-bottom-color: var(--fill-color);\n",
              "    }\n",
              "  }\n",
              "</style>\n",
              "\n",
              "  <script>\n",
              "    async function quickchart(key) {\n",
              "      const quickchartButtonEl =\n",
              "        document.querySelector('#' + key + ' button');\n",
              "      quickchartButtonEl.disabled = true;  // To prevent multiple clicks.\n",
              "      quickchartButtonEl.classList.add('colab-df-spinner');\n",
              "      try {\n",
              "        const charts = await google.colab.kernel.invokeFunction(\n",
              "            'suggestCharts', [key], {});\n",
              "      } catch (error) {\n",
              "        console.error('Error during call to suggestCharts:', error);\n",
              "      }\n",
              "      quickchartButtonEl.classList.remove('colab-df-spinner');\n",
              "      quickchartButtonEl.classList.add('colab-df-quickchart-complete');\n",
              "    }\n",
              "    (() => {\n",
              "      let quickchartButtonEl =\n",
              "        document.querySelector('#df-677dab8e-c471-4c22-97fb-af2a8ed188b3 button');\n",
              "      quickchartButtonEl.style.display =\n",
              "        google.colab.kernel.accessAllowed ? 'block' : 'none';\n",
              "    })();\n",
              "  </script>\n",
              "</div>\n",
              "    </div>\n",
              "  </div>\n"
            ]
          },
          "metadata": {},
          "execution_count": 497
        }
      ]
    },
    {
      "cell_type": "code",
      "source": [
        "df2_test.drop(columns=['from' , 'to', 'aspect_category'], inplace=True)\n"
      ],
      "metadata": {
        "id": "0Mmtrk7ZzOYu"
      },
      "execution_count": 498,
      "outputs": []
    },
    {
      "cell_type": "code",
      "source": [
        "df2_test=df2_test.dropna(axis=0)\n"
      ],
      "metadata": {
        "id": "g2ghx0ySzUh3"
      },
      "execution_count": 499,
      "outputs": []
    },
    {
      "cell_type": "code",
      "source": [
        "df2_test"
      ],
      "metadata": {
        "colab": {
          "base_uri": "https://localhost:8080/",
          "height": 424
        },
        "id": "Lv2llNshOPWL",
        "outputId": "fbe261b2-7824-48c0-8fdc-3f27cc41dcc1"
      },
      "execution_count": 500,
      "outputs": [
        {
          "output_type": "execute_result",
          "data": {
            "text/plain": [
              "                        sentence Id  \\\n",
              "1    en_BlueRibbonSushi_478218171:1   \n",
              "2    en_BlueRibbonSushi_478218171:2   \n",
              "3    en_BlueRibbonSushi_478218171:3   \n",
              "6    en_BlueRibbonSushi_478218345:1   \n",
              "7    en_BlueRibbonSushi_478218345:2   \n",
              "..                              ...   \n",
              "852  en_Ray'sBoathouse_477775918:10   \n",
              "854  en_Ray'sBoathouse_477775918:13   \n",
              "855  en_Ray'sBoathouse_477775918:14   \n",
              "856  en_Ray'sBoathouse_477775918:14   \n",
              "858  en_Ray'sBoathouse_477775918:15   \n",
              "\n",
              "                                              sentence  \\\n",
              "1                            Serves really good sushi.   \n",
              "2               Not the biggest portions but adequate.   \n",
              "3                    Green Tea creme brulee is a must!   \n",
              "6               – I can't say enough about this place.   \n",
              "7          It has great sushi and even better service.   \n",
              "..                                                 ...   \n",
              "852  Our server continued to be attentive throughou...   \n",
              "854  All considered, I have to say that Ray's Boath...   \n",
              "855  While I could have done without the youth who ...   \n",
              "856  While I could have done without the youth who ...   \n",
              "858                  Oh yeah...the view was good, too.   \n",
              "\n",
              "                aspect_term  polarity  \n",
              "1                     sushi  positive  \n",
              "2                  portions   neutral  \n",
              "3    Green Tea creme brulee  positive  \n",
              "6                     place  positive  \n",
              "7                     sushi  positive  \n",
              "..                      ...       ...  \n",
              "852                   Ray's   neutral  \n",
              "854         Ray's Boathouse  positive  \n",
              "855                  server  positive  \n",
              "856                    food  positive  \n",
              "858                    view  positive  \n",
              "\n",
              "[650 rows x 4 columns]"
            ],
            "text/html": [
              "\n",
              "  <div id=\"df-f153cd40-2551-49e9-9f06-0da2d85da215\" class=\"colab-df-container\">\n",
              "    <div>\n",
              "<style scoped>\n",
              "    .dataframe tbody tr th:only-of-type {\n",
              "        vertical-align: middle;\n",
              "    }\n",
              "\n",
              "    .dataframe tbody tr th {\n",
              "        vertical-align: top;\n",
              "    }\n",
              "\n",
              "    .dataframe thead th {\n",
              "        text-align: right;\n",
              "    }\n",
              "</style>\n",
              "<table border=\"1\" class=\"dataframe\">\n",
              "  <thead>\n",
              "    <tr style=\"text-align: right;\">\n",
              "      <th></th>\n",
              "      <th>sentence Id</th>\n",
              "      <th>sentence</th>\n",
              "      <th>aspect_term</th>\n",
              "      <th>polarity</th>\n",
              "    </tr>\n",
              "  </thead>\n",
              "  <tbody>\n",
              "    <tr>\n",
              "      <th>1</th>\n",
              "      <td>en_BlueRibbonSushi_478218171:1</td>\n",
              "      <td>Serves really good sushi.</td>\n",
              "      <td>sushi</td>\n",
              "      <td>positive</td>\n",
              "    </tr>\n",
              "    <tr>\n",
              "      <th>2</th>\n",
              "      <td>en_BlueRibbonSushi_478218171:2</td>\n",
              "      <td>Not the biggest portions but adequate.</td>\n",
              "      <td>portions</td>\n",
              "      <td>neutral</td>\n",
              "    </tr>\n",
              "    <tr>\n",
              "      <th>3</th>\n",
              "      <td>en_BlueRibbonSushi_478218171:3</td>\n",
              "      <td>Green Tea creme brulee is a must!</td>\n",
              "      <td>Green Tea creme brulee</td>\n",
              "      <td>positive</td>\n",
              "    </tr>\n",
              "    <tr>\n",
              "      <th>6</th>\n",
              "      <td>en_BlueRibbonSushi_478218345:1</td>\n",
              "      <td>– I can't say enough about this place.</td>\n",
              "      <td>place</td>\n",
              "      <td>positive</td>\n",
              "    </tr>\n",
              "    <tr>\n",
              "      <th>7</th>\n",
              "      <td>en_BlueRibbonSushi_478218345:2</td>\n",
              "      <td>It has great sushi and even better service.</td>\n",
              "      <td>sushi</td>\n",
              "      <td>positive</td>\n",
              "    </tr>\n",
              "    <tr>\n",
              "      <th>...</th>\n",
              "      <td>...</td>\n",
              "      <td>...</td>\n",
              "      <td>...</td>\n",
              "      <td>...</td>\n",
              "    </tr>\n",
              "    <tr>\n",
              "      <th>852</th>\n",
              "      <td>en_Ray'sBoathouse_477775918:10</td>\n",
              "      <td>Our server continued to be attentive throughou...</td>\n",
              "      <td>Ray's</td>\n",
              "      <td>neutral</td>\n",
              "    </tr>\n",
              "    <tr>\n",
              "      <th>854</th>\n",
              "      <td>en_Ray'sBoathouse_477775918:13</td>\n",
              "      <td>All considered, I have to say that Ray's Boath...</td>\n",
              "      <td>Ray's Boathouse</td>\n",
              "      <td>positive</td>\n",
              "    </tr>\n",
              "    <tr>\n",
              "      <th>855</th>\n",
              "      <td>en_Ray'sBoathouse_477775918:14</td>\n",
              "      <td>While I could have done without the youth who ...</td>\n",
              "      <td>server</td>\n",
              "      <td>positive</td>\n",
              "    </tr>\n",
              "    <tr>\n",
              "      <th>856</th>\n",
              "      <td>en_Ray'sBoathouse_477775918:14</td>\n",
              "      <td>While I could have done without the youth who ...</td>\n",
              "      <td>food</td>\n",
              "      <td>positive</td>\n",
              "    </tr>\n",
              "    <tr>\n",
              "      <th>858</th>\n",
              "      <td>en_Ray'sBoathouse_477775918:15</td>\n",
              "      <td>Oh yeah...the view was good, too.</td>\n",
              "      <td>view</td>\n",
              "      <td>positive</td>\n",
              "    </tr>\n",
              "  </tbody>\n",
              "</table>\n",
              "<p>650 rows × 4 columns</p>\n",
              "</div>\n",
              "    <div class=\"colab-df-buttons\">\n",
              "\n",
              "  <div class=\"colab-df-container\">\n",
              "    <button class=\"colab-df-convert\" onclick=\"convertToInteractive('df-f153cd40-2551-49e9-9f06-0da2d85da215')\"\n",
              "            title=\"Convert this dataframe to an interactive table.\"\n",
              "            style=\"display:none;\">\n",
              "\n",
              "  <svg xmlns=\"http://www.w3.org/2000/svg\" height=\"24px\" viewBox=\"0 -960 960 960\">\n",
              "    <path d=\"M120-120v-720h720v720H120Zm60-500h600v-160H180v160Zm220 220h160v-160H400v160Zm0 220h160v-160H400v160ZM180-400h160v-160H180v160Zm440 0h160v-160H620v160ZM180-180h160v-160H180v160Zm440 0h160v-160H620v160Z\"/>\n",
              "  </svg>\n",
              "    </button>\n",
              "\n",
              "  <style>\n",
              "    .colab-df-container {\n",
              "      display:flex;\n",
              "      gap: 12px;\n",
              "    }\n",
              "\n",
              "    .colab-df-convert {\n",
              "      background-color: #E8F0FE;\n",
              "      border: none;\n",
              "      border-radius: 50%;\n",
              "      cursor: pointer;\n",
              "      display: none;\n",
              "      fill: #1967D2;\n",
              "      height: 32px;\n",
              "      padding: 0 0 0 0;\n",
              "      width: 32px;\n",
              "    }\n",
              "\n",
              "    .colab-df-convert:hover {\n",
              "      background-color: #E2EBFA;\n",
              "      box-shadow: 0px 1px 2px rgba(60, 64, 67, 0.3), 0px 1px 3px 1px rgba(60, 64, 67, 0.15);\n",
              "      fill: #174EA6;\n",
              "    }\n",
              "\n",
              "    .colab-df-buttons div {\n",
              "      margin-bottom: 4px;\n",
              "    }\n",
              "\n",
              "    [theme=dark] .colab-df-convert {\n",
              "      background-color: #3B4455;\n",
              "      fill: #D2E3FC;\n",
              "    }\n",
              "\n",
              "    [theme=dark] .colab-df-convert:hover {\n",
              "      background-color: #434B5C;\n",
              "      box-shadow: 0px 1px 3px 1px rgba(0, 0, 0, 0.15);\n",
              "      filter: drop-shadow(0px 1px 2px rgba(0, 0, 0, 0.3));\n",
              "      fill: #FFFFFF;\n",
              "    }\n",
              "  </style>\n",
              "\n",
              "    <script>\n",
              "      const buttonEl =\n",
              "        document.querySelector('#df-f153cd40-2551-49e9-9f06-0da2d85da215 button.colab-df-convert');\n",
              "      buttonEl.style.display =\n",
              "        google.colab.kernel.accessAllowed ? 'block' : 'none';\n",
              "\n",
              "      async function convertToInteractive(key) {\n",
              "        const element = document.querySelector('#df-f153cd40-2551-49e9-9f06-0da2d85da215');\n",
              "        const dataTable =\n",
              "          await google.colab.kernel.invokeFunction('convertToInteractive',\n",
              "                                                    [key], {});\n",
              "        if (!dataTable) return;\n",
              "\n",
              "        const docLinkHtml = 'Like what you see? Visit the ' +\n",
              "          '<a target=\"_blank\" href=https://colab.research.google.com/notebooks/data_table.ipynb>data table notebook</a>'\n",
              "          + ' to learn more about interactive tables.';\n",
              "        element.innerHTML = '';\n",
              "        dataTable['output_type'] = 'display_data';\n",
              "        await google.colab.output.renderOutput(dataTable, element);\n",
              "        const docLink = document.createElement('div');\n",
              "        docLink.innerHTML = docLinkHtml;\n",
              "        element.appendChild(docLink);\n",
              "      }\n",
              "    </script>\n",
              "  </div>\n",
              "\n",
              "\n",
              "<div id=\"df-4e74b3c9-8d26-4d38-9a7f-ff94e42b30da\">\n",
              "  <button class=\"colab-df-quickchart\" onclick=\"quickchart('df-4e74b3c9-8d26-4d38-9a7f-ff94e42b30da')\"\n",
              "            title=\"Suggest charts.\"\n",
              "            style=\"display:none;\">\n",
              "\n",
              "<svg xmlns=\"http://www.w3.org/2000/svg\" height=\"24px\"viewBox=\"0 0 24 24\"\n",
              "     width=\"24px\">\n",
              "    <g>\n",
              "        <path d=\"M19 3H5c-1.1 0-2 .9-2 2v14c0 1.1.9 2 2 2h14c1.1 0 2-.9 2-2V5c0-1.1-.9-2-2-2zM9 17H7v-7h2v7zm4 0h-2V7h2v10zm4 0h-2v-4h2v4z\"/>\n",
              "    </g>\n",
              "</svg>\n",
              "  </button>\n",
              "\n",
              "<style>\n",
              "  .colab-df-quickchart {\n",
              "      --bg-color: #E8F0FE;\n",
              "      --fill-color: #1967D2;\n",
              "      --hover-bg-color: #E2EBFA;\n",
              "      --hover-fill-color: #174EA6;\n",
              "      --disabled-fill-color: #AAA;\n",
              "      --disabled-bg-color: #DDD;\n",
              "  }\n",
              "\n",
              "  [theme=dark] .colab-df-quickchart {\n",
              "      --bg-color: #3B4455;\n",
              "      --fill-color: #D2E3FC;\n",
              "      --hover-bg-color: #434B5C;\n",
              "      --hover-fill-color: #FFFFFF;\n",
              "      --disabled-bg-color: #3B4455;\n",
              "      --disabled-fill-color: #666;\n",
              "  }\n",
              "\n",
              "  .colab-df-quickchart {\n",
              "    background-color: var(--bg-color);\n",
              "    border: none;\n",
              "    border-radius: 50%;\n",
              "    cursor: pointer;\n",
              "    display: none;\n",
              "    fill: var(--fill-color);\n",
              "    height: 32px;\n",
              "    padding: 0;\n",
              "    width: 32px;\n",
              "  }\n",
              "\n",
              "  .colab-df-quickchart:hover {\n",
              "    background-color: var(--hover-bg-color);\n",
              "    box-shadow: 0 1px 2px rgba(60, 64, 67, 0.3), 0 1px 3px 1px rgba(60, 64, 67, 0.15);\n",
              "    fill: var(--button-hover-fill-color);\n",
              "  }\n",
              "\n",
              "  .colab-df-quickchart-complete:disabled,\n",
              "  .colab-df-quickchart-complete:disabled:hover {\n",
              "    background-color: var(--disabled-bg-color);\n",
              "    fill: var(--disabled-fill-color);\n",
              "    box-shadow: none;\n",
              "  }\n",
              "\n",
              "  .colab-df-spinner {\n",
              "    border: 2px solid var(--fill-color);\n",
              "    border-color: transparent;\n",
              "    border-bottom-color: var(--fill-color);\n",
              "    animation:\n",
              "      spin 1s steps(1) infinite;\n",
              "  }\n",
              "\n",
              "  @keyframes spin {\n",
              "    0% {\n",
              "      border-color: transparent;\n",
              "      border-bottom-color: var(--fill-color);\n",
              "      border-left-color: var(--fill-color);\n",
              "    }\n",
              "    20% {\n",
              "      border-color: transparent;\n",
              "      border-left-color: var(--fill-color);\n",
              "      border-top-color: var(--fill-color);\n",
              "    }\n",
              "    30% {\n",
              "      border-color: transparent;\n",
              "      border-left-color: var(--fill-color);\n",
              "      border-top-color: var(--fill-color);\n",
              "      border-right-color: var(--fill-color);\n",
              "    }\n",
              "    40% {\n",
              "      border-color: transparent;\n",
              "      border-right-color: var(--fill-color);\n",
              "      border-top-color: var(--fill-color);\n",
              "    }\n",
              "    60% {\n",
              "      border-color: transparent;\n",
              "      border-right-color: var(--fill-color);\n",
              "    }\n",
              "    80% {\n",
              "      border-color: transparent;\n",
              "      border-right-color: var(--fill-color);\n",
              "      border-bottom-color: var(--fill-color);\n",
              "    }\n",
              "    90% {\n",
              "      border-color: transparent;\n",
              "      border-bottom-color: var(--fill-color);\n",
              "    }\n",
              "  }\n",
              "</style>\n",
              "\n",
              "  <script>\n",
              "    async function quickchart(key) {\n",
              "      const quickchartButtonEl =\n",
              "        document.querySelector('#' + key + ' button');\n",
              "      quickchartButtonEl.disabled = true;  // To prevent multiple clicks.\n",
              "      quickchartButtonEl.classList.add('colab-df-spinner');\n",
              "      try {\n",
              "        const charts = await google.colab.kernel.invokeFunction(\n",
              "            'suggestCharts', [key], {});\n",
              "      } catch (error) {\n",
              "        console.error('Error during call to suggestCharts:', error);\n",
              "      }\n",
              "      quickchartButtonEl.classList.remove('colab-df-spinner');\n",
              "      quickchartButtonEl.classList.add('colab-df-quickchart-complete');\n",
              "    }\n",
              "    (() => {\n",
              "      let quickchartButtonEl =\n",
              "        document.querySelector('#df-4e74b3c9-8d26-4d38-9a7f-ff94e42b30da button');\n",
              "      quickchartButtonEl.style.display =\n",
              "        google.colab.kernel.accessAllowed ? 'block' : 'none';\n",
              "    })();\n",
              "  </script>\n",
              "</div>\n",
              "    </div>\n",
              "  </div>\n"
            ]
          },
          "metadata": {},
          "execution_count": 500
        }
      ]
    },
    {
      "cell_type": "code",
      "source": [
        "df2_test['polarity'][df2_test[\"polarity\"] == 'negative'] = 0\n",
        "df2_test['polarity'][df2_test[\"polarity\"] == 'positive'] = 1\n",
        "df2_test['polarity'][df2_test[\"polarity\"] == 'neutral'] = 2\n"
      ],
      "metadata": {
        "id": "BFDj_BjqmXCz",
        "colab": {
          "base_uri": "https://localhost:8080/"
        },
        "outputId": "2dc7ac16-dc08-4c88-dc26-6045c8f78aed"
      },
      "execution_count": 501,
      "outputs": [
        {
          "output_type": "stream",
          "name": "stderr",
          "text": [
            "<ipython-input-501-ee27ebe34892>:1: SettingWithCopyWarning: \n",
            "A value is trying to be set on a copy of a slice from a DataFrame\n",
            "\n",
            "See the caveats in the documentation: https://pandas.pydata.org/pandas-docs/stable/user_guide/indexing.html#returning-a-view-versus-a-copy\n",
            "  df2_test['polarity'][df2_test[\"polarity\"] == 'negative'] = 0\n",
            "<ipython-input-501-ee27ebe34892>:2: SettingWithCopyWarning: \n",
            "A value is trying to be set on a copy of a slice from a DataFrame\n",
            "\n",
            "See the caveats in the documentation: https://pandas.pydata.org/pandas-docs/stable/user_guide/indexing.html#returning-a-view-versus-a-copy\n",
            "  df2_test['polarity'][df2_test[\"polarity\"] == 'positive'] = 1\n",
            "<ipython-input-501-ee27ebe34892>:3: SettingWithCopyWarning: \n",
            "A value is trying to be set on a copy of a slice from a DataFrame\n",
            "\n",
            "See the caveats in the documentation: https://pandas.pydata.org/pandas-docs/stable/user_guide/indexing.html#returning-a-view-versus-a-copy\n",
            "  df2_test['polarity'][df2_test[\"polarity\"] == 'neutral'] = 2\n"
          ]
        }
      ]
    },
    {
      "cell_type": "code",
      "source": [
        "X_test = df2_test"
      ],
      "metadata": {
        "id": "buoJjXnhzfJb"
      },
      "execution_count": 502,
      "outputs": []
    },
    {
      "cell_type": "code",
      "source": [
        "\n",
        "## Convert polarity Values to Integers\n",
        "X_test[\"polarity\"] = pd.to_numeric(X_test[\"polarity\"],errors='coerce')\n"
      ],
      "metadata": {
        "id": "wO8lVqI4zhV8",
        "colab": {
          "base_uri": "https://localhost:8080/"
        },
        "outputId": "44c326f1-eb33-43b2-d77f-1e0cec68b803"
      },
      "execution_count": 503,
      "outputs": [
        {
          "output_type": "stream",
          "name": "stderr",
          "text": [
            "<ipython-input-503-9dad12974081>:2: SettingWithCopyWarning: \n",
            "A value is trying to be set on a copy of a slice from a DataFrame.\n",
            "Try using .loc[row_indexer,col_indexer] = value instead\n",
            "\n",
            "See the caveats in the documentation: https://pandas.pydata.org/pandas-docs/stable/user_guide/indexing.html#returning-a-view-versus-a-copy\n",
            "  X_test[\"polarity\"] = pd.to_numeric(X_test[\"polarity\"],errors='coerce')\n"
          ]
        }
      ]
    },
    {
      "cell_type": "code",
      "source": [
        "y_test = X_test[\"polarity\"]"
      ],
      "metadata": {
        "id": "k32uN8z9zj6j"
      },
      "execution_count": 504,
      "outputs": []
    },
    {
      "cell_type": "code",
      "source": [
        "tokenizer = Tokenizer(num_words=NUM_WORDS,\n",
        "                      filters='!\"#$%&()*+,-./:;<=>?@[\\\\]^_`{|}~\\t\\n',\n",
        "                      lower=True, )\n",
        "## Fit_on_texts : Updates internal vocabulary based on a list of texts.\n",
        "tokenizer.fit_on_texts(list(X_train.sentence))\n",
        "text_X_test_tokenized = tokenizer.texts_to_sequences(X_test.sentence) # list of tokenized sentences\n",
        "Aspect_X_test_tokenized = tokenizer.texts_to_sequences(X_test['aspect_term']) # list of tokenized sentences\n"
      ],
      "metadata": {
        "id": "7c0m8YLXzogI"
      },
      "execution_count": 505,
      "outputs": []
    },
    {
      "cell_type": "code",
      "source": [],
      "metadata": {
        "id": "BoYPyaxUzw8W"
      },
      "execution_count": 505,
      "outputs": []
    },
    {
      "cell_type": "code",
      "source": [
        "## Pads sequences(or sentences) to the same length.\n",
        "\n",
        "\n",
        "\n",
        "text_X_test_padded = pad_sequences(text_X_test_tokenized, maxlen=Max_Len)\n",
        "aspect_X_test_padded = pad_sequences(Aspect_X_test_tokenized, maxlen=1)\n"
      ],
      "metadata": {
        "id": "ZSem8DQqzxvw"
      },
      "execution_count": 506,
      "outputs": []
    },
    {
      "cell_type": "code",
      "source": [
        "test_data =   [text_X_test_padded,aspect_X_test_padded]\n"
      ],
      "metadata": {
        "id": "k44-buJ80G6S"
      },
      "execution_count": 507,
      "outputs": []
    },
    {
      "cell_type": "code",
      "source": [
        "\n",
        "print(\"Evaluate on test data\")\n",
        "results = atae_lstm_model.evaluate(x = test_data , y = y_test )\n",
        "print(\"test loss, test acc:\", results)\n",
        "print(\"Accuracy of the model is - \" , results[1]*100 , \"%\")\n"
      ],
      "metadata": {
        "colab": {
          "base_uri": "https://localhost:8080/"
        },
        "id": "s7J_ht6v0KwB",
        "outputId": "ebe394a4-cdf1-4f7c-b9f0-71ce28d71ee2"
      },
      "execution_count": 508,
      "outputs": [
        {
          "output_type": "stream",
          "name": "stdout",
          "text": [
            "Evaluate on test data\n",
            "21/21 [==============================] - 0s 4ms/step - loss: 1.5563 - accuracy: 0.5308\n",
            "test loss, test acc: [1.5563015937805176, 0.5307692289352417]\n",
            "Accuracy of the model is -  53.07692289352417 %\n"
          ]
        }
      ]
    },
    {
      "cell_type": "markdown",
      "source": [
        "##CROSS VALIDATE ON YASO"
      ],
      "metadata": {
        "id": "baajsffE2Fgl"
      }
    },
    {
      "cell_type": "code",
      "source": [
        "df2_test = pd.read_csv(\"/content/drive/MyDrive/ABSA work/codes/processed_YASO/TSA-MD_val_single.csv\")"
      ],
      "metadata": {
        "id": "JlARt3OT1pwL"
      },
      "execution_count": 509,
      "outputs": []
    },
    {
      "cell_type": "code",
      "source": [
        "def delete_rows_with_target_not_found(df):\n",
        "    return df.loc[df['aspect_term'] != 'Target Not Found']\n"
      ],
      "metadata": {
        "id": "q5kwD3xwGmPV"
      },
      "execution_count": 510,
      "outputs": []
    },
    {
      "cell_type": "code",
      "source": [
        "df2_test = delete_rows_with_target_not_found(df2_test)"
      ],
      "metadata": {
        "id": "Ndlx_Ic8GnQT"
      },
      "execution_count": 511,
      "outputs": []
    },
    {
      "cell_type": "code",
      "source": [
        "df2_test"
      ],
      "metadata": {
        "colab": {
          "base_uri": "https://localhost:8080/",
          "height": 424
        },
        "id": "zYL1zcKK5s5t",
        "outputId": "f3a3b3be-a9bb-4114-d885-c277a50b8dc0"
      },
      "execution_count": 512,
      "outputs": [
        {
          "output_type": "execute_result",
          "data": {
            "text/plain": [
              "                                              sentence  \\\n",
              "0         \"Typical\" Italian food was far from typical.   \n",
              "1    After a few weeks the tablet started asking fo...   \n",
              "2    After a few weeks the tablet started asking fo...   \n",
              "3    After a few weeks the tablet started asking fo...   \n",
              "4    After a few weeks the tablet started asking fo...   \n",
              "..                                                 ...   \n",
              "306  yesterday, I ordered four chicken sandwiches b...   \n",
              "307  yesterday, I ordered four chicken sandwiches b...   \n",
              "308  yesterday, I ordered four chicken sandwiches b...   \n",
              "309             you can find there anything you want .   \n",
              "310  you can let your child  play in the kids area ...   \n",
              "\n",
              "                            aspect_term  begin  end  polarity  \n",
              "0                          Italian food     10   22  negative  \n",
              "1                                 sound    128  133  positive  \n",
              "2                                   buy    251  254  positive  \n",
              "3                   wireless headphones    202  221  positive  \n",
              "4    resolution of the camera is decent     88  122  positive  \n",
              "..                                  ...    ...  ...       ...  \n",
              "306                           delivered    105  114  negative  \n",
              "307                     quality of food     53   68  negative  \n",
              "308                  chicken sandwiches     26   44  negative  \n",
              "309                               there     13   18  positive  \n",
              "310                           kids area     36   45  positive  \n",
              "\n",
              "[311 rows x 5 columns]"
            ],
            "text/html": [
              "\n",
              "  <div id=\"df-0f0f0b9e-3a2a-4a61-85ea-c81478617c17\" class=\"colab-df-container\">\n",
              "    <div>\n",
              "<style scoped>\n",
              "    .dataframe tbody tr th:only-of-type {\n",
              "        vertical-align: middle;\n",
              "    }\n",
              "\n",
              "    .dataframe tbody tr th {\n",
              "        vertical-align: top;\n",
              "    }\n",
              "\n",
              "    .dataframe thead th {\n",
              "        text-align: right;\n",
              "    }\n",
              "</style>\n",
              "<table border=\"1\" class=\"dataframe\">\n",
              "  <thead>\n",
              "    <tr style=\"text-align: right;\">\n",
              "      <th></th>\n",
              "      <th>sentence</th>\n",
              "      <th>aspect_term</th>\n",
              "      <th>begin</th>\n",
              "      <th>end</th>\n",
              "      <th>polarity</th>\n",
              "    </tr>\n",
              "  </thead>\n",
              "  <tbody>\n",
              "    <tr>\n",
              "      <th>0</th>\n",
              "      <td>\"Typical\" Italian food was far from typical.</td>\n",
              "      <td>Italian food</td>\n",
              "      <td>10</td>\n",
              "      <td>22</td>\n",
              "      <td>negative</td>\n",
              "    </tr>\n",
              "    <tr>\n",
              "      <th>1</th>\n",
              "      <td>After a few weeks the tablet started asking fo...</td>\n",
              "      <td>sound</td>\n",
              "      <td>128</td>\n",
              "      <td>133</td>\n",
              "      <td>positive</td>\n",
              "    </tr>\n",
              "    <tr>\n",
              "      <th>2</th>\n",
              "      <td>After a few weeks the tablet started asking fo...</td>\n",
              "      <td>buy</td>\n",
              "      <td>251</td>\n",
              "      <td>254</td>\n",
              "      <td>positive</td>\n",
              "    </tr>\n",
              "    <tr>\n",
              "      <th>3</th>\n",
              "      <td>After a few weeks the tablet started asking fo...</td>\n",
              "      <td>wireless headphones</td>\n",
              "      <td>202</td>\n",
              "      <td>221</td>\n",
              "      <td>positive</td>\n",
              "    </tr>\n",
              "    <tr>\n",
              "      <th>4</th>\n",
              "      <td>After a few weeks the tablet started asking fo...</td>\n",
              "      <td>resolution of the camera is decent</td>\n",
              "      <td>88</td>\n",
              "      <td>122</td>\n",
              "      <td>positive</td>\n",
              "    </tr>\n",
              "    <tr>\n",
              "      <th>...</th>\n",
              "      <td>...</td>\n",
              "      <td>...</td>\n",
              "      <td>...</td>\n",
              "      <td>...</td>\n",
              "      <td>...</td>\n",
              "    </tr>\n",
              "    <tr>\n",
              "      <th>306</th>\n",
              "      <td>yesterday, I ordered four chicken sandwiches b...</td>\n",
              "      <td>delivered</td>\n",
              "      <td>105</td>\n",
              "      <td>114</td>\n",
              "      <td>negative</td>\n",
              "    </tr>\n",
              "    <tr>\n",
              "      <th>307</th>\n",
              "      <td>yesterday, I ordered four chicken sandwiches b...</td>\n",
              "      <td>quality of food</td>\n",
              "      <td>53</td>\n",
              "      <td>68</td>\n",
              "      <td>negative</td>\n",
              "    </tr>\n",
              "    <tr>\n",
              "      <th>308</th>\n",
              "      <td>yesterday, I ordered four chicken sandwiches b...</td>\n",
              "      <td>chicken sandwiches</td>\n",
              "      <td>26</td>\n",
              "      <td>44</td>\n",
              "      <td>negative</td>\n",
              "    </tr>\n",
              "    <tr>\n",
              "      <th>309</th>\n",
              "      <td>you can find there anything you want .</td>\n",
              "      <td>there</td>\n",
              "      <td>13</td>\n",
              "      <td>18</td>\n",
              "      <td>positive</td>\n",
              "    </tr>\n",
              "    <tr>\n",
              "      <th>310</th>\n",
              "      <td>you can let your child  play in the kids area ...</td>\n",
              "      <td>kids area</td>\n",
              "      <td>36</td>\n",
              "      <td>45</td>\n",
              "      <td>positive</td>\n",
              "    </tr>\n",
              "  </tbody>\n",
              "</table>\n",
              "<p>311 rows × 5 columns</p>\n",
              "</div>\n",
              "    <div class=\"colab-df-buttons\">\n",
              "\n",
              "  <div class=\"colab-df-container\">\n",
              "    <button class=\"colab-df-convert\" onclick=\"convertToInteractive('df-0f0f0b9e-3a2a-4a61-85ea-c81478617c17')\"\n",
              "            title=\"Convert this dataframe to an interactive table.\"\n",
              "            style=\"display:none;\">\n",
              "\n",
              "  <svg xmlns=\"http://www.w3.org/2000/svg\" height=\"24px\" viewBox=\"0 -960 960 960\">\n",
              "    <path d=\"M120-120v-720h720v720H120Zm60-500h600v-160H180v160Zm220 220h160v-160H400v160Zm0 220h160v-160H400v160ZM180-400h160v-160H180v160Zm440 0h160v-160H620v160ZM180-180h160v-160H180v160Zm440 0h160v-160H620v160Z\"/>\n",
              "  </svg>\n",
              "    </button>\n",
              "\n",
              "  <style>\n",
              "    .colab-df-container {\n",
              "      display:flex;\n",
              "      gap: 12px;\n",
              "    }\n",
              "\n",
              "    .colab-df-convert {\n",
              "      background-color: #E8F0FE;\n",
              "      border: none;\n",
              "      border-radius: 50%;\n",
              "      cursor: pointer;\n",
              "      display: none;\n",
              "      fill: #1967D2;\n",
              "      height: 32px;\n",
              "      padding: 0 0 0 0;\n",
              "      width: 32px;\n",
              "    }\n",
              "\n",
              "    .colab-df-convert:hover {\n",
              "      background-color: #E2EBFA;\n",
              "      box-shadow: 0px 1px 2px rgba(60, 64, 67, 0.3), 0px 1px 3px 1px rgba(60, 64, 67, 0.15);\n",
              "      fill: #174EA6;\n",
              "    }\n",
              "\n",
              "    .colab-df-buttons div {\n",
              "      margin-bottom: 4px;\n",
              "    }\n",
              "\n",
              "    [theme=dark] .colab-df-convert {\n",
              "      background-color: #3B4455;\n",
              "      fill: #D2E3FC;\n",
              "    }\n",
              "\n",
              "    [theme=dark] .colab-df-convert:hover {\n",
              "      background-color: #434B5C;\n",
              "      box-shadow: 0px 1px 3px 1px rgba(0, 0, 0, 0.15);\n",
              "      filter: drop-shadow(0px 1px 2px rgba(0, 0, 0, 0.3));\n",
              "      fill: #FFFFFF;\n",
              "    }\n",
              "  </style>\n",
              "\n",
              "    <script>\n",
              "      const buttonEl =\n",
              "        document.querySelector('#df-0f0f0b9e-3a2a-4a61-85ea-c81478617c17 button.colab-df-convert');\n",
              "      buttonEl.style.display =\n",
              "        google.colab.kernel.accessAllowed ? 'block' : 'none';\n",
              "\n",
              "      async function convertToInteractive(key) {\n",
              "        const element = document.querySelector('#df-0f0f0b9e-3a2a-4a61-85ea-c81478617c17');\n",
              "        const dataTable =\n",
              "          await google.colab.kernel.invokeFunction('convertToInteractive',\n",
              "                                                    [key], {});\n",
              "        if (!dataTable) return;\n",
              "\n",
              "        const docLinkHtml = 'Like what you see? Visit the ' +\n",
              "          '<a target=\"_blank\" href=https://colab.research.google.com/notebooks/data_table.ipynb>data table notebook</a>'\n",
              "          + ' to learn more about interactive tables.';\n",
              "        element.innerHTML = '';\n",
              "        dataTable['output_type'] = 'display_data';\n",
              "        await google.colab.output.renderOutput(dataTable, element);\n",
              "        const docLink = document.createElement('div');\n",
              "        docLink.innerHTML = docLinkHtml;\n",
              "        element.appendChild(docLink);\n",
              "      }\n",
              "    </script>\n",
              "  </div>\n",
              "\n",
              "\n",
              "<div id=\"df-7d11cc06-8b60-4746-9e0b-9b270672d7b6\">\n",
              "  <button class=\"colab-df-quickchart\" onclick=\"quickchart('df-7d11cc06-8b60-4746-9e0b-9b270672d7b6')\"\n",
              "            title=\"Suggest charts.\"\n",
              "            style=\"display:none;\">\n",
              "\n",
              "<svg xmlns=\"http://www.w3.org/2000/svg\" height=\"24px\"viewBox=\"0 0 24 24\"\n",
              "     width=\"24px\">\n",
              "    <g>\n",
              "        <path d=\"M19 3H5c-1.1 0-2 .9-2 2v14c0 1.1.9 2 2 2h14c1.1 0 2-.9 2-2V5c0-1.1-.9-2-2-2zM9 17H7v-7h2v7zm4 0h-2V7h2v10zm4 0h-2v-4h2v4z\"/>\n",
              "    </g>\n",
              "</svg>\n",
              "  </button>\n",
              "\n",
              "<style>\n",
              "  .colab-df-quickchart {\n",
              "      --bg-color: #E8F0FE;\n",
              "      --fill-color: #1967D2;\n",
              "      --hover-bg-color: #E2EBFA;\n",
              "      --hover-fill-color: #174EA6;\n",
              "      --disabled-fill-color: #AAA;\n",
              "      --disabled-bg-color: #DDD;\n",
              "  }\n",
              "\n",
              "  [theme=dark] .colab-df-quickchart {\n",
              "      --bg-color: #3B4455;\n",
              "      --fill-color: #D2E3FC;\n",
              "      --hover-bg-color: #434B5C;\n",
              "      --hover-fill-color: #FFFFFF;\n",
              "      --disabled-bg-color: #3B4455;\n",
              "      --disabled-fill-color: #666;\n",
              "  }\n",
              "\n",
              "  .colab-df-quickchart {\n",
              "    background-color: var(--bg-color);\n",
              "    border: none;\n",
              "    border-radius: 50%;\n",
              "    cursor: pointer;\n",
              "    display: none;\n",
              "    fill: var(--fill-color);\n",
              "    height: 32px;\n",
              "    padding: 0;\n",
              "    width: 32px;\n",
              "  }\n",
              "\n",
              "  .colab-df-quickchart:hover {\n",
              "    background-color: var(--hover-bg-color);\n",
              "    box-shadow: 0 1px 2px rgba(60, 64, 67, 0.3), 0 1px 3px 1px rgba(60, 64, 67, 0.15);\n",
              "    fill: var(--button-hover-fill-color);\n",
              "  }\n",
              "\n",
              "  .colab-df-quickchart-complete:disabled,\n",
              "  .colab-df-quickchart-complete:disabled:hover {\n",
              "    background-color: var(--disabled-bg-color);\n",
              "    fill: var(--disabled-fill-color);\n",
              "    box-shadow: none;\n",
              "  }\n",
              "\n",
              "  .colab-df-spinner {\n",
              "    border: 2px solid var(--fill-color);\n",
              "    border-color: transparent;\n",
              "    border-bottom-color: var(--fill-color);\n",
              "    animation:\n",
              "      spin 1s steps(1) infinite;\n",
              "  }\n",
              "\n",
              "  @keyframes spin {\n",
              "    0% {\n",
              "      border-color: transparent;\n",
              "      border-bottom-color: var(--fill-color);\n",
              "      border-left-color: var(--fill-color);\n",
              "    }\n",
              "    20% {\n",
              "      border-color: transparent;\n",
              "      border-left-color: var(--fill-color);\n",
              "      border-top-color: var(--fill-color);\n",
              "    }\n",
              "    30% {\n",
              "      border-color: transparent;\n",
              "      border-left-color: var(--fill-color);\n",
              "      border-top-color: var(--fill-color);\n",
              "      border-right-color: var(--fill-color);\n",
              "    }\n",
              "    40% {\n",
              "      border-color: transparent;\n",
              "      border-right-color: var(--fill-color);\n",
              "      border-top-color: var(--fill-color);\n",
              "    }\n",
              "    60% {\n",
              "      border-color: transparent;\n",
              "      border-right-color: var(--fill-color);\n",
              "    }\n",
              "    80% {\n",
              "      border-color: transparent;\n",
              "      border-right-color: var(--fill-color);\n",
              "      border-bottom-color: var(--fill-color);\n",
              "    }\n",
              "    90% {\n",
              "      border-color: transparent;\n",
              "      border-bottom-color: var(--fill-color);\n",
              "    }\n",
              "  }\n",
              "</style>\n",
              "\n",
              "  <script>\n",
              "    async function quickchart(key) {\n",
              "      const quickchartButtonEl =\n",
              "        document.querySelector('#' + key + ' button');\n",
              "      quickchartButtonEl.disabled = true;  // To prevent multiple clicks.\n",
              "      quickchartButtonEl.classList.add('colab-df-spinner');\n",
              "      try {\n",
              "        const charts = await google.colab.kernel.invokeFunction(\n",
              "            'suggestCharts', [key], {});\n",
              "      } catch (error) {\n",
              "        console.error('Error during call to suggestCharts:', error);\n",
              "      }\n",
              "      quickchartButtonEl.classList.remove('colab-df-spinner');\n",
              "      quickchartButtonEl.classList.add('colab-df-quickchart-complete');\n",
              "    }\n",
              "    (() => {\n",
              "      let quickchartButtonEl =\n",
              "        document.querySelector('#df-7d11cc06-8b60-4746-9e0b-9b270672d7b6 button');\n",
              "      quickchartButtonEl.style.display =\n",
              "        google.colab.kernel.accessAllowed ? 'block' : 'none';\n",
              "    })();\n",
              "  </script>\n",
              "</div>\n",
              "    </div>\n",
              "  </div>\n"
            ]
          },
          "metadata": {},
          "execution_count": 512
        }
      ]
    },
    {
      "cell_type": "code",
      "source": [],
      "metadata": {
        "id": "oka9ehJe38UD"
      },
      "execution_count": 512,
      "outputs": []
    },
    {
      "cell_type": "code",
      "source": [
        "df2_test"
      ],
      "metadata": {
        "colab": {
          "base_uri": "https://localhost:8080/",
          "height": 424
        },
        "id": "xB9LM9m84EBy",
        "outputId": "954ed2fd-5024-425b-8cfa-1011b3611071"
      },
      "execution_count": 513,
      "outputs": [
        {
          "output_type": "execute_result",
          "data": {
            "text/plain": [
              "                                              sentence  \\\n",
              "0         \"Typical\" Italian food was far from typical.   \n",
              "1    After a few weeks the tablet started asking fo...   \n",
              "2    After a few weeks the tablet started asking fo...   \n",
              "3    After a few weeks the tablet started asking fo...   \n",
              "4    After a few weeks the tablet started asking fo...   \n",
              "..                                                 ...   \n",
              "306  yesterday, I ordered four chicken sandwiches b...   \n",
              "307  yesterday, I ordered four chicken sandwiches b...   \n",
              "308  yesterday, I ordered four chicken sandwiches b...   \n",
              "309             you can find there anything you want .   \n",
              "310  you can let your child  play in the kids area ...   \n",
              "\n",
              "                            aspect_term  begin  end  polarity  \n",
              "0                          Italian food     10   22  negative  \n",
              "1                                 sound    128  133  positive  \n",
              "2                                   buy    251  254  positive  \n",
              "3                   wireless headphones    202  221  positive  \n",
              "4    resolution of the camera is decent     88  122  positive  \n",
              "..                                  ...    ...  ...       ...  \n",
              "306                           delivered    105  114  negative  \n",
              "307                     quality of food     53   68  negative  \n",
              "308                  chicken sandwiches     26   44  negative  \n",
              "309                               there     13   18  positive  \n",
              "310                           kids area     36   45  positive  \n",
              "\n",
              "[311 rows x 5 columns]"
            ],
            "text/html": [
              "\n",
              "  <div id=\"df-cd36d7b4-e106-45d4-9f8e-e600d40bb1b5\" class=\"colab-df-container\">\n",
              "    <div>\n",
              "<style scoped>\n",
              "    .dataframe tbody tr th:only-of-type {\n",
              "        vertical-align: middle;\n",
              "    }\n",
              "\n",
              "    .dataframe tbody tr th {\n",
              "        vertical-align: top;\n",
              "    }\n",
              "\n",
              "    .dataframe thead th {\n",
              "        text-align: right;\n",
              "    }\n",
              "</style>\n",
              "<table border=\"1\" class=\"dataframe\">\n",
              "  <thead>\n",
              "    <tr style=\"text-align: right;\">\n",
              "      <th></th>\n",
              "      <th>sentence</th>\n",
              "      <th>aspect_term</th>\n",
              "      <th>begin</th>\n",
              "      <th>end</th>\n",
              "      <th>polarity</th>\n",
              "    </tr>\n",
              "  </thead>\n",
              "  <tbody>\n",
              "    <tr>\n",
              "      <th>0</th>\n",
              "      <td>\"Typical\" Italian food was far from typical.</td>\n",
              "      <td>Italian food</td>\n",
              "      <td>10</td>\n",
              "      <td>22</td>\n",
              "      <td>negative</td>\n",
              "    </tr>\n",
              "    <tr>\n",
              "      <th>1</th>\n",
              "      <td>After a few weeks the tablet started asking fo...</td>\n",
              "      <td>sound</td>\n",
              "      <td>128</td>\n",
              "      <td>133</td>\n",
              "      <td>positive</td>\n",
              "    </tr>\n",
              "    <tr>\n",
              "      <th>2</th>\n",
              "      <td>After a few weeks the tablet started asking fo...</td>\n",
              "      <td>buy</td>\n",
              "      <td>251</td>\n",
              "      <td>254</td>\n",
              "      <td>positive</td>\n",
              "    </tr>\n",
              "    <tr>\n",
              "      <th>3</th>\n",
              "      <td>After a few weeks the tablet started asking fo...</td>\n",
              "      <td>wireless headphones</td>\n",
              "      <td>202</td>\n",
              "      <td>221</td>\n",
              "      <td>positive</td>\n",
              "    </tr>\n",
              "    <tr>\n",
              "      <th>4</th>\n",
              "      <td>After a few weeks the tablet started asking fo...</td>\n",
              "      <td>resolution of the camera is decent</td>\n",
              "      <td>88</td>\n",
              "      <td>122</td>\n",
              "      <td>positive</td>\n",
              "    </tr>\n",
              "    <tr>\n",
              "      <th>...</th>\n",
              "      <td>...</td>\n",
              "      <td>...</td>\n",
              "      <td>...</td>\n",
              "      <td>...</td>\n",
              "      <td>...</td>\n",
              "    </tr>\n",
              "    <tr>\n",
              "      <th>306</th>\n",
              "      <td>yesterday, I ordered four chicken sandwiches b...</td>\n",
              "      <td>delivered</td>\n",
              "      <td>105</td>\n",
              "      <td>114</td>\n",
              "      <td>negative</td>\n",
              "    </tr>\n",
              "    <tr>\n",
              "      <th>307</th>\n",
              "      <td>yesterday, I ordered four chicken sandwiches b...</td>\n",
              "      <td>quality of food</td>\n",
              "      <td>53</td>\n",
              "      <td>68</td>\n",
              "      <td>negative</td>\n",
              "    </tr>\n",
              "    <tr>\n",
              "      <th>308</th>\n",
              "      <td>yesterday, I ordered four chicken sandwiches b...</td>\n",
              "      <td>chicken sandwiches</td>\n",
              "      <td>26</td>\n",
              "      <td>44</td>\n",
              "      <td>negative</td>\n",
              "    </tr>\n",
              "    <tr>\n",
              "      <th>309</th>\n",
              "      <td>you can find there anything you want .</td>\n",
              "      <td>there</td>\n",
              "      <td>13</td>\n",
              "      <td>18</td>\n",
              "      <td>positive</td>\n",
              "    </tr>\n",
              "    <tr>\n",
              "      <th>310</th>\n",
              "      <td>you can let your child  play in the kids area ...</td>\n",
              "      <td>kids area</td>\n",
              "      <td>36</td>\n",
              "      <td>45</td>\n",
              "      <td>positive</td>\n",
              "    </tr>\n",
              "  </tbody>\n",
              "</table>\n",
              "<p>311 rows × 5 columns</p>\n",
              "</div>\n",
              "    <div class=\"colab-df-buttons\">\n",
              "\n",
              "  <div class=\"colab-df-container\">\n",
              "    <button class=\"colab-df-convert\" onclick=\"convertToInteractive('df-cd36d7b4-e106-45d4-9f8e-e600d40bb1b5')\"\n",
              "            title=\"Convert this dataframe to an interactive table.\"\n",
              "            style=\"display:none;\">\n",
              "\n",
              "  <svg xmlns=\"http://www.w3.org/2000/svg\" height=\"24px\" viewBox=\"0 -960 960 960\">\n",
              "    <path d=\"M120-120v-720h720v720H120Zm60-500h600v-160H180v160Zm220 220h160v-160H400v160Zm0 220h160v-160H400v160ZM180-400h160v-160H180v160Zm440 0h160v-160H620v160ZM180-180h160v-160H180v160Zm440 0h160v-160H620v160Z\"/>\n",
              "  </svg>\n",
              "    </button>\n",
              "\n",
              "  <style>\n",
              "    .colab-df-container {\n",
              "      display:flex;\n",
              "      gap: 12px;\n",
              "    }\n",
              "\n",
              "    .colab-df-convert {\n",
              "      background-color: #E8F0FE;\n",
              "      border: none;\n",
              "      border-radius: 50%;\n",
              "      cursor: pointer;\n",
              "      display: none;\n",
              "      fill: #1967D2;\n",
              "      height: 32px;\n",
              "      padding: 0 0 0 0;\n",
              "      width: 32px;\n",
              "    }\n",
              "\n",
              "    .colab-df-convert:hover {\n",
              "      background-color: #E2EBFA;\n",
              "      box-shadow: 0px 1px 2px rgba(60, 64, 67, 0.3), 0px 1px 3px 1px rgba(60, 64, 67, 0.15);\n",
              "      fill: #174EA6;\n",
              "    }\n",
              "\n",
              "    .colab-df-buttons div {\n",
              "      margin-bottom: 4px;\n",
              "    }\n",
              "\n",
              "    [theme=dark] .colab-df-convert {\n",
              "      background-color: #3B4455;\n",
              "      fill: #D2E3FC;\n",
              "    }\n",
              "\n",
              "    [theme=dark] .colab-df-convert:hover {\n",
              "      background-color: #434B5C;\n",
              "      box-shadow: 0px 1px 3px 1px rgba(0, 0, 0, 0.15);\n",
              "      filter: drop-shadow(0px 1px 2px rgba(0, 0, 0, 0.3));\n",
              "      fill: #FFFFFF;\n",
              "    }\n",
              "  </style>\n",
              "\n",
              "    <script>\n",
              "      const buttonEl =\n",
              "        document.querySelector('#df-cd36d7b4-e106-45d4-9f8e-e600d40bb1b5 button.colab-df-convert');\n",
              "      buttonEl.style.display =\n",
              "        google.colab.kernel.accessAllowed ? 'block' : 'none';\n",
              "\n",
              "      async function convertToInteractive(key) {\n",
              "        const element = document.querySelector('#df-cd36d7b4-e106-45d4-9f8e-e600d40bb1b5');\n",
              "        const dataTable =\n",
              "          await google.colab.kernel.invokeFunction('convertToInteractive',\n",
              "                                                    [key], {});\n",
              "        if (!dataTable) return;\n",
              "\n",
              "        const docLinkHtml = 'Like what you see? Visit the ' +\n",
              "          '<a target=\"_blank\" href=https://colab.research.google.com/notebooks/data_table.ipynb>data table notebook</a>'\n",
              "          + ' to learn more about interactive tables.';\n",
              "        element.innerHTML = '';\n",
              "        dataTable['output_type'] = 'display_data';\n",
              "        await google.colab.output.renderOutput(dataTable, element);\n",
              "        const docLink = document.createElement('div');\n",
              "        docLink.innerHTML = docLinkHtml;\n",
              "        element.appendChild(docLink);\n",
              "      }\n",
              "    </script>\n",
              "  </div>\n",
              "\n",
              "\n",
              "<div id=\"df-f16fe686-fe3d-437f-af5d-274ffb0aafce\">\n",
              "  <button class=\"colab-df-quickchart\" onclick=\"quickchart('df-f16fe686-fe3d-437f-af5d-274ffb0aafce')\"\n",
              "            title=\"Suggest charts.\"\n",
              "            style=\"display:none;\">\n",
              "\n",
              "<svg xmlns=\"http://www.w3.org/2000/svg\" height=\"24px\"viewBox=\"0 0 24 24\"\n",
              "     width=\"24px\">\n",
              "    <g>\n",
              "        <path d=\"M19 3H5c-1.1 0-2 .9-2 2v14c0 1.1.9 2 2 2h14c1.1 0 2-.9 2-2V5c0-1.1-.9-2-2-2zM9 17H7v-7h2v7zm4 0h-2V7h2v10zm4 0h-2v-4h2v4z\"/>\n",
              "    </g>\n",
              "</svg>\n",
              "  </button>\n",
              "\n",
              "<style>\n",
              "  .colab-df-quickchart {\n",
              "      --bg-color: #E8F0FE;\n",
              "      --fill-color: #1967D2;\n",
              "      --hover-bg-color: #E2EBFA;\n",
              "      --hover-fill-color: #174EA6;\n",
              "      --disabled-fill-color: #AAA;\n",
              "      --disabled-bg-color: #DDD;\n",
              "  }\n",
              "\n",
              "  [theme=dark] .colab-df-quickchart {\n",
              "      --bg-color: #3B4455;\n",
              "      --fill-color: #D2E3FC;\n",
              "      --hover-bg-color: #434B5C;\n",
              "      --hover-fill-color: #FFFFFF;\n",
              "      --disabled-bg-color: #3B4455;\n",
              "      --disabled-fill-color: #666;\n",
              "  }\n",
              "\n",
              "  .colab-df-quickchart {\n",
              "    background-color: var(--bg-color);\n",
              "    border: none;\n",
              "    border-radius: 50%;\n",
              "    cursor: pointer;\n",
              "    display: none;\n",
              "    fill: var(--fill-color);\n",
              "    height: 32px;\n",
              "    padding: 0;\n",
              "    width: 32px;\n",
              "  }\n",
              "\n",
              "  .colab-df-quickchart:hover {\n",
              "    background-color: var(--hover-bg-color);\n",
              "    box-shadow: 0 1px 2px rgba(60, 64, 67, 0.3), 0 1px 3px 1px rgba(60, 64, 67, 0.15);\n",
              "    fill: var(--button-hover-fill-color);\n",
              "  }\n",
              "\n",
              "  .colab-df-quickchart-complete:disabled,\n",
              "  .colab-df-quickchart-complete:disabled:hover {\n",
              "    background-color: var(--disabled-bg-color);\n",
              "    fill: var(--disabled-fill-color);\n",
              "    box-shadow: none;\n",
              "  }\n",
              "\n",
              "  .colab-df-spinner {\n",
              "    border: 2px solid var(--fill-color);\n",
              "    border-color: transparent;\n",
              "    border-bottom-color: var(--fill-color);\n",
              "    animation:\n",
              "      spin 1s steps(1) infinite;\n",
              "  }\n",
              "\n",
              "  @keyframes spin {\n",
              "    0% {\n",
              "      border-color: transparent;\n",
              "      border-bottom-color: var(--fill-color);\n",
              "      border-left-color: var(--fill-color);\n",
              "    }\n",
              "    20% {\n",
              "      border-color: transparent;\n",
              "      border-left-color: var(--fill-color);\n",
              "      border-top-color: var(--fill-color);\n",
              "    }\n",
              "    30% {\n",
              "      border-color: transparent;\n",
              "      border-left-color: var(--fill-color);\n",
              "      border-top-color: var(--fill-color);\n",
              "      border-right-color: var(--fill-color);\n",
              "    }\n",
              "    40% {\n",
              "      border-color: transparent;\n",
              "      border-right-color: var(--fill-color);\n",
              "      border-top-color: var(--fill-color);\n",
              "    }\n",
              "    60% {\n",
              "      border-color: transparent;\n",
              "      border-right-color: var(--fill-color);\n",
              "    }\n",
              "    80% {\n",
              "      border-color: transparent;\n",
              "      border-right-color: var(--fill-color);\n",
              "      border-bottom-color: var(--fill-color);\n",
              "    }\n",
              "    90% {\n",
              "      border-color: transparent;\n",
              "      border-bottom-color: var(--fill-color);\n",
              "    }\n",
              "  }\n",
              "</style>\n",
              "\n",
              "  <script>\n",
              "    async function quickchart(key) {\n",
              "      const quickchartButtonEl =\n",
              "        document.querySelector('#' + key + ' button');\n",
              "      quickchartButtonEl.disabled = true;  // To prevent multiple clicks.\n",
              "      quickchartButtonEl.classList.add('colab-df-spinner');\n",
              "      try {\n",
              "        const charts = await google.colab.kernel.invokeFunction(\n",
              "            'suggestCharts', [key], {});\n",
              "      } catch (error) {\n",
              "        console.error('Error during call to suggestCharts:', error);\n",
              "      }\n",
              "      quickchartButtonEl.classList.remove('colab-df-spinner');\n",
              "      quickchartButtonEl.classList.add('colab-df-quickchart-complete');\n",
              "    }\n",
              "    (() => {\n",
              "      let quickchartButtonEl =\n",
              "        document.querySelector('#df-f16fe686-fe3d-437f-af5d-274ffb0aafce button');\n",
              "      quickchartButtonEl.style.display =\n",
              "        google.colab.kernel.accessAllowed ? 'block' : 'none';\n",
              "    })();\n",
              "  </script>\n",
              "</div>\n",
              "    </div>\n",
              "  </div>\n"
            ]
          },
          "metadata": {},
          "execution_count": 513
        }
      ]
    },
    {
      "cell_type": "code",
      "source": [
        "df2_test['polarity'][df2_test[\"polarity\"] == 'negative'] = 0\n",
        "df2_test['polarity'][df2_test[\"polarity\"] == 'positive'] = 1\n",
        "\n"
      ],
      "metadata": {
        "id": "85h1lXLo3K5C",
        "colab": {
          "base_uri": "https://localhost:8080/"
        },
        "outputId": "d73f9ec3-91f6-4c06-a435-b0c7483845ed"
      },
      "execution_count": 514,
      "outputs": [
        {
          "output_type": "stream",
          "name": "stderr",
          "text": [
            "<ipython-input-514-5dfe2b17fbcd>:2: SettingWithCopyWarning: \n",
            "A value is trying to be set on a copy of a slice from a DataFrame\n",
            "\n",
            "See the caveats in the documentation: https://pandas.pydata.org/pandas-docs/stable/user_guide/indexing.html#returning-a-view-versus-a-copy\n",
            "  df2_test['polarity'][df2_test[\"polarity\"] == 'positive'] = 1\n"
          ]
        }
      ]
    },
    {
      "cell_type": "code",
      "source": [],
      "metadata": {
        "id": "YdZQuZP-36d7"
      },
      "execution_count": 514,
      "outputs": []
    },
    {
      "cell_type": "code",
      "source": [
        "X_test = df2_test"
      ],
      "metadata": {
        "id": "Yzl2Sy2K3M7o"
      },
      "execution_count": 515,
      "outputs": []
    },
    {
      "cell_type": "code",
      "source": [
        "## Convert polarity Values to Integers\n",
        "X_test[\"polarity\"] = pd.to_numeric(X_test[\"polarity\"],errors='coerce')\n"
      ],
      "metadata": {
        "id": "TcHDvrOW3Ot7"
      },
      "execution_count": 516,
      "outputs": []
    },
    {
      "cell_type": "code",
      "source": [
        "y_test = X_test[\"polarity\"]"
      ],
      "metadata": {
        "id": "fHYeWtPz3XV0"
      },
      "execution_count": 517,
      "outputs": []
    },
    {
      "cell_type": "code",
      "source": [
        "tokenizer = Tokenizer(num_words=NUM_WORDS,\n",
        "                      filters='!\"#$%&()*+,-./:;<=>?@[\\\\]^_`{|}~\\t\\n',\n",
        "                      lower=True, )\n",
        "## Fit_on_texts : Updates internal vocabulary based on a list of texts.\n",
        "tokenizer.fit_on_texts(list(X_train.sentence))\n",
        "text_X_test_tokenized = tokenizer.texts_to_sequences(X_test.sentence) # list of tokenized sentences\n",
        "Aspect_X_test_tokenized = tokenizer.texts_to_sequences(X_test['aspect_term']) # list of tokenized sentences\n"
      ],
      "metadata": {
        "id": "D8W2GVUP56h4"
      },
      "execution_count": 518,
      "outputs": []
    },
    {
      "cell_type": "code",
      "source": [
        "## Pads sequences(or sentences) to the same length.\n",
        "\n",
        "\n",
        "\n",
        "text_X_test_padded = pad_sequences(text_X_test_tokenized, maxlen=Max_Len)\n",
        "aspect_X_test_padded = pad_sequences(Aspect_X_test_tokenized, maxlen=1)\n"
      ],
      "metadata": {
        "id": "yqtRoPFO3bhT"
      },
      "execution_count": 519,
      "outputs": []
    },
    {
      "cell_type": "code",
      "source": [
        "test_data =   [text_X_test_padded,aspect_X_test_padded]\n"
      ],
      "metadata": {
        "id": "XzBfpeO-6AZG"
      },
      "execution_count": 520,
      "outputs": []
    },
    {
      "cell_type": "code",
      "source": [
        "\n",
        "print(\"Evaluate on test data\")\n",
        "results = atae_lstm_model.evaluate(x = test_data , y = y_test )\n",
        "print(\"test loss, test acc:\", results)\n",
        "print(\"Accuracy of the model is - \" , results[1]*100 , \"%\")\n"
      ],
      "metadata": {
        "colab": {
          "base_uri": "https://localhost:8080/"
        },
        "id": "mN2to2Lg3c5J",
        "outputId": "67f1f568-05fa-48fc-f8c1-75725225e83e"
      },
      "execution_count": 521,
      "outputs": [
        {
          "output_type": "stream",
          "name": "stdout",
          "text": [
            "Evaluate on test data\n",
            "10/10 [==============================] - 0s 8ms/step - loss: 1.4005 - accuracy: 0.4887\n",
            "test loss, test acc: [1.4005056619644165, 0.4887459874153137]\n",
            "Accuracy of the model is -  48.87459874153137 %\n"
          ]
        }
      ]
    },
    {
      "cell_type": "markdown",
      "source": [
        "##CROSS VALIDATE ON MAMS"
      ],
      "metadata": {
        "id": "lwg5Z52M7dbY"
      }
    },
    {
      "cell_type": "code",
      "source": [
        "df2_test = pd.read_csv(\"/content/drive/MyDrive/ABSA work/codes/processed_MAMS/ATSA_test_single.csv\", encoding='utf8')"
      ],
      "metadata": {
        "id": "iIz_VsQW5Lhf"
      },
      "execution_count": 522,
      "outputs": []
    },
    {
      "cell_type": "code",
      "source": [
        "df2_test['polarity'][df2_test[\"polarity\"] == 'negative'] = 0\n",
        "df2_test['polarity'][df2_test[\"polarity\"] == 'positive'] = 1\n",
        "df2_test['polarity'][df2_test[\"polarity\"] == 'neutral'] = 2"
      ],
      "metadata": {
        "id": "Iv4LiJ418a0t"
      },
      "execution_count": 523,
      "outputs": []
    },
    {
      "cell_type": "code",
      "source": [
        "df2_test"
      ],
      "metadata": {
        "colab": {
          "base_uri": "https://localhost:8080/",
          "height": 424
        },
        "id": "AEbGKcBEQaT7",
        "outputId": "1afc6ced-ea85-469a-e500-d9f47884be66"
      },
      "execution_count": 524,
      "outputs": [
        {
          "output_type": "execute_result",
          "data": {
            "text/plain": [
              "                                               sentence      aspect_terms  \\\n",
              "0     The food was served promptly but the meal wasn...              food   \n",
              "1     The food was served promptly but the meal wasn...            served   \n",
              "2     The food was served promptly but the meal wasn...        appetizers   \n",
              "3     When I got home, there was a message on the ma...             owner   \n",
              "4     When I got home, there was a message on the ma...          waitress   \n",
              "...                                                 ...               ...   \n",
              "1331  Pair you food with the excellent beers on tap ...  priced wine list   \n",
              "1332  They were out of Hennessy, Alize, Mojitos, Pin...           Mojitos   \n",
              "1333  They were out of Hennessy, Alize, Mojitos, Pin...             Pinot   \n",
              "1334  They were out of Hennessy, Alize, Mojitos, Pin...        drink list   \n",
              "1335  They were out of Hennessy, Alize, Mojitos, Pin...            drinks   \n",
              "\n",
              "     polarity  \n",
              "0           2  \n",
              "1           1  \n",
              "2           1  \n",
              "3           2  \n",
              "4           0  \n",
              "...       ...  \n",
              "1331        1  \n",
              "1332        2  \n",
              "1333        2  \n",
              "1334        0  \n",
              "1335        0  \n",
              "\n",
              "[1336 rows x 3 columns]"
            ],
            "text/html": [
              "\n",
              "  <div id=\"df-ae21e574-d71c-468f-8ba8-1882dc0c5bdb\" class=\"colab-df-container\">\n",
              "    <div>\n",
              "<style scoped>\n",
              "    .dataframe tbody tr th:only-of-type {\n",
              "        vertical-align: middle;\n",
              "    }\n",
              "\n",
              "    .dataframe tbody tr th {\n",
              "        vertical-align: top;\n",
              "    }\n",
              "\n",
              "    .dataframe thead th {\n",
              "        text-align: right;\n",
              "    }\n",
              "</style>\n",
              "<table border=\"1\" class=\"dataframe\">\n",
              "  <thead>\n",
              "    <tr style=\"text-align: right;\">\n",
              "      <th></th>\n",
              "      <th>sentence</th>\n",
              "      <th>aspect_terms</th>\n",
              "      <th>polarity</th>\n",
              "    </tr>\n",
              "  </thead>\n",
              "  <tbody>\n",
              "    <tr>\n",
              "      <th>0</th>\n",
              "      <td>The food was served promptly but the meal wasn...</td>\n",
              "      <td>food</td>\n",
              "      <td>2</td>\n",
              "    </tr>\n",
              "    <tr>\n",
              "      <th>1</th>\n",
              "      <td>The food was served promptly but the meal wasn...</td>\n",
              "      <td>served</td>\n",
              "      <td>1</td>\n",
              "    </tr>\n",
              "    <tr>\n",
              "      <th>2</th>\n",
              "      <td>The food was served promptly but the meal wasn...</td>\n",
              "      <td>appetizers</td>\n",
              "      <td>1</td>\n",
              "    </tr>\n",
              "    <tr>\n",
              "      <th>3</th>\n",
              "      <td>When I got home, there was a message on the ma...</td>\n",
              "      <td>owner</td>\n",
              "      <td>2</td>\n",
              "    </tr>\n",
              "    <tr>\n",
              "      <th>4</th>\n",
              "      <td>When I got home, there was a message on the ma...</td>\n",
              "      <td>waitress</td>\n",
              "      <td>0</td>\n",
              "    </tr>\n",
              "    <tr>\n",
              "      <th>...</th>\n",
              "      <td>...</td>\n",
              "      <td>...</td>\n",
              "      <td>...</td>\n",
              "    </tr>\n",
              "    <tr>\n",
              "      <th>1331</th>\n",
              "      <td>Pair you food with the excellent beers on tap ...</td>\n",
              "      <td>priced wine list</td>\n",
              "      <td>1</td>\n",
              "    </tr>\n",
              "    <tr>\n",
              "      <th>1332</th>\n",
              "      <td>They were out of Hennessy, Alize, Mojitos, Pin...</td>\n",
              "      <td>Mojitos</td>\n",
              "      <td>2</td>\n",
              "    </tr>\n",
              "    <tr>\n",
              "      <th>1333</th>\n",
              "      <td>They were out of Hennessy, Alize, Mojitos, Pin...</td>\n",
              "      <td>Pinot</td>\n",
              "      <td>2</td>\n",
              "    </tr>\n",
              "    <tr>\n",
              "      <th>1334</th>\n",
              "      <td>They were out of Hennessy, Alize, Mojitos, Pin...</td>\n",
              "      <td>drink list</td>\n",
              "      <td>0</td>\n",
              "    </tr>\n",
              "    <tr>\n",
              "      <th>1335</th>\n",
              "      <td>They were out of Hennessy, Alize, Mojitos, Pin...</td>\n",
              "      <td>drinks</td>\n",
              "      <td>0</td>\n",
              "    </tr>\n",
              "  </tbody>\n",
              "</table>\n",
              "<p>1336 rows × 3 columns</p>\n",
              "</div>\n",
              "    <div class=\"colab-df-buttons\">\n",
              "\n",
              "  <div class=\"colab-df-container\">\n",
              "    <button class=\"colab-df-convert\" onclick=\"convertToInteractive('df-ae21e574-d71c-468f-8ba8-1882dc0c5bdb')\"\n",
              "            title=\"Convert this dataframe to an interactive table.\"\n",
              "            style=\"display:none;\">\n",
              "\n",
              "  <svg xmlns=\"http://www.w3.org/2000/svg\" height=\"24px\" viewBox=\"0 -960 960 960\">\n",
              "    <path d=\"M120-120v-720h720v720H120Zm60-500h600v-160H180v160Zm220 220h160v-160H400v160Zm0 220h160v-160H400v160ZM180-400h160v-160H180v160Zm440 0h160v-160H620v160ZM180-180h160v-160H180v160Zm440 0h160v-160H620v160Z\"/>\n",
              "  </svg>\n",
              "    </button>\n",
              "\n",
              "  <style>\n",
              "    .colab-df-container {\n",
              "      display:flex;\n",
              "      gap: 12px;\n",
              "    }\n",
              "\n",
              "    .colab-df-convert {\n",
              "      background-color: #E8F0FE;\n",
              "      border: none;\n",
              "      border-radius: 50%;\n",
              "      cursor: pointer;\n",
              "      display: none;\n",
              "      fill: #1967D2;\n",
              "      height: 32px;\n",
              "      padding: 0 0 0 0;\n",
              "      width: 32px;\n",
              "    }\n",
              "\n",
              "    .colab-df-convert:hover {\n",
              "      background-color: #E2EBFA;\n",
              "      box-shadow: 0px 1px 2px rgba(60, 64, 67, 0.3), 0px 1px 3px 1px rgba(60, 64, 67, 0.15);\n",
              "      fill: #174EA6;\n",
              "    }\n",
              "\n",
              "    .colab-df-buttons div {\n",
              "      margin-bottom: 4px;\n",
              "    }\n",
              "\n",
              "    [theme=dark] .colab-df-convert {\n",
              "      background-color: #3B4455;\n",
              "      fill: #D2E3FC;\n",
              "    }\n",
              "\n",
              "    [theme=dark] .colab-df-convert:hover {\n",
              "      background-color: #434B5C;\n",
              "      box-shadow: 0px 1px 3px 1px rgba(0, 0, 0, 0.15);\n",
              "      filter: drop-shadow(0px 1px 2px rgba(0, 0, 0, 0.3));\n",
              "      fill: #FFFFFF;\n",
              "    }\n",
              "  </style>\n",
              "\n",
              "    <script>\n",
              "      const buttonEl =\n",
              "        document.querySelector('#df-ae21e574-d71c-468f-8ba8-1882dc0c5bdb button.colab-df-convert');\n",
              "      buttonEl.style.display =\n",
              "        google.colab.kernel.accessAllowed ? 'block' : 'none';\n",
              "\n",
              "      async function convertToInteractive(key) {\n",
              "        const element = document.querySelector('#df-ae21e574-d71c-468f-8ba8-1882dc0c5bdb');\n",
              "        const dataTable =\n",
              "          await google.colab.kernel.invokeFunction('convertToInteractive',\n",
              "                                                    [key], {});\n",
              "        if (!dataTable) return;\n",
              "\n",
              "        const docLinkHtml = 'Like what you see? Visit the ' +\n",
              "          '<a target=\"_blank\" href=https://colab.research.google.com/notebooks/data_table.ipynb>data table notebook</a>'\n",
              "          + ' to learn more about interactive tables.';\n",
              "        element.innerHTML = '';\n",
              "        dataTable['output_type'] = 'display_data';\n",
              "        await google.colab.output.renderOutput(dataTable, element);\n",
              "        const docLink = document.createElement('div');\n",
              "        docLink.innerHTML = docLinkHtml;\n",
              "        element.appendChild(docLink);\n",
              "      }\n",
              "    </script>\n",
              "  </div>\n",
              "\n",
              "\n",
              "<div id=\"df-0e7f8b6e-d249-49b8-96a8-3ae0c00c0ba2\">\n",
              "  <button class=\"colab-df-quickchart\" onclick=\"quickchart('df-0e7f8b6e-d249-49b8-96a8-3ae0c00c0ba2')\"\n",
              "            title=\"Suggest charts.\"\n",
              "            style=\"display:none;\">\n",
              "\n",
              "<svg xmlns=\"http://www.w3.org/2000/svg\" height=\"24px\"viewBox=\"0 0 24 24\"\n",
              "     width=\"24px\">\n",
              "    <g>\n",
              "        <path d=\"M19 3H5c-1.1 0-2 .9-2 2v14c0 1.1.9 2 2 2h14c1.1 0 2-.9 2-2V5c0-1.1-.9-2-2-2zM9 17H7v-7h2v7zm4 0h-2V7h2v10zm4 0h-2v-4h2v4z\"/>\n",
              "    </g>\n",
              "</svg>\n",
              "  </button>\n",
              "\n",
              "<style>\n",
              "  .colab-df-quickchart {\n",
              "      --bg-color: #E8F0FE;\n",
              "      --fill-color: #1967D2;\n",
              "      --hover-bg-color: #E2EBFA;\n",
              "      --hover-fill-color: #174EA6;\n",
              "      --disabled-fill-color: #AAA;\n",
              "      --disabled-bg-color: #DDD;\n",
              "  }\n",
              "\n",
              "  [theme=dark] .colab-df-quickchart {\n",
              "      --bg-color: #3B4455;\n",
              "      --fill-color: #D2E3FC;\n",
              "      --hover-bg-color: #434B5C;\n",
              "      --hover-fill-color: #FFFFFF;\n",
              "      --disabled-bg-color: #3B4455;\n",
              "      --disabled-fill-color: #666;\n",
              "  }\n",
              "\n",
              "  .colab-df-quickchart {\n",
              "    background-color: var(--bg-color);\n",
              "    border: none;\n",
              "    border-radius: 50%;\n",
              "    cursor: pointer;\n",
              "    display: none;\n",
              "    fill: var(--fill-color);\n",
              "    height: 32px;\n",
              "    padding: 0;\n",
              "    width: 32px;\n",
              "  }\n",
              "\n",
              "  .colab-df-quickchart:hover {\n",
              "    background-color: var(--hover-bg-color);\n",
              "    box-shadow: 0 1px 2px rgba(60, 64, 67, 0.3), 0 1px 3px 1px rgba(60, 64, 67, 0.15);\n",
              "    fill: var(--button-hover-fill-color);\n",
              "  }\n",
              "\n",
              "  .colab-df-quickchart-complete:disabled,\n",
              "  .colab-df-quickchart-complete:disabled:hover {\n",
              "    background-color: var(--disabled-bg-color);\n",
              "    fill: var(--disabled-fill-color);\n",
              "    box-shadow: none;\n",
              "  }\n",
              "\n",
              "  .colab-df-spinner {\n",
              "    border: 2px solid var(--fill-color);\n",
              "    border-color: transparent;\n",
              "    border-bottom-color: var(--fill-color);\n",
              "    animation:\n",
              "      spin 1s steps(1) infinite;\n",
              "  }\n",
              "\n",
              "  @keyframes spin {\n",
              "    0% {\n",
              "      border-color: transparent;\n",
              "      border-bottom-color: var(--fill-color);\n",
              "      border-left-color: var(--fill-color);\n",
              "    }\n",
              "    20% {\n",
              "      border-color: transparent;\n",
              "      border-left-color: var(--fill-color);\n",
              "      border-top-color: var(--fill-color);\n",
              "    }\n",
              "    30% {\n",
              "      border-color: transparent;\n",
              "      border-left-color: var(--fill-color);\n",
              "      border-top-color: var(--fill-color);\n",
              "      border-right-color: var(--fill-color);\n",
              "    }\n",
              "    40% {\n",
              "      border-color: transparent;\n",
              "      border-right-color: var(--fill-color);\n",
              "      border-top-color: var(--fill-color);\n",
              "    }\n",
              "    60% {\n",
              "      border-color: transparent;\n",
              "      border-right-color: var(--fill-color);\n",
              "    }\n",
              "    80% {\n",
              "      border-color: transparent;\n",
              "      border-right-color: var(--fill-color);\n",
              "      border-bottom-color: var(--fill-color);\n",
              "    }\n",
              "    90% {\n",
              "      border-color: transparent;\n",
              "      border-bottom-color: var(--fill-color);\n",
              "    }\n",
              "  }\n",
              "</style>\n",
              "\n",
              "  <script>\n",
              "    async function quickchart(key) {\n",
              "      const quickchartButtonEl =\n",
              "        document.querySelector('#' + key + ' button');\n",
              "      quickchartButtonEl.disabled = true;  // To prevent multiple clicks.\n",
              "      quickchartButtonEl.classList.add('colab-df-spinner');\n",
              "      try {\n",
              "        const charts = await google.colab.kernel.invokeFunction(\n",
              "            'suggestCharts', [key], {});\n",
              "      } catch (error) {\n",
              "        console.error('Error during call to suggestCharts:', error);\n",
              "      }\n",
              "      quickchartButtonEl.classList.remove('colab-df-spinner');\n",
              "      quickchartButtonEl.classList.add('colab-df-quickchart-complete');\n",
              "    }\n",
              "    (() => {\n",
              "      let quickchartButtonEl =\n",
              "        document.querySelector('#df-0e7f8b6e-d249-49b8-96a8-3ae0c00c0ba2 button');\n",
              "      quickchartButtonEl.style.display =\n",
              "        google.colab.kernel.accessAllowed ? 'block' : 'none';\n",
              "    })();\n",
              "  </script>\n",
              "</div>\n",
              "    </div>\n",
              "  </div>\n"
            ]
          },
          "metadata": {},
          "execution_count": 524
        }
      ]
    },
    {
      "cell_type": "code",
      "source": [
        "X_test = df2_test"
      ],
      "metadata": {
        "id": "boVio6S-8iy2"
      },
      "execution_count": 525,
      "outputs": []
    },
    {
      "cell_type": "code",
      "source": [
        "## Convert polarity Values to Integers\n",
        "X_test[\"polarity\"] = pd.to_numeric(X_test[\"polarity\"],errors='coerce')\n"
      ],
      "metadata": {
        "id": "d6RSATyt8kiB"
      },
      "execution_count": 526,
      "outputs": []
    },
    {
      "cell_type": "code",
      "source": [
        "y_test = X_test[\"polarity\"]"
      ],
      "metadata": {
        "id": "KfuGN3py8mUW"
      },
      "execution_count": 527,
      "outputs": []
    },
    {
      "cell_type": "code",
      "source": [
        "tokenizer = Tokenizer(num_words=NUM_WORDS,\n",
        "                      filters='!\"#$%&()*+,-./:;<=>?@[\\\\]^_`{|}~\\t\\n',\n",
        "                      lower=True, )\n",
        "## Fit_on_texts : Updates internal vocabulary based on a list of texts.\n",
        "tokenizer.fit_on_texts(list(X_train.sentence))\n",
        "text_X_test_tokenized = tokenizer.texts_to_sequences(X_test.sentence) # list of tokenized sentences\n",
        "Aspect_X_test_tokenized = tokenizer.texts_to_sequences(X_test['aspect_terms']) # list of tokenized sentences\n"
      ],
      "metadata": {
        "id": "vdCtE8mj8okA"
      },
      "execution_count": 528,
      "outputs": []
    },
    {
      "cell_type": "code",
      "source": [
        "## Pads sequences(or sentences) to the same length.\n",
        "\n",
        "\n",
        "\n",
        "text_X_test_padded = pad_sequences(text_X_test_tokenized, maxlen=Max_Len)\n",
        "aspect_X_test_padded = pad_sequences(Aspect_X_test_tokenized, maxlen=1)\n"
      ],
      "metadata": {
        "id": "9h_B9TmH8qhu"
      },
      "execution_count": 529,
      "outputs": []
    },
    {
      "cell_type": "code",
      "source": [
        "test_data =   [text_X_test_padded,aspect_X_test_padded]\n"
      ],
      "metadata": {
        "id": "wdl3X1oJ8sKz"
      },
      "execution_count": 530,
      "outputs": []
    },
    {
      "cell_type": "code",
      "source": [
        "\"\"\"\n",
        "print(\"Evaluate on test data\")\n",
        "results = atae_lstm_model.evaluate(x = test_data , y = y_test )\n",
        "print(\"test loss, test acc:\", results)\n",
        "print(\"Accuracy of the model is - \" , results[1]*100 , \"%\")\n",
        "\"\"\""
      ],
      "metadata": {
        "colab": {
          "base_uri": "https://localhost:8080/",
          "height": 53
        },
        "id": "ROXWnfDR8uIb",
        "outputId": "c6bdc652-bdf1-424c-dd50-3d1b777844ee"
      },
      "execution_count": 531,
      "outputs": [
        {
          "output_type": "execute_result",
          "data": {
            "text/plain": [
              "'\\nprint(\"Evaluate on test data\")\\nresults = atae_lstm_model.evaluate(x = test_data , y = y_test )\\nprint(\"test loss, test acc:\", results)\\nprint(\"Accuracy of the model is - \" , results[1]*100 , \"%\")\\n'"
            ],
            "application/vnd.google.colaboratory.intrinsic+json": {
              "type": "string"
            }
          },
          "metadata": {},
          "execution_count": 531
        }
      ]
    },
    {
      "cell_type": "code",
      "source": [],
      "metadata": {
        "id": "2ZbWsErYLPq5"
      },
      "execution_count": 531,
      "outputs": []
    },
    {
      "cell_type": "markdown",
      "source": [
        "##CROSS VALIDATE ON SENTIHOOD DATASET\n"
      ],
      "metadata": {
        "id": "y9FDvQeaLQYL"
      }
    },
    {
      "cell_type": "code",
      "source": [
        "df2_test = pd.read_csv(\"/content/drive/MyDrive/ABSA work/codes/processed_Sentihood/sentihood_test_single.csv\", encoding='utf8')"
      ],
      "metadata": {
        "id": "HuoJIastLQYN"
      },
      "execution_count": 532,
      "outputs": []
    },
    {
      "cell_type": "code",
      "source": [
        "\n",
        "df2_test.drop(columns=['to' , 'from'], inplace=True)"
      ],
      "metadata": {
        "id": "GQQ9qegaLQYN"
      },
      "execution_count": 533,
      "outputs": []
    },
    {
      "cell_type": "code",
      "source": [
        "df2_test['polarity'][df2_test[\"polarity\"] == 'negative'] = 0\n",
        "df2_test['polarity'][df2_test[\"polarity\"] == 'positive'] = 1\n"
      ],
      "metadata": {
        "colab": {
          "base_uri": "https://localhost:8080/"
        },
        "outputId": "521fe6f7-fa61-4cb9-fc7e-5b9bbe0001cc",
        "id": "Eh6nJCdCLQYO"
      },
      "execution_count": 534,
      "outputs": [
        {
          "output_type": "stream",
          "name": "stderr",
          "text": [
            "<ipython-input-534-27e789cd0644>:1: SettingWithCopyWarning: \n",
            "A value is trying to be set on a copy of a slice from a DataFrame\n",
            "\n",
            "See the caveats in the documentation: https://pandas.pydata.org/pandas-docs/stable/user_guide/indexing.html#returning-a-view-versus-a-copy\n",
            "  df2_test['polarity'][df2_test[\"polarity\"] == 'negative'] = 0\n",
            "<ipython-input-534-27e789cd0644>:2: SettingWithCopyWarning: \n",
            "A value is trying to be set on a copy of a slice from a DataFrame\n",
            "\n",
            "See the caveats in the documentation: https://pandas.pydata.org/pandas-docs/stable/user_guide/indexing.html#returning-a-view-versus-a-copy\n",
            "  df2_test['polarity'][df2_test[\"polarity\"] == 'positive'] = 1\n"
          ]
        }
      ]
    },
    {
      "cell_type": "code",
      "source": [
        "X_test = df2_test"
      ],
      "metadata": {
        "id": "cYKvHpjULQYP"
      },
      "execution_count": 535,
      "outputs": []
    },
    {
      "cell_type": "code",
      "source": [
        "## Convert polarity Values to Integers\n",
        "X_test[\"polarity\"] = pd.to_numeric(X_test[\"polarity\"],errors='coerce')\n"
      ],
      "metadata": {
        "id": "IYiTk6pBLQYQ"
      },
      "execution_count": 536,
      "outputs": []
    },
    {
      "cell_type": "code",
      "source": [
        "y_test = X_test[\"polarity\"]"
      ],
      "metadata": {
        "id": "WZHkx6wmLQYR"
      },
      "execution_count": 537,
      "outputs": []
    },
    {
      "cell_type": "code",
      "source": [],
      "metadata": {
        "id": "9Ydov4__Lf39"
      },
      "execution_count": 537,
      "outputs": []
    },
    {
      "cell_type": "code",
      "source": [
        "tokenizer = Tokenizer(num_words=NUM_WORDS,\n",
        "                      filters='!\"#$%&()*+,-./:;<=>?@[\\\\]^_`{|}~\\t\\n',\n",
        "                      lower=True, )\n",
        "## Fit_on_texts : Updates internal vocabulary based on a list of texts.\n",
        "tokenizer.fit_on_texts(list(X_train.sentence))\n",
        "text_X_test_tokenized = tokenizer.texts_to_sequences(X_test.sentence) # list of tokenized sentences\n",
        "Aspect_X_test_tokenized = tokenizer.texts_to_sequences(X_test['aspect_term']) # list of tokenized sentences\n"
      ],
      "metadata": {
        "id": "o2uSonKJLgIV"
      },
      "execution_count": 538,
      "outputs": []
    },
    {
      "cell_type": "code",
      "source": [
        "## Pads sequences(or sentences) to the same length.\n",
        "\n",
        "\n",
        "\n",
        "text_X_test_padded = pad_sequences(text_X_test_tokenized, maxlen=Max_Len)\n",
        "aspect_X_test_padded = pad_sequences(Aspect_X_test_tokenized, maxlen=1)\n"
      ],
      "metadata": {
        "id": "oH7pdpGJLgIW"
      },
      "execution_count": 539,
      "outputs": []
    },
    {
      "cell_type": "code",
      "source": [
        "test_data =   [text_X_test_padded,aspect_X_test_padded]\n"
      ],
      "metadata": {
        "id": "WzoFFWSTLgIX"
      },
      "execution_count": 540,
      "outputs": []
    },
    {
      "cell_type": "code",
      "source": [
        "\n",
        "print(\"Evaluate on test data\")\n",
        "results = atae_lstm_model.evaluate(x = test_data , y = y_test )\n",
        "print(\"test loss, test acc:\", results)\n",
        "print(\"Accuracy of the model is - \" , results[1]*100 , \"%\")\n"
      ],
      "metadata": {
        "colab": {
          "base_uri": "https://localhost:8080/"
        },
        "outputId": "e84b4fcb-15a4-44f3-8c73-5f9e762f355e",
        "id": "6JmCaOwoLgIX"
      },
      "execution_count": 541,
      "outputs": [
        {
          "output_type": "stream",
          "name": "stdout",
          "text": [
            "Evaluate on test data\n",
            "53/53 [==============================] - 0s 7ms/step - loss: 2.6353 - accuracy: 0.4669\n",
            "test loss, test acc: [2.6353414058685303, 0.4669446051120758]\n",
            "Accuracy of the model is -  46.69446051120758 %\n"
          ]
        }
      ]
    },
    {
      "cell_type": "markdown",
      "source": [
        "##CROSS VALIDATE ON DOTSA BOOKS"
      ],
      "metadata": {
        "id": "tYlcx0nIHE0l"
      }
    },
    {
      "cell_type": "code",
      "source": [
        "df2_test = pd.read_csv(\"/content/drive/MyDrive/ABSA work/codes/processed_dotsa/new_Books_test.csv\", encoding='utf8')"
      ],
      "metadata": {
        "id": "ka1enDMNG8I7"
      },
      "execution_count": 542,
      "outputs": []
    },
    {
      "cell_type": "code",
      "source": [
        "train1 = []\n",
        "test1 = []\n",
        "val1 = []\n",
        "\n",
        "def dataset1(data , list1):\n",
        "  for text, aspects, sentiments in zip(data['Text'], data['Aspect'], data['Sentiment']):\n",
        "    aspect_list = aspects.split(', ')\n",
        "    sentiment_list = sentiments.split(', ')\n",
        "\n",
        "    for aspect, sentiment in zip(aspect_list, sentiment_list):\n",
        "      if \", \" in aspect:\n",
        "        sub_aspects = aspect.split(\", \")\n",
        "        for sub_aspect in sub_aspects:\n",
        "          list1.append({'Text': text, 'Aspect': sub_aspect, 'Sentiment': sentiment})\n",
        "      else:\n",
        "        list1.append({'Text': text, 'Aspect': aspect, 'Sentiment': sentiment})\n",
        "\n",
        "  return list1\n",
        "\n",
        "te1 = dataset1(df2_test , test1)\n",
        "\n",
        "# Create a new dataframe from the expanded data\n",
        "\n",
        "test_df = pd.DataFrame(te1)\n",
        "\n",
        "\n"
      ],
      "metadata": {
        "id": "wTf_O6818y05"
      },
      "execution_count": 543,
      "outputs": []
    },
    {
      "cell_type": "code",
      "source": [
        "## change the labels to integers for the training phase\n",
        "test_df['Sentiment'][test_df[\"Sentiment\"] == 'Negative'] = 0\n",
        "test_df['Sentiment'][test_df[\"Sentiment\"] == 'Positive'] = 1\n",
        "test_df['Sentiment'][test_df[\"Sentiment\"] == 'Mixed'] = 2\n",
        "\n"
      ],
      "metadata": {
        "id": "tFWPYx4WIPSB"
      },
      "execution_count": 544,
      "outputs": []
    },
    {
      "cell_type": "code",
      "source": [
        "test_df"
      ],
      "metadata": {
        "colab": {
          "base_uri": "https://localhost:8080/",
          "height": 424
        },
        "id": "da--W3MZRIEU",
        "outputId": "5899161f-20c0-4aac-9def-47a5d5127cd5"
      },
      "execution_count": 545,
      "outputs": [
        {
          "output_type": "execute_result",
          "data": {
            "text/plain": [
              "                                                  Text          Aspect  \\\n",
              "0    This story is one of too many heartbreaking st...           story   \n",
              "1    Good Faye Kellerman ! ! ! She manages to keep ...  Faye Kellerman   \n",
              "2    Good Faye Kellerman ! ! ! She manages to keep ...      characters   \n",
              "3    Good Faye Kellerman ! ! ! She manages to keep ...              it   \n",
              "4    Good book on cancer -- a little longer than I ...            book   \n",
              "..                                                 ...             ...   \n",
              "363  This was my first experience reading a Faye Ke...              it   \n",
              "364  This was my first experience reading a Faye Ke...       it--story   \n",
              "365  This was my first experience reading a Faye Ke...        it--plot   \n",
              "366  This was my first experience reading a Faye Ke...  it--characters   \n",
              "367  A must read for all medical professionals , an...            read   \n",
              "\n",
              "    Sentiment  \n",
              "0           2  \n",
              "1           1  \n",
              "2           1  \n",
              "3           1  \n",
              "4           1  \n",
              "..        ...  \n",
              "363         2  \n",
              "364         1  \n",
              "365         0  \n",
              "366         1  \n",
              "367         1  \n",
              "\n",
              "[368 rows x 3 columns]"
            ],
            "text/html": [
              "\n",
              "  <div id=\"df-a7ada871-4e68-485c-9cce-4497d1aa2095\" class=\"colab-df-container\">\n",
              "    <div>\n",
              "<style scoped>\n",
              "    .dataframe tbody tr th:only-of-type {\n",
              "        vertical-align: middle;\n",
              "    }\n",
              "\n",
              "    .dataframe tbody tr th {\n",
              "        vertical-align: top;\n",
              "    }\n",
              "\n",
              "    .dataframe thead th {\n",
              "        text-align: right;\n",
              "    }\n",
              "</style>\n",
              "<table border=\"1\" class=\"dataframe\">\n",
              "  <thead>\n",
              "    <tr style=\"text-align: right;\">\n",
              "      <th></th>\n",
              "      <th>Text</th>\n",
              "      <th>Aspect</th>\n",
              "      <th>Sentiment</th>\n",
              "    </tr>\n",
              "  </thead>\n",
              "  <tbody>\n",
              "    <tr>\n",
              "      <th>0</th>\n",
              "      <td>This story is one of too many heartbreaking st...</td>\n",
              "      <td>story</td>\n",
              "      <td>2</td>\n",
              "    </tr>\n",
              "    <tr>\n",
              "      <th>1</th>\n",
              "      <td>Good Faye Kellerman ! ! ! She manages to keep ...</td>\n",
              "      <td>Faye Kellerman</td>\n",
              "      <td>1</td>\n",
              "    </tr>\n",
              "    <tr>\n",
              "      <th>2</th>\n",
              "      <td>Good Faye Kellerman ! ! ! She manages to keep ...</td>\n",
              "      <td>characters</td>\n",
              "      <td>1</td>\n",
              "    </tr>\n",
              "    <tr>\n",
              "      <th>3</th>\n",
              "      <td>Good Faye Kellerman ! ! ! She manages to keep ...</td>\n",
              "      <td>it</td>\n",
              "      <td>1</td>\n",
              "    </tr>\n",
              "    <tr>\n",
              "      <th>4</th>\n",
              "      <td>Good book on cancer -- a little longer than I ...</td>\n",
              "      <td>book</td>\n",
              "      <td>1</td>\n",
              "    </tr>\n",
              "    <tr>\n",
              "      <th>...</th>\n",
              "      <td>...</td>\n",
              "      <td>...</td>\n",
              "      <td>...</td>\n",
              "    </tr>\n",
              "    <tr>\n",
              "      <th>363</th>\n",
              "      <td>This was my first experience reading a Faye Ke...</td>\n",
              "      <td>it</td>\n",
              "      <td>2</td>\n",
              "    </tr>\n",
              "    <tr>\n",
              "      <th>364</th>\n",
              "      <td>This was my first experience reading a Faye Ke...</td>\n",
              "      <td>it--story</td>\n",
              "      <td>1</td>\n",
              "    </tr>\n",
              "    <tr>\n",
              "      <th>365</th>\n",
              "      <td>This was my first experience reading a Faye Ke...</td>\n",
              "      <td>it--plot</td>\n",
              "      <td>0</td>\n",
              "    </tr>\n",
              "    <tr>\n",
              "      <th>366</th>\n",
              "      <td>This was my first experience reading a Faye Ke...</td>\n",
              "      <td>it--characters</td>\n",
              "      <td>1</td>\n",
              "    </tr>\n",
              "    <tr>\n",
              "      <th>367</th>\n",
              "      <td>A must read for all medical professionals , an...</td>\n",
              "      <td>read</td>\n",
              "      <td>1</td>\n",
              "    </tr>\n",
              "  </tbody>\n",
              "</table>\n",
              "<p>368 rows × 3 columns</p>\n",
              "</div>\n",
              "    <div class=\"colab-df-buttons\">\n",
              "\n",
              "  <div class=\"colab-df-container\">\n",
              "    <button class=\"colab-df-convert\" onclick=\"convertToInteractive('df-a7ada871-4e68-485c-9cce-4497d1aa2095')\"\n",
              "            title=\"Convert this dataframe to an interactive table.\"\n",
              "            style=\"display:none;\">\n",
              "\n",
              "  <svg xmlns=\"http://www.w3.org/2000/svg\" height=\"24px\" viewBox=\"0 -960 960 960\">\n",
              "    <path d=\"M120-120v-720h720v720H120Zm60-500h600v-160H180v160Zm220 220h160v-160H400v160Zm0 220h160v-160H400v160ZM180-400h160v-160H180v160Zm440 0h160v-160H620v160ZM180-180h160v-160H180v160Zm440 0h160v-160H620v160Z\"/>\n",
              "  </svg>\n",
              "    </button>\n",
              "\n",
              "  <style>\n",
              "    .colab-df-container {\n",
              "      display:flex;\n",
              "      gap: 12px;\n",
              "    }\n",
              "\n",
              "    .colab-df-convert {\n",
              "      background-color: #E8F0FE;\n",
              "      border: none;\n",
              "      border-radius: 50%;\n",
              "      cursor: pointer;\n",
              "      display: none;\n",
              "      fill: #1967D2;\n",
              "      height: 32px;\n",
              "      padding: 0 0 0 0;\n",
              "      width: 32px;\n",
              "    }\n",
              "\n",
              "    .colab-df-convert:hover {\n",
              "      background-color: #E2EBFA;\n",
              "      box-shadow: 0px 1px 2px rgba(60, 64, 67, 0.3), 0px 1px 3px 1px rgba(60, 64, 67, 0.15);\n",
              "      fill: #174EA6;\n",
              "    }\n",
              "\n",
              "    .colab-df-buttons div {\n",
              "      margin-bottom: 4px;\n",
              "    }\n",
              "\n",
              "    [theme=dark] .colab-df-convert {\n",
              "      background-color: #3B4455;\n",
              "      fill: #D2E3FC;\n",
              "    }\n",
              "\n",
              "    [theme=dark] .colab-df-convert:hover {\n",
              "      background-color: #434B5C;\n",
              "      box-shadow: 0px 1px 3px 1px rgba(0, 0, 0, 0.15);\n",
              "      filter: drop-shadow(0px 1px 2px rgba(0, 0, 0, 0.3));\n",
              "      fill: #FFFFFF;\n",
              "    }\n",
              "  </style>\n",
              "\n",
              "    <script>\n",
              "      const buttonEl =\n",
              "        document.querySelector('#df-a7ada871-4e68-485c-9cce-4497d1aa2095 button.colab-df-convert');\n",
              "      buttonEl.style.display =\n",
              "        google.colab.kernel.accessAllowed ? 'block' : 'none';\n",
              "\n",
              "      async function convertToInteractive(key) {\n",
              "        const element = document.querySelector('#df-a7ada871-4e68-485c-9cce-4497d1aa2095');\n",
              "        const dataTable =\n",
              "          await google.colab.kernel.invokeFunction('convertToInteractive',\n",
              "                                                    [key], {});\n",
              "        if (!dataTable) return;\n",
              "\n",
              "        const docLinkHtml = 'Like what you see? Visit the ' +\n",
              "          '<a target=\"_blank\" href=https://colab.research.google.com/notebooks/data_table.ipynb>data table notebook</a>'\n",
              "          + ' to learn more about interactive tables.';\n",
              "        element.innerHTML = '';\n",
              "        dataTable['output_type'] = 'display_data';\n",
              "        await google.colab.output.renderOutput(dataTable, element);\n",
              "        const docLink = document.createElement('div');\n",
              "        docLink.innerHTML = docLinkHtml;\n",
              "        element.appendChild(docLink);\n",
              "      }\n",
              "    </script>\n",
              "  </div>\n",
              "\n",
              "\n",
              "<div id=\"df-dd1370f4-2cf8-4f7b-80ec-e10bae212a72\">\n",
              "  <button class=\"colab-df-quickchart\" onclick=\"quickchart('df-dd1370f4-2cf8-4f7b-80ec-e10bae212a72')\"\n",
              "            title=\"Suggest charts.\"\n",
              "            style=\"display:none;\">\n",
              "\n",
              "<svg xmlns=\"http://www.w3.org/2000/svg\" height=\"24px\"viewBox=\"0 0 24 24\"\n",
              "     width=\"24px\">\n",
              "    <g>\n",
              "        <path d=\"M19 3H5c-1.1 0-2 .9-2 2v14c0 1.1.9 2 2 2h14c1.1 0 2-.9 2-2V5c0-1.1-.9-2-2-2zM9 17H7v-7h2v7zm4 0h-2V7h2v10zm4 0h-2v-4h2v4z\"/>\n",
              "    </g>\n",
              "</svg>\n",
              "  </button>\n",
              "\n",
              "<style>\n",
              "  .colab-df-quickchart {\n",
              "      --bg-color: #E8F0FE;\n",
              "      --fill-color: #1967D2;\n",
              "      --hover-bg-color: #E2EBFA;\n",
              "      --hover-fill-color: #174EA6;\n",
              "      --disabled-fill-color: #AAA;\n",
              "      --disabled-bg-color: #DDD;\n",
              "  }\n",
              "\n",
              "  [theme=dark] .colab-df-quickchart {\n",
              "      --bg-color: #3B4455;\n",
              "      --fill-color: #D2E3FC;\n",
              "      --hover-bg-color: #434B5C;\n",
              "      --hover-fill-color: #FFFFFF;\n",
              "      --disabled-bg-color: #3B4455;\n",
              "      --disabled-fill-color: #666;\n",
              "  }\n",
              "\n",
              "  .colab-df-quickchart {\n",
              "    background-color: var(--bg-color);\n",
              "    border: none;\n",
              "    border-radius: 50%;\n",
              "    cursor: pointer;\n",
              "    display: none;\n",
              "    fill: var(--fill-color);\n",
              "    height: 32px;\n",
              "    padding: 0;\n",
              "    width: 32px;\n",
              "  }\n",
              "\n",
              "  .colab-df-quickchart:hover {\n",
              "    background-color: var(--hover-bg-color);\n",
              "    box-shadow: 0 1px 2px rgba(60, 64, 67, 0.3), 0 1px 3px 1px rgba(60, 64, 67, 0.15);\n",
              "    fill: var(--button-hover-fill-color);\n",
              "  }\n",
              "\n",
              "  .colab-df-quickchart-complete:disabled,\n",
              "  .colab-df-quickchart-complete:disabled:hover {\n",
              "    background-color: var(--disabled-bg-color);\n",
              "    fill: var(--disabled-fill-color);\n",
              "    box-shadow: none;\n",
              "  }\n",
              "\n",
              "  .colab-df-spinner {\n",
              "    border: 2px solid var(--fill-color);\n",
              "    border-color: transparent;\n",
              "    border-bottom-color: var(--fill-color);\n",
              "    animation:\n",
              "      spin 1s steps(1) infinite;\n",
              "  }\n",
              "\n",
              "  @keyframes spin {\n",
              "    0% {\n",
              "      border-color: transparent;\n",
              "      border-bottom-color: var(--fill-color);\n",
              "      border-left-color: var(--fill-color);\n",
              "    }\n",
              "    20% {\n",
              "      border-color: transparent;\n",
              "      border-left-color: var(--fill-color);\n",
              "      border-top-color: var(--fill-color);\n",
              "    }\n",
              "    30% {\n",
              "      border-color: transparent;\n",
              "      border-left-color: var(--fill-color);\n",
              "      border-top-color: var(--fill-color);\n",
              "      border-right-color: var(--fill-color);\n",
              "    }\n",
              "    40% {\n",
              "      border-color: transparent;\n",
              "      border-right-color: var(--fill-color);\n",
              "      border-top-color: var(--fill-color);\n",
              "    }\n",
              "    60% {\n",
              "      border-color: transparent;\n",
              "      border-right-color: var(--fill-color);\n",
              "    }\n",
              "    80% {\n",
              "      border-color: transparent;\n",
              "      border-right-color: var(--fill-color);\n",
              "      border-bottom-color: var(--fill-color);\n",
              "    }\n",
              "    90% {\n",
              "      border-color: transparent;\n",
              "      border-bottom-color: var(--fill-color);\n",
              "    }\n",
              "  }\n",
              "</style>\n",
              "\n",
              "  <script>\n",
              "    async function quickchart(key) {\n",
              "      const quickchartButtonEl =\n",
              "        document.querySelector('#' + key + ' button');\n",
              "      quickchartButtonEl.disabled = true;  // To prevent multiple clicks.\n",
              "      quickchartButtonEl.classList.add('colab-df-spinner');\n",
              "      try {\n",
              "        const charts = await google.colab.kernel.invokeFunction(\n",
              "            'suggestCharts', [key], {});\n",
              "      } catch (error) {\n",
              "        console.error('Error during call to suggestCharts:', error);\n",
              "      }\n",
              "      quickchartButtonEl.classList.remove('colab-df-spinner');\n",
              "      quickchartButtonEl.classList.add('colab-df-quickchart-complete');\n",
              "    }\n",
              "    (() => {\n",
              "      let quickchartButtonEl =\n",
              "        document.querySelector('#df-dd1370f4-2cf8-4f7b-80ec-e10bae212a72 button');\n",
              "      quickchartButtonEl.style.display =\n",
              "        google.colab.kernel.accessAllowed ? 'block' : 'none';\n",
              "    })();\n",
              "  </script>\n",
              "</div>\n",
              "    </div>\n",
              "  </div>\n"
            ]
          },
          "metadata": {},
          "execution_count": 545
        }
      ]
    },
    {
      "cell_type": "code",
      "source": [
        "X_test = test_df"
      ],
      "metadata": {
        "id": "4-IPm_UAIf6-"
      },
      "execution_count": 546,
      "outputs": []
    },
    {
      "cell_type": "code",
      "source": [
        "## Convert polarity Values to Integers\n",
        "X_test[\"Sentiment\"] = pd.to_numeric(X_test[\"Sentiment\"],errors='coerce')\n"
      ],
      "metadata": {
        "id": "SO4rDNZ6Igt4"
      },
      "execution_count": 547,
      "outputs": []
    },
    {
      "cell_type": "code",
      "source": [
        "y_test = X_test[\"Sentiment\"]"
      ],
      "metadata": {
        "id": "8WEPXgq0Ilmk"
      },
      "execution_count": 548,
      "outputs": []
    },
    {
      "cell_type": "code",
      "source": [
        "tokenizer = Tokenizer(num_words=NUM_WORDS,\n",
        "                      filters='!\"#$%&()*+,-./:;<=>?@[\\\\]^_`{|}~\\t\\n',\n",
        "                      lower=True, )\n",
        "## Fit_on_texts : Updates internal vocabulary based on a list of texts.\n",
        "tokenizer.fit_on_texts(list(X_train.sentence))\n",
        "text_X_test_tokenized = tokenizer.texts_to_sequences(X_test.Text) # list of tokenized sentences\n",
        "Aspect_X_test_tokenized = tokenizer.texts_to_sequences(X_test['Aspect']) # list of tokenized sentences\n"
      ],
      "metadata": {
        "id": "-9NwsyI0IrLU"
      },
      "execution_count": 549,
      "outputs": []
    },
    {
      "cell_type": "code",
      "source": [
        "## Pads sequences(or sentences) to the same length.\n",
        "\n",
        "\n",
        "\n",
        "text_X_test_padded = pad_sequences(text_X_test_tokenized, maxlen=Max_Len)\n",
        "aspect_X_test_padded = pad_sequences(Aspect_X_test_tokenized, maxlen=1)\n"
      ],
      "metadata": {
        "id": "gNy89I5EIvJi"
      },
      "execution_count": 550,
      "outputs": []
    },
    {
      "cell_type": "code",
      "source": [
        "test_data =   [text_X_test_padded,aspect_X_test_padded]\n"
      ],
      "metadata": {
        "id": "Bnzh2GcKIxJw"
      },
      "execution_count": 551,
      "outputs": []
    },
    {
      "cell_type": "code",
      "source": [
        "print(\"Evaluate on test data\")\n",
        "results = atae_lstm_model.evaluate(x = test_data , y = y_test )\n",
        "print(\"test loss, test acc:\", results)\n",
        "print(\"Accuracy of the model is - \" , results[1]*100 , \"%\")"
      ],
      "metadata": {
        "colab": {
          "base_uri": "https://localhost:8080/"
        },
        "id": "ZXLPu3-mI0PI",
        "outputId": "d1ae9d96-da2d-4c62-9d99-7593ce500883"
      },
      "execution_count": 552,
      "outputs": [
        {
          "output_type": "stream",
          "name": "stdout",
          "text": [
            "Evaluate on test data\n",
            "12/12 [==============================] - 0s 6ms/step - loss: 1.8105 - accuracy: 0.3342\n",
            "test loss, test acc: [1.8105124235153198, 0.33423912525177]\n",
            "Accuracy of the model is -  33.423912525177 %\n"
          ]
        }
      ]
    },
    {
      "cell_type": "markdown",
      "source": [
        "##CROSS VALIDATE ON DOTSA CLOTHING"
      ],
      "metadata": {
        "id": "Gxy1BWO6JyHa"
      }
    },
    {
      "cell_type": "code",
      "source": [
        "df2_test = pd.read_csv(\"/content/drive/MyDrive/ABSA work/codes/processed_dotsa/new_Clothing_test.csv\", encoding='utf8')"
      ],
      "metadata": {
        "id": "PccgJYx9JmlI"
      },
      "execution_count": 553,
      "outputs": []
    },
    {
      "cell_type": "code",
      "source": [
        "train1 = []\n",
        "test1 = []\n",
        "val1 = []\n",
        "\n",
        "def dataset1(data , list1):\n",
        "  for text, aspects, sentiments in zip(data['Text'], data['Aspect'], data['Sentiment']):\n",
        "    aspect_list = aspects.split(', ')\n",
        "    sentiment_list = sentiments.split(', ')\n",
        "\n",
        "    for aspect, sentiment in zip(aspect_list, sentiment_list):\n",
        "      if \", \" in aspect:\n",
        "        sub_aspects = aspect.split(\", \")\n",
        "        for sub_aspect in sub_aspects:\n",
        "          list1.append({'Text': text, 'Aspect': sub_aspect, 'Sentiment': sentiment})\n",
        "      else:\n",
        "        list1.append({'Text': text, 'Aspect': aspect, 'Sentiment': sentiment})\n",
        "\n",
        "  return list1\n",
        "\n",
        "te1 = dataset1(df2_test , test1)\n",
        "\n",
        "# Create a new dataframe from the expanded data\n",
        "\n",
        "test_df = pd.DataFrame(te1)\n",
        "\n",
        "\n"
      ],
      "metadata": {
        "id": "qe64qk7UJmlJ"
      },
      "execution_count": 554,
      "outputs": []
    },
    {
      "cell_type": "code",
      "source": [
        "## change the labels to integers for the training phase\n",
        "test_df['Sentiment'][test_df[\"Sentiment\"] == 'Negative'] = 0\n",
        "test_df['Sentiment'][test_df[\"Sentiment\"] == 'Positive'] = 1\n",
        "test_df['Sentiment'][test_df[\"Sentiment\"] == 'Mixed'] = 2\n",
        "\n"
      ],
      "metadata": {
        "id": "VcocPKDjJmlL"
      },
      "execution_count": 555,
      "outputs": []
    },
    {
      "cell_type": "code",
      "source": [
        "X_test = test_df"
      ],
      "metadata": {
        "id": "s6QsjVClJmlM"
      },
      "execution_count": 556,
      "outputs": []
    },
    {
      "cell_type": "code",
      "source": [
        "## Convert polarity Values to Integers\n",
        "X_test[\"Sentiment\"] = pd.to_numeric(X_test[\"Sentiment\"],errors='coerce')\n"
      ],
      "metadata": {
        "id": "fCdHFgfNJmlN"
      },
      "execution_count": 557,
      "outputs": []
    },
    {
      "cell_type": "code",
      "source": [
        "y_test = X_test[\"Sentiment\"]"
      ],
      "metadata": {
        "id": "lwrdSGCGJmlN"
      },
      "execution_count": 558,
      "outputs": []
    },
    {
      "cell_type": "code",
      "source": [
        "tokenizer = Tokenizer(num_words=NUM_WORDS,\n",
        "                      filters='!\"#$%&()*+,-./:;<=>?@[\\\\]^_`{|}~\\t\\n',\n",
        "                      lower=True, )\n",
        "## Fit_on_texts : Updates internal vocabulary based on a list of texts.\n",
        "tokenizer.fit_on_texts(list(X_train.sentence))\n",
        "text_X_test_tokenized = tokenizer.texts_to_sequences(X_test.Text) # list of tokenized sentences\n",
        "Aspect_X_test_tokenized = tokenizer.texts_to_sequences(X_test['Aspect']) # list of tokenized sentences\n"
      ],
      "metadata": {
        "id": "oSBws5deJmlO"
      },
      "execution_count": 559,
      "outputs": []
    },
    {
      "cell_type": "code",
      "source": [
        "## Pads sequences(or sentences) to the same length.\n",
        "\n",
        "\n",
        "\n",
        "text_X_test_padded = pad_sequences(text_X_test_tokenized, maxlen=Max_Len)\n",
        "aspect_X_test_padded = pad_sequences(Aspect_X_test_tokenized, maxlen=1)\n"
      ],
      "metadata": {
        "id": "ywMrWO-ZJmlP"
      },
      "execution_count": 560,
      "outputs": []
    },
    {
      "cell_type": "code",
      "source": [
        "test_data =   [text_X_test_padded,aspect_X_test_padded]\n"
      ],
      "metadata": {
        "id": "x2XMc_jnJmlP"
      },
      "execution_count": 561,
      "outputs": []
    },
    {
      "cell_type": "code",
      "source": [
        "print(\"Evaluate on test data\")\n",
        "results = atae_lstm_model.evaluate(x = test_data , y = y_test )\n",
        "print(\"test loss, test acc:\", results)\n",
        "print(\"Accuracy of the model is - \" , results[1]*100 , \"%\")"
      ],
      "metadata": {
        "colab": {
          "base_uri": "https://localhost:8080/"
        },
        "id": "c0H6tXS4JmlP",
        "outputId": "fca1935c-4cc4-40b2-a8bf-b63e8b6d6638"
      },
      "execution_count": 562,
      "outputs": [
        {
          "output_type": "stream",
          "name": "stdout",
          "text": [
            "Evaluate on test data\n",
            "7/7 [==============================] - 0s 7ms/step - loss: 1.8444 - accuracy: 0.3673\n",
            "test loss, test acc: [1.844429850578308, 0.36734694242477417]\n",
            "Accuracy of the model is -  36.73469424247742 %\n"
          ]
        }
      ]
    },
    {
      "cell_type": "markdown",
      "source": [
        "##CROSS VALIDATE ON DOTSA HOTELS"
      ],
      "metadata": {
        "id": "_dvMyTcfKR9E"
      }
    },
    {
      "cell_type": "code",
      "source": [
        "df2_test = pd.read_csv(\"/content/drive/MyDrive/ABSA work/codes/processed_dotsa/new_Hotels_test.csv\", encoding='utf8')"
      ],
      "metadata": {
        "id": "gsgMgqHRKR9F"
      },
      "execution_count": 563,
      "outputs": []
    },
    {
      "cell_type": "code",
      "source": [
        "train1 = []\n",
        "test1 = []\n",
        "val1 = []\n",
        "\n",
        "def dataset1(data , list1):\n",
        "  for text, aspects, sentiments in zip(data['Text'], data['Aspect'], data['Sentiment']):\n",
        "    aspect_list = aspects.split(', ')\n",
        "    sentiment_list = sentiments.split(', ')\n",
        "\n",
        "    for aspect, sentiment in zip(aspect_list, sentiment_list):\n",
        "      if \", \" in aspect:\n",
        "        sub_aspects = aspect.split(\", \")\n",
        "        for sub_aspect in sub_aspects:\n",
        "          list1.append({'Text': text, 'Aspect': sub_aspect, 'Sentiment': sentiment})\n",
        "      else:\n",
        "        list1.append({'Text': text, 'Aspect': aspect, 'Sentiment': sentiment})\n",
        "\n",
        "  return list1\n",
        "\n",
        "te1 = dataset1(df2_test , test1)\n",
        "\n",
        "# Create a new dataframe from the expanded data\n",
        "\n",
        "test_df = pd.DataFrame(te1)\n",
        "\n",
        "\n"
      ],
      "metadata": {
        "id": "-3diC4rSKR9G"
      },
      "execution_count": 564,
      "outputs": []
    },
    {
      "cell_type": "code",
      "source": [
        "## change the labels to integers for the training phase\n",
        "test_df['Sentiment'][test_df[\"Sentiment\"] == 'Negative'] = 0\n",
        "test_df['Sentiment'][test_df[\"Sentiment\"] == 'Positive'] = 1\n",
        "test_df['Sentiment'][test_df[\"Sentiment\"] == 'Mixed'] = 2\n",
        "\n"
      ],
      "metadata": {
        "id": "Zr-pEhq4KR9H"
      },
      "execution_count": 565,
      "outputs": []
    },
    {
      "cell_type": "code",
      "source": [
        "X_test = test_df"
      ],
      "metadata": {
        "id": "zXNLeWONKR9H"
      },
      "execution_count": 566,
      "outputs": []
    },
    {
      "cell_type": "code",
      "source": [
        "## Convert polarity Values to Integers\n",
        "X_test[\"Sentiment\"] = pd.to_numeric(X_test[\"Sentiment\"],errors='coerce')\n"
      ],
      "metadata": {
        "id": "19KSOTUdKR9I"
      },
      "execution_count": 567,
      "outputs": []
    },
    {
      "cell_type": "code",
      "source": [
        "y_test = X_test[\"Sentiment\"]"
      ],
      "metadata": {
        "id": "Ak5e8TT0KR9I"
      },
      "execution_count": 568,
      "outputs": []
    },
    {
      "cell_type": "code",
      "source": [
        "tokenizer = Tokenizer(num_words=NUM_WORDS,\n",
        "                      filters='!\"#$%&()*+,-./:;<=>?@[\\\\]^_`{|}~\\t\\n',\n",
        "                      lower=True, )\n",
        "## Fit_on_texts : Updates internal vocabulary based on a list of texts.\n",
        "tokenizer.fit_on_texts(list(X_train.sentence))\n",
        "text_X_test_tokenized = tokenizer.texts_to_sequences(X_test.Text) # list of tokenized sentences\n",
        "Aspect_X_test_tokenized = tokenizer.texts_to_sequences(X_test['Aspect']) # list of tokenized sentences\n"
      ],
      "metadata": {
        "id": "kgKowMbgKR9J"
      },
      "execution_count": 569,
      "outputs": []
    },
    {
      "cell_type": "code",
      "source": [
        "## Pads sequences(or sentences) to the same length.\n",
        "\n",
        "\n",
        "\n",
        "text_X_test_padded = pad_sequences(text_X_test_tokenized, maxlen=Max_Len)\n",
        "aspect_X_test_padded = pad_sequences(Aspect_X_test_tokenized, maxlen=1)\n"
      ],
      "metadata": {
        "id": "z-0b9YZKKR9K"
      },
      "execution_count": 570,
      "outputs": []
    },
    {
      "cell_type": "code",
      "source": [
        "test_data =   [text_X_test_padded,aspect_X_test_padded]\n"
      ],
      "metadata": {
        "id": "4p7SggIiKR9K"
      },
      "execution_count": 571,
      "outputs": []
    },
    {
      "cell_type": "code",
      "source": [
        "print(\"Evaluate on test data\")\n",
        "results = atae_lstm_model.evaluate(x = test_data , y = y_test )\n",
        "print(\"test loss, test acc:\", results)\n",
        "print(\"Accuracy of the model is - \" , results[1]*100 , \"%\")"
      ],
      "metadata": {
        "colab": {
          "base_uri": "https://localhost:8080/"
        },
        "id": "cA7nOd4vKR9K",
        "outputId": "a0747c4e-aa13-46e5-8e0c-fcc8b47a70fe"
      },
      "execution_count": 572,
      "outputs": [
        {
          "output_type": "stream",
          "name": "stdout",
          "text": [
            "Evaluate on test data\n",
            "18/18 [==============================] - 0s 5ms/step - loss: 1.4010 - accuracy: 0.5064\n",
            "test loss, test acc: [1.4009952545166016, 0.506375253200531]\n",
            "Accuracy of the model is -  50.6375253200531 %\n"
          ]
        }
      ]
    },
    {
      "cell_type": "code",
      "source": [],
      "metadata": {
        "id": "UOTEtxF_Kdii"
      },
      "execution_count": 572,
      "outputs": []
    },
    {
      "cell_type": "markdown",
      "source": [
        "##CROSS VALIDATE ON DOTSA RESTAURANTS"
      ],
      "metadata": {
        "id": "5MMX0b8tKd7F"
      }
    },
    {
      "cell_type": "code",
      "source": [
        "df2_test = pd.read_csv(\"/content/drive/MyDrive/ABSA work/codes/processed_dotsa/new_Restaurant_test.csv\", encoding='utf8')"
      ],
      "metadata": {
        "id": "qF75fw6WKd7G"
      },
      "execution_count": 573,
      "outputs": []
    },
    {
      "cell_type": "code",
      "source": [
        "train1 = []\n",
        "test1 = []\n",
        "val1 = []\n",
        "\n",
        "def dataset1(data , list1):\n",
        "  for text, aspects, sentiments in zip(data['Text'], data['Aspect'], data['Sentiment']):\n",
        "    aspect_list = aspects.split(', ')\n",
        "    sentiment_list = sentiments.split(', ')\n",
        "\n",
        "    for aspect, sentiment in zip(aspect_list, sentiment_list):\n",
        "      if \", \" in aspect:\n",
        "        sub_aspects = aspect.split(\", \")\n",
        "        for sub_aspect in sub_aspects:\n",
        "          list1.append({'Text': text, 'Aspect': sub_aspect, 'Sentiment': sentiment})\n",
        "      else:\n",
        "        list1.append({'Text': text, 'Aspect': aspect, 'Sentiment': sentiment})\n",
        "\n",
        "  return list1\n",
        "\n",
        "te1 = dataset1(df2_test , test1)\n",
        "\n",
        "# Create a new dataframe from the expanded data\n",
        "\n",
        "test_df = pd.DataFrame(te1)\n",
        "\n",
        "\n"
      ],
      "metadata": {
        "id": "xZVLsHfJKd7H"
      },
      "execution_count": 574,
      "outputs": []
    },
    {
      "cell_type": "code",
      "source": [
        "## change the labels to integers for the training phase\n",
        "test_df['Sentiment'][test_df[\"Sentiment\"] == 'Negative'] = 0\n",
        "test_df['Sentiment'][test_df[\"Sentiment\"] == 'Positive'] = 1\n",
        "test_df['Sentiment'][test_df[\"Sentiment\"] == 'Mixed'] = 2\n",
        "\n"
      ],
      "metadata": {
        "id": "bHBq2AdqKd7I"
      },
      "execution_count": 575,
      "outputs": []
    },
    {
      "cell_type": "code",
      "source": [
        "X_test = test_df"
      ],
      "metadata": {
        "id": "fqrE-JIeKd7J"
      },
      "execution_count": 576,
      "outputs": []
    },
    {
      "cell_type": "code",
      "source": [
        "## Convert polarity Values to Integers\n",
        "X_test[\"Sentiment\"] = pd.to_numeric(X_test[\"Sentiment\"],errors='coerce')\n"
      ],
      "metadata": {
        "id": "eB_EbufwKd7J"
      },
      "execution_count": 577,
      "outputs": []
    },
    {
      "cell_type": "code",
      "source": [
        "y_test = X_test[\"Sentiment\"]"
      ],
      "metadata": {
        "id": "8mH0tBk6Kd7K"
      },
      "execution_count": 578,
      "outputs": []
    },
    {
      "cell_type": "code",
      "source": [
        "tokenizer = Tokenizer(num_words=NUM_WORDS,\n",
        "                      filters='!\"#$%&()*+,-./:;<=>?@[\\\\]^_`{|}~\\t\\n',\n",
        "                      lower=True, )\n",
        "## Fit_on_texts : Updates internal vocabulary based on a list of texts.\n",
        "tokenizer.fit_on_texts(list(X_train.sentence))\n",
        "text_X_test_tokenized = tokenizer.texts_to_sequences(X_test.Text) # list of tokenized sentences\n",
        "Aspect_X_test_tokenized = tokenizer.texts_to_sequences(X_test['Aspect']) # list of tokenized sentences\n"
      ],
      "metadata": {
        "id": "H6sQn1WPKd7K"
      },
      "execution_count": 579,
      "outputs": []
    },
    {
      "cell_type": "code",
      "source": [
        "## Pads sequences(or sentences) to the same length.\n",
        "\n",
        "\n",
        "\n",
        "text_X_test_padded = pad_sequences(text_X_test_tokenized, maxlen=Max_Len)\n",
        "aspect_X_test_padded = pad_sequences(Aspect_X_test_tokenized, maxlen=1)\n"
      ],
      "metadata": {
        "id": "E088egwsKd7K"
      },
      "execution_count": 580,
      "outputs": []
    },
    {
      "cell_type": "code",
      "source": [
        "test_data =   [text_X_test_padded,aspect_X_test_padded]\n"
      ],
      "metadata": {
        "id": "NeYWxEXEKd7L"
      },
      "execution_count": 581,
      "outputs": []
    },
    {
      "cell_type": "code",
      "source": [
        "print(\"Evaluate on test data\")\n",
        "results = atae_lstm_model.evaluate(x = test_data , y = y_test )\n",
        "print(\"test loss, test acc:\", results)\n",
        "print(\"Accuracy of the model is - \" , results[1]*100 , \"%\")"
      ],
      "metadata": {
        "colab": {
          "base_uri": "https://localhost:8080/"
        },
        "id": "min2V0b1Kd7L",
        "outputId": "0a1bd14a-a1e6-4f02-883a-7db486228560"
      },
      "execution_count": 582,
      "outputs": [
        {
          "output_type": "stream",
          "name": "stdout",
          "text": [
            "Evaluate on test data\n",
            "22/22 [==============================] - 0s 6ms/step - loss: 1.5788 - accuracy: 0.4560\n",
            "test loss, test acc: [1.578816294670105, 0.45601174235343933]\n",
            "Accuracy of the model is -  45.60117423534393 %\n"
          ]
        }
      ]
    },
    {
      "cell_type": "code",
      "source": [],
      "metadata": {
        "id": "M8YwK0rgSEUw"
      },
      "execution_count": 582,
      "outputs": []
    }
  ]
}