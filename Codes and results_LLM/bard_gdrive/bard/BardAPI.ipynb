{
  "nbformat": 4,
  "nbformat_minor": 0,
  "metadata": {
    "colab": {
      "provenance": [],
      "gpuType": "T4"
    },
    "kernelspec": {
      "name": "python3",
      "display_name": "Python 3"
    },
    "language_info": {
      "name": "python"
    },
    "accelerator": "GPU"
  },
  "cells": [
    {
      "cell_type": "code",
      "source": [
        "pip install bardapi"
      ],
      "metadata": {
        "colab": {
          "base_uri": "https://localhost:8080/"
        },
        "id": "vkVqo3LCWABg",
        "outputId": "eb6b551c-7f06-4bed-ee18-b54684467f50"
      },
      "execution_count": 1,
      "outputs": [
        {
          "output_type": "stream",
          "name": "stdout",
          "text": [
            "Requirement already satisfied: bardapi in /usr/local/lib/python3.10/dist-packages (0.1.29)\n",
            "Requirement already satisfied: requests in /usr/local/lib/python3.10/dist-packages (from bardapi) (2.27.1)\n",
            "Requirement already satisfied: deep-translator in /usr/local/lib/python3.10/dist-packages (from bardapi) (1.11.4)\n",
            "Requirement already satisfied: colorama in /usr/local/lib/python3.10/dist-packages (from bardapi) (0.4.6)\n",
            "Requirement already satisfied: httpx[http2] in /usr/local/lib/python3.10/dist-packages (from bardapi) (0.24.1)\n",
            "Requirement already satisfied: google-cloud-translate==2.0.1 in /usr/local/lib/python3.10/dist-packages (from bardapi) (2.0.1)\n",
            "Requirement already satisfied: browser-cookie3 in /usr/local/lib/python3.10/dist-packages (from bardapi) (0.19.1)\n",
            "Requirement already satisfied: google-api-core[grpc]<2.0.0dev,>=1.15.0 in /usr/local/lib/python3.10/dist-packages (from google-cloud-translate==2.0.1->bardapi) (1.34.0)\n",
            "Requirement already satisfied: google-cloud-core<2.0dev,>=1.1.0 in /usr/local/lib/python3.10/dist-packages (from google-cloud-translate==2.0.1->bardapi) (1.7.3)\n",
            "Requirement already satisfied: lz4 in /usr/local/lib/python3.10/dist-packages (from browser-cookie3->bardapi) (4.3.2)\n",
            "Requirement already satisfied: pycryptodomex in /usr/local/lib/python3.10/dist-packages (from browser-cookie3->bardapi) (3.18.0)\n",
            "Requirement already satisfied: jeepney in /usr/lib/python3/dist-packages (from browser-cookie3->bardapi) (0.7.1)\n",
            "Requirement already satisfied: beautifulsoup4<5.0.0,>=4.9.1 in /usr/local/lib/python3.10/dist-packages (from deep-translator->bardapi) (4.11.2)\n",
            "Requirement already satisfied: urllib3<1.27,>=1.21.1 in /usr/local/lib/python3.10/dist-packages (from requests->bardapi) (1.26.16)\n",
            "Requirement already satisfied: certifi>=2017.4.17 in /usr/local/lib/python3.10/dist-packages (from requests->bardapi) (2023.5.7)\n",
            "Requirement already satisfied: charset-normalizer~=2.0.0 in /usr/local/lib/python3.10/dist-packages (from requests->bardapi) (2.0.12)\n",
            "Requirement already satisfied: idna<4,>=2.5 in /usr/local/lib/python3.10/dist-packages (from requests->bardapi) (3.4)\n",
            "Requirement already satisfied: httpcore<0.18.0,>=0.15.0 in /usr/local/lib/python3.10/dist-packages (from httpx[http2]->bardapi) (0.17.3)\n",
            "Requirement already satisfied: sniffio in /usr/local/lib/python3.10/dist-packages (from httpx[http2]->bardapi) (1.3.0)\n",
            "Requirement already satisfied: h2<5,>=3 in /usr/local/lib/python3.10/dist-packages (from httpx[http2]->bardapi) (4.1.0)\n",
            "Requirement already satisfied: soupsieve>1.2 in /usr/local/lib/python3.10/dist-packages (from beautifulsoup4<5.0.0,>=4.9.1->deep-translator->bardapi) (2.4.1)\n",
            "Requirement already satisfied: googleapis-common-protos<2.0dev,>=1.56.2 in /usr/local/lib/python3.10/dist-packages (from google-api-core[grpc]<2.0.0dev,>=1.15.0->google-cloud-translate==2.0.1->bardapi) (1.59.1)\n",
            "Requirement already satisfied: protobuf!=3.20.0,!=3.20.1,!=4.21.0,!=4.21.1,!=4.21.2,!=4.21.3,!=4.21.4,!=4.21.5,<4.0.0dev,>=3.19.5 in /usr/local/lib/python3.10/dist-packages (from google-api-core[grpc]<2.0.0dev,>=1.15.0->google-cloud-translate==2.0.1->bardapi) (3.20.3)\n",
            "Requirement already satisfied: google-auth<3.0dev,>=1.25.0 in /usr/local/lib/python3.10/dist-packages (from google-api-core[grpc]<2.0.0dev,>=1.15.0->google-cloud-translate==2.0.1->bardapi) (1.35.0)\n",
            "Requirement already satisfied: grpcio<2.0dev,>=1.33.2 in /usr/local/lib/python3.10/dist-packages (from google-api-core[grpc]<2.0.0dev,>=1.15.0->google-cloud-translate==2.0.1->bardapi) (1.56.0)\n",
            "Requirement already satisfied: grpcio-status<2.0dev,>=1.33.2 in /usr/local/lib/python3.10/dist-packages (from google-api-core[grpc]<2.0.0dev,>=1.15.0->google-cloud-translate==2.0.1->bardapi) (1.48.2)\n",
            "Requirement already satisfied: six>=1.12.0 in /usr/local/lib/python3.10/dist-packages (from google-cloud-core<2.0dev,>=1.1.0->google-cloud-translate==2.0.1->bardapi) (1.16.0)\n",
            "Requirement already satisfied: hyperframe<7,>=6.0 in /usr/local/lib/python3.10/dist-packages (from h2<5,>=3->httpx[http2]->bardapi) (6.0.1)\n",
            "Requirement already satisfied: hpack<5,>=4.0 in /usr/local/lib/python3.10/dist-packages (from h2<5,>=3->httpx[http2]->bardapi) (4.0.0)\n",
            "Requirement already satisfied: h11<0.15,>=0.13 in /usr/local/lib/python3.10/dist-packages (from httpcore<0.18.0,>=0.15.0->httpx[http2]->bardapi) (0.14.0)\n",
            "Requirement already satisfied: anyio<5.0,>=3.0 in /usr/local/lib/python3.10/dist-packages (from httpcore<0.18.0,>=0.15.0->httpx[http2]->bardapi) (3.7.1)\n",
            "Requirement already satisfied: exceptiongroup in /usr/local/lib/python3.10/dist-packages (from anyio<5.0,>=3.0->httpcore<0.18.0,>=0.15.0->httpx[http2]->bardapi) (1.1.2)\n",
            "Requirement already satisfied: cachetools<5.0,>=2.0.0 in /usr/local/lib/python3.10/dist-packages (from google-auth<3.0dev,>=1.25.0->google-api-core[grpc]<2.0.0dev,>=1.15.0->google-cloud-translate==2.0.1->bardapi) (4.2.4)\n",
            "Requirement already satisfied: pyasn1-modules>=0.2.1 in /usr/local/lib/python3.10/dist-packages (from google-auth<3.0dev,>=1.25.0->google-api-core[grpc]<2.0.0dev,>=1.15.0->google-cloud-translate==2.0.1->bardapi) (0.3.0)\n",
            "Requirement already satisfied: setuptools>=40.3.0 in /usr/local/lib/python3.10/dist-packages (from google-auth<3.0dev,>=1.25.0->google-api-core[grpc]<2.0.0dev,>=1.15.0->google-cloud-translate==2.0.1->bardapi) (67.7.2)\n",
            "Requirement already satisfied: rsa<5,>=3.1.4 in /usr/local/lib/python3.10/dist-packages (from google-auth<3.0dev,>=1.25.0->google-api-core[grpc]<2.0.0dev,>=1.15.0->google-cloud-translate==2.0.1->bardapi) (4.9)\n",
            "Requirement already satisfied: pyasn1<0.6.0,>=0.4.6 in /usr/local/lib/python3.10/dist-packages (from pyasn1-modules>=0.2.1->google-auth<3.0dev,>=1.25.0->google-api-core[grpc]<2.0.0dev,>=1.15.0->google-cloud-translate==2.0.1->bardapi) (0.5.0)\n"
          ]
        }
      ]
    },
    {
      "cell_type": "code",
      "source": [
        "pip install git+https://github.com/dsdanielpark/Bard-API.git"
      ],
      "metadata": {
        "colab": {
          "base_uri": "https://localhost:8080/"
        },
        "id": "7f6qH5ByWAH_",
        "outputId": "e59a6c6b-503f-4fd4-c43a-ca1b90aa2f94"
      },
      "execution_count": 2,
      "outputs": [
        {
          "output_type": "stream",
          "name": "stdout",
          "text": [
            "Collecting git+https://github.com/dsdanielpark/Bard-API.git\n",
            "  Cloning https://github.com/dsdanielpark/Bard-API.git to /tmp/pip-req-build-u0230c58\n",
            "  Running command git clone --filter=blob:none --quiet https://github.com/dsdanielpark/Bard-API.git /tmp/pip-req-build-u0230c58\n",
            "  Resolved https://github.com/dsdanielpark/Bard-API.git to commit 6c0302bddd07d4ea9528f10ae25872fff2b6e350\n",
            "  Preparing metadata (setup.py) ... \u001b[?25l\u001b[?25hdone\n",
            "Requirement already satisfied: requests in /usr/local/lib/python3.10/dist-packages (from bardapi==0.1.29) (2.27.1)\n",
            "Requirement already satisfied: deep_translator in /usr/local/lib/python3.10/dist-packages (from bardapi==0.1.29) (1.11.4)\n",
            "Requirement already satisfied: colorama in /usr/local/lib/python3.10/dist-packages (from bardapi==0.1.29) (0.4.6)\n",
            "Requirement already satisfied: httpx[http2] in /usr/local/lib/python3.10/dist-packages (from bardapi==0.1.29) (0.24.1)\n",
            "Requirement already satisfied: google-cloud-translate in /usr/local/lib/python3.10/dist-packages (from bardapi==0.1.29) (2.0.1)\n",
            "Requirement already satisfied: browser_cookie3 in /usr/local/lib/python3.10/dist-packages (from bardapi==0.1.29) (0.19.1)\n",
            "Requirement already satisfied: lz4 in /usr/local/lib/python3.10/dist-packages (from browser_cookie3->bardapi==0.1.29) (4.3.2)\n",
            "Requirement already satisfied: pycryptodomex in /usr/local/lib/python3.10/dist-packages (from browser_cookie3->bardapi==0.1.29) (3.18.0)\n",
            "Requirement already satisfied: jeepney in /usr/lib/python3/dist-packages (from browser_cookie3->bardapi==0.1.29) (0.7.1)\n",
            "Requirement already satisfied: beautifulsoup4<5.0.0,>=4.9.1 in /usr/local/lib/python3.10/dist-packages (from deep_translator->bardapi==0.1.29) (4.11.2)\n",
            "Requirement already satisfied: urllib3<1.27,>=1.21.1 in /usr/local/lib/python3.10/dist-packages (from requests->bardapi==0.1.29) (1.26.16)\n",
            "Requirement already satisfied: certifi>=2017.4.17 in /usr/local/lib/python3.10/dist-packages (from requests->bardapi==0.1.29) (2023.5.7)\n",
            "Requirement already satisfied: charset-normalizer~=2.0.0 in /usr/local/lib/python3.10/dist-packages (from requests->bardapi==0.1.29) (2.0.12)\n",
            "Requirement already satisfied: idna<4,>=2.5 in /usr/local/lib/python3.10/dist-packages (from requests->bardapi==0.1.29) (3.4)\n",
            "Requirement already satisfied: google-api-core[grpc]<2.0.0dev,>=1.15.0 in /usr/local/lib/python3.10/dist-packages (from google-cloud-translate->bardapi==0.1.29) (1.34.0)\n",
            "Requirement already satisfied: google-cloud-core<2.0dev,>=1.1.0 in /usr/local/lib/python3.10/dist-packages (from google-cloud-translate->bardapi==0.1.29) (1.7.3)\n",
            "Requirement already satisfied: httpcore<0.18.0,>=0.15.0 in /usr/local/lib/python3.10/dist-packages (from httpx[http2]->bardapi==0.1.29) (0.17.3)\n",
            "Requirement already satisfied: sniffio in /usr/local/lib/python3.10/dist-packages (from httpx[http2]->bardapi==0.1.29) (1.3.0)\n",
            "Requirement already satisfied: h2<5,>=3 in /usr/local/lib/python3.10/dist-packages (from httpx[http2]->bardapi==0.1.29) (4.1.0)\n",
            "Requirement already satisfied: soupsieve>1.2 in /usr/local/lib/python3.10/dist-packages (from beautifulsoup4<5.0.0,>=4.9.1->deep_translator->bardapi==0.1.29) (2.4.1)\n",
            "Requirement already satisfied: googleapis-common-protos<2.0dev,>=1.56.2 in /usr/local/lib/python3.10/dist-packages (from google-api-core[grpc]<2.0.0dev,>=1.15.0->google-cloud-translate->bardapi==0.1.29) (1.59.1)\n",
            "Requirement already satisfied: protobuf!=3.20.0,!=3.20.1,!=4.21.0,!=4.21.1,!=4.21.2,!=4.21.3,!=4.21.4,!=4.21.5,<4.0.0dev,>=3.19.5 in /usr/local/lib/python3.10/dist-packages (from google-api-core[grpc]<2.0.0dev,>=1.15.0->google-cloud-translate->bardapi==0.1.29) (3.20.3)\n",
            "Requirement already satisfied: google-auth<3.0dev,>=1.25.0 in /usr/local/lib/python3.10/dist-packages (from google-api-core[grpc]<2.0.0dev,>=1.15.0->google-cloud-translate->bardapi==0.1.29) (1.35.0)\n",
            "Requirement already satisfied: grpcio<2.0dev,>=1.33.2 in /usr/local/lib/python3.10/dist-packages (from google-api-core[grpc]<2.0.0dev,>=1.15.0->google-cloud-translate->bardapi==0.1.29) (1.56.0)\n",
            "Requirement already satisfied: grpcio-status<2.0dev,>=1.33.2 in /usr/local/lib/python3.10/dist-packages (from google-api-core[grpc]<2.0.0dev,>=1.15.0->google-cloud-translate->bardapi==0.1.29) (1.48.2)\n",
            "Requirement already satisfied: six>=1.12.0 in /usr/local/lib/python3.10/dist-packages (from google-cloud-core<2.0dev,>=1.1.0->google-cloud-translate->bardapi==0.1.29) (1.16.0)\n",
            "Requirement already satisfied: hyperframe<7,>=6.0 in /usr/local/lib/python3.10/dist-packages (from h2<5,>=3->httpx[http2]->bardapi==0.1.29) (6.0.1)\n",
            "Requirement already satisfied: hpack<5,>=4.0 in /usr/local/lib/python3.10/dist-packages (from h2<5,>=3->httpx[http2]->bardapi==0.1.29) (4.0.0)\n",
            "Requirement already satisfied: h11<0.15,>=0.13 in /usr/local/lib/python3.10/dist-packages (from httpcore<0.18.0,>=0.15.0->httpx[http2]->bardapi==0.1.29) (0.14.0)\n",
            "Requirement already satisfied: anyio<5.0,>=3.0 in /usr/local/lib/python3.10/dist-packages (from httpcore<0.18.0,>=0.15.0->httpx[http2]->bardapi==0.1.29) (3.7.1)\n",
            "Requirement already satisfied: exceptiongroup in /usr/local/lib/python3.10/dist-packages (from anyio<5.0,>=3.0->httpcore<0.18.0,>=0.15.0->httpx[http2]->bardapi==0.1.29) (1.1.2)\n",
            "Requirement already satisfied: cachetools<5.0,>=2.0.0 in /usr/local/lib/python3.10/dist-packages (from google-auth<3.0dev,>=1.25.0->google-api-core[grpc]<2.0.0dev,>=1.15.0->google-cloud-translate->bardapi==0.1.29) (4.2.4)\n",
            "Requirement already satisfied: pyasn1-modules>=0.2.1 in /usr/local/lib/python3.10/dist-packages (from google-auth<3.0dev,>=1.25.0->google-api-core[grpc]<2.0.0dev,>=1.15.0->google-cloud-translate->bardapi==0.1.29) (0.3.0)\n",
            "Requirement already satisfied: setuptools>=40.3.0 in /usr/local/lib/python3.10/dist-packages (from google-auth<3.0dev,>=1.25.0->google-api-core[grpc]<2.0.0dev,>=1.15.0->google-cloud-translate->bardapi==0.1.29) (67.7.2)\n",
            "Requirement already satisfied: rsa<5,>=3.1.4 in /usr/local/lib/python3.10/dist-packages (from google-auth<3.0dev,>=1.25.0->google-api-core[grpc]<2.0.0dev,>=1.15.0->google-cloud-translate->bardapi==0.1.29) (4.9)\n",
            "Requirement already satisfied: pyasn1<0.6.0,>=0.4.6 in /usr/local/lib/python3.10/dist-packages (from pyasn1-modules>=0.2.1->google-auth<3.0dev,>=1.25.0->google-api-core[grpc]<2.0.0dev,>=1.15.0->google-cloud-translate->bardapi==0.1.29) (0.5.0)\n"
          ]
        }
      ]
    },
    {
      "cell_type": "code",
      "source": [
        "pip install bardapi==0.1.23a"
      ],
      "metadata": {
        "colab": {
          "base_uri": "https://localhost:8080/"
        },
        "id": "vqsWWdvoWANG",
        "outputId": "667f6fc2-2d04-444d-af4b-ab5ee4b0657c"
      },
      "execution_count": 3,
      "outputs": [
        {
          "output_type": "stream",
          "name": "stdout",
          "text": [
            "Collecting bardapi==0.1.23a\n",
            "  Downloading bardapi-0.1.23a0-py3-none-any.whl (12 kB)\n",
            "Requirement already satisfied: requests in /usr/local/lib/python3.10/dist-packages (from bardapi==0.1.23a) (2.27.1)\n",
            "Requirement already satisfied: colorama in /usr/local/lib/python3.10/dist-packages (from bardapi==0.1.23a) (0.4.6)\n",
            "Requirement already satisfied: httpx[http2] in /usr/local/lib/python3.10/dist-packages (from bardapi==0.1.23a) (0.24.1)\n",
            "Requirement already satisfied: certifi in /usr/local/lib/python3.10/dist-packages (from httpx[http2]->bardapi==0.1.23a) (2023.5.7)\n",
            "Requirement already satisfied: httpcore<0.18.0,>=0.15.0 in /usr/local/lib/python3.10/dist-packages (from httpx[http2]->bardapi==0.1.23a) (0.17.3)\n",
            "Requirement already satisfied: idna in /usr/local/lib/python3.10/dist-packages (from httpx[http2]->bardapi==0.1.23a) (3.4)\n",
            "Requirement already satisfied: sniffio in /usr/local/lib/python3.10/dist-packages (from httpx[http2]->bardapi==0.1.23a) (1.3.0)\n",
            "Requirement already satisfied: h2<5,>=3 in /usr/local/lib/python3.10/dist-packages (from httpx[http2]->bardapi==0.1.23a) (4.1.0)\n",
            "Requirement already satisfied: urllib3<1.27,>=1.21.1 in /usr/local/lib/python3.10/dist-packages (from requests->bardapi==0.1.23a) (1.26.16)\n",
            "Requirement already satisfied: charset-normalizer~=2.0.0 in /usr/local/lib/python3.10/dist-packages (from requests->bardapi==0.1.23a) (2.0.12)\n",
            "Requirement already satisfied: hyperframe<7,>=6.0 in /usr/local/lib/python3.10/dist-packages (from h2<5,>=3->httpx[http2]->bardapi==0.1.23a) (6.0.1)\n",
            "Requirement already satisfied: hpack<5,>=4.0 in /usr/local/lib/python3.10/dist-packages (from h2<5,>=3->httpx[http2]->bardapi==0.1.23a) (4.0.0)\n",
            "Requirement already satisfied: h11<0.15,>=0.13 in /usr/local/lib/python3.10/dist-packages (from httpcore<0.18.0,>=0.15.0->httpx[http2]->bardapi==0.1.23a) (0.14.0)\n",
            "Requirement already satisfied: anyio<5.0,>=3.0 in /usr/local/lib/python3.10/dist-packages (from httpcore<0.18.0,>=0.15.0->httpx[http2]->bardapi==0.1.23a) (3.7.1)\n",
            "Requirement already satisfied: exceptiongroup in /usr/local/lib/python3.10/dist-packages (from anyio<5.0,>=3.0->httpcore<0.18.0,>=0.15.0->httpx[http2]->bardapi==0.1.23a) (1.1.2)\n",
            "Installing collected packages: bardapi\n",
            "  Attempting uninstall: bardapi\n",
            "    Found existing installation: bardapi 0.1.29\n",
            "    Uninstalling bardapi-0.1.29:\n",
            "      Successfully uninstalled bardapi-0.1.29\n",
            "Successfully installed bardapi-0.1.23a0\n"
          ]
        }
      ]
    },
    {
      "cell_type": "code",
      "source": [
        "input_text = '''\n",
        "\n",
        "You are working as an aspect analyzer and sentiment analyzer. you need to extract aspects and sentiments from people reviews. Each review consists of a text and may contain multiple aspects and their corresponding sentiments. As an aspect analyzer, you need to process reviews and extract the aspects and sentiments from it. For your help  I am providing you some reviews, and its aspect and sentiments.\n",
        "\n",
        "\n",
        "1. I would recommend these sellers . They were quick about getting books out . the books were all in shape described . very very satisfied with their service and look for them in the future for other purchases .\n",
        "Aspects: books, books--service, books--sellers\n",
        "Sentiments: Positive, Positive, Positive\n",
        "\n",
        "2. this being a true story..it was sad . To imagine a little child going thru that is horrendous , but I kept reading . The ending was good also and it does not leave you hanging .\n",
        "Aspects: story, ending\n",
        "Sentiments: Mixed, Positive\n",
        "\n",
        "3. This is a horrific unveiling of the worst kind of abuse told by a most amazingly unselfish person . You never doubt the veracity of the tale . I have no doubt the author downplayed the physical and emotional toll on her during the time she fostered Jodie . Easy to follow , well written and a pleasure to read despite the subject matter . It is nice to see that there are people who care in a world that can be so dreadful .\n",
        "\n",
        "Aspects: person, subject, It\n",
        "Sentiments: Positive, Negative, Positive\n",
        "\n",
        "4. I love this and wear it all the time . The only issue is that it has begun to pill with wear . I have similar ones which I bought in the late 1980\\ 's which have never pilled at all . Oh well . Very warm , very convenient for carrying the camera when out with the dogs .\n",
        "\n",
        "Aspects: similar ones, this\n",
        "Sentiments: Positive, Mixed\n",
        "\n",
        "5. nice shirt but way to small . xl was at best 3xl on the small side..\n",
        "Aspects: shirt, 3xl, xl\n",
        "Sentiments: Mixed, Negative, Positive\n",
        "\n",
        "6. I love the shirt and would be glad to order more in the future but , the seam came loose on one of the sleeves already . that 's a bit too fast I would think .\n",
        "Aspects: shirt, shirt--seam\n",
        "Sentiments: Mixed, Negative\n",
        "\n",
        "7. It is a one room apartment , with a kitchen that is not fully equiped . Far from downtown but well comunicated . Mark is very helpful the arrival is very simple .\n",
        "Aspects: apartment--kitchen, apartment--Mark, apartment, apartment--arrival\n",
        "Sentiments:  Negative, Positive, Mixed, Positive\n",
        "\n",
        "8. Bare bones room to stay in while visiting Boston . They offer a private entrance and easily walkable to the transit system . We did n't hang too much in the neighborhood but found it fairly easy to commute from . The Uber ride will run you about 20- to get to Back Bay or Beacon Hill . The room offers a full size bed , refrigerator , kitchen sink and microwave . The Bathroom is quite tiny offering a small standing only shower ( if you 're 200lbs and up , it will be a challenge ) . My husband and I we 're not able to both fit in the bathroom to get ready , so I had to blow dry my hair and do my makeup on the bed with a small mirror . Overall , if you 're looking for a bed and a affordable room , this might be your place . We just wished we would have spent the extra 50- to stay in the center of town with a bigger bed .\n",
        "\n",
        "Aspects: room--bathroom--standing, neighborhood, room--bathroom, private entrance\n",
        "Sentiments: Negative, Positive, Negative, Positive\n",
        "\n",
        "9. Mark was a great host , he was so flexible when our check in times changed . The studio is small , but highly functional .\n",
        "Aspects: studio, studio--Mark\n",
        "Sentiments: Mixed, Positive\n",
        "\n",
        "10. I\\ 'll start by admitting that we probably should have picked a different restaurant to eat at for an evening where we just had a couple hours to enjoy . However , we had a scoutmob and thought we\\ 'd try the charming-looking restaurant just walking distance from our apartment . We waited at the front of the restaurant for several minutes before a server finally ushered us to the bar in the back . The owner then shuffled us to a corner of the bar and said the wait was 5-10 minutes . '' We waited for an hour . I don\\'t mind waiting , I just need to be given an appropriate estimate . we really didn\\'t have an hour to wait that night , and would have come back a different evening instead . Once we were finally seated , the owner dropped by our table several times and delivered our food personally . While this was a nice touch , he seemed more concerned with this over-the-top type of service then on swift and efficient service . I don\\'t need a napkin personally dropped in my lap for me , I just want you to bring me what I ordered in a reasonable amount of time . ( fyi- we never received the wine we ordered , though they did try to charge us for it ) . The food itself was delicious . Still it took forever to get our bill and when we finally did , it was wrong . They were good about fixing this , but returned the check with 18  gratuity ( of the original total bill -- including drinks we never got ) included.. We weren\\'t about to stiff them , but it also seems unfair to add such an outrageous tip to a small table -- especially when their service was so very poor . Service : overly-attentive , inefficient , slow . Food : delicious ( awesome gnocchi ) . Bill : believe what it says here . Whether they are deceitful or just plain sloppy , its questionable . they\\ 'd get just one star if it weren\\'t that the gnocchi was so yummy .\n",
        "\n",
        "Aspects: restaurant--owner, restaurant--service, restaurant--food, restaurant--gnocchi, restaurant--Service, restaurant, restaurant--Food, restaurant--touch, bill, They\n",
        "\n",
        "Sentiments: Positive, Negative, Positive, Positive, Negative, Mixed, Positive, Positive, Negative, Positive\n",
        "\n",
        "11. We ordered shrimp ... fried rice and cod n chips ...  . cheesecake for dessert . Was delivered on time ... was hot and portions were quite large and prices are good ! We will be ordering again ... ..next time Pizza ! ! !\n",
        "Aspects: fried rice, dessert--cheesecake--portions, shrimp--prices, cod n chips--prices, fried rice--prices, dessert--cheesecake--prices, shrimp--portions, cod n chips--portions, fried rice--portions, Pizza\n",
        "\n",
        "Sentiments: Positive, Positive, Positive, Positive, Positive, Positive, Positive, Positive, Positive, Positive\n",
        "\n",
        "12. I am very disappointed with my recent visit . When this first opened , I gave it 5 stars . But the quality and the taste of the food has deteriorated dramatically since then . All the curries taste very similar : tomatoe-y and creamy . The chicken in the butter chicken seemed to be left over from something else , the malai kofta had a bad smell like they were very old or had gone bad ( they replaced it and the new batch tasted a bit better ) , and the vindaloo was just average . Even the paneer pakora tasted like the paneer had gone bad . The staff was very polite and tried to be as accommodating as possible , but the food was what it was . I am very disappointed . This used to be a good neighborhood Indian go-to .\n",
        "\n",
        "Aspects: butter chicken--chicken, new batch, paneer, malai kofta, food, staff, it\n",
        "Sentiments: Negative, Positive, Negative, Negative, Negative, Positive, Positive\n",
        "\n",
        "Now, as I gave you some examples . Your task is to analyze below provided given review and present the aspects and sentiments. Prove sentiment of every aspect. There is one thing I want you to remember, give aspects which show some relation! also try to limit it to the aspects which are most important in a review. In one line give aspects, and in other line give sentiments.\n",
        "\n",
        "I enjoyed all the casey watson books and bought this author because it was recommended . Will read all of her books also ! These great people are doing great things for these troubled kids ! Well worth the read . I had done fostering in the past , these women have tremendous patience with these children .\n",
        "\n",
        "\n",
        "'''\n"
      ],
      "metadata": {
        "id": "e8vaRuH_aIKu"
      },
      "execution_count": 9,
      "outputs": []
    },
    {
      "cell_type": "code",
      "source": [
        "import bardapi\n",
        "import os\n",
        "\n",
        "# set your __Secure-1PSID value to key\n",
        "token = 'cookie value'\n",
        "\n",
        "# set your input text\n",
        "input_text = input_text\n",
        "\n",
        "# Send an API request and get a response.\n",
        "response = bardapi.core.Bard(token).get_answer(input_text)['content']"
      ],
      "metadata": {
        "id": "Pat0NrD7WAPe"
      },
      "execution_count": 10,
      "outputs": []
    },
    {
      "cell_type": "code",
      "source": [
        "print(response)"
      ],
      "metadata": {
        "colab": {
          "base_uri": "https://localhost:8080/"
        },
        "id": "JUoATYyWWAR2",
        "outputId": "6e249ede-92bb-4b7b-f3b7-2eb4fe5b22c3"
      },
      "execution_count": 11,
      "outputs": [
        {
          "output_type": "stream",
          "name": "stdout",
          "text": [
            "Sure, I can help you with that. Here is the analysis of the review you provided:\n",
            "\n",
            "**Aspect**|**Sentiment**\n",
            "------- | --------\n",
            "Author | Positive\n",
            "Books | Positive\n",
            "Recommendation | Positive\n",
            "Troubled kids | Positive\n",
            "Patience | Positive\n",
            "\n",
            "The review is overall positive, with the reviewer expressing enjoyment of the books, recommending them to others, and praising the work of the author and the women who foster troubled kids. The reviewer also mentions their own experience with fostering, which they say gave them insight into the patience and dedication required for this work.\n",
            "\n",
            "Here is a more detailed explanation of the aspects and sentiments of the review:\n",
            "\n",
            "* **Author:** The reviewer mentions that they enjoyed all of the Casey Watson books, and that they bought this book because it was recommended. This suggests that they have a positive opinion of the author and her work.\n",
            "* **Books:** The reviewer says that they will read all of the author's books, which suggests that they are enjoying the books and looking forward to reading more.\n",
            "* **Recommendation:** The reviewer recommends the book to others, which suggests that they believe the book is good and that others would enjoy it.\n",
            "* **Troubled kids:** The reviewer says that the author and the women who foster troubled kids are doing great things. This suggests that the reviewer believes that the work of these people is important and worthwhile.\n",
            "* **Patience:** The reviewer says that the women who foster troubled kids have tremendous patience. This suggests that the reviewer believes that patience is an important quality for people who work with troubled kids.\n",
            "\n",
            "Overall, the review is positive and expresses the reviewer's enjoyment of the book, their recommendation of the book to others, and their praise for the work of the author and the women who foster troubled kids.\n"
          ]
        }
      ]
    },
    {
      "cell_type": "code",
      "source": [],
      "metadata": {
        "id": "ZZY20Ri-WAVW"
      },
      "execution_count": null,
      "outputs": []
    }
  ]
}