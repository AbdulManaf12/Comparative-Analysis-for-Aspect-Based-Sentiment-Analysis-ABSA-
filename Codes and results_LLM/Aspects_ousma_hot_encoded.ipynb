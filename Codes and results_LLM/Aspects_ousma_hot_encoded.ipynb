{
 "cells": [
  {
   "cell_type": "code",
   "execution_count": 22,
   "metadata": {
    "id": "fr-wwAsp_4fz"
   },
   "outputs": [],
   "source": [
    "import os\n",
    "import numpy as np\n",
    "from sklearn.model_selection import train_test_split\n",
    "\n",
    "\n",
    "from keras.models import Model\n",
    "from keras.layers import Input, Embedding, SpatialDropout1D, Dropout, Conv1D, MaxPool1D, Flatten, concatenate, Dense, \\\n",
    "    LSTM, Bidirectional, Activation, MaxPooling1D, Add, GRU, GlobalAveragePooling1D, GlobalMaxPooling1D, RepeatVector, \\\n",
    "    TimeDistributed, Permute, multiply, Lambda, add, Masking, BatchNormalization, Softmax, Reshape, ReLU, \\\n",
    "    ZeroPadding1D, subtract\n",
    "from tensorflow.keras.preprocessing.sequence import pad_sequences\n",
    "from tensorflow.keras.utils import to_categorical\n",
    "from tensorflow.keras.callbacks import Callback, ModelCheckpoint, EarlyStopping\n",
    "import tensorflow.keras.backend as K\n",
    "import tensorflow as tf\n",
    "from keras import backend as K, initializers, regularizers, constraints\n",
    "\n",
    "\n",
    "# Import our dependencies\n",
    "import tensorflow as tf\n",
    "import pandas as pd\n",
    "import tensorflow_hub as hub\n",
    "import os\n",
    "import re\n",
    "from keras import backend as K\n",
    "import keras.layers as layers\n",
    "from keras.models import Model, load_model\n",
    "from tensorflow.keras.layers import Layer, InputSpec\n",
    "import numpy as np\n",
    "\n",
    "from statistics import mode\n",
    "\n",
    "import numpy as np # linear algebra\n",
    "import pandas as pd # data processing, CSV file I/O (e.g. pd.read_csv)\n",
    "import matplotlib\n",
    "import matplotlib.pyplot as plt\n",
    "import nltk\n",
    "import seaborn as sns\n",
    "from nltk.tokenize import word_tokenize\n",
    "from nltk.corpus import stopwords\n",
    "%matplotlib inline\n",
    "import tensorflow as tf\n",
    "\n",
    "# Load Huggingface transformers\n",
    "from transformers import TFBertModel,  BertConfig, BertTokenizerFast, TFAutoModel\n",
    "\n",
    "# Then what you need from tensorflow.keras\n",
    "from tensorflow.keras.layers import Input, Dropout, Dense, GlobalAveragePooling1D\n",
    "from tensorflow.keras.callbacks import ReduceLROnPlateau\n",
    "from tensorflow.keras.models import Model\n",
    "from tensorflow.keras.optimizers import Adam\n",
    "from tensorflow.keras.callbacks import EarlyStopping\n",
    "from tensorflow.keras.initializers import TruncatedNormal\n",
    "from tensorflow.keras.losses import CategoricalCrossentropy\n",
    "from tensorflow.keras.metrics import CategoricalAccuracy\n",
    "from tensorflow.keras.utils import to_categorical\n",
    "from sklearn.model_selection import train_test_split\n",
    "\n",
    "from tensorflow.python.keras import backend as K\n",
    "from tensorflow.python.keras.metrics import Metric\n",
    "from tensorflow.python.keras.utils import metrics_utils\n",
    "from tensorflow.python.ops import init_ops\n",
    "from tensorflow.python.ops import math_ops\n",
    "from tensorflow.python.keras.utils.generic_utils import to_list\n",
    "import tensorflow_hub as hub\n",
    "\n",
    "\n",
    "\n",
    "import re\n",
    "import nltk\n",
    "from nltk.corpus import stopwords\n",
    "import ast\n",
    "# neural\n",
    "from keras.preprocessing.text import Tokenizer\n",
    "from tensorflow.keras.preprocessing.sequence import pad_sequences\n",
    "from keras.layers import Dense, LSTM, Embedding, Dropout\n",
    "from keras.layers import Bidirectional, GlobalMaxPool1D\n",
    "from keras.models import Model, Sequential\n",
    "\n",
    "#Metrics\n",
    "from sklearn.metrics import balanced_accuracy_score\n",
    "\n",
    "from sklearn.feature_extraction.text import TfidfVectorizer\n",
    "# from mlxtend.plotting import plot_confusion_matrix\n",
    "from sklearn.tree import DecisionTreeClassifier\n",
    "from sklearn.metrics import classification_report,confusion_matrix,accuracy_score\n",
    "from sklearn.linear_model import LogisticRegression,SGDClassifier\n",
    "from sklearn.naive_bayes import MultinomialNB\n",
    "from sklearn.ensemble import RandomForestClassifier,GradientBoostingClassifier,AdaBoostClassifier,ExtraTreesClassifier\n"
   ]
  },
  {
   "cell_type": "markdown",
   "metadata": {},
   "source": [
    "# Read CSv file"
   ]
  },
  {
   "cell_type": "code",
   "execution_count": 23,
   "metadata": {
    "id": "fsakTd6X_9-E"
   },
   "outputs": [],
   "source": [
    "restaurant_df = pd.read_csv(\"processed_ASTE-Data-V2/16res_train_original.csv\")"
   ]
  },
  {
   "cell_type": "code",
   "execution_count": null,
   "metadata": {
    "id": "XODsc2pEdgkG"
   },
   "outputs": [],
   "source": []
  },
  {
   "cell_type": "code",
   "execution_count": 24,
   "metadata": {
    "colab": {
     "base_uri": "https://localhost:8080/",
     "height": 424
    },
    "id": "TQpTRFj0Dcjz",
    "outputId": "125fb82f-0b7d-4adf-a0c2-e3dd5df5f2ce"
   },
   "outputs": [
    {
     "data": {
      "text/html": [
       "<div>\n",
       "<style scoped>\n",
       "    .dataframe tbody tr th:only-of-type {\n",
       "        vertical-align: middle;\n",
       "    }\n",
       "\n",
       "    .dataframe tbody tr th {\n",
       "        vertical-align: top;\n",
       "    }\n",
       "\n",
       "    .dataframe thead th {\n",
       "        text-align: right;\n",
       "    }\n",
       "</style>\n",
       "<table border=\"1\" class=\"dataframe\">\n",
       "  <thead>\n",
       "    <tr style=\"text-align: right;\">\n",
       "      <th></th>\n",
       "      <th>text</th>\n",
       "      <th>aspect</th>\n",
       "      <th>opinion</th>\n",
       "      <th>sentiment</th>\n",
       "    </tr>\n",
       "  </thead>\n",
       "  <tbody>\n",
       "    <tr>\n",
       "      <th>0</th>\n",
       "      <td>Judging from previous posts this used to be a ...</td>\n",
       "      <td>['place']</td>\n",
       "      <td>['good']</td>\n",
       "      <td>['NEG']</td>\n",
       "    </tr>\n",
       "    <tr>\n",
       "      <th>1</th>\n",
       "      <td>We , there were four of us , arrived at noon -...</td>\n",
       "      <td>['staff']</td>\n",
       "      <td>['rude']</td>\n",
       "      <td>['NEG']</td>\n",
       "    </tr>\n",
       "    <tr>\n",
       "      <th>2</th>\n",
       "      <td>The food was lousy - too sweet or too salty an...</td>\n",
       "      <td>['food', 'food', 'food', 'portions']</td>\n",
       "      <td>['lousy', 'too sweet', 'too salty', 'tiny']</td>\n",
       "      <td>['NEG', 'NEG', 'NEG', 'NEG']</td>\n",
       "    </tr>\n",
       "    <tr>\n",
       "      <th>3</th>\n",
       "      <td>Avoid this place !</td>\n",
       "      <td>['place']</td>\n",
       "      <td>['Avoid']</td>\n",
       "      <td>['NEG']</td>\n",
       "    </tr>\n",
       "    <tr>\n",
       "      <th>4</th>\n",
       "      <td>I have eaten at Saul , many times , the food i...</td>\n",
       "      <td>['food']</td>\n",
       "      <td>['good']</td>\n",
       "      <td>['POS']</td>\n",
       "    </tr>\n",
       "    <tr>\n",
       "      <th>...</th>\n",
       "      <td>...</td>\n",
       "      <td>...</td>\n",
       "      <td>...</td>\n",
       "      <td>...</td>\n",
       "    </tr>\n",
       "    <tr>\n",
       "      <th>852</th>\n",
       "      <td>bad staff</td>\n",
       "      <td>['staff']</td>\n",
       "      <td>['bad']</td>\n",
       "      <td>['NEG']</td>\n",
       "    </tr>\n",
       "    <tr>\n",
       "      <th>853</th>\n",
       "      <td>I generally like this place .</td>\n",
       "      <td>['place']</td>\n",
       "      <td>['like']</td>\n",
       "      <td>['POS']</td>\n",
       "    </tr>\n",
       "    <tr>\n",
       "      <th>854</th>\n",
       "      <td>The food is good .</td>\n",
       "      <td>['food']</td>\n",
       "      <td>['good']</td>\n",
       "      <td>['POS']</td>\n",
       "    </tr>\n",
       "    <tr>\n",
       "      <th>855</th>\n",
       "      <td>The design of the space is good .</td>\n",
       "      <td>['space']</td>\n",
       "      <td>['good']</td>\n",
       "      <td>['POS']</td>\n",
       "    </tr>\n",
       "    <tr>\n",
       "      <th>856</th>\n",
       "      <td>But the service is HORRID !</td>\n",
       "      <td>['service']</td>\n",
       "      <td>['HORRID']</td>\n",
       "      <td>['NEG']</td>\n",
       "    </tr>\n",
       "  </tbody>\n",
       "</table>\n",
       "<p>857 rows × 4 columns</p>\n",
       "</div>"
      ],
      "text/plain": [
       "                                                  text  \\\n",
       "0    Judging from previous posts this used to be a ...   \n",
       "1    We , there were four of us , arrived at noon -...   \n",
       "2    The food was lousy - too sweet or too salty an...   \n",
       "3                                   Avoid this place !   \n",
       "4    I have eaten at Saul , many times , the food i...   \n",
       "..                                                 ...   \n",
       "852                                          bad staff   \n",
       "853                      I generally like this place .   \n",
       "854                                 The food is good .   \n",
       "855                  The design of the space is good .   \n",
       "856                        But the service is HORRID !   \n",
       "\n",
       "                                   aspect  \\\n",
       "0                               ['place']   \n",
       "1                               ['staff']   \n",
       "2    ['food', 'food', 'food', 'portions']   \n",
       "3                               ['place']   \n",
       "4                                ['food']   \n",
       "..                                    ...   \n",
       "852                             ['staff']   \n",
       "853                             ['place']   \n",
       "854                              ['food']   \n",
       "855                             ['space']   \n",
       "856                           ['service']   \n",
       "\n",
       "                                         opinion                     sentiment  \n",
       "0                                       ['good']                       ['NEG']  \n",
       "1                                       ['rude']                       ['NEG']  \n",
       "2    ['lousy', 'too sweet', 'too salty', 'tiny']  ['NEG', 'NEG', 'NEG', 'NEG']  \n",
       "3                                      ['Avoid']                       ['NEG']  \n",
       "4                                       ['good']                       ['POS']  \n",
       "..                                           ...                           ...  \n",
       "852                                      ['bad']                       ['NEG']  \n",
       "853                                     ['like']                       ['POS']  \n",
       "854                                     ['good']                       ['POS']  \n",
       "855                                     ['good']                       ['POS']  \n",
       "856                                   ['HORRID']                       ['NEG']  \n",
       "\n",
       "[857 rows x 4 columns]"
      ]
     },
     "execution_count": 24,
     "metadata": {},
     "output_type": "execute_result"
    }
   ],
   "source": [
    "restaurant_df"
   ]
  },
  {
   "cell_type": "code",
   "execution_count": 25,
   "metadata": {
    "id": "1TNG-qYZHLGk"
   },
   "outputs": [],
   "source": [
    "\n",
    "df = restaurant_df.drop('opinion', axis=1)\n"
   ]
  },
  {
   "cell_type": "code",
   "execution_count": 26,
   "metadata": {
    "colab": {
     "base_uri": "https://localhost:8080/",
     "height": 424
    },
    "id": "OCyMQg-MHZW0",
    "outputId": "a94fb6da-4a2c-48cc-935d-4f76a7862ad6"
   },
   "outputs": [
    {
     "data": {
      "text/html": [
       "<div>\n",
       "<style scoped>\n",
       "    .dataframe tbody tr th:only-of-type {\n",
       "        vertical-align: middle;\n",
       "    }\n",
       "\n",
       "    .dataframe tbody tr th {\n",
       "        vertical-align: top;\n",
       "    }\n",
       "\n",
       "    .dataframe thead th {\n",
       "        text-align: right;\n",
       "    }\n",
       "</style>\n",
       "<table border=\"1\" class=\"dataframe\">\n",
       "  <thead>\n",
       "    <tr style=\"text-align: right;\">\n",
       "      <th></th>\n",
       "      <th>text</th>\n",
       "      <th>aspect</th>\n",
       "      <th>sentiment</th>\n",
       "    </tr>\n",
       "  </thead>\n",
       "  <tbody>\n",
       "    <tr>\n",
       "      <th>0</th>\n",
       "      <td>Judging from previous posts this used to be a ...</td>\n",
       "      <td>['place']</td>\n",
       "      <td>['NEG']</td>\n",
       "    </tr>\n",
       "    <tr>\n",
       "      <th>1</th>\n",
       "      <td>We , there were four of us , arrived at noon -...</td>\n",
       "      <td>['staff']</td>\n",
       "      <td>['NEG']</td>\n",
       "    </tr>\n",
       "    <tr>\n",
       "      <th>2</th>\n",
       "      <td>The food was lousy - too sweet or too salty an...</td>\n",
       "      <td>['food', 'food', 'food', 'portions']</td>\n",
       "      <td>['NEG', 'NEG', 'NEG', 'NEG']</td>\n",
       "    </tr>\n",
       "    <tr>\n",
       "      <th>3</th>\n",
       "      <td>Avoid this place !</td>\n",
       "      <td>['place']</td>\n",
       "      <td>['NEG']</td>\n",
       "    </tr>\n",
       "    <tr>\n",
       "      <th>4</th>\n",
       "      <td>I have eaten at Saul , many times , the food i...</td>\n",
       "      <td>['food']</td>\n",
       "      <td>['POS']</td>\n",
       "    </tr>\n",
       "    <tr>\n",
       "      <th>...</th>\n",
       "      <td>...</td>\n",
       "      <td>...</td>\n",
       "      <td>...</td>\n",
       "    </tr>\n",
       "    <tr>\n",
       "      <th>852</th>\n",
       "      <td>bad staff</td>\n",
       "      <td>['staff']</td>\n",
       "      <td>['NEG']</td>\n",
       "    </tr>\n",
       "    <tr>\n",
       "      <th>853</th>\n",
       "      <td>I generally like this place .</td>\n",
       "      <td>['place']</td>\n",
       "      <td>['POS']</td>\n",
       "    </tr>\n",
       "    <tr>\n",
       "      <th>854</th>\n",
       "      <td>The food is good .</td>\n",
       "      <td>['food']</td>\n",
       "      <td>['POS']</td>\n",
       "    </tr>\n",
       "    <tr>\n",
       "      <th>855</th>\n",
       "      <td>The design of the space is good .</td>\n",
       "      <td>['space']</td>\n",
       "      <td>['POS']</td>\n",
       "    </tr>\n",
       "    <tr>\n",
       "      <th>856</th>\n",
       "      <td>But the service is HORRID !</td>\n",
       "      <td>['service']</td>\n",
       "      <td>['NEG']</td>\n",
       "    </tr>\n",
       "  </tbody>\n",
       "</table>\n",
       "<p>857 rows × 3 columns</p>\n",
       "</div>"
      ],
      "text/plain": [
       "                                                  text  \\\n",
       "0    Judging from previous posts this used to be a ...   \n",
       "1    We , there were four of us , arrived at noon -...   \n",
       "2    The food was lousy - too sweet or too salty an...   \n",
       "3                                   Avoid this place !   \n",
       "4    I have eaten at Saul , many times , the food i...   \n",
       "..                                                 ...   \n",
       "852                                          bad staff   \n",
       "853                      I generally like this place .   \n",
       "854                                 The food is good .   \n",
       "855                  The design of the space is good .   \n",
       "856                        But the service is HORRID !   \n",
       "\n",
       "                                   aspect                     sentiment  \n",
       "0                               ['place']                       ['NEG']  \n",
       "1                               ['staff']                       ['NEG']  \n",
       "2    ['food', 'food', 'food', 'portions']  ['NEG', 'NEG', 'NEG', 'NEG']  \n",
       "3                               ['place']                       ['NEG']  \n",
       "4                                ['food']                       ['POS']  \n",
       "..                                    ...                           ...  \n",
       "852                             ['staff']                       ['NEG']  \n",
       "853                             ['place']                       ['POS']  \n",
       "854                              ['food']                       ['POS']  \n",
       "855                             ['space']                       ['POS']  \n",
       "856                           ['service']                       ['NEG']  \n",
       "\n",
       "[857 rows x 3 columns]"
      ]
     },
     "execution_count": 26,
     "metadata": {},
     "output_type": "execute_result"
    }
   ],
   "source": [
    "\n",
    "df"
   ]
  },
  {
   "cell_type": "code",
   "execution_count": 27,
   "metadata": {},
   "outputs": [],
   "source": [
    "# Changing multiple column names at once\n",
    "df.rename(columns={'text': 'Sentence', 'aspect': 'Aspect_Category' , 'sentiment': 'polarity'}, inplace=True)\n"
   ]
  },
  {
   "cell_type": "markdown",
   "metadata": {},
   "source": [
    "## Convert to lists"
   ]
  },
  {
   "cell_type": "code",
   "execution_count": 28,
   "metadata": {},
   "outputs": [],
   "source": [
    "\n",
    "# Function to convert the string representation of lists to actual lists\n",
    "def convert_to_list(row):\n",
    "    return ast.literal_eval(row)\n",
    "\n",
    "# Apply the converter function to the 'Aspect_Category' column\n",
    "df['Aspect_Category'] = df['Aspect_Category'].apply(convert_to_list)\n",
    "df['polarity'] = df['polarity'].apply(convert_to_list)\n"
   ]
  },
  {
   "cell_type": "code",
   "execution_count": 29,
   "metadata": {},
   "outputs": [
    {
     "name": "stdout",
     "output_type": "stream",
     "text": [
      "<class 'list'>\n"
     ]
    }
   ],
   "source": [
    "print(type(df['Aspect_Category'][1] ))"
   ]
  },
  {
   "cell_type": "markdown",
   "metadata": {},
   "source": [
    "# Get unique aspects"
   ]
  },
  {
   "cell_type": "code",
   "execution_count": 30,
   "metadata": {},
   "outputs": [
    {
     "name": "stdout",
     "output_type": "stream",
     "text": [
      "Unique Aspects List: ['maitre-D', 'trattoria', 'setting', 'bread', 'crab salad', 'martinis', 'scheme of mirrors', 'house champagne', 'beverage selections', \"Patsy 's Pizza\", 'arugula and goat cheese', 'calamari', 'wine choices', 'spaghetti with Scallops and Shrimp', 'foie gras terrine with figs', 'Ingredients', 'modern Japanese brasserie', 'cuisine', 'Thin Crust Pizzas', 'Atmosphere', 'looks', 'Greg', 'indian place', 'bar', 'spicy tuna roll', 'atmoshpere', 'vent', 'Food', 'Thai style Fried Sea Bass', 'mozzarella en Carozza', 'bathroom', 'pumkin tortelini', 'Casa La Femme', 'place', 'four course prix fix menu', 'Jekyll and Hyde', 'Jeckll and Hydes', 'asparagus , truffle oil , parmesan bruschetta', 'duck confit', 'room', 'atomosphere', 'wings with chimmichuri', 'portions', 'santa fe chopped salad', 'salmon dish', 'somosas', 'eggplant', 'Korean fair', 'Vanison', 'French Onion soup', 'bottle of wine', 'The Four Seasons restaurant', 'rock shrimp tempura', 'sangria', 'seabass', 'Pastis', 'crowd', 'interior', 'customer service', 'sake menu', 'kimchee', 'chicken', 'mushroom pizza', 'Big Wong', 'furnishings', 'jazz duo', 'brioche and lollies', 'soy sauce', 'proprietor', 'vegetarian dishes', 'svc', 'specials menus', 'Sea Bass', 'cream cheeses', 'mussels in spicy tomato sauce', 'stir-fried squid', 'flank steak', 'penne w/ chicken', 'pizza place', 'Staff', 'Faan', 'pear torte', 'hot dog', 'fish', 'Sophia pizza', 'jelly fish', 'all you can eat deal', 'assorted sashimi', 'People', 'green tea tempura', 'prixe fixe tasting menu', 'setting/atmosphere', 'Yakitori ( bbq meats )', 'foods', 'shows', 'bagels', 'Italian food', 'pesto pizza', 'ambience', 'matcha ( powdered green tea ) and blueberry cheesecake', 'Ambience', 'slice of NYC pizza', 'braised rabbit', 'drunken chicken', 'Shabu-Shabu Restaurant', 'cheeseburgers', 'crabmeat lasagna', 'delivery guys', 'dim sum', 'menu', 'environment', 'Rao', 'garden terrace', 'Jekyll and hyde Pub', 'good', 'french fries', 'staff', 'Suan', 'meal', 'Vanilla Shanty', 'Guacamole+shrimp appetizer', 'Ginger House', 'Pizza', \"maitre d '\", 'Japanese Tapas', 'Shabu Shabu', 'smoked salmon and roe appetizer', 'Yellowtail', 'main course', 'Indian food', 'boths', 'Spreads', 'location', 'Sushi', 'regular menu-fare', 'hot dogs', 'selection of thin crust pizza', 'rice', 'gyro meat', 'Gnocchi', 'Ravioli', 'Drinks', 'filet', 'Shabu-Shabu', 'waitress', 'music', 'tables', 'egg noodles in the beef broth with shrimp dumplings and slices of BBQ roast pork', 'gyros', 'Grilled Chicken special with Edamame Puree', 'regular roll', 'chai', 'chef', 'portion sizes', 'Reuben sandwich', 'oysters', 'cocktail with Citrus Vodka and lemon and lime juice and mint leaves', 'premium sake', 'Edamame pureed', 'dinner', 'mirrored walls', 'lunch buffet', 'chicken in the salads', 'rosemary or orange flavoring', 'Unda ( Egg ) rolls', 'special roll', 'hummus', 'mashed yukon potatoes', 'nigiri', 'raddichio', 'pizzeria', 'measures of liquers', 'waitresses', 'hidden bathrooms', \"Raga 's\", 'Indo Chinese food', 'Lasagna Menu', 'sepia', 'seafood', 'farro salad', 'balance of herbs and tomatoes', 'Chinese style Indian food', 'toppings', 'mushrooms', 'martini', 'main entree', 'Cafe Noir', 'pizzas', 'fish and chips', 'Williamsburg spot', 'goat cheese salad', 'Indian Restaurant', 'dessert', 'wait staff', 'open kitchen', 'triple color and norwegetan rolls', 'mussles', 'dosas', 'Fish', 'bottles of wine', 'basic dishes', 'sake', 'Korean food', 'spreads', 'Amma', 'SERVICE', 'Pakistani food', 'grilled Mahi Mahi', 'Cheese plate', 'porcini mushroom pasta special', 'space', 'neighborhood', 'guacamole', 'garden', 'fried dumplings', 'portion', 'PLACE', 'Mermaid Inn', 'unisex bathroom', 'calzones', 'Hot Dogs', 'cheeseburger', 'Traditional French decour', 'Bark', 'Bukhara', 'baked clams octopus', 'wines by the glass', 'scallion pancakes', 'wines', 'cigar bar', 'sauce', 'interior decor', 'wine-by-the-glass', 'eats', 'Saul', 'French food', 'appetizers', 'pasta penne', 'pistachio ice cream', 'pad se ew chicken', 'lemon salad', 'indo-chinese food', 'quacamole', 'scallops', \"Bloom 's\", 'Raymond', 'servings for main entree', 'owner', 'Teodora', 'girl', 'antipasti', 'ingredients', 'scene', 'stuff tilapia', 'margherita pizza', 'vitello alla marsala', 'Casimir', 'counter service', 'indian chinese food', 'risottos', 'all-u-can-eat sushi', 'Beef noodle soup', 'spicy Italian cheese', 'Myagi', 'beers', 'wine by the glass', 'selection of wines', 'seats', 'food', 'Pacifico', 'chicken vindaloo', 'dish', 'Jazz Bar', 'meat', 'Mizu', 'seafood tagliatelle', 'live jazz band', 'fried oysters and clams', 'japanese food', 'wine list', 'crunchy tuna', 'Salads', 'views', 'green curry with vegetables', 'cheff', 'Planet Thailand', 'servers', 'spot', 'pastas', 'Chow fun', 'crust', 'pasta dish', 'rooms', 'japanese tapas', \"chef 's specials\", 'DJ', 'Waitstaff', 'appetizer menu', 'Dessert', 'waiters', 'thai food', 'kimchi', 'chicken pot pie', 'filet mignon dish', 'survice', 'waitstaff', 'millennium roll', 'Personal pans', 'Ambiance', 'pie', 'decor', 'mare', 'chicken pasta', 'wine', 'modern Japanese food', 'service', 'Basil slice', 'Steak Tartare', 'banana tempura', 'lobster roll', 'Red Eye', 'manager', 'Prune', 'ceiling', 'private booths', 'pasta', 'rice to fish ration', 'rolls', \"Rao 's\", 'Casa la Femme', 'Indoor', 'Dining Garden', 'lobster knuckles', 'sauces', 'caviar', 'hall', 'grilled octopus', 'Wine list', 'atmosphere', 'Crispy Duck', 'sake list', 'fresh restaurant', 'front of house staff', 'Chinese food', 'Delivery', 'fish dishes', 'coffee', 'delivery', 'Wine list selection', 'lamb', 'glass of wine', 'roti', 'lobster', 'Greek and Cypriot dishes', 'Dancing , White River and Millenium rolls', 'Pad Thai', 'sushi', 'belly dancing show', 'desert', 'Winnie', 'Planet Thai', 'BBQ Salmon', 'white organza tent', 'onions', 'tuna tartar appetizer', 'server', 'chow fun and chow see', 'Chilli Chicken', 'seating', 'japanese comfort food', 'brasserie', 'signs', 'semi-private boths', 'desserts', 'blond wood decor', 'Cosette', 'chicken lollipop', 'meals', 'dining', 'Dog', 'bottles of Korbett', 'Restaurant', 'Cafe Spice', 'bartender', 'chole', \"Water 's Edge\", 'actors', 'appetizer selection', 'atmoshere', 'salad', 'sausages', 'Red Dragon Roll', 'spices', 'Areo', 'wine selection', 'vibe', 'congee ( rice porridge )', 'banana chocolate dessert', 'waiter', 'Ow Ley Soh', 'dogs', 'raw vegatables in side orders', 'dining room', 'sandwiches', 'Haru on Park S', 'candle-light', 'omlette for brunch', 'Usha', 'pad thai', 'bibimbap', 'penne a la vodka', 'Tom Kha soup', 'frozen black sesame mousse', 'fish tacos', 'stone bowl', 'STAFF', 'Heartland Brewery', 'Margheritta slice', 'ceviche mix ( special )', 'exotic food', 'drinks', 'view of river and NYC', 'entree', 'tiramisu', 'lava cake dessert', 'dishes', 'Taxan', 'sushimi cucumber roll', 'shrimp scampi', 'clerks', 'Wait staff', 'grilled branzino', 'fries', 'main dining room', 'beer', 'veal', 'appetizer', 'Bagels', 'fit-out', 'salmon', 'outdoor atmosphere', 'Thai food', 'crab cakes', 'BBQ ribs', 'half price sushi deal', 'pizza', 'mens bathroom', 'Caesar Salad', 'apppetizers', 'stir fry blue crab', 'specials', 'expresso', 'Lucky Strike', 'back room', 'buffet', 'Seating', 'pita', 'marinara/arrabiatta sauce', 'spinach', 'tuna', 'lobster sandwich', 'braised lamb shank in red wine', 'pork belly tacos', 'Chinese restaurant', 'hot sauce', 'turkey burgers', 'dumplings', 'sashimi', \"Baluchi 's\", 'soupy dumplings', 'selection', 'Indian Chinese', 'sashimi amuse bouche', 'ravioli', 'Prime Rib', 'wait', 'Gigondas', 'resturant', 'sassy lassi', 'décor', 'dhal', 'ambiance', 'outdoor seating', 'salads', 'takeout', 'Toons', 'portobello and asparagus mole', \"Pam 's special fried fish\", 'eggs', 'management', 'potato balls', 'homemade pasta', 'waitstaffs', 'Service', 'terrace', 'eggs benedict', 'strawberry daiquiries', 'east village pizza', '1st Ave spot', 'Taiwanese food', 'restaurant', 'restaraunt', 'sitting space', 'view', 'pastries', 'joint', 'dhosas', 'mirrors', 'Bombay beer', 'crab dumplings', 'people', 'pork shu mai', 'bagel', 'in-house lady DJ', 'Thai', 'hostess', 'duck breast special', 'back patio', 'rice dishes', 'establishment', 'The Four Seasons', 'Sauce', 'views of the city', 'hanger steak', 'cheesecake', 'shrimp appetizers', 'fusion twists', 'Decor']\n",
      "528\n"
     ]
    }
   ],
   "source": [
    "# Function to read the CSV data and create a set of unique aspects\n",
    "def get_unique_aspects(csv_data):\n",
    "    unique_aspects_set = set()\n",
    "\n",
    "    for aspect_list in csv_data:\n",
    "        unique_aspects_set.update(aspect_list)\n",
    "\n",
    "    return list(unique_aspects_set)\n",
    "\n",
    "# Get the list of unique aspects\n",
    "unique_aspects_list = get_unique_aspects(df['Aspect_Category'])\n",
    "print(\"Unique Aspects List:\", unique_aspects_list)\n",
    "print(len(unique_aspects_list))"
   ]
  },
  {
   "cell_type": "markdown",
   "metadata": {},
   "source": [
    "# Create empty list of one-hot with values 3 "
   ]
  },
  {
   "cell_type": "code",
   "execution_count": 31,
   "metadata": {
    "id": "NyjlbgeAHaET"
   },
   "outputs": [
    {
     "name": "stdout",
     "output_type": "stream",
     "text": [
      "(528,)\n"
     ]
    }
   ],
   "source": [
    "df['hot_encoded'] = pd.NaT\n",
    "aspects_terget_data = np.full((len(unique_aspects_list)), 3)\n",
    "print(aspects_terget_data.shape)\n",
    "\n",
    "df['hot_encoded'] = df['hot_encoded'].astype('object')\n",
    "for i in np.arange(len(df)):\n",
    "    df.at[i, 'hot_encoded'] =  aspects_terget_data"
   ]
  },
  {
   "cell_type": "code",
   "execution_count": 32,
   "metadata": {
    "colab": {
     "base_uri": "https://localhost:8080/",
     "height": 424
    },
    "id": "y3laDtFkIufz",
    "outputId": "4e739341-1105-4492-9a81-d19a9536e204"
   },
   "outputs": [
    {
     "data": {
      "text/html": [
       "<div>\n",
       "<style scoped>\n",
       "    .dataframe tbody tr th:only-of-type {\n",
       "        vertical-align: middle;\n",
       "    }\n",
       "\n",
       "    .dataframe tbody tr th {\n",
       "        vertical-align: top;\n",
       "    }\n",
       "\n",
       "    .dataframe thead th {\n",
       "        text-align: right;\n",
       "    }\n",
       "</style>\n",
       "<table border=\"1\" class=\"dataframe\">\n",
       "  <thead>\n",
       "    <tr style=\"text-align: right;\">\n",
       "      <th></th>\n",
       "      <th>Sentence</th>\n",
       "      <th>Aspect_Category</th>\n",
       "      <th>polarity</th>\n",
       "      <th>hot_encoded</th>\n",
       "    </tr>\n",
       "  </thead>\n",
       "  <tbody>\n",
       "    <tr>\n",
       "      <th>0</th>\n",
       "      <td>Judging from previous posts this used to be a ...</td>\n",
       "      <td>[place]</td>\n",
       "      <td>[NEG]</td>\n",
       "      <td>[3, 3, 3, 3, 3, 3, 3, 3, 3, 3, 3, 3, 3, 3, 3, ...</td>\n",
       "    </tr>\n",
       "    <tr>\n",
       "      <th>1</th>\n",
       "      <td>We , there were four of us , arrived at noon -...</td>\n",
       "      <td>[staff]</td>\n",
       "      <td>[NEG]</td>\n",
       "      <td>[3, 3, 3, 3, 3, 3, 3, 3, 3, 3, 3, 3, 3, 3, 3, ...</td>\n",
       "    </tr>\n",
       "    <tr>\n",
       "      <th>2</th>\n",
       "      <td>The food was lousy - too sweet or too salty an...</td>\n",
       "      <td>[food, food, food, portions]</td>\n",
       "      <td>[NEG, NEG, NEG, NEG]</td>\n",
       "      <td>[3, 3, 3, 3, 3, 3, 3, 3, 3, 3, 3, 3, 3, 3, 3, ...</td>\n",
       "    </tr>\n",
       "    <tr>\n",
       "      <th>3</th>\n",
       "      <td>Avoid this place !</td>\n",
       "      <td>[place]</td>\n",
       "      <td>[NEG]</td>\n",
       "      <td>[3, 3, 3, 3, 3, 3, 3, 3, 3, 3, 3, 3, 3, 3, 3, ...</td>\n",
       "    </tr>\n",
       "    <tr>\n",
       "      <th>4</th>\n",
       "      <td>I have eaten at Saul , many times , the food i...</td>\n",
       "      <td>[food]</td>\n",
       "      <td>[POS]</td>\n",
       "      <td>[3, 3, 3, 3, 3, 3, 3, 3, 3, 3, 3, 3, 3, 3, 3, ...</td>\n",
       "    </tr>\n",
       "    <tr>\n",
       "      <th>...</th>\n",
       "      <td>...</td>\n",
       "      <td>...</td>\n",
       "      <td>...</td>\n",
       "      <td>...</td>\n",
       "    </tr>\n",
       "    <tr>\n",
       "      <th>852</th>\n",
       "      <td>bad staff</td>\n",
       "      <td>[staff]</td>\n",
       "      <td>[NEG]</td>\n",
       "      <td>[3, 3, 3, 3, 3, 3, 3, 3, 3, 3, 3, 3, 3, 3, 3, ...</td>\n",
       "    </tr>\n",
       "    <tr>\n",
       "      <th>853</th>\n",
       "      <td>I generally like this place .</td>\n",
       "      <td>[place]</td>\n",
       "      <td>[POS]</td>\n",
       "      <td>[3, 3, 3, 3, 3, 3, 3, 3, 3, 3, 3, 3, 3, 3, 3, ...</td>\n",
       "    </tr>\n",
       "    <tr>\n",
       "      <th>854</th>\n",
       "      <td>The food is good .</td>\n",
       "      <td>[food]</td>\n",
       "      <td>[POS]</td>\n",
       "      <td>[3, 3, 3, 3, 3, 3, 3, 3, 3, 3, 3, 3, 3, 3, 3, ...</td>\n",
       "    </tr>\n",
       "    <tr>\n",
       "      <th>855</th>\n",
       "      <td>The design of the space is good .</td>\n",
       "      <td>[space]</td>\n",
       "      <td>[POS]</td>\n",
       "      <td>[3, 3, 3, 3, 3, 3, 3, 3, 3, 3, 3, 3, 3, 3, 3, ...</td>\n",
       "    </tr>\n",
       "    <tr>\n",
       "      <th>856</th>\n",
       "      <td>But the service is HORRID !</td>\n",
       "      <td>[service]</td>\n",
       "      <td>[NEG]</td>\n",
       "      <td>[3, 3, 3, 3, 3, 3, 3, 3, 3, 3, 3, 3, 3, 3, 3, ...</td>\n",
       "    </tr>\n",
       "  </tbody>\n",
       "</table>\n",
       "<p>857 rows × 4 columns</p>\n",
       "</div>"
      ],
      "text/plain": [
       "                                              Sentence  \\\n",
       "0    Judging from previous posts this used to be a ...   \n",
       "1    We , there were four of us , arrived at noon -...   \n",
       "2    The food was lousy - too sweet or too salty an...   \n",
       "3                                   Avoid this place !   \n",
       "4    I have eaten at Saul , many times , the food i...   \n",
       "..                                                 ...   \n",
       "852                                          bad staff   \n",
       "853                      I generally like this place .   \n",
       "854                                 The food is good .   \n",
       "855                  The design of the space is good .   \n",
       "856                        But the service is HORRID !   \n",
       "\n",
       "                  Aspect_Category              polarity  \\\n",
       "0                         [place]                 [NEG]   \n",
       "1                         [staff]                 [NEG]   \n",
       "2    [food, food, food, portions]  [NEG, NEG, NEG, NEG]   \n",
       "3                         [place]                 [NEG]   \n",
       "4                          [food]                 [POS]   \n",
       "..                            ...                   ...   \n",
       "852                       [staff]                 [NEG]   \n",
       "853                       [place]                 [POS]   \n",
       "854                        [food]                 [POS]   \n",
       "855                       [space]                 [POS]   \n",
       "856                     [service]                 [NEG]   \n",
       "\n",
       "                                           hot_encoded  \n",
       "0    [3, 3, 3, 3, 3, 3, 3, 3, 3, 3, 3, 3, 3, 3, 3, ...  \n",
       "1    [3, 3, 3, 3, 3, 3, 3, 3, 3, 3, 3, 3, 3, 3, 3, ...  \n",
       "2    [3, 3, 3, 3, 3, 3, 3, 3, 3, 3, 3, 3, 3, 3, 3, ...  \n",
       "3    [3, 3, 3, 3, 3, 3, 3, 3, 3, 3, 3, 3, 3, 3, 3, ...  \n",
       "4    [3, 3, 3, 3, 3, 3, 3, 3, 3, 3, 3, 3, 3, 3, 3, ...  \n",
       "..                                                 ...  \n",
       "852  [3, 3, 3, 3, 3, 3, 3, 3, 3, 3, 3, 3, 3, 3, 3, ...  \n",
       "853  [3, 3, 3, 3, 3, 3, 3, 3, 3, 3, 3, 3, 3, 3, 3, ...  \n",
       "854  [3, 3, 3, 3, 3, 3, 3, 3, 3, 3, 3, 3, 3, 3, 3, ...  \n",
       "855  [3, 3, 3, 3, 3, 3, 3, 3, 3, 3, 3, 3, 3, 3, 3, ...  \n",
       "856  [3, 3, 3, 3, 3, 3, 3, 3, 3, 3, 3, 3, 3, 3, 3, ...  \n",
       "\n",
       "[857 rows x 4 columns]"
      ]
     },
     "execution_count": 32,
     "metadata": {},
     "output_type": "execute_result"
    }
   ],
   "source": [
    "df"
   ]
  },
  {
   "cell_type": "code",
   "execution_count": 33,
   "metadata": {
    "id": "eDs9XNm-JRxk"
   },
   "outputs": [],
   "source": [
    "\n",
    "from wordcloud import WordCloud\n",
    "wordcloud2 = WordCloud().generate(' '.join(df['Sentence'])),"
   ]
  },
  {
   "cell_type": "code",
   "execution_count": 34,
   "metadata": {
    "colab": {
     "base_uri": "https://localhost:8080/",
     "height": 285
    },
    "id": "yzMe7YYyLu-D",
    "outputId": "8e49c183-b531-45ec-f132-94a528854938"
   },
   "outputs": [
    {
     "data": {
      "image/png": "[encoded data removed]",
      "text/plain": [
       "<Figure size 640x480 with 1 Axes>"
      ]
     },
     "metadata": {},
     "output_type": "display_data"
    }
   ],
   "source": [
    "text3 = ' '.join(df['Sentence'])\n",
    "wordcloud2 = WordCloud().generate(text3)\n",
    "# Generate plot\n",
    "plt.imshow(wordcloud2)\n",
    "plt.axis(\"off\")\n",
    "plt.show()"
   ]
  },
  {
   "cell_type": "code",
   "execution_count": null,
   "metadata": {},
   "outputs": [],
   "source": []
  },
  {
   "cell_type": "code",
   "execution_count": 35,
   "metadata": {},
   "outputs": [
    {
     "data": {
      "text/html": [
       "<div>\n",
       "<style scoped>\n",
       "    .dataframe tbody tr th:only-of-type {\n",
       "        vertical-align: middle;\n",
       "    }\n",
       "\n",
       "    .dataframe tbody tr th {\n",
       "        vertical-align: top;\n",
       "    }\n",
       "\n",
       "    .dataframe thead th {\n",
       "        text-align: right;\n",
       "    }\n",
       "</style>\n",
       "<table border=\"1\" class=\"dataframe\">\n",
       "  <thead>\n",
       "    <tr style=\"text-align: right;\">\n",
       "      <th></th>\n",
       "      <th>Sentence</th>\n",
       "      <th>Aspect_Category</th>\n",
       "      <th>polarity</th>\n",
       "      <th>hot_encoded</th>\n",
       "    </tr>\n",
       "  </thead>\n",
       "  <tbody>\n",
       "    <tr>\n",
       "      <th>0</th>\n",
       "      <td>Judging from previous posts this used to be a ...</td>\n",
       "      <td>[place]</td>\n",
       "      <td>[NEG]</td>\n",
       "      <td>[3, 3, 3, 3, 3, 3, 3, 3, 3, 3, 3, 3, 3, 3, 3, ...</td>\n",
       "    </tr>\n",
       "    <tr>\n",
       "      <th>1</th>\n",
       "      <td>We , there were four of us , arrived at noon -...</td>\n",
       "      <td>[staff]</td>\n",
       "      <td>[NEG]</td>\n",
       "      <td>[3, 3, 3, 3, 3, 3, 3, 3, 3, 3, 3, 3, 3, 3, 3, ...</td>\n",
       "    </tr>\n",
       "    <tr>\n",
       "      <th>2</th>\n",
       "      <td>The food was lousy - too sweet or too salty an...</td>\n",
       "      <td>[food, food, food, portions]</td>\n",
       "      <td>[NEG, NEG, NEG, NEG]</td>\n",
       "      <td>[3, 3, 3, 3, 3, 3, 3, 3, 3, 3, 3, 3, 3, 3, 3, ...</td>\n",
       "    </tr>\n",
       "    <tr>\n",
       "      <th>3</th>\n",
       "      <td>Avoid this place !</td>\n",
       "      <td>[place]</td>\n",
       "      <td>[NEG]</td>\n",
       "      <td>[3, 3, 3, 3, 3, 3, 3, 3, 3, 3, 3, 3, 3, 3, 3, ...</td>\n",
       "    </tr>\n",
       "    <tr>\n",
       "      <th>4</th>\n",
       "      <td>I have eaten at Saul , many times , the food i...</td>\n",
       "      <td>[food]</td>\n",
       "      <td>[POS]</td>\n",
       "      <td>[3, 3, 3, 3, 3, 3, 3, 3, 3, 3, 3, 3, 3, 3, 3, ...</td>\n",
       "    </tr>\n",
       "  </tbody>\n",
       "</table>\n",
       "</div>"
      ],
      "text/plain": [
       "                                            Sentence  \\\n",
       "0  Judging from previous posts this used to be a ...   \n",
       "1  We , there were four of us , arrived at noon -...   \n",
       "2  The food was lousy - too sweet or too salty an...   \n",
       "3                                 Avoid this place !   \n",
       "4  I have eaten at Saul , many times , the food i...   \n",
       "\n",
       "                Aspect_Category              polarity  \\\n",
       "0                       [place]                 [NEG]   \n",
       "1                       [staff]                 [NEG]   \n",
       "2  [food, food, food, portions]  [NEG, NEG, NEG, NEG]   \n",
       "3                       [place]                 [NEG]   \n",
       "4                        [food]                 [POS]   \n",
       "\n",
       "                                         hot_encoded  \n",
       "0  [3, 3, 3, 3, 3, 3, 3, 3, 3, 3, 3, 3, 3, 3, 3, ...  \n",
       "1  [3, 3, 3, 3, 3, 3, 3, 3, 3, 3, 3, 3, 3, 3, 3, ...  \n",
       "2  [3, 3, 3, 3, 3, 3, 3, 3, 3, 3, 3, 3, 3, 3, 3, ...  \n",
       "3  [3, 3, 3, 3, 3, 3, 3, 3, 3, 3, 3, 3, 3, 3, 3, ...  \n",
       "4  [3, 3, 3, 3, 3, 3, 3, 3, 3, 3, 3, 3, 3, 3, 3, ...  "
      ]
     },
     "execution_count": 35,
     "metadata": {},
     "output_type": "execute_result"
    }
   ],
   "source": [
    "df.head(5)"
   ]
  },
  {
   "cell_type": "code",
   "execution_count": 36,
   "metadata": {
    "colab": {
     "base_uri": "https://localhost:8080/",
     "height": 235
    },
    "id": "vSvMhHB1LxTE",
    "outputId": "1457adb1-2ef3-463c-d85b-fba817bc0768"
   },
   "outputs": [],
   "source": [
    "\n",
    "for i in range(len(df)) :\n",
    "    for aspect in unique_aspects_list:\n",
    "        if aspect in df.Aspect_Category[i]:\n",
    "            if df.polarity[i][df.Aspect_Category[i].index(aspect)] == 'POS' :\n",
    "                # Create a copy of the list in the target row\n",
    "                updated_list = df.at[i, 'hot_encoded'].copy()\n",
    "                # Update the value in the copy\n",
    "                updated_list[unique_aspects_list.index(aspect)] = 1\n",
    "                # Assign the modified list back to the DataFrame\n",
    "                df.at[i, 'hot_encoded'] = updated_list\n",
    "            if df.polarity[i][df.Aspect_Category[i].index(aspect)] == 'NEG' :\n",
    "                # Create a copy of the list in the target row\n",
    "                updated_list = df.at[i, 'hot_encoded'].copy()\n",
    "                # Update the value in the copy\n",
    "                updated_list[unique_aspects_list.index(aspect)] = 0\n",
    "                # Assign the modified list back to the DataFrame\n",
    "                df.at[i, 'hot_encoded'] = updated_list\n",
    "            if df.polarity[i][df.Aspect_Category[i].index(aspect)] == 'NEU' :\n",
    "                # Create a copy of the list in the target row\n",
    "                updated_list = df.at[i, 'hot_encoded'].copy()\n",
    "                # Update the value in the copy\n",
    "                updated_list[unique_aspects_list.index(aspect)] = 2\n",
    "                # Assign the modified list back to the DataFrame\n",
    "                df.at[i, 'hot_encoded'] = updated_list"
   ]
  },
  {
   "cell_type": "code",
   "execution_count": 43,
   "metadata": {},
   "outputs": [
    {
     "data": {
      "text/plain": [
       "42"
      ]
     },
     "execution_count": 43,
     "metadata": {},
     "output_type": "execute_result"
    }
   ],
   "source": [
    "unique_aspects_list.index('portions')\n"
   ]
  },
  {
   "cell_type": "code",
   "execution_count": 47,
   "metadata": {},
   "outputs": [
    {
     "data": {
      "text/plain": [
       "1"
      ]
     },
     "execution_count": 47,
     "metadata": {},
     "output_type": "execute_result"
    }
   ],
   "source": [
    "df['hot_encoded'][4][268]"
   ]
  },
  {
   "cell_type": "code",
   "execution_count": 42,
   "metadata": {
    "colab": {
     "base_uri": "https://localhost:8080/",
     "height": 206
    },
    "id": "TFkGTVJ8XOC_",
    "outputId": "0d0acb1c-1927-4916-83c2-55b22bd653cd"
   },
   "outputs": [
    {
     "data": {
      "text/html": [
       "<div>\n",
       "<style scoped>\n",
       "    .dataframe tbody tr th:only-of-type {\n",
       "        vertical-align: middle;\n",
       "    }\n",
       "\n",
       "    .dataframe tbody tr th {\n",
       "        vertical-align: top;\n",
       "    }\n",
       "\n",
       "    .dataframe thead th {\n",
       "        text-align: right;\n",
       "    }\n",
       "</style>\n",
       "<table border=\"1\" class=\"dataframe\">\n",
       "  <thead>\n",
       "    <tr style=\"text-align: right;\">\n",
       "      <th></th>\n",
       "      <th>Sentence</th>\n",
       "      <th>Aspect_Category</th>\n",
       "      <th>polarity</th>\n",
       "      <th>hot_encoded</th>\n",
       "    </tr>\n",
       "  </thead>\n",
       "  <tbody>\n",
       "    <tr>\n",
       "      <th>0</th>\n",
       "      <td>Judging from previous posts this used to be a ...</td>\n",
       "      <td>[place]</td>\n",
       "      <td>[NEG]</td>\n",
       "      <td>[3, 3, 3, 3, 3, 3, 3, 3, 3, 3, 3, 3, 3, 3, 3, ...</td>\n",
       "    </tr>\n",
       "    <tr>\n",
       "      <th>1</th>\n",
       "      <td>We , there were four of us , arrived at noon -...</td>\n",
       "      <td>[staff]</td>\n",
       "      <td>[NEG]</td>\n",
       "      <td>[3, 3, 3, 3, 3, 3, 3, 3, 3, 3, 3, 3, 3, 3, 3, ...</td>\n",
       "    </tr>\n",
       "    <tr>\n",
       "      <th>2</th>\n",
       "      <td>The food was lousy - too sweet or too salty an...</td>\n",
       "      <td>[food, food, food, portions]</td>\n",
       "      <td>[NEG, NEG, NEG, NEG]</td>\n",
       "      <td>[3, 3, 3, 3, 3, 3, 3, 3, 3, 3, 3, 3, 3, 3, 3, ...</td>\n",
       "    </tr>\n",
       "    <tr>\n",
       "      <th>3</th>\n",
       "      <td>Avoid this place !</td>\n",
       "      <td>[place]</td>\n",
       "      <td>[NEG]</td>\n",
       "      <td>[3, 3, 3, 3, 3, 3, 3, 3, 3, 3, 3, 3, 3, 3, 3, ...</td>\n",
       "    </tr>\n",
       "    <tr>\n",
       "      <th>4</th>\n",
       "      <td>I have eaten at Saul , many times , the food i...</td>\n",
       "      <td>[food]</td>\n",
       "      <td>[POS]</td>\n",
       "      <td>[3, 3, 3, 3, 3, 3, 3, 3, 3, 3, 3, 3, 3, 3, 3, ...</td>\n",
       "    </tr>\n",
       "  </tbody>\n",
       "</table>\n",
       "</div>"
      ],
      "text/plain": [
       "                                            Sentence  \\\n",
       "0  Judging from previous posts this used to be a ...   \n",
       "1  We , there were four of us , arrived at noon -...   \n",
       "2  The food was lousy - too sweet or too salty an...   \n",
       "3                                 Avoid this place !   \n",
       "4  I have eaten at Saul , many times , the food i...   \n",
       "\n",
       "                Aspect_Category              polarity  \\\n",
       "0                       [place]                 [NEG]   \n",
       "1                       [staff]                 [NEG]   \n",
       "2  [food, food, food, portions]  [NEG, NEG, NEG, NEG]   \n",
       "3                       [place]                 [NEG]   \n",
       "4                        [food]                 [POS]   \n",
       "\n",
       "                                         hot_encoded  \n",
       "0  [3, 3, 3, 3, 3, 3, 3, 3, 3, 3, 3, 3, 3, 3, 3, ...  \n",
       "1  [3, 3, 3, 3, 3, 3, 3, 3, 3, 3, 3, 3, 3, 3, 3, ...  \n",
       "2  [3, 3, 3, 3, 3, 3, 3, 3, 3, 3, 3, 3, 3, 3, 3, ...  \n",
       "3  [3, 3, 3, 3, 3, 3, 3, 3, 3, 3, 3, 3, 3, 3, 3, ...  \n",
       "4  [3, 3, 3, 3, 3, 3, 3, 3, 3, 3, 3, 3, 3, 3, 3, ...  "
      ]
     },
     "execution_count": 42,
     "metadata": {},
     "output_type": "execute_result"
    }
   ],
   "source": [
    "df.head()"
   ]
  },
  {
   "cell_type": "code",
   "execution_count": null,
   "metadata": {},
   "outputs": [],
   "source": []
  },
  {
   "cell_type": "code",
   "execution_count": null,
   "metadata": {},
   "outputs": [],
   "source": []
  }
 ],
 "metadata": {
  "accelerator": "GPU",
  "colab": {
   "gpuType": "T4",
   "provenance": []
  },
  "kernelspec": {
   "display_name": "Python 3 (ipykernel)",
   "language": "python",
   "name": "python3"
  },
  "language_info": {
   "codemirror_mode": {
    "name": "ipython",
    "version": 3
   },
   "file_extension": ".py",
   "mimetype": "text/x-python",
   "name": "python",
   "nbconvert_exporter": "python",
   "pygments_lexer": "ipython3",
   "version": "3.9.13"
  }
 },
 "nbformat": 4,
 "nbformat_minor": 1
}
