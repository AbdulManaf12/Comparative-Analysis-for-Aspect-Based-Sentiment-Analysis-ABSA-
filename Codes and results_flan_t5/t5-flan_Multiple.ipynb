{
 "cells": [
  {
   "cell_type": "markdown",
   "metadata": {},
   "source": [
    "# Load Model"
   ]
  },
  {
   "cell_type": "code",
   "execution_count": 1,
   "metadata": {},
   "outputs": [
    {
     "name": "stderr",
     "output_type": "stream",
     "text": [
      "c:\\Users\\Nimra\\AppData\\Local\\Programs\\Python\\Python39\\lib\\site-packages\\transformers\\generation\\utils.py:1353: UserWarning: Using `max_length`'s default (20) to control the generation length. This behaviour is deprecated and will be removed from the config in v5 of Transformers -- we recommend using `max_new_tokens` to control the maximum length of the generation.\n",
      "  warnings.warn(\n"
     ]
    }
   ],
   "source": [
    "from transformers import AutoModelForSeq2SeqLM, AutoTokenizer\n",
    "\n",
    "model = AutoModelForSeq2SeqLM.from_pretrained(\"shorthillsai/flan-t5-large-absa\", device_map=\"auto\")\n",
    "tokenizer = AutoTokenizer.from_pretrained(\"shorthillsai/flan-t5-large-absa\", truncation=True)\n",
    "\n",
    "prompt = \"\"\"Find the aspect based sentiment for the given review. 'Not present' if the aspect is absent.\\n\\nReview:I love the screen of this laptop and the battery life is amazing.\\n\\nAspect:Battery Life\\n\\nSentiment: \"\"\"\n",
    "\n",
    "input_ids = tokenizer(prompt, return_tensors=\"pt\").to(\"cuda\").input_ids\n",
    "instruct_model_outputs = model.generate(input_ids=input_ids)\n",
    "instruct_model_text_output = tokenizer.decode(instruct_model_outputs[0], skip_special_tokens=True)\n"
   ]
  },
  {
   "cell_type": "markdown",
   "metadata": {},
   "source": [
    "# Load Dataset"
   ]
  },
  {
   "cell_type": "code",
   "execution_count": 81,
   "metadata": {},
   "outputs": [
    {
     "name": "stdout",
     "output_type": "stream",
     "text": [
      "1336\n"
     ]
    },
    {
     "data": {
      "text/html": [
       "<div>\n",
       "<style scoped>\n",
       "    .dataframe tbody tr th:only-of-type {\n",
       "        vertical-align: middle;\n",
       "    }\n",
       "\n",
       "    .dataframe tbody tr th {\n",
       "        vertical-align: top;\n",
       "    }\n",
       "\n",
       "    .dataframe thead th {\n",
       "        text-align: right;\n",
       "    }\n",
       "</style>\n",
       "<table border=\"1\" class=\"dataframe\">\n",
       "  <thead>\n",
       "    <tr style=\"text-align: right;\">\n",
       "      <th></th>\n",
       "      <th>dataset_name</th>\n",
       "      <th>sentence</th>\n",
       "      <th>aspect</th>\n",
       "      <th>polarity</th>\n",
       "      <th>sentiment_t5</th>\n",
       "    </tr>\n",
       "  </thead>\n",
       "  <tbody>\n",
       "    <tr>\n",
       "      <th>0</th>\n",
       "      <td>MAMS/ATSA_test</td>\n",
       "      <td>The food was served promptly but the meal wasn...</td>\n",
       "      <td>food</td>\n",
       "      <td>neutral</td>\n",
       "      <td>Positive</td>\n",
       "    </tr>\n",
       "    <tr>\n",
       "      <th>1</th>\n",
       "      <td>MAMS/ATSA_test</td>\n",
       "      <td>The food was served promptly but the meal wasn...</td>\n",
       "      <td>served</td>\n",
       "      <td>positive</td>\n",
       "      <td>Positive</td>\n",
       "    </tr>\n",
       "    <tr>\n",
       "      <th>2</th>\n",
       "      <td>MAMS/ATSA_test</td>\n",
       "      <td>The food was served promptly but the meal wasn...</td>\n",
       "      <td>appetizers</td>\n",
       "      <td>positive</td>\n",
       "      <td>Positive</td>\n",
       "    </tr>\n",
       "  </tbody>\n",
       "</table>\n",
       "</div>"
      ],
      "text/plain": [
       "     dataset_name                                           sentence  \\\n",
       "0  MAMS/ATSA_test  The food was served promptly but the meal wasn...   \n",
       "1  MAMS/ATSA_test  The food was served promptly but the meal wasn...   \n",
       "2  MAMS/ATSA_test  The food was served promptly but the meal wasn...   \n",
       "\n",
       "       aspect  polarity sentiment_t5  \n",
       "0        food   neutral     Positive  \n",
       "1      served  positive     Positive  \n",
       "2  appetizers  positive     Positive  "
      ]
     },
     "execution_count": 81,
     "metadata": {},
     "output_type": "execute_result"
    }
   ],
   "source": [
    "import os\n",
    "import pandas as pd\n",
    "path = \"flan_t5/results/\"\n",
    "data_path=\"MAMS/\"\n",
    "filename=\"ATSA_test\"\n",
    "if(os.path.isfile(path+data_path+filename+\"_t5.csv\")):\n",
    "    res = pd.read_csv(path+data_path+filename+\"_t5.csv\")\n",
    "else:\n",
    "    res = pd.DataFrame(columns=['dataset_name', 'sentence', 'aspect', 'polarity', 'sentiment_t5'])\n",
    "print(len(res))\n",
    "res.head(3)"
   ]
  },
  {
   "cell_type": "code",
   "execution_count": 82,
   "metadata": {},
   "outputs": [
    {
     "name": "stdout",
     "output_type": "stream",
     "text": [
      "500\n"
     ]
    },
    {
     "data": {
      "text/html": [
       "<div>\n",
       "<style scoped>\n",
       "    .dataframe tbody tr th:only-of-type {\n",
       "        vertical-align: middle;\n",
       "    }\n",
       "\n",
       "    .dataframe tbody tr th {\n",
       "        vertical-align: top;\n",
       "    }\n",
       "\n",
       "    .dataframe thead th {\n",
       "        text-align: right;\n",
       "    }\n",
       "</style>\n",
       "<table border=\"1\" class=\"dataframe\">\n",
       "  <thead>\n",
       "    <tr style=\"text-align: right;\">\n",
       "      <th></th>\n",
       "      <th>sentence</th>\n",
       "      <th>aspect_terms</th>\n",
       "      <th>polarity</th>\n",
       "    </tr>\n",
       "  </thead>\n",
       "  <tbody>\n",
       "    <tr>\n",
       "      <th>0</th>\n",
       "      <td>The food was served promptly but the meal wasn...</td>\n",
       "      <td>['food', 'served', 'appetizers']</td>\n",
       "      <td>['neutral', 'positive', 'positive']</td>\n",
       "    </tr>\n",
       "    <tr>\n",
       "      <th>1</th>\n",
       "      <td>When I got home, there was a message on the ma...</td>\n",
       "      <td>['owner', 'waitress', 'wine']</td>\n",
       "      <td>['neutral', 'negative', 'neutral']</td>\n",
       "    </tr>\n",
       "  </tbody>\n",
       "</table>\n",
       "</div>"
      ],
      "text/plain": [
       "                                            sentence  \\\n",
       "0  The food was served promptly but the meal wasn...   \n",
       "1  When I got home, there was a message on the ma...   \n",
       "\n",
       "                       aspect_terms                             polarity  \n",
       "0  ['food', 'served', 'appetizers']  ['neutral', 'positive', 'positive']  \n",
       "1     ['owner', 'waitress', 'wine']   ['neutral', 'negative', 'neutral']  "
      ]
     },
     "execution_count": 82,
     "metadata": {},
     "output_type": "execute_result"
    }
   ],
   "source": [
    "import pandas as pd\n",
    "\n",
    "df = pd.read_csv('processed_'+data_path+filename+'.csv')\n",
    "# df = pd.read_csv('processed_'+data_path+filename+'_single.csv')\n",
    "print(len(df))\n",
    "df.head(2)"
   ]
  },
  {
   "cell_type": "markdown",
   "metadata": {},
   "source": [
    "# Iterate each Row"
   ]
  },
  {
   "cell_type": "code",
   "execution_count": 79,
   "metadata": {},
   "outputs": [
    {
     "data": {
      "text/plain": [
       "0"
      ]
     },
     "execution_count": 79,
     "metadata": {},
     "output_type": "execute_result"
    }
   ],
   "source": [
    "len(res)"
   ]
  },
  {
   "cell_type": "code",
   "execution_count": 80,
   "metadata": {},
   "outputs": [
    {
     "name": "stdout",
     "output_type": "stream",
     "text": [
      "106 0\n",
      "Review: Too narrow . There were no rubber on the heels !\n",
      "        Aspect: heels\n",
      "        Predict the sentiment for mentioned aspect in the review. Assign one of the following sentiment to the aspect: Positive , Negative , Neutral.\n",
      "        Please provide the sentiment only. No any explanation or extra text\n"
     ]
    },
    {
     "name": "stderr",
     "output_type": "stream",
     "text": [
      "c:\\Users\\Nimra\\AppData\\Local\\Programs\\Python\\Python39\\lib\\site-packages\\transformers\\generation\\utils.py:1353: UserWarning: Using `max_length`'s default (20) to control the generation length. This behaviour is deprecated and will be removed from the config in v5 of Transformers -- we recommend using `max_new_tokens` to control the maximum length of the generation.\n",
      "  warnings.warn(\n"
     ]
    },
    {
     "name": "stdout",
     "output_type": "stream",
     "text": [
      "{'dataset_name': 'dotsa/new_Clothing_test', 'sentence': 'Too narrow . There were no rubber on the heels !', 'aspect': 'heels', 'polarity': 'Negative', 'sentiment_t5': 'Negative'}\n",
      "Review: These were just too shimmery for my taste , so I returned them . But the thickness and quality is very good so if you 're going for either the Hooters looks or dance recital and need to have good coverage , these will work great .\n",
      "        Aspect: thickness\n",
      "        Predict the sentiment for mentioned aspect in the review. Assign one of the following sentiment to the aspect: Positive , Negative , Neutral.\n",
      "        Please provide the sentiment only. No any explanation or extra text\n"
     ]
    },
    {
     "name": "stderr",
     "output_type": "stream",
     "text": [
      "C:\\Users\\Nimra\\AppData\\Local\\Temp\\ipykernel_16236\\2877642716.py:27: FutureWarning: The frame.append method is deprecated and will be removed from pandas in a future version. Use pandas.concat instead.\n",
      "  temp = temp.append(data_to_append, ignore_index=True)\n",
      "c:\\Users\\Nimra\\AppData\\Local\\Programs\\Python\\Python39\\lib\\site-packages\\transformers\\generation\\utils.py:1353: UserWarning: Using `max_length`'s default (20) to control the generation length. This behaviour is deprecated and will be removed from the config in v5 of Transformers -- we recommend using `max_new_tokens` to control the maximum length of the generation.\n",
      "  warnings.warn(\n"
     ]
    },
    {
     "name": "stdout",
     "output_type": "stream",
     "text": [
      "{'dataset_name': 'dotsa/new_Clothing_test', 'sentence': \"These were just too shimmery for my taste , so I returned them . But the thickness and quality is very good so if you 're going for either the Hooters looks or dance recital and need to have good coverage , these will work great .\", 'aspect': 'thickness', 'polarity': 'Positive', 'sentiment_t5': 'Neutral'}\n",
      "Review: These were just too shimmery for my taste , so I returned them . But the thickness and quality is very good so if you 're going for either the Hooters looks or dance recital and need to have good coverage , these will work great .\n",
      "        Aspect:  quality\n",
      "        Predict the sentiment for mentioned aspect in the review. Assign one of the following sentiment to the aspect: Positive , Negative , Neutral.\n",
      "        Please provide the sentiment only. No any explanation or extra text\n"
     ]
    },
    {
     "name": "stderr",
     "output_type": "stream",
     "text": [
      "C:\\Users\\Nimra\\AppData\\Local\\Temp\\ipykernel_16236\\2877642716.py:27: FutureWarning: The frame.append method is deprecated and will be removed from pandas in a future version. Use pandas.concat instead.\n",
      "  temp = temp.append(data_to_append, ignore_index=True)\n",
      "c:\\Users\\Nimra\\AppData\\Local\\Programs\\Python\\Python39\\lib\\site-packages\\transformers\\generation\\utils.py:1353: UserWarning: Using `max_length`'s default (20) to control the generation length. This behaviour is deprecated and will be removed from the config in v5 of Transformers -- we recommend using `max_new_tokens` to control the maximum length of the generation.\n",
      "  warnings.warn(\n"
     ]
    },
    {
     "name": "stdout",
     "output_type": "stream",
     "text": [
      "{'dataset_name': 'dotsa/new_Clothing_test', 'sentence': \"These were just too shimmery for my taste , so I returned them . But the thickness and quality is very good so if you 're going for either the Hooters looks or dance recital and need to have good coverage , these will work great .\", 'aspect': ' quality', 'polarity': ' Positive', 'sentiment_t5': 'Positive'}\n",
      "Review: These were just too shimmery for my taste , so I returned them . But the thickness and quality is very good so if you 're going for either the Hooters looks or dance recital and need to have good coverage , these will work great .\n",
      "        Aspect:  these\n",
      "        Predict the sentiment for mentioned aspect in the review. Assign one of the following sentiment to the aspect: Positive , Negative , Neutral.\n",
      "        Please provide the sentiment only. No any explanation or extra text\n"
     ]
    },
    {
     "name": "stderr",
     "output_type": "stream",
     "text": [
      "C:\\Users\\Nimra\\AppData\\Local\\Temp\\ipykernel_16236\\2877642716.py:27: FutureWarning: The frame.append method is deprecated and will be removed from pandas in a future version. Use pandas.concat instead.\n",
      "  temp = temp.append(data_to_append, ignore_index=True)\n",
      "c:\\Users\\Nimra\\AppData\\Local\\Programs\\Python\\Python39\\lib\\site-packages\\transformers\\generation\\utils.py:1353: UserWarning: Using `max_length`'s default (20) to control the generation length. This behaviour is deprecated and will be removed from the config in v5 of Transformers -- we recommend using `max_new_tokens` to control the maximum length of the generation.\n",
      "  warnings.warn(\n"
     ]
    },
    {
     "name": "stdout",
     "output_type": "stream",
     "text": [
      "{'dataset_name': 'dotsa/new_Clothing_test', 'sentence': \"These were just too shimmery for my taste , so I returned them . But the thickness and quality is very good so if you 're going for either the Hooters looks or dance recital and need to have good coverage , these will work great .\", 'aspect': ' These', 'polarity': ' Mixed', 'sentiment_t5': 'Neutral'}\n",
      "Review: I only wear dance tights like this because they are so solid colored and never run on me . I got an extra large so I do n't get any pulling/muffintopping and I am not a skinny girl , I wear pant size 14\n",
      "        Aspect: dance tights\n",
      "        Predict the sentiment for mentioned aspect in the review. Assign one of the following sentiment to the aspect: Positive , Negative , Neutral.\n",
      "        Please provide the sentiment only. No any explanation or extra text\n"
     ]
    },
    {
     "name": "stderr",
     "output_type": "stream",
     "text": [
      "C:\\Users\\Nimra\\AppData\\Local\\Temp\\ipykernel_16236\\2877642716.py:27: FutureWarning: The frame.append method is deprecated and will be removed from pandas in a future version. Use pandas.concat instead.\n",
      "  temp = temp.append(data_to_append, ignore_index=True)\n",
      "c:\\Users\\Nimra\\AppData\\Local\\Programs\\Python\\Python39\\lib\\site-packages\\transformers\\generation\\utils.py:1353: UserWarning: Using `max_length`'s default (20) to control the generation length. This behaviour is deprecated and will be removed from the config in v5 of Transformers -- we recommend using `max_new_tokens` to control the maximum length of the generation.\n",
      "  warnings.warn(\n"
     ]
    },
    {
     "name": "stdout",
     "output_type": "stream",
     "text": [
      "{'dataset_name': 'dotsa/new_Clothing_test', 'sentence': \"I only wear dance tights like this because they are so solid colored and never run on me . I got an extra large so I do n't get any pulling/muffintopping and I am not a skinny girl , I wear pant size 14\", 'aspect': 'dance tights', 'polarity': 'Positive', 'sentiment_t5': 'Positive'}\n",
      "Review: This shoe is cute and well made but it is definitely not for wide feet . I could n't even stand in them much less walk . And unfortunately I missed the return window so Im stuck with them . Completely my fault but oh well .\n",
      "        Aspect: shoe\n",
      "        Predict the sentiment for mentioned aspect in the review. Assign one of the following sentiment to the aspect: Positive , Negative , Neutral.\n",
      "        Please provide the sentiment only. No any explanation or extra text\n"
     ]
    },
    {
     "name": "stderr",
     "output_type": "stream",
     "text": [
      "C:\\Users\\Nimra\\AppData\\Local\\Temp\\ipykernel_16236\\2877642716.py:27: FutureWarning: The frame.append method is deprecated and will be removed from pandas in a future version. Use pandas.concat instead.\n",
      "  temp = temp.append(data_to_append, ignore_index=True)\n",
      "c:\\Users\\Nimra\\AppData\\Local\\Programs\\Python\\Python39\\lib\\site-packages\\transformers\\generation\\utils.py:1353: UserWarning: Using `max_length`'s default (20) to control the generation length. This behaviour is deprecated and will be removed from the config in v5 of Transformers -- we recommend using `max_new_tokens` to control the maximum length of the generation.\n",
      "  warnings.warn(\n"
     ]
    },
    {
     "name": "stdout",
     "output_type": "stream",
     "text": [
      "{'dataset_name': 'dotsa/new_Clothing_test', 'sentence': \"This shoe is cute and well made but it is definitely not for wide feet . I could n't even stand in them much less walk . And unfortunately I missed the return window so Im stuck with them . Completely my fault but oh well .\", 'aspect': 'shoe', 'polarity': 'Mixed', 'sentiment_t5': 'Neutral'}\n",
      "Review: Love these sandals as much as the other pair I bought in the champagne color . They are very comfortable & light on the feet\n",
      "        Aspect: sandals\n",
      "        Predict the sentiment for mentioned aspect in the review. Assign one of the following sentiment to the aspect: Positive , Negative , Neutral.\n",
      "        Please provide the sentiment only. No any explanation or extra text\n"
     ]
    },
    {
     "name": "stderr",
     "output_type": "stream",
     "text": [
      "C:\\Users\\Nimra\\AppData\\Local\\Temp\\ipykernel_16236\\2877642716.py:27: FutureWarning: The frame.append method is deprecated and will be removed from pandas in a future version. Use pandas.concat instead.\n",
      "  temp = temp.append(data_to_append, ignore_index=True)\n",
      "c:\\Users\\Nimra\\AppData\\Local\\Programs\\Python\\Python39\\lib\\site-packages\\transformers\\generation\\utils.py:1353: UserWarning: Using `max_length`'s default (20) to control the generation length. This behaviour is deprecated and will be removed from the config in v5 of Transformers -- we recommend using `max_new_tokens` to control the maximum length of the generation.\n",
      "  warnings.warn(\n"
     ]
    },
    {
     "name": "stdout",
     "output_type": "stream",
     "text": [
      "{'dataset_name': 'dotsa/new_Clothing_test', 'sentence': 'Love these sandals as much as the other pair I bought in the champagne color . They are very comfortable & light on the feet', 'aspect': 'sandals', 'polarity': 'Positive', 'sentiment_t5': 'Positive'}\n",
      "Review: Capezio 's transition tights were definitely made for the dancer . They are comfortable and soft , move with the body , and do n't easily run . The only issue I have with them is the hole in the foot of the tights is too small ( I pull the tights up to my knees for modern and when I 'm on flat in ballet ) , but this is easily remedied by by pulling until they stretch all the way out and putting clear nail polish on any tear that 's made . ( The nail polish keeps the tear from running . )\n",
      "        Aspect: tights\n",
      "        Predict the sentiment for mentioned aspect in the review. Assign one of the following sentiment to the aspect: Positive , Negative , Neutral.\n",
      "        Please provide the sentiment only. No any explanation or extra text\n"
     ]
    },
    {
     "name": "stderr",
     "output_type": "stream",
     "text": [
      "C:\\Users\\Nimra\\AppData\\Local\\Temp\\ipykernel_16236\\2877642716.py:27: FutureWarning: The frame.append method is deprecated and will be removed from pandas in a future version. Use pandas.concat instead.\n",
      "  temp = temp.append(data_to_append, ignore_index=True)\n",
      "c:\\Users\\Nimra\\AppData\\Local\\Programs\\Python\\Python39\\lib\\site-packages\\transformers\\generation\\utils.py:1353: UserWarning: Using `max_length`'s default (20) to control the generation length. This behaviour is deprecated and will be removed from the config in v5 of Transformers -- we recommend using `max_new_tokens` to control the maximum length of the generation.\n",
      "  warnings.warn(\n"
     ]
    },
    {
     "name": "stdout",
     "output_type": "stream",
     "text": [
      "{'dataset_name': 'dotsa/new_Clothing_test', 'sentence': \"Capezio 's transition tights were definitely made for the dancer . They are comfortable and soft , move with the body , and do n't easily run . The only issue I have with them is the hole in the foot of the tights is too small ( I pull the tights up to my knees for modern and when I 'm on flat in ballet ) , but this is easily remedied by by pulling until they stretch all the way out and putting clear nail polish on any tear that 's made . ( The nail polish keeps the tear from running . )\", 'aspect': 'tights', 'polarity': 'Mixed', 'sentiment_t5': 'Positive'}\n",
      "Review: Heavy shimmery stockings that are nice for winter . They also give a lot of support .\n",
      "        Aspect: stockings\n",
      "        Predict the sentiment for mentioned aspect in the review. Assign one of the following sentiment to the aspect: Positive , Negative , Neutral.\n",
      "        Please provide the sentiment only. No any explanation or extra text\n"
     ]
    },
    {
     "name": "stderr",
     "output_type": "stream",
     "text": [
      "C:\\Users\\Nimra\\AppData\\Local\\Temp\\ipykernel_16236\\2877642716.py:27: FutureWarning: The frame.append method is deprecated and will be removed from pandas in a future version. Use pandas.concat instead.\n",
      "  temp = temp.append(data_to_append, ignore_index=True)\n",
      "c:\\Users\\Nimra\\AppData\\Local\\Programs\\Python\\Python39\\lib\\site-packages\\transformers\\generation\\utils.py:1353: UserWarning: Using `max_length`'s default (20) to control the generation length. This behaviour is deprecated and will be removed from the config in v5 of Transformers -- we recommend using `max_new_tokens` to control the maximum length of the generation.\n",
      "  warnings.warn(\n"
     ]
    },
    {
     "name": "stdout",
     "output_type": "stream",
     "text": [
      "{'dataset_name': 'dotsa/new_Clothing_test', 'sentence': 'Heavy shimmery stockings that are nice for winter . They also give a lot of support .', 'aspect': 'stockings', 'polarity': 'Positive', 'sentiment_t5': 'Positive'}\n",
      "Review: These tights are described as a classic and they are - great to wear and so comfortable\n",
      "        Aspect: tights\n",
      "        Predict the sentiment for mentioned aspect in the review. Assign one of the following sentiment to the aspect: Positive , Negative , Neutral.\n",
      "        Please provide the sentiment only. No any explanation or extra text\n"
     ]
    },
    {
     "name": "stderr",
     "output_type": "stream",
     "text": [
      "C:\\Users\\Nimra\\AppData\\Local\\Temp\\ipykernel_16236\\2877642716.py:27: FutureWarning: The frame.append method is deprecated and will be removed from pandas in a future version. Use pandas.concat instead.\n",
      "  temp = temp.append(data_to_append, ignore_index=True)\n",
      "c:\\Users\\Nimra\\AppData\\Local\\Programs\\Python\\Python39\\lib\\site-packages\\transformers\\generation\\utils.py:1353: UserWarning: Using `max_length`'s default (20) to control the generation length. This behaviour is deprecated and will be removed from the config in v5 of Transformers -- we recommend using `max_new_tokens` to control the maximum length of the generation.\n",
      "  warnings.warn(\n"
     ]
    },
    {
     "name": "stdout",
     "output_type": "stream",
     "text": [
      "{'dataset_name': 'dotsa/new_Clothing_test', 'sentence': 'These tights are described as a classic and they are - great to wear and so comfortable', 'aspect': 'tights', 'polarity': 'Positive', 'sentiment_t5': 'Positive'}\n",
      "Review: Cute shoes but my size 8 's ran closer to size 7 . 5 in length . They did squeak a little from rubbing on the base of the heel when walking . This pair has different width criss cross straps in the front - one sandal had narrower straps than the other . With three strikes , I had to return them .\n",
      "        Aspect: pair--straps\n",
      "        Predict the sentiment for mentioned aspect in the review. Assign one of the following sentiment to the aspect: Positive , Negative , Neutral.\n",
      "        Please provide the sentiment only. No any explanation or extra text\n"
     ]
    },
    {
     "name": "stderr",
     "output_type": "stream",
     "text": [
      "C:\\Users\\Nimra\\AppData\\Local\\Temp\\ipykernel_16236\\2877642716.py:27: FutureWarning: The frame.append method is deprecated and will be removed from pandas in a future version. Use pandas.concat instead.\n",
      "  temp = temp.append(data_to_append, ignore_index=True)\n",
      "c:\\Users\\Nimra\\AppData\\Local\\Programs\\Python\\Python39\\lib\\site-packages\\transformers\\generation\\utils.py:1353: UserWarning: Using `max_length`'s default (20) to control the generation length. This behaviour is deprecated and will be removed from the config in v5 of Transformers -- we recommend using `max_new_tokens` to control the maximum length of the generation.\n",
      "  warnings.warn(\n"
     ]
    },
    {
     "name": "stdout",
     "output_type": "stream",
     "text": [
      "{'dataset_name': 'dotsa/new_Clothing_test', 'sentence': \"Cute shoes but my size 8 's ran closer to size 7 . 5 in length . They did squeak a little from rubbing on the base of the heel when walking . This pair has different width criss cross straps in the front - one sandal had narrower straps than the other . With three strikes , I had to return them .\", 'aspect': 'pair--straps', 'polarity': 'Negative', 'sentiment_t5': 'Neutral'}\n",
      "Review: Cute shoes but my size 8 's ran closer to size 7 . 5 in length . They did squeak a little from rubbing on the base of the heel when walking . This pair has different width criss cross straps in the front - one sandal had narrower straps than the other . With three strikes , I had to return them .\n",
      "        Aspect:  pair\n",
      "        Predict the sentiment for mentioned aspect in the review. Assign one of the following sentiment to the aspect: Positive , Negative , Neutral.\n",
      "        Please provide the sentiment only. No any explanation or extra text\n"
     ]
    },
    {
     "name": "stderr",
     "output_type": "stream",
     "text": [
      "C:\\Users\\Nimra\\AppData\\Local\\Temp\\ipykernel_16236\\2877642716.py:27: FutureWarning: The frame.append method is deprecated and will be removed from pandas in a future version. Use pandas.concat instead.\n",
      "  temp = temp.append(data_to_append, ignore_index=True)\n",
      "c:\\Users\\Nimra\\AppData\\Local\\Programs\\Python\\Python39\\lib\\site-packages\\transformers\\generation\\utils.py:1353: UserWarning: Using `max_length`'s default (20) to control the generation length. This behaviour is deprecated and will be removed from the config in v5 of Transformers -- we recommend using `max_new_tokens` to control the maximum length of the generation.\n",
      "  warnings.warn(\n"
     ]
    },
    {
     "name": "stdout",
     "output_type": "stream",
     "text": [
      "{'dataset_name': 'dotsa/new_Clothing_test', 'sentence': \"Cute shoes but my size 8 's ran closer to size 7 . 5 in length . They did squeak a little from rubbing on the base of the heel when walking . This pair has different width criss cross straps in the front - one sandal had narrower straps than the other . With three strikes , I had to return them .\", 'aspect': ' pair', 'polarity': ' Mixed', 'sentiment_t5': 'Neutral'}\n",
      "Review: Very nice shoe it would be great if this style came in more colors . Shoes are comfortable and sturdy , great for walking .\n",
      "        Aspect: shoes\n",
      "        Predict the sentiment for mentioned aspect in the review. Assign one of the following sentiment to the aspect: Positive , Negative , Neutral.\n",
      "        Please provide the sentiment only. No any explanation or extra text\n"
     ]
    },
    {
     "name": "stderr",
     "output_type": "stream",
     "text": [
      "C:\\Users\\Nimra\\AppData\\Local\\Temp\\ipykernel_16236\\2877642716.py:27: FutureWarning: The frame.append method is deprecated and will be removed from pandas in a future version. Use pandas.concat instead.\n",
      "  temp = temp.append(data_to_append, ignore_index=True)\n",
      "c:\\Users\\Nimra\\AppData\\Local\\Programs\\Python\\Python39\\lib\\site-packages\\transformers\\generation\\utils.py:1353: UserWarning: Using `max_length`'s default (20) to control the generation length. This behaviour is deprecated and will be removed from the config in v5 of Transformers -- we recommend using `max_new_tokens` to control the maximum length of the generation.\n",
      "  warnings.warn(\n"
     ]
    },
    {
     "name": "stdout",
     "output_type": "stream",
     "text": [
      "{'dataset_name': 'dotsa/new_Clothing_test', 'sentence': 'Very nice shoe it would be great if this style came in more colors . Shoes are comfortable and sturdy , great for walking .', 'aspect': 'Shoes', 'polarity': 'Positive', 'sentiment_t5': 'Positive'}\n",
      "Review: Very nice shoe it would be great if this style came in more colors . Shoes are comfortable and sturdy , great for walking .\n",
      "        Aspect:  shoe\n",
      "        Predict the sentiment for mentioned aspect in the review. Assign one of the following sentiment to the aspect: Positive , Negative , Neutral.\n",
      "        Please provide the sentiment only. No any explanation or extra text\n"
     ]
    },
    {
     "name": "stderr",
     "output_type": "stream",
     "text": [
      "C:\\Users\\Nimra\\AppData\\Local\\Temp\\ipykernel_16236\\2877642716.py:27: FutureWarning: The frame.append method is deprecated and will be removed from pandas in a future version. Use pandas.concat instead.\n",
      "  temp = temp.append(data_to_append, ignore_index=True)\n",
      "c:\\Users\\Nimra\\AppData\\Local\\Programs\\Python\\Python39\\lib\\site-packages\\transformers\\generation\\utils.py:1353: UserWarning: Using `max_length`'s default (20) to control the generation length. This behaviour is deprecated and will be removed from the config in v5 of Transformers -- we recommend using `max_new_tokens` to control the maximum length of the generation.\n",
      "  warnings.warn(\n"
     ]
    },
    {
     "name": "stdout",
     "output_type": "stream",
     "text": [
      "{'dataset_name': 'dotsa/new_Clothing_test', 'sentence': 'Very nice shoe it would be great if this style came in more colors . Shoes are comfortable and sturdy , great for walking .', 'aspect': ' shoe', 'polarity': ' Positive', 'sentiment_t5': 'Positive'}\n",
      "Review: I wanted to love these sandals , but I had to return them because the back strap of the left shoe was too loose and slipped off . The toe of the shoe is very soft and comfortable but the sling back is elastic and not at all adjustable . I wish these came with a velcro strap or a buckle to snug it up a little .\n",
      "        Aspect: shoe--toe\n",
      "        Predict the sentiment for mentioned aspect in the review. Assign one of the following sentiment to the aspect: Positive , Negative , Neutral.\n",
      "        Please provide the sentiment only. No any explanation or extra text\n"
     ]
    },
    {
     "name": "stderr",
     "output_type": "stream",
     "text": [
      "C:\\Users\\Nimra\\AppData\\Local\\Temp\\ipykernel_16236\\2877642716.py:27: FutureWarning: The frame.append method is deprecated and will be removed from pandas in a future version. Use pandas.concat instead.\n",
      "  temp = temp.append(data_to_append, ignore_index=True)\n",
      "c:\\Users\\Nimra\\AppData\\Local\\Programs\\Python\\Python39\\lib\\site-packages\\transformers\\generation\\utils.py:1353: UserWarning: Using `max_length`'s default (20) to control the generation length. This behaviour is deprecated and will be removed from the config in v5 of Transformers -- we recommend using `max_new_tokens` to control the maximum length of the generation.\n",
      "  warnings.warn(\n"
     ]
    },
    {
     "name": "stdout",
     "output_type": "stream",
     "text": [
      "{'dataset_name': 'dotsa/new_Clothing_test', 'sentence': 'I wanted to love these sandals , but I had to return them because the back strap of the left shoe was too loose and slipped off . The toe of the shoe is very soft and comfortable but the sling back is elastic and not at all adjustable . I wish these came with a velcro strap or a buckle to snug it up a little .', 'aspect': 'shoe--toe', 'polarity': 'Positive', 'sentiment_t5': 'Neutral'}\n",
      "Review: I wanted to love these sandals , but I had to return them because the back strap of the left shoe was too loose and slipped off . The toe of the shoe is very soft and comfortable but the sling back is elastic and not at all adjustable . I wish these came with a velcro strap or a buckle to snug it up a little .\n",
      "        Aspect:  shoe--left shoe--back strap\n",
      "        Predict the sentiment for mentioned aspect in the review. Assign one of the following sentiment to the aspect: Positive , Negative , Neutral.\n",
      "        Please provide the sentiment only. No any explanation or extra text\n"
     ]
    },
    {
     "name": "stderr",
     "output_type": "stream",
     "text": [
      "C:\\Users\\Nimra\\AppData\\Local\\Temp\\ipykernel_16236\\2877642716.py:27: FutureWarning: The frame.append method is deprecated and will be removed from pandas in a future version. Use pandas.concat instead.\n",
      "  temp = temp.append(data_to_append, ignore_index=True)\n",
      "c:\\Users\\Nimra\\AppData\\Local\\Programs\\Python\\Python39\\lib\\site-packages\\transformers\\generation\\utils.py:1353: UserWarning: Using `max_length`'s default (20) to control the generation length. This behaviour is deprecated and will be removed from the config in v5 of Transformers -- we recommend using `max_new_tokens` to control the maximum length of the generation.\n",
      "  warnings.warn(\n"
     ]
    },
    {
     "name": "stdout",
     "output_type": "stream",
     "text": [
      "{'dataset_name': 'dotsa/new_Clothing_test', 'sentence': 'I wanted to love these sandals , but I had to return them because the back strap of the left shoe was too loose and slipped off . The toe of the shoe is very soft and comfortable but the sling back is elastic and not at all adjustable . I wish these came with a velcro strap or a buckle to snug it up a little .', 'aspect': ' shoe--left shoe--back strap', 'polarity': ' Negative', 'sentiment_t5': 'Negative'}\n",
      "Review: I wanted to love these sandals , but I had to return them because the back strap of the left shoe was too loose and slipped off . The toe of the shoe is very soft and comfortable but the sling back is elastic and not at all adjustable . I wish these came with a velcro strap or a buckle to snug it up a little .\n",
      "        Aspect:  shoe\n",
      "        Predict the sentiment for mentioned aspect in the review. Assign one of the following sentiment to the aspect: Positive , Negative , Neutral.\n",
      "        Please provide the sentiment only. No any explanation or extra text\n"
     ]
    },
    {
     "name": "stderr",
     "output_type": "stream",
     "text": [
      "C:\\Users\\Nimra\\AppData\\Local\\Temp\\ipykernel_16236\\2877642716.py:27: FutureWarning: The frame.append method is deprecated and will be removed from pandas in a future version. Use pandas.concat instead.\n",
      "  temp = temp.append(data_to_append, ignore_index=True)\n",
      "c:\\Users\\Nimra\\AppData\\Local\\Programs\\Python\\Python39\\lib\\site-packages\\transformers\\generation\\utils.py:1353: UserWarning: Using `max_length`'s default (20) to control the generation length. This behaviour is deprecated and will be removed from the config in v5 of Transformers -- we recommend using `max_new_tokens` to control the maximum length of the generation.\n",
      "  warnings.warn(\n"
     ]
    },
    {
     "name": "stdout",
     "output_type": "stream",
     "text": [
      "{'dataset_name': 'dotsa/new_Clothing_test', 'sentence': 'I wanted to love these sandals , but I had to return them because the back strap of the left shoe was too loose and slipped off . The toe of the shoe is very soft and comfortable but the sling back is elastic and not at all adjustable . I wish these came with a velcro strap or a buckle to snug it up a little .', 'aspect': ' shoe', 'polarity': ' Mixed', 'sentiment_t5': 'Negative'}\n",
      "Review: I wanted to love these sandals , but I had to return them because the back strap of the left shoe was too loose and slipped off . The toe of the shoe is very soft and comfortable but the sling back is elastic and not at all adjustable . I wish these came with a velcro strap or a buckle to snug it up a little .\n",
      "        Aspect:  shoe--sling back\n",
      "        Predict the sentiment for mentioned aspect in the review. Assign one of the following sentiment to the aspect: Positive , Negative , Neutral.\n",
      "        Please provide the sentiment only. No any explanation or extra text\n"
     ]
    },
    {
     "name": "stderr",
     "output_type": "stream",
     "text": [
      "C:\\Users\\Nimra\\AppData\\Local\\Temp\\ipykernel_16236\\2877642716.py:27: FutureWarning: The frame.append method is deprecated and will be removed from pandas in a future version. Use pandas.concat instead.\n",
      "  temp = temp.append(data_to_append, ignore_index=True)\n",
      "c:\\Users\\Nimra\\AppData\\Local\\Programs\\Python\\Python39\\lib\\site-packages\\transformers\\generation\\utils.py:1353: UserWarning: Using `max_length`'s default (20) to control the generation length. This behaviour is deprecated and will be removed from the config in v5 of Transformers -- we recommend using `max_new_tokens` to control the maximum length of the generation.\n",
      "  warnings.warn(\n"
     ]
    },
    {
     "name": "stdout",
     "output_type": "stream",
     "text": [
      "{'dataset_name': 'dotsa/new_Clothing_test', 'sentence': 'I wanted to love these sandals , but I had to return them because the back strap of the left shoe was too loose and slipped off . The toe of the shoe is very soft and comfortable but the sling back is elastic and not at all adjustable . I wish these came with a velcro strap or a buckle to snug it up a little .', 'aspect': ' shoe--sling back', 'polarity': ' Negative', 'sentiment_t5': 'Negative'}\n",
      "Review: Yes ! A gray hoodie ! Fitted as I expected and snug : D too bad my time with it lasted a short while since it got hot pretty fast ! But I wear it as pj 's and at night !\n",
      "        Aspect: gray hoodie\n",
      "        Predict the sentiment for mentioned aspect in the review. Assign one of the following sentiment to the aspect: Positive , Negative , Neutral.\n",
      "        Please provide the sentiment only. No any explanation or extra text\n"
     ]
    },
    {
     "name": "stderr",
     "output_type": "stream",
     "text": [
      "C:\\Users\\Nimra\\AppData\\Local\\Temp\\ipykernel_16236\\2877642716.py:27: FutureWarning: The frame.append method is deprecated and will be removed from pandas in a future version. Use pandas.concat instead.\n",
      "  temp = temp.append(data_to_append, ignore_index=True)\n",
      "c:\\Users\\Nimra\\AppData\\Local\\Programs\\Python\\Python39\\lib\\site-packages\\transformers\\generation\\utils.py:1353: UserWarning: Using `max_length`'s default (20) to control the generation length. This behaviour is deprecated and will be removed from the config in v5 of Transformers -- we recommend using `max_new_tokens` to control the maximum length of the generation.\n",
      "  warnings.warn(\n"
     ]
    },
    {
     "name": "stdout",
     "output_type": "stream",
     "text": [
      "{'dataset_name': 'dotsa/new_Clothing_test', 'sentence': \"Yes ! A gray hoodie ! Fitted as I expected and snug : D too bad my time with it lasted a short while since it got hot pretty fast ! But I wear it as pj 's and at night !\", 'aspect': 'gray hoodie', 'polarity': 'Mixed', 'sentiment_t5': 'Neutral'}\n",
      "Review: It did run a little small . I bought a larger size- glad I did . Great shoe . Well made .\n",
      "        Aspect: shoe\n",
      "        Predict the sentiment for mentioned aspect in the review. Assign one of the following sentiment to the aspect: Positive , Negative , Neutral.\n",
      "        Please provide the sentiment only. No any explanation or extra text\n"
     ]
    },
    {
     "name": "stderr",
     "output_type": "stream",
     "text": [
      "C:\\Users\\Nimra\\AppData\\Local\\Temp\\ipykernel_16236\\2877642716.py:27: FutureWarning: The frame.append method is deprecated and will be removed from pandas in a future version. Use pandas.concat instead.\n",
      "  temp = temp.append(data_to_append, ignore_index=True)\n",
      "c:\\Users\\Nimra\\AppData\\Local\\Programs\\Python\\Python39\\lib\\site-packages\\transformers\\generation\\utils.py:1353: UserWarning: Using `max_length`'s default (20) to control the generation length. This behaviour is deprecated and will be removed from the config in v5 of Transformers -- we recommend using `max_new_tokens` to control the maximum length of the generation.\n",
      "  warnings.warn(\n"
     ]
    },
    {
     "name": "stdout",
     "output_type": "stream",
     "text": [
      "{'dataset_name': 'dotsa/new_Clothing_test', 'sentence': 'It did run a little small . I bought a larger size- glad I did . Great shoe . Well made .', 'aspect': 'shoe', 'polarity': 'Mixed', 'sentiment_t5': 'Neutral'}\n",
      "Review: I love these tights , so soft and comfortable to dance in and true to size\n",
      "        Aspect: tights--size\n",
      "        Predict the sentiment for mentioned aspect in the review. Assign one of the following sentiment to the aspect: Positive , Negative , Neutral.\n",
      "        Please provide the sentiment only. No any explanation or extra text\n"
     ]
    },
    {
     "name": "stderr",
     "output_type": "stream",
     "text": [
      "C:\\Users\\Nimra\\AppData\\Local\\Temp\\ipykernel_16236\\2877642716.py:27: FutureWarning: The frame.append method is deprecated and will be removed from pandas in a future version. Use pandas.concat instead.\n",
      "  temp = temp.append(data_to_append, ignore_index=True)\n",
      "c:\\Users\\Nimra\\AppData\\Local\\Programs\\Python\\Python39\\lib\\site-packages\\transformers\\generation\\utils.py:1353: UserWarning: Using `max_length`'s default (20) to control the generation length. This behaviour is deprecated and will be removed from the config in v5 of Transformers -- we recommend using `max_new_tokens` to control the maximum length of the generation.\n",
      "  warnings.warn(\n"
     ]
    },
    {
     "name": "stdout",
     "output_type": "stream",
     "text": [
      "{'dataset_name': 'dotsa/new_Clothing_test', 'sentence': 'I love these tights , so soft and comfortable to dance in and true to size', 'aspect': 'tights--size', 'polarity': 'Positive', 'sentiment_t5': 'Positive'}\n",
      "Review: I love these tights , so soft and comfortable to dance in and true to size\n",
      "        Aspect:  tights\n",
      "        Predict the sentiment for mentioned aspect in the review. Assign one of the following sentiment to the aspect: Positive , Negative , Neutral.\n",
      "        Please provide the sentiment only. No any explanation or extra text\n"
     ]
    },
    {
     "name": "stderr",
     "output_type": "stream",
     "text": [
      "C:\\Users\\Nimra\\AppData\\Local\\Temp\\ipykernel_16236\\2877642716.py:27: FutureWarning: The frame.append method is deprecated and will be removed from pandas in a future version. Use pandas.concat instead.\n",
      "  temp = temp.append(data_to_append, ignore_index=True)\n",
      "c:\\Users\\Nimra\\AppData\\Local\\Programs\\Python\\Python39\\lib\\site-packages\\transformers\\generation\\utils.py:1353: UserWarning: Using `max_length`'s default (20) to control the generation length. This behaviour is deprecated and will be removed from the config in v5 of Transformers -- we recommend using `max_new_tokens` to control the maximum length of the generation.\n",
      "  warnings.warn(\n"
     ]
    },
    {
     "name": "stdout",
     "output_type": "stream",
     "text": [
      "{'dataset_name': 'dotsa/new_Clothing_test', 'sentence': 'I love these tights , so soft and comfortable to dance in and true to size', 'aspect': ' tights', 'polarity': ' Positive', 'sentiment_t5': 'Positive'}\n",
      "Review: IT 'S VERY HARD FOR ME TO FIND COMFORTABLE SHOES . I 'M A DIABETIC & HAVE ARTHRITIS IN THE TOPS OF MY FEET . THIS SHOE LOOKED GOOD SO ITHOUGHT I WOULD TRY IT . I 'M GLAD I DID ! I WOULD RECOMMEND THIS SHOETO ANYONE . GOOD PRICE\n",
      "        Aspect: shoeto\n",
      "        Predict the sentiment for mentioned aspect in the review. Assign one of the following sentiment to the aspect: Positive , Negative , Neutral.\n",
      "        Please provide the sentiment only. No any explanation or extra text\n"
     ]
    },
    {
     "name": "stderr",
     "output_type": "stream",
     "text": [
      "C:\\Users\\Nimra\\AppData\\Local\\Temp\\ipykernel_16236\\2877642716.py:27: FutureWarning: The frame.append method is deprecated and will be removed from pandas in a future version. Use pandas.concat instead.\n",
      "  temp = temp.append(data_to_append, ignore_index=True)\n",
      "c:\\Users\\Nimra\\AppData\\Local\\Programs\\Python\\Python39\\lib\\site-packages\\transformers\\generation\\utils.py:1353: UserWarning: Using `max_length`'s default (20) to control the generation length. This behaviour is deprecated and will be removed from the config in v5 of Transformers -- we recommend using `max_new_tokens` to control the maximum length of the generation.\n",
      "  warnings.warn(\n"
     ]
    },
    {
     "name": "stdout",
     "output_type": "stream",
     "text": [
      "{'dataset_name': 'dotsa/new_Clothing_test', 'sentence': \"IT 'S VERY HARD FOR ME TO FIND COMFORTABLE SHOES . I 'M A DIABETIC & HAVE ARTHRITIS IN THE TOPS OF MY FEET . THIS SHOE LOOKED GOOD SO ITHOUGHT I WOULD TRY IT . I 'M GLAD I DID ! I WOULD RECOMMEND THIS SHOETO ANYONE . GOOD PRICE\", 'aspect': 'SHOETO', 'polarity': 'Positive', 'sentiment_t5': 'Positive'}\n",
      "Review: IT 'S VERY HARD FOR ME TO FIND COMFORTABLE SHOES . I 'M A DIABETIC & HAVE ARTHRITIS IN THE TOPS OF MY FEET . THIS SHOE LOOKED GOOD SO ITHOUGHT I WOULD TRY IT . I 'M GLAD I DID ! I WOULD RECOMMEND THIS SHOETO ANYONE . GOOD PRICE\n",
      "        Aspect:  shoeto--price\n",
      "        Predict the sentiment for mentioned aspect in the review. Assign one of the following sentiment to the aspect: Positive , Negative , Neutral.\n",
      "        Please provide the sentiment only. No any explanation or extra text\n"
     ]
    },
    {
     "name": "stderr",
     "output_type": "stream",
     "text": [
      "C:\\Users\\Nimra\\AppData\\Local\\Temp\\ipykernel_16236\\2877642716.py:27: FutureWarning: The frame.append method is deprecated and will be removed from pandas in a future version. Use pandas.concat instead.\n",
      "  temp = temp.append(data_to_append, ignore_index=True)\n",
      "c:\\Users\\Nimra\\AppData\\Local\\Programs\\Python\\Python39\\lib\\site-packages\\transformers\\generation\\utils.py:1353: UserWarning: Using `max_length`'s default (20) to control the generation length. This behaviour is deprecated and will be removed from the config in v5 of Transformers -- we recommend using `max_new_tokens` to control the maximum length of the generation.\n",
      "  warnings.warn(\n"
     ]
    },
    {
     "name": "stdout",
     "output_type": "stream",
     "text": [
      "{'dataset_name': 'dotsa/new_Clothing_test', 'sentence': \"IT 'S VERY HARD FOR ME TO FIND COMFORTABLE SHOES . I 'M A DIABETIC & HAVE ARTHRITIS IN THE TOPS OF MY FEET . THIS SHOE LOOKED GOOD SO ITHOUGHT I WOULD TRY IT . I 'M GLAD I DID ! I WOULD RECOMMEND THIS SHOETO ANYONE . GOOD PRICE\", 'aspect': ' SHOETO--PRICE', 'polarity': ' Positive', 'sentiment_t5': 'Positive'}\n",
      "Review: lovely summer sandals . smart and comfortable .\n",
      "        Aspect: sandals\n",
      "        Predict the sentiment for mentioned aspect in the review. Assign one of the following sentiment to the aspect: Positive , Negative , Neutral.\n",
      "        Please provide the sentiment only. No any explanation or extra text\n"
     ]
    },
    {
     "name": "stderr",
     "output_type": "stream",
     "text": [
      "C:\\Users\\Nimra\\AppData\\Local\\Temp\\ipykernel_16236\\2877642716.py:27: FutureWarning: The frame.append method is deprecated and will be removed from pandas in a future version. Use pandas.concat instead.\n",
      "  temp = temp.append(data_to_append, ignore_index=True)\n",
      "c:\\Users\\Nimra\\AppData\\Local\\Programs\\Python\\Python39\\lib\\site-packages\\transformers\\generation\\utils.py:1353: UserWarning: Using `max_length`'s default (20) to control the generation length. This behaviour is deprecated and will be removed from the config in v5 of Transformers -- we recommend using `max_new_tokens` to control the maximum length of the generation.\n",
      "  warnings.warn(\n"
     ]
    },
    {
     "name": "stdout",
     "output_type": "stream",
     "text": [
      "{'dataset_name': 'dotsa/new_Clothing_test', 'sentence': 'lovely summer sandals . smart and comfortable .', 'aspect': 'sandals', 'polarity': 'Positive', 'sentiment_t5': 'Positive'}\n",
      "Review: This tight are perfect , fits perfect , cover my legs beautiful\n",
      "        Aspect: tight\n",
      "        Predict the sentiment for mentioned aspect in the review. Assign one of the following sentiment to the aspect: Positive , Negative , Neutral.\n",
      "        Please provide the sentiment only. No any explanation or extra text\n"
     ]
    },
    {
     "name": "stderr",
     "output_type": "stream",
     "text": [
      "C:\\Users\\Nimra\\AppData\\Local\\Temp\\ipykernel_16236\\2877642716.py:27: FutureWarning: The frame.append method is deprecated and will be removed from pandas in a future version. Use pandas.concat instead.\n",
      "  temp = temp.append(data_to_append, ignore_index=True)\n",
      "c:\\Users\\Nimra\\AppData\\Local\\Programs\\Python\\Python39\\lib\\site-packages\\transformers\\generation\\utils.py:1353: UserWarning: Using `max_length`'s default (20) to control the generation length. This behaviour is deprecated and will be removed from the config in v5 of Transformers -- we recommend using `max_new_tokens` to control the maximum length of the generation.\n",
      "  warnings.warn(\n"
     ]
    },
    {
     "name": "stdout",
     "output_type": "stream",
     "text": [
      "{'dataset_name': 'dotsa/new_Clothing_test', 'sentence': 'This tight are perfect , fits perfect , cover my legs beautiful', 'aspect': 'tight', 'polarity': 'Positive', 'sentiment_t5': 'Positive'}\n",
      "Review: Great quality black opaque tights with a hint if shimmer and very good stretchability . The waist band is wider and stretches higher to keep from rolling down . I am 5\\'11 and I ordered a size D which fit easily , comfortably and with no wrinkles or excess material . I probably could have ordered a C but I wanted a more opaque color and did not want to overstretch the material .\n",
      "        Aspect: tights--waist band\n",
      "        Predict the sentiment for mentioned aspect in the review. Assign one of the following sentiment to the aspect: Positive , Negative , Neutral.\n",
      "        Please provide the sentiment only. No any explanation or extra text\n"
     ]
    },
    {
     "name": "stderr",
     "output_type": "stream",
     "text": [
      "C:\\Users\\Nimra\\AppData\\Local\\Temp\\ipykernel_16236\\2877642716.py:27: FutureWarning: The frame.append method is deprecated and will be removed from pandas in a future version. Use pandas.concat instead.\n",
      "  temp = temp.append(data_to_append, ignore_index=True)\n",
      "c:\\Users\\Nimra\\AppData\\Local\\Programs\\Python\\Python39\\lib\\site-packages\\transformers\\generation\\utils.py:1353: UserWarning: Using `max_length`'s default (20) to control the generation length. This behaviour is deprecated and will be removed from the config in v5 of Transformers -- we recommend using `max_new_tokens` to control the maximum length of the generation.\n",
      "  warnings.warn(\n"
     ]
    },
    {
     "name": "stdout",
     "output_type": "stream",
     "text": [
      "{'dataset_name': 'dotsa/new_Clothing_test', 'sentence': \"Great quality black opaque tights with a hint if shimmer and very good stretchability . The waist band is wider and stretches higher to keep from rolling down . I am 5\\\\'11 and I ordered a size D which fit easily , comfortably and with no wrinkles or excess material . I probably could have ordered a C but I wanted a more opaque color and did not want to overstretch the material .\", 'aspect': 'tights--waist band', 'polarity': 'Positive', 'sentiment_t5': 'Positive'}\n",
      "Review: Great quality black opaque tights with a hint if shimmer and very good stretchability . The waist band is wider and stretches higher to keep from rolling down . I am 5\\'11 and I ordered a size D which fit easily , comfortably and with no wrinkles or excess material . I probably could have ordered a C but I wanted a more opaque color and did not want to overstretch the material .\n",
      "        Aspect:  tights--stretchability\n",
      "        Predict the sentiment for mentioned aspect in the review. Assign one of the following sentiment to the aspect: Positive , Negative , Neutral.\n",
      "        Please provide the sentiment only. No any explanation or extra text\n"
     ]
    },
    {
     "name": "stderr",
     "output_type": "stream",
     "text": [
      "C:\\Users\\Nimra\\AppData\\Local\\Temp\\ipykernel_16236\\2877642716.py:27: FutureWarning: The frame.append method is deprecated and will be removed from pandas in a future version. Use pandas.concat instead.\n",
      "  temp = temp.append(data_to_append, ignore_index=True)\n",
      "c:\\Users\\Nimra\\AppData\\Local\\Programs\\Python\\Python39\\lib\\site-packages\\transformers\\generation\\utils.py:1353: UserWarning: Using `max_length`'s default (20) to control the generation length. This behaviour is deprecated and will be removed from the config in v5 of Transformers -- we recommend using `max_new_tokens` to control the maximum length of the generation.\n",
      "  warnings.warn(\n"
     ]
    },
    {
     "name": "stdout",
     "output_type": "stream",
     "text": [
      "{'dataset_name': 'dotsa/new_Clothing_test', 'sentence': \"Great quality black opaque tights with a hint if shimmer and very good stretchability . The waist band is wider and stretches higher to keep from rolling down . I am 5\\\\'11 and I ordered a size D which fit easily , comfortably and with no wrinkles or excess material . I probably could have ordered a C but I wanted a more opaque color and did not want to overstretch the material .\", 'aspect': ' tights--stretchability', 'polarity': ' Positive', 'sentiment_t5': 'Positive'}\n",
      "Review: Great quality black opaque tights with a hint if shimmer and very good stretchability . The waist band is wider and stretches higher to keep from rolling down . I am 5\\'11 and I ordered a size D which fit easily , comfortably and with no wrinkles or excess material . I probably could have ordered a C but I wanted a more opaque color and did not want to overstretch the material .\n",
      "        Aspect:  tights--quality\n",
      "        Predict the sentiment for mentioned aspect in the review. Assign one of the following sentiment to the aspect: Positive , Negative , Neutral.\n",
      "        Please provide the sentiment only. No any explanation or extra text\n"
     ]
    },
    {
     "name": "stderr",
     "output_type": "stream",
     "text": [
      "C:\\Users\\Nimra\\AppData\\Local\\Temp\\ipykernel_16236\\2877642716.py:27: FutureWarning: The frame.append method is deprecated and will be removed from pandas in a future version. Use pandas.concat instead.\n",
      "  temp = temp.append(data_to_append, ignore_index=True)\n",
      "c:\\Users\\Nimra\\AppData\\Local\\Programs\\Python\\Python39\\lib\\site-packages\\transformers\\generation\\utils.py:1353: UserWarning: Using `max_length`'s default (20) to control the generation length. This behaviour is deprecated and will be removed from the config in v5 of Transformers -- we recommend using `max_new_tokens` to control the maximum length of the generation.\n",
      "  warnings.warn(\n"
     ]
    },
    {
     "name": "stdout",
     "output_type": "stream",
     "text": [
      "{'dataset_name': 'dotsa/new_Clothing_test', 'sentence': \"Great quality black opaque tights with a hint if shimmer and very good stretchability . The waist band is wider and stretches higher to keep from rolling down . I am 5\\\\'11 and I ordered a size D which fit easily , comfortably and with no wrinkles or excess material . I probably could have ordered a C but I wanted a more opaque color and did not want to overstretch the material .\", 'aspect': ' tights--quality', 'polarity': ' Positive', 'sentiment_t5': 'Positive'}\n",
      "Review: Purchased these to wear with a halloween costume this year . these shiny tights fit great and are well made .\n",
      "        Aspect: tights\n",
      "        Predict the sentiment for mentioned aspect in the review. Assign one of the following sentiment to the aspect: Positive , Negative , Neutral.\n",
      "        Please provide the sentiment only. No any explanation or extra text\n"
     ]
    },
    {
     "name": "stderr",
     "output_type": "stream",
     "text": [
      "C:\\Users\\Nimra\\AppData\\Local\\Temp\\ipykernel_16236\\2877642716.py:27: FutureWarning: The frame.append method is deprecated and will be removed from pandas in a future version. Use pandas.concat instead.\n",
      "  temp = temp.append(data_to_append, ignore_index=True)\n",
      "c:\\Users\\Nimra\\AppData\\Local\\Programs\\Python\\Python39\\lib\\site-packages\\transformers\\generation\\utils.py:1353: UserWarning: Using `max_length`'s default (20) to control the generation length. This behaviour is deprecated and will be removed from the config in v5 of Transformers -- we recommend using `max_new_tokens` to control the maximum length of the generation.\n",
      "  warnings.warn(\n"
     ]
    },
    {
     "name": "stdout",
     "output_type": "stream",
     "text": [
      "{'dataset_name': 'dotsa/new_Clothing_test', 'sentence': 'Purchased these to wear with a halloween costume this year . these shiny tights fit great and are well made .', 'aspect': 'tights', 'polarity': 'Positive', 'sentiment_t5': 'Positive'}\n",
      "Review: Love this sandal . Read several reviews , so I knew they might run on the narrow side . I ordered wide ( this is what I usually wear ) the fit is still a bit snug . I am sure theywill be OK after I break them in . Love the style and quality .\n",
      "        Aspect: theywill--quality\n",
      "        Predict the sentiment for mentioned aspect in the review. Assign one of the following sentiment to the aspect: Positive , Negative , Neutral.\n",
      "        Please provide the sentiment only. No any explanation or extra text\n"
     ]
    },
    {
     "name": "stderr",
     "output_type": "stream",
     "text": [
      "C:\\Users\\Nimra\\AppData\\Local\\Temp\\ipykernel_16236\\2877642716.py:27: FutureWarning: The frame.append method is deprecated and will be removed from pandas in a future version. Use pandas.concat instead.\n",
      "  temp = temp.append(data_to_append, ignore_index=True)\n",
      "c:\\Users\\Nimra\\AppData\\Local\\Programs\\Python\\Python39\\lib\\site-packages\\transformers\\generation\\utils.py:1353: UserWarning: Using `max_length`'s default (20) to control the generation length. This behaviour is deprecated and will be removed from the config in v5 of Transformers -- we recommend using `max_new_tokens` to control the maximum length of the generation.\n",
      "  warnings.warn(\n"
     ]
    },
    {
     "name": "stdout",
     "output_type": "stream",
     "text": [
      "{'dataset_name': 'dotsa/new_Clothing_test', 'sentence': 'Love this sandal . Read several reviews , so I knew they might run on the narrow side . I ordered wide ( this is what I usually wear ) the fit is still a bit snug . I am sure theywill be OK after I break them in . Love the style and quality .', 'aspect': 'theywill--quality', 'polarity': 'Positive', 'sentiment_t5': 'Positive'}\n",
      "Review: Love this sandal . Read several reviews , so I knew they might run on the narrow side . I ordered wide ( this is what I usually wear ) the fit is still a bit snug . I am sure theywill be OK after I break them in . Love the style and quality .\n",
      "        Aspect:  theywill--style\n",
      "        Predict the sentiment for mentioned aspect in the review. Assign one of the following sentiment to the aspect: Positive , Negative , Neutral.\n",
      "        Please provide the sentiment only. No any explanation or extra text\n"
     ]
    },
    {
     "name": "stderr",
     "output_type": "stream",
     "text": [
      "C:\\Users\\Nimra\\AppData\\Local\\Temp\\ipykernel_16236\\2877642716.py:27: FutureWarning: The frame.append method is deprecated and will be removed from pandas in a future version. Use pandas.concat instead.\n",
      "  temp = temp.append(data_to_append, ignore_index=True)\n",
      "c:\\Users\\Nimra\\AppData\\Local\\Programs\\Python\\Python39\\lib\\site-packages\\transformers\\generation\\utils.py:1353: UserWarning: Using `max_length`'s default (20) to control the generation length. This behaviour is deprecated and will be removed from the config in v5 of Transformers -- we recommend using `max_new_tokens` to control the maximum length of the generation.\n",
      "  warnings.warn(\n"
     ]
    },
    {
     "name": "stdout",
     "output_type": "stream",
     "text": [
      "{'dataset_name': 'dotsa/new_Clothing_test', 'sentence': 'Love this sandal . Read several reviews , so I knew they might run on the narrow side . I ordered wide ( this is what I usually wear ) the fit is still a bit snug . I am sure theywill be OK after I break them in . Love the style and quality .', 'aspect': ' theywill--style', 'polarity': ' Positive', 'sentiment_t5': 'Neutral'}\n",
      "Review: Love this sandal . Read several reviews , so I knew they might run on the narrow side . I ordered wide ( this is what I usually wear ) the fit is still a bit snug . I am sure theywill be OK after I break them in . Love the style and quality .\n",
      "        Aspect:  theywill\n",
      "        Predict the sentiment for mentioned aspect in the review. Assign one of the following sentiment to the aspect: Positive , Negative , Neutral.\n",
      "        Please provide the sentiment only. No any explanation or extra text\n"
     ]
    },
    {
     "name": "stderr",
     "output_type": "stream",
     "text": [
      "C:\\Users\\Nimra\\AppData\\Local\\Temp\\ipykernel_16236\\2877642716.py:27: FutureWarning: The frame.append method is deprecated and will be removed from pandas in a future version. Use pandas.concat instead.\n",
      "  temp = temp.append(data_to_append, ignore_index=True)\n",
      "c:\\Users\\Nimra\\AppData\\Local\\Programs\\Python\\Python39\\lib\\site-packages\\transformers\\generation\\utils.py:1353: UserWarning: Using `max_length`'s default (20) to control the generation length. This behaviour is deprecated and will be removed from the config in v5 of Transformers -- we recommend using `max_new_tokens` to control the maximum length of the generation.\n",
      "  warnings.warn(\n"
     ]
    },
    {
     "name": "stdout",
     "output_type": "stream",
     "text": [
      "{'dataset_name': 'dotsa/new_Clothing_test', 'sentence': 'Love this sandal . Read several reviews , so I knew they might run on the narrow side . I ordered wide ( this is what I usually wear ) the fit is still a bit snug . I am sure theywill be OK after I break them in . Love the style and quality .', 'aspect': ' theywill', 'polarity': ' Positive', 'sentiment_t5': 'Neutral'}\n",
      "Review: My daughter wears these three days a week for dance . Same two pairs worn August - January and still in good shape .\n",
      "        Aspect: shape\n",
      "        Predict the sentiment for mentioned aspect in the review. Assign one of the following sentiment to the aspect: Positive , Negative , Neutral.\n",
      "        Please provide the sentiment only. No any explanation or extra text\n"
     ]
    },
    {
     "name": "stderr",
     "output_type": "stream",
     "text": [
      "C:\\Users\\Nimra\\AppData\\Local\\Temp\\ipykernel_16236\\2877642716.py:27: FutureWarning: The frame.append method is deprecated and will be removed from pandas in a future version. Use pandas.concat instead.\n",
      "  temp = temp.append(data_to_append, ignore_index=True)\n",
      "c:\\Users\\Nimra\\AppData\\Local\\Programs\\Python\\Python39\\lib\\site-packages\\transformers\\generation\\utils.py:1353: UserWarning: Using `max_length`'s default (20) to control the generation length. This behaviour is deprecated and will be removed from the config in v5 of Transformers -- we recommend using `max_new_tokens` to control the maximum length of the generation.\n",
      "  warnings.warn(\n"
     ]
    },
    {
     "name": "stdout",
     "output_type": "stream",
     "text": [
      "{'dataset_name': 'dotsa/new_Clothing_test', 'sentence': 'My daughter wears these three days a week for dance . Same two pairs worn August - January and still in good shape .', 'aspect': 'shape', 'polarity': 'Positive', 'sentiment_t5': 'Positive'}\n",
      "Review: Nice soft shirt , no wrinkling !\n",
      "        Aspect: shirt\n",
      "        Predict the sentiment for mentioned aspect in the review. Assign one of the following sentiment to the aspect: Positive , Negative , Neutral.\n",
      "        Please provide the sentiment only. No any explanation or extra text\n"
     ]
    },
    {
     "name": "stderr",
     "output_type": "stream",
     "text": [
      "C:\\Users\\Nimra\\AppData\\Local\\Temp\\ipykernel_16236\\2877642716.py:27: FutureWarning: The frame.append method is deprecated and will be removed from pandas in a future version. Use pandas.concat instead.\n",
      "  temp = temp.append(data_to_append, ignore_index=True)\n",
      "c:\\Users\\Nimra\\AppData\\Local\\Programs\\Python\\Python39\\lib\\site-packages\\transformers\\generation\\utils.py:1353: UserWarning: Using `max_length`'s default (20) to control the generation length. This behaviour is deprecated and will be removed from the config in v5 of Transformers -- we recommend using `max_new_tokens` to control the maximum length of the generation.\n",
      "  warnings.warn(\n"
     ]
    },
    {
     "name": "stdout",
     "output_type": "stream",
     "text": [
      "{'dataset_name': 'dotsa/new_Clothing_test', 'sentence': 'Nice soft shirt , no wrinkling !', 'aspect': 'shirt', 'polarity': 'Positive', 'sentiment_t5': 'Positive'}\n",
      "Review: These shoes are quite comfortable . I walk about in them all day and my feet are fine , here 's the catch though , I have to break the back straps down . They rub my heels something awful . Other than that great shoes\n",
      "        Aspect: shoes\n",
      "        Predict the sentiment for mentioned aspect in the review. Assign one of the following sentiment to the aspect: Positive , Negative , Neutral.\n",
      "        Please provide the sentiment only. No any explanation or extra text\n"
     ]
    },
    {
     "name": "stderr",
     "output_type": "stream",
     "text": [
      "C:\\Users\\Nimra\\AppData\\Local\\Temp\\ipykernel_16236\\2877642716.py:27: FutureWarning: The frame.append method is deprecated and will be removed from pandas in a future version. Use pandas.concat instead.\n",
      "  temp = temp.append(data_to_append, ignore_index=True)\n",
      "c:\\Users\\Nimra\\AppData\\Local\\Programs\\Python\\Python39\\lib\\site-packages\\transformers\\generation\\utils.py:1353: UserWarning: Using `max_length`'s default (20) to control the generation length. This behaviour is deprecated and will be removed from the config in v5 of Transformers -- we recommend using `max_new_tokens` to control the maximum length of the generation.\n",
      "  warnings.warn(\n"
     ]
    },
    {
     "name": "stdout",
     "output_type": "stream",
     "text": [
      "{'dataset_name': 'dotsa/new_Clothing_test', 'sentence': \"These shoes are quite comfortable . I walk about in them all day and my feet are fine , here 's the catch though , I have to break the back straps down . They rub my heels something awful . Other than that great shoes\", 'aspect': 'shoes', 'polarity': 'Mixed', 'sentiment_t5': 'Positive'}\n",
      "Review: It fits me perfect ( I\\ 'm 6\\ ' 1 , 250lbs ) and is warm but not too warm . Hood isn\\'t too big and the front pouch pocket is nice .\n",
      "        Aspect: front pouch pocket\n",
      "        Predict the sentiment for mentioned aspect in the review. Assign one of the following sentiment to the aspect: Positive , Negative , Neutral.\n",
      "        Please provide the sentiment only. No any explanation or extra text\n"
     ]
    },
    {
     "name": "stderr",
     "output_type": "stream",
     "text": [
      "C:\\Users\\Nimra\\AppData\\Local\\Temp\\ipykernel_16236\\2877642716.py:27: FutureWarning: The frame.append method is deprecated and will be removed from pandas in a future version. Use pandas.concat instead.\n",
      "  temp = temp.append(data_to_append, ignore_index=True)\n",
      "c:\\Users\\Nimra\\AppData\\Local\\Programs\\Python\\Python39\\lib\\site-packages\\transformers\\generation\\utils.py:1353: UserWarning: Using `max_length`'s default (20) to control the generation length. This behaviour is deprecated and will be removed from the config in v5 of Transformers -- we recommend using `max_new_tokens` to control the maximum length of the generation.\n",
      "  warnings.warn(\n"
     ]
    },
    {
     "name": "stdout",
     "output_type": "stream",
     "text": [
      "{'dataset_name': 'dotsa/new_Clothing_test', 'sentence': \"It fits me perfect ( I\\\\ 'm 6\\\\ ' 1 , 250lbs ) and is warm but not too warm . Hood isn\\\\'t too big and the front pouch pocket is nice .\", 'aspect': 'front pouch pocket', 'polarity': 'Positive', 'sentiment_t5': 'Positive'}\n",
      "Review: It fits me perfect ( I\\ 'm 6\\ ' 1 , 250lbs ) and is warm but not too warm . Hood isn\\'t too big and the front pouch pocket is nice .\n",
      "        Aspect:  hood\n",
      "        Predict the sentiment for mentioned aspect in the review. Assign one of the following sentiment to the aspect: Positive , Negative , Neutral.\n",
      "        Please provide the sentiment only. No any explanation or extra text\n"
     ]
    },
    {
     "name": "stderr",
     "output_type": "stream",
     "text": [
      "C:\\Users\\Nimra\\AppData\\Local\\Temp\\ipykernel_16236\\2877642716.py:27: FutureWarning: The frame.append method is deprecated and will be removed from pandas in a future version. Use pandas.concat instead.\n",
      "  temp = temp.append(data_to_append, ignore_index=True)\n",
      "c:\\Users\\Nimra\\AppData\\Local\\Programs\\Python\\Python39\\lib\\site-packages\\transformers\\generation\\utils.py:1353: UserWarning: Using `max_length`'s default (20) to control the generation length. This behaviour is deprecated and will be removed from the config in v5 of Transformers -- we recommend using `max_new_tokens` to control the maximum length of the generation.\n",
      "  warnings.warn(\n"
     ]
    },
    {
     "name": "stdout",
     "output_type": "stream",
     "text": [
      "{'dataset_name': 'dotsa/new_Clothing_test', 'sentence': \"It fits me perfect ( I\\\\ 'm 6\\\\ ' 1 , 250lbs ) and is warm but not too warm . Hood isn\\\\'t too big and the front pouch pocket is nice .\", 'aspect': ' Hood', 'polarity': ' Positive', 'sentiment_t5': 'Neutral'}\n",
      "Review: It fits me perfect ( I\\ 'm 6\\ ' 1 , 250lbs ) and is warm but not too warm . Hood isn\\'t too big and the front pouch pocket is nice .\n",
      "        Aspect:  it\n",
      "        Predict the sentiment for mentioned aspect in the review. Assign one of the following sentiment to the aspect: Positive , Negative , Neutral.\n",
      "        Please provide the sentiment only. No any explanation or extra text\n"
     ]
    },
    {
     "name": "stderr",
     "output_type": "stream",
     "text": [
      "C:\\Users\\Nimra\\AppData\\Local\\Temp\\ipykernel_16236\\2877642716.py:27: FutureWarning: The frame.append method is deprecated and will be removed from pandas in a future version. Use pandas.concat instead.\n",
      "  temp = temp.append(data_to_append, ignore_index=True)\n",
      "c:\\Users\\Nimra\\AppData\\Local\\Programs\\Python\\Python39\\lib\\site-packages\\transformers\\generation\\utils.py:1353: UserWarning: Using `max_length`'s default (20) to control the generation length. This behaviour is deprecated and will be removed from the config in v5 of Transformers -- we recommend using `max_new_tokens` to control the maximum length of the generation.\n",
      "  warnings.warn(\n"
     ]
    },
    {
     "name": "stdout",
     "output_type": "stream",
     "text": [
      "{'dataset_name': 'dotsa/new_Clothing_test', 'sentence': \"It fits me perfect ( I\\\\ 'm 6\\\\ ' 1 , 250lbs ) and is warm but not too warm . Hood isn\\\\'t too big and the front pouch pocket is nice .\", 'aspect': ' It', 'polarity': ' Positive', 'sentiment_t5': 'Positive'}\n",
      "Review: This item is very soft and thick . It is very stretchy and quality is high as others have mentioned . It is also opened toe as described . If you are dark tan skin color , but does not want black color , suntan color would be your best option . Light suntan , the color I bought , is quite light for dark tan or brown skin color .\n",
      "        Aspect: item--light suntan\n",
      "        Predict the sentiment for mentioned aspect in the review. Assign one of the following sentiment to the aspect: Positive , Negative , Neutral.\n",
      "        Please provide the sentiment only. No any explanation or extra text\n"
     ]
    },
    {
     "name": "stderr",
     "output_type": "stream",
     "text": [
      "C:\\Users\\Nimra\\AppData\\Local\\Temp\\ipykernel_16236\\2877642716.py:27: FutureWarning: The frame.append method is deprecated and will be removed from pandas in a future version. Use pandas.concat instead.\n",
      "  temp = temp.append(data_to_append, ignore_index=True)\n",
      "c:\\Users\\Nimra\\AppData\\Local\\Programs\\Python\\Python39\\lib\\site-packages\\transformers\\generation\\utils.py:1353: UserWarning: Using `max_length`'s default (20) to control the generation length. This behaviour is deprecated and will be removed from the config in v5 of Transformers -- we recommend using `max_new_tokens` to control the maximum length of the generation.\n",
      "  warnings.warn(\n"
     ]
    },
    {
     "name": "stdout",
     "output_type": "stream",
     "text": [
      "{'dataset_name': 'dotsa/new_Clothing_test', 'sentence': 'This item is very soft and thick . It is very stretchy and quality is high as others have mentioned . It is also opened toe as described . If you are dark tan skin color , but does not want black color , suntan color would be your best option . Light suntan , the color I bought , is quite light for dark tan or brown skin color .', 'aspect': 'item--Light suntan', 'polarity': 'Negative', 'sentiment_t5': 'Neutral'}\n",
      "Review: This item is very soft and thick . It is very stretchy and quality is high as others have mentioned . It is also opened toe as described . If you are dark tan skin color , but does not want black color , suntan color would be your best option . Light suntan , the color I bought , is quite light for dark tan or brown skin color .\n",
      "        Aspect:  item--quality\n",
      "        Predict the sentiment for mentioned aspect in the review. Assign one of the following sentiment to the aspect: Positive , Negative , Neutral.\n",
      "        Please provide the sentiment only. No any explanation or extra text\n"
     ]
    },
    {
     "name": "stderr",
     "output_type": "stream",
     "text": [
      "C:\\Users\\Nimra\\AppData\\Local\\Temp\\ipykernel_16236\\2877642716.py:27: FutureWarning: The frame.append method is deprecated and will be removed from pandas in a future version. Use pandas.concat instead.\n",
      "  temp = temp.append(data_to_append, ignore_index=True)\n",
      "c:\\Users\\Nimra\\AppData\\Local\\Programs\\Python\\Python39\\lib\\site-packages\\transformers\\generation\\utils.py:1353: UserWarning: Using `max_length`'s default (20) to control the generation length. This behaviour is deprecated and will be removed from the config in v5 of Transformers -- we recommend using `max_new_tokens` to control the maximum length of the generation.\n",
      "  warnings.warn(\n"
     ]
    },
    {
     "name": "stdout",
     "output_type": "stream",
     "text": [
      "{'dataset_name': 'dotsa/new_Clothing_test', 'sentence': 'This item is very soft and thick . It is very stretchy and quality is high as others have mentioned . It is also opened toe as described . If you are dark tan skin color , but does not want black color , suntan color would be your best option . Light suntan , the color I bought , is quite light for dark tan or brown skin color .', 'aspect': ' item--quality', 'polarity': ' Positive', 'sentiment_t5': 'Positive'}\n",
      "Review: This item is very soft and thick . It is very stretchy and quality is high as others have mentioned . It is also opened toe as described . If you are dark tan skin color , but does not want black color , suntan color would be your best option . Light suntan , the color I bought , is quite light for dark tan or brown skin color .\n",
      "        Aspect:  item\n",
      "        Predict the sentiment for mentioned aspect in the review. Assign one of the following sentiment to the aspect: Positive , Negative , Neutral.\n",
      "        Please provide the sentiment only. No any explanation or extra text\n"
     ]
    },
    {
     "name": "stderr",
     "output_type": "stream",
     "text": [
      "C:\\Users\\Nimra\\AppData\\Local\\Temp\\ipykernel_16236\\2877642716.py:27: FutureWarning: The frame.append method is deprecated and will be removed from pandas in a future version. Use pandas.concat instead.\n",
      "  temp = temp.append(data_to_append, ignore_index=True)\n",
      "c:\\Users\\Nimra\\AppData\\Local\\Programs\\Python\\Python39\\lib\\site-packages\\transformers\\generation\\utils.py:1353: UserWarning: Using `max_length`'s default (20) to control the generation length. This behaviour is deprecated and will be removed from the config in v5 of Transformers -- we recommend using `max_new_tokens` to control the maximum length of the generation.\n",
      "  warnings.warn(\n"
     ]
    },
    {
     "name": "stdout",
     "output_type": "stream",
     "text": [
      "{'dataset_name': 'dotsa/new_Clothing_test', 'sentence': 'This item is very soft and thick . It is very stretchy and quality is high as others have mentioned . It is also opened toe as described . If you are dark tan skin color , but does not want black color , suntan color would be your best option . Light suntan , the color I bought , is quite light for dark tan or brown skin color .', 'aspect': ' item', 'polarity': ' Mixed', 'sentiment_t5': 'Positive'}\n",
      "Review: This item is very soft and thick . It is very stretchy and quality is high as others have mentioned . It is also opened toe as described . If you are dark tan skin color , but does not want black color , suntan color would be your best option . Light suntan , the color I bought , is quite light for dark tan or brown skin color .\n",
      "        Aspect:  item--suntan color\n",
      "        Predict the sentiment for mentioned aspect in the review. Assign one of the following sentiment to the aspect: Positive , Negative , Neutral.\n",
      "        Please provide the sentiment only. No any explanation or extra text\n"
     ]
    },
    {
     "name": "stderr",
     "output_type": "stream",
     "text": [
      "C:\\Users\\Nimra\\AppData\\Local\\Temp\\ipykernel_16236\\2877642716.py:27: FutureWarning: The frame.append method is deprecated and will be removed from pandas in a future version. Use pandas.concat instead.\n",
      "  temp = temp.append(data_to_append, ignore_index=True)\n",
      "c:\\Users\\Nimra\\AppData\\Local\\Programs\\Python\\Python39\\lib\\site-packages\\transformers\\generation\\utils.py:1353: UserWarning: Using `max_length`'s default (20) to control the generation length. This behaviour is deprecated and will be removed from the config in v5 of Transformers -- we recommend using `max_new_tokens` to control the maximum length of the generation.\n",
      "  warnings.warn(\n"
     ]
    },
    {
     "name": "stdout",
     "output_type": "stream",
     "text": [
      "{'dataset_name': 'dotsa/new_Clothing_test', 'sentence': 'This item is very soft and thick . It is very stretchy and quality is high as others have mentioned . It is also opened toe as described . If you are dark tan skin color , but does not want black color , suntan color would be your best option . Light suntan , the color I bought , is quite light for dark tan or brown skin color .', 'aspect': ' item--suntan color', 'polarity': ' Positive', 'sentiment_t5': 'Neutral'}\n",
      "Review: I really enjoy my shoes , use them for Salsa and West Coast/East Coast swing . Easier for me to make my turns .\n",
      "        Aspect: shoes\n",
      "        Predict the sentiment for mentioned aspect in the review. Assign one of the following sentiment to the aspect: Positive , Negative , Neutral.\n",
      "        Please provide the sentiment only. No any explanation or extra text\n"
     ]
    },
    {
     "name": "stderr",
     "output_type": "stream",
     "text": [
      "C:\\Users\\Nimra\\AppData\\Local\\Temp\\ipykernel_16236\\2877642716.py:27: FutureWarning: The frame.append method is deprecated and will be removed from pandas in a future version. Use pandas.concat instead.\n",
      "  temp = temp.append(data_to_append, ignore_index=True)\n",
      "c:\\Users\\Nimra\\AppData\\Local\\Programs\\Python\\Python39\\lib\\site-packages\\transformers\\generation\\utils.py:1353: UserWarning: Using `max_length`'s default (20) to control the generation length. This behaviour is deprecated and will be removed from the config in v5 of Transformers -- we recommend using `max_new_tokens` to control the maximum length of the generation.\n",
      "  warnings.warn(\n"
     ]
    },
    {
     "name": "stdout",
     "output_type": "stream",
     "text": [
      "{'dataset_name': 'dotsa/new_Clothing_test', 'sentence': 'I really enjoy my shoes , use them for Salsa and West Coast/East Coast swing . Easier for me to make my turns .', 'aspect': 'shoes', 'polarity': 'Positive', 'sentiment_t5': 'Positive'}\n",
      "Review: These are the perfect shoes for my daughter to wear on stage . They do n't hurt her feet and she loves the heal height .\n",
      "        Aspect: shoes\n",
      "        Predict the sentiment for mentioned aspect in the review. Assign one of the following sentiment to the aspect: Positive , Negative , Neutral.\n",
      "        Please provide the sentiment only. No any explanation or extra text\n"
     ]
    },
    {
     "name": "stderr",
     "output_type": "stream",
     "text": [
      "C:\\Users\\Nimra\\AppData\\Local\\Temp\\ipykernel_16236\\2877642716.py:27: FutureWarning: The frame.append method is deprecated and will be removed from pandas in a future version. Use pandas.concat instead.\n",
      "  temp = temp.append(data_to_append, ignore_index=True)\n",
      "c:\\Users\\Nimra\\AppData\\Local\\Programs\\Python\\Python39\\lib\\site-packages\\transformers\\generation\\utils.py:1353: UserWarning: Using `max_length`'s default (20) to control the generation length. This behaviour is deprecated and will be removed from the config in v5 of Transformers -- we recommend using `max_new_tokens` to control the maximum length of the generation.\n",
      "  warnings.warn(\n"
     ]
    },
    {
     "name": "stdout",
     "output_type": "stream",
     "text": [
      "{'dataset_name': 'dotsa/new_Clothing_test', 'sentence': \"These are the perfect shoes for my daughter to wear on stage . They do n't hurt her feet and she loves the heal height .\", 'aspect': 'shoes', 'polarity': 'Positive', 'sentiment_t5': 'Positive'}\n",
      "Review: These are the perfect shoes for my daughter to wear on stage . They do n't hurt her feet and she loves the heal height .\n",
      "        Aspect:  heal height\n",
      "        Predict the sentiment for mentioned aspect in the review. Assign one of the following sentiment to the aspect: Positive , Negative , Neutral.\n",
      "        Please provide the sentiment only. No any explanation or extra text\n"
     ]
    },
    {
     "name": "stderr",
     "output_type": "stream",
     "text": [
      "C:\\Users\\Nimra\\AppData\\Local\\Temp\\ipykernel_16236\\2877642716.py:27: FutureWarning: The frame.append method is deprecated and will be removed from pandas in a future version. Use pandas.concat instead.\n",
      "  temp = temp.append(data_to_append, ignore_index=True)\n",
      "c:\\Users\\Nimra\\AppData\\Local\\Programs\\Python\\Python39\\lib\\site-packages\\transformers\\generation\\utils.py:1353: UserWarning: Using `max_length`'s default (20) to control the generation length. This behaviour is deprecated and will be removed from the config in v5 of Transformers -- we recommend using `max_new_tokens` to control the maximum length of the generation.\n",
      "  warnings.warn(\n"
     ]
    },
    {
     "name": "stdout",
     "output_type": "stream",
     "text": [
      "{'dataset_name': 'dotsa/new_Clothing_test', 'sentence': \"These are the perfect shoes for my daughter to wear on stage . They do n't hurt her feet and she loves the heal height .\", 'aspect': ' heal height', 'polarity': ' Positive', 'sentiment_t5': 'Positive'}\n",
      "Review: These shoes fit well I guess they 're not quite a dressy looking in person as I would have liked . I still think they 're nice shoes but a bit fake looking ,\n",
      "        Aspect: shoes\n",
      "        Predict the sentiment for mentioned aspect in the review. Assign one of the following sentiment to the aspect: Positive , Negative , Neutral.\n",
      "        Please provide the sentiment only. No any explanation or extra text\n"
     ]
    },
    {
     "name": "stderr",
     "output_type": "stream",
     "text": [
      "C:\\Users\\Nimra\\AppData\\Local\\Temp\\ipykernel_16236\\2877642716.py:27: FutureWarning: The frame.append method is deprecated and will be removed from pandas in a future version. Use pandas.concat instead.\n",
      "  temp = temp.append(data_to_append, ignore_index=True)\n",
      "c:\\Users\\Nimra\\AppData\\Local\\Programs\\Python\\Python39\\lib\\site-packages\\transformers\\generation\\utils.py:1353: UserWarning: Using `max_length`'s default (20) to control the generation length. This behaviour is deprecated and will be removed from the config in v5 of Transformers -- we recommend using `max_new_tokens` to control the maximum length of the generation.\n",
      "  warnings.warn(\n"
     ]
    },
    {
     "name": "stdout",
     "output_type": "stream",
     "text": [
      "{'dataset_name': 'dotsa/new_Clothing_test', 'sentence': \"These shoes fit well I guess they 're not quite a dressy looking in person as I would have liked . I still think they 're nice shoes but a bit fake looking ,\", 'aspect': 'shoes', 'polarity': 'Mixed', 'sentiment_t5': 'Neutral'}\n",
      "Review: I love these sandals and am unhappy that they are discontinued . If there are any out there in size 8 give me an email !\n",
      "        Aspect: sandals\n",
      "        Predict the sentiment for mentioned aspect in the review. Assign one of the following sentiment to the aspect: Positive , Negative , Neutral.\n",
      "        Please provide the sentiment only. No any explanation or extra text\n"
     ]
    },
    {
     "name": "stderr",
     "output_type": "stream",
     "text": [
      "C:\\Users\\Nimra\\AppData\\Local\\Temp\\ipykernel_16236\\2877642716.py:27: FutureWarning: The frame.append method is deprecated and will be removed from pandas in a future version. Use pandas.concat instead.\n",
      "  temp = temp.append(data_to_append, ignore_index=True)\n",
      "c:\\Users\\Nimra\\AppData\\Local\\Programs\\Python\\Python39\\lib\\site-packages\\transformers\\generation\\utils.py:1353: UserWarning: Using `max_length`'s default (20) to control the generation length. This behaviour is deprecated and will be removed from the config in v5 of Transformers -- we recommend using `max_new_tokens` to control the maximum length of the generation.\n",
      "  warnings.warn(\n"
     ]
    },
    {
     "name": "stdout",
     "output_type": "stream",
     "text": [
      "{'dataset_name': 'dotsa/new_Clothing_test', 'sentence': 'I love these sandals and am unhappy that they are discontinued . If there are any out there in size 8 give me an email !', 'aspect': 'sandals', 'polarity': 'Positive', 'sentiment_t5': 'Negative'}\n",
      "Review: Perfect shoe for my 14 year old theater bug . Leather will conform to her foot in no time !\n",
      "        Aspect: shoe--leather\n",
      "        Predict the sentiment for mentioned aspect in the review. Assign one of the following sentiment to the aspect: Positive , Negative , Neutral.\n",
      "        Please provide the sentiment only. No any explanation or extra text\n"
     ]
    },
    {
     "name": "stderr",
     "output_type": "stream",
     "text": [
      "C:\\Users\\Nimra\\AppData\\Local\\Temp\\ipykernel_16236\\2877642716.py:27: FutureWarning: The frame.append method is deprecated and will be removed from pandas in a future version. Use pandas.concat instead.\n",
      "  temp = temp.append(data_to_append, ignore_index=True)\n",
      "c:\\Users\\Nimra\\AppData\\Local\\Programs\\Python\\Python39\\lib\\site-packages\\transformers\\generation\\utils.py:1353: UserWarning: Using `max_length`'s default (20) to control the generation length. This behaviour is deprecated and will be removed from the config in v5 of Transformers -- we recommend using `max_new_tokens` to control the maximum length of the generation.\n",
      "  warnings.warn(\n"
     ]
    },
    {
     "name": "stdout",
     "output_type": "stream",
     "text": [
      "{'dataset_name': 'dotsa/new_Clothing_test', 'sentence': 'Perfect shoe for my 14 year old theater bug . Leather will conform to her foot in no time !', 'aspect': 'shoe--Leather', 'polarity': 'Positive', 'sentiment_t5': 'Positive'}\n",
      "Review: Perfect shoe for my 14 year old theater bug . Leather will conform to her foot in no time !\n",
      "        Aspect:  shoe\n",
      "        Predict the sentiment for mentioned aspect in the review. Assign one of the following sentiment to the aspect: Positive , Negative , Neutral.\n",
      "        Please provide the sentiment only. No any explanation or extra text\n"
     ]
    },
    {
     "name": "stderr",
     "output_type": "stream",
     "text": [
      "C:\\Users\\Nimra\\AppData\\Local\\Temp\\ipykernel_16236\\2877642716.py:27: FutureWarning: The frame.append method is deprecated and will be removed from pandas in a future version. Use pandas.concat instead.\n",
      "  temp = temp.append(data_to_append, ignore_index=True)\n",
      "c:\\Users\\Nimra\\AppData\\Local\\Programs\\Python\\Python39\\lib\\site-packages\\transformers\\generation\\utils.py:1353: UserWarning: Using `max_length`'s default (20) to control the generation length. This behaviour is deprecated and will be removed from the config in v5 of Transformers -- we recommend using `max_new_tokens` to control the maximum length of the generation.\n",
      "  warnings.warn(\n"
     ]
    },
    {
     "name": "stdout",
     "output_type": "stream",
     "text": [
      "{'dataset_name': 'dotsa/new_Clothing_test', 'sentence': 'Perfect shoe for my 14 year old theater bug . Leather will conform to her foot in no time !', 'aspect': ' shoe', 'polarity': ' Positive', 'sentiment_t5': 'Positive'}\n",
      "Review: 4th pair , excellant quality , more to come .\n",
      "        Aspect: quality\n",
      "        Predict the sentiment for mentioned aspect in the review. Assign one of the following sentiment to the aspect: Positive , Negative , Neutral.\n",
      "        Please provide the sentiment only. No any explanation or extra text\n"
     ]
    },
    {
     "name": "stderr",
     "output_type": "stream",
     "text": [
      "C:\\Users\\Nimra\\AppData\\Local\\Temp\\ipykernel_16236\\2877642716.py:27: FutureWarning: The frame.append method is deprecated and will be removed from pandas in a future version. Use pandas.concat instead.\n",
      "  temp = temp.append(data_to_append, ignore_index=True)\n",
      "c:\\Users\\Nimra\\AppData\\Local\\Programs\\Python\\Python39\\lib\\site-packages\\transformers\\generation\\utils.py:1353: UserWarning: Using `max_length`'s default (20) to control the generation length. This behaviour is deprecated and will be removed from the config in v5 of Transformers -- we recommend using `max_new_tokens` to control the maximum length of the generation.\n",
      "  warnings.warn(\n"
     ]
    },
    {
     "name": "stdout",
     "output_type": "stream",
     "text": [
      "{'dataset_name': 'dotsa/new_Clothing_test', 'sentence': '4th pair , excellant quality , more to come .', 'aspect': 'quality', 'polarity': 'Positive', 'sentiment_t5': 'Positive'}\n",
      "Review: Disappointing . Both toes ran in the same spot the first time I wore them . Now they are just practice tights . For the price and brand I expect more .\n",
      "        Aspect: practice tights\n",
      "        Predict the sentiment for mentioned aspect in the review. Assign one of the following sentiment to the aspect: Positive , Negative , Neutral.\n",
      "        Please provide the sentiment only. No any explanation or extra text\n"
     ]
    },
    {
     "name": "stderr",
     "output_type": "stream",
     "text": [
      "C:\\Users\\Nimra\\AppData\\Local\\Temp\\ipykernel_16236\\2877642716.py:27: FutureWarning: The frame.append method is deprecated and will be removed from pandas in a future version. Use pandas.concat instead.\n",
      "  temp = temp.append(data_to_append, ignore_index=True)\n",
      "c:\\Users\\Nimra\\AppData\\Local\\Programs\\Python\\Python39\\lib\\site-packages\\transformers\\generation\\utils.py:1353: UserWarning: Using `max_length`'s default (20) to control the generation length. This behaviour is deprecated and will be removed from the config in v5 of Transformers -- we recommend using `max_new_tokens` to control the maximum length of the generation.\n",
      "  warnings.warn(\n"
     ]
    },
    {
     "name": "stdout",
     "output_type": "stream",
     "text": [
      "{'dataset_name': 'dotsa/new_Clothing_test', 'sentence': 'Disappointing . Both toes ran in the same spot the first time I wore them . Now they are just practice tights . For the price and brand I expect more .', 'aspect': 'practice tights', 'polarity': 'Negative', 'sentiment_t5': 'Negative'}\n",
      "Review: Disappointing . Both toes ran in the same spot the first time I wore them . Now they are just practice tights . For the price and brand I expect more .\n",
      "        Aspect:  practice tights--price\n",
      "        Predict the sentiment for mentioned aspect in the review. Assign one of the following sentiment to the aspect: Positive , Negative , Neutral.\n",
      "        Please provide the sentiment only. No any explanation or extra text\n"
     ]
    },
    {
     "name": "stderr",
     "output_type": "stream",
     "text": [
      "C:\\Users\\Nimra\\AppData\\Local\\Temp\\ipykernel_16236\\2877642716.py:27: FutureWarning: The frame.append method is deprecated and will be removed from pandas in a future version. Use pandas.concat instead.\n",
      "  temp = temp.append(data_to_append, ignore_index=True)\n",
      "c:\\Users\\Nimra\\AppData\\Local\\Programs\\Python\\Python39\\lib\\site-packages\\transformers\\generation\\utils.py:1353: UserWarning: Using `max_length`'s default (20) to control the generation length. This behaviour is deprecated and will be removed from the config in v5 of Transformers -- we recommend using `max_new_tokens` to control the maximum length of the generation.\n",
      "  warnings.warn(\n"
     ]
    },
    {
     "name": "stdout",
     "output_type": "stream",
     "text": [
      "{'dataset_name': 'dotsa/new_Clothing_test', 'sentence': 'Disappointing . Both toes ran in the same spot the first time I wore them . Now they are just practice tights . For the price and brand I expect more .', 'aspect': ' practice tights--price', 'polarity': ' Negative', 'sentiment_t5': 'Negative'}\n",
      "Review: Disappointing . Both toes ran in the same spot the first time I wore them . Now they are just practice tights . For the price and brand I expect more .\n",
      "        Aspect:  practice tights--brand\n",
      "        Predict the sentiment for mentioned aspect in the review. Assign one of the following sentiment to the aspect: Positive , Negative , Neutral.\n",
      "        Please provide the sentiment only. No any explanation or extra text\n"
     ]
    },
    {
     "name": "stderr",
     "output_type": "stream",
     "text": [
      "C:\\Users\\Nimra\\AppData\\Local\\Temp\\ipykernel_16236\\2877642716.py:27: FutureWarning: The frame.append method is deprecated and will be removed from pandas in a future version. Use pandas.concat instead.\n",
      "  temp = temp.append(data_to_append, ignore_index=True)\n",
      "c:\\Users\\Nimra\\AppData\\Local\\Programs\\Python\\Python39\\lib\\site-packages\\transformers\\generation\\utils.py:1353: UserWarning: Using `max_length`'s default (20) to control the generation length. This behaviour is deprecated and will be removed from the config in v5 of Transformers -- we recommend using `max_new_tokens` to control the maximum length of the generation.\n",
      "  warnings.warn(\n"
     ]
    },
    {
     "name": "stdout",
     "output_type": "stream",
     "text": [
      "{'dataset_name': 'dotsa/new_Clothing_test', 'sentence': 'Disappointing . Both toes ran in the same spot the first time I wore them . Now they are just practice tights . For the price and brand I expect more .', 'aspect': ' practice tights--brand', 'polarity': ' Negative', 'sentiment_t5': 'Negative'}\n",
      "Review: Very small fit . I got this to wear on top of other sweatshirts on very cold days . The size 5x I received fits like a 3X . Very short in the waist also . Very disappointed .\n",
      "        Aspect: size\n",
      "        Predict the sentiment for mentioned aspect in the review. Assign one of the following sentiment to the aspect: Positive , Negative , Neutral.\n",
      "        Please provide the sentiment only. No any explanation or extra text\n"
     ]
    },
    {
     "name": "stderr",
     "output_type": "stream",
     "text": [
      "C:\\Users\\Nimra\\AppData\\Local\\Temp\\ipykernel_16236\\2877642716.py:27: FutureWarning: The frame.append method is deprecated and will be removed from pandas in a future version. Use pandas.concat instead.\n",
      "  temp = temp.append(data_to_append, ignore_index=True)\n",
      "c:\\Users\\Nimra\\AppData\\Local\\Programs\\Python\\Python39\\lib\\site-packages\\transformers\\generation\\utils.py:1353: UserWarning: Using `max_length`'s default (20) to control the generation length. This behaviour is deprecated and will be removed from the config in v5 of Transformers -- we recommend using `max_new_tokens` to control the maximum length of the generation.\n",
      "  warnings.warn(\n"
     ]
    },
    {
     "name": "stdout",
     "output_type": "stream",
     "text": [
      "{'dataset_name': 'dotsa/new_Clothing_test', 'sentence': 'Very small fit . I got this to wear on top of other sweatshirts on very cold days . The size 5x I received fits like a 3X . Very short in the waist also . Very disappointed .', 'aspect': 'size', 'polarity': 'Negative', 'sentiment_t5': 'Negative'}\n",
      "Review: Very small fit . I got this to wear on top of other sweatshirts on very cold days . The size 5x I received fits like a 3X . Very short in the waist also . Very disappointed .\n",
      "        Aspect:  fit\n",
      "        Predict the sentiment for mentioned aspect in the review. Assign one of the following sentiment to the aspect: Positive , Negative , Neutral.\n",
      "        Please provide the sentiment only. No any explanation or extra text\n"
     ]
    },
    {
     "name": "stderr",
     "output_type": "stream",
     "text": [
      "C:\\Users\\Nimra\\AppData\\Local\\Temp\\ipykernel_16236\\2877642716.py:27: FutureWarning: The frame.append method is deprecated and will be removed from pandas in a future version. Use pandas.concat instead.\n",
      "  temp = temp.append(data_to_append, ignore_index=True)\n",
      "c:\\Users\\Nimra\\AppData\\Local\\Programs\\Python\\Python39\\lib\\site-packages\\transformers\\generation\\utils.py:1353: UserWarning: Using `max_length`'s default (20) to control the generation length. This behaviour is deprecated and will be removed from the config in v5 of Transformers -- we recommend using `max_new_tokens` to control the maximum length of the generation.\n",
      "  warnings.warn(\n"
     ]
    },
    {
     "name": "stdout",
     "output_type": "stream",
     "text": [
      "{'dataset_name': 'dotsa/new_Clothing_test', 'sentence': 'Very small fit . I got this to wear on top of other sweatshirts on very cold days . The size 5x I received fits like a 3X . Very short in the waist also . Very disappointed .', 'aspect': ' fit', 'polarity': ' Negative', 'sentiment_t5': 'Negative'}\n",
      "Review: I normally wear a 7 , so I ordered a 7 . 5 . The shoes arrived the next day and were too small to wear . I ended up ordering another pair in a size 8 and they fit great . Very comfortable , just make sure to order up a full size !\n",
      "        Aspect: shoes\n",
      "        Predict the sentiment for mentioned aspect in the review. Assign one of the following sentiment to the aspect: Positive , Negative , Neutral.\n",
      "        Please provide the sentiment only. No any explanation or extra text\n"
     ]
    },
    {
     "name": "stderr",
     "output_type": "stream",
     "text": [
      "C:\\Users\\Nimra\\AppData\\Local\\Temp\\ipykernel_16236\\2877642716.py:27: FutureWarning: The frame.append method is deprecated and will be removed from pandas in a future version. Use pandas.concat instead.\n",
      "  temp = temp.append(data_to_append, ignore_index=True)\n",
      "c:\\Users\\Nimra\\AppData\\Local\\Programs\\Python\\Python39\\lib\\site-packages\\transformers\\generation\\utils.py:1353: UserWarning: Using `max_length`'s default (20) to control the generation length. This behaviour is deprecated and will be removed from the config in v5 of Transformers -- we recommend using `max_new_tokens` to control the maximum length of the generation.\n",
      "  warnings.warn(\n"
     ]
    },
    {
     "name": "stdout",
     "output_type": "stream",
     "text": [
      "{'dataset_name': 'dotsa/new_Clothing_test', 'sentence': 'I normally wear a 7 , so I ordered a 7 . 5 . The shoes arrived the next day and were too small to wear . I ended up ordering another pair in a size 8 and they fit great . Very comfortable , just make sure to order up a full size !', 'aspect': 'shoes', 'polarity': 'Mixed', 'sentiment_t5': 'Neutral'}\n",
      "Review: The material feels nice but Amazon has up the wrong size chart ! I bought an XL based on the chart and it 's way too big . My Mom wears a 16 in blouses and it 's huge on her ! I think a L would have been fine for her and a M for me . I 've given my Mom the blouse but she will have to take it in to get it to fit properly .\n",
      "        Aspect: blouse--material\n",
      "        Predict the sentiment for mentioned aspect in the review. Assign one of the following sentiment to the aspect: Positive , Negative , Neutral.\n",
      "        Please provide the sentiment only. No any explanation or extra text\n"
     ]
    },
    {
     "name": "stderr",
     "output_type": "stream",
     "text": [
      "C:\\Users\\Nimra\\AppData\\Local\\Temp\\ipykernel_16236\\2877642716.py:27: FutureWarning: The frame.append method is deprecated and will be removed from pandas in a future version. Use pandas.concat instead.\n",
      "  temp = temp.append(data_to_append, ignore_index=True)\n",
      "c:\\Users\\Nimra\\AppData\\Local\\Programs\\Python\\Python39\\lib\\site-packages\\transformers\\generation\\utils.py:1353: UserWarning: Using `max_length`'s default (20) to control the generation length. This behaviour is deprecated and will be removed from the config in v5 of Transformers -- we recommend using `max_new_tokens` to control the maximum length of the generation.\n",
      "  warnings.warn(\n"
     ]
    },
    {
     "name": "stdout",
     "output_type": "stream",
     "text": [
      "{'dataset_name': 'dotsa/new_Clothing_test', 'sentence': \"The material feels nice but Amazon has up the wrong size chart ! I bought an XL based on the chart and it 's way too big . My Mom wears a 16 in blouses and it 's huge on her ! I think a L would have been fine for her and a M for me . I 've given my Mom the blouse but she will have to take it in to get it to fit properly .\", 'aspect': 'blouse--material', 'polarity': 'Positive', 'sentiment_t5': 'Neutral'}\n",
      "Review: The material feels nice but Amazon has up the wrong size chart ! I bought an XL based on the chart and it 's way too big . My Mom wears a 16 in blouses and it 's huge on her ! I think a L would have been fine for her and a M for me . I 've given my Mom the blouse but she will have to take it in to get it to fit properly .\n",
      "        Aspect:  blouse\n",
      "        Predict the sentiment for mentioned aspect in the review. Assign one of the following sentiment to the aspect: Positive , Negative , Neutral.\n",
      "        Please provide the sentiment only. No any explanation or extra text\n"
     ]
    },
    {
     "name": "stderr",
     "output_type": "stream",
     "text": [
      "C:\\Users\\Nimra\\AppData\\Local\\Temp\\ipykernel_16236\\2877642716.py:27: FutureWarning: The frame.append method is deprecated and will be removed from pandas in a future version. Use pandas.concat instead.\n",
      "  temp = temp.append(data_to_append, ignore_index=True)\n",
      "c:\\Users\\Nimra\\AppData\\Local\\Programs\\Python\\Python39\\lib\\site-packages\\transformers\\generation\\utils.py:1353: UserWarning: Using `max_length`'s default (20) to control the generation length. This behaviour is deprecated and will be removed from the config in v5 of Transformers -- we recommend using `max_new_tokens` to control the maximum length of the generation.\n",
      "  warnings.warn(\n"
     ]
    },
    {
     "name": "stdout",
     "output_type": "stream",
     "text": [
      "{'dataset_name': 'dotsa/new_Clothing_test', 'sentence': \"The material feels nice but Amazon has up the wrong size chart ! I bought an XL based on the chart and it 's way too big . My Mom wears a 16 in blouses and it 's huge on her ! I think a L would have been fine for her and a M for me . I 've given my Mom the blouse but she will have to take it in to get it to fit properly .\", 'aspect': ' blouse', 'polarity': ' Mixed', 'sentiment_t5': 'Neutral'}\n",
      "Review: The material feels nice but Amazon has up the wrong size chart ! I bought an XL based on the chart and it 's way too big . My Mom wears a 16 in blouses and it 's huge on her ! I think a L would have been fine for her and a M for me . I 've given my Mom the blouse but she will have to take it in to get it to fit properly .\n",
      "        Aspect:  blouse--size chart\n",
      "        Predict the sentiment for mentioned aspect in the review. Assign one of the following sentiment to the aspect: Positive , Negative , Neutral.\n",
      "        Please provide the sentiment only. No any explanation or extra text\n"
     ]
    },
    {
     "name": "stderr",
     "output_type": "stream",
     "text": [
      "C:\\Users\\Nimra\\AppData\\Local\\Temp\\ipykernel_16236\\2877642716.py:27: FutureWarning: The frame.append method is deprecated and will be removed from pandas in a future version. Use pandas.concat instead.\n",
      "  temp = temp.append(data_to_append, ignore_index=True)\n",
      "c:\\Users\\Nimra\\AppData\\Local\\Programs\\Python\\Python39\\lib\\site-packages\\transformers\\generation\\utils.py:1353: UserWarning: Using `max_length`'s default (20) to control the generation length. This behaviour is deprecated and will be removed from the config in v5 of Transformers -- we recommend using `max_new_tokens` to control the maximum length of the generation.\n",
      "  warnings.warn(\n"
     ]
    },
    {
     "name": "stdout",
     "output_type": "stream",
     "text": [
      "{'dataset_name': 'dotsa/new_Clothing_test', 'sentence': \"The material feels nice but Amazon has up the wrong size chart ! I bought an XL based on the chart and it 's way too big . My Mom wears a 16 in blouses and it 's huge on her ! I think a L would have been fine for her and a M for me . I 've given my Mom the blouse but she will have to take it in to get it to fit properly .\", 'aspect': ' blouse--size chart', 'polarity': ' Negative', 'sentiment_t5': 'Negative'}\n",
      "Review: The boots look nice ( a little artificial though . ) I wore them for the first time yesterday to church . I put shoe inserts in them , because they were too big . The inserts are double thick , so then the boots were kind of tight . Perhaps regular inserts would work better . Overall , I like the boots , but I am concerned that the printed design will scratch too easily . Also , there is no groove in the bottom for the stitching . I see the stiches wearing out too soon , if I wear them much . Finally , I don\\'t get why , if they were going to make the vamp and front of the shaft out of leather , they didn\\'t just make the back of the shaft leather too ? Perhaps made in China has something to do with it !\n",
      "        Aspect: boots\n",
      "        Predict the sentiment for mentioned aspect in the review. Assign one of the following sentiment to the aspect: Positive , Negative , Neutral.\n",
      "        Please provide the sentiment only. No any explanation or extra text\n"
     ]
    },
    {
     "name": "stderr",
     "output_type": "stream",
     "text": [
      "C:\\Users\\Nimra\\AppData\\Local\\Temp\\ipykernel_16236\\2877642716.py:27: FutureWarning: The frame.append method is deprecated and will be removed from pandas in a future version. Use pandas.concat instead.\n",
      "  temp = temp.append(data_to_append, ignore_index=True)\n",
      "c:\\Users\\Nimra\\AppData\\Local\\Programs\\Python\\Python39\\lib\\site-packages\\transformers\\generation\\utils.py:1353: UserWarning: Using `max_length`'s default (20) to control the generation length. This behaviour is deprecated and will be removed from the config in v5 of Transformers -- we recommend using `max_new_tokens` to control the maximum length of the generation.\n",
      "  warnings.warn(\n"
     ]
    },
    {
     "name": "stdout",
     "output_type": "stream",
     "text": [
      "{'dataset_name': 'dotsa/new_Clothing_test', 'sentence': \"The boots look nice ( a little artificial though . ) I wore them for the first time yesterday to church . I put shoe inserts in them , because they were too big . The inserts are double thick , so then the boots were kind of tight . Perhaps regular inserts would work better . Overall , I like the boots , but I am concerned that the printed design will scratch too easily . Also , there is no groove in the bottom for the stitching . I see the stiches wearing out too soon , if I wear them much . Finally , I don\\\\'t get why , if they were going to make the vamp and front of the shaft out of leather , they didn\\\\'t just make the back of the shaft leather too ? Perhaps made in China has something to do with it !\", 'aspect': 'boots', 'polarity': 'Mixed', 'sentiment_t5': 'Neutral'}\n",
      "Review: The boots look nice ( a little artificial though . ) I wore them for the first time yesterday to church . I put shoe inserts in them , because they were too big . The inserts are double thick , so then the boots were kind of tight . Perhaps regular inserts would work better . Overall , I like the boots , but I am concerned that the printed design will scratch too easily . Also , there is no groove in the bottom for the stitching . I see the stiches wearing out too soon , if I wear them much . Finally , I don\\'t get why , if they were going to make the vamp and front of the shaft out of leather , they didn\\'t just make the back of the shaft leather too ? Perhaps made in China has something to do with it !\n",
      "        Aspect:  boots--stiches\n",
      "        Predict the sentiment for mentioned aspect in the review. Assign one of the following sentiment to the aspect: Positive , Negative , Neutral.\n",
      "        Please provide the sentiment only. No any explanation or extra text\n"
     ]
    },
    {
     "name": "stderr",
     "output_type": "stream",
     "text": [
      "C:\\Users\\Nimra\\AppData\\Local\\Temp\\ipykernel_16236\\2877642716.py:27: FutureWarning: The frame.append method is deprecated and will be removed from pandas in a future version. Use pandas.concat instead.\n",
      "  temp = temp.append(data_to_append, ignore_index=True)\n",
      "c:\\Users\\Nimra\\AppData\\Local\\Programs\\Python\\Python39\\lib\\site-packages\\transformers\\generation\\utils.py:1353: UserWarning: Using `max_length`'s default (20) to control the generation length. This behaviour is deprecated and will be removed from the config in v5 of Transformers -- we recommend using `max_new_tokens` to control the maximum length of the generation.\n",
      "  warnings.warn(\n"
     ]
    },
    {
     "name": "stdout",
     "output_type": "stream",
     "text": [
      "{'dataset_name': 'dotsa/new_Clothing_test', 'sentence': \"The boots look nice ( a little artificial though . ) I wore them for the first time yesterday to church . I put shoe inserts in them , because they were too big . The inserts are double thick , so then the boots were kind of tight . Perhaps regular inserts would work better . Overall , I like the boots , but I am concerned that the printed design will scratch too easily . Also , there is no groove in the bottom for the stitching . I see the stiches wearing out too soon , if I wear them much . Finally , I don\\\\'t get why , if they were going to make the vamp and front of the shaft out of leather , they didn\\\\'t just make the back of the shaft leather too ? Perhaps made in China has something to do with it !\", 'aspect': ' boots--stiches', 'polarity': ' Negative', 'sentiment_t5': 'Neutral'}\n",
      "Review: The boots look nice ( a little artificial though . ) I wore them for the first time yesterday to church . I put shoe inserts in them , because they were too big . The inserts are double thick , so then the boots were kind of tight . Perhaps regular inserts would work better . Overall , I like the boots , but I am concerned that the printed design will scratch too easily . Also , there is no groove in the bottom for the stitching . I see the stiches wearing out too soon , if I wear them much . Finally , I don\\'t get why , if they were going to make the vamp and front of the shaft out of leather , they didn\\'t just make the back of the shaft leather too ? Perhaps made in China has something to do with it !\n",
      "        Aspect:  boots--bottom\n",
      "        Predict the sentiment for mentioned aspect in the review. Assign one of the following sentiment to the aspect: Positive , Negative , Neutral.\n",
      "        Please provide the sentiment only. No any explanation or extra text\n"
     ]
    },
    {
     "name": "stderr",
     "output_type": "stream",
     "text": [
      "C:\\Users\\Nimra\\AppData\\Local\\Temp\\ipykernel_16236\\2877642716.py:27: FutureWarning: The frame.append method is deprecated and will be removed from pandas in a future version. Use pandas.concat instead.\n",
      "  temp = temp.append(data_to_append, ignore_index=True)\n",
      "c:\\Users\\Nimra\\AppData\\Local\\Programs\\Python\\Python39\\lib\\site-packages\\transformers\\generation\\utils.py:1353: UserWarning: Using `max_length`'s default (20) to control the generation length. This behaviour is deprecated and will be removed from the config in v5 of Transformers -- we recommend using `max_new_tokens` to control the maximum length of the generation.\n",
      "  warnings.warn(\n"
     ]
    },
    {
     "name": "stdout",
     "output_type": "stream",
     "text": [
      "{'dataset_name': 'dotsa/new_Clothing_test', 'sentence': \"The boots look nice ( a little artificial though . ) I wore them for the first time yesterday to church . I put shoe inserts in them , because they were too big . The inserts are double thick , so then the boots were kind of tight . Perhaps regular inserts would work better . Overall , I like the boots , but I am concerned that the printed design will scratch too easily . Also , there is no groove in the bottom for the stitching . I see the stiches wearing out too soon , if I wear them much . Finally , I don\\\\'t get why , if they were going to make the vamp and front of the shaft out of leather , they didn\\\\'t just make the back of the shaft leather too ? Perhaps made in China has something to do with it !\", 'aspect': ' boots--bottom', 'polarity': ' Negative', 'sentiment_t5': 'Neutral'}\n",
      "Review: these sandals looked like they would be nice and comfy . too bad they were so tight in my normal size and had to send back .\n",
      "        Aspect: sandals\n",
      "        Predict the sentiment for mentioned aspect in the review. Assign one of the following sentiment to the aspect: Positive , Negative , Neutral.\n",
      "        Please provide the sentiment only. No any explanation or extra text\n"
     ]
    },
    {
     "name": "stderr",
     "output_type": "stream",
     "text": [
      "C:\\Users\\Nimra\\AppData\\Local\\Temp\\ipykernel_16236\\2877642716.py:27: FutureWarning: The frame.append method is deprecated and will be removed from pandas in a future version. Use pandas.concat instead.\n",
      "  temp = temp.append(data_to_append, ignore_index=True)\n",
      "c:\\Users\\Nimra\\AppData\\Local\\Programs\\Python\\Python39\\lib\\site-packages\\transformers\\generation\\utils.py:1353: UserWarning: Using `max_length`'s default (20) to control the generation length. This behaviour is deprecated and will be removed from the config in v5 of Transformers -- we recommend using `max_new_tokens` to control the maximum length of the generation.\n",
      "  warnings.warn(\n"
     ]
    },
    {
     "name": "stdout",
     "output_type": "stream",
     "text": [
      "{'dataset_name': 'dotsa/new_Clothing_test', 'sentence': 'these sandals looked like they would be nice and comfy . too bad they were so tight in my normal size and had to send back .', 'aspect': 'sandals', 'polarity': 'Mixed', 'sentiment_t5': 'Negative'}\n",
      "Review: I like the style and color . The shoes are comfortable , however , the small elastic insert at the back of the rightshoe could be tighter . It is a little too loose and when I am walking tends to slip off the back of the ankle . Tomorrow I am taking the right shoe to a shoe repair shop to see what can be done to tighten the elastic strap .\n",
      "        Aspect: shoes--style\n",
      "        Predict the sentiment for mentioned aspect in the review. Assign one of the following sentiment to the aspect: Positive , Negative , Neutral.\n",
      "        Please provide the sentiment only. No any explanation or extra text\n"
     ]
    },
    {
     "name": "stderr",
     "output_type": "stream",
     "text": [
      "C:\\Users\\Nimra\\AppData\\Local\\Temp\\ipykernel_16236\\2877642716.py:27: FutureWarning: The frame.append method is deprecated and will be removed from pandas in a future version. Use pandas.concat instead.\n",
      "  temp = temp.append(data_to_append, ignore_index=True)\n",
      "c:\\Users\\Nimra\\AppData\\Local\\Programs\\Python\\Python39\\lib\\site-packages\\transformers\\generation\\utils.py:1353: UserWarning: Using `max_length`'s default (20) to control the generation length. This behaviour is deprecated and will be removed from the config in v5 of Transformers -- we recommend using `max_new_tokens` to control the maximum length of the generation.\n",
      "  warnings.warn(\n"
     ]
    },
    {
     "name": "stdout",
     "output_type": "stream",
     "text": [
      "{'dataset_name': 'dotsa/new_Clothing_test', 'sentence': 'I like the style and color . The shoes are comfortable , however , the small elastic insert at the back of the rightshoe could be tighter . It is a little too loose and when I am walking tends to slip off the back of the ankle . Tomorrow I am taking the right shoe to a shoe repair shop to see what can be done to tighten the elastic strap .', 'aspect': 'shoes--style', 'polarity': 'Positive', 'sentiment_t5': 'Neutral'}\n",
      "Review: I like the style and color . The shoes are comfortable , however , the small elastic insert at the back of the rightshoe could be tighter . It is a little too loose and when I am walking tends to slip off the back of the ankle . Tomorrow I am taking the right shoe to a shoe repair shop to see what can be done to tighten the elastic strap .\n",
      "        Aspect:  shoes--elastic\n",
      "        Predict the sentiment for mentioned aspect in the review. Assign one of the following sentiment to the aspect: Positive , Negative , Neutral.\n",
      "        Please provide the sentiment only. No any explanation or extra text\n"
     ]
    },
    {
     "name": "stderr",
     "output_type": "stream",
     "text": [
      "C:\\Users\\Nimra\\AppData\\Local\\Temp\\ipykernel_16236\\2877642716.py:27: FutureWarning: The frame.append method is deprecated and will be removed from pandas in a future version. Use pandas.concat instead.\n",
      "  temp = temp.append(data_to_append, ignore_index=True)\n",
      "c:\\Users\\Nimra\\AppData\\Local\\Programs\\Python\\Python39\\lib\\site-packages\\transformers\\generation\\utils.py:1353: UserWarning: Using `max_length`'s default (20) to control the generation length. This behaviour is deprecated and will be removed from the config in v5 of Transformers -- we recommend using `max_new_tokens` to control the maximum length of the generation.\n",
      "  warnings.warn(\n"
     ]
    },
    {
     "name": "stdout",
     "output_type": "stream",
     "text": [
      "{'dataset_name': 'dotsa/new_Clothing_test', 'sentence': 'I like the style and color . The shoes are comfortable , however , the small elastic insert at the back of the rightshoe could be tighter . It is a little too loose and when I am walking tends to slip off the back of the ankle . Tomorrow I am taking the right shoe to a shoe repair shop to see what can be done to tighten the elastic strap .', 'aspect': ' shoes--elastic', 'polarity': ' Negative', 'sentiment_t5': 'Neutral'}\n",
      "Review: I like the style and color . The shoes are comfortable , however , the small elastic insert at the back of the rightshoe could be tighter . It is a little too loose and when I am walking tends to slip off the back of the ankle . Tomorrow I am taking the right shoe to a shoe repair shop to see what can be done to tighten the elastic strap .\n",
      "        Aspect:  shoes--color\n",
      "        Predict the sentiment for mentioned aspect in the review. Assign one of the following sentiment to the aspect: Positive , Negative , Neutral.\n",
      "        Please provide the sentiment only. No any explanation or extra text\n"
     ]
    },
    {
     "name": "stderr",
     "output_type": "stream",
     "text": [
      "C:\\Users\\Nimra\\AppData\\Local\\Temp\\ipykernel_16236\\2877642716.py:27: FutureWarning: The frame.append method is deprecated and will be removed from pandas in a future version. Use pandas.concat instead.\n",
      "  temp = temp.append(data_to_append, ignore_index=True)\n",
      "c:\\Users\\Nimra\\AppData\\Local\\Programs\\Python\\Python39\\lib\\site-packages\\transformers\\generation\\utils.py:1353: UserWarning: Using `max_length`'s default (20) to control the generation length. This behaviour is deprecated and will be removed from the config in v5 of Transformers -- we recommend using `max_new_tokens` to control the maximum length of the generation.\n",
      "  warnings.warn(\n"
     ]
    },
    {
     "name": "stdout",
     "output_type": "stream",
     "text": [
      "{'dataset_name': 'dotsa/new_Clothing_test', 'sentence': 'I like the style and color . The shoes are comfortable , however , the small elastic insert at the back of the rightshoe could be tighter . It is a little too loose and when I am walking tends to slip off the back of the ankle . Tomorrow I am taking the right shoe to a shoe repair shop to see what can be done to tighten the elastic strap .', 'aspect': ' shoes--color', 'polarity': ' Positive', 'sentiment_t5': 'Neutral'}\n",
      "Review: I like the style and color . The shoes are comfortable , however , the small elastic insert at the back of the rightshoe could be tighter . It is a little too loose and when I am walking tends to slip off the back of the ankle . Tomorrow I am taking the right shoe to a shoe repair shop to see what can be done to tighten the elastic strap .\n",
      "        Aspect:  shoes\n",
      "        Predict the sentiment for mentioned aspect in the review. Assign one of the following sentiment to the aspect: Positive , Negative , Neutral.\n",
      "        Please provide the sentiment only. No any explanation or extra text\n"
     ]
    },
    {
     "name": "stderr",
     "output_type": "stream",
     "text": [
      "C:\\Users\\Nimra\\AppData\\Local\\Temp\\ipykernel_16236\\2877642716.py:27: FutureWarning: The frame.append method is deprecated and will be removed from pandas in a future version. Use pandas.concat instead.\n",
      "  temp = temp.append(data_to_append, ignore_index=True)\n",
      "c:\\Users\\Nimra\\AppData\\Local\\Programs\\Python\\Python39\\lib\\site-packages\\transformers\\generation\\utils.py:1353: UserWarning: Using `max_length`'s default (20) to control the generation length. This behaviour is deprecated and will be removed from the config in v5 of Transformers -- we recommend using `max_new_tokens` to control the maximum length of the generation.\n",
      "  warnings.warn(\n"
     ]
    },
    {
     "name": "stdout",
     "output_type": "stream",
     "text": [
      "{'dataset_name': 'dotsa/new_Clothing_test', 'sentence': 'I like the style and color . The shoes are comfortable , however , the small elastic insert at the back of the rightshoe could be tighter . It is a little too loose and when I am walking tends to slip off the back of the ankle . Tomorrow I am taking the right shoe to a shoe repair shop to see what can be done to tighten the elastic strap .', 'aspect': ' shoes', 'polarity': ' Mixed', 'sentiment_t5': 'Neutral'}\n",
      "Review: This top is beautifully made , the material is lovely and it washes up nicely . It 's become my favorite top !\n",
      "        Aspect: top\n",
      "        Predict the sentiment for mentioned aspect in the review. Assign one of the following sentiment to the aspect: Positive , Negative , Neutral.\n",
      "        Please provide the sentiment only. No any explanation or extra text\n"
     ]
    },
    {
     "name": "stderr",
     "output_type": "stream",
     "text": [
      "C:\\Users\\Nimra\\AppData\\Local\\Temp\\ipykernel_16236\\2877642716.py:27: FutureWarning: The frame.append method is deprecated and will be removed from pandas in a future version. Use pandas.concat instead.\n",
      "  temp = temp.append(data_to_append, ignore_index=True)\n",
      "c:\\Users\\Nimra\\AppData\\Local\\Programs\\Python\\Python39\\lib\\site-packages\\transformers\\generation\\utils.py:1353: UserWarning: Using `max_length`'s default (20) to control the generation length. This behaviour is deprecated and will be removed from the config in v5 of Transformers -- we recommend using `max_new_tokens` to control the maximum length of the generation.\n",
      "  warnings.warn(\n"
     ]
    },
    {
     "name": "stdout",
     "output_type": "stream",
     "text": [
      "{'dataset_name': 'dotsa/new_Clothing_test', 'sentence': \"This top is beautifully made , the material is lovely and it washes up nicely . It 's become my favorite top !\", 'aspect': 'top', 'polarity': 'Positive', 'sentiment_t5': 'Positive'}\n",
      "Review: This top is beautifully made , the material is lovely and it washes up nicely . It 's become my favorite top !\n",
      "        Aspect:  top--material\n",
      "        Predict the sentiment for mentioned aspect in the review. Assign one of the following sentiment to the aspect: Positive , Negative , Neutral.\n",
      "        Please provide the sentiment only. No any explanation or extra text\n"
     ]
    },
    {
     "name": "stderr",
     "output_type": "stream",
     "text": [
      "C:\\Users\\Nimra\\AppData\\Local\\Temp\\ipykernel_16236\\2877642716.py:27: FutureWarning: The frame.append method is deprecated and will be removed from pandas in a future version. Use pandas.concat instead.\n",
      "  temp = temp.append(data_to_append, ignore_index=True)\n",
      "c:\\Users\\Nimra\\AppData\\Local\\Programs\\Python\\Python39\\lib\\site-packages\\transformers\\generation\\utils.py:1353: UserWarning: Using `max_length`'s default (20) to control the generation length. This behaviour is deprecated and will be removed from the config in v5 of Transformers -- we recommend using `max_new_tokens` to control the maximum length of the generation.\n",
      "  warnings.warn(\n"
     ]
    },
    {
     "name": "stdout",
     "output_type": "stream",
     "text": [
      "{'dataset_name': 'dotsa/new_Clothing_test', 'sentence': \"This top is beautifully made , the material is lovely and it washes up nicely . It 's become my favorite top !\", 'aspect': ' top--material', 'polarity': ' Positive', 'sentiment_t5': 'Positive'}\n",
      "Review: Brought these for my 15 year daughter shes 53 115lbs , ordered a size small/medium . Fit perfect ! ! ! ! Ballet Pink is really PINKand I have only hand washed these tights once , so Im not sure how long they will kept their firm shape .\n",
      "        Aspect: tights--ballet pink\n",
      "        Predict the sentiment for mentioned aspect in the review. Assign one of the following sentiment to the aspect: Positive , Negative , Neutral.\n",
      "        Please provide the sentiment only. No any explanation or extra text\n"
     ]
    },
    {
     "name": "stderr",
     "output_type": "stream",
     "text": [
      "C:\\Users\\Nimra\\AppData\\Local\\Temp\\ipykernel_16236\\2877642716.py:27: FutureWarning: The frame.append method is deprecated and will be removed from pandas in a future version. Use pandas.concat instead.\n",
      "  temp = temp.append(data_to_append, ignore_index=True)\n",
      "c:\\Users\\Nimra\\AppData\\Local\\Programs\\Python\\Python39\\lib\\site-packages\\transformers\\generation\\utils.py:1353: UserWarning: Using `max_length`'s default (20) to control the generation length. This behaviour is deprecated and will be removed from the config in v5 of Transformers -- we recommend using `max_new_tokens` to control the maximum length of the generation.\n",
      "  warnings.warn(\n"
     ]
    },
    {
     "name": "stdout",
     "output_type": "stream",
     "text": [
      "{'dataset_name': 'dotsa/new_Clothing_test', 'sentence': 'Brought these for my 15 year daughter shes 53 115lbs , ordered a size small/medium . Fit perfect ! ! ! ! Ballet Pink is really PINKand I have only hand washed these tights once , so Im not sure how long they will kept their firm shape .', 'aspect': 'tights--Ballet Pink', 'polarity': 'Positive', 'sentiment_t5': 'Neutral'}\n",
      "Review: These tights fit great and they are very good quality\n",
      "        Aspect: tights\n",
      "        Predict the sentiment for mentioned aspect in the review. Assign one of the following sentiment to the aspect: Positive , Negative , Neutral.\n",
      "        Please provide the sentiment only. No any explanation or extra text\n"
     ]
    },
    {
     "name": "stderr",
     "output_type": "stream",
     "text": [
      "C:\\Users\\Nimra\\AppData\\Local\\Temp\\ipykernel_16236\\2877642716.py:27: FutureWarning: The frame.append method is deprecated and will be removed from pandas in a future version. Use pandas.concat instead.\n",
      "  temp = temp.append(data_to_append, ignore_index=True)\n",
      "c:\\Users\\Nimra\\AppData\\Local\\Programs\\Python\\Python39\\lib\\site-packages\\transformers\\generation\\utils.py:1353: UserWarning: Using `max_length`'s default (20) to control the generation length. This behaviour is deprecated and will be removed from the config in v5 of Transformers -- we recommend using `max_new_tokens` to control the maximum length of the generation.\n",
      "  warnings.warn(\n"
     ]
    },
    {
     "name": "stdout",
     "output_type": "stream",
     "text": [
      "{'dataset_name': 'dotsa/new_Clothing_test', 'sentence': 'These tights fit great and they are very good quality', 'aspect': 'tights', 'polarity': 'Positive', 'sentiment_t5': 'Positive'}\n",
      "Review: Nice , sturdy tights . Fits just as described , and will definitely purchase again .\n",
      "        Aspect: tights\n",
      "        Predict the sentiment for mentioned aspect in the review. Assign one of the following sentiment to the aspect: Positive , Negative , Neutral.\n",
      "        Please provide the sentiment only. No any explanation or extra text\n"
     ]
    },
    {
     "name": "stderr",
     "output_type": "stream",
     "text": [
      "C:\\Users\\Nimra\\AppData\\Local\\Temp\\ipykernel_16236\\2877642716.py:27: FutureWarning: The frame.append method is deprecated and will be removed from pandas in a future version. Use pandas.concat instead.\n",
      "  temp = temp.append(data_to_append, ignore_index=True)\n",
      "c:\\Users\\Nimra\\AppData\\Local\\Programs\\Python\\Python39\\lib\\site-packages\\transformers\\generation\\utils.py:1353: UserWarning: Using `max_length`'s default (20) to control the generation length. This behaviour is deprecated and will be removed from the config in v5 of Transformers -- we recommend using `max_new_tokens` to control the maximum length of the generation.\n",
      "  warnings.warn(\n"
     ]
    },
    {
     "name": "stdout",
     "output_type": "stream",
     "text": [
      "{'dataset_name': 'dotsa/new_Clothing_test', 'sentence': 'Nice , sturdy tights . Fits just as described , and will definitely purchase again .', 'aspect': 'tights', 'polarity': 'Positive', 'sentiment_t5': 'Positive'}\n",
      "Review: These shoes were ordered in an extra wide and they were not even close to a wide . Very disappointed in the sizing as I have had other Lifestride shoes in an extra wide that fit great .\n",
      "        Aspect: lifestride shoes\n",
      "        Predict the sentiment for mentioned aspect in the review. Assign one of the following sentiment to the aspect: Positive , Negative , Neutral.\n",
      "        Please provide the sentiment only. No any explanation or extra text\n"
     ]
    },
    {
     "name": "stderr",
     "output_type": "stream",
     "text": [
      "C:\\Users\\Nimra\\AppData\\Local\\Temp\\ipykernel_16236\\2877642716.py:27: FutureWarning: The frame.append method is deprecated and will be removed from pandas in a future version. Use pandas.concat instead.\n",
      "  temp = temp.append(data_to_append, ignore_index=True)\n",
      "c:\\Users\\Nimra\\AppData\\Local\\Programs\\Python\\Python39\\lib\\site-packages\\transformers\\generation\\utils.py:1353: UserWarning: Using `max_length`'s default (20) to control the generation length. This behaviour is deprecated and will be removed from the config in v5 of Transformers -- we recommend using `max_new_tokens` to control the maximum length of the generation.\n",
      "  warnings.warn(\n"
     ]
    },
    {
     "name": "stdout",
     "output_type": "stream",
     "text": [
      "{'dataset_name': 'dotsa/new_Clothing_test', 'sentence': 'These shoes were ordered in an extra wide and they were not even close to a wide . Very disappointed in the sizing as I have had other Lifestride shoes in an extra wide that fit great .', 'aspect': 'Lifestride shoes', 'polarity': 'Positive', 'sentiment_t5': 'Negative'}\n",
      "Review: These shoes were ordered in an extra wide and they were not even close to a wide . Very disappointed in the sizing as I have had other Lifestride shoes in an extra wide that fit great .\n",
      "        Aspect:  sizing\n",
      "        Predict the sentiment for mentioned aspect in the review. Assign one of the following sentiment to the aspect: Positive , Negative , Neutral.\n",
      "        Please provide the sentiment only. No any explanation or extra text\n"
     ]
    },
    {
     "name": "stderr",
     "output_type": "stream",
     "text": [
      "C:\\Users\\Nimra\\AppData\\Local\\Temp\\ipykernel_16236\\2877642716.py:27: FutureWarning: The frame.append method is deprecated and will be removed from pandas in a future version. Use pandas.concat instead.\n",
      "  temp = temp.append(data_to_append, ignore_index=True)\n",
      "c:\\Users\\Nimra\\AppData\\Local\\Programs\\Python\\Python39\\lib\\site-packages\\transformers\\generation\\utils.py:1353: UserWarning: Using `max_length`'s default (20) to control the generation length. This behaviour is deprecated and will be removed from the config in v5 of Transformers -- we recommend using `max_new_tokens` to control the maximum length of the generation.\n",
      "  warnings.warn(\n"
     ]
    },
    {
     "name": "stdout",
     "output_type": "stream",
     "text": [
      "{'dataset_name': 'dotsa/new_Clothing_test', 'sentence': 'These shoes were ordered in an extra wide and they were not even close to a wide . Very disappointed in the sizing as I have had other Lifestride shoes in an extra wide that fit great .', 'aspect': ' sizing', 'polarity': ' Negative', 'sentiment_t5': 'Negative'}\n",
      "Review: These shoes were ordered in an extra wide and they were not even close to a wide . Very disappointed in the sizing as I have had other Lifestride shoes in an extra wide that fit great .\n",
      "        Aspect:  they\n",
      "        Predict the sentiment for mentioned aspect in the review. Assign one of the following sentiment to the aspect: Positive , Negative , Neutral.\n",
      "        Please provide the sentiment only. No any explanation or extra text\n"
     ]
    },
    {
     "name": "stderr",
     "output_type": "stream",
     "text": [
      "C:\\Users\\Nimra\\AppData\\Local\\Temp\\ipykernel_16236\\2877642716.py:27: FutureWarning: The frame.append method is deprecated and will be removed from pandas in a future version. Use pandas.concat instead.\n",
      "  temp = temp.append(data_to_append, ignore_index=True)\n",
      "c:\\Users\\Nimra\\AppData\\Local\\Programs\\Python\\Python39\\lib\\site-packages\\transformers\\generation\\utils.py:1353: UserWarning: Using `max_length`'s default (20) to control the generation length. This behaviour is deprecated and will be removed from the config in v5 of Transformers -- we recommend using `max_new_tokens` to control the maximum length of the generation.\n",
      "  warnings.warn(\n"
     ]
    },
    {
     "name": "stdout",
     "output_type": "stream",
     "text": [
      "{'dataset_name': 'dotsa/new_Clothing_test', 'sentence': 'These shoes were ordered in an extra wide and they were not even close to a wide . Very disappointed in the sizing as I have had other Lifestride shoes in an extra wide that fit great .', 'aspect': ' they', 'polarity': ' Negative', 'sentiment_t5': 'Negative'}\n",
      "Review: Great price , nice fit\n",
      "        Aspect: price\n",
      "        Predict the sentiment for mentioned aspect in the review. Assign one of the following sentiment to the aspect: Positive , Negative , Neutral.\n",
      "        Please provide the sentiment only. No any explanation or extra text\n"
     ]
    },
    {
     "name": "stderr",
     "output_type": "stream",
     "text": [
      "C:\\Users\\Nimra\\AppData\\Local\\Temp\\ipykernel_16236\\2877642716.py:27: FutureWarning: The frame.append method is deprecated and will be removed from pandas in a future version. Use pandas.concat instead.\n",
      "  temp = temp.append(data_to_append, ignore_index=True)\n",
      "c:\\Users\\Nimra\\AppData\\Local\\Programs\\Python\\Python39\\lib\\site-packages\\transformers\\generation\\utils.py:1353: UserWarning: Using `max_length`'s default (20) to control the generation length. This behaviour is deprecated and will be removed from the config in v5 of Transformers -- we recommend using `max_new_tokens` to control the maximum length of the generation.\n",
      "  warnings.warn(\n"
     ]
    },
    {
     "name": "stdout",
     "output_type": "stream",
     "text": [
      "{'dataset_name': 'dotsa/new_Clothing_test', 'sentence': 'Great price , nice fit', 'aspect': 'price', 'polarity': 'Positive', 'sentiment_t5': 'Positive'}\n",
      "Review: Great price , nice fit\n",
      "        Aspect:  fit\n",
      "        Predict the sentiment for mentioned aspect in the review. Assign one of the following sentiment to the aspect: Positive , Negative , Neutral.\n",
      "        Please provide the sentiment only. No any explanation or extra text\n"
     ]
    },
    {
     "name": "stderr",
     "output_type": "stream",
     "text": [
      "C:\\Users\\Nimra\\AppData\\Local\\Temp\\ipykernel_16236\\2877642716.py:27: FutureWarning: The frame.append method is deprecated and will be removed from pandas in a future version. Use pandas.concat instead.\n",
      "  temp = temp.append(data_to_append, ignore_index=True)\n",
      "c:\\Users\\Nimra\\AppData\\Local\\Programs\\Python\\Python39\\lib\\site-packages\\transformers\\generation\\utils.py:1353: UserWarning: Using `max_length`'s default (20) to control the generation length. This behaviour is deprecated and will be removed from the config in v5 of Transformers -- we recommend using `max_new_tokens` to control the maximum length of the generation.\n",
      "  warnings.warn(\n"
     ]
    },
    {
     "name": "stdout",
     "output_type": "stream",
     "text": [
      "{'dataset_name': 'dotsa/new_Clothing_test', 'sentence': 'Great price , nice fit', 'aspect': ' fit', 'polarity': ' Positive', 'sentiment_t5': 'Positive'}\n",
      "Review: I do like them , they are nicely glossy , and just to be clear there is a difference between glossy and shimmery . Size wise I am 6\\ ' 2 my waist is about a 44-46 that\\ 's according to a male sizing . My legs are not fat , so that isn\\'t a factor , at first putting them on they seem just a tad short . But after you wear them around for couple hours they do seem to fit better . I made the mistake of washing them in washer , and used dryer but put them both on lowest settings and have not tried them on again yet I hope I just haven\\'t shrunk them even more . I bought them mainly because I have nerve damage , as well as severe arthritis in my legs , and I have talked to countless Hooters girls who have all sworn by them because the ones that have gotten in the past are simply too expensive , but these danskins are of the same quality , and hold up , and keep the gloss alive for a long time as well as the one other important reason to wear them is support which is my reason for wearing them . I would buy them again . If you are female , or if you are male and don\\'t mind wearing a light leotard that will of course keep them held up nicely . But they do hold up on they\\ 're own pretty well once they are worn in a couple hours , that is of course if you plan to wear them 8 or more hours a day .\n",
      "        Aspect: leotard\n",
      "        Predict the sentiment for mentioned aspect in the review. Assign one of the following sentiment to the aspect: Positive , Negative , Neutral.\n",
      "        Please provide the sentiment only. No any explanation or extra text\n"
     ]
    },
    {
     "name": "stderr",
     "output_type": "stream",
     "text": [
      "C:\\Users\\Nimra\\AppData\\Local\\Temp\\ipykernel_16236\\2877642716.py:27: FutureWarning: The frame.append method is deprecated and will be removed from pandas in a future version. Use pandas.concat instead.\n",
      "  temp = temp.append(data_to_append, ignore_index=True)\n",
      "c:\\Users\\Nimra\\AppData\\Local\\Programs\\Python\\Python39\\lib\\site-packages\\transformers\\generation\\utils.py:1353: UserWarning: Using `max_length`'s default (20) to control the generation length. This behaviour is deprecated and will be removed from the config in v5 of Transformers -- we recommend using `max_new_tokens` to control the maximum length of the generation.\n",
      "  warnings.warn(\n"
     ]
    },
    {
     "name": "stdout",
     "output_type": "stream",
     "text": [
      "{'dataset_name': 'dotsa/new_Clothing_test', 'sentence': \"I do like them , they are nicely glossy , and just to be clear there is a difference between glossy and shimmery . Size wise I am 6\\\\ ' 2 my waist is about a 44-46 that\\\\ 's according to a male sizing . My legs are not fat , so that isn\\\\'t a factor , at first putting them on they seem just a tad short . But after you wear them around for couple hours they do seem to fit better . I made the mistake of washing them in washer , and used dryer but put them both on lowest settings and have not tried them on again yet I hope I just haven\\\\'t shrunk them even more . I bought them mainly because I have nerve damage , as well as severe arthritis in my legs , and I have talked to countless Hooters girls who have all sworn by them because the ones that have gotten in the past are simply too expensive , but these danskins are of the same quality , and hold up , and keep the gloss alive for a long time as well as the one other important reason to wear them is support which is my reason for wearing them . I would buy them again . If you are female , or if you are male and don\\\\'t mind wearing a light leotard that will of course keep them held up nicely . But they do hold up on they\\\\ 're own pretty well once they are worn in a couple hours , that is of course if you plan to wear them 8 or more hours a day .\", 'aspect': 'leotard', 'polarity': 'Mixed', 'sentiment_t5': 'Neutral'}\n",
      "Review: Great shoes in every color .\n",
      "        Aspect: shoes\n",
      "        Predict the sentiment for mentioned aspect in the review. Assign one of the following sentiment to the aspect: Positive , Negative , Neutral.\n",
      "        Please provide the sentiment only. No any explanation or extra text\n"
     ]
    },
    {
     "name": "stderr",
     "output_type": "stream",
     "text": [
      "C:\\Users\\Nimra\\AppData\\Local\\Temp\\ipykernel_16236\\2877642716.py:27: FutureWarning: The frame.append method is deprecated and will be removed from pandas in a future version. Use pandas.concat instead.\n",
      "  temp = temp.append(data_to_append, ignore_index=True)\n",
      "c:\\Users\\Nimra\\AppData\\Local\\Programs\\Python\\Python39\\lib\\site-packages\\transformers\\generation\\utils.py:1353: UserWarning: Using `max_length`'s default (20) to control the generation length. This behaviour is deprecated and will be removed from the config in v5 of Transformers -- we recommend using `max_new_tokens` to control the maximum length of the generation.\n",
      "  warnings.warn(\n"
     ]
    },
    {
     "name": "stdout",
     "output_type": "stream",
     "text": [
      "{'dataset_name': 'dotsa/new_Clothing_test', 'sentence': 'Great shoes in every color .', 'aspect': 'shoes', 'polarity': 'Positive', 'sentiment_t5': 'Positive'}\n",
      "Review: I love the shoes , it 's just that I should have ordered an 8W . Not your fault , mine . But I do have shoe stretchers and they are doing their job as I write this . Smile . Thanks for that great quality and I will be ordering another color soon . I love the heel and the back of the foot , that squar-ish part . quite comfortable .\n",
      "        Aspect: shoes--quality\n",
      "        Predict the sentiment for mentioned aspect in the review. Assign one of the following sentiment to the aspect: Positive , Negative , Neutral.\n",
      "        Please provide the sentiment only. No any explanation or extra text\n"
     ]
    },
    {
     "name": "stderr",
     "output_type": "stream",
     "text": [
      "C:\\Users\\Nimra\\AppData\\Local\\Temp\\ipykernel_16236\\2877642716.py:27: FutureWarning: The frame.append method is deprecated and will be removed from pandas in a future version. Use pandas.concat instead.\n",
      "  temp = temp.append(data_to_append, ignore_index=True)\n",
      "c:\\Users\\Nimra\\AppData\\Local\\Programs\\Python\\Python39\\lib\\site-packages\\transformers\\generation\\utils.py:1353: UserWarning: Using `max_length`'s default (20) to control the generation length. This behaviour is deprecated and will be removed from the config in v5 of Transformers -- we recommend using `max_new_tokens` to control the maximum length of the generation.\n",
      "  warnings.warn(\n"
     ]
    },
    {
     "name": "stdout",
     "output_type": "stream",
     "text": [
      "{'dataset_name': 'dotsa/new_Clothing_test', 'sentence': \"I love the shoes , it 's just that I should have ordered an 8W . Not your fault , mine . But I do have shoe stretchers and they are doing their job as I write this . Smile . Thanks for that great quality and I will be ordering another color soon . I love the heel and the back of the foot , that squar-ish part . quite comfortable .\", 'aspect': 'shoes--quality', 'polarity': 'Positive', 'sentiment_t5': 'Positive'}\n",
      "Review: I love the shoes , it 's just that I should have ordered an 8W . Not your fault , mine . But I do have shoe stretchers and they are doing their job as I write this . Smile . Thanks for that great quality and I will be ordering another color soon . I love the heel and the back of the foot , that squar-ish part . quite comfortable .\n",
      "        Aspect:  shoes--heel\n",
      "        Predict the sentiment for mentioned aspect in the review. Assign one of the following sentiment to the aspect: Positive , Negative , Neutral.\n",
      "        Please provide the sentiment only. No any explanation or extra text\n"
     ]
    },
    {
     "name": "stderr",
     "output_type": "stream",
     "text": [
      "C:\\Users\\Nimra\\AppData\\Local\\Temp\\ipykernel_16236\\2877642716.py:27: FutureWarning: The frame.append method is deprecated and will be removed from pandas in a future version. Use pandas.concat instead.\n",
      "  temp = temp.append(data_to_append, ignore_index=True)\n",
      "c:\\Users\\Nimra\\AppData\\Local\\Programs\\Python\\Python39\\lib\\site-packages\\transformers\\generation\\utils.py:1353: UserWarning: Using `max_length`'s default (20) to control the generation length. This behaviour is deprecated and will be removed from the config in v5 of Transformers -- we recommend using `max_new_tokens` to control the maximum length of the generation.\n",
      "  warnings.warn(\n"
     ]
    },
    {
     "name": "stdout",
     "output_type": "stream",
     "text": [
      "{'dataset_name': 'dotsa/new_Clothing_test', 'sentence': \"I love the shoes , it 's just that I should have ordered an 8W . Not your fault , mine . But I do have shoe stretchers and they are doing their job as I write this . Smile . Thanks for that great quality and I will be ordering another color soon . I love the heel and the back of the foot , that squar-ish part . quite comfortable .\", 'aspect': ' shoes--heel', 'polarity': ' Positive', 'sentiment_t5': 'Positive'}\n",
      "Review: I love the shoes , it 's just that I should have ordered an 8W . Not your fault , mine . But I do have shoe stretchers and they are doing their job as I write this . Smile . Thanks for that great quality and I will be ordering another color soon . I love the heel and the back of the foot , that squar-ish part . quite comfortable .\n",
      "        Aspect:  shoes--squar-ish part\n",
      "        Predict the sentiment for mentioned aspect in the review. Assign one of the following sentiment to the aspect: Positive , Negative , Neutral.\n",
      "        Please provide the sentiment only. No any explanation or extra text\n"
     ]
    },
    {
     "name": "stderr",
     "output_type": "stream",
     "text": [
      "C:\\Users\\Nimra\\AppData\\Local\\Temp\\ipykernel_16236\\2877642716.py:27: FutureWarning: The frame.append method is deprecated and will be removed from pandas in a future version. Use pandas.concat instead.\n",
      "  temp = temp.append(data_to_append, ignore_index=True)\n",
      "c:\\Users\\Nimra\\AppData\\Local\\Programs\\Python\\Python39\\lib\\site-packages\\transformers\\generation\\utils.py:1353: UserWarning: Using `max_length`'s default (20) to control the generation length. This behaviour is deprecated and will be removed from the config in v5 of Transformers -- we recommend using `max_new_tokens` to control the maximum length of the generation.\n",
      "  warnings.warn(\n"
     ]
    },
    {
     "name": "stdout",
     "output_type": "stream",
     "text": [
      "{'dataset_name': 'dotsa/new_Clothing_test', 'sentence': \"I love the shoes , it 's just that I should have ordered an 8W . Not your fault , mine . But I do have shoe stretchers and they are doing their job as I write this . Smile . Thanks for that great quality and I will be ordering another color soon . I love the heel and the back of the foot , that squar-ish part . quite comfortable .\", 'aspect': ' shoes--squar-ish part', 'polarity': ' Positive', 'sentiment_t5': 'Positive'}\n",
      "Review: I love the shoes , it 's just that I should have ordered an 8W . Not your fault , mine . But I do have shoe stretchers and they are doing their job as I write this . Smile . Thanks for that great quality and I will be ordering another color soon . I love the heel and the back of the foot , that squar-ish part . quite comfortable .\n",
      "        Aspect:  shoes\n",
      "        Predict the sentiment for mentioned aspect in the review. Assign one of the following sentiment to the aspect: Positive , Negative , Neutral.\n",
      "        Please provide the sentiment only. No any explanation or extra text\n"
     ]
    },
    {
     "name": "stderr",
     "output_type": "stream",
     "text": [
      "C:\\Users\\Nimra\\AppData\\Local\\Temp\\ipykernel_16236\\2877642716.py:27: FutureWarning: The frame.append method is deprecated and will be removed from pandas in a future version. Use pandas.concat instead.\n",
      "  temp = temp.append(data_to_append, ignore_index=True)\n",
      "c:\\Users\\Nimra\\AppData\\Local\\Programs\\Python\\Python39\\lib\\site-packages\\transformers\\generation\\utils.py:1353: UserWarning: Using `max_length`'s default (20) to control the generation length. This behaviour is deprecated and will be removed from the config in v5 of Transformers -- we recommend using `max_new_tokens` to control the maximum length of the generation.\n",
      "  warnings.warn(\n"
     ]
    },
    {
     "name": "stdout",
     "output_type": "stream",
     "text": [
      "{'dataset_name': 'dotsa/new_Clothing_test', 'sentence': \"I love the shoes , it 's just that I should have ordered an 8W . Not your fault , mine . But I do have shoe stretchers and they are doing their job as I write this . Smile . Thanks for that great quality and I will be ordering another color soon . I love the heel and the back of the foot , that squar-ish part . quite comfortable .\", 'aspect': ' shoes', 'polarity': ' Positive', 'sentiment_t5': 'Positive'}\n",
      "Review: I love the shoes , it 's just that I should have ordered an 8W . Not your fault , mine . But I do have shoe stretchers and they are doing their job as I write this . Smile . Thanks for that great quality and I will be ordering another color soon . I love the heel and the back of the foot , that squar-ish part . quite comfortable .\n",
      "        Aspect:  shoes--back of the foot\n",
      "        Predict the sentiment for mentioned aspect in the review. Assign one of the following sentiment to the aspect: Positive , Negative , Neutral.\n",
      "        Please provide the sentiment only. No any explanation or extra text\n"
     ]
    },
    {
     "name": "stderr",
     "output_type": "stream",
     "text": [
      "C:\\Users\\Nimra\\AppData\\Local\\Temp\\ipykernel_16236\\2877642716.py:27: FutureWarning: The frame.append method is deprecated and will be removed from pandas in a future version. Use pandas.concat instead.\n",
      "  temp = temp.append(data_to_append, ignore_index=True)\n",
      "c:\\Users\\Nimra\\AppData\\Local\\Programs\\Python\\Python39\\lib\\site-packages\\transformers\\generation\\utils.py:1353: UserWarning: Using `max_length`'s default (20) to control the generation length. This behaviour is deprecated and will be removed from the config in v5 of Transformers -- we recommend using `max_new_tokens` to control the maximum length of the generation.\n",
      "  warnings.warn(\n"
     ]
    },
    {
     "name": "stdout",
     "output_type": "stream",
     "text": [
      "{'dataset_name': 'dotsa/new_Clothing_test', 'sentence': \"I love the shoes , it 's just that I should have ordered an 8W . Not your fault , mine . But I do have shoe stretchers and they are doing their job as I write this . Smile . Thanks for that great quality and I will be ordering another color soon . I love the heel and the back of the foot , that squar-ish part . quite comfortable .\", 'aspect': ' shoes--back of the foot', 'polarity': ' Positive', 'sentiment_t5': 'Positive'}\n",
      "Review: Shoes are too small even though I order one size bigger , its still too small\n",
      "        Aspect: shoes\n",
      "        Predict the sentiment for mentioned aspect in the review. Assign one of the following sentiment to the aspect: Positive , Negative , Neutral.\n",
      "        Please provide the sentiment only. No any explanation or extra text\n"
     ]
    },
    {
     "name": "stderr",
     "output_type": "stream",
     "text": [
      "C:\\Users\\Nimra\\AppData\\Local\\Temp\\ipykernel_16236\\2877642716.py:27: FutureWarning: The frame.append method is deprecated and will be removed from pandas in a future version. Use pandas.concat instead.\n",
      "  temp = temp.append(data_to_append, ignore_index=True)\n",
      "c:\\Users\\Nimra\\AppData\\Local\\Programs\\Python\\Python39\\lib\\site-packages\\transformers\\generation\\utils.py:1353: UserWarning: Using `max_length`'s default (20) to control the generation length. This behaviour is deprecated and will be removed from the config in v5 of Transformers -- we recommend using `max_new_tokens` to control the maximum length of the generation.\n",
      "  warnings.warn(\n"
     ]
    },
    {
     "name": "stdout",
     "output_type": "stream",
     "text": [
      "{'dataset_name': 'dotsa/new_Clothing_test', 'sentence': 'Shoes are too small even though I order one size bigger , its still too small', 'aspect': 'Shoes', 'polarity': 'Negative', 'sentiment_t5': 'Negative'}\n",
      "Review: Good for my ballet dancing girls who are fussy with tights .\n",
      "        Aspect: tights\n",
      "        Predict the sentiment for mentioned aspect in the review. Assign one of the following sentiment to the aspect: Positive , Negative , Neutral.\n",
      "        Please provide the sentiment only. No any explanation or extra text\n"
     ]
    },
    {
     "name": "stderr",
     "output_type": "stream",
     "text": [
      "C:\\Users\\Nimra\\AppData\\Local\\Temp\\ipykernel_16236\\2877642716.py:27: FutureWarning: The frame.append method is deprecated and will be removed from pandas in a future version. Use pandas.concat instead.\n",
      "  temp = temp.append(data_to_append, ignore_index=True)\n",
      "c:\\Users\\Nimra\\AppData\\Local\\Programs\\Python\\Python39\\lib\\site-packages\\transformers\\generation\\utils.py:1353: UserWarning: Using `max_length`'s default (20) to control the generation length. This behaviour is deprecated and will be removed from the config in v5 of Transformers -- we recommend using `max_new_tokens` to control the maximum length of the generation.\n",
      "  warnings.warn(\n"
     ]
    },
    {
     "name": "stdout",
     "output_type": "stream",
     "text": [
      "{'dataset_name': 'dotsa/new_Clothing_test', 'sentence': 'Good for my ballet dancing girls who are fussy with tights .', 'aspect': 'tights', 'polarity': 'Positive', 'sentiment_t5': 'Neutral'}\n",
      "Review: Its amazing . It came 2 days after i ordered it which was much earlier than expected and a wonderful surprise . The color and quality of the shirt also turned out to be what i hoped when i ordered it . I highly recommend it\n",
      "        Aspect: shirt\n",
      "        Predict the sentiment for mentioned aspect in the review. Assign one of the following sentiment to the aspect: Positive , Negative , Neutral.\n",
      "        Please provide the sentiment only. No any explanation or extra text\n"
     ]
    },
    {
     "name": "stderr",
     "output_type": "stream",
     "text": [
      "C:\\Users\\Nimra\\AppData\\Local\\Temp\\ipykernel_16236\\2877642716.py:27: FutureWarning: The frame.append method is deprecated and will be removed from pandas in a future version. Use pandas.concat instead.\n",
      "  temp = temp.append(data_to_append, ignore_index=True)\n",
      "c:\\Users\\Nimra\\AppData\\Local\\Programs\\Python\\Python39\\lib\\site-packages\\transformers\\generation\\utils.py:1353: UserWarning: Using `max_length`'s default (20) to control the generation length. This behaviour is deprecated and will be removed from the config in v5 of Transformers -- we recommend using `max_new_tokens` to control the maximum length of the generation.\n",
      "  warnings.warn(\n"
     ]
    },
    {
     "name": "stdout",
     "output_type": "stream",
     "text": [
      "{'dataset_name': 'dotsa/new_Clothing_test', 'sentence': 'Its amazing . It came 2 days after i ordered it which was much earlier than expected and a wonderful surprise . The color and quality of the shirt also turned out to be what i hoped when i ordered it . I highly recommend it', 'aspect': 'shirt', 'polarity': 'Positive', 'sentiment_t5': 'Positive'}\n",
      "Review: Its amazing . It came 2 days after i ordered it which was much earlier than expected and a wonderful surprise . The color and quality of the shirt also turned out to be what i hoped when i ordered it . I highly recommend it\n",
      "        Aspect:  shirt--quality\n",
      "        Predict the sentiment for mentioned aspect in the review. Assign one of the following sentiment to the aspect: Positive , Negative , Neutral.\n",
      "        Please provide the sentiment only. No any explanation or extra text\n"
     ]
    },
    {
     "name": "stderr",
     "output_type": "stream",
     "text": [
      "C:\\Users\\Nimra\\AppData\\Local\\Temp\\ipykernel_16236\\2877642716.py:27: FutureWarning: The frame.append method is deprecated and will be removed from pandas in a future version. Use pandas.concat instead.\n",
      "  temp = temp.append(data_to_append, ignore_index=True)\n",
      "c:\\Users\\Nimra\\AppData\\Local\\Programs\\Python\\Python39\\lib\\site-packages\\transformers\\generation\\utils.py:1353: UserWarning: Using `max_length`'s default (20) to control the generation length. This behaviour is deprecated and will be removed from the config in v5 of Transformers -- we recommend using `max_new_tokens` to control the maximum length of the generation.\n",
      "  warnings.warn(\n"
     ]
    },
    {
     "name": "stdout",
     "output_type": "stream",
     "text": [
      "{'dataset_name': 'dotsa/new_Clothing_test', 'sentence': 'Its amazing . It came 2 days after i ordered it which was much earlier than expected and a wonderful surprise . The color and quality of the shirt also turned out to be what i hoped when i ordered it . I highly recommend it', 'aspect': ' shirt--quality', 'polarity': ' Positive', 'sentiment_t5': 'Positive'}\n",
      "Review: Its amazing . It came 2 days after i ordered it which was much earlier than expected and a wonderful surprise . The color and quality of the shirt also turned out to be what i hoped when i ordered it . I highly recommend it\n",
      "        Aspect:  shirt--color\n",
      "        Predict the sentiment for mentioned aspect in the review. Assign one of the following sentiment to the aspect: Positive , Negative , Neutral.\n",
      "        Please provide the sentiment only. No any explanation or extra text\n"
     ]
    },
    {
     "name": "stderr",
     "output_type": "stream",
     "text": [
      "C:\\Users\\Nimra\\AppData\\Local\\Temp\\ipykernel_16236\\2877642716.py:27: FutureWarning: The frame.append method is deprecated and will be removed from pandas in a future version. Use pandas.concat instead.\n",
      "  temp = temp.append(data_to_append, ignore_index=True)\n",
      "c:\\Users\\Nimra\\AppData\\Local\\Programs\\Python\\Python39\\lib\\site-packages\\transformers\\generation\\utils.py:1353: UserWarning: Using `max_length`'s default (20) to control the generation length. This behaviour is deprecated and will be removed from the config in v5 of Transformers -- we recommend using `max_new_tokens` to control the maximum length of the generation.\n",
      "  warnings.warn(\n"
     ]
    },
    {
     "name": "stdout",
     "output_type": "stream",
     "text": [
      "{'dataset_name': 'dotsa/new_Clothing_test', 'sentence': 'Its amazing . It came 2 days after i ordered it which was much earlier than expected and a wonderful surprise . The color and quality of the shirt also turned out to be what i hoped when i ordered it . I highly recommend it', 'aspect': ' shirt--color', 'polarity': ' Positive', 'sentiment_t5': 'Positive'}\n",
      "Review: Not sure these folks make tights for older dancers with a way to keep waist elastic from being too tight at the waist . I believe they only think very tall thin women are dancers ; not short more muscular older athlete .\n",
      "        Aspect: tights\n",
      "        Predict the sentiment for mentioned aspect in the review. Assign one of the following sentiment to the aspect: Positive , Negative , Neutral.\n",
      "        Please provide the sentiment only. No any explanation or extra text\n"
     ]
    },
    {
     "name": "stderr",
     "output_type": "stream",
     "text": [
      "C:\\Users\\Nimra\\AppData\\Local\\Temp\\ipykernel_16236\\2877642716.py:27: FutureWarning: The frame.append method is deprecated and will be removed from pandas in a future version. Use pandas.concat instead.\n",
      "  temp = temp.append(data_to_append, ignore_index=True)\n",
      "c:\\Users\\Nimra\\AppData\\Local\\Programs\\Python\\Python39\\lib\\site-packages\\transformers\\generation\\utils.py:1353: UserWarning: Using `max_length`'s default (20) to control the generation length. This behaviour is deprecated and will be removed from the config in v5 of Transformers -- we recommend using `max_new_tokens` to control the maximum length of the generation.\n",
      "  warnings.warn(\n"
     ]
    },
    {
     "name": "stdout",
     "output_type": "stream",
     "text": [
      "{'dataset_name': 'dotsa/new_Clothing_test', 'sentence': 'Not sure these folks make tights for older dancers with a way to keep waist elastic from being too tight at the waist . I believe they only think very tall thin women are dancers ; not short more muscular older athlete .', 'aspect': 'tights', 'polarity': 'Negative', 'sentiment_t5': 'Negative'}\n",
      "Review: Not sure these folks make tights for older dancers with a way to keep waist elastic from being too tight at the waist . I believe they only think very tall thin women are dancers ; not short more muscular older athlete .\n",
      "        Aspect:  tights--waist\n",
      "        Predict the sentiment for mentioned aspect in the review. Assign one of the following sentiment to the aspect: Positive , Negative , Neutral.\n",
      "        Please provide the sentiment only. No any explanation or extra text\n"
     ]
    },
    {
     "name": "stderr",
     "output_type": "stream",
     "text": [
      "C:\\Users\\Nimra\\AppData\\Local\\Temp\\ipykernel_16236\\2877642716.py:27: FutureWarning: The frame.append method is deprecated and will be removed from pandas in a future version. Use pandas.concat instead.\n",
      "  temp = temp.append(data_to_append, ignore_index=True)\n",
      "c:\\Users\\Nimra\\AppData\\Local\\Programs\\Python\\Python39\\lib\\site-packages\\transformers\\generation\\utils.py:1353: UserWarning: Using `max_length`'s default (20) to control the generation length. This behaviour is deprecated and will be removed from the config in v5 of Transformers -- we recommend using `max_new_tokens` to control the maximum length of the generation.\n",
      "  warnings.warn(\n"
     ]
    },
    {
     "name": "stdout",
     "output_type": "stream",
     "text": [
      "{'dataset_name': 'dotsa/new_Clothing_test', 'sentence': 'Not sure these folks make tights for older dancers with a way to keep waist elastic from being too tight at the waist . I believe they only think very tall thin women are dancers ; not short more muscular older athlete .', 'aspect': ' tights--waist', 'polarity': ' Negative', 'sentiment_t5': 'Negative'}\n",
      "Review: This shirt looks good on my man I would recommend to others also the fit is perfect . this looks good with his vest\n",
      "        Aspect: shirt\n",
      "        Predict the sentiment for mentioned aspect in the review. Assign one of the following sentiment to the aspect: Positive , Negative , Neutral.\n",
      "        Please provide the sentiment only. No any explanation or extra text\n"
     ]
    },
    {
     "name": "stderr",
     "output_type": "stream",
     "text": [
      "C:\\Users\\Nimra\\AppData\\Local\\Temp\\ipykernel_16236\\2877642716.py:27: FutureWarning: The frame.append method is deprecated and will be removed from pandas in a future version. Use pandas.concat instead.\n",
      "  temp = temp.append(data_to_append, ignore_index=True)\n",
      "c:\\Users\\Nimra\\AppData\\Local\\Programs\\Python\\Python39\\lib\\site-packages\\transformers\\generation\\utils.py:1353: UserWarning: Using `max_length`'s default (20) to control the generation length. This behaviour is deprecated and will be removed from the config in v5 of Transformers -- we recommend using `max_new_tokens` to control the maximum length of the generation.\n",
      "  warnings.warn(\n"
     ]
    },
    {
     "name": "stdout",
     "output_type": "stream",
     "text": [
      "{'dataset_name': 'dotsa/new_Clothing_test', 'sentence': 'This shirt looks good on my man I would recommend to others also the fit is perfect . this looks good with his vest', 'aspect': 'shirt', 'polarity': 'Positive', 'sentiment_t5': 'Positive'}\n",
      "Review: I have Mimosa 's in three colors , camel , dark blue and red . They are totally comfortable and I use them for casual and dress up .\n",
      "        Aspect: mimosa 's\n",
      "        Predict the sentiment for mentioned aspect in the review. Assign one of the following sentiment to the aspect: Positive , Negative , Neutral.\n",
      "        Please provide the sentiment only. No any explanation or extra text\n"
     ]
    },
    {
     "name": "stderr",
     "output_type": "stream",
     "text": [
      "C:\\Users\\Nimra\\AppData\\Local\\Temp\\ipykernel_16236\\2877642716.py:27: FutureWarning: The frame.append method is deprecated and will be removed from pandas in a future version. Use pandas.concat instead.\n",
      "  temp = temp.append(data_to_append, ignore_index=True)\n",
      "c:\\Users\\Nimra\\AppData\\Local\\Programs\\Python\\Python39\\lib\\site-packages\\transformers\\generation\\utils.py:1353: UserWarning: Using `max_length`'s default (20) to control the generation length. This behaviour is deprecated and will be removed from the config in v5 of Transformers -- we recommend using `max_new_tokens` to control the maximum length of the generation.\n",
      "  warnings.warn(\n"
     ]
    },
    {
     "name": "stdout",
     "output_type": "stream",
     "text": [
      "{'dataset_name': 'dotsa/new_Clothing_test', 'sentence': \"I have Mimosa 's in three colors , camel , dark blue and red . They are totally comfortable and I use them for casual and dress up .\", 'aspect': \"Mimosa 's\", 'polarity': 'Positive', 'sentiment_t5': 'Positive'}\n",
      "Review: As a moccasin wearer you know there 's not much arch support going on . But however , these are by far the most comfortable shoes I 've ever worn in my life . Let 's say I 'm a senior citizen with bad feet but these shoes are heaven sent . If comfort is what you 're after , go for these !\n",
      "        Aspect: shoes\n",
      "        Predict the sentiment for mentioned aspect in the review. Assign one of the following sentiment to the aspect: Positive , Negative , Neutral.\n",
      "        Please provide the sentiment only. No any explanation or extra text\n"
     ]
    },
    {
     "name": "stderr",
     "output_type": "stream",
     "text": [
      "C:\\Users\\Nimra\\AppData\\Local\\Temp\\ipykernel_16236\\2877642716.py:27: FutureWarning: The frame.append method is deprecated and will be removed from pandas in a future version. Use pandas.concat instead.\n",
      "  temp = temp.append(data_to_append, ignore_index=True)\n",
      "c:\\Users\\Nimra\\AppData\\Local\\Programs\\Python\\Python39\\lib\\site-packages\\transformers\\generation\\utils.py:1353: UserWarning: Using `max_length`'s default (20) to control the generation length. This behaviour is deprecated and will be removed from the config in v5 of Transformers -- we recommend using `max_new_tokens` to control the maximum length of the generation.\n",
      "  warnings.warn(\n"
     ]
    },
    {
     "name": "stdout",
     "output_type": "stream",
     "text": [
      "{'dataset_name': 'dotsa/new_Clothing_test', 'sentence': \"As a moccasin wearer you know there 's not much arch support going on . But however , these are by far the most comfortable shoes I 've ever worn in my life . Let 's say I 'm a senior citizen with bad feet but these shoes are heaven sent . If comfort is what you 're after , go for these !\", 'aspect': 'shoes', 'polarity': 'Positive', 'sentiment_t5': 'Positive'}\n",
      "Review: I was nervous about ordering these after reading the reviews that said they run small . They seem to run true to size . I wear a size 7 1/2 M and these fit just right and are so stylish and comfortable . I ordered them in red and white for summer . Love them . Wear them to work and casual , even with jeans .\n",
      "        Aspect: size\n",
      "        Predict the sentiment for mentioned aspect in the review. Assign one of the following sentiment to the aspect: Positive , Negative , Neutral.\n",
      "        Please provide the sentiment only. No any explanation or extra text\n"
     ]
    },
    {
     "name": "stderr",
     "output_type": "stream",
     "text": [
      "C:\\Users\\Nimra\\AppData\\Local\\Temp\\ipykernel_16236\\2877642716.py:27: FutureWarning: The frame.append method is deprecated and will be removed from pandas in a future version. Use pandas.concat instead.\n",
      "  temp = temp.append(data_to_append, ignore_index=True)\n",
      "c:\\Users\\Nimra\\AppData\\Local\\Programs\\Python\\Python39\\lib\\site-packages\\transformers\\generation\\utils.py:1353: UserWarning: Using `max_length`'s default (20) to control the generation length. This behaviour is deprecated and will be removed from the config in v5 of Transformers -- we recommend using `max_new_tokens` to control the maximum length of the generation.\n",
      "  warnings.warn(\n"
     ]
    },
    {
     "name": "stdout",
     "output_type": "stream",
     "text": [
      "{'dataset_name': 'dotsa/new_Clothing_test', 'sentence': 'I was nervous about ordering these after reading the reviews that said they run small . They seem to run true to size . I wear a size 7 1/2 M and these fit just right and are so stylish and comfortable . I ordered them in red and white for summer . Love them . Wear them to work and casual , even with jeans .', 'aspect': 'size', 'polarity': 'Positive', 'sentiment_t5': 'Positive'}\n",
      "Review: I was nervous about ordering these after reading the reviews that said they run small . They seem to run true to size . I wear a size 7 1/2 M and these fit just right and are so stylish and comfortable . I ordered them in red and white for summer . Love them . Wear them to work and casual , even with jeans .\n",
      "        Aspect:  these\n",
      "        Predict the sentiment for mentioned aspect in the review. Assign one of the following sentiment to the aspect: Positive , Negative , Neutral.\n",
      "        Please provide the sentiment only. No any explanation or extra text\n"
     ]
    },
    {
     "name": "stderr",
     "output_type": "stream",
     "text": [
      "C:\\Users\\Nimra\\AppData\\Local\\Temp\\ipykernel_16236\\2877642716.py:27: FutureWarning: The frame.append method is deprecated and will be removed from pandas in a future version. Use pandas.concat instead.\n",
      "  temp = temp.append(data_to_append, ignore_index=True)\n",
      "c:\\Users\\Nimra\\AppData\\Local\\Programs\\Python\\Python39\\lib\\site-packages\\transformers\\generation\\utils.py:1353: UserWarning: Using `max_length`'s default (20) to control the generation length. This behaviour is deprecated and will be removed from the config in v5 of Transformers -- we recommend using `max_new_tokens` to control the maximum length of the generation.\n",
      "  warnings.warn(\n"
     ]
    },
    {
     "name": "stdout",
     "output_type": "stream",
     "text": [
      "{'dataset_name': 'dotsa/new_Clothing_test', 'sentence': 'I was nervous about ordering these after reading the reviews that said they run small . They seem to run true to size . I wear a size 7 1/2 M and these fit just right and are so stylish and comfortable . I ordered them in red and white for summer . Love them . Wear them to work and casual , even with jeans .', 'aspect': ' these', 'polarity': ' Positive', 'sentiment_t5': 'Positive'}\n",
      "Review: Cosssssey ... love it . Good fabric ... good fit . Soft .\n",
      "        Aspect: fabric\n",
      "        Predict the sentiment for mentioned aspect in the review. Assign one of the following sentiment to the aspect: Positive , Negative , Neutral.\n",
      "        Please provide the sentiment only. No any explanation or extra text\n"
     ]
    },
    {
     "name": "stderr",
     "output_type": "stream",
     "text": [
      "C:\\Users\\Nimra\\AppData\\Local\\Temp\\ipykernel_16236\\2877642716.py:27: FutureWarning: The frame.append method is deprecated and will be removed from pandas in a future version. Use pandas.concat instead.\n",
      "  temp = temp.append(data_to_append, ignore_index=True)\n",
      "c:\\Users\\Nimra\\AppData\\Local\\Programs\\Python\\Python39\\lib\\site-packages\\transformers\\generation\\utils.py:1353: UserWarning: Using `max_length`'s default (20) to control the generation length. This behaviour is deprecated and will be removed from the config in v5 of Transformers -- we recommend using `max_new_tokens` to control the maximum length of the generation.\n",
      "  warnings.warn(\n"
     ]
    },
    {
     "name": "stdout",
     "output_type": "stream",
     "text": [
      "{'dataset_name': 'dotsa/new_Clothing_test', 'sentence': 'Cosssssey ... love it . Good fabric ... good fit . Soft .', 'aspect': 'fabric', 'polarity': 'Positive', 'sentiment_t5': 'Positive'}\n",
      "Review: Cosssssey ... love it . Good fabric ... good fit . Soft .\n",
      "        Aspect:  it\n",
      "        Predict the sentiment for mentioned aspect in the review. Assign one of the following sentiment to the aspect: Positive , Negative , Neutral.\n",
      "        Please provide the sentiment only. No any explanation or extra text\n"
     ]
    },
    {
     "name": "stderr",
     "output_type": "stream",
     "text": [
      "C:\\Users\\Nimra\\AppData\\Local\\Temp\\ipykernel_16236\\2877642716.py:27: FutureWarning: The frame.append method is deprecated and will be removed from pandas in a future version. Use pandas.concat instead.\n",
      "  temp = temp.append(data_to_append, ignore_index=True)\n",
      "c:\\Users\\Nimra\\AppData\\Local\\Programs\\Python\\Python39\\lib\\site-packages\\transformers\\generation\\utils.py:1353: UserWarning: Using `max_length`'s default (20) to control the generation length. This behaviour is deprecated and will be removed from the config in v5 of Transformers -- we recommend using `max_new_tokens` to control the maximum length of the generation.\n",
      "  warnings.warn(\n"
     ]
    },
    {
     "name": "stdout",
     "output_type": "stream",
     "text": [
      "{'dataset_name': 'dotsa/new_Clothing_test', 'sentence': 'Cosssssey ... love it . Good fabric ... good fit . Soft .', 'aspect': ' it', 'polarity': ' Positive', 'sentiment_t5': 'Positive'}\n",
      "Review: These shoes were exactly as ordered , white color matched , shoes are very comfortable and I would order them again if needed .\n",
      "        Aspect: shoes\n",
      "        Predict the sentiment for mentioned aspect in the review. Assign one of the following sentiment to the aspect: Positive , Negative , Neutral.\n",
      "        Please provide the sentiment only. No any explanation or extra text\n"
     ]
    },
    {
     "name": "stderr",
     "output_type": "stream",
     "text": [
      "C:\\Users\\Nimra\\AppData\\Local\\Temp\\ipykernel_16236\\2877642716.py:27: FutureWarning: The frame.append method is deprecated and will be removed from pandas in a future version. Use pandas.concat instead.\n",
      "  temp = temp.append(data_to_append, ignore_index=True)\n",
      "c:\\Users\\Nimra\\AppData\\Local\\Programs\\Python\\Python39\\lib\\site-packages\\transformers\\generation\\utils.py:1353: UserWarning: Using `max_length`'s default (20) to control the generation length. This behaviour is deprecated and will be removed from the config in v5 of Transformers -- we recommend using `max_new_tokens` to control the maximum length of the generation.\n",
      "  warnings.warn(\n"
     ]
    },
    {
     "name": "stdout",
     "output_type": "stream",
     "text": [
      "{'dataset_name': 'dotsa/new_Clothing_test', 'sentence': 'These shoes were exactly as ordered , white color matched , shoes are very comfortable and I would order them again if needed .', 'aspect': 'shoes', 'polarity': 'Positive', 'sentiment_t5': 'Positive'}\n",
      "Review: Love this shoe . I 'm a beginner dancer and they are so comfortable I could wear them all day . Will buy again . I would buy a half size bigger instead of a whole size from your street shoe size .\n",
      "        Aspect: shoe\n",
      "        Predict the sentiment for mentioned aspect in the review. Assign one of the following sentiment to the aspect: Positive , Negative , Neutral.\n",
      "        Please provide the sentiment only. No any explanation or extra text\n"
     ]
    },
    {
     "name": "stderr",
     "output_type": "stream",
     "text": [
      "C:\\Users\\Nimra\\AppData\\Local\\Temp\\ipykernel_16236\\2877642716.py:27: FutureWarning: The frame.append method is deprecated and will be removed from pandas in a future version. Use pandas.concat instead.\n",
      "  temp = temp.append(data_to_append, ignore_index=True)\n",
      "c:\\Users\\Nimra\\AppData\\Local\\Programs\\Python\\Python39\\lib\\site-packages\\transformers\\generation\\utils.py:1353: UserWarning: Using `max_length`'s default (20) to control the generation length. This behaviour is deprecated and will be removed from the config in v5 of Transformers -- we recommend using `max_new_tokens` to control the maximum length of the generation.\n",
      "  warnings.warn(\n"
     ]
    },
    {
     "name": "stdout",
     "output_type": "stream",
     "text": [
      "{'dataset_name': 'dotsa/new_Clothing_test', 'sentence': \"Love this shoe . I 'm a beginner dancer and they are so comfortable I could wear them all day . Will buy again . I would buy a half size bigger instead of a whole size from your street shoe size .\", 'aspect': 'shoe', 'polarity': 'Positive', 'sentiment_t5': 'Positive'}\n",
      "Review: I ordered the Mimosa sandal in 7E Camel . It is true to size and comfortable . I love the style , looks dressy even as a low heel . The footpad inside is man-made material , but with stockings it is comfortable . Too bad the footpad is n't microfiber or something like that .\n",
      "        Aspect: sandal--size\n",
      "        Predict the sentiment for mentioned aspect in the review. Assign one of the following sentiment to the aspect: Positive , Negative , Neutral.\n",
      "        Please provide the sentiment only. No any explanation or extra text\n"
     ]
    },
    {
     "name": "stderr",
     "output_type": "stream",
     "text": [
      "C:\\Users\\Nimra\\AppData\\Local\\Temp\\ipykernel_16236\\2877642716.py:27: FutureWarning: The frame.append method is deprecated and will be removed from pandas in a future version. Use pandas.concat instead.\n",
      "  temp = temp.append(data_to_append, ignore_index=True)\n",
      "c:\\Users\\Nimra\\AppData\\Local\\Programs\\Python\\Python39\\lib\\site-packages\\transformers\\generation\\utils.py:1353: UserWarning: Using `max_length`'s default (20) to control the generation length. This behaviour is deprecated and will be removed from the config in v5 of Transformers -- we recommend using `max_new_tokens` to control the maximum length of the generation.\n",
      "  warnings.warn(\n"
     ]
    },
    {
     "name": "stdout",
     "output_type": "stream",
     "text": [
      "{'dataset_name': 'dotsa/new_Clothing_test', 'sentence': \"I ordered the Mimosa sandal in 7E Camel . It is true to size and comfortable . I love the style , looks dressy even as a low heel . The footpad inside is man-made material , but with stockings it is comfortable . Too bad the footpad is n't microfiber or something like that .\", 'aspect': 'sandal--size', 'polarity': 'Positive', 'sentiment_t5': 'Neutral'}\n",
      "Review: I ordered the Mimosa sandal in 7E Camel . It is true to size and comfortable . I love the style , looks dressy even as a low heel . The footpad inside is man-made material , but with stockings it is comfortable . Too bad the footpad is n't microfiber or something like that .\n",
      "        Aspect:  sandal--footpad\n",
      "        Predict the sentiment for mentioned aspect in the review. Assign one of the following sentiment to the aspect: Positive , Negative , Neutral.\n",
      "        Please provide the sentiment only. No any explanation or extra text\n"
     ]
    },
    {
     "name": "stderr",
     "output_type": "stream",
     "text": [
      "C:\\Users\\Nimra\\AppData\\Local\\Temp\\ipykernel_16236\\2877642716.py:27: FutureWarning: The frame.append method is deprecated and will be removed from pandas in a future version. Use pandas.concat instead.\n",
      "  temp = temp.append(data_to_append, ignore_index=True)\n",
      "c:\\Users\\Nimra\\AppData\\Local\\Programs\\Python\\Python39\\lib\\site-packages\\transformers\\generation\\utils.py:1353: UserWarning: Using `max_length`'s default (20) to control the generation length. This behaviour is deprecated and will be removed from the config in v5 of Transformers -- we recommend using `max_new_tokens` to control the maximum length of the generation.\n",
      "  warnings.warn(\n"
     ]
    },
    {
     "name": "stdout",
     "output_type": "stream",
     "text": [
      "{'dataset_name': 'dotsa/new_Clothing_test', 'sentence': \"I ordered the Mimosa sandal in 7E Camel . It is true to size and comfortable . I love the style , looks dressy even as a low heel . The footpad inside is man-made material , but with stockings it is comfortable . Too bad the footpad is n't microfiber or something like that .\", 'aspect': ' sandal--footpad', 'polarity': ' Mixed', 'sentiment_t5': 'Neutral'}\n",
      "Review: I ordered the Mimosa sandal in 7E Camel . It is true to size and comfortable . I love the style , looks dressy even as a low heel . The footpad inside is man-made material , but with stockings it is comfortable . Too bad the footpad is n't microfiber or something like that .\n",
      "        Aspect:  sandal\n",
      "        Predict the sentiment for mentioned aspect in the review. Assign one of the following sentiment to the aspect: Positive , Negative , Neutral.\n",
      "        Please provide the sentiment only. No any explanation or extra text\n"
     ]
    },
    {
     "name": "stderr",
     "output_type": "stream",
     "text": [
      "C:\\Users\\Nimra\\AppData\\Local\\Temp\\ipykernel_16236\\2877642716.py:27: FutureWarning: The frame.append method is deprecated and will be removed from pandas in a future version. Use pandas.concat instead.\n",
      "  temp = temp.append(data_to_append, ignore_index=True)\n",
      "c:\\Users\\Nimra\\AppData\\Local\\Programs\\Python\\Python39\\lib\\site-packages\\transformers\\generation\\utils.py:1353: UserWarning: Using `max_length`'s default (20) to control the generation length. This behaviour is deprecated and will be removed from the config in v5 of Transformers -- we recommend using `max_new_tokens` to control the maximum length of the generation.\n",
      "  warnings.warn(\n"
     ]
    },
    {
     "name": "stdout",
     "output_type": "stream",
     "text": [
      "{'dataset_name': 'dotsa/new_Clothing_test', 'sentence': \"I ordered the Mimosa sandal in 7E Camel . It is true to size and comfortable . I love the style , looks dressy even as a low heel . The footpad inside is man-made material , but with stockings it is comfortable . Too bad the footpad is n't microfiber or something like that .\", 'aspect': ' sandal', 'polarity': ' Mixed', 'sentiment_t5': 'Neutral'}\n",
      "Review: I ordered the Mimosa sandal in 7E Camel . It is true to size and comfortable . I love the style , looks dressy even as a low heel . The footpad inside is man-made material , but with stockings it is comfortable . Too bad the footpad is n't microfiber or something like that .\n",
      "        Aspect:  sandal--style\n",
      "        Predict the sentiment for mentioned aspect in the review. Assign one of the following sentiment to the aspect: Positive , Negative , Neutral.\n",
      "        Please provide the sentiment only. No any explanation or extra text\n"
     ]
    },
    {
     "name": "stderr",
     "output_type": "stream",
     "text": [
      "C:\\Users\\Nimra\\AppData\\Local\\Temp\\ipykernel_16236\\2877642716.py:27: FutureWarning: The frame.append method is deprecated and will be removed from pandas in a future version. Use pandas.concat instead.\n",
      "  temp = temp.append(data_to_append, ignore_index=True)\n",
      "c:\\Users\\Nimra\\AppData\\Local\\Programs\\Python\\Python39\\lib\\site-packages\\transformers\\generation\\utils.py:1353: UserWarning: Using `max_length`'s default (20) to control the generation length. This behaviour is deprecated and will be removed from the config in v5 of Transformers -- we recommend using `max_new_tokens` to control the maximum length of the generation.\n",
      "  warnings.warn(\n"
     ]
    },
    {
     "name": "stdout",
     "output_type": "stream",
     "text": [
      "{'dataset_name': 'dotsa/new_Clothing_test', 'sentence': \"I ordered the Mimosa sandal in 7E Camel . It is true to size and comfortable . I love the style , looks dressy even as a low heel . The footpad inside is man-made material , but with stockings it is comfortable . Too bad the footpad is n't microfiber or something like that .\", 'aspect': ' sandal--style', 'polarity': ' Positive', 'sentiment_t5': 'Positive'}\n",
      "Review: nice shirt but way to small . % xl was at best 3xl on the small side..\n",
      "        Aspect: shirt\n",
      "        Predict the sentiment for mentioned aspect in the review. Assign one of the following sentiment to the aspect: Positive , Negative , Neutral.\n",
      "        Please provide the sentiment only. No any explanation or extra text\n"
     ]
    },
    {
     "name": "stderr",
     "output_type": "stream",
     "text": [
      "C:\\Users\\Nimra\\AppData\\Local\\Temp\\ipykernel_16236\\2877642716.py:27: FutureWarning: The frame.append method is deprecated and will be removed from pandas in a future version. Use pandas.concat instead.\n",
      "  temp = temp.append(data_to_append, ignore_index=True)\n",
      "c:\\Users\\Nimra\\AppData\\Local\\Programs\\Python\\Python39\\lib\\site-packages\\transformers\\generation\\utils.py:1353: UserWarning: Using `max_length`'s default (20) to control the generation length. This behaviour is deprecated and will be removed from the config in v5 of Transformers -- we recommend using `max_new_tokens` to control the maximum length of the generation.\n",
      "  warnings.warn(\n"
     ]
    },
    {
     "name": "stdout",
     "output_type": "stream",
     "text": [
      "{'dataset_name': 'dotsa/new_Clothing_test', 'sentence': 'nice shirt but way to small . % xl was at best 3xl on the small side..', 'aspect': 'shirt', 'polarity': 'Mixed', 'sentiment_t5': 'Negative'}\n",
      "Review: nice shirt but way to small . % xl was at best 3xl on the small side..\n",
      "        Aspect:  3xl\n",
      "        Predict the sentiment for mentioned aspect in the review. Assign one of the following sentiment to the aspect: Positive , Negative , Neutral.\n",
      "        Please provide the sentiment only. No any explanation or extra text\n"
     ]
    },
    {
     "name": "stderr",
     "output_type": "stream",
     "text": [
      "C:\\Users\\Nimra\\AppData\\Local\\Temp\\ipykernel_16236\\2877642716.py:27: FutureWarning: The frame.append method is deprecated and will be removed from pandas in a future version. Use pandas.concat instead.\n",
      "  temp = temp.append(data_to_append, ignore_index=True)\n",
      "c:\\Users\\Nimra\\AppData\\Local\\Programs\\Python\\Python39\\lib\\site-packages\\transformers\\generation\\utils.py:1353: UserWarning: Using `max_length`'s default (20) to control the generation length. This behaviour is deprecated and will be removed from the config in v5 of Transformers -- we recommend using `max_new_tokens` to control the maximum length of the generation.\n",
      "  warnings.warn(\n"
     ]
    },
    {
     "name": "stdout",
     "output_type": "stream",
     "text": [
      "{'dataset_name': 'dotsa/new_Clothing_test', 'sentence': 'nice shirt but way to small . % xl was at best 3xl on the small side..', 'aspect': ' 3xl', 'polarity': ' Negative', 'sentiment_t5': 'Negative'}\n",
      "Review: nice shirt but way to small . % xl was at best 3xl on the small side..\n",
      "        Aspect:  xl\n",
      "        Predict the sentiment for mentioned aspect in the review. Assign one of the following sentiment to the aspect: Positive , Negative , Neutral.\n",
      "        Please provide the sentiment only. No any explanation or extra text\n"
     ]
    },
    {
     "name": "stderr",
     "output_type": "stream",
     "text": [
      "C:\\Users\\Nimra\\AppData\\Local\\Temp\\ipykernel_16236\\2877642716.py:27: FutureWarning: The frame.append method is deprecated and will be removed from pandas in a future version. Use pandas.concat instead.\n",
      "  temp = temp.append(data_to_append, ignore_index=True)\n",
      "c:\\Users\\Nimra\\AppData\\Local\\Programs\\Python\\Python39\\lib\\site-packages\\transformers\\generation\\utils.py:1353: UserWarning: Using `max_length`'s default (20) to control the generation length. This behaviour is deprecated and will be removed from the config in v5 of Transformers -- we recommend using `max_new_tokens` to control the maximum length of the generation.\n",
      "  warnings.warn(\n"
     ]
    },
    {
     "name": "stdout",
     "output_type": "stream",
     "text": [
      "{'dataset_name': 'dotsa/new_Clothing_test', 'sentence': 'nice shirt but way to small . % xl was at best 3xl on the small side..', 'aspect': ' xl', 'polarity': ' Positive', 'sentiment_t5': 'Negative'}\n",
      "Review: great quality\n",
      "        Aspect: quality\n",
      "        Predict the sentiment for mentioned aspect in the review. Assign one of the following sentiment to the aspect: Positive , Negative , Neutral.\n",
      "        Please provide the sentiment only. No any explanation or extra text\n"
     ]
    },
    {
     "name": "stderr",
     "output_type": "stream",
     "text": [
      "C:\\Users\\Nimra\\AppData\\Local\\Temp\\ipykernel_16236\\2877642716.py:27: FutureWarning: The frame.append method is deprecated and will be removed from pandas in a future version. Use pandas.concat instead.\n",
      "  temp = temp.append(data_to_append, ignore_index=True)\n",
      "c:\\Users\\Nimra\\AppData\\Local\\Programs\\Python\\Python39\\lib\\site-packages\\transformers\\generation\\utils.py:1353: UserWarning: Using `max_length`'s default (20) to control the generation length. This behaviour is deprecated and will be removed from the config in v5 of Transformers -- we recommend using `max_new_tokens` to control the maximum length of the generation.\n",
      "  warnings.warn(\n"
     ]
    },
    {
     "name": "stdout",
     "output_type": "stream",
     "text": [
      "{'dataset_name': 'dotsa/new_Clothing_test', 'sentence': 'great quality', 'aspect': 'quality', 'polarity': 'Positive', 'sentiment_t5': 'Positive'}\n",
      "Review: I usually wear a 9N and I was excited to get this sandal . However , it was very large and I coul n't keep it on my foot it . Unfortunately , I had to pay for the return and it was almost $ 12 . USPS . I will not be ordering any more shoes unless return postage offered..\n",
      "        Aspect: sandal\n",
      "        Predict the sentiment for mentioned aspect in the review. Assign one of the following sentiment to the aspect: Positive , Negative , Neutral.\n",
      "        Please provide the sentiment only. No any explanation or extra text\n"
     ]
    },
    {
     "name": "stderr",
     "output_type": "stream",
     "text": [
      "C:\\Users\\Nimra\\AppData\\Local\\Temp\\ipykernel_16236\\2877642716.py:27: FutureWarning: The frame.append method is deprecated and will be removed from pandas in a future version. Use pandas.concat instead.\n",
      "  temp = temp.append(data_to_append, ignore_index=True)\n",
      "c:\\Users\\Nimra\\AppData\\Local\\Programs\\Python\\Python39\\lib\\site-packages\\transformers\\generation\\utils.py:1353: UserWarning: Using `max_length`'s default (20) to control the generation length. This behaviour is deprecated and will be removed from the config in v5 of Transformers -- we recommend using `max_new_tokens` to control the maximum length of the generation.\n",
      "  warnings.warn(\n"
     ]
    },
    {
     "name": "stdout",
     "output_type": "stream",
     "text": [
      "{'dataset_name': 'dotsa/new_Clothing_test', 'sentence': \"I usually wear a 9N and I was excited to get this sandal . However , it was very large and I coul n't keep it on my foot it . Unfortunately , I had to pay for the return and it was almost $ 12 . USPS . I will not be ordering any more shoes unless return postage offered..\", 'aspect': 'sandal', 'polarity': 'Mixed', 'sentiment_t5': 'Negative'}\n",
      "Review: Very comfortable shoe , but it runs a little wide , as I ordered the narrow .\n",
      "        Aspect: shoe\n",
      "        Predict the sentiment for mentioned aspect in the review. Assign one of the following sentiment to the aspect: Positive , Negative , Neutral.\n",
      "        Please provide the sentiment only. No any explanation or extra text\n"
     ]
    },
    {
     "name": "stderr",
     "output_type": "stream",
     "text": [
      "C:\\Users\\Nimra\\AppData\\Local\\Temp\\ipykernel_16236\\2877642716.py:27: FutureWarning: The frame.append method is deprecated and will be removed from pandas in a future version. Use pandas.concat instead.\n",
      "  temp = temp.append(data_to_append, ignore_index=True)\n",
      "c:\\Users\\Nimra\\AppData\\Local\\Programs\\Python\\Python39\\lib\\site-packages\\transformers\\generation\\utils.py:1353: UserWarning: Using `max_length`'s default (20) to control the generation length. This behaviour is deprecated and will be removed from the config in v5 of Transformers -- we recommend using `max_new_tokens` to control the maximum length of the generation.\n",
      "  warnings.warn(\n"
     ]
    },
    {
     "name": "stdout",
     "output_type": "stream",
     "text": [
      "{'dataset_name': 'dotsa/new_Clothing_test', 'sentence': 'Very comfortable shoe , but it runs a little wide , as I ordered the narrow .', 'aspect': 'shoe', 'polarity': 'Mixed', 'sentiment_t5': 'Neutral'}\n",
      "Review: These sandals are very comfortable and give good support . I have n't done any extended . walking in them-but they were fine for a few hours . I bought them also due to the quality of Life Stride shoes which I have worn in the past . I will most likely purchase another pair .\n",
      "        Aspect: life stride shoes--quality\n",
      "        Predict the sentiment for mentioned aspect in the review. Assign one of the following sentiment to the aspect: Positive , Negative , Neutral.\n",
      "        Please provide the sentiment only. No any explanation or extra text\n"
     ]
    },
    {
     "name": "stderr",
     "output_type": "stream",
     "text": [
      "C:\\Users\\Nimra\\AppData\\Local\\Temp\\ipykernel_16236\\2877642716.py:27: FutureWarning: The frame.append method is deprecated and will be removed from pandas in a future version. Use pandas.concat instead.\n",
      "  temp = temp.append(data_to_append, ignore_index=True)\n",
      "c:\\Users\\Nimra\\AppData\\Local\\Programs\\Python\\Python39\\lib\\site-packages\\transformers\\generation\\utils.py:1353: UserWarning: Using `max_length`'s default (20) to control the generation length. This behaviour is deprecated and will be removed from the config in v5 of Transformers -- we recommend using `max_new_tokens` to control the maximum length of the generation.\n",
      "  warnings.warn(\n"
     ]
    },
    {
     "name": "stdout",
     "output_type": "stream",
     "text": [
      "{'dataset_name': 'dotsa/new_Clothing_test', 'sentence': \"These sandals are very comfortable and give good support . I have n't done any extended . walking in them-but they were fine for a few hours . I bought them also due to the quality of Life Stride shoes which I have worn in the past . I will most likely purchase another pair .\", 'aspect': 'Life Stride shoes--quality', 'polarity': 'Positive', 'sentiment_t5': 'Positive'}\n",
      "Review: These sandals are very comfortable and give good support . I have n't done any extended . walking in them-but they were fine for a few hours . I bought them also due to the quality of Life Stride shoes which I have worn in the past . I will most likely purchase another pair .\n",
      "        Aspect:  sandals\n",
      "        Predict the sentiment for mentioned aspect in the review. Assign one of the following sentiment to the aspect: Positive , Negative , Neutral.\n",
      "        Please provide the sentiment only. No any explanation or extra text\n"
     ]
    },
    {
     "name": "stderr",
     "output_type": "stream",
     "text": [
      "C:\\Users\\Nimra\\AppData\\Local\\Temp\\ipykernel_16236\\2877642716.py:27: FutureWarning: The frame.append method is deprecated and will be removed from pandas in a future version. Use pandas.concat instead.\n",
      "  temp = temp.append(data_to_append, ignore_index=True)\n",
      "c:\\Users\\Nimra\\AppData\\Local\\Programs\\Python\\Python39\\lib\\site-packages\\transformers\\generation\\utils.py:1353: UserWarning: Using `max_length`'s default (20) to control the generation length. This behaviour is deprecated and will be removed from the config in v5 of Transformers -- we recommend using `max_new_tokens` to control the maximum length of the generation.\n",
      "  warnings.warn(\n"
     ]
    },
    {
     "name": "stdout",
     "output_type": "stream",
     "text": [
      "{'dataset_name': 'dotsa/new_Clothing_test', 'sentence': \"These sandals are very comfortable and give good support . I have n't done any extended . walking in them-but they were fine for a few hours . I bought them also due to the quality of Life Stride shoes which I have worn in the past . I will most likely purchase another pair .\", 'aspect': ' sandals', 'polarity': ' Positive', 'sentiment_t5': 'Positive'}\n",
      "Review: I love the look and feel of this top .\n",
      "        Aspect: top--look\n",
      "        Predict the sentiment for mentioned aspect in the review. Assign one of the following sentiment to the aspect: Positive , Negative , Neutral.\n",
      "        Please provide the sentiment only. No any explanation or extra text\n"
     ]
    },
    {
     "name": "stderr",
     "output_type": "stream",
     "text": [
      "C:\\Users\\Nimra\\AppData\\Local\\Temp\\ipykernel_16236\\2877642716.py:27: FutureWarning: The frame.append method is deprecated and will be removed from pandas in a future version. Use pandas.concat instead.\n",
      "  temp = temp.append(data_to_append, ignore_index=True)\n",
      "c:\\Users\\Nimra\\AppData\\Local\\Programs\\Python\\Python39\\lib\\site-packages\\transformers\\generation\\utils.py:1353: UserWarning: Using `max_length`'s default (20) to control the generation length. This behaviour is deprecated and will be removed from the config in v5 of Transformers -- we recommend using `max_new_tokens` to control the maximum length of the generation.\n",
      "  warnings.warn(\n"
     ]
    },
    {
     "name": "stdout",
     "output_type": "stream",
     "text": [
      "{'dataset_name': 'dotsa/new_Clothing_test', 'sentence': 'I love the look and feel of this top .', 'aspect': 'top--look', 'polarity': 'Positive', 'sentiment_t5': 'Positive'}\n",
      "Review: I love the look and feel of this top .\n",
      "        Aspect:  top--feel\n",
      "        Predict the sentiment for mentioned aspect in the review. Assign one of the following sentiment to the aspect: Positive , Negative , Neutral.\n",
      "        Please provide the sentiment only. No any explanation or extra text\n"
     ]
    },
    {
     "name": "stderr",
     "output_type": "stream",
     "text": [
      "C:\\Users\\Nimra\\AppData\\Local\\Temp\\ipykernel_16236\\2877642716.py:27: FutureWarning: The frame.append method is deprecated and will be removed from pandas in a future version. Use pandas.concat instead.\n",
      "  temp = temp.append(data_to_append, ignore_index=True)\n",
      "c:\\Users\\Nimra\\AppData\\Local\\Programs\\Python\\Python39\\lib\\site-packages\\transformers\\generation\\utils.py:1353: UserWarning: Using `max_length`'s default (20) to control the generation length. This behaviour is deprecated and will be removed from the config in v5 of Transformers -- we recommend using `max_new_tokens` to control the maximum length of the generation.\n",
      "  warnings.warn(\n"
     ]
    },
    {
     "name": "stdout",
     "output_type": "stream",
     "text": [
      "{'dataset_name': 'dotsa/new_Clothing_test', 'sentence': 'I love the look and feel of this top .', 'aspect': ' top--feel', 'polarity': ' Positive', 'sentiment_t5': 'Positive'}\n",
      "Review: I like these tights . I do n't really like the tight waistband . It does n't look pretty under a leotard\n",
      "        Aspect: tights\n",
      "        Predict the sentiment for mentioned aspect in the review. Assign one of the following sentiment to the aspect: Positive , Negative , Neutral.\n",
      "        Please provide the sentiment only. No any explanation or extra text\n"
     ]
    },
    {
     "name": "stderr",
     "output_type": "stream",
     "text": [
      "C:\\Users\\Nimra\\AppData\\Local\\Temp\\ipykernel_16236\\2877642716.py:27: FutureWarning: The frame.append method is deprecated and will be removed from pandas in a future version. Use pandas.concat instead.\n",
      "  temp = temp.append(data_to_append, ignore_index=True)\n",
      "c:\\Users\\Nimra\\AppData\\Local\\Programs\\Python\\Python39\\lib\\site-packages\\transformers\\generation\\utils.py:1353: UserWarning: Using `max_length`'s default (20) to control the generation length. This behaviour is deprecated and will be removed from the config in v5 of Transformers -- we recommend using `max_new_tokens` to control the maximum length of the generation.\n",
      "  warnings.warn(\n"
     ]
    },
    {
     "name": "stdout",
     "output_type": "stream",
     "text": [
      "{'dataset_name': 'dotsa/new_Clothing_test', 'sentence': \"I like these tights . I do n't really like the tight waistband . It does n't look pretty under a leotard\", 'aspect': 'tights', 'polarity': 'Mixed', 'sentiment_t5': 'Neutral'}\n",
      "Review: I like these tights . I do n't really like the tight waistband . It does n't look pretty under a leotard\n",
      "        Aspect:  waistband\n",
      "        Predict the sentiment for mentioned aspect in the review. Assign one of the following sentiment to the aspect: Positive , Negative , Neutral.\n",
      "        Please provide the sentiment only. No any explanation or extra text\n"
     ]
    },
    {
     "name": "stderr",
     "output_type": "stream",
     "text": [
      "C:\\Users\\Nimra\\AppData\\Local\\Temp\\ipykernel_16236\\2877642716.py:27: FutureWarning: The frame.append method is deprecated and will be removed from pandas in a future version. Use pandas.concat instead.\n",
      "  temp = temp.append(data_to_append, ignore_index=True)\n",
      "c:\\Users\\Nimra\\AppData\\Local\\Programs\\Python\\Python39\\lib\\site-packages\\transformers\\generation\\utils.py:1353: UserWarning: Using `max_length`'s default (20) to control the generation length. This behaviour is deprecated and will be removed from the config in v5 of Transformers -- we recommend using `max_new_tokens` to control the maximum length of the generation.\n",
      "  warnings.warn(\n"
     ]
    },
    {
     "name": "stdout",
     "output_type": "stream",
     "text": [
      "{'dataset_name': 'dotsa/new_Clothing_test', 'sentence': \"I like these tights . I do n't really like the tight waistband . It does n't look pretty under a leotard\", 'aspect': ' waistband', 'polarity': ' Negative', 'sentiment_t5': 'Neutral'}\n",
      "Review: Good shoe for the price . But let it be known that you still need to buy taps for them . Would have been nice to have that link with it to get them . In BIG RED writing .\n",
      "        Aspect: shoe\n",
      "        Predict the sentiment for mentioned aspect in the review. Assign one of the following sentiment to the aspect: Positive , Negative , Neutral.\n",
      "        Please provide the sentiment only. No any explanation or extra text\n"
     ]
    },
    {
     "name": "stderr",
     "output_type": "stream",
     "text": [
      "C:\\Users\\Nimra\\AppData\\Local\\Temp\\ipykernel_16236\\2877642716.py:27: FutureWarning: The frame.append method is deprecated and will be removed from pandas in a future version. Use pandas.concat instead.\n",
      "  temp = temp.append(data_to_append, ignore_index=True)\n",
      "c:\\Users\\Nimra\\AppData\\Local\\Programs\\Python\\Python39\\lib\\site-packages\\transformers\\generation\\utils.py:1353: UserWarning: Using `max_length`'s default (20) to control the generation length. This behaviour is deprecated and will be removed from the config in v5 of Transformers -- we recommend using `max_new_tokens` to control the maximum length of the generation.\n",
      "  warnings.warn(\n"
     ]
    },
    {
     "name": "stdout",
     "output_type": "stream",
     "text": [
      "{'dataset_name': 'dotsa/new_Clothing_test', 'sentence': 'Good shoe for the price . But let it be known that you still need to buy taps for them . Would have been nice to have that link with it to get them . In BIG RED writing .', 'aspect': 'shoe', 'polarity': 'Mixed', 'sentiment_t5': 'Positive'}\n",
      "Review: These ran short in the toe box . They were not true to size .\n",
      "        Aspect: size\n",
      "        Predict the sentiment for mentioned aspect in the review. Assign one of the following sentiment to the aspect: Positive , Negative , Neutral.\n",
      "        Please provide the sentiment only. No any explanation or extra text\n"
     ]
    },
    {
     "name": "stderr",
     "output_type": "stream",
     "text": [
      "C:\\Users\\Nimra\\AppData\\Local\\Temp\\ipykernel_16236\\2877642716.py:27: FutureWarning: The frame.append method is deprecated and will be removed from pandas in a future version. Use pandas.concat instead.\n",
      "  temp = temp.append(data_to_append, ignore_index=True)\n",
      "c:\\Users\\Nimra\\AppData\\Local\\Programs\\Python\\Python39\\lib\\site-packages\\transformers\\generation\\utils.py:1353: UserWarning: Using `max_length`'s default (20) to control the generation length. This behaviour is deprecated and will be removed from the config in v5 of Transformers -- we recommend using `max_new_tokens` to control the maximum length of the generation.\n",
      "  warnings.warn(\n"
     ]
    },
    {
     "name": "stdout",
     "output_type": "stream",
     "text": [
      "{'dataset_name': 'dotsa/new_Clothing_test', 'sentence': 'These ran short in the toe box . They were not true to size .', 'aspect': 'size', 'polarity': 'Negative', 'sentiment_t5': 'Negative'}\n",
      "Review: These ran short in the toe box . They were not true to size .\n",
      "        Aspect:  these\n",
      "        Predict the sentiment for mentioned aspect in the review. Assign one of the following sentiment to the aspect: Positive , Negative , Neutral.\n",
      "        Please provide the sentiment only. No any explanation or extra text\n"
     ]
    },
    {
     "name": "stderr",
     "output_type": "stream",
     "text": [
      "C:\\Users\\Nimra\\AppData\\Local\\Temp\\ipykernel_16236\\2877642716.py:27: FutureWarning: The frame.append method is deprecated and will be removed from pandas in a future version. Use pandas.concat instead.\n",
      "  temp = temp.append(data_to_append, ignore_index=True)\n",
      "c:\\Users\\Nimra\\AppData\\Local\\Programs\\Python\\Python39\\lib\\site-packages\\transformers\\generation\\utils.py:1353: UserWarning: Using `max_length`'s default (20) to control the generation length. This behaviour is deprecated and will be removed from the config in v5 of Transformers -- we recommend using `max_new_tokens` to control the maximum length of the generation.\n",
      "  warnings.warn(\n"
     ]
    },
    {
     "name": "stdout",
     "output_type": "stream",
     "text": [
      "{'dataset_name': 'dotsa/new_Clothing_test', 'sentence': 'These ran short in the toe box . They were not true to size .', 'aspect': ' These', 'polarity': ' Negative', 'sentiment_t5': 'Negative'}\n",
      "Review: Huge sleeves , Baggy sleeves , do n't buy unless you see it first .\n",
      "        Aspect: sleeves\n",
      "        Predict the sentiment for mentioned aspect in the review. Assign one of the following sentiment to the aspect: Positive , Negative , Neutral.\n",
      "        Please provide the sentiment only. No any explanation or extra text\n"
     ]
    },
    {
     "name": "stderr",
     "output_type": "stream",
     "text": [
      "C:\\Users\\Nimra\\AppData\\Local\\Temp\\ipykernel_16236\\2877642716.py:27: FutureWarning: The frame.append method is deprecated and will be removed from pandas in a future version. Use pandas.concat instead.\n",
      "  temp = temp.append(data_to_append, ignore_index=True)\n",
      "c:\\Users\\Nimra\\AppData\\Local\\Programs\\Python\\Python39\\lib\\site-packages\\transformers\\generation\\utils.py:1353: UserWarning: Using `max_length`'s default (20) to control the generation length. This behaviour is deprecated and will be removed from the config in v5 of Transformers -- we recommend using `max_new_tokens` to control the maximum length of the generation.\n",
      "  warnings.warn(\n"
     ]
    },
    {
     "name": "stdout",
     "output_type": "stream",
     "text": [
      "{'dataset_name': 'dotsa/new_Clothing_test', 'sentence': \"Huge sleeves , Baggy sleeves , do n't buy unless you see it first .\", 'aspect': 'sleeves', 'polarity': 'Negative', 'sentiment_t5': 'Negative'}\n",
      "Review: Huge sleeves , Baggy sleeves , do n't buy unless you see it first .\n",
      "        Aspect:  it\n",
      "        Predict the sentiment for mentioned aspect in the review. Assign one of the following sentiment to the aspect: Positive , Negative , Neutral.\n",
      "        Please provide the sentiment only. No any explanation or extra text\n"
     ]
    },
    {
     "name": "stderr",
     "output_type": "stream",
     "text": [
      "C:\\Users\\Nimra\\AppData\\Local\\Temp\\ipykernel_16236\\2877642716.py:27: FutureWarning: The frame.append method is deprecated and will be removed from pandas in a future version. Use pandas.concat instead.\n",
      "  temp = temp.append(data_to_append, ignore_index=True)\n",
      "c:\\Users\\Nimra\\AppData\\Local\\Programs\\Python\\Python39\\lib\\site-packages\\transformers\\generation\\utils.py:1353: UserWarning: Using `max_length`'s default (20) to control the generation length. This behaviour is deprecated and will be removed from the config in v5 of Transformers -- we recommend using `max_new_tokens` to control the maximum length of the generation.\n",
      "  warnings.warn(\n"
     ]
    },
    {
     "name": "stdout",
     "output_type": "stream",
     "text": [
      "{'dataset_name': 'dotsa/new_Clothing_test', 'sentence': \"Huge sleeves , Baggy sleeves , do n't buy unless you see it first .\", 'aspect': ' it', 'polarity': ' Negative', 'sentiment_t5': 'Negative'}\n",
      "Review: Just received these shoes yesterday and feel that they will be perfect for the two line dancing classes I participate in every week . I wear a 7-1/2 shoe and ordered a full size larger which fit well . The toe area is a little narrow so I am glad I chose the larger size . It still feels a little snug on my big toe but expect that to subside as I break in the shoes . The caramel color is very attractive and will blend well with summer and winter colors . Will update in a few weeks .\n",
      "        Aspect: shoes--toe area\n",
      "        Predict the sentiment for mentioned aspect in the review. Assign one of the following sentiment to the aspect: Positive , Negative , Neutral.\n",
      "        Please provide the sentiment only. No any explanation or extra text\n"
     ]
    },
    {
     "name": "stderr",
     "output_type": "stream",
     "text": [
      "C:\\Users\\Nimra\\AppData\\Local\\Temp\\ipykernel_16236\\2877642716.py:27: FutureWarning: The frame.append method is deprecated and will be removed from pandas in a future version. Use pandas.concat instead.\n",
      "  temp = temp.append(data_to_append, ignore_index=True)\n",
      "c:\\Users\\Nimra\\AppData\\Local\\Programs\\Python\\Python39\\lib\\site-packages\\transformers\\generation\\utils.py:1353: UserWarning: Using `max_length`'s default (20) to control the generation length. This behaviour is deprecated and will be removed from the config in v5 of Transformers -- we recommend using `max_new_tokens` to control the maximum length of the generation.\n",
      "  warnings.warn(\n"
     ]
    },
    {
     "name": "stdout",
     "output_type": "stream",
     "text": [
      "{'dataset_name': 'dotsa/new_Clothing_test', 'sentence': 'Just received these shoes yesterday and feel that they will be perfect for the two line dancing classes I participate in every week . I wear a 7-1/2 shoe and ordered a full size larger which fit well . The toe area is a little narrow so I am glad I chose the larger size . It still feels a little snug on my big toe but expect that to subside as I break in the shoes . The caramel color is very attractive and will blend well with summer and winter colors . Will update in a few weeks .', 'aspect': 'shoes--toe area', 'polarity': 'Negative', 'sentiment_t5': 'Neutral'}\n",
      "Review: Just received these shoes yesterday and feel that they will be perfect for the two line dancing classes I participate in every week . I wear a 7-1/2 shoe and ordered a full size larger which fit well . The toe area is a little narrow so I am glad I chose the larger size . It still feels a little snug on my big toe but expect that to subside as I break in the shoes . The caramel color is very attractive and will blend well with summer and winter colors . Will update in a few weeks .\n",
      "        Aspect:  shoes--color\n",
      "        Predict the sentiment for mentioned aspect in the review. Assign one of the following sentiment to the aspect: Positive , Negative , Neutral.\n",
      "        Please provide the sentiment only. No any explanation or extra text\n"
     ]
    },
    {
     "name": "stderr",
     "output_type": "stream",
     "text": [
      "C:\\Users\\Nimra\\AppData\\Local\\Temp\\ipykernel_16236\\2877642716.py:27: FutureWarning: The frame.append method is deprecated and will be removed from pandas in a future version. Use pandas.concat instead.\n",
      "  temp = temp.append(data_to_append, ignore_index=True)\n",
      "c:\\Users\\Nimra\\AppData\\Local\\Programs\\Python\\Python39\\lib\\site-packages\\transformers\\generation\\utils.py:1353: UserWarning: Using `max_length`'s default (20) to control the generation length. This behaviour is deprecated and will be removed from the config in v5 of Transformers -- we recommend using `max_new_tokens` to control the maximum length of the generation.\n",
      "  warnings.warn(\n"
     ]
    },
    {
     "name": "stdout",
     "output_type": "stream",
     "text": [
      "{'dataset_name': 'dotsa/new_Clothing_test', 'sentence': 'Just received these shoes yesterday and feel that they will be perfect for the two line dancing classes I participate in every week . I wear a 7-1/2 shoe and ordered a full size larger which fit well . The toe area is a little narrow so I am glad I chose the larger size . It still feels a little snug on my big toe but expect that to subside as I break in the shoes . The caramel color is very attractive and will blend well with summer and winter colors . Will update in a few weeks .', 'aspect': ' shoes--color', 'polarity': ' Positive', 'sentiment_t5': 'Positive'}\n",
      "Review: Just received these shoes yesterday and feel that they will be perfect for the two line dancing classes I participate in every week . I wear a 7-1/2 shoe and ordered a full size larger which fit well . The toe area is a little narrow so I am glad I chose the larger size . It still feels a little snug on my big toe but expect that to subside as I break in the shoes . The caramel color is very attractive and will blend well with summer and winter colors . Will update in a few weeks .\n",
      "        Aspect:  shoes\n",
      "        Predict the sentiment for mentioned aspect in the review. Assign one of the following sentiment to the aspect: Positive , Negative , Neutral.\n",
      "        Please provide the sentiment only. No any explanation or extra text\n"
     ]
    },
    {
     "name": "stderr",
     "output_type": "stream",
     "text": [
      "C:\\Users\\Nimra\\AppData\\Local\\Temp\\ipykernel_16236\\2877642716.py:27: FutureWarning: The frame.append method is deprecated and will be removed from pandas in a future version. Use pandas.concat instead.\n",
      "  temp = temp.append(data_to_append, ignore_index=True)\n",
      "c:\\Users\\Nimra\\AppData\\Local\\Programs\\Python\\Python39\\lib\\site-packages\\transformers\\generation\\utils.py:1353: UserWarning: Using `max_length`'s default (20) to control the generation length. This behaviour is deprecated and will be removed from the config in v5 of Transformers -- we recommend using `max_new_tokens` to control the maximum length of the generation.\n",
      "  warnings.warn(\n"
     ]
    },
    {
     "name": "stdout",
     "output_type": "stream",
     "text": [
      "{'dataset_name': 'dotsa/new_Clothing_test', 'sentence': 'Just received these shoes yesterday and feel that they will be perfect for the two line dancing classes I participate in every week . I wear a 7-1/2 shoe and ordered a full size larger which fit well . The toe area is a little narrow so I am glad I chose the larger size . It still feels a little snug on my big toe but expect that to subside as I break in the shoes . The caramel color is very attractive and will blend well with summer and winter colors . Will update in a few weeks .', 'aspect': ' shoes', 'polarity': ' Mixed', 'sentiment_t5': 'Positive'}\n",
      "Review: I can\\'t begin to tell you how disappointed I was in the Mimosa in a wide size . I knew before I even tried it on that it would not fit . It seems like Life Stride thinks all folks can wear a medium . The shoe is so cute , and would have been perfect for an upcoming wedding , and for summer . But no way was it wide . I am short , 5\\ ' 1 , have a size 6 1/2 W or WW foot . You really let me down when this shoe did not even look wide . Come on , if you can\\'t provide wide , don\\'t advertise as wide .\n",
      "        Aspect: mimosa\n",
      "        Predict the sentiment for mentioned aspect in the review. Assign one of the following sentiment to the aspect: Positive , Negative , Neutral.\n",
      "        Please provide the sentiment only. No any explanation or extra text\n"
     ]
    },
    {
     "name": "stderr",
     "output_type": "stream",
     "text": [
      "C:\\Users\\Nimra\\AppData\\Local\\Temp\\ipykernel_16236\\2877642716.py:27: FutureWarning: The frame.append method is deprecated and will be removed from pandas in a future version. Use pandas.concat instead.\n",
      "  temp = temp.append(data_to_append, ignore_index=True)\n",
      "c:\\Users\\Nimra\\AppData\\Local\\Programs\\Python\\Python39\\lib\\site-packages\\transformers\\generation\\utils.py:1353: UserWarning: Using `max_length`'s default (20) to control the generation length. This behaviour is deprecated and will be removed from the config in v5 of Transformers -- we recommend using `max_new_tokens` to control the maximum length of the generation.\n",
      "  warnings.warn(\n"
     ]
    },
    {
     "name": "stdout",
     "output_type": "stream",
     "text": [
      "{'dataset_name': 'dotsa/new_Clothing_test', 'sentence': \"I can\\\\'t begin to tell you how disappointed I was in the Mimosa in a wide size . I knew before I even tried it on that it would not fit . It seems like Life Stride thinks all folks can wear a medium . The shoe is so cute , and would have been perfect for an upcoming wedding , and for summer . But no way was it wide . I am short , 5\\\\ ' 1 , have a size 6 1/2 W or WW foot . You really let me down when this shoe did not even look wide . Come on , if you can\\\\'t provide wide , don\\\\'t advertise as wide .\", 'aspect': 'Mimosa', 'polarity': 'Negative', 'sentiment_t5': 'Negative'}\n",
      "Review: I can\\'t begin to tell you how disappointed I was in the Mimosa in a wide size . I knew before I even tried it on that it would not fit . It seems like Life Stride thinks all folks can wear a medium . The shoe is so cute , and would have been perfect for an upcoming wedding , and for summer . But no way was it wide . I am short , 5\\ ' 1 , have a size 6 1/2 W or WW foot . You really let me down when this shoe did not even look wide . Come on , if you can\\'t provide wide , don\\'t advertise as wide .\n",
      "        Aspect:  shoe\n",
      "        Predict the sentiment for mentioned aspect in the review. Assign one of the following sentiment to the aspect: Positive , Negative , Neutral.\n",
      "        Please provide the sentiment only. No any explanation or extra text\n"
     ]
    },
    {
     "name": "stderr",
     "output_type": "stream",
     "text": [
      "C:\\Users\\Nimra\\AppData\\Local\\Temp\\ipykernel_16236\\2877642716.py:27: FutureWarning: The frame.append method is deprecated and will be removed from pandas in a future version. Use pandas.concat instead.\n",
      "  temp = temp.append(data_to_append, ignore_index=True)\n",
      "c:\\Users\\Nimra\\AppData\\Local\\Programs\\Python\\Python39\\lib\\site-packages\\transformers\\generation\\utils.py:1353: UserWarning: Using `max_length`'s default (20) to control the generation length. This behaviour is deprecated and will be removed from the config in v5 of Transformers -- we recommend using `max_new_tokens` to control the maximum length of the generation.\n",
      "  warnings.warn(\n"
     ]
    },
    {
     "name": "stdout",
     "output_type": "stream",
     "text": [
      "{'dataset_name': 'dotsa/new_Clothing_test', 'sentence': \"I can\\\\'t begin to tell you how disappointed I was in the Mimosa in a wide size . I knew before I even tried it on that it would not fit . It seems like Life Stride thinks all folks can wear a medium . The shoe is so cute , and would have been perfect for an upcoming wedding , and for summer . But no way was it wide . I am short , 5\\\\ ' 1 , have a size 6 1/2 W or WW foot . You really let me down when this shoe did not even look wide . Come on , if you can\\\\'t provide wide , don\\\\'t advertise as wide .\", 'aspect': ' shoe', 'polarity': ' Mixed', 'sentiment_t5': 'Negative'}\n",
      "Review: Altho they are narrows they are a little wide and the heel strap is a bit loose .\n",
      "        Aspect: heel strap\n",
      "        Predict the sentiment for mentioned aspect in the review. Assign one of the following sentiment to the aspect: Positive , Negative , Neutral.\n",
      "        Please provide the sentiment only. No any explanation or extra text\n"
     ]
    },
    {
     "name": "stderr",
     "output_type": "stream",
     "text": [
      "C:\\Users\\Nimra\\AppData\\Local\\Temp\\ipykernel_16236\\2877642716.py:27: FutureWarning: The frame.append method is deprecated and will be removed from pandas in a future version. Use pandas.concat instead.\n",
      "  temp = temp.append(data_to_append, ignore_index=True)\n",
      "c:\\Users\\Nimra\\AppData\\Local\\Programs\\Python\\Python39\\lib\\site-packages\\transformers\\generation\\utils.py:1353: UserWarning: Using `max_length`'s default (20) to control the generation length. This behaviour is deprecated and will be removed from the config in v5 of Transformers -- we recommend using `max_new_tokens` to control the maximum length of the generation.\n",
      "  warnings.warn(\n"
     ]
    },
    {
     "name": "stdout",
     "output_type": "stream",
     "text": [
      "{'dataset_name': 'dotsa/new_Clothing_test', 'sentence': 'Altho they are narrows they are a little wide and the heel strap is a bit loose .', 'aspect': 'heel strap', 'polarity': 'Negative', 'sentiment_t5': 'Neutral'}\n",
      "Review: Altho they are narrows they are a little wide and the heel strap is a bit loose .\n",
      "        Aspect:  they\n",
      "        Predict the sentiment for mentioned aspect in the review. Assign one of the following sentiment to the aspect: Positive , Negative , Neutral.\n",
      "        Please provide the sentiment only. No any explanation or extra text\n"
     ]
    },
    {
     "name": "stderr",
     "output_type": "stream",
     "text": [
      "C:\\Users\\Nimra\\AppData\\Local\\Temp\\ipykernel_16236\\2877642716.py:27: FutureWarning: The frame.append method is deprecated and will be removed from pandas in a future version. Use pandas.concat instead.\n",
      "  temp = temp.append(data_to_append, ignore_index=True)\n",
      "c:\\Users\\Nimra\\AppData\\Local\\Programs\\Python\\Python39\\lib\\site-packages\\transformers\\generation\\utils.py:1353: UserWarning: Using `max_length`'s default (20) to control the generation length. This behaviour is deprecated and will be removed from the config in v5 of Transformers -- we recommend using `max_new_tokens` to control the maximum length of the generation.\n",
      "  warnings.warn(\n"
     ]
    },
    {
     "name": "stdout",
     "output_type": "stream",
     "text": [
      "{'dataset_name': 'dotsa/new_Clothing_test', 'sentence': 'Altho they are narrows they are a little wide and the heel strap is a bit loose .', 'aspect': ' they', 'polarity': ' Negative', 'sentiment_t5': 'Neutral'}\n",
      "Review: Couldnt find a plain white sweatshirt in any Walmart or target . This worked well for Halloween\n",
      "        Aspect: sweatshirt\n",
      "        Predict the sentiment for mentioned aspect in the review. Assign one of the following sentiment to the aspect: Positive , Negative , Neutral.\n",
      "        Please provide the sentiment only. No any explanation or extra text\n"
     ]
    },
    {
     "name": "stderr",
     "output_type": "stream",
     "text": [
      "C:\\Users\\Nimra\\AppData\\Local\\Temp\\ipykernel_16236\\2877642716.py:27: FutureWarning: The frame.append method is deprecated and will be removed from pandas in a future version. Use pandas.concat instead.\n",
      "  temp = temp.append(data_to_append, ignore_index=True)\n",
      "c:\\Users\\Nimra\\AppData\\Local\\Programs\\Python\\Python39\\lib\\site-packages\\transformers\\generation\\utils.py:1353: UserWarning: Using `max_length`'s default (20) to control the generation length. This behaviour is deprecated and will be removed from the config in v5 of Transformers -- we recommend using `max_new_tokens` to control the maximum length of the generation.\n",
      "  warnings.warn(\n"
     ]
    },
    {
     "name": "stdout",
     "output_type": "stream",
     "text": [
      "{'dataset_name': 'dotsa/new_Clothing_test', 'sentence': 'Couldnt find a plain white sweatshirt in any Walmart or target . This worked well for Halloween', 'aspect': 'sweatshirt', 'polarity': 'Positive', 'sentiment_t5': 'Positive'}\n",
      "Review: Excellent shoe . The fit is comfortable and snug but not too tight and no pain when wearing them , painless , stylish , arrived on time , and these can be worn for dance , casual , or formal , anything really , not too thick and bulky , not to thin and flimsy , perfect fit , they 're good shoes , I would recommend .\n",
      "        Aspect: shoes\n",
      "        Predict the sentiment for mentioned aspect in the review. Assign one of the following sentiment to the aspect: Positive , Negative , Neutral.\n",
      "        Please provide the sentiment only. No any explanation or extra text\n"
     ]
    },
    {
     "name": "stderr",
     "output_type": "stream",
     "text": [
      "C:\\Users\\Nimra\\AppData\\Local\\Temp\\ipykernel_16236\\2877642716.py:27: FutureWarning: The frame.append method is deprecated and will be removed from pandas in a future version. Use pandas.concat instead.\n",
      "  temp = temp.append(data_to_append, ignore_index=True)\n",
      "c:\\Users\\Nimra\\AppData\\Local\\Programs\\Python\\Python39\\lib\\site-packages\\transformers\\generation\\utils.py:1353: UserWarning: Using `max_length`'s default (20) to control the generation length. This behaviour is deprecated and will be removed from the config in v5 of Transformers -- we recommend using `max_new_tokens` to control the maximum length of the generation.\n",
      "  warnings.warn(\n"
     ]
    },
    {
     "name": "stdout",
     "output_type": "stream",
     "text": [
      "{'dataset_name': 'dotsa/new_Clothing_test', 'sentence': \"Excellent shoe . The fit is comfortable and snug but not too tight and no pain when wearing them , painless , stylish , arrived on time , and these can be worn for dance , casual , or formal , anything really , not too thick and bulky , not to thin and flimsy , perfect fit , they 're good shoes , I would recommend .\", 'aspect': 'shoes', 'polarity': 'Positive', 'sentiment_t5': 'Positive'}\n",
      "Review: Great neutral color and simple design .\n",
      "        Aspect: design\n",
      "        Predict the sentiment for mentioned aspect in the review. Assign one of the following sentiment to the aspect: Positive , Negative , Neutral.\n",
      "        Please provide the sentiment only. No any explanation or extra text\n"
     ]
    },
    {
     "name": "stderr",
     "output_type": "stream",
     "text": [
      "C:\\Users\\Nimra\\AppData\\Local\\Temp\\ipykernel_16236\\2877642716.py:27: FutureWarning: The frame.append method is deprecated and will be removed from pandas in a future version. Use pandas.concat instead.\n",
      "  temp = temp.append(data_to_append, ignore_index=True)\n",
      "c:\\Users\\Nimra\\AppData\\Local\\Programs\\Python\\Python39\\lib\\site-packages\\transformers\\generation\\utils.py:1353: UserWarning: Using `max_length`'s default (20) to control the generation length. This behaviour is deprecated and will be removed from the config in v5 of Transformers -- we recommend using `max_new_tokens` to control the maximum length of the generation.\n",
      "  warnings.warn(\n"
     ]
    },
    {
     "name": "stdout",
     "output_type": "stream",
     "text": [
      "{'dataset_name': 'dotsa/new_Clothing_test', 'sentence': 'Great neutral color and simple design .', 'aspect': 'design', 'polarity': 'Positive', 'sentiment_t5': 'Positive'}\n",
      "Review: Great neutral color and simple design .\n",
      "        Aspect:  color\n",
      "        Predict the sentiment for mentioned aspect in the review. Assign one of the following sentiment to the aspect: Positive , Negative , Neutral.\n",
      "        Please provide the sentiment only. No any explanation or extra text\n"
     ]
    },
    {
     "name": "stderr",
     "output_type": "stream",
     "text": [
      "C:\\Users\\Nimra\\AppData\\Local\\Temp\\ipykernel_16236\\2877642716.py:27: FutureWarning: The frame.append method is deprecated and will be removed from pandas in a future version. Use pandas.concat instead.\n",
      "  temp = temp.append(data_to_append, ignore_index=True)\n",
      "c:\\Users\\Nimra\\AppData\\Local\\Programs\\Python\\Python39\\lib\\site-packages\\transformers\\generation\\utils.py:1353: UserWarning: Using `max_length`'s default (20) to control the generation length. This behaviour is deprecated and will be removed from the config in v5 of Transformers -- we recommend using `max_new_tokens` to control the maximum length of the generation.\n",
      "  warnings.warn(\n"
     ]
    },
    {
     "name": "stdout",
     "output_type": "stream",
     "text": [
      "{'dataset_name': 'dotsa/new_Clothing_test', 'sentence': 'Great neutral color and simple design .', 'aspect': ' color', 'polarity': ' Positive', 'sentiment_t5': 'Positive'}\n",
      "Review: In my 2nd month of wearing these . I have to use inserts in all of my shoes ( including house slippers ) so these ended up being a little tight at first . Thanks to being deer skin , they stretch just the right amount . I still like the double deerskin sole better for comfort but it 's nice to have the rubber soles for wearing outdoors and no leather ties to have to mess with .\n",
      "        Aspect: deer skin\n",
      "        Predict the sentiment for mentioned aspect in the review. Assign one of the following sentiment to the aspect: Positive , Negative , Neutral.\n",
      "        Please provide the sentiment only. No any explanation or extra text\n"
     ]
    },
    {
     "name": "stderr",
     "output_type": "stream",
     "text": [
      "C:\\Users\\Nimra\\AppData\\Local\\Temp\\ipykernel_16236\\2877642716.py:27: FutureWarning: The frame.append method is deprecated and will be removed from pandas in a future version. Use pandas.concat instead.\n",
      "  temp = temp.append(data_to_append, ignore_index=True)\n",
      "c:\\Users\\Nimra\\AppData\\Local\\Programs\\Python\\Python39\\lib\\site-packages\\transformers\\generation\\utils.py:1353: UserWarning: Using `max_length`'s default (20) to control the generation length. This behaviour is deprecated and will be removed from the config in v5 of Transformers -- we recommend using `max_new_tokens` to control the maximum length of the generation.\n",
      "  warnings.warn(\n"
     ]
    },
    {
     "name": "stdout",
     "output_type": "stream",
     "text": [
      "{'dataset_name': 'dotsa/new_Clothing_test', 'sentence': \"In my 2nd month of wearing these . I have to use inserts in all of my shoes ( including house slippers ) so these ended up being a little tight at first . Thanks to being deer skin , they stretch just the right amount . I still like the double deerskin sole better for comfort but it 's nice to have the rubber soles for wearing outdoors and no leather ties to have to mess with .\", 'aspect': 'deer skin', 'polarity': 'Positive', 'sentiment_t5': 'Neutral'}\n",
      "Review: In my 2nd month of wearing these . I have to use inserts in all of my shoes ( including house slippers ) so these ended up being a little tight at first . Thanks to being deer skin , they stretch just the right amount . I still like the double deerskin sole better for comfort but it 's nice to have the rubber soles for wearing outdoors and no leather ties to have to mess with .\n",
      "        Aspect:  rubber soles\n",
      "        Predict the sentiment for mentioned aspect in the review. Assign one of the following sentiment to the aspect: Positive , Negative , Neutral.\n",
      "        Please provide the sentiment only. No any explanation or extra text\n"
     ]
    },
    {
     "name": "stderr",
     "output_type": "stream",
     "text": [
      "C:\\Users\\Nimra\\AppData\\Local\\Temp\\ipykernel_16236\\2877642716.py:27: FutureWarning: The frame.append method is deprecated and will be removed from pandas in a future version. Use pandas.concat instead.\n",
      "  temp = temp.append(data_to_append, ignore_index=True)\n",
      "c:\\Users\\Nimra\\AppData\\Local\\Programs\\Python\\Python39\\lib\\site-packages\\transformers\\generation\\utils.py:1353: UserWarning: Using `max_length`'s default (20) to control the generation length. This behaviour is deprecated and will be removed from the config in v5 of Transformers -- we recommend using `max_new_tokens` to control the maximum length of the generation.\n",
      "  warnings.warn(\n"
     ]
    },
    {
     "name": "stdout",
     "output_type": "stream",
     "text": [
      "{'dataset_name': 'dotsa/new_Clothing_test', 'sentence': \"In my 2nd month of wearing these . I have to use inserts in all of my shoes ( including house slippers ) so these ended up being a little tight at first . Thanks to being deer skin , they stretch just the right amount . I still like the double deerskin sole better for comfort but it 's nice to have the rubber soles for wearing outdoors and no leather ties to have to mess with .\", 'aspect': ' rubber soles', 'polarity': ' Positive', 'sentiment_t5': 'Neutral'}\n",
      "Review: In my 2nd month of wearing these . I have to use inserts in all of my shoes ( including house slippers ) so these ended up being a little tight at first . Thanks to being deer skin , they stretch just the right amount . I still like the double deerskin sole better for comfort but it 's nice to have the rubber soles for wearing outdoors and no leather ties to have to mess with .\n",
      "        Aspect:  double deerskin sole\n",
      "        Predict the sentiment for mentioned aspect in the review. Assign one of the following sentiment to the aspect: Positive , Negative , Neutral.\n",
      "        Please provide the sentiment only. No any explanation or extra text\n"
     ]
    },
    {
     "name": "stderr",
     "output_type": "stream",
     "text": [
      "C:\\Users\\Nimra\\AppData\\Local\\Temp\\ipykernel_16236\\2877642716.py:27: FutureWarning: The frame.append method is deprecated and will be removed from pandas in a future version. Use pandas.concat instead.\n",
      "  temp = temp.append(data_to_append, ignore_index=True)\n",
      "c:\\Users\\Nimra\\AppData\\Local\\Programs\\Python\\Python39\\lib\\site-packages\\transformers\\generation\\utils.py:1353: UserWarning: Using `max_length`'s default (20) to control the generation length. This behaviour is deprecated and will be removed from the config in v5 of Transformers -- we recommend using `max_new_tokens` to control the maximum length of the generation.\n",
      "  warnings.warn(\n"
     ]
    },
    {
     "name": "stdout",
     "output_type": "stream",
     "text": [
      "{'dataset_name': 'dotsa/new_Clothing_test', 'sentence': \"In my 2nd month of wearing these . I have to use inserts in all of my shoes ( including house slippers ) so these ended up being a little tight at first . Thanks to being deer skin , they stretch just the right amount . I still like the double deerskin sole better for comfort but it 's nice to have the rubber soles for wearing outdoors and no leather ties to have to mess with .\", 'aspect': ' double deerskin sole', 'polarity': ' Positive', 'sentiment_t5': 'Neutral'}\n",
      "Review: In my 2nd month of wearing these . I have to use inserts in all of my shoes ( including house slippers ) so these ended up being a little tight at first . Thanks to being deer skin , they stretch just the right amount . I still like the double deerskin sole better for comfort but it 's nice to have the rubber soles for wearing outdoors and no leather ties to have to mess with .\n",
      "        Aspect:  these\n",
      "        Predict the sentiment for mentioned aspect in the review. Assign one of the following sentiment to the aspect: Positive , Negative , Neutral.\n",
      "        Please provide the sentiment only. No any explanation or extra text\n"
     ]
    },
    {
     "name": "stderr",
     "output_type": "stream",
     "text": [
      "C:\\Users\\Nimra\\AppData\\Local\\Temp\\ipykernel_16236\\2877642716.py:27: FutureWarning: The frame.append method is deprecated and will be removed from pandas in a future version. Use pandas.concat instead.\n",
      "  temp = temp.append(data_to_append, ignore_index=True)\n",
      "c:\\Users\\Nimra\\AppData\\Local\\Programs\\Python\\Python39\\lib\\site-packages\\transformers\\generation\\utils.py:1353: UserWarning: Using `max_length`'s default (20) to control the generation length. This behaviour is deprecated and will be removed from the config in v5 of Transformers -- we recommend using `max_new_tokens` to control the maximum length of the generation.\n",
      "  warnings.warn(\n"
     ]
    },
    {
     "name": "stdout",
     "output_type": "stream",
     "text": [
      "{'dataset_name': 'dotsa/new_Clothing_test', 'sentence': \"In my 2nd month of wearing these . I have to use inserts in all of my shoes ( including house slippers ) so these ended up being a little tight at first . Thanks to being deer skin , they stretch just the right amount . I still like the double deerskin sole better for comfort but it 's nice to have the rubber soles for wearing outdoors and no leather ties to have to mess with .\", 'aspect': ' these', 'polarity': ' Mixed', 'sentiment_t5': 'Neutral'}\n",
      "Review: Very comfortable . I would recommend . Excellent price .\n",
      "        Aspect: price\n",
      "        Predict the sentiment for mentioned aspect in the review. Assign one of the following sentiment to the aspect: Positive , Negative , Neutral.\n",
      "        Please provide the sentiment only. No any explanation or extra text\n"
     ]
    },
    {
     "name": "stderr",
     "output_type": "stream",
     "text": [
      "C:\\Users\\Nimra\\AppData\\Local\\Temp\\ipykernel_16236\\2877642716.py:27: FutureWarning: The frame.append method is deprecated and will be removed from pandas in a future version. Use pandas.concat instead.\n",
      "  temp = temp.append(data_to_append, ignore_index=True)\n",
      "c:\\Users\\Nimra\\AppData\\Local\\Programs\\Python\\Python39\\lib\\site-packages\\transformers\\generation\\utils.py:1353: UserWarning: Using `max_length`'s default (20) to control the generation length. This behaviour is deprecated and will be removed from the config in v5 of Transformers -- we recommend using `max_new_tokens` to control the maximum length of the generation.\n",
      "  warnings.warn(\n"
     ]
    },
    {
     "name": "stdout",
     "output_type": "stream",
     "text": [
      "{'dataset_name': 'dotsa/new_Clothing_test', 'sentence': 'Very comfortable . I would recommend . Excellent price .', 'aspect': 'price', 'polarity': 'Positive', 'sentiment_t5': 'Positive'}\n",
      "Review: This tights is really awesome ...\n",
      "        Aspect: tights\n",
      "        Predict the sentiment for mentioned aspect in the review. Assign one of the following sentiment to the aspect: Positive , Negative , Neutral.\n",
      "        Please provide the sentiment only. No any explanation or extra text\n"
     ]
    },
    {
     "name": "stderr",
     "output_type": "stream",
     "text": [
      "C:\\Users\\Nimra\\AppData\\Local\\Temp\\ipykernel_16236\\2877642716.py:27: FutureWarning: The frame.append method is deprecated and will be removed from pandas in a future version. Use pandas.concat instead.\n",
      "  temp = temp.append(data_to_append, ignore_index=True)\n",
      "c:\\Users\\Nimra\\AppData\\Local\\Programs\\Python\\Python39\\lib\\site-packages\\transformers\\generation\\utils.py:1353: UserWarning: Using `max_length`'s default (20) to control the generation length. This behaviour is deprecated and will be removed from the config in v5 of Transformers -- we recommend using `max_new_tokens` to control the maximum length of the generation.\n",
      "  warnings.warn(\n"
     ]
    },
    {
     "name": "stdout",
     "output_type": "stream",
     "text": [
      "{'dataset_name': 'dotsa/new_Clothing_test', 'sentence': 'This tights is really awesome ...', 'aspect': 'tights', 'polarity': 'Positive', 'sentiment_t5': 'Positive'}\n",
      "Review: Great product . Just runs small . My daughter is a medium but buys extra large !\n",
      "        Aspect: product\n",
      "        Predict the sentiment for mentioned aspect in the review. Assign one of the following sentiment to the aspect: Positive , Negative , Neutral.\n",
      "        Please provide the sentiment only. No any explanation or extra text\n"
     ]
    },
    {
     "name": "stderr",
     "output_type": "stream",
     "text": [
      "C:\\Users\\Nimra\\AppData\\Local\\Temp\\ipykernel_16236\\2877642716.py:27: FutureWarning: The frame.append method is deprecated and will be removed from pandas in a future version. Use pandas.concat instead.\n",
      "  temp = temp.append(data_to_append, ignore_index=True)\n",
      "c:\\Users\\Nimra\\AppData\\Local\\Programs\\Python\\Python39\\lib\\site-packages\\transformers\\generation\\utils.py:1353: UserWarning: Using `max_length`'s default (20) to control the generation length. This behaviour is deprecated and will be removed from the config in v5 of Transformers -- we recommend using `max_new_tokens` to control the maximum length of the generation.\n",
      "  warnings.warn(\n"
     ]
    },
    {
     "name": "stdout",
     "output_type": "stream",
     "text": [
      "{'dataset_name': 'dotsa/new_Clothing_test', 'sentence': 'Great product . Just runs small . My daughter is a medium but buys extra large !', 'aspect': 'product', 'polarity': 'Positive', 'sentiment_t5': 'Neutral'}\n",
      "Review: I love the shirt and would be glad to order more in the future but , the seam came loose on one of the sleeves already . that 's a bit too fast I would think .\n",
      "        Aspect: shirt\n",
      "        Predict the sentiment for mentioned aspect in the review. Assign one of the following sentiment to the aspect: Positive , Negative , Neutral.\n",
      "        Please provide the sentiment only. No any explanation or extra text\n"
     ]
    },
    {
     "name": "stderr",
     "output_type": "stream",
     "text": [
      "C:\\Users\\Nimra\\AppData\\Local\\Temp\\ipykernel_16236\\2877642716.py:27: FutureWarning: The frame.append method is deprecated and will be removed from pandas in a future version. Use pandas.concat instead.\n",
      "  temp = temp.append(data_to_append, ignore_index=True)\n",
      "c:\\Users\\Nimra\\AppData\\Local\\Programs\\Python\\Python39\\lib\\site-packages\\transformers\\generation\\utils.py:1353: UserWarning: Using `max_length`'s default (20) to control the generation length. This behaviour is deprecated and will be removed from the config in v5 of Transformers -- we recommend using `max_new_tokens` to control the maximum length of the generation.\n",
      "  warnings.warn(\n"
     ]
    },
    {
     "name": "stdout",
     "output_type": "stream",
     "text": [
      "{'dataset_name': 'dotsa/new_Clothing_test', 'sentence': \"I love the shirt and would be glad to order more in the future but , the seam came loose on one of the sleeves already . that 's a bit too fast I would think .\", 'aspect': 'shirt', 'polarity': 'Mixed', 'sentiment_t5': 'Neutral'}\n",
      "Review: I love the shirt and would be glad to order more in the future but , the seam came loose on one of the sleeves already . that 's a bit too fast I would think .\n",
      "        Aspect:  shirt--seam\n",
      "        Predict the sentiment for mentioned aspect in the review. Assign one of the following sentiment to the aspect: Positive , Negative , Neutral.\n",
      "        Please provide the sentiment only. No any explanation or extra text\n"
     ]
    },
    {
     "name": "stderr",
     "output_type": "stream",
     "text": [
      "C:\\Users\\Nimra\\AppData\\Local\\Temp\\ipykernel_16236\\2877642716.py:27: FutureWarning: The frame.append method is deprecated and will be removed from pandas in a future version. Use pandas.concat instead.\n",
      "  temp = temp.append(data_to_append, ignore_index=True)\n",
      "c:\\Users\\Nimra\\AppData\\Local\\Programs\\Python\\Python39\\lib\\site-packages\\transformers\\generation\\utils.py:1353: UserWarning: Using `max_length`'s default (20) to control the generation length. This behaviour is deprecated and will be removed from the config in v5 of Transformers -- we recommend using `max_new_tokens` to control the maximum length of the generation.\n",
      "  warnings.warn(\n"
     ]
    },
    {
     "name": "stdout",
     "output_type": "stream",
     "text": [
      "{'dataset_name': 'dotsa/new_Clothing_test', 'sentence': \"I love the shirt and would be glad to order more in the future but , the seam came loose on one of the sleeves already . that 's a bit too fast I would think .\", 'aspect': ' shirt--seam', 'polarity': ' Negative', 'sentiment_t5': 'Negative'}\n",
      "Review: I purchased these because my daughter was auditioning for a musical and had to do a dance number for the audition . Character shoes were suggested rather than flats or ballet shoes , so I ordered these . I ordered two sizes because I read reviews that they ran small and I was n't sure . I ended up keeping the ones that were two sizes larger than her normal street shoe size . We honestly probably could have gone up another half size , but they were not uncomfortably tight , and we needed them sooner than another pair could be shipped , so we kept them . She loves them . They are so comfortable to wear that she wears them instead of her regular black dress shoes . I rated them a five because the price was good , the quality is great ( even with her wearing them on a regular basis , they have held up ... and she is tough on her shoes ) . I would recommend these to anyone ... really ... even just to wear to work ... but primarily they are meant to be used for dancing . The only real drawback is ( like all other dance shoes ) , they do run significantly small . Definitely buy two sizes up . On another note , customer service was awesome about accepting the return of the additional pair of shoes I ordered , and my refund was processed quickly .\n",
      "        Aspect: service\n",
      "        Predict the sentiment for mentioned aspect in the review. Assign one of the following sentiment to the aspect: Positive , Negative , Neutral.\n",
      "        Please provide the sentiment only. No any explanation or extra text\n"
     ]
    },
    {
     "name": "stderr",
     "output_type": "stream",
     "text": [
      "C:\\Users\\Nimra\\AppData\\Local\\Temp\\ipykernel_16236\\2877642716.py:27: FutureWarning: The frame.append method is deprecated and will be removed from pandas in a future version. Use pandas.concat instead.\n",
      "  temp = temp.append(data_to_append, ignore_index=True)\n",
      "c:\\Users\\Nimra\\AppData\\Local\\Programs\\Python\\Python39\\lib\\site-packages\\transformers\\generation\\utils.py:1353: UserWarning: Using `max_length`'s default (20) to control the generation length. This behaviour is deprecated and will be removed from the config in v5 of Transformers -- we recommend using `max_new_tokens` to control the maximum length of the generation.\n",
      "  warnings.warn(\n"
     ]
    },
    {
     "name": "stdout",
     "output_type": "stream",
     "text": [
      "{'dataset_name': 'dotsa/new_Clothing_test', 'sentence': \"I purchased these because my daughter was auditioning for a musical and had to do a dance number for the audition . Character shoes were suggested rather than flats or ballet shoes , so I ordered these . I ordered two sizes because I read reviews that they ran small and I was n't sure . I ended up keeping the ones that were two sizes larger than her normal street shoe size . We honestly probably could have gone up another half size , but they were not uncomfortably tight , and we needed them sooner than another pair could be shipped , so we kept them . She loves them . They are so comfortable to wear that she wears them instead of her regular black dress shoes . I rated them a five because the price was good , the quality is great ( even with her wearing them on a regular basis , they have held up ... and she is tough on her shoes ) . I would recommend these to anyone ... really ... even just to wear to work ... but primarily they are meant to be used for dancing . The only real drawback is ( like all other dance shoes ) , they do run significantly small . Definitely buy two sizes up . On another note , customer service was awesome about accepting the return of the additional pair of shoes I ordered , and my refund was processed quickly .\", 'aspect': 'service', 'polarity': 'Positive', 'sentiment_t5': 'Positive'}\n",
      "Review: I purchased these because my daughter was auditioning for a musical and had to do a dance number for the audition . Character shoes were suggested rather than flats or ballet shoes , so I ordered these . I ordered two sizes because I read reviews that they ran small and I was n't sure . I ended up keeping the ones that were two sizes larger than her normal street shoe size . We honestly probably could have gone up another half size , but they were not uncomfortably tight , and we needed them sooner than another pair could be shipped , so we kept them . She loves them . They are so comfortable to wear that she wears them instead of her regular black dress shoes . I rated them a five because the price was good , the quality is great ( even with her wearing them on a regular basis , they have held up ... and she is tough on her shoes ) . I would recommend these to anyone ... really ... even just to wear to work ... but primarily they are meant to be used for dancing . The only real drawback is ( like all other dance shoes ) , they do run significantly small . Definitely buy two sizes up . On another note , customer service was awesome about accepting the return of the additional pair of shoes I ordered , and my refund was processed quickly .\n",
      "        Aspect:  them--quality\n",
      "        Predict the sentiment for mentioned aspect in the review. Assign one of the following sentiment to the aspect: Positive , Negative , Neutral.\n",
      "        Please provide the sentiment only. No any explanation or extra text\n"
     ]
    },
    {
     "name": "stderr",
     "output_type": "stream",
     "text": [
      "C:\\Users\\Nimra\\AppData\\Local\\Temp\\ipykernel_16236\\2877642716.py:27: FutureWarning: The frame.append method is deprecated and will be removed from pandas in a future version. Use pandas.concat instead.\n",
      "  temp = temp.append(data_to_append, ignore_index=True)\n",
      "c:\\Users\\Nimra\\AppData\\Local\\Programs\\Python\\Python39\\lib\\site-packages\\transformers\\generation\\utils.py:1353: UserWarning: Using `max_length`'s default (20) to control the generation length. This behaviour is deprecated and will be removed from the config in v5 of Transformers -- we recommend using `max_new_tokens` to control the maximum length of the generation.\n",
      "  warnings.warn(\n"
     ]
    },
    {
     "name": "stdout",
     "output_type": "stream",
     "text": [
      "{'dataset_name': 'dotsa/new_Clothing_test', 'sentence': \"I purchased these because my daughter was auditioning for a musical and had to do a dance number for the audition . Character shoes were suggested rather than flats or ballet shoes , so I ordered these . I ordered two sizes because I read reviews that they ran small and I was n't sure . I ended up keeping the ones that were two sizes larger than her normal street shoe size . We honestly probably could have gone up another half size , but they were not uncomfortably tight , and we needed them sooner than another pair could be shipped , so we kept them . She loves them . They are so comfortable to wear that she wears them instead of her regular black dress shoes . I rated them a five because the price was good , the quality is great ( even with her wearing them on a regular basis , they have held up ... and she is tough on her shoes ) . I would recommend these to anyone ... really ... even just to wear to work ... but primarily they are meant to be used for dancing . The only real drawback is ( like all other dance shoes ) , they do run significantly small . Definitely buy two sizes up . On another note , customer service was awesome about accepting the return of the additional pair of shoes I ordered , and my refund was processed quickly .\", 'aspect': ' them--quality', 'polarity': ' Positive', 'sentiment_t5': 'Positive'}\n",
      "Review: I purchased these because my daughter was auditioning for a musical and had to do a dance number for the audition . Character shoes were suggested rather than flats or ballet shoes , so I ordered these . I ordered two sizes because I read reviews that they ran small and I was n't sure . I ended up keeping the ones that were two sizes larger than her normal street shoe size . We honestly probably could have gone up another half size , but they were not uncomfortably tight , and we needed them sooner than another pair could be shipped , so we kept them . She loves them . They are so comfortable to wear that she wears them instead of her regular black dress shoes . I rated them a five because the price was good , the quality is great ( even with her wearing them on a regular basis , they have held up ... and she is tough on her shoes ) . I would recommend these to anyone ... really ... even just to wear to work ... but primarily they are meant to be used for dancing . The only real drawback is ( like all other dance shoes ) , they do run significantly small . Definitely buy two sizes up . On another note , customer service was awesome about accepting the return of the additional pair of shoes I ordered , and my refund was processed quickly .\n",
      "        Aspect:  them\n",
      "        Predict the sentiment for mentioned aspect in the review. Assign one of the following sentiment to the aspect: Positive , Negative , Neutral.\n",
      "        Please provide the sentiment only. No any explanation or extra text\n"
     ]
    },
    {
     "name": "stderr",
     "output_type": "stream",
     "text": [
      "C:\\Users\\Nimra\\AppData\\Local\\Temp\\ipykernel_16236\\2877642716.py:27: FutureWarning: The frame.append method is deprecated and will be removed from pandas in a future version. Use pandas.concat instead.\n",
      "  temp = temp.append(data_to_append, ignore_index=True)\n",
      "c:\\Users\\Nimra\\AppData\\Local\\Programs\\Python\\Python39\\lib\\site-packages\\transformers\\generation\\utils.py:1353: UserWarning: Using `max_length`'s default (20) to control the generation length. This behaviour is deprecated and will be removed from the config in v5 of Transformers -- we recommend using `max_new_tokens` to control the maximum length of the generation.\n",
      "  warnings.warn(\n"
     ]
    },
    {
     "name": "stdout",
     "output_type": "stream",
     "text": [
      "{'dataset_name': 'dotsa/new_Clothing_test', 'sentence': \"I purchased these because my daughter was auditioning for a musical and had to do a dance number for the audition . Character shoes were suggested rather than flats or ballet shoes , so I ordered these . I ordered two sizes because I read reviews that they ran small and I was n't sure . I ended up keeping the ones that were two sizes larger than her normal street shoe size . We honestly probably could have gone up another half size , but they were not uncomfortably tight , and we needed them sooner than another pair could be shipped , so we kept them . She loves them . They are so comfortable to wear that she wears them instead of her regular black dress shoes . I rated them a five because the price was good , the quality is great ( even with her wearing them on a regular basis , they have held up ... and she is tough on her shoes ) . I would recommend these to anyone ... really ... even just to wear to work ... but primarily they are meant to be used for dancing . The only real drawback is ( like all other dance shoes ) , they do run significantly small . Definitely buy two sizes up . On another note , customer service was awesome about accepting the return of the additional pair of shoes I ordered , and my refund was processed quickly .\", 'aspect': ' them', 'polarity': ' Mixed', 'sentiment_t5': 'Positive'}\n",
      "Review: I purchased these because my daughter was auditioning for a musical and had to do a dance number for the audition . Character shoes were suggested rather than flats or ballet shoes , so I ordered these . I ordered two sizes because I read reviews that they ran small and I was n't sure . I ended up keeping the ones that were two sizes larger than her normal street shoe size . We honestly probably could have gone up another half size , but they were not uncomfortably tight , and we needed them sooner than another pair could be shipped , so we kept them . She loves them . They are so comfortable to wear that she wears them instead of her regular black dress shoes . I rated them a five because the price was good , the quality is great ( even with her wearing them on a regular basis , they have held up ... and she is tough on her shoes ) . I would recommend these to anyone ... really ... even just to wear to work ... but primarily they are meant to be used for dancing . The only real drawback is ( like all other dance shoes ) , they do run significantly small . Definitely buy two sizes up . On another note , customer service was awesome about accepting the return of the additional pair of shoes I ordered , and my refund was processed quickly .\n",
      "        Aspect:  them--price\n",
      "        Predict the sentiment for mentioned aspect in the review. Assign one of the following sentiment to the aspect: Positive , Negative , Neutral.\n",
      "        Please provide the sentiment only. No any explanation or extra text\n"
     ]
    },
    {
     "name": "stderr",
     "output_type": "stream",
     "text": [
      "C:\\Users\\Nimra\\AppData\\Local\\Temp\\ipykernel_16236\\2877642716.py:27: FutureWarning: The frame.append method is deprecated and will be removed from pandas in a future version. Use pandas.concat instead.\n",
      "  temp = temp.append(data_to_append, ignore_index=True)\n",
      "c:\\Users\\Nimra\\AppData\\Local\\Programs\\Python\\Python39\\lib\\site-packages\\transformers\\generation\\utils.py:1353: UserWarning: Using `max_length`'s default (20) to control the generation length. This behaviour is deprecated and will be removed from the config in v5 of Transformers -- we recommend using `max_new_tokens` to control the maximum length of the generation.\n",
      "  warnings.warn(\n"
     ]
    },
    {
     "name": "stdout",
     "output_type": "stream",
     "text": [
      "{'dataset_name': 'dotsa/new_Clothing_test', 'sentence': \"I purchased these because my daughter was auditioning for a musical and had to do a dance number for the audition . Character shoes were suggested rather than flats or ballet shoes , so I ordered these . I ordered two sizes because I read reviews that they ran small and I was n't sure . I ended up keeping the ones that were two sizes larger than her normal street shoe size . We honestly probably could have gone up another half size , but they were not uncomfortably tight , and we needed them sooner than another pair could be shipped , so we kept them . She loves them . They are so comfortable to wear that she wears them instead of her regular black dress shoes . I rated them a five because the price was good , the quality is great ( even with her wearing them on a regular basis , they have held up ... and she is tough on her shoes ) . I would recommend these to anyone ... really ... even just to wear to work ... but primarily they are meant to be used for dancing . The only real drawback is ( like all other dance shoes ) , they do run significantly small . Definitely buy two sizes up . On another note , customer service was awesome about accepting the return of the additional pair of shoes I ordered , and my refund was processed quickly .\", 'aspect': ' them--price', 'polarity': ' Positive', 'sentiment_t5': 'Positive'}\n",
      "Review: Our skinny tween wore them . I bought them for convenience hoping they 'd fit . And they JUST fit ! She is 5ft tall and 86lbs.. So , with essentially no real hips or booty yet , they just fit . Think about trying a size bigger..Great Capezio Quality in material and construction .\n",
      "        Aspect: capezio--construction\n",
      "        Predict the sentiment for mentioned aspect in the review. Assign one of the following sentiment to the aspect: Positive , Negative , Neutral.\n",
      "        Please provide the sentiment only. No any explanation or extra text\n"
     ]
    },
    {
     "name": "stderr",
     "output_type": "stream",
     "text": [
      "C:\\Users\\Nimra\\AppData\\Local\\Temp\\ipykernel_16236\\2877642716.py:27: FutureWarning: The frame.append method is deprecated and will be removed from pandas in a future version. Use pandas.concat instead.\n",
      "  temp = temp.append(data_to_append, ignore_index=True)\n",
      "c:\\Users\\Nimra\\AppData\\Local\\Programs\\Python\\Python39\\lib\\site-packages\\transformers\\generation\\utils.py:1353: UserWarning: Using `max_length`'s default (20) to control the generation length. This behaviour is deprecated and will be removed from the config in v5 of Transformers -- we recommend using `max_new_tokens` to control the maximum length of the generation.\n",
      "  warnings.warn(\n"
     ]
    },
    {
     "name": "stdout",
     "output_type": "stream",
     "text": [
      "{'dataset_name': 'dotsa/new_Clothing_test', 'sentence': \"Our skinny tween wore them . I bought them for convenience hoping they 'd fit . And they JUST fit ! She is 5ft tall and 86lbs.. So , with essentially no real hips or booty yet , they just fit . Think about trying a size bigger..Great Capezio Quality in material and construction .\", 'aspect': 'Capezio--construction', 'polarity': 'Positive', 'sentiment_t5': 'Positive'}\n",
      "Review: Our skinny tween wore them . I bought them for convenience hoping they 'd fit . And they JUST fit ! She is 5ft tall and 86lbs.. So , with essentially no real hips or booty yet , they just fit . Think about trying a size bigger..Great Capezio Quality in material and construction .\n",
      "        Aspect:  capezio\n",
      "        Predict the sentiment for mentioned aspect in the review. Assign one of the following sentiment to the aspect: Positive , Negative , Neutral.\n",
      "        Please provide the sentiment only. No any explanation or extra text\n"
     ]
    },
    {
     "name": "stderr",
     "output_type": "stream",
     "text": [
      "C:\\Users\\Nimra\\AppData\\Local\\Temp\\ipykernel_16236\\2877642716.py:27: FutureWarning: The frame.append method is deprecated and will be removed from pandas in a future version. Use pandas.concat instead.\n",
      "  temp = temp.append(data_to_append, ignore_index=True)\n",
      "c:\\Users\\Nimra\\AppData\\Local\\Programs\\Python\\Python39\\lib\\site-packages\\transformers\\generation\\utils.py:1353: UserWarning: Using `max_length`'s default (20) to control the generation length. This behaviour is deprecated and will be removed from the config in v5 of Transformers -- we recommend using `max_new_tokens` to control the maximum length of the generation.\n",
      "  warnings.warn(\n"
     ]
    },
    {
     "name": "stdout",
     "output_type": "stream",
     "text": [
      "{'dataset_name': 'dotsa/new_Clothing_test', 'sentence': \"Our skinny tween wore them . I bought them for convenience hoping they 'd fit . And they JUST fit ! She is 5ft tall and 86lbs.. So , with essentially no real hips or booty yet , they just fit . Think about trying a size bigger..Great Capezio Quality in material and construction .\", 'aspect': ' Capezio', 'polarity': ' Positive', 'sentiment_t5': 'Positive'}\n",
      "Review: Our skinny tween wore them . I bought them for convenience hoping they 'd fit . And they JUST fit ! She is 5ft tall and 86lbs.. So , with essentially no real hips or booty yet , they just fit . Think about trying a size bigger..Great Capezio Quality in material and construction .\n",
      "        Aspect:  capezio--material\n",
      "        Predict the sentiment for mentioned aspect in the review. Assign one of the following sentiment to the aspect: Positive , Negative , Neutral.\n",
      "        Please provide the sentiment only. No any explanation or extra text\n"
     ]
    },
    {
     "name": "stderr",
     "output_type": "stream",
     "text": [
      "C:\\Users\\Nimra\\AppData\\Local\\Temp\\ipykernel_16236\\2877642716.py:27: FutureWarning: The frame.append method is deprecated and will be removed from pandas in a future version. Use pandas.concat instead.\n",
      "  temp = temp.append(data_to_append, ignore_index=True)\n",
      "c:\\Users\\Nimra\\AppData\\Local\\Programs\\Python\\Python39\\lib\\site-packages\\transformers\\generation\\utils.py:1353: UserWarning: Using `max_length`'s default (20) to control the generation length. This behaviour is deprecated and will be removed from the config in v5 of Transformers -- we recommend using `max_new_tokens` to control the maximum length of the generation.\n",
      "  warnings.warn(\n"
     ]
    },
    {
     "name": "stdout",
     "output_type": "stream",
     "text": [
      "{'dataset_name': 'dotsa/new_Clothing_test', 'sentence': \"Our skinny tween wore them . I bought them for convenience hoping they 'd fit . And they JUST fit ! She is 5ft tall and 86lbs.. So , with essentially no real hips or booty yet , they just fit . Think about trying a size bigger..Great Capezio Quality in material and construction .\", 'aspect': ' Capezio--material', 'polarity': ' Positive', 'sentiment_t5': 'Positive'}\n",
      "Review: Our skinny tween wore them . I bought them for convenience hoping they 'd fit . And they JUST fit ! She is 5ft tall and 86lbs.. So , with essentially no real hips or booty yet , they just fit . Think about trying a size bigger..Great Capezio Quality in material and construction .\n",
      "        Aspect:  them\n",
      "        Predict the sentiment for mentioned aspect in the review. Assign one of the following sentiment to the aspect: Positive , Negative , Neutral.\n",
      "        Please provide the sentiment only. No any explanation or extra text\n"
     ]
    },
    {
     "name": "stderr",
     "output_type": "stream",
     "text": [
      "C:\\Users\\Nimra\\AppData\\Local\\Temp\\ipykernel_16236\\2877642716.py:27: FutureWarning: The frame.append method is deprecated and will be removed from pandas in a future version. Use pandas.concat instead.\n",
      "  temp = temp.append(data_to_append, ignore_index=True)\n",
      "c:\\Users\\Nimra\\AppData\\Local\\Programs\\Python\\Python39\\lib\\site-packages\\transformers\\generation\\utils.py:1353: UserWarning: Using `max_length`'s default (20) to control the generation length. This behaviour is deprecated and will be removed from the config in v5 of Transformers -- we recommend using `max_new_tokens` to control the maximum length of the generation.\n",
      "  warnings.warn(\n"
     ]
    },
    {
     "name": "stdout",
     "output_type": "stream",
     "text": [
      "{'dataset_name': 'dotsa/new_Clothing_test', 'sentence': \"Our skinny tween wore them . I bought them for convenience hoping they 'd fit . And they JUST fit ! She is 5ft tall and 86lbs.. So , with essentially no real hips or booty yet , they just fit . Think about trying a size bigger..Great Capezio Quality in material and construction .\", 'aspect': ' them', 'polarity': ' Positive', 'sentiment_t5': 'Positive'}\n",
      "Review: I love this sandal . I have two other sandals in different colors and they are the most comfortable sandal I have ever bought . Great price on Amazon .\n",
      "        Aspect: sandal--price\n",
      "        Predict the sentiment for mentioned aspect in the review. Assign one of the following sentiment to the aspect: Positive , Negative , Neutral.\n",
      "        Please provide the sentiment only. No any explanation or extra text\n"
     ]
    },
    {
     "name": "stderr",
     "output_type": "stream",
     "text": [
      "C:\\Users\\Nimra\\AppData\\Local\\Temp\\ipykernel_16236\\2877642716.py:27: FutureWarning: The frame.append method is deprecated and will be removed from pandas in a future version. Use pandas.concat instead.\n",
      "  temp = temp.append(data_to_append, ignore_index=True)\n",
      "c:\\Users\\Nimra\\AppData\\Local\\Programs\\Python\\Python39\\lib\\site-packages\\transformers\\generation\\utils.py:1353: UserWarning: Using `max_length`'s default (20) to control the generation length. This behaviour is deprecated and will be removed from the config in v5 of Transformers -- we recommend using `max_new_tokens` to control the maximum length of the generation.\n",
      "  warnings.warn(\n"
     ]
    },
    {
     "name": "stdout",
     "output_type": "stream",
     "text": [
      "{'dataset_name': 'dotsa/new_Clothing_test', 'sentence': 'I love this sandal . I have two other sandals in different colors and they are the most comfortable sandal I have ever bought . Great price on Amazon .', 'aspect': 'sandal--price', 'polarity': 'Positive', 'sentiment_t5': 'Positive'}\n",
      "Review: I love this sandal . I have two other sandals in different colors and they are the most comfortable sandal I have ever bought . Great price on Amazon .\n",
      "        Aspect:  sandal\n",
      "        Predict the sentiment for mentioned aspect in the review. Assign one of the following sentiment to the aspect: Positive , Negative , Neutral.\n",
      "        Please provide the sentiment only. No any explanation or extra text\n"
     ]
    },
    {
     "name": "stderr",
     "output_type": "stream",
     "text": [
      "C:\\Users\\Nimra\\AppData\\Local\\Temp\\ipykernel_16236\\2877642716.py:27: FutureWarning: The frame.append method is deprecated and will be removed from pandas in a future version. Use pandas.concat instead.\n",
      "  temp = temp.append(data_to_append, ignore_index=True)\n",
      "c:\\Users\\Nimra\\AppData\\Local\\Programs\\Python\\Python39\\lib\\site-packages\\transformers\\generation\\utils.py:1353: UserWarning: Using `max_length`'s default (20) to control the generation length. This behaviour is deprecated and will be removed from the config in v5 of Transformers -- we recommend using `max_new_tokens` to control the maximum length of the generation.\n",
      "  warnings.warn(\n"
     ]
    },
    {
     "name": "stdout",
     "output_type": "stream",
     "text": [
      "{'dataset_name': 'dotsa/new_Clothing_test', 'sentence': 'I love this sandal . I have two other sandals in different colors and they are the most comfortable sandal I have ever bought . Great price on Amazon .', 'aspect': ' sandal', 'polarity': ' Positive', 'sentiment_t5': 'Positive'}\n",
      "Review: This is my 3rd pair of these sandals . I have bronze , black & now white\n",
      "        Aspect: sandals\n",
      "        Predict the sentiment for mentioned aspect in the review. Assign one of the following sentiment to the aspect: Positive , Negative , Neutral.\n",
      "        Please provide the sentiment only. No any explanation or extra text\n"
     ]
    },
    {
     "name": "stderr",
     "output_type": "stream",
     "text": [
      "C:\\Users\\Nimra\\AppData\\Local\\Temp\\ipykernel_16236\\2877642716.py:27: FutureWarning: The frame.append method is deprecated and will be removed from pandas in a future version. Use pandas.concat instead.\n",
      "  temp = temp.append(data_to_append, ignore_index=True)\n",
      "c:\\Users\\Nimra\\AppData\\Local\\Programs\\Python\\Python39\\lib\\site-packages\\transformers\\generation\\utils.py:1353: UserWarning: Using `max_length`'s default (20) to control the generation length. This behaviour is deprecated and will be removed from the config in v5 of Transformers -- we recommend using `max_new_tokens` to control the maximum length of the generation.\n",
      "  warnings.warn(\n"
     ]
    },
    {
     "name": "stdout",
     "output_type": "stream",
     "text": [
      "{'dataset_name': 'dotsa/new_Clothing_test', 'sentence': 'This is my 3rd pair of these sandals . I have bronze , black & now white', 'aspect': 'sandals', 'polarity': 'Positive', 'sentiment_t5': 'Positive'}\n",
      "Review: My daughter is a dancer and goes through a new pair of pantyhose every performance . These hold up so much better , usually through several performances , and she can wear flip-flops between dances by flipping up the foot of these tights .\n",
      "        Aspect: tights\n",
      "        Predict the sentiment for mentioned aspect in the review. Assign one of the following sentiment to the aspect: Positive , Negative , Neutral.\n",
      "        Please provide the sentiment only. No any explanation or extra text\n"
     ]
    },
    {
     "name": "stderr",
     "output_type": "stream",
     "text": [
      "C:\\Users\\Nimra\\AppData\\Local\\Temp\\ipykernel_16236\\2877642716.py:27: FutureWarning: The frame.append method is deprecated and will be removed from pandas in a future version. Use pandas.concat instead.\n",
      "  temp = temp.append(data_to_append, ignore_index=True)\n",
      "c:\\Users\\Nimra\\AppData\\Local\\Programs\\Python\\Python39\\lib\\site-packages\\transformers\\generation\\utils.py:1353: UserWarning: Using `max_length`'s default (20) to control the generation length. This behaviour is deprecated and will be removed from the config in v5 of Transformers -- we recommend using `max_new_tokens` to control the maximum length of the generation.\n",
      "  warnings.warn(\n"
     ]
    },
    {
     "name": "stdout",
     "output_type": "stream",
     "text": [
      "{'dataset_name': 'dotsa/new_Clothing_test', 'sentence': 'My daughter is a dancer and goes through a new pair of pantyhose every performance . These hold up so much better , usually through several performances , and she can wear flip-flops between dances by flipping up the foot of these tights .', 'aspect': 'tights', 'polarity': 'Positive', 'sentiment_t5': 'Positive'}\n",
      "Review: They run a little large . About a half size too large . Width wise it 's perfect .\n",
      "        Aspect: width\n",
      "        Predict the sentiment for mentioned aspect in the review. Assign one of the following sentiment to the aspect: Positive , Negative , Neutral.\n",
      "        Please provide the sentiment only. No any explanation or extra text\n"
     ]
    },
    {
     "name": "stderr",
     "output_type": "stream",
     "text": [
      "C:\\Users\\Nimra\\AppData\\Local\\Temp\\ipykernel_16236\\2877642716.py:27: FutureWarning: The frame.append method is deprecated and will be removed from pandas in a future version. Use pandas.concat instead.\n",
      "  temp = temp.append(data_to_append, ignore_index=True)\n",
      "c:\\Users\\Nimra\\AppData\\Local\\Programs\\Python\\Python39\\lib\\site-packages\\transformers\\generation\\utils.py:1353: UserWarning: Using `max_length`'s default (20) to control the generation length. This behaviour is deprecated and will be removed from the config in v5 of Transformers -- we recommend using `max_new_tokens` to control the maximum length of the generation.\n",
      "  warnings.warn(\n"
     ]
    },
    {
     "name": "stdout",
     "output_type": "stream",
     "text": [
      "{'dataset_name': 'dotsa/new_Clothing_test', 'sentence': \"They run a little large . About a half size too large . Width wise it 's perfect .\", 'aspect': 'Width', 'polarity': 'Positive', 'sentiment_t5': 'Neutral'}\n",
      "Review: They run a little large . About a half size too large . Width wise it 's perfect .\n",
      "        Aspect:  they\n",
      "        Predict the sentiment for mentioned aspect in the review. Assign one of the following sentiment to the aspect: Positive , Negative , Neutral.\n",
      "        Please provide the sentiment only. No any explanation or extra text\n"
     ]
    },
    {
     "name": "stderr",
     "output_type": "stream",
     "text": [
      "C:\\Users\\Nimra\\AppData\\Local\\Temp\\ipykernel_16236\\2877642716.py:27: FutureWarning: The frame.append method is deprecated and will be removed from pandas in a future version. Use pandas.concat instead.\n",
      "  temp = temp.append(data_to_append, ignore_index=True)\n",
      "c:\\Users\\Nimra\\AppData\\Local\\Programs\\Python\\Python39\\lib\\site-packages\\transformers\\generation\\utils.py:1353: UserWarning: Using `max_length`'s default (20) to control the generation length. This behaviour is deprecated and will be removed from the config in v5 of Transformers -- we recommend using `max_new_tokens` to control the maximum length of the generation.\n",
      "  warnings.warn(\n"
     ]
    },
    {
     "name": "stdout",
     "output_type": "stream",
     "text": [
      "{'dataset_name': 'dotsa/new_Clothing_test', 'sentence': \"They run a little large . About a half size too large . Width wise it 's perfect .\", 'aspect': ' They', 'polarity': ' Negative', 'sentiment_t5': 'Neutral'}\n",
      "Review: I wanted to wear a 1950\\ 's style outfit for a wedding I was attending . I actually purchased the crinoline before the dress and jacket I planned to wear were made . Unfortunately , the dress did not fit as I had hoped but after some rethinking , the dress became a skirt and with the right accessories -- THE CRINOLINE BEING THE MOST IMPORTANT PIECE -- I had the 1950\\ 's outfit I wanted . The crinoline really brought back such comforting memories of my childhood , when ladies actually dressed up to go out and the poofier your skirt was the better it looked . I love this crinoline and I\\ 'm trying to think of ways to incorporate it into my daily wardrobe and not just wear it for special occasions .\n",
      "        Aspect: crinoline\n",
      "        Predict the sentiment for mentioned aspect in the review. Assign one of the following sentiment to the aspect: Positive , Negative , Neutral.\n",
      "        Please provide the sentiment only. No any explanation or extra text\n"
     ]
    },
    {
     "name": "stderr",
     "output_type": "stream",
     "text": [
      "C:\\Users\\Nimra\\AppData\\Local\\Temp\\ipykernel_16236\\2877642716.py:27: FutureWarning: The frame.append method is deprecated and will be removed from pandas in a future version. Use pandas.concat instead.\n",
      "  temp = temp.append(data_to_append, ignore_index=True)\n",
      "c:\\Users\\Nimra\\AppData\\Local\\Programs\\Python\\Python39\\lib\\site-packages\\transformers\\generation\\utils.py:1353: UserWarning: Using `max_length`'s default (20) to control the generation length. This behaviour is deprecated and will be removed from the config in v5 of Transformers -- we recommend using `max_new_tokens` to control the maximum length of the generation.\n",
      "  warnings.warn(\n"
     ]
    },
    {
     "name": "stdout",
     "output_type": "stream",
     "text": [
      "{'dataset_name': 'dotsa/new_Clothing_test', 'sentence': \"I wanted to wear a 1950\\\\ 's style outfit for a wedding I was attending . I actually purchased the crinoline before the dress and jacket I planned to wear were made . Unfortunately , the dress did not fit as I had hoped but after some rethinking , the dress became a skirt and with the right accessories -- THE CRINOLINE BEING THE MOST IMPORTANT PIECE -- I had the 1950\\\\ 's outfit I wanted . The crinoline really brought back such comforting memories of my childhood , when ladies actually dressed up to go out and the poofier your skirt was the better it looked . I love this crinoline and I\\\\ 'm trying to think of ways to incorporate it into my daily wardrobe and not just wear it for special occasions .\", 'aspect': 'crinoline', 'polarity': 'Mixed', 'sentiment_t5': 'Positive'}\n",
      "Review: It 's just ok .  the back flops a little when walking .\n",
      "        Aspect: back\n",
      "        Predict the sentiment for mentioned aspect in the review. Assign one of the following sentiment to the aspect: Positive , Negative , Neutral.\n",
      "        Please provide the sentiment only. No any explanation or extra text\n"
     ]
    },
    {
     "name": "stderr",
     "output_type": "stream",
     "text": [
      "C:\\Users\\Nimra\\AppData\\Local\\Temp\\ipykernel_16236\\2877642716.py:27: FutureWarning: The frame.append method is deprecated and will be removed from pandas in a future version. Use pandas.concat instead.\n",
      "  temp = temp.append(data_to_append, ignore_index=True)\n",
      "c:\\Users\\Nimra\\AppData\\Local\\Programs\\Python\\Python39\\lib\\site-packages\\transformers\\generation\\utils.py:1353: UserWarning: Using `max_length`'s default (20) to control the generation length. This behaviour is deprecated and will be removed from the config in v5 of Transformers -- we recommend using `max_new_tokens` to control the maximum length of the generation.\n",
      "  warnings.warn(\n"
     ]
    },
    {
     "name": "stdout",
     "output_type": "stream",
     "text": [
      "{'dataset_name': 'dotsa/new_Clothing_test', 'sentence': \"It 's just ok .  the back flops a little when walking .\", 'aspect': 'back', 'polarity': 'Negative', 'sentiment_t5': 'Neutral'}\n",
      "Review: The shoe is cute . I ordered in the wide width of C/D . Unfortunately they were too small . Pinched my little toes . If I went with the next size up the shoe would have been too long .\n",
      "        Aspect: shoe\n",
      "        Predict the sentiment for mentioned aspect in the review. Assign one of the following sentiment to the aspect: Positive , Negative , Neutral.\n",
      "        Please provide the sentiment only. No any explanation or extra text\n"
     ]
    },
    {
     "name": "stderr",
     "output_type": "stream",
     "text": [
      "C:\\Users\\Nimra\\AppData\\Local\\Temp\\ipykernel_16236\\2877642716.py:27: FutureWarning: The frame.append method is deprecated and will be removed from pandas in a future version. Use pandas.concat instead.\n",
      "  temp = temp.append(data_to_append, ignore_index=True)\n",
      "c:\\Users\\Nimra\\AppData\\Local\\Programs\\Python\\Python39\\lib\\site-packages\\transformers\\generation\\utils.py:1353: UserWarning: Using `max_length`'s default (20) to control the generation length. This behaviour is deprecated and will be removed from the config in v5 of Transformers -- we recommend using `max_new_tokens` to control the maximum length of the generation.\n",
      "  warnings.warn(\n"
     ]
    },
    {
     "name": "stdout",
     "output_type": "stream",
     "text": [
      "{'dataset_name': 'dotsa/new_Clothing_test', 'sentence': 'The shoe is cute . I ordered in the wide width of C/D . Unfortunately they were too small . Pinched my little toes . If I went with the next size up the shoe would have been too long .', 'aspect': 'shoe', 'polarity': 'Mixed', 'sentiment_t5': 'Neutral'}\n",
      "Review: Really comfortable , great flats . Not much arch support but it is not my main concern .\n",
      "        Aspect: flats\n",
      "        Predict the sentiment for mentioned aspect in the review. Assign one of the following sentiment to the aspect: Positive , Negative , Neutral.\n",
      "        Please provide the sentiment only. No any explanation or extra text\n"
     ]
    },
    {
     "name": "stderr",
     "output_type": "stream",
     "text": [
      "C:\\Users\\Nimra\\AppData\\Local\\Temp\\ipykernel_16236\\2877642716.py:27: FutureWarning: The frame.append method is deprecated and will be removed from pandas in a future version. Use pandas.concat instead.\n",
      "  temp = temp.append(data_to_append, ignore_index=True)\n",
      "c:\\Users\\Nimra\\AppData\\Local\\Programs\\Python\\Python39\\lib\\site-packages\\transformers\\generation\\utils.py:1353: UserWarning: Using `max_length`'s default (20) to control the generation length. This behaviour is deprecated and will be removed from the config in v5 of Transformers -- we recommend using `max_new_tokens` to control the maximum length of the generation.\n",
      "  warnings.warn(\n"
     ]
    },
    {
     "name": "stdout",
     "output_type": "stream",
     "text": [
      "{'dataset_name': 'dotsa/new_Clothing_test', 'sentence': 'Really comfortable , great flats . Not much arch support but it is not my main concern .', 'aspect': 'flats', 'polarity': 'Positive', 'sentiment_t5': 'Positive'}\n",
      "Review: Soft as a pillow , light as a feather , durable and blessed with simplicity , these shoes may have no built in arch but they conform to your feet quite well . After a bout with edema , I found I could no longer wear tied shoes without my feet cramping . I can wear either cheap flip-flops or deerskin gore front moccasins . I have the same shoes in 3 different colors .\n",
      "        Aspect: shoes\n",
      "        Predict the sentiment for mentioned aspect in the review. Assign one of the following sentiment to the aspect: Positive , Negative , Neutral.\n",
      "        Please provide the sentiment only. No any explanation or extra text\n"
     ]
    },
    {
     "name": "stderr",
     "output_type": "stream",
     "text": [
      "C:\\Users\\Nimra\\AppData\\Local\\Temp\\ipykernel_16236\\2877642716.py:27: FutureWarning: The frame.append method is deprecated and will be removed from pandas in a future version. Use pandas.concat instead.\n",
      "  temp = temp.append(data_to_append, ignore_index=True)\n",
      "c:\\Users\\Nimra\\AppData\\Local\\Programs\\Python\\Python39\\lib\\site-packages\\transformers\\generation\\utils.py:1353: UserWarning: Using `max_length`'s default (20) to control the generation length. This behaviour is deprecated and will be removed from the config in v5 of Transformers -- we recommend using `max_new_tokens` to control the maximum length of the generation.\n",
      "  warnings.warn(\n"
     ]
    },
    {
     "name": "stdout",
     "output_type": "stream",
     "text": [
      "{'dataset_name': 'dotsa/new_Clothing_test', 'sentence': 'Soft as a pillow , light as a feather , durable and blessed with simplicity , these shoes may have no built in arch but they conform to your feet quite well . After a bout with edema , I found I could no longer wear tied shoes without my feet cramping . I can wear either cheap flip-flops or deerskin gore front moccasins . I have the same shoes in 3 different colors .', 'aspect': 'shoes', 'polarity': 'Positive', 'sentiment_t5': 'Positive'}\n",
      "Review: I got myself the same tights I got my daughter when I started an adult ballet class . The fit is great , and they are soft and comfortable .\n",
      "        Aspect: tights\n",
      "        Predict the sentiment for mentioned aspect in the review. Assign one of the following sentiment to the aspect: Positive , Negative , Neutral.\n",
      "        Please provide the sentiment only. No any explanation or extra text\n"
     ]
    },
    {
     "name": "stderr",
     "output_type": "stream",
     "text": [
      "C:\\Users\\Nimra\\AppData\\Local\\Temp\\ipykernel_16236\\2877642716.py:27: FutureWarning: The frame.append method is deprecated and will be removed from pandas in a future version. Use pandas.concat instead.\n",
      "  temp = temp.append(data_to_append, ignore_index=True)\n",
      "c:\\Users\\Nimra\\AppData\\Local\\Programs\\Python\\Python39\\lib\\site-packages\\transformers\\generation\\utils.py:1353: UserWarning: Using `max_length`'s default (20) to control the generation length. This behaviour is deprecated and will be removed from the config in v5 of Transformers -- we recommend using `max_new_tokens` to control the maximum length of the generation.\n",
      "  warnings.warn(\n"
     ]
    },
    {
     "name": "stdout",
     "output_type": "stream",
     "text": [
      "{'dataset_name': 'dotsa/new_Clothing_test', 'sentence': 'I got myself the same tights I got my daughter when I started an adult ballet class . The fit is great , and they are soft and comfortable .', 'aspect': 'tights', 'polarity': 'Positive', 'sentiment_t5': 'Positive'}\n",
      "Review: the shoes are comfortable and stable . The sole allows for sliding and spinning , as required . the esthetics of the shoes is questionable . they do not look elegant . good for practice not so good for performance .\n",
      "        Aspect: shoes--esthetics\n",
      "        Predict the sentiment for mentioned aspect in the review. Assign one of the following sentiment to the aspect: Positive , Negative , Neutral.\n",
      "        Please provide the sentiment only. No any explanation or extra text\n"
     ]
    },
    {
     "name": "stderr",
     "output_type": "stream",
     "text": [
      "C:\\Users\\Nimra\\AppData\\Local\\Temp\\ipykernel_16236\\2877642716.py:27: FutureWarning: The frame.append method is deprecated and will be removed from pandas in a future version. Use pandas.concat instead.\n",
      "  temp = temp.append(data_to_append, ignore_index=True)\n",
      "c:\\Users\\Nimra\\AppData\\Local\\Programs\\Python\\Python39\\lib\\site-packages\\transformers\\generation\\utils.py:1353: UserWarning: Using `max_length`'s default (20) to control the generation length. This behaviour is deprecated and will be removed from the config in v5 of Transformers -- we recommend using `max_new_tokens` to control the maximum length of the generation.\n",
      "  warnings.warn(\n"
     ]
    },
    {
     "name": "stdout",
     "output_type": "stream",
     "text": [
      "{'dataset_name': 'dotsa/new_Clothing_test', 'sentence': 'the shoes are comfortable and stable . The sole allows for sliding and spinning , as required . the esthetics of the shoes is questionable . they do not look elegant . good for practice not so good for performance .', 'aspect': 'shoes--esthetics', 'polarity': 'Negative', 'sentiment_t5': 'Negative'}\n",
      "Review: the shoes are comfortable and stable . The sole allows for sliding and spinning , as required . the esthetics of the shoes is questionable . they do not look elegant . good for practice not so good for performance .\n",
      "        Aspect:  shoes--sole\n",
      "        Predict the sentiment for mentioned aspect in the review. Assign one of the following sentiment to the aspect: Positive , Negative , Neutral.\n",
      "        Please provide the sentiment only. No any explanation or extra text\n"
     ]
    },
    {
     "name": "stderr",
     "output_type": "stream",
     "text": [
      "C:\\Users\\Nimra\\AppData\\Local\\Temp\\ipykernel_16236\\2877642716.py:27: FutureWarning: The frame.append method is deprecated and will be removed from pandas in a future version. Use pandas.concat instead.\n",
      "  temp = temp.append(data_to_append, ignore_index=True)\n",
      "c:\\Users\\Nimra\\AppData\\Local\\Programs\\Python\\Python39\\lib\\site-packages\\transformers\\generation\\utils.py:1353: UserWarning: Using `max_length`'s default (20) to control the generation length. This behaviour is deprecated and will be removed from the config in v5 of Transformers -- we recommend using `max_new_tokens` to control the maximum length of the generation.\n",
      "  warnings.warn(\n"
     ]
    },
    {
     "name": "stdout",
     "output_type": "stream",
     "text": [
      "{'dataset_name': 'dotsa/new_Clothing_test', 'sentence': 'the shoes are comfortable and stable . The sole allows for sliding and spinning , as required . the esthetics of the shoes is questionable . they do not look elegant . good for practice not so good for performance .', 'aspect': ' shoes--sole', 'polarity': ' Positive', 'sentiment_t5': 'Neutral'}\n",
      "Review: the shoes are comfortable and stable . The sole allows for sliding and spinning , as required . the esthetics of the shoes is questionable . they do not look elegant . good for practice not so good for performance .\n",
      "        Aspect:  shoes\n",
      "        Predict the sentiment for mentioned aspect in the review. Assign one of the following sentiment to the aspect: Positive , Negative , Neutral.\n",
      "        Please provide the sentiment only. No any explanation or extra text\n"
     ]
    },
    {
     "name": "stderr",
     "output_type": "stream",
     "text": [
      "C:\\Users\\Nimra\\AppData\\Local\\Temp\\ipykernel_16236\\2877642716.py:27: FutureWarning: The frame.append method is deprecated and will be removed from pandas in a future version. Use pandas.concat instead.\n",
      "  temp = temp.append(data_to_append, ignore_index=True)\n",
      "c:\\Users\\Nimra\\AppData\\Local\\Programs\\Python\\Python39\\lib\\site-packages\\transformers\\generation\\utils.py:1353: UserWarning: Using `max_length`'s default (20) to control the generation length. This behaviour is deprecated and will be removed from the config in v5 of Transformers -- we recommend using `max_new_tokens` to control the maximum length of the generation.\n",
      "  warnings.warn(\n"
     ]
    },
    {
     "name": "stdout",
     "output_type": "stream",
     "text": [
      "{'dataset_name': 'dotsa/new_Clothing_test', 'sentence': 'the shoes are comfortable and stable . The sole allows for sliding and spinning , as required . the esthetics of the shoes is questionable . they do not look elegant . good for practice not so good for performance .', 'aspect': ' shoes', 'polarity': ' Mixed', 'sentiment_t5': 'Neutral'}\n",
      "Review: I am crazy about hoodies and have been looking for the perfect maroon hoodie . The color is just as pictured and this is honestly one of the most comfortable hoodies I have ever worn . I for this and a plain shirt under it in 30 degree weather and I stayed pretty warm .\n",
      "        Aspect: hoodies\n",
      "        Predict the sentiment for mentioned aspect in the review. Assign one of the following sentiment to the aspect: Positive , Negative , Neutral.\n",
      "        Please provide the sentiment only. No any explanation or extra text\n"
     ]
    },
    {
     "name": "stderr",
     "output_type": "stream",
     "text": [
      "C:\\Users\\Nimra\\AppData\\Local\\Temp\\ipykernel_16236\\2877642716.py:27: FutureWarning: The frame.append method is deprecated and will be removed from pandas in a future version. Use pandas.concat instead.\n",
      "  temp = temp.append(data_to_append, ignore_index=True)\n",
      "c:\\Users\\Nimra\\AppData\\Local\\Programs\\Python\\Python39\\lib\\site-packages\\transformers\\generation\\utils.py:1353: UserWarning: Using `max_length`'s default (20) to control the generation length. This behaviour is deprecated and will be removed from the config in v5 of Transformers -- we recommend using `max_new_tokens` to control the maximum length of the generation.\n",
      "  warnings.warn(\n"
     ]
    },
    {
     "name": "stdout",
     "output_type": "stream",
     "text": [
      "{'dataset_name': 'dotsa/new_Clothing_test', 'sentence': 'I am crazy about hoodies and have been looking for the perfect maroon hoodie . The color is just as pictured and this is honestly one of the most comfortable hoodies I have ever worn . I for this and a plain shirt under it in 30 degree weather and I stayed pretty warm .', 'aspect': 'hoodies', 'polarity': 'Positive', 'sentiment_t5': 'Positive'}\n",
      "Review: I am crazy about hoodies and have been looking for the perfect maroon hoodie . The color is just as pictured and this is honestly one of the most comfortable hoodies I have ever worn . I for this and a plain shirt under it in 30 degree weather and I stayed pretty warm .\n",
      "        Aspect:  hoodies--color\n",
      "        Predict the sentiment for mentioned aspect in the review. Assign one of the following sentiment to the aspect: Positive , Negative , Neutral.\n",
      "        Please provide the sentiment only. No any explanation or extra text\n"
     ]
    },
    {
     "name": "stderr",
     "output_type": "stream",
     "text": [
      "C:\\Users\\Nimra\\AppData\\Local\\Temp\\ipykernel_16236\\2877642716.py:27: FutureWarning: The frame.append method is deprecated and will be removed from pandas in a future version. Use pandas.concat instead.\n",
      "  temp = temp.append(data_to_append, ignore_index=True)\n",
      "c:\\Users\\Nimra\\AppData\\Local\\Programs\\Python\\Python39\\lib\\site-packages\\transformers\\generation\\utils.py:1353: UserWarning: Using `max_length`'s default (20) to control the generation length. This behaviour is deprecated and will be removed from the config in v5 of Transformers -- we recommend using `max_new_tokens` to control the maximum length of the generation.\n",
      "  warnings.warn(\n"
     ]
    },
    {
     "name": "stdout",
     "output_type": "stream",
     "text": [
      "{'dataset_name': 'dotsa/new_Clothing_test', 'sentence': 'I am crazy about hoodies and have been looking for the perfect maroon hoodie . The color is just as pictured and this is honestly one of the most comfortable hoodies I have ever worn . I for this and a plain shirt under it in 30 degree weather and I stayed pretty warm .', 'aspect': ' hoodies--color', 'polarity': ' Positive', 'sentiment_t5': 'Positive'}\n",
      "Review: Awesome for wearing for those more revealing cosplays ... At first I was scared when I got it because it was a lot darker than my actual skin tone but when I put it on it stretched out and matched it a lot better ... No one knew I was wearing tights !\n",
      "        Aspect: tights\n",
      "        Predict the sentiment for mentioned aspect in the review. Assign one of the following sentiment to the aspect: Positive , Negative , Neutral.\n",
      "        Please provide the sentiment only. No any explanation or extra text\n"
     ]
    },
    {
     "name": "stderr",
     "output_type": "stream",
     "text": [
      "C:\\Users\\Nimra\\AppData\\Local\\Temp\\ipykernel_16236\\2877642716.py:27: FutureWarning: The frame.append method is deprecated and will be removed from pandas in a future version. Use pandas.concat instead.\n",
      "  temp = temp.append(data_to_append, ignore_index=True)\n",
      "c:\\Users\\Nimra\\AppData\\Local\\Programs\\Python\\Python39\\lib\\site-packages\\transformers\\generation\\utils.py:1353: UserWarning: Using `max_length`'s default (20) to control the generation length. This behaviour is deprecated and will be removed from the config in v5 of Transformers -- we recommend using `max_new_tokens` to control the maximum length of the generation.\n",
      "  warnings.warn(\n"
     ]
    },
    {
     "name": "stdout",
     "output_type": "stream",
     "text": [
      "{'dataset_name': 'dotsa/new_Clothing_test', 'sentence': 'Awesome for wearing for those more revealing cosplays ... At first I was scared when I got it because it was a lot darker than my actual skin tone but when I put it on it stretched out and matched it a lot better ... No one knew I was wearing tights !', 'aspect': 'tights', 'polarity': 'Mixed', 'sentiment_t5': 'Neutral'}\n",
      "Review: WAY too small ! I could n't even get them up to my hips . I 'm attaching a photo of the size chart from the packaging , since the generic Amazon size info is not accurate for these . The fabric is also thicker than I expected , almost opaque and not very stretchy . I also expected more shimmer -- these are about as shimmery as any other nylons , not the kind of sparkle I 'd want to wear to a party . So even if they had fit , I 'm not sure I would have kept them .\n",
      "        Aspect: fabric\n",
      "        Predict the sentiment for mentioned aspect in the review. Assign one of the following sentiment to the aspect: Positive , Negative , Neutral.\n",
      "        Please provide the sentiment only. No any explanation or extra text\n"
     ]
    },
    {
     "name": "stderr",
     "output_type": "stream",
     "text": [
      "C:\\Users\\Nimra\\AppData\\Local\\Temp\\ipykernel_16236\\2877642716.py:27: FutureWarning: The frame.append method is deprecated and will be removed from pandas in a future version. Use pandas.concat instead.\n",
      "  temp = temp.append(data_to_append, ignore_index=True)\n",
      "c:\\Users\\Nimra\\AppData\\Local\\Programs\\Python\\Python39\\lib\\site-packages\\transformers\\generation\\utils.py:1353: UserWarning: Using `max_length`'s default (20) to control the generation length. This behaviour is deprecated and will be removed from the config in v5 of Transformers -- we recommend using `max_new_tokens` to control the maximum length of the generation.\n",
      "  warnings.warn(\n"
     ]
    },
    {
     "name": "stdout",
     "output_type": "stream",
     "text": [
      "{'dataset_name': 'dotsa/new_Clothing_test', 'sentence': \"WAY too small ! I could n't even get them up to my hips . I 'm attaching a photo of the size chart from the packaging , since the generic Amazon size info is not accurate for these . The fabric is also thicker than I expected , almost opaque and not very stretchy . I also expected more shimmer -- these are about as shimmery as any other nylons , not the kind of sparkle I 'd want to wear to a party . So even if they had fit , I 'm not sure I would have kept them .\", 'aspect': 'fabric', 'polarity': 'Negative', 'sentiment_t5': 'Negative'}\n",
      "Review: WAY too small ! I could n't even get them up to my hips . I 'm attaching a photo of the size chart from the packaging , since the generic Amazon size info is not accurate for these . The fabric is also thicker than I expected , almost opaque and not very stretchy . I also expected more shimmer -- these are about as shimmery as any other nylons , not the kind of sparkle I 'd want to wear to a party . So even if they had fit , I 'm not sure I would have kept them .\n",
      "        Aspect:  them\n",
      "        Predict the sentiment for mentioned aspect in the review. Assign one of the following sentiment to the aspect: Positive , Negative , Neutral.\n",
      "        Please provide the sentiment only. No any explanation or extra text\n"
     ]
    },
    {
     "name": "stderr",
     "output_type": "stream",
     "text": [
      "C:\\Users\\Nimra\\AppData\\Local\\Temp\\ipykernel_16236\\2877642716.py:27: FutureWarning: The frame.append method is deprecated and will be removed from pandas in a future version. Use pandas.concat instead.\n",
      "  temp = temp.append(data_to_append, ignore_index=True)\n",
      "c:\\Users\\Nimra\\AppData\\Local\\Programs\\Python\\Python39\\lib\\site-packages\\transformers\\generation\\utils.py:1353: UserWarning: Using `max_length`'s default (20) to control the generation length. This behaviour is deprecated and will be removed from the config in v5 of Transformers -- we recommend using `max_new_tokens` to control the maximum length of the generation.\n",
      "  warnings.warn(\n"
     ]
    },
    {
     "name": "stdout",
     "output_type": "stream",
     "text": [
      "{'dataset_name': 'dotsa/new_Clothing_test', 'sentence': \"WAY too small ! I could n't even get them up to my hips . I 'm attaching a photo of the size chart from the packaging , since the generic Amazon size info is not accurate for these . The fabric is also thicker than I expected , almost opaque and not very stretchy . I also expected more shimmer -- these are about as shimmery as any other nylons , not the kind of sparkle I 'd want to wear to a party . So even if they had fit , I 'm not sure I would have kept them .\", 'aspect': ' them', 'polarity': ' Negative', 'sentiment_t5': 'Negative'}\n",
      "Review: Competitive price , durable item . The L/XL fits my 5\\ ' 2 150 pounds perfectly but if you are taller and weigh more , these will not fit .\n",
      "        Aspect: item--price\n",
      "        Predict the sentiment for mentioned aspect in the review. Assign one of the following sentiment to the aspect: Positive , Negative , Neutral.\n",
      "        Please provide the sentiment only. No any explanation or extra text\n"
     ]
    },
    {
     "name": "stderr",
     "output_type": "stream",
     "text": [
      "C:\\Users\\Nimra\\AppData\\Local\\Temp\\ipykernel_16236\\2877642716.py:27: FutureWarning: The frame.append method is deprecated and will be removed from pandas in a future version. Use pandas.concat instead.\n",
      "  temp = temp.append(data_to_append, ignore_index=True)\n",
      "c:\\Users\\Nimra\\AppData\\Local\\Programs\\Python\\Python39\\lib\\site-packages\\transformers\\generation\\utils.py:1353: UserWarning: Using `max_length`'s default (20) to control the generation length. This behaviour is deprecated and will be removed from the config in v5 of Transformers -- we recommend using `max_new_tokens` to control the maximum length of the generation.\n",
      "  warnings.warn(\n"
     ]
    },
    {
     "name": "stdout",
     "output_type": "stream",
     "text": [
      "{'dataset_name': 'dotsa/new_Clothing_test', 'sentence': \"Competitive price , durable item . The L/XL fits my 5\\\\ ' 2 150 pounds perfectly but if you are taller and weigh more , these will not fit .\", 'aspect': 'item--price', 'polarity': 'Positive', 'sentiment_t5': 'Positive'}\n",
      "Review: Competitive price , durable item . The L/XL fits my 5\\ ' 2 150 pounds perfectly but if you are taller and weigh more , these will not fit .\n",
      "        Aspect:  item\n",
      "        Predict the sentiment for mentioned aspect in the review. Assign one of the following sentiment to the aspect: Positive , Negative , Neutral.\n",
      "        Please provide the sentiment only. No any explanation or extra text\n"
     ]
    },
    {
     "name": "stderr",
     "output_type": "stream",
     "text": [
      "C:\\Users\\Nimra\\AppData\\Local\\Temp\\ipykernel_16236\\2877642716.py:27: FutureWarning: The frame.append method is deprecated and will be removed from pandas in a future version. Use pandas.concat instead.\n",
      "  temp = temp.append(data_to_append, ignore_index=True)\n",
      "c:\\Users\\Nimra\\AppData\\Local\\Programs\\Python\\Python39\\lib\\site-packages\\transformers\\generation\\utils.py:1353: UserWarning: Using `max_length`'s default (20) to control the generation length. This behaviour is deprecated and will be removed from the config in v5 of Transformers -- we recommend using `max_new_tokens` to control the maximum length of the generation.\n",
      "  warnings.warn(\n"
     ]
    },
    {
     "name": "stdout",
     "output_type": "stream",
     "text": [
      "{'dataset_name': 'dotsa/new_Clothing_test', 'sentence': \"Competitive price , durable item . The L/XL fits my 5\\\\ ' 2 150 pounds perfectly but if you are taller and weigh more , these will not fit .\", 'aspect': ' item', 'polarity': ' Positive', 'sentiment_t5': 'Positive'}\n",
      "Review: Bought a second Ash/Grey sweater because the first one fit so well and is so warm . But what the hell with the price increase ? ? ! The whole idea here is that the sweaters are warm and cheap , I even gave recognition of that in my first review . Luckily the color I wanted did n't have an increased price . The sleeves of the sweater are a little baggy , but nothing to hate . Good buy if you 're a college student just looking to be warm in class .\n",
      "        Aspect: second ash/grey sweater--sleeves of the sweater\n",
      "        Predict the sentiment for mentioned aspect in the review. Assign one of the following sentiment to the aspect: Positive , Negative , Neutral.\n",
      "        Please provide the sentiment only. No any explanation or extra text\n"
     ]
    },
    {
     "name": "stderr",
     "output_type": "stream",
     "text": [
      "C:\\Users\\Nimra\\AppData\\Local\\Temp\\ipykernel_16236\\2877642716.py:27: FutureWarning: The frame.append method is deprecated and will be removed from pandas in a future version. Use pandas.concat instead.\n",
      "  temp = temp.append(data_to_append, ignore_index=True)\n",
      "c:\\Users\\Nimra\\AppData\\Local\\Programs\\Python\\Python39\\lib\\site-packages\\transformers\\generation\\utils.py:1353: UserWarning: Using `max_length`'s default (20) to control the generation length. This behaviour is deprecated and will be removed from the config in v5 of Transformers -- we recommend using `max_new_tokens` to control the maximum length of the generation.\n",
      "  warnings.warn(\n"
     ]
    },
    {
     "name": "stdout",
     "output_type": "stream",
     "text": [
      "{'dataset_name': 'dotsa/new_Clothing_test', 'sentence': \"Bought a second Ash/Grey sweater because the first one fit so well and is so warm . But what the hell with the price increase ? ? ! The whole idea here is that the sweaters are warm and cheap , I even gave recognition of that in my first review . Luckily the color I wanted did n't have an increased price . The sleeves of the sweater are a little baggy , but nothing to hate . Good buy if you 're a college student just looking to be warm in class .\", 'aspect': 'second Ash/Grey sweater--sleeves of the sweater', 'polarity': 'Negative', 'sentiment_t5': 'Neutral'}\n",
      "Review: Bought a second Ash/Grey sweater because the first one fit so well and is so warm . But what the hell with the price increase ? ? ! The whole idea here is that the sweaters are warm and cheap , I even gave recognition of that in my first review . Luckily the color I wanted did n't have an increased price . The sleeves of the sweater are a little baggy , but nothing to hate . Good buy if you 're a college student just looking to be warm in class .\n",
      "        Aspect:  first\n",
      "        Predict the sentiment for mentioned aspect in the review. Assign one of the following sentiment to the aspect: Positive , Negative , Neutral.\n",
      "        Please provide the sentiment only. No any explanation or extra text\n"
     ]
    },
    {
     "name": "stderr",
     "output_type": "stream",
     "text": [
      "C:\\Users\\Nimra\\AppData\\Local\\Temp\\ipykernel_16236\\2877642716.py:27: FutureWarning: The frame.append method is deprecated and will be removed from pandas in a future version. Use pandas.concat instead.\n",
      "  temp = temp.append(data_to_append, ignore_index=True)\n",
      "c:\\Users\\Nimra\\AppData\\Local\\Programs\\Python\\Python39\\lib\\site-packages\\transformers\\generation\\utils.py:1353: UserWarning: Using `max_length`'s default (20) to control the generation length. This behaviour is deprecated and will be removed from the config in v5 of Transformers -- we recommend using `max_new_tokens` to control the maximum length of the generation.\n",
      "  warnings.warn(\n"
     ]
    },
    {
     "name": "stdout",
     "output_type": "stream",
     "text": [
      "{'dataset_name': 'dotsa/new_Clothing_test', 'sentence': \"Bought a second Ash/Grey sweater because the first one fit so well and is so warm . But what the hell with the price increase ? ? ! The whole idea here is that the sweaters are warm and cheap , I even gave recognition of that in my first review . Luckily the color I wanted did n't have an increased price . The sleeves of the sweater are a little baggy , but nothing to hate . Good buy if you 're a college student just looking to be warm in class .\", 'aspect': ' first', 'polarity': ' Positive', 'sentiment_t5': 'Positive'}\n",
      "Review: Bought a second Ash/Grey sweater because the first one fit so well and is so warm . But what the hell with the price increase ? ? ! The whole idea here is that the sweaters are warm and cheap , I even gave recognition of that in my first review . Luckily the color I wanted did n't have an increased price . The sleeves of the sweater are a little baggy , but nothing to hate . Good buy if you 're a college student just looking to be warm in class .\n",
      "        Aspect:  sweaters\n",
      "        Predict the sentiment for mentioned aspect in the review. Assign one of the following sentiment to the aspect: Positive , Negative , Neutral.\n",
      "        Please provide the sentiment only. No any explanation or extra text\n"
     ]
    },
    {
     "name": "stderr",
     "output_type": "stream",
     "text": [
      "C:\\Users\\Nimra\\AppData\\Local\\Temp\\ipykernel_16236\\2877642716.py:27: FutureWarning: The frame.append method is deprecated and will be removed from pandas in a future version. Use pandas.concat instead.\n",
      "  temp = temp.append(data_to_append, ignore_index=True)\n",
      "c:\\Users\\Nimra\\AppData\\Local\\Programs\\Python\\Python39\\lib\\site-packages\\transformers\\generation\\utils.py:1353: UserWarning: Using `max_length`'s default (20) to control the generation length. This behaviour is deprecated and will be removed from the config in v5 of Transformers -- we recommend using `max_new_tokens` to control the maximum length of the generation.\n",
      "  warnings.warn(\n"
     ]
    },
    {
     "name": "stdout",
     "output_type": "stream",
     "text": [
      "{'dataset_name': 'dotsa/new_Clothing_test', 'sentence': \"Bought a second Ash/Grey sweater because the first one fit so well and is so warm . But what the hell with the price increase ? ? ! The whole idea here is that the sweaters are warm and cheap , I even gave recognition of that in my first review . Luckily the color I wanted did n't have an increased price . The sleeves of the sweater are a little baggy , but nothing to hate . Good buy if you 're a college student just looking to be warm in class .\", 'aspect': ' sweaters', 'polarity': ' Positive', 'sentiment_t5': 'Positive'}\n",
      "Review: Bought a second Ash/Grey sweater because the first one fit so well and is so warm . But what the hell with the price increase ? ? ! The whole idea here is that the sweaters are warm and cheap , I even gave recognition of that in my first review . Luckily the color I wanted did n't have an increased price . The sleeves of the sweater are a little baggy , but nothing to hate . Good buy if you 're a college student just looking to be warm in class .\n",
      "        Aspect:  second ash/grey sweater--buy\n",
      "        Predict the sentiment for mentioned aspect in the review. Assign one of the following sentiment to the aspect: Positive , Negative , Neutral.\n",
      "        Please provide the sentiment only. No any explanation or extra text\n"
     ]
    },
    {
     "name": "stderr",
     "output_type": "stream",
     "text": [
      "C:\\Users\\Nimra\\AppData\\Local\\Temp\\ipykernel_16236\\2877642716.py:27: FutureWarning: The frame.append method is deprecated and will be removed from pandas in a future version. Use pandas.concat instead.\n",
      "  temp = temp.append(data_to_append, ignore_index=True)\n",
      "c:\\Users\\Nimra\\AppData\\Local\\Programs\\Python\\Python39\\lib\\site-packages\\transformers\\generation\\utils.py:1353: UserWarning: Using `max_length`'s default (20) to control the generation length. This behaviour is deprecated and will be removed from the config in v5 of Transformers -- we recommend using `max_new_tokens` to control the maximum length of the generation.\n",
      "  warnings.warn(\n"
     ]
    },
    {
     "name": "stdout",
     "output_type": "stream",
     "text": [
      "{'dataset_name': 'dotsa/new_Clothing_test', 'sentence': \"Bought a second Ash/Grey sweater because the first one fit so well and is so warm . But what the hell with the price increase ? ? ! The whole idea here is that the sweaters are warm and cheap , I even gave recognition of that in my first review . Luckily the color I wanted did n't have an increased price . The sleeves of the sweater are a little baggy , but nothing to hate . Good buy if you 're a college student just looking to be warm in class .\", 'aspect': ' second Ash/Grey sweater--buy', 'polarity': ' Positive', 'sentiment_t5': 'Positive'}\n",
      "Review: Bought a second Ash/Grey sweater because the first one fit so well and is so warm . But what the hell with the price increase ? ? ! The whole idea here is that the sweaters are warm and cheap , I even gave recognition of that in my first review . Luckily the color I wanted did n't have an increased price . The sleeves of the sweater are a little baggy , but nothing to hate . Good buy if you 're a college student just looking to be warm in class .\n",
      "        Aspect:  second ash/grey sweater\n",
      "        Predict the sentiment for mentioned aspect in the review. Assign one of the following sentiment to the aspect: Positive , Negative , Neutral.\n",
      "        Please provide the sentiment only. No any explanation or extra text\n"
     ]
    },
    {
     "name": "stderr",
     "output_type": "stream",
     "text": [
      "C:\\Users\\Nimra\\AppData\\Local\\Temp\\ipykernel_16236\\2877642716.py:27: FutureWarning: The frame.append method is deprecated and will be removed from pandas in a future version. Use pandas.concat instead.\n",
      "  temp = temp.append(data_to_append, ignore_index=True)\n",
      "c:\\Users\\Nimra\\AppData\\Local\\Programs\\Python\\Python39\\lib\\site-packages\\transformers\\generation\\utils.py:1353: UserWarning: Using `max_length`'s default (20) to control the generation length. This behaviour is deprecated and will be removed from the config in v5 of Transformers -- we recommend using `max_new_tokens` to control the maximum length of the generation.\n",
      "  warnings.warn(\n"
     ]
    },
    {
     "name": "stdout",
     "output_type": "stream",
     "text": [
      "{'dataset_name': 'dotsa/new_Clothing_test', 'sentence': \"Bought a second Ash/Grey sweater because the first one fit so well and is so warm . But what the hell with the price increase ? ? ! The whole idea here is that the sweaters are warm and cheap , I even gave recognition of that in my first review . Luckily the color I wanted did n't have an increased price . The sleeves of the sweater are a little baggy , but nothing to hate . Good buy if you 're a college student just looking to be warm in class .\", 'aspect': ' second Ash/Grey sweater', 'polarity': ' Mixed', 'sentiment_t5': 'Neutral'}\n",
      "Review: Bought a second Ash/Grey sweater because the first one fit so well and is so warm . But what the hell with the price increase ? ? ! The whole idea here is that the sweaters are warm and cheap , I even gave recognition of that in my first review . Luckily the color I wanted did n't have an increased price . The sleeves of the sweater are a little baggy , but nothing to hate . Good buy if you 're a college student just looking to be warm in class .\n",
      "        Aspect:  one\n",
      "        Predict the sentiment for mentioned aspect in the review. Assign one of the following sentiment to the aspect: Positive , Negative , Neutral.\n",
      "        Please provide the sentiment only. No any explanation or extra text\n"
     ]
    },
    {
     "name": "stderr",
     "output_type": "stream",
     "text": [
      "C:\\Users\\Nimra\\AppData\\Local\\Temp\\ipykernel_16236\\2877642716.py:27: FutureWarning: The frame.append method is deprecated and will be removed from pandas in a future version. Use pandas.concat instead.\n",
      "  temp = temp.append(data_to_append, ignore_index=True)\n",
      "c:\\Users\\Nimra\\AppData\\Local\\Programs\\Python\\Python39\\lib\\site-packages\\transformers\\generation\\utils.py:1353: UserWarning: Using `max_length`'s default (20) to control the generation length. This behaviour is deprecated and will be removed from the config in v5 of Transformers -- we recommend using `max_new_tokens` to control the maximum length of the generation.\n",
      "  warnings.warn(\n"
     ]
    },
    {
     "name": "stdout",
     "output_type": "stream",
     "text": [
      "{'dataset_name': 'dotsa/new_Clothing_test', 'sentence': \"Bought a second Ash/Grey sweater because the first one fit so well and is so warm . But what the hell with the price increase ? ? ! The whole idea here is that the sweaters are warm and cheap , I even gave recognition of that in my first review . Luckily the color I wanted did n't have an increased price . The sleeves of the sweater are a little baggy , but nothing to hate . Good buy if you 're a college student just looking to be warm in class .\", 'aspect': ' one', 'polarity': ' Positive', 'sentiment_t5': 'Positive'}\n",
      "Review: Bought a second Ash/Grey sweater because the first one fit so well and is so warm . But what the hell with the price increase ? ? ! The whole idea here is that the sweaters are warm and cheap , I even gave recognition of that in my first review . Luckily the color I wanted did n't have an increased price . The sleeves of the sweater are a little baggy , but nothing to hate . Good buy if you 're a college student just looking to be warm in class .\n",
      "        Aspect:  price\n",
      "        Predict the sentiment for mentioned aspect in the review. Assign one of the following sentiment to the aspect: Positive , Negative , Neutral.\n",
      "        Please provide the sentiment only. No any explanation or extra text\n"
     ]
    },
    {
     "name": "stderr",
     "output_type": "stream",
     "text": [
      "C:\\Users\\Nimra\\AppData\\Local\\Temp\\ipykernel_16236\\2877642716.py:27: FutureWarning: The frame.append method is deprecated and will be removed from pandas in a future version. Use pandas.concat instead.\n",
      "  temp = temp.append(data_to_append, ignore_index=True)\n",
      "c:\\Users\\Nimra\\AppData\\Local\\Programs\\Python\\Python39\\lib\\site-packages\\transformers\\generation\\utils.py:1353: UserWarning: Using `max_length`'s default (20) to control the generation length. This behaviour is deprecated and will be removed from the config in v5 of Transformers -- we recommend using `max_new_tokens` to control the maximum length of the generation.\n",
      "  warnings.warn(\n"
     ]
    },
    {
     "name": "stdout",
     "output_type": "stream",
     "text": [
      "{'dataset_name': 'dotsa/new_Clothing_test', 'sentence': \"Bought a second Ash/Grey sweater because the first one fit so well and is so warm . But what the hell with the price increase ? ? ! The whole idea here is that the sweaters are warm and cheap , I even gave recognition of that in my first review . Luckily the color I wanted did n't have an increased price . The sleeves of the sweater are a little baggy , but nothing to hate . Good buy if you 're a college student just looking to be warm in class .\", 'aspect': ' price', 'polarity': ' Negative', 'sentiment_t5': 'Negative'}\n",
      "Review: These tights have a gorgeous , shimmery , sheen to them , which is exactly what I was looking for . It is pretty subtle but definitely there , and I loved it with the dress I wore to my holiday party . They lasted through a very long night at the party , and I had no issues with runs or tears . I was worried about the sizing , but they are very flexible and stretchy so it was n't an issue . The amount of stretch also makes me think that these will last a long time .\n",
      "        Aspect: tights--sheen\n",
      "        Predict the sentiment for mentioned aspect in the review. Assign one of the following sentiment to the aspect: Positive , Negative , Neutral.\n",
      "        Please provide the sentiment only. No any explanation or extra text\n"
     ]
    },
    {
     "name": "stderr",
     "output_type": "stream",
     "text": [
      "C:\\Users\\Nimra\\AppData\\Local\\Temp\\ipykernel_16236\\2877642716.py:27: FutureWarning: The frame.append method is deprecated and will be removed from pandas in a future version. Use pandas.concat instead.\n",
      "  temp = temp.append(data_to_append, ignore_index=True)\n",
      "c:\\Users\\Nimra\\AppData\\Local\\Programs\\Python\\Python39\\lib\\site-packages\\transformers\\generation\\utils.py:1353: UserWarning: Using `max_length`'s default (20) to control the generation length. This behaviour is deprecated and will be removed from the config in v5 of Transformers -- we recommend using `max_new_tokens` to control the maximum length of the generation.\n",
      "  warnings.warn(\n"
     ]
    },
    {
     "name": "stdout",
     "output_type": "stream",
     "text": [
      "{'dataset_name': 'dotsa/new_Clothing_test', 'sentence': \"These tights have a gorgeous , shimmery , sheen to them , which is exactly what I was looking for . It is pretty subtle but definitely there , and I loved it with the dress I wore to my holiday party . They lasted through a very long night at the party , and I had no issues with runs or tears . I was worried about the sizing , but they are very flexible and stretchy so it was n't an issue . The amount of stretch also makes me think that these will last a long time .\", 'aspect': 'tights--sheen', 'polarity': 'Positive', 'sentiment_t5': 'Positive'}\n",
      "Review: These tights have a gorgeous , shimmery , sheen to them , which is exactly what I was looking for . It is pretty subtle but definitely there , and I loved it with the dress I wore to my holiday party . They lasted through a very long night at the party , and I had no issues with runs or tears . I was worried about the sizing , but they are very flexible and stretchy so it was n't an issue . The amount of stretch also makes me think that these will last a long time .\n",
      "        Aspect:  tights\n",
      "        Predict the sentiment for mentioned aspect in the review. Assign one of the following sentiment to the aspect: Positive , Negative , Neutral.\n",
      "        Please provide the sentiment only. No any explanation or extra text\n"
     ]
    },
    {
     "name": "stderr",
     "output_type": "stream",
     "text": [
      "C:\\Users\\Nimra\\AppData\\Local\\Temp\\ipykernel_16236\\2877642716.py:27: FutureWarning: The frame.append method is deprecated and will be removed from pandas in a future version. Use pandas.concat instead.\n",
      "  temp = temp.append(data_to_append, ignore_index=True)\n",
      "c:\\Users\\Nimra\\AppData\\Local\\Programs\\Python\\Python39\\lib\\site-packages\\transformers\\generation\\utils.py:1353: UserWarning: Using `max_length`'s default (20) to control the generation length. This behaviour is deprecated and will be removed from the config in v5 of Transformers -- we recommend using `max_new_tokens` to control the maximum length of the generation.\n",
      "  warnings.warn(\n"
     ]
    },
    {
     "name": "stdout",
     "output_type": "stream",
     "text": [
      "{'dataset_name': 'dotsa/new_Clothing_test', 'sentence': \"These tights have a gorgeous , shimmery , sheen to them , which is exactly what I was looking for . It is pretty subtle but definitely there , and I loved it with the dress I wore to my holiday party . They lasted through a very long night at the party , and I had no issues with runs or tears . I was worried about the sizing , but they are very flexible and stretchy so it was n't an issue . The amount of stretch also makes me think that these will last a long time .\", 'aspect': ' tights', 'polarity': ' Positive', 'sentiment_t5': 'Positive'}\n",
      "Review: These shoes are comfy ; however they are a little narrow and short . They are still really cute and will be great for slacks , jeans , shorts , skirts , even a nice dress .\n",
      "        Aspect: shoes\n",
      "        Predict the sentiment for mentioned aspect in the review. Assign one of the following sentiment to the aspect: Positive , Negative , Neutral.\n",
      "        Please provide the sentiment only. No any explanation or extra text\n"
     ]
    },
    {
     "name": "stderr",
     "output_type": "stream",
     "text": [
      "C:\\Users\\Nimra\\AppData\\Local\\Temp\\ipykernel_16236\\2877642716.py:27: FutureWarning: The frame.append method is deprecated and will be removed from pandas in a future version. Use pandas.concat instead.\n",
      "  temp = temp.append(data_to_append, ignore_index=True)\n",
      "c:\\Users\\Nimra\\AppData\\Local\\Programs\\Python\\Python39\\lib\\site-packages\\transformers\\generation\\utils.py:1353: UserWarning: Using `max_length`'s default (20) to control the generation length. This behaviour is deprecated and will be removed from the config in v5 of Transformers -- we recommend using `max_new_tokens` to control the maximum length of the generation.\n",
      "  warnings.warn(\n"
     ]
    },
    {
     "name": "stdout",
     "output_type": "stream",
     "text": [
      "{'dataset_name': 'dotsa/new_Clothing_test', 'sentence': 'These shoes are comfy ; however they are a little narrow and short . They are still really cute and will be great for slacks , jeans , shorts , skirts , even a nice dress .', 'aspect': 'shoes', 'polarity': 'Mixed', 'sentiment_t5': 'Neutral'}\n",
      "Review: These are really good character shoes . I was so excited to see that they came in half sizes - somewhat of a rarity in character shoes . I ordered a 9W , and they fit perfectly . I am usually an 8 . 5W-9 in regular shoes , but I know from experience that Capezios tend to run a little small so the 9W 's were perfect for me . The low heel made them very comfortable . My only complaint is they are SUCH a pain to get buckled . I the first time I put them on , I must have struggled with getting the fat band through that tiny buckle for 10 minutes , not to mention getting them actually clasped . It got easier the more I wore them , but that first time was a real pain . On the whole , I would definitely recommend these if you are looking for a nice pair of cheap character shoes .\n",
      "        Aspect: low heel\n",
      "        Predict the sentiment for mentioned aspect in the review. Assign one of the following sentiment to the aspect: Positive , Negative , Neutral.\n",
      "        Please provide the sentiment only. No any explanation or extra text\n"
     ]
    },
    {
     "name": "stderr",
     "output_type": "stream",
     "text": [
      "C:\\Users\\Nimra\\AppData\\Local\\Temp\\ipykernel_16236\\2877642716.py:27: FutureWarning: The frame.append method is deprecated and will be removed from pandas in a future version. Use pandas.concat instead.\n",
      "  temp = temp.append(data_to_append, ignore_index=True)\n",
      "c:\\Users\\Nimra\\AppData\\Local\\Programs\\Python\\Python39\\lib\\site-packages\\transformers\\generation\\utils.py:1353: UserWarning: Using `max_length`'s default (20) to control the generation length. This behaviour is deprecated and will be removed from the config in v5 of Transformers -- we recommend using `max_new_tokens` to control the maximum length of the generation.\n",
      "  warnings.warn(\n"
     ]
    },
    {
     "name": "stdout",
     "output_type": "stream",
     "text": [
      "{'dataset_name': 'dotsa/new_Clothing_test', 'sentence': \"These are really good character shoes . I was so excited to see that they came in half sizes - somewhat of a rarity in character shoes . I ordered a 9W , and they fit perfectly . I am usually an 8 . 5W-9 in regular shoes , but I know from experience that Capezios tend to run a little small so the 9W 's were perfect for me . The low heel made them very comfortable . My only complaint is they are SUCH a pain to get buckled . I the first time I put them on , I must have struggled with getting the fat band through that tiny buckle for 10 minutes , not to mention getting them actually clasped . It got easier the more I wore them , but that first time was a real pain . On the whole , I would definitely recommend these if you are looking for a nice pair of cheap character shoes .\", 'aspect': 'low heel', 'polarity': 'Positive', 'sentiment_t5': 'Positive'}\n",
      "Review: These are really good character shoes . I was so excited to see that they came in half sizes - somewhat of a rarity in character shoes . I ordered a 9W , and they fit perfectly . I am usually an 8 . 5W-9 in regular shoes , but I know from experience that Capezios tend to run a little small so the 9W 's were perfect for me . The low heel made them very comfortable . My only complaint is they are SUCH a pain to get buckled . I the first time I put them on , I must have struggled with getting the fat band through that tiny buckle for 10 minutes , not to mention getting them actually clasped . It got easier the more I wore them , but that first time was a real pain . On the whole , I would definitely recommend these if you are looking for a nice pair of cheap character shoes .\n",
      "        Aspect:  shoes--9w 's\n",
      "        Predict the sentiment for mentioned aspect in the review. Assign one of the following sentiment to the aspect: Positive , Negative , Neutral.\n",
      "        Please provide the sentiment only. No any explanation or extra text\n"
     ]
    },
    {
     "name": "stderr",
     "output_type": "stream",
     "text": [
      "C:\\Users\\Nimra\\AppData\\Local\\Temp\\ipykernel_16236\\2877642716.py:27: FutureWarning: The frame.append method is deprecated and will be removed from pandas in a future version. Use pandas.concat instead.\n",
      "  temp = temp.append(data_to_append, ignore_index=True)\n",
      "c:\\Users\\Nimra\\AppData\\Local\\Programs\\Python\\Python39\\lib\\site-packages\\transformers\\generation\\utils.py:1353: UserWarning: Using `max_length`'s default (20) to control the generation length. This behaviour is deprecated and will be removed from the config in v5 of Transformers -- we recommend using `max_new_tokens` to control the maximum length of the generation.\n",
      "  warnings.warn(\n"
     ]
    },
    {
     "name": "stdout",
     "output_type": "stream",
     "text": [
      "{'dataset_name': 'dotsa/new_Clothing_test', 'sentence': \"These are really good character shoes . I was so excited to see that they came in half sizes - somewhat of a rarity in character shoes . I ordered a 9W , and they fit perfectly . I am usually an 8 . 5W-9 in regular shoes , but I know from experience that Capezios tend to run a little small so the 9W 's were perfect for me . The low heel made them very comfortable . My only complaint is they are SUCH a pain to get buckled . I the first time I put them on , I must have struggled with getting the fat band through that tiny buckle for 10 minutes , not to mention getting them actually clasped . It got easier the more I wore them , but that first time was a real pain . On the whole , I would definitely recommend these if you are looking for a nice pair of cheap character shoes .\", 'aspect': \" shoes--9W 's\", 'polarity': ' Positive', 'sentiment_t5': 'Positive'}\n",
      "Review: These are really good character shoes . I was so excited to see that they came in half sizes - somewhat of a rarity in character shoes . I ordered a 9W , and they fit perfectly . I am usually an 8 . 5W-9 in regular shoes , but I know from experience that Capezios tend to run a little small so the 9W 's were perfect for me . The low heel made them very comfortable . My only complaint is they are SUCH a pain to get buckled . I the first time I put them on , I must have struggled with getting the fat band through that tiny buckle for 10 minutes , not to mention getting them actually clasped . It got easier the more I wore them , but that first time was a real pain . On the whole , I would definitely recommend these if you are looking for a nice pair of cheap character shoes .\n",
      "        Aspect:  shoes\n",
      "        Predict the sentiment for mentioned aspect in the review. Assign one of the following sentiment to the aspect: Positive , Negative , Neutral.\n",
      "        Please provide the sentiment only. No any explanation or extra text\n"
     ]
    },
    {
     "name": "stderr",
     "output_type": "stream",
     "text": [
      "C:\\Users\\Nimra\\AppData\\Local\\Temp\\ipykernel_16236\\2877642716.py:27: FutureWarning: The frame.append method is deprecated and will be removed from pandas in a future version. Use pandas.concat instead.\n",
      "  temp = temp.append(data_to_append, ignore_index=True)\n",
      "c:\\Users\\Nimra\\AppData\\Local\\Programs\\Python\\Python39\\lib\\site-packages\\transformers\\generation\\utils.py:1353: UserWarning: Using `max_length`'s default (20) to control the generation length. This behaviour is deprecated and will be removed from the config in v5 of Transformers -- we recommend using `max_new_tokens` to control the maximum length of the generation.\n",
      "  warnings.warn(\n"
     ]
    },
    {
     "name": "stdout",
     "output_type": "stream",
     "text": [
      "{'dataset_name': 'dotsa/new_Clothing_test', 'sentence': \"These are really good character shoes . I was so excited to see that they came in half sizes - somewhat of a rarity in character shoes . I ordered a 9W , and they fit perfectly . I am usually an 8 . 5W-9 in regular shoes , but I know from experience that Capezios tend to run a little small so the 9W 's were perfect for me . The low heel made them very comfortable . My only complaint is they are SUCH a pain to get buckled . I the first time I put them on , I must have struggled with getting the fat band through that tiny buckle for 10 minutes , not to mention getting them actually clasped . It got easier the more I wore them , but that first time was a real pain . On the whole , I would definitely recommend these if you are looking for a nice pair of cheap character shoes .\", 'aspect': ' shoes', 'polarity': ' Mixed', 'sentiment_t5': 'Positive'}\n",
      "Review: They fit everywhere but the length . I weigh 130 # and I am 5\\ ' 4 and the size chart said B . They are , however , bshimmery , sturdy and wash well .\n",
      "        Aspect: length\n",
      "        Predict the sentiment for mentioned aspect in the review. Assign one of the following sentiment to the aspect: Positive , Negative , Neutral.\n",
      "        Please provide the sentiment only. No any explanation or extra text\n"
     ]
    },
    {
     "name": "stderr",
     "output_type": "stream",
     "text": [
      "C:\\Users\\Nimra\\AppData\\Local\\Temp\\ipykernel_16236\\2877642716.py:27: FutureWarning: The frame.append method is deprecated and will be removed from pandas in a future version. Use pandas.concat instead.\n",
      "  temp = temp.append(data_to_append, ignore_index=True)\n",
      "c:\\Users\\Nimra\\AppData\\Local\\Programs\\Python\\Python39\\lib\\site-packages\\transformers\\generation\\utils.py:1353: UserWarning: Using `max_length`'s default (20) to control the generation length. This behaviour is deprecated and will be removed from the config in v5 of Transformers -- we recommend using `max_new_tokens` to control the maximum length of the generation.\n",
      "  warnings.warn(\n"
     ]
    },
    {
     "name": "stdout",
     "output_type": "stream",
     "text": [
      "{'dataset_name': 'dotsa/new_Clothing_test', 'sentence': \"They fit everywhere but the length . I weigh 130 # and I am 5\\\\ ' 4 and the size chart said B . They are , however , bshimmery , sturdy and wash well .\", 'aspect': 'length', 'polarity': 'Negative', 'sentiment_t5': 'Neutral'}\n",
      "Review: They fit everywhere but the length . I weigh 130 # and I am 5\\ ' 4 and the size chart said B . They are , however , bshimmery , sturdy and wash well .\n",
      "        Aspect:  they\n",
      "        Predict the sentiment for mentioned aspect in the review. Assign one of the following sentiment to the aspect: Positive , Negative , Neutral.\n",
      "        Please provide the sentiment only. No any explanation or extra text\n"
     ]
    },
    {
     "name": "stderr",
     "output_type": "stream",
     "text": [
      "C:\\Users\\Nimra\\AppData\\Local\\Temp\\ipykernel_16236\\2877642716.py:27: FutureWarning: The frame.append method is deprecated and will be removed from pandas in a future version. Use pandas.concat instead.\n",
      "  temp = temp.append(data_to_append, ignore_index=True)\n",
      "c:\\Users\\Nimra\\AppData\\Local\\Programs\\Python\\Python39\\lib\\site-packages\\transformers\\generation\\utils.py:1353: UserWarning: Using `max_length`'s default (20) to control the generation length. This behaviour is deprecated and will be removed from the config in v5 of Transformers -- we recommend using `max_new_tokens` to control the maximum length of the generation.\n",
      "  warnings.warn(\n"
     ]
    },
    {
     "name": "stdout",
     "output_type": "stream",
     "text": [
      "{'dataset_name': 'dotsa/new_Clothing_test', 'sentence': \"They fit everywhere but the length . I weigh 130 # and I am 5\\\\ ' 4 and the size chart said B . They are , however , bshimmery , sturdy and wash well .\", 'aspect': ' They', 'polarity': ' Positive', 'sentiment_t5': 'Positive'}\n",
      "Review: These are , without a doubt , the BEST tights EVER . They are comfortable , do n't move around too much ( i . e . sliding down , riding up ) , and they 've got full coverage and make your legs look great . Totally worth the money .\n",
      "        Aspect: tights\n",
      "        Predict the sentiment for mentioned aspect in the review. Assign one of the following sentiment to the aspect: Positive , Negative , Neutral.\n",
      "        Please provide the sentiment only. No any explanation or extra text\n"
     ]
    },
    {
     "name": "stderr",
     "output_type": "stream",
     "text": [
      "C:\\Users\\Nimra\\AppData\\Local\\Temp\\ipykernel_16236\\2877642716.py:27: FutureWarning: The frame.append method is deprecated and will be removed from pandas in a future version. Use pandas.concat instead.\n",
      "  temp = temp.append(data_to_append, ignore_index=True)\n",
      "c:\\Users\\Nimra\\AppData\\Local\\Programs\\Python\\Python39\\lib\\site-packages\\transformers\\generation\\utils.py:1353: UserWarning: Using `max_length`'s default (20) to control the generation length. This behaviour is deprecated and will be removed from the config in v5 of Transformers -- we recommend using `max_new_tokens` to control the maximum length of the generation.\n",
      "  warnings.warn(\n"
     ]
    },
    {
     "name": "stdout",
     "output_type": "stream",
     "text": [
      "{'dataset_name': 'dotsa/new_Clothing_test', 'sentence': \"These are , without a doubt , the BEST tights EVER . They are comfortable , do n't move around too much ( i . e . sliding down , riding up ) , and they 've got full coverage and make your legs look great . Totally worth the money .\", 'aspect': 'tights', 'polarity': 'Positive', 'sentiment_t5': 'Positive'}\n",
      "Review: Lovely shoe . Looks great . Perfect height of heel for long hours on your feet but fit is small . Ordered 1/2 size larger and it was still a bit short as well as too wide . Very disappointed because I really liked the style .\n",
      "        Aspect: shoe--style\n",
      "        Predict the sentiment for mentioned aspect in the review. Assign one of the following sentiment to the aspect: Positive , Negative , Neutral.\n",
      "        Please provide the sentiment only. No any explanation or extra text\n"
     ]
    },
    {
     "name": "stderr",
     "output_type": "stream",
     "text": [
      "C:\\Users\\Nimra\\AppData\\Local\\Temp\\ipykernel_16236\\2877642716.py:27: FutureWarning: The frame.append method is deprecated and will be removed from pandas in a future version. Use pandas.concat instead.\n",
      "  temp = temp.append(data_to_append, ignore_index=True)\n",
      "c:\\Users\\Nimra\\AppData\\Local\\Programs\\Python\\Python39\\lib\\site-packages\\transformers\\generation\\utils.py:1353: UserWarning: Using `max_length`'s default (20) to control the generation length. This behaviour is deprecated and will be removed from the config in v5 of Transformers -- we recommend using `max_new_tokens` to control the maximum length of the generation.\n",
      "  warnings.warn(\n"
     ]
    },
    {
     "name": "stdout",
     "output_type": "stream",
     "text": [
      "{'dataset_name': 'dotsa/new_Clothing_test', 'sentence': 'Lovely shoe . Looks great . Perfect height of heel for long hours on your feet but fit is small . Ordered 1/2 size larger and it was still a bit short as well as too wide . Very disappointed because I really liked the style .', 'aspect': 'shoe--style', 'polarity': 'Positive', 'sentiment_t5': 'Negative'}\n",
      "Review: Lovely shoe . Looks great . Perfect height of heel for long hours on your feet but fit is small . Ordered 1/2 size larger and it was still a bit short as well as too wide . Very disappointed because I really liked the style .\n",
      "        Aspect:  shoe\n",
      "        Predict the sentiment for mentioned aspect in the review. Assign one of the following sentiment to the aspect: Positive , Negative , Neutral.\n",
      "        Please provide the sentiment only. No any explanation or extra text\n"
     ]
    },
    {
     "name": "stderr",
     "output_type": "stream",
     "text": [
      "C:\\Users\\Nimra\\AppData\\Local\\Temp\\ipykernel_16236\\2877642716.py:27: FutureWarning: The frame.append method is deprecated and will be removed from pandas in a future version. Use pandas.concat instead.\n",
      "  temp = temp.append(data_to_append, ignore_index=True)\n",
      "c:\\Users\\Nimra\\AppData\\Local\\Programs\\Python\\Python39\\lib\\site-packages\\transformers\\generation\\utils.py:1353: UserWarning: Using `max_length`'s default (20) to control the generation length. This behaviour is deprecated and will be removed from the config in v5 of Transformers -- we recommend using `max_new_tokens` to control the maximum length of the generation.\n",
      "  warnings.warn(\n"
     ]
    },
    {
     "name": "stdout",
     "output_type": "stream",
     "text": [
      "{'dataset_name': 'dotsa/new_Clothing_test', 'sentence': 'Lovely shoe . Looks great . Perfect height of heel for long hours on your feet but fit is small . Ordered 1/2 size larger and it was still a bit short as well as too wide . Very disappointed because I really liked the style .', 'aspect': ' shoe', 'polarity': ' Positive', 'sentiment_t5': 'Negative'}\n",
      "Review: Lovely shoe . Looks great . Perfect height of heel for long hours on your feet but fit is small . Ordered 1/2 size larger and it was still a bit short as well as too wide . Very disappointed because I really liked the style .\n",
      "        Aspect:  shoe--height of heel\n",
      "        Predict the sentiment for mentioned aspect in the review. Assign one of the following sentiment to the aspect: Positive , Negative , Neutral.\n",
      "        Please provide the sentiment only. No any explanation or extra text\n"
     ]
    },
    {
     "name": "stderr",
     "output_type": "stream",
     "text": [
      "C:\\Users\\Nimra\\AppData\\Local\\Temp\\ipykernel_16236\\2877642716.py:27: FutureWarning: The frame.append method is deprecated and will be removed from pandas in a future version. Use pandas.concat instead.\n",
      "  temp = temp.append(data_to_append, ignore_index=True)\n",
      "c:\\Users\\Nimra\\AppData\\Local\\Programs\\Python\\Python39\\lib\\site-packages\\transformers\\generation\\utils.py:1353: UserWarning: Using `max_length`'s default (20) to control the generation length. This behaviour is deprecated and will be removed from the config in v5 of Transformers -- we recommend using `max_new_tokens` to control the maximum length of the generation.\n",
      "  warnings.warn(\n"
     ]
    },
    {
     "name": "stdout",
     "output_type": "stream",
     "text": [
      "{'dataset_name': 'dotsa/new_Clothing_test', 'sentence': 'Lovely shoe . Looks great . Perfect height of heel for long hours on your feet but fit is small . Ordered 1/2 size larger and it was still a bit short as well as too wide . Very disappointed because I really liked the style .', 'aspect': ' shoe--height of heel', 'polarity': ' Positive', 'sentiment_t5': 'Negative'}\n",
      "Review: Lovely shoe . Looks great . Perfect height of heel for long hours on your feet but fit is small . Ordered 1/2 size larger and it was still a bit short as well as too wide . Very disappointed because I really liked the style .\n",
      "        Aspect:  it\n",
      "        Predict the sentiment for mentioned aspect in the review. Assign one of the following sentiment to the aspect: Positive , Negative , Neutral.\n",
      "        Please provide the sentiment only. No any explanation or extra text\n"
     ]
    },
    {
     "name": "stderr",
     "output_type": "stream",
     "text": [
      "C:\\Users\\Nimra\\AppData\\Local\\Temp\\ipykernel_16236\\2877642716.py:27: FutureWarning: The frame.append method is deprecated and will be removed from pandas in a future version. Use pandas.concat instead.\n",
      "  temp = temp.append(data_to_append, ignore_index=True)\n",
      "c:\\Users\\Nimra\\AppData\\Local\\Programs\\Python\\Python39\\lib\\site-packages\\transformers\\generation\\utils.py:1353: UserWarning: Using `max_length`'s default (20) to control the generation length. This behaviour is deprecated and will be removed from the config in v5 of Transformers -- we recommend using `max_new_tokens` to control the maximum length of the generation.\n",
      "  warnings.warn(\n"
     ]
    },
    {
     "name": "stdout",
     "output_type": "stream",
     "text": [
      "{'dataset_name': 'dotsa/new_Clothing_test', 'sentence': 'Lovely shoe . Looks great . Perfect height of heel for long hours on your feet but fit is small . Ordered 1/2 size larger and it was still a bit short as well as too wide . Very disappointed because I really liked the style .', 'aspect': ' it', 'polarity': ' Negative', 'sentiment_t5': 'Negative'}\n",
      "Review: I have purchased these sandals two times - first time 3 years ago ! They look cute , fit well , have good support and last . I think they have discontinued them and that 's too bad because they are perfect .\n",
      "        Aspect: sandals\n",
      "        Predict the sentiment for mentioned aspect in the review. Assign one of the following sentiment to the aspect: Positive , Negative , Neutral.\n",
      "        Please provide the sentiment only. No any explanation or extra text\n"
     ]
    },
    {
     "name": "stderr",
     "output_type": "stream",
     "text": [
      "C:\\Users\\Nimra\\AppData\\Local\\Temp\\ipykernel_16236\\2877642716.py:27: FutureWarning: The frame.append method is deprecated and will be removed from pandas in a future version. Use pandas.concat instead.\n",
      "  temp = temp.append(data_to_append, ignore_index=True)\n",
      "c:\\Users\\Nimra\\AppData\\Local\\Programs\\Python\\Python39\\lib\\site-packages\\transformers\\generation\\utils.py:1353: UserWarning: Using `max_length`'s default (20) to control the generation length. This behaviour is deprecated and will be removed from the config in v5 of Transformers -- we recommend using `max_new_tokens` to control the maximum length of the generation.\n",
      "  warnings.warn(\n"
     ]
    },
    {
     "name": "stdout",
     "output_type": "stream",
     "text": [
      "{'dataset_name': 'dotsa/new_Clothing_test', 'sentence': \"I have purchased these sandals two times - first time 3 years ago ! They look cute , fit well , have good support and last . I think they have discontinued them and that 's too bad because they are perfect .\", 'aspect': 'sandals', 'polarity': 'Positive', 'sentiment_t5': 'Positive'}\n",
      "Review: I love this watch ! I have a small wrist ( about 5 . 5 ) and larger watches never look nice . This watch is tiny and the perfect size for me . It has a few links that you can remove yourself , but I still need to go get 2 more taken out . Amazon shipped quickly , the watch is beautiful and I am very happy .\n",
      "        Aspect: watch\n",
      "        Predict the sentiment for mentioned aspect in the review. Assign one of the following sentiment to the aspect: Positive , Negative , Neutral.\n",
      "        Please provide the sentiment only. No any explanation or extra text\n"
     ]
    },
    {
     "name": "stderr",
     "output_type": "stream",
     "text": [
      "C:\\Users\\Nimra\\AppData\\Local\\Temp\\ipykernel_16236\\2877642716.py:27: FutureWarning: The frame.append method is deprecated and will be removed from pandas in a future version. Use pandas.concat instead.\n",
      "  temp = temp.append(data_to_append, ignore_index=True)\n",
      "c:\\Users\\Nimra\\AppData\\Local\\Programs\\Python\\Python39\\lib\\site-packages\\transformers\\generation\\utils.py:1353: UserWarning: Using `max_length`'s default (20) to control the generation length. This behaviour is deprecated and will be removed from the config in v5 of Transformers -- we recommend using `max_new_tokens` to control the maximum length of the generation.\n",
      "  warnings.warn(\n"
     ]
    },
    {
     "name": "stdout",
     "output_type": "stream",
     "text": [
      "{'dataset_name': 'dotsa/new_Clothing_test', 'sentence': 'I love this watch ! I have a small wrist ( about 5 . 5 ) and larger watches never look nice . This watch is tiny and the perfect size for me . It has a few links that you can remove yourself , but I still need to go get 2 more taken out . Amazon shipped quickly , the watch is beautiful and I am very happy .', 'aspect': 'watch', 'polarity': 'Mixed', 'sentiment_t5': 'Positive'}\n",
      "Review: I love this watch ! I have a small wrist ( about 5 . 5 ) and larger watches never look nice . This watch is tiny and the perfect size for me . It has a few links that you can remove yourself , but I still need to go get 2 more taken out . Amazon shipped quickly , the watch is beautiful and I am very happy .\n",
      "        Aspect:  amazon\n",
      "        Predict the sentiment for mentioned aspect in the review. Assign one of the following sentiment to the aspect: Positive , Negative , Neutral.\n",
      "        Please provide the sentiment only. No any explanation or extra text\n"
     ]
    },
    {
     "name": "stderr",
     "output_type": "stream",
     "text": [
      "C:\\Users\\Nimra\\AppData\\Local\\Temp\\ipykernel_16236\\2877642716.py:27: FutureWarning: The frame.append method is deprecated and will be removed from pandas in a future version. Use pandas.concat instead.\n",
      "  temp = temp.append(data_to_append, ignore_index=True)\n",
      "c:\\Users\\Nimra\\AppData\\Local\\Programs\\Python\\Python39\\lib\\site-packages\\transformers\\generation\\utils.py:1353: UserWarning: Using `max_length`'s default (20) to control the generation length. This behaviour is deprecated and will be removed from the config in v5 of Transformers -- we recommend using `max_new_tokens` to control the maximum length of the generation.\n",
      "  warnings.warn(\n"
     ]
    },
    {
     "name": "stdout",
     "output_type": "stream",
     "text": [
      "{'dataset_name': 'dotsa/new_Clothing_test', 'sentence': 'I love this watch ! I have a small wrist ( about 5 . 5 ) and larger watches never look nice . This watch is tiny and the perfect size for me . It has a few links that you can remove yourself , but I still need to go get 2 more taken out . Amazon shipped quickly , the watch is beautiful and I am very happy .', 'aspect': ' Amazon', 'polarity': ' Positive', 'sentiment_t5': 'Positive'}\n",
      "Review: I love this watch ! I have a small wrist ( about 5 . 5 ) and larger watches never look nice . This watch is tiny and the perfect size for me . It has a few links that you can remove yourself , but I still need to go get 2 more taken out . Amazon shipped quickly , the watch is beautiful and I am very happy .\n",
      "        Aspect:  watch--size\n",
      "        Predict the sentiment for mentioned aspect in the review. Assign one of the following sentiment to the aspect: Positive , Negative , Neutral.\n",
      "        Please provide the sentiment only. No any explanation or extra text\n"
     ]
    },
    {
     "name": "stderr",
     "output_type": "stream",
     "text": [
      "C:\\Users\\Nimra\\AppData\\Local\\Temp\\ipykernel_16236\\2877642716.py:27: FutureWarning: The frame.append method is deprecated and will be removed from pandas in a future version. Use pandas.concat instead.\n",
      "  temp = temp.append(data_to_append, ignore_index=True)\n",
      "c:\\Users\\Nimra\\AppData\\Local\\Programs\\Python\\Python39\\lib\\site-packages\\transformers\\generation\\utils.py:1353: UserWarning: Using `max_length`'s default (20) to control the generation length. This behaviour is deprecated and will be removed from the config in v5 of Transformers -- we recommend using `max_new_tokens` to control the maximum length of the generation.\n",
      "  warnings.warn(\n"
     ]
    },
    {
     "name": "stdout",
     "output_type": "stream",
     "text": [
      "{'dataset_name': 'dotsa/new_Clothing_test', 'sentence': 'I love this watch ! I have a small wrist ( about 5 . 5 ) and larger watches never look nice . This watch is tiny and the perfect size for me . It has a few links that you can remove yourself , but I still need to go get 2 more taken out . Amazon shipped quickly , the watch is beautiful and I am very happy .', 'aspect': ' watch--size', 'polarity': ' Positive', 'sentiment_t5': 'Positive'}\n"
     ]
    },
    {
     "name": "stderr",
     "output_type": "stream",
     "text": [
      "C:\\Users\\Nimra\\AppData\\Local\\Temp\\ipykernel_16236\\2877642716.py:27: FutureWarning: The frame.append method is deprecated and will be removed from pandas in a future version. Use pandas.concat instead.\n",
      "  temp = temp.append(data_to_append, ignore_index=True)\n"
     ]
    }
   ],
   "source": [
    "import ast\n",
    "print(len(df), len(res))\n",
    "# for sentence, aspects, sentiments in zip(df['Text'][len(res):1],df['Aspect'][len(res):1], df['Sentiment'][len(res):1]):\n",
    "for sentence, aspects, sentiments in zip(df['Text'][len(res):],df['Aspect'][len(res):], df['Sentiment'][len(res):]):\n",
    "    for aspec, senti in zip(aspects.split(','), sentiments.split(',')):\n",
    "    # for aspec, senti in zip(ast.literal_eval(aspects), ast.literal_eval(sentiments)):\n",
    "    \n",
    "        temp = pd.DataFrame(columns=['dataset_name', 'sentence', 'aspect', 'polarity', 'sentiment_t5'])   \n",
    "        prompt = f\"\"\"Review: {sentence}\n",
    "        Aspect: {aspec.replace('#', ' ').lower()}\n",
    "        Predict the sentiment for mentioned aspect in the review. Assign one of the following sentiment to the aspect: Positive , Negative , Neutral.\n",
    "        Please provide the sentiment only. No any explanation or extra text\"\"\"\n",
    "        print(prompt)\n",
    "        input_ids = tokenizer(prompt, return_tensors=\"pt\").to(\"cuda\").input_ids\n",
    "        instruct_model_outputs = model.generate(input_ids=input_ids)\n",
    "        instruct_model_text_output = tokenizer.decode(instruct_model_outputs[0], skip_special_tokens=True)\n",
    "\n",
    "        data_to_append = {\n",
    "        'dataset_name': data_path+filename,\n",
    "        'sentence': sentence,\n",
    "        'aspect': aspec,\n",
    "        'polarity': senti,\n",
    "        'sentiment_t5': instruct_model_text_output \n",
    "        }\n",
    "\n",
    "        print(data_to_append)\n",
    "        temp = temp.append(data_to_append, ignore_index=True)   \n",
    "        file_path = path+data_path+filename+\"_t5.csv\"\n",
    "        if os.path.exists(file_path):   \n",
    "            temp.to_csv(file_path, index=False, mode='a', header=False)\n",
    "        else:\n",
    "            temp.to_csv(file_path, index=False, mode='a')\n",
    "    "
   ]
  },
  {
   "cell_type": "code",
   "execution_count": 38,
   "metadata": {},
   "outputs": [
    {
     "data": {
      "text/plain": [
       "'d:\\\\ABSA work\\\\codes'"
      ]
     },
     "execution_count": 38,
     "metadata": {},
     "output_type": "execute_result"
    }
   ],
   "source": [
    "%pwd"
   ]
  },
  {
   "cell_type": "code",
   "execution_count": null,
   "metadata": {},
   "outputs": [],
   "source": []
  }
 ],
 "metadata": {
  "kernelspec": {
   "display_name": "Python 3",
   "language": "python",
   "name": "python3"
  },
  "language_info": {
   "codemirror_mode": {
    "name": "ipython",
    "version": 3
   },
   "file_extension": ".py",
   "mimetype": "text/x-python",
   "name": "python",
   "nbconvert_exporter": "python",
   "pygments_lexer": "ipython3",
   "version": "3.9.13"
  },
  "orig_nbformat": 4
 },
 "nbformat": 4,
 "nbformat_minor": 2
}
